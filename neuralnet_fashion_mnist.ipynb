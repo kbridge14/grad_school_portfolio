{
 "cells": [
  {
   "cell_type": "code",
   "execution_count": 1,
   "metadata": {},
   "outputs": [],
   "source": [
    "import os\n",
    "import numpy as np\n",
    "import pandas as pd\n",
    "import tensorflow as tf\n",
    "from tensorflow import keras\n",
    "import matplotlib.pyplot as plt"
   ]
  },
  {
   "cell_type": "code",
   "execution_count": 2,
   "metadata": {},
   "outputs": [
    {
     "name": "stdout",
     "output_type": "stream",
     "text": [
      "Downloading data from https://storage.googleapis.com/tensorflow/tf-keras-datasets/train-labels-idx1-ubyte.gz\n",
      "32768/29515 [=================================] - 0s 1us/step\n",
      "Downloading data from https://storage.googleapis.com/tensorflow/tf-keras-datasets/train-images-idx3-ubyte.gz\n",
      "26427392/26421880 [==============================] - 3s 0us/step\n",
      "Downloading data from https://storage.googleapis.com/tensorflow/tf-keras-datasets/t10k-labels-idx1-ubyte.gz\n",
      "8192/5148 [===============================================] - 0s 0us/step\n",
      "Downloading data from https://storage.googleapis.com/tensorflow/tf-keras-datasets/t10k-images-idx3-ubyte.gz\n",
      "4423680/4422102 [==============================] - 1s 0us/step\n"
     ]
    }
   ],
   "source": [
    "fashion_mnist = keras.datasets.fashion_mnist\n",
    "(X_train_full, y_train_full), (X_test, y_test) = fashion_mnist.load_data()"
   ]
  },
  {
   "cell_type": "code",
   "execution_count": 3,
   "metadata": {},
   "outputs": [
    {
     "data": {
      "text/plain": [
       "(60000, 28, 28)"
      ]
     },
     "execution_count": 3,
     "metadata": {},
     "output_type": "execute_result"
    }
   ],
   "source": [
    "X_train_full.shape\n"
   ]
  },
  {
   "cell_type": "code",
   "execution_count": 4,
   "metadata": {},
   "outputs": [
    {
     "data": {
      "text/plain": [
       "dtype('uint8')"
      ]
     },
     "execution_count": 4,
     "metadata": {},
     "output_type": "execute_result"
    }
   ],
   "source": [
    "X_train_full.dtype"
   ]
  },
  {
   "cell_type": "code",
   "execution_count": 5,
   "metadata": {},
   "outputs": [],
   "source": [
    "X_valid, X_train = X_train_full[:5000] / 255.0, X_train_full[5000:] / 255.0\n",
    "y_valid, y_train = y_train_full[:5000], y_train_full[5000:]\n",
    "X_test = X_test / 255.0"
   ]
  },
  {
   "cell_type": "code",
   "execution_count": 6,
   "metadata": {},
   "outputs": [],
   "source": [
    "class_names = [\"T-shirt/top\", \"Trouser\", \"Pullover\", \"Dress\", \"Coat\",\n",
    "               \"Sandal\", \"Shirt\", \"Sneaker\", \"Bag\", \"Ankle boot\"]"
   ]
  },
  {
   "cell_type": "code",
   "execution_count": 7,
   "metadata": {},
   "outputs": [
    {
     "data": {
      "text/plain": [
       "'Coat'"
      ]
     },
     "execution_count": 7,
     "metadata": {},
     "output_type": "execute_result"
    }
   ],
   "source": [
    "class_names[y_train[0]]"
   ]
  },
  {
   "cell_type": "code",
   "execution_count": 8,
   "metadata": {},
   "outputs": [],
   "source": [
    "#classification MLP with two hidden layers\n",
    "model = keras.models.Sequential()\n",
    "model.add(keras.layers.Flatten(input_shape=[28, 28]))\n",
    "model.add(keras.layers.Dense(300, activation=\"relu\"))\n",
    "model.add(keras.layers.Dense(100, activation=\"relu\"))\n",
    "model.add(keras.layers.Dense(10, activation=\"softmax\"))"
   ]
  },
  {
   "cell_type": "code",
   "execution_count": 9,
   "metadata": {},
   "outputs": [
    {
     "name": "stdout",
     "output_type": "stream",
     "text": [
      "Model: \"sequential\"\n",
      "_________________________________________________________________\n",
      "Layer (type)                 Output Shape              Param #   \n",
      "=================================================================\n",
      "flatten (Flatten)            (None, 784)               0         \n",
      "_________________________________________________________________\n",
      "dense (Dense)                (None, 300)               235500    \n",
      "_________________________________________________________________\n",
      "dense_1 (Dense)              (None, 100)               30100     \n",
      "_________________________________________________________________\n",
      "dense_2 (Dense)              (None, 10)                1010      \n",
      "=================================================================\n",
      "Total params: 266,610\n",
      "Trainable params: 266,610\n",
      "Non-trainable params: 0\n",
      "_________________________________________________________________\n"
     ]
    }
   ],
   "source": [
    "model.summary()"
   ]
  },
  {
   "cell_type": "code",
   "execution_count": 10,
   "metadata": {},
   "outputs": [
    {
     "data": {
      "text/plain": [
       "[<tensorflow.python.keras.layers.core.Flatten at 0x13e33b890>,\n",
       " <tensorflow.python.keras.layers.core.Dense at 0x13e33ba90>,\n",
       " <tensorflow.python.keras.layers.core.Dense at 0x13e37db50>,\n",
       " <tensorflow.python.keras.layers.core.Dense at 0x13e37de10>]"
      ]
     },
     "execution_count": 10,
     "metadata": {},
     "output_type": "execute_result"
    }
   ],
   "source": [
    "model.layers"
   ]
  },
  {
   "cell_type": "code",
   "execution_count": 11,
   "metadata": {},
   "outputs": [
    {
     "data": {
      "text/plain": [
       "'dense'"
      ]
     },
     "execution_count": 11,
     "metadata": {},
     "output_type": "execute_result"
    }
   ],
   "source": [
    "hidden1 = model.layers[1]\n",
    "hidden1.name"
   ]
  },
  {
   "cell_type": "code",
   "execution_count": 14,
   "metadata": {},
   "outputs": [
    {
     "data": {
      "text/plain": [
       "False"
      ]
     },
     "execution_count": 14,
     "metadata": {},
     "output_type": "execute_result"
    }
   ],
   "source": [
    "model.get_layer('dense_2') is hidden1"
   ]
  },
  {
   "cell_type": "code",
   "execution_count": 15,
   "metadata": {},
   "outputs": [],
   "source": [
    "weights, biases = hidden1.get_weights()"
   ]
  },
  {
   "cell_type": "code",
   "execution_count": 16,
   "metadata": {},
   "outputs": [
    {
     "data": {
      "text/plain": [
       "array([[-0.00875558, -0.02369837, -0.04199817, ..., -0.03983337,\n",
       "        -0.01815631, -0.04896355],\n",
       "       [ 0.06155784, -0.00855951,  0.00891896, ...,  0.03839222,\n",
       "        -0.07276843,  0.0388697 ],\n",
       "       [ 0.03471227, -0.04278798,  0.00945807, ...,  0.05302344,\n",
       "         0.062701  ,  0.01756614],\n",
       "       ...,\n",
       "       [-0.0166769 , -0.05089623, -0.04239072, ..., -0.0046026 ,\n",
       "         0.01284785,  0.01130863],\n",
       "       [-0.04763614,  0.04023109, -0.00177808, ..., -0.02703534,\n",
       "         0.01514357,  0.06850165],\n",
       "       [-0.05779291, -0.03784306,  0.01019249, ..., -0.06431554,\n",
       "        -0.04786627,  0.03218051]], dtype=float32)"
      ]
     },
     "execution_count": 16,
     "metadata": {},
     "output_type": "execute_result"
    }
   ],
   "source": [
    "weights"
   ]
  },
  {
   "cell_type": "code",
   "execution_count": 17,
   "metadata": {},
   "outputs": [
    {
     "data": {
      "text/plain": [
       "(784, 300)"
      ]
     },
     "execution_count": 17,
     "metadata": {},
     "output_type": "execute_result"
    }
   ],
   "source": [
    "weights.shape"
   ]
  },
  {
   "cell_type": "code",
   "execution_count": 18,
   "metadata": {},
   "outputs": [
    {
     "data": {
      "text/plain": [
       "array([0., 0., 0., 0., 0., 0., 0., 0., 0., 0., 0., 0., 0., 0., 0., 0., 0.,\n",
       "       0., 0., 0., 0., 0., 0., 0., 0., 0., 0., 0., 0., 0., 0., 0., 0., 0.,\n",
       "       0., 0., 0., 0., 0., 0., 0., 0., 0., 0., 0., 0., 0., 0., 0., 0., 0.,\n",
       "       0., 0., 0., 0., 0., 0., 0., 0., 0., 0., 0., 0., 0., 0., 0., 0., 0.,\n",
       "       0., 0., 0., 0., 0., 0., 0., 0., 0., 0., 0., 0., 0., 0., 0., 0., 0.,\n",
       "       0., 0., 0., 0., 0., 0., 0., 0., 0., 0., 0., 0., 0., 0., 0., 0., 0.,\n",
       "       0., 0., 0., 0., 0., 0., 0., 0., 0., 0., 0., 0., 0., 0., 0., 0., 0.,\n",
       "       0., 0., 0., 0., 0., 0., 0., 0., 0., 0., 0., 0., 0., 0., 0., 0., 0.,\n",
       "       0., 0., 0., 0., 0., 0., 0., 0., 0., 0., 0., 0., 0., 0., 0., 0., 0.,\n",
       "       0., 0., 0., 0., 0., 0., 0., 0., 0., 0., 0., 0., 0., 0., 0., 0., 0.,\n",
       "       0., 0., 0., 0., 0., 0., 0., 0., 0., 0., 0., 0., 0., 0., 0., 0., 0.,\n",
       "       0., 0., 0., 0., 0., 0., 0., 0., 0., 0., 0., 0., 0., 0., 0., 0., 0.,\n",
       "       0., 0., 0., 0., 0., 0., 0., 0., 0., 0., 0., 0., 0., 0., 0., 0., 0.,\n",
       "       0., 0., 0., 0., 0., 0., 0., 0., 0., 0., 0., 0., 0., 0., 0., 0., 0.,\n",
       "       0., 0., 0., 0., 0., 0., 0., 0., 0., 0., 0., 0., 0., 0., 0., 0., 0.,\n",
       "       0., 0., 0., 0., 0., 0., 0., 0., 0., 0., 0., 0., 0., 0., 0., 0., 0.,\n",
       "       0., 0., 0., 0., 0., 0., 0., 0., 0., 0., 0., 0., 0., 0., 0., 0., 0.,\n",
       "       0., 0., 0., 0., 0., 0., 0., 0., 0., 0., 0.], dtype=float32)"
      ]
     },
     "execution_count": 18,
     "metadata": {},
     "output_type": "execute_result"
    }
   ],
   "source": [
    "biases"
   ]
  },
  {
   "cell_type": "code",
   "execution_count": 19,
   "metadata": {},
   "outputs": [
    {
     "data": {
      "text/plain": [
       "(300,)"
      ]
     },
     "execution_count": 19,
     "metadata": {},
     "output_type": "execute_result"
    }
   ],
   "source": [
    "biases.shape"
   ]
  },
  {
   "cell_type": "code",
   "execution_count": 20,
   "metadata": {},
   "outputs": [],
   "source": [
    "model.compile(loss=\"sparse_categorical_crossentropy\",\n",
    "              optimizer=\"sgd\",\n",
    "              metrics=[\"accuracy\"])"
   ]
  },
  {
   "cell_type": "code",
   "execution_count": 21,
   "metadata": {},
   "outputs": [
    {
     "name": "stdout",
     "output_type": "stream",
     "text": [
      "Epoch 1/30\n",
      "1719/1719 [==============================] - 6s 4ms/step - loss: 0.7117 - accuracy: 0.7649 - val_loss: 0.5059 - val_accuracy: 0.8284\n",
      "Epoch 2/30\n",
      "1719/1719 [==============================] - 5s 3ms/step - loss: 0.4891 - accuracy: 0.8289 - val_loss: 0.4688 - val_accuracy: 0.8350\n",
      "Epoch 3/30\n",
      "1719/1719 [==============================] - 6s 3ms/step - loss: 0.4422 - accuracy: 0.8430 - val_loss: 0.4462 - val_accuracy: 0.8444\n",
      "Epoch 4/30\n",
      "1719/1719 [==============================] - 6s 3ms/step - loss: 0.4156 - accuracy: 0.8530 - val_loss: 0.4165 - val_accuracy: 0.8546\n",
      "Epoch 5/30\n",
      "1719/1719 [==============================] - 5s 3ms/step - loss: 0.3945 - accuracy: 0.8609 - val_loss: 0.4086 - val_accuracy: 0.8544\n",
      "Epoch 6/30\n",
      "1719/1719 [==============================] - 5s 3ms/step - loss: 0.3790 - accuracy: 0.8675 - val_loss: 0.3705 - val_accuracy: 0.8708\n",
      "Epoch 7/30\n",
      "1719/1719 [==============================] - 5s 3ms/step - loss: 0.3646 - accuracy: 0.8715 - val_loss: 0.3949 - val_accuracy: 0.8604\n",
      "Epoch 8/30\n",
      "1719/1719 [==============================] - 5s 3ms/step - loss: 0.3540 - accuracy: 0.8743 - val_loss: 0.3521 - val_accuracy: 0.8762\n",
      "Epoch 9/30\n",
      "1719/1719 [==============================] - 5s 3ms/step - loss: 0.3438 - accuracy: 0.8791 - val_loss: 0.3585 - val_accuracy: 0.8776\n",
      "Epoch 10/30\n",
      "1719/1719 [==============================] - 4s 3ms/step - loss: 0.3349 - accuracy: 0.8804 - val_loss: 0.3551 - val_accuracy: 0.8770\n",
      "Epoch 11/30\n",
      "1719/1719 [==============================] - 5s 3ms/step - loss: 0.3264 - accuracy: 0.8823 - val_loss: 0.3360 - val_accuracy: 0.8780\n",
      "Epoch 12/30\n",
      "1719/1719 [==============================] - 5s 3ms/step - loss: 0.3195 - accuracy: 0.8859 - val_loss: 0.3311 - val_accuracy: 0.8828\n",
      "Epoch 13/30\n",
      "1719/1719 [==============================] - 5s 3ms/step - loss: 0.3118 - accuracy: 0.8880 - val_loss: 0.3283 - val_accuracy: 0.8830\n",
      "Epoch 14/30\n",
      "1719/1719 [==============================] - 4s 3ms/step - loss: 0.3045 - accuracy: 0.8902 - val_loss: 0.3226 - val_accuracy: 0.8822\n",
      "Epoch 15/30\n",
      "1719/1719 [==============================] - 4s 3ms/step - loss: 0.2983 - accuracy: 0.8925 - val_loss: 0.3220 - val_accuracy: 0.8828\n",
      "Epoch 16/30\n",
      "1719/1719 [==============================] - 4s 3ms/step - loss: 0.2929 - accuracy: 0.8944 - val_loss: 0.3205 - val_accuracy: 0.8814\n",
      "Epoch 17/30\n",
      "1719/1719 [==============================] - 5s 3ms/step - loss: 0.2874 - accuracy: 0.8973 - val_loss: 0.3300 - val_accuracy: 0.8806\n",
      "Epoch 18/30\n",
      "1719/1719 [==============================] - 5s 3ms/step - loss: 0.2814 - accuracy: 0.8978 - val_loss: 0.3115 - val_accuracy: 0.8854\n",
      "Epoch 19/30\n",
      "1719/1719 [==============================] - 5s 3ms/step - loss: 0.2766 - accuracy: 0.9009 - val_loss: 0.3064 - val_accuracy: 0.8870\n",
      "Epoch 20/30\n",
      "1719/1719 [==============================] - 5s 3ms/step - loss: 0.2714 - accuracy: 0.9016 - val_loss: 0.3128 - val_accuracy: 0.8886\n",
      "Epoch 21/30\n",
      "1719/1719 [==============================] - 5s 3ms/step - loss: 0.2664 - accuracy: 0.9042 - val_loss: 0.3123 - val_accuracy: 0.8886\n",
      "Epoch 22/30\n",
      "1719/1719 [==============================] - 6s 3ms/step - loss: 0.2622 - accuracy: 0.9049 - val_loss: 0.3123 - val_accuracy: 0.8880\n",
      "Epoch 23/30\n",
      "1719/1719 [==============================] - 6s 3ms/step - loss: 0.2572 - accuracy: 0.9079 - val_loss: 0.3108 - val_accuracy: 0.8880\n",
      "Epoch 24/30\n",
      "1719/1719 [==============================] - 6s 4ms/step - loss: 0.2524 - accuracy: 0.9101 - val_loss: 0.2998 - val_accuracy: 0.8922\n",
      "Epoch 25/30\n",
      "1719/1719 [==============================] - 6s 4ms/step - loss: 0.2485 - accuracy: 0.9108 - val_loss: 0.3075 - val_accuracy: 0.8878\n",
      "Epoch 26/30\n",
      "1719/1719 [==============================] - 6s 4ms/step - loss: 0.2441 - accuracy: 0.9112 - val_loss: 0.3038 - val_accuracy: 0.8886\n",
      "Epoch 27/30\n",
      "1719/1719 [==============================] - 6s 3ms/step - loss: 0.2406 - accuracy: 0.9135 - val_loss: 0.2859 - val_accuracy: 0.8992\n",
      "Epoch 28/30\n",
      "1719/1719 [==============================] - 7s 4ms/step - loss: 0.2358 - accuracy: 0.9143 - val_loss: 0.2946 - val_accuracy: 0.8912\n",
      "Epoch 29/30\n",
      "1719/1719 [==============================] - 6s 4ms/step - loss: 0.2321 - accuracy: 0.9158 - val_loss: 0.2957 - val_accuracy: 0.8930\n",
      "Epoch 30/30\n",
      "1719/1719 [==============================] - 6s 4ms/step - loss: 0.2279 - accuracy: 0.9179 - val_loss: 0.2886 - val_accuracy: 0.8964\n"
     ]
    }
   ],
   "source": [
    "history = model.fit(X_train, y_train, epochs=30,\n",
    "                     validation_data=(X_valid, y_valid))"
   ]
  },
  {
   "cell_type": "code",
   "execution_count": 22,
   "metadata": {},
   "outputs": [
    {
     "data": {
      "text/plain": [
       "{'loss': [0.7116661071777344,\n",
       "  0.48907798528671265,\n",
       "  0.4421887695789337,\n",
       "  0.4156191051006317,\n",
       "  0.3945329785346985,\n",
       "  0.3789528012275696,\n",
       "  0.36462274193763733,\n",
       "  0.35399743914604187,\n",
       "  0.34383663535118103,\n",
       "  0.33487898111343384,\n",
       "  0.326424241065979,\n",
       "  0.31949758529663086,\n",
       "  0.31177979707717896,\n",
       "  0.30447137355804443,\n",
       "  0.29832449555397034,\n",
       "  0.2929105758666992,\n",
       "  0.2874312400817871,\n",
       "  0.28135401010513306,\n",
       "  0.27663111686706543,\n",
       "  0.27142664790153503,\n",
       "  0.26642462611198425,\n",
       "  0.26220858097076416,\n",
       "  0.25718483328819275,\n",
       "  0.25238463282585144,\n",
       "  0.24852809309959412,\n",
       "  0.24406331777572632,\n",
       "  0.2406178116798401,\n",
       "  0.23579703271389008,\n",
       "  0.2321360856294632,\n",
       "  0.2278582900762558],\n",
       " 'accuracy': [0.7648545503616333,\n",
       "  0.8289090991020203,\n",
       "  0.8430363535881042,\n",
       "  0.8530363440513611,\n",
       "  0.8609272837638855,\n",
       "  0.8674727082252502,\n",
       "  0.8715272545814514,\n",
       "  0.8743273019790649,\n",
       "  0.8791454434394836,\n",
       "  0.8804181814193726,\n",
       "  0.8822908997535706,\n",
       "  0.8859454393386841,\n",
       "  0.8880363702774048,\n",
       "  0.8902000188827515,\n",
       "  0.8925454616546631,\n",
       "  0.8944000005722046,\n",
       "  0.8972908854484558,\n",
       "  0.8978363871574402,\n",
       "  0.9008908867835999,\n",
       "  0.9016000032424927,\n",
       "  0.9042181968688965,\n",
       "  0.904909074306488,\n",
       "  0.907909095287323,\n",
       "  0.9100909233093262,\n",
       "  0.9108363389968872,\n",
       "  0.9112181663513184,\n",
       "  0.9135090708732605,\n",
       "  0.9142545461654663,\n",
       "  0.9158363342285156,\n",
       "  0.9178727269172668],\n",
       " 'val_loss': [0.5058625340461731,\n",
       "  0.46878868341445923,\n",
       "  0.44624578952789307,\n",
       "  0.41653314232826233,\n",
       "  0.40856102108955383,\n",
       "  0.3704570233821869,\n",
       "  0.39487671852111816,\n",
       "  0.3520641326904297,\n",
       "  0.35854002833366394,\n",
       "  0.35508784651756287,\n",
       "  0.33598774671554565,\n",
       "  0.33112895488739014,\n",
       "  0.32826969027519226,\n",
       "  0.32259953022003174,\n",
       "  0.3220023810863495,\n",
       "  0.32051363587379456,\n",
       "  0.33001577854156494,\n",
       "  0.31152716279029846,\n",
       "  0.3063809275627136,\n",
       "  0.3128379285335541,\n",
       "  0.31226038932800293,\n",
       "  0.3123481869697571,\n",
       "  0.3107621967792511,\n",
       "  0.29976996779441833,\n",
       "  0.3074577748775482,\n",
       "  0.30375829339027405,\n",
       "  0.2858704924583435,\n",
       "  0.29463455080986023,\n",
       "  0.295681357383728,\n",
       "  0.2886316180229187],\n",
       " 'val_accuracy': [0.8284000158309937,\n",
       "  0.8349999785423279,\n",
       "  0.8443999886512756,\n",
       "  0.8546000123023987,\n",
       "  0.8543999791145325,\n",
       "  0.8708000183105469,\n",
       "  0.8604000210762024,\n",
       "  0.8762000203132629,\n",
       "  0.8776000142097473,\n",
       "  0.8769999742507935,\n",
       "  0.878000020980835,\n",
       "  0.8827999830245972,\n",
       "  0.8830000162124634,\n",
       "  0.8822000026702881,\n",
       "  0.8827999830245972,\n",
       "  0.8813999891281128,\n",
       "  0.8805999755859375,\n",
       "  0.8853999972343445,\n",
       "  0.8870000243186951,\n",
       "  0.8885999917984009,\n",
       "  0.8885999917984009,\n",
       "  0.8880000114440918,\n",
       "  0.8880000114440918,\n",
       "  0.8921999931335449,\n",
       "  0.8877999782562256,\n",
       "  0.8885999917984009,\n",
       "  0.8992000222206116,\n",
       "  0.8912000060081482,\n",
       "  0.8930000066757202,\n",
       "  0.896399974822998]}"
      ]
     },
     "execution_count": 22,
     "metadata": {},
     "output_type": "execute_result"
    }
   ],
   "source": [
    "history.history"
   ]
  },
  {
   "cell_type": "code",
   "execution_count": 23,
   "metadata": {},
   "outputs": [
    {
     "data": {
      "image/png": "[encoded data removed]",
      "text/plain": [
       "<Figure size 576x360 with 1 Axes>"
      ]
     },
     "metadata": {
      "needs_background": "light"
     },
     "output_type": "display_data"
    }
   ],
   "source": [
    "\n",
    "\n",
    "pd.DataFrame(history.history).plot(figsize=(8, 5))\n",
    "plt.grid(True)\n",
    "plt.gca().set_ylim(0, 1) # set the vertical range to [0-1]\n",
    "plt.show()"
   ]
  },
  {
   "cell_type": "code",
   "execution_count": 24,
   "metadata": {},
   "outputs": [
    {
     "name": "stdout",
     "output_type": "stream",
     "text": [
      "313/313 [==============================] - 1s 2ms/step - loss: 0.3245 - accuracy: 0.8830\n"
     ]
    },
    {
     "data": {
      "text/plain": [
       "[0.3244572877883911, 0.8830000162124634]"
      ]
     },
     "execution_count": 24,
     "metadata": {},
     "output_type": "execute_result"
    }
   ],
   "source": [
    "model.evaluate(X_test, y_test)"
   ]
  },
  {
   "cell_type": "code",
   "execution_count": null,
   "metadata": {},
   "outputs": [],
   "source": []
  }
 ],
 "metadata": {
  "kernelspec": {
   "display_name": "Python 3",
   "language": "python",
   "name": "python3"
  },
  "language_info": {
   "codemirror_mode": {
    "name": "ipython",
    "version": 3
   },
   "file_extension": ".py",
   "mimetype": "text/x-python",
   "name": "python",
   "nbconvert_exporter": "python",
   "pygments_lexer": "ipython3",
   "version": "3.7.4"
  }
 },
 "nbformat": 4,
 "nbformat_minor": 4
}
