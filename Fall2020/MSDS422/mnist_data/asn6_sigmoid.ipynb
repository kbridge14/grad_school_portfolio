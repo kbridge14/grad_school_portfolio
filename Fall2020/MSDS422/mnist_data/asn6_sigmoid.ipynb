{
 "cells": [
  {
   "cell_type": "code",
   "execution_count": 1,
   "metadata": {},
   "outputs": [],
   "source": [
    "# assignment 6\n",
    "# MSDS 422\n",
    "# Professor Anil Chaturvedi\n",
    "\n",
    "# https://github.com/ageron/handson-ml/blob/master/10_introduction_to_artificial_neural_networks.ipynb\n",
    "# https://github.com/ageron/handson-ml/blob/master/11_deep_learning.ipynb\n",
    "# https://github.com/ageron/handson-ml/blob/master/12_distributed_tensorflow.ipynb\n",
    "\n",
    "# more info\n",
    "# https://www.datacamp.com/community/tutorials/cnn-tensorflow-python\n",
    "# https://scikit-learn.org/stable/modules/generated/sklearn.neural_network.MLPClassifier.html\n",
    "\n",
    "# really wonderful resource for noobs\n",
    "# https://machinelearningmastery.com/rectified-linear-activation-function-for-deep-learning-neural-networks/"
   ]
  },
  {
   "cell_type": "markdown",
   "metadata": {},
   "source": [
    "<div style=\"text-align: right\"><b>pkg imports</b></div>"
   ]
  },
  {
   "cell_type": "code",
   "execution_count": 2,
   "metadata": {},
   "outputs": [
    {
     "name": "stderr",
     "output_type": "stream",
     "text": [
      "/opt/anaconda3/lib/python3.7/site-packages/statsmodels/tools/_testing.py:19: FutureWarning: pandas.util.testing is deprecated. Use the functions in the public API at pandas.testing instead.\n",
      "  import pandas.util.testing as tm\n"
     ]
    }
   ],
   "source": [
    "# basix\n",
    "import numpy as np\n",
    "import pandas as pd\n",
    "import seaborn as sns\n",
    "import math\n",
    "import random\n",
    "import time\n",
    "\n",
    "# prep\n",
    "from sklearn.model_selection import train_test_split\n",
    "from sklearn.model_selection import KFold\n",
    "from sklearn.model_selection import GridSearchCV\n",
    "from sklearn.preprocessing import StandardScaler\n",
    "\n",
    "#modeling\n",
    "from sklearn.linear_model import Perceptron\n",
    "from sklearn.neural_network import MLPClassifier\n",
    "import tensorflow as tf\n",
    "from keras.models import Sequential\n",
    "from keras.layers import Flatten\n",
    "from keras.layers import Dense\n",
    "\n",
    "# other\n",
    "\n",
    "%matplotlib inline   \n",
    "import matplotlib.pyplot as plt"
   ]
  },
  {
   "cell_type": "markdown",
   "metadata": {},
   "source": [
    "<div style=\"text-align: right\"><b>configs, table setup</b></div>"
   ]
  },
  {
   "cell_type": "code",
   "execution_count": 3,
   "metadata": {},
   "outputs": [],
   "source": [
    "\"\"\"\n",
    "for sci-kit:\n",
    "‘identity’, no-op activation, useful to implement linear bottleneck, returns f(x) = x\n",
    "‘logistic’, the logistic sigmoid function, returns f(x) = 1 / (1 + exp(-x)).\n",
    "‘tanh’, the hyperbolic tan function, returns f(x) = tanh(x).\n",
    "‘relu’, the rectified linear unit function, returns f(x) = max(0, x)\n",
    "\n",
    "for tf/keras, the same, respectively:\n",
    "linear\n",
    "sigmoid\n",
    "tanh\n",
    "relu\n",
    "\n",
    "also (with tf):\n",
    "selu\n",
    "\"\"\"\n",
    "\n",
    "#sk_act_fun = \"identity\"\n",
    "sk_act_fun = \"logistic\"\n",
    "#sk_act_fun = \"tanh\"\n",
    "#sk_act_fun = \"relu\"\n",
    "\n",
    "tf_act_fun = \"sigmoid\""
   ]
  },
  {
   "cell_type": "code",
   "execution_count": 4,
   "metadata": {},
   "outputs": [],
   "source": [
    "pd.options.display.float_format = \"{:,.4f}\".format\n",
    "RANDOM_SEED = 8675309\n",
    "responseVar = \"label\""
   ]
  },
  {
   "cell_type": "code",
   "execution_count": 5,
   "metadata": {},
   "outputs": [
    {
     "data": {
      "text/html": [
       "<div>\n",
       "<style scoped>\n",
       "    .dataframe tbody tr th:only-of-type {\n",
       "        vertical-align: middle;\n",
       "    }\n",
       "\n",
       "    .dataframe tbody tr th {\n",
       "        vertical-align: top;\n",
       "    }\n",
       "\n",
       "    .dataframe thead th {\n",
       "        text-align: right;\n",
       "    }\n",
       "</style>\n",
       "<table border=\"1\" class=\"dataframe\">\n",
       "  <thead>\n",
       "    <tr style=\"text-align: right;\">\n",
       "      <th></th>\n",
       "      <th>pkg</th>\n",
       "      <th>act'n fn</th>\n",
       "      <th>nbr_layers</th>\n",
       "      <th>nodes_p_layer</th>\n",
       "      <th>processing_time</th>\n",
       "      <th>trainset_acc</th>\n",
       "      <th>testset_acc</th>\n",
       "    </tr>\n",
       "  </thead>\n",
       "  <tbody>\n",
       "    <tr>\n",
       "      <th>model 1</th>\n",
       "      <td>sci-kit</td>\n",
       "      <td>logistic</td>\n",
       "      <td>None</td>\n",
       "      <td>None</td>\n",
       "      <td>None</td>\n",
       "      <td>None</td>\n",
       "      <td>None</td>\n",
       "    </tr>\n",
       "    <tr>\n",
       "      <th>model 2</th>\n",
       "      <td>sci-kit</td>\n",
       "      <td>logistic</td>\n",
       "      <td>None</td>\n",
       "      <td>None</td>\n",
       "      <td>None</td>\n",
       "      <td>None</td>\n",
       "      <td>None</td>\n",
       "    </tr>\n",
       "  </tbody>\n",
       "</table>\n",
       "</div>"
      ],
      "text/plain": [
       "             pkg  act'n fn nbr_layers nodes_p_layer processing_time  \\\n",
       "model 1  sci-kit  logistic       None          None            None   \n",
       "model 2  sci-kit  logistic       None          None            None   \n",
       "\n",
       "        trainset_acc testset_acc  \n",
       "model 1         None        None  \n",
       "model 2         None        None  "
      ]
     },
     "execution_count": 5,
     "metadata": {},
     "output_type": "execute_result"
    }
   ],
   "source": [
    "# setup for consolidated table, later\n",
    "\n",
    "table = {\"model 1\":{\"pkg\":\"sci-kit\",\"act'n fn\":\"logistic\",\"nbr_layers\":None,\"nodes_p_layer\":None,\"processing_time\":None,\"trainset_acc\":None,\"testset_acc\":None},\n",
    "         \"model 2\":{\"pkg\":\"sci-kit\",\"act'n fn\":\"logistic\",\"nbr_layers\":None,\"nodes_p_layer\":None,\"processing_time\":None,\"trainset_acc\":None,\"testset_acc\":None},\n",
    "         \"model 3\":{\"pkg\":\"sci-kit\",\"act'n fn\":\"logistic\",\"nbr_layers\":None,\"nodes_p_layer\":None,\"processing_time\":None,\"trainset_acc\":None,\"testset_acc\":None},\n",
    "         \"model 4\":{\"pkg\":\"sci-kit\",\"act'n fn\":\"logistic\",\"nbr_layers\":None,\"nodes_p_layer\":None,\"processing_time\":None,\"trainset_acc\":None,\"testset_acc\":None},\n",
    "         \"model 5\":{\"pkg\":\"tf/keras\",\"act'n fn\":\"sigmoid\",\"nbr_layers\":None,\"nodes_p_layer\":None,\"processing_time\":None,\"trainset_acc\":None,\"testset_acc\":None},\n",
    "         \"model 6\":{\"pkg\":\"tf/keras\",\"act'n fn\":\"sigmoid\",\"nbr_layers\":None,\"nodes_p_layer\":None,\"processing_time\":None,\"trainset_acc\":None,\"testset_acc\":None},\n",
    "         \"model 7\":{\"pkg\":\"tf/keras\",\"act'n fn\":\"sigmoid\",\"nbr_layers\":None,\"nodes_p_layer\":None,\"processing_time\":None,\"trainset_acc\":None,\"testset_acc\":None},\n",
    "         \"model 8\":{\"pkg\":\"tf/keras\",\"act'n fn\":\"sigmoid\",\"nbr_layers\":None,\"nodes_p_layer\":None,\"processing_time\":None,\"trainset_acc\":None,\"testset_acc\":None}\n",
    "        }\n",
    "\n",
    "pd.DataFrame(table).transpose().head(2)"
   ]
  },
  {
   "cell_type": "markdown",
   "metadata": {},
   "source": [
    "<div style=\"text-align: right\"><b>defining things for model</b></div>"
   ]
  },
  {
   "cell_type": "code",
   "execution_count": 6,
   "metadata": {},
   "outputs": [],
   "source": [
    "# activation function\n",
    "def sigmoid(z):\n",
    "    return 1 / (1 + np.exp(-z))\n",
    "\n",
    "# lambda x: 1 / (1 + np.exp(-x))"
   ]
  },
  {
   "cell_type": "code",
   "execution_count": 7,
   "metadata": {},
   "outputs": [],
   "source": [
    "training_iters = 10\n",
    "learning_rate = 0.01\n",
    "b_size = 128\n",
    "\n",
    "# MNIST data input (img shape: 28*28)\n",
    "n_input = 28\n",
    "\n",
    "# MNIST total classes (0-9 digits)\n",
    "n_classes = 10"
   ]
  },
  {
   "cell_type": "markdown",
   "metadata": {},
   "source": [
    "<div style=\"text-align: right\"><b>data setup for scikit</b></div>"
   ]
  },
  {
   "cell_type": "code",
   "execution_count": 8,
   "metadata": {},
   "outputs": [],
   "source": [
    "sk_mnist_train = pd.read_csv('train.csv')\n",
    "sk_mnist_test = pd.read_csv('test.csv')\n",
    "#sk_mnist = pd.concat([mnist_test, mnist_train.drop(columns = \"label\")]) # combines the rows of 2 datasets"
   ]
  },
  {
   "cell_type": "code",
   "execution_count": 9,
   "metadata": {},
   "outputs": [
    {
     "name": "stdout",
     "output_type": "stream",
     "text": [
      "le shape of le train is le :  (42000, 785)\n",
      "le shape of le test        :  (28000, 784)\n"
     ]
    }
   ],
   "source": [
    "print(\"le shape of le train is le : \", sk_mnist_train.shape)\n",
    "print(\"le shape of le test        : \", sk_mnist_test.shape)"
   ]
  },
  {
   "cell_type": "code",
   "execution_count": 10,
   "metadata": {},
   "outputs": [],
   "source": [
    "# 'test' data is our future data\n",
    "sk_future_data = sk_mnist_test\n",
    "sk_mnist = sk_mnist_train\n",
    "del(sk_mnist_test)\n",
    "del(sk_mnist_train)"
   ]
  },
  {
   "cell_type": "code",
   "execution_count": 11,
   "metadata": {},
   "outputs": [
    {
     "name": "stdout",
     "output_type": "stream",
     "text": [
      "name 'sk_mnist_test' is not defined\n",
      "name 'sk_mnist_train' is not defined\n"
     ]
    }
   ],
   "source": [
    "try:\n",
    "    sk_mnist_test\n",
    "except NameError as e:\n",
    "    print(e) # meow\n",
    "    \n",
    "try:\n",
    "    sk_mnist_train\n",
    "except NameError as e:\n",
    "    print(e) # meow"
   ]
  },
  {
   "cell_type": "code",
   "execution_count": 12,
   "metadata": {},
   "outputs": [],
   "source": [
    "#X = mnist_scaled.loc[:, mnist_scaled.columns != responseVar]\n",
    "#y = mnist_scaled[responseVar]\n",
    "sk_X = sk_mnist.loc[:, sk_mnist.columns != responseVar]\n",
    "sk_y = sk_mnist[responseVar]"
   ]
  },
  {
   "cell_type": "code",
   "execution_count": 13,
   "metadata": {},
   "outputs": [],
   "source": [
    "pixel744 = pd.DataFrame(sk_mnist.describe()[\"pixel774\"]).loc[[\"count\",\"mean\",\"std\",\"min\",\"max\"],]"
   ]
  },
  {
   "cell_type": "code",
   "execution_count": 14,
   "metadata": {},
   "outputs": [],
   "source": [
    "scaler = StandardScaler()\n",
    "sk_np_mnist_x = scaler.fit_transform(sk_X)\n",
    "sk_X_scaled = pd.DataFrame(sk_np_mnist_x, index=sk_X.index, columns=sk_X.columns)"
   ]
  },
  {
   "cell_type": "code",
   "execution_count": 15,
   "metadata": {},
   "outputs": [
    {
     "data": {
      "text/html": [
       "<div>\n",
       "<style scoped>\n",
       "    .dataframe tbody tr th:only-of-type {\n",
       "        vertical-align: middle;\n",
       "    }\n",
       "\n",
       "    .dataframe tbody tr th {\n",
       "        vertical-align: top;\n",
       "    }\n",
       "\n",
       "    .dataframe thead th {\n",
       "        text-align: right;\n",
       "    }\n",
       "</style>\n",
       "<table border=\"1\" class=\"dataframe\">\n",
       "  <thead>\n",
       "    <tr style=\"text-align: right;\">\n",
       "      <th></th>\n",
       "      <th>pixel774</th>\n",
       "    </tr>\n",
       "  </thead>\n",
       "  <tbody>\n",
       "    <tr>\n",
       "      <th>count</th>\n",
       "      <td>42,000.0000</td>\n",
       "    </tr>\n",
       "    <tr>\n",
       "      <th>mean</th>\n",
       "      <td>0.0000</td>\n",
       "    </tr>\n",
       "    <tr>\n",
       "      <th>std</th>\n",
       "      <td>1.0000</td>\n",
       "    </tr>\n",
       "    <tr>\n",
       "      <th>min</th>\n",
       "      <td>-0.0347</td>\n",
       "    </tr>\n",
       "    <tr>\n",
       "      <th>max</th>\n",
       "      <td>40.2009</td>\n",
       "    </tr>\n",
       "  </tbody>\n",
       "</table>\n",
       "</div>"
      ],
      "text/plain": [
       "         pixel774\n",
       "count 42,000.0000\n",
       "mean       0.0000\n",
       "std        1.0000\n",
       "min       -0.0347\n",
       "max       40.2009"
      ]
     },
     "execution_count": 15,
     "metadata": {},
     "output_type": "execute_result"
    }
   ],
   "source": [
    "pd.DataFrame(sk_X_scaled.describe()[\"pixel774\"]).loc[[\"count\",\"mean\",\"std\",\"min\",\"max\"],]"
   ]
  },
  {
   "cell_type": "code",
   "execution_count": 16,
   "metadata": {},
   "outputs": [],
   "source": [
    "sk_X_train, sk_X_test, sk_y_train, sk_y_test = train_test_split(sk_X_scaled, sk_y,\n",
    "                                                    train_size=0.7,\n",
    "                                                    test_size=0.3,\n",
    "                                                    shuffle=True,\n",
    "                                                    random_state=RANDOM_SEED)"
   ]
  },
  {
   "cell_type": "markdown",
   "metadata": {},
   "source": [
    "<div style=\"text-align: right\"><b>data setup for tensorflow</b></div>"
   ]
  },
  {
   "cell_type": "code",
   "execution_count": 17,
   "metadata": {},
   "outputs": [],
   "source": [
    "from keras.datasets import mnist\n",
    "(tf_X_train, tf_y_train), (tf_X_test, tf_y_test) = mnist.load_data()"
   ]
  },
  {
   "cell_type": "code",
   "execution_count": 18,
   "metadata": {},
   "outputs": [],
   "source": [
    "tf_X_valid, tf_X_train = tf_X_train[:5000] / 255.0, tf_X_train[5000:] / 255.0\n",
    "tf_y_valid, tf_y_train = tf_y_train[:5000], tf_y_train[5000:]\n",
    "tf_X_test = tf_X_test / 255.0"
   ]
  },
  {
   "cell_type": "markdown",
   "metadata": {},
   "source": [
    "<div style=\"text-align: right\"><b>model 1 : 2x1. 2 layers w 1 neuron each. sci-kit</b></div>"
   ]
  },
  {
   "cell_type": "code",
   "execution_count": 19,
   "metadata": {},
   "outputs": [
    {
     "name": "stdout",
     "output_type": "stream",
     "text": [
      "approximate start time :  Sat Oct 24 14:11:48 2020\n"
     ]
    }
   ],
   "source": [
    "print(\"approximate start time : \", time.asctime())\n",
    "start1 = time.perf_counter()"
   ]
  },
  {
   "cell_type": "code",
   "execution_count": 20,
   "metadata": {},
   "outputs": [
    {
     "name": "stderr",
     "output_type": "stream",
     "text": [
      "/opt/anaconda3/lib/python3.7/site-packages/sklearn/neural_network/multilayer_perceptron.py:566: ConvergenceWarning: Stochastic Optimizer: Maximum iterations (200) reached and the optimization hasn't converged yet.\n",
      "  % self.max_iter, ConvergenceWarning)\n"
     ]
    }
   ],
   "source": [
    "twox1 = MLPClassifier(hidden_layer_sizes = (2, 1), # neurons comma layers\n",
    "                      activation = sk_act_fun, \n",
    "                      alpha = learning_rate,\n",
    "                      batch_size = b_size).fit(sk_X_train,\n",
    "                                               sk_y_train)"
   ]
  },
  {
   "cell_type": "code",
   "execution_count": 21,
   "metadata": {},
   "outputs": [
    {
     "name": "stdout",
     "output_type": "stream",
     "text": [
      "approximate completion time :  Sat Oct 24 14:12:51 2020\n",
      "time of execution in seconds :  63\n",
      "time of execution in minutes :  1.1\n"
     ]
    }
   ],
   "source": [
    "stop1 = time.perf_counter()\n",
    "tm1 = round(stop1 - start1)\n",
    "print(\"approximate completion time : \", time.asctime())\n",
    "print(\"time of execution in seconds : \", tm1)\n",
    "print(\"time of execution in minutes : \", round(tm1/60, 1))"
   ]
  },
  {
   "cell_type": "code",
   "execution_count": 22,
   "metadata": {},
   "outputs": [],
   "source": [
    "table[\"model 1\"][\"nbr_layers\"] = \"1\"\n",
    "table[\"model 1\"][\"nodes_p_layer\"] = \"2\"\n",
    "table[\"model 1\"][\"processing_time\"] = tm1\n",
    "table[\"model 1\"][\"testset_acc\"] = twox1.score(sk_X_test, sk_y_test)\n",
    "table[\"model 1\"][\"trainset_acc\"] = twox1.score(sk_X_train, sk_y_train)"
   ]
  },
  {
   "cell_type": "markdown",
   "metadata": {},
   "source": [
    "<div style=\"text-align: right\"><b>model 2 : 2x2. 2 layers w 2 neurons each. I think. sci-kit</b></div>"
   ]
  },
  {
   "cell_type": "code",
   "execution_count": 23,
   "metadata": {},
   "outputs": [
    {
     "name": "stdout",
     "output_type": "stream",
     "text": [
      "approximate start time :  Sat Oct 24 14:12:51 2020\n"
     ]
    }
   ],
   "source": [
    "print(\"approximate start time : \", time.asctime())\n",
    "start2 = time.perf_counter()"
   ]
  },
  {
   "cell_type": "code",
   "execution_count": 24,
   "metadata": {},
   "outputs": [
    {
     "name": "stderr",
     "output_type": "stream",
     "text": [
      "/opt/anaconda3/lib/python3.7/site-packages/sklearn/neural_network/multilayer_perceptron.py:566: ConvergenceWarning: Stochastic Optimizer: Maximum iterations (200) reached and the optimization hasn't converged yet.\n",
      "  % self.max_iter, ConvergenceWarning)\n"
     ]
    }
   ],
   "source": [
    "twox2 = MLPClassifier(hidden_layer_sizes = (2, 2), \n",
    "                      activation = sk_act_fun, \n",
    "                      alpha = learning_rate,\n",
    "                      batch_size = b_size).fit(sk_X_train,\n",
    "                                               sk_y_train)"
   ]
  },
  {
   "cell_type": "code",
   "execution_count": 25,
   "metadata": {},
   "outputs": [
    {
     "name": "stdout",
     "output_type": "stream",
     "text": [
      "approximate completion time :  Sat Oct 24 14:13:55 2020\n",
      "time of execution in seconds :  63\n",
      "time of execution in minutes :  1.1\n"
     ]
    }
   ],
   "source": [
    "stop2 = time.perf_counter()\n",
    "tm2 = round(stop2 - start2)\n",
    "print(\"approximate completion time : \", time.asctime())\n",
    "print(\"time of execution in seconds : \", tm2)\n",
    "print(\"time of execution in minutes : \", round(tm2/60, 1))"
   ]
  },
  {
   "cell_type": "code",
   "execution_count": 26,
   "metadata": {},
   "outputs": [],
   "source": [
    "table[\"model 2\"][\"nbr_layers\"] = \"2\"\n",
    "table[\"model 2\"][\"nodes_p_layer\"] = \"2\"\n",
    "table[\"model 2\"][\"processing_time\"] = tm2\n",
    "table[\"model 2\"][\"testset_acc\"] = twox2.score(sk_X_test, sk_y_test)\n",
    "table[\"model 2\"][\"trainset_acc\"] = twox2.score(sk_X_train, sk_y_train)"
   ]
  },
  {
   "cell_type": "markdown",
   "metadata": {},
   "source": [
    "<div style=\"text-align: right\"><b>model 3 : x1. 30 layers w 4 neurons each. sci-kit</b></div>"
   ]
  },
  {
   "cell_type": "code",
   "execution_count": 27,
   "metadata": {},
   "outputs": [
    {
     "name": "stdout",
     "output_type": "stream",
     "text": [
      "approximate start time :  Sat Oct 24 14:13:55 2020\n"
     ]
    }
   ],
   "source": [
    "print(\"approximate start time : \", time.asctime())\n",
    "start3 = time.perf_counter()"
   ]
  },
  {
   "cell_type": "code",
   "execution_count": 28,
   "metadata": {},
   "outputs": [],
   "source": [
    "thirtyx4 = MLPClassifier(hidden_layer_sizes = (30, 4), \n",
    "                      activation = sk_act_fun, \n",
    "                      alpha = learning_rate,\n",
    "                      batch_size = b_size).fit(sk_X_train,\n",
    "                                               sk_y_train)"
   ]
  },
  {
   "cell_type": "code",
   "execution_count": 29,
   "metadata": {},
   "outputs": [
    {
     "name": "stdout",
     "output_type": "stream",
     "text": [
      "approximate completion time :  Sat Oct 24 14:15:32 2020\n",
      "time of execution in seconds :  97\n",
      "time of execution in minutes :  1.6\n"
     ]
    }
   ],
   "source": [
    "stop3 = time.perf_counter()\n",
    "tm3 = round(stop3 - start3)\n",
    "print(\"approximate completion time : \", time.asctime())\n",
    "print(\"time of execution in seconds : \", tm3)\n",
    "print(\"time of execution in minutes : \", round(tm3/60, 1))"
   ]
  },
  {
   "cell_type": "code",
   "execution_count": 30,
   "metadata": {},
   "outputs": [],
   "source": [
    "table[\"model 3\"][\"nbr_layers\"] = \"30\"\n",
    "table[\"model 3\"][\"nodes_p_layer\"] = \"4\"\n",
    "table[\"model 3\"][\"processing_time\"] = tm3\n",
    "table[\"model 3\"][\"testset_acc\"] = thirtyx4.score(sk_X_test, sk_y_test)\n",
    "table[\"model 3\"][\"trainset_acc\"] = thirtyx4.score(sk_X_train, sk_y_train)"
   ]
  },
  {
   "cell_type": "markdown",
   "metadata": {},
   "source": [
    "<div style=\"text-align: right\"><b>model 4 : x1. 4 layers, each w 30 neurons. sci-kit</b></div>"
   ]
  },
  {
   "cell_type": "code",
   "execution_count": 31,
   "metadata": {},
   "outputs": [
    {
     "name": "stdout",
     "output_type": "stream",
     "text": [
      "approximate start time :  Sat Oct 24 14:15:32 2020\n"
     ]
    }
   ],
   "source": [
    "print(\"approximate start time : \", time.asctime())\n",
    "start4 = time.perf_counter()"
   ]
  },
  {
   "cell_type": "code",
   "execution_count": 32,
   "metadata": {},
   "outputs": [
    {
     "name": "stderr",
     "output_type": "stream",
     "text": [
      "/opt/anaconda3/lib/python3.7/site-packages/sklearn/neural_network/multilayer_perceptron.py:566: ConvergenceWarning: Stochastic Optimizer: Maximum iterations (200) reached and the optimization hasn't converged yet.\n",
      "  % self.max_iter, ConvergenceWarning)\n"
     ]
    }
   ],
   "source": [
    "fourx30 = MLPClassifier(hidden_layer_sizes = (4, 30), \n",
    "                      activation = sk_act_fun, \n",
    "                      alpha = learning_rate,\n",
    "                      batch_size = b_size).fit(sk_X_train,\n",
    "                                               sk_y_train)"
   ]
  },
  {
   "cell_type": "code",
   "execution_count": 33,
   "metadata": {},
   "outputs": [
    {
     "name": "stdout",
     "output_type": "stream",
     "text": [
      "approximate completion time :  Sat Oct 24 14:16:37 2020\n",
      "time of execution in seconds :  65\n",
      "time of execution in minutes :  1.1\n"
     ]
    }
   ],
   "source": [
    "stop4 = time.perf_counter()\n",
    "tm4 = round(stop4 - start4)\n",
    "print(\"approximate completion time : \", time.asctime())\n",
    "print(\"time of execution in seconds : \", tm4)\n",
    "print(\"time of execution in minutes : \", round(tm4/60, 1))"
   ]
  },
  {
   "cell_type": "code",
   "execution_count": 34,
   "metadata": {},
   "outputs": [],
   "source": [
    "table[\"model 4\"][\"nbr_layers\"] = \"4\"\n",
    "table[\"model 4\"][\"nodes_p_layer\"] = \"30\"\n",
    "table[\"model 4\"][\"processing_time\"] = tm4\n",
    "table[\"model 4\"][\"testset_acc\"] = fourx30.score(sk_X_test, sk_y_test)\n",
    "table[\"model 4\"][\"trainset_acc\"] = fourx30.score(sk_X_train, sk_y_train)"
   ]
  },
  {
   "cell_type": "markdown",
   "metadata": {},
   "source": [
    "<div style=\"text-align: right\"><b>model 5 : 2x1. 2 layers w 1 neurons each</b></div>"
   ]
  },
  {
   "cell_type": "code",
   "execution_count": 35,
   "metadata": {},
   "outputs": [
    {
     "name": "stdout",
     "output_type": "stream",
     "text": [
      "approximate start time :  Sat Oct 24 14:16:37 2020\n"
     ]
    }
   ],
   "source": [
    "print(\"approximate start time : \", time.asctime())\n",
    "start5 = time.perf_counter()"
   ]
  },
  {
   "cell_type": "code",
   "execution_count": 36,
   "metadata": {},
   "outputs": [],
   "source": [
    "#classification MLP with two hidden layers\n",
    "model5 = Sequential()\n",
    "model5.add(Flatten(input_shape=[28, 28]))\n",
    "model5.add(Dense(1, activation=tf_act_fun))\n",
    "model5.add(Dense(1, activation=tf_act_fun))\n",
    "model5.add(Dense(10, activation=\"softmax\"))"
   ]
  },
  {
   "cell_type": "code",
   "execution_count": 37,
   "metadata": {},
   "outputs": [
    {
     "name": "stdout",
     "output_type": "stream",
     "text": [
      "Model: \"sequential\"\n",
      "_________________________________________________________________\n",
      "Layer (type)                 Output Shape              Param #   \n",
      "=================================================================\n",
      "flatten (Flatten)            (None, 784)               0         \n",
      "_________________________________________________________________\n",
      "dense (Dense)                (None, 1)                 785       \n",
      "_________________________________________________________________\n",
      "dense_1 (Dense)              (None, 1)                 2         \n",
      "_________________________________________________________________\n",
      "dense_2 (Dense)              (None, 10)                20        \n",
      "=================================================================\n",
      "Total params: 807\n",
      "Trainable params: 807\n",
      "Non-trainable params: 0\n",
      "_________________________________________________________________\n"
     ]
    }
   ],
   "source": [
    "model5.summary()"
   ]
  },
  {
   "cell_type": "code",
   "execution_count": 38,
   "metadata": {},
   "outputs": [],
   "source": [
    "model5.compile(loss=\"sparse_categorical_crossentropy\",\n",
    "              optimizer=\"sgd\",\n",
    "              metrics=[\"accuracy\"])"
   ]
  },
  {
   "cell_type": "code",
   "execution_count": 39,
   "metadata": {},
   "outputs": [
    {
     "name": "stdout",
     "output_type": "stream",
     "text": [
      "Epoch 1/5\n",
      "1719/1719 [==============================] - 2s 1ms/step - loss: 2.3045 - accuracy: 0.1123 - val_loss: 2.3005 - val_accuracy: 0.1126\n",
      "Epoch 2/5\n",
      "1719/1719 [==============================] - 2s 970us/step - loss: 2.3008 - accuracy: 0.1123 - val_loss: 2.2999 - val_accuracy: 0.1126\n",
      "Epoch 3/5\n",
      "1719/1719 [==============================] - 2s 984us/step - loss: 2.2997 - accuracy: 0.1123 - val_loss: 2.2984 - val_accuracy: 0.1126\n",
      "Epoch 4/5\n",
      "1719/1719 [==============================] - 2s 978us/step - loss: 2.2975 - accuracy: 0.1123 - val_loss: 2.2953 - val_accuracy: 0.1126\n",
      "Epoch 5/5\n",
      "1719/1719 [==============================] - 2s 1ms/step - loss: 2.2928 - accuracy: 0.1124 - val_loss: 2.2888 - val_accuracy: 0.1126\n"
     ]
    }
   ],
   "source": [
    "history5 = model5.fit(tf_X_train, tf_y_train, epochs=5,\n",
    "                     validation_data=(tf_X_valid, tf_y_valid))"
   ]
  },
  {
   "cell_type": "code",
   "execution_count": 40,
   "metadata": {},
   "outputs": [
    {
     "name": "stdout",
     "output_type": "stream",
     "text": [
      "approximate completion time :  Sat Oct 24 14:16:46 2020\n",
      "time of execution in seconds :  9\n",
      "time of execution in minutes :  0.1\n"
     ]
    }
   ],
   "source": [
    "stop5 = time.perf_counter()\n",
    "tm5 = round(stop5 - start5)\n",
    "print(\"approximate completion time : \", time.asctime())\n",
    "print(\"time of execution in seconds : \", tm5)\n",
    "print(\"time of execution in minutes : \", round(tm5/60, 1))"
   ]
  },
  {
   "cell_type": "code",
   "execution_count": 41,
   "metadata": {},
   "outputs": [
    {
     "name": "stdout",
     "output_type": "stream",
     "text": [
      "313/313 [==============================] - 0s 862us/step - loss: 2.2888 - accuracy: 0.1135\n",
      "1719/1719 [==============================] - 1s 854us/step - loss: 2.2891 - accuracy: 0.1123\n"
     ]
    }
   ],
   "source": [
    "table[\"model 5\"][\"nbr_layers\"] = \"2\"\n",
    "table[\"model 5\"][\"nodes_p_layer\"] = \"1\"\n",
    "table[\"model 5\"][\"processing_time\"] = tm5\n",
    "table[\"model 5\"][\"testset_acc\"] = model5.evaluate(tf_X_test, tf_y_test)[1]\n",
    "table[\"model 5\"][\"trainset_acc\"] = model5.evaluate(tf_X_train, tf_y_train)[1]"
   ]
  },
  {
   "cell_type": "markdown",
   "metadata": {},
   "source": [
    "<div style=\"text-align: right\"><b>model 6 : 2x2. 2 layers w 2 neurons each</b></div>"
   ]
  },
  {
   "cell_type": "code",
   "execution_count": 42,
   "metadata": {},
   "outputs": [
    {
     "name": "stdout",
     "output_type": "stream",
     "text": [
      "approximate start time :  Sat Oct 24 14:16:48 2020\n"
     ]
    }
   ],
   "source": [
    "print(\"approximate start time : \", time.asctime())\n",
    "start6 = time.perf_counter()"
   ]
  },
  {
   "cell_type": "code",
   "execution_count": 43,
   "metadata": {},
   "outputs": [],
   "source": [
    "#classification MLP with two hidden layers\n",
    "model6 = Sequential()\n",
    "model6.add(Flatten(input_shape=[28, 28]))\n",
    "model6.add(Dense(2, activation=tf_act_fun))\n",
    "model6.add(Dense(2, activation=tf_act_fun))\n",
    "model6.add(Dense(10, activation=\"softmax\"))"
   ]
  },
  {
   "cell_type": "code",
   "execution_count": 44,
   "metadata": {},
   "outputs": [
    {
     "name": "stdout",
     "output_type": "stream",
     "text": [
      "Model: \"sequential_1\"\n",
      "_________________________________________________________________\n",
      "Layer (type)                 Output Shape              Param #   \n",
      "=================================================================\n",
      "flatten_1 (Flatten)          (None, 784)               0         \n",
      "_________________________________________________________________\n",
      "dense_3 (Dense)              (None, 2)                 1570      \n",
      "_________________________________________________________________\n",
      "dense_4 (Dense)              (None, 2)                 6         \n",
      "_________________________________________________________________\n",
      "dense_5 (Dense)              (None, 10)                30        \n",
      "=================================================================\n",
      "Total params: 1,606\n",
      "Trainable params: 1,606\n",
      "Non-trainable params: 0\n",
      "_________________________________________________________________\n"
     ]
    }
   ],
   "source": [
    "model6.summary()"
   ]
  },
  {
   "cell_type": "code",
   "execution_count": 45,
   "metadata": {},
   "outputs": [
    {
     "name": "stdout",
     "output_type": "stream",
     "text": [
      "Epoch 1/5\n",
      "1719/1719 [==============================] - 2s 1ms/step - loss: 2.3078 - accuracy: 0.1151 - val_loss: 2.2974 - val_accuracy: 0.1126\n",
      "Epoch 2/5\n",
      "1719/1719 [==============================] - 2s 1ms/step - loss: 2.2955 - accuracy: 0.1124 - val_loss: 2.2918 - val_accuracy: 0.1126\n",
      "Epoch 3/5\n",
      "1719/1719 [==============================] - 2s 1ms/step - loss: 2.2875 - accuracy: 0.1272 - val_loss: 2.2804 - val_accuracy: 0.1476\n",
      "Epoch 4/5\n",
      "1719/1719 [==============================] - 2s 1ms/step - loss: 2.2711 - accuracy: 0.1957 - val_loss: 2.2563 - val_accuracy: 0.2412\n",
      "Epoch 5/5\n",
      "1719/1719 [==============================] - 2s 1ms/step - loss: 2.2369 - accuracy: 0.2261 - val_loss: 2.2082 - val_accuracy: 0.2082\n"
     ]
    }
   ],
   "source": [
    "model6.compile(loss=\"sparse_categorical_crossentropy\",\n",
    "              optimizer=\"sgd\",\n",
    "              metrics=[\"accuracy\"])\n",
    "history6 = model6.fit(tf_X_train, tf_y_train, epochs=5,\n",
    "                     validation_data=(tf_X_valid, tf_y_valid))"
   ]
  },
  {
   "cell_type": "code",
   "execution_count": 46,
   "metadata": {
    "scrolled": true
   },
   "outputs": [
    {
     "name": "stdout",
     "output_type": "stream",
     "text": [
      "approximate completion time :  Sat Oct 24 14:16:58 2020\n",
      "time of execution in seconds :  10\n",
      "time of execution in minutes :  0.2\n"
     ]
    }
   ],
   "source": [
    "stop6 = time.perf_counter()\n",
    "tm6 = round(stop6 - start6)\n",
    "print(\"approximate completion time : \", time.asctime())\n",
    "print(\"time of execution in seconds : \", tm6)\n",
    "print(\"time of execution in minutes : \", round(tm6/60, 1))"
   ]
  },
  {
   "cell_type": "code",
   "execution_count": 47,
   "metadata": {},
   "outputs": [
    {
     "name": "stdout",
     "output_type": "stream",
     "text": [
      "313/313 [==============================] - 0s 830us/step - loss: 2.2088 - accuracy: 0.2043\n",
      "1719/1719 [==============================] - 1s 837us/step - loss: 2.2107 - accuracy: 0.2063\n"
     ]
    }
   ],
   "source": [
    "table[\"model 6\"][\"nbr_layers\"] = \"2\"\n",
    "table[\"model 6\"][\"nodes_p_layer\"] = \"2\"\n",
    "table[\"model 6\"][\"processing_time\"] = tm6\n",
    "table[\"model 6\"][\"testset_acc\"] = model6.evaluate(tf_X_test, tf_y_test)[1]\n",
    "table[\"model 6\"][\"trainset_acc\"] = model6.evaluate(tf_X_train, tf_y_train)[1]"
   ]
  },
  {
   "cell_type": "markdown",
   "metadata": {},
   "source": [
    "<div style=\"text-align: right\"><b>model 7 : 30x4. 30 layers w 4 neurons each</b></div>"
   ]
  },
  {
   "cell_type": "code",
   "execution_count": 48,
   "metadata": {},
   "outputs": [
    {
     "name": "stdout",
     "output_type": "stream",
     "text": [
      "approximate start time :  Sat Oct 24 14:17:00 2020\n"
     ]
    }
   ],
   "source": [
    "print(\"approximate start time : \", time.asctime())\n",
    "start7 = time.perf_counter()"
   ]
  },
  {
   "cell_type": "code",
   "execution_count": 49,
   "metadata": {},
   "outputs": [],
   "source": [
    "#classification MLP with two hidden layers\n",
    "model7 = Sequential()\n",
    "model7.add(Flatten(input_shape=[28, 28]))\n",
    "model7.add(Dense(4, activation=tf_act_fun))\n",
    "model7.add(Dense(4, activation=tf_act_fun))\n",
    "model7.add(Dense(4, activation=tf_act_fun))\n",
    "model7.add(Dense(4, activation=tf_act_fun))\n",
    "model7.add(Dense(4, activation=tf_act_fun))\n",
    "model7.add(Dense(4, activation=tf_act_fun))\n",
    "model7.add(Dense(4, activation=tf_act_fun))\n",
    "model7.add(Dense(4, activation=tf_act_fun))\n",
    "model7.add(Dense(4, activation=tf_act_fun))\n",
    "model7.add(Dense(4, activation=tf_act_fun))\n",
    "model7.add(Dense(4, activation=tf_act_fun))\n",
    "model7.add(Dense(4, activation=tf_act_fun))\n",
    "model7.add(Dense(4, activation=tf_act_fun))\n",
    "model7.add(Dense(4, activation=tf_act_fun))\n",
    "model7.add(Dense(4, activation=tf_act_fun))\n",
    "model7.add(Dense(4, activation=tf_act_fun))\n",
    "model7.add(Dense(4, activation=tf_act_fun))\n",
    "model7.add(Dense(4, activation=tf_act_fun))\n",
    "model7.add(Dense(4, activation=tf_act_fun))\n",
    "model7.add(Dense(4, activation=tf_act_fun))\n",
    "model7.add(Dense(4, activation=tf_act_fun))\n",
    "model7.add(Dense(4, activation=tf_act_fun))\n",
    "model7.add(Dense(4, activation=tf_act_fun))\n",
    "model7.add(Dense(4, activation=tf_act_fun))\n",
    "model7.add(Dense(4, activation=tf_act_fun))\n",
    "model7.add(Dense(4, activation=tf_act_fun))\n",
    "model7.add(Dense(4, activation=tf_act_fun))\n",
    "model7.add(Dense(4, activation=tf_act_fun))\n",
    "model7.add(Dense(4, activation=tf_act_fun))\n",
    "model7.add(Dense(10, activation=\"softmax\"))"
   ]
  },
  {
   "cell_type": "code",
   "execution_count": 50,
   "metadata": {},
   "outputs": [
    {
     "name": "stdout",
     "output_type": "stream",
     "text": [
      "Model: \"sequential_2\"\n",
      "_________________________________________________________________\n",
      "Layer (type)                 Output Shape              Param #   \n",
      "=================================================================\n",
      "flatten_2 (Flatten)          (None, 784)               0         \n",
      "_________________________________________________________________\n",
      "dense_6 (Dense)              (None, 4)                 3140      \n",
      "_________________________________________________________________\n",
      "dense_7 (Dense)              (None, 4)                 20        \n",
      "_________________________________________________________________\n",
      "dense_8 (Dense)              (None, 4)                 20        \n",
      "_________________________________________________________________\n",
      "dense_9 (Dense)              (None, 4)                 20        \n",
      "_________________________________________________________________\n",
      "dense_10 (Dense)             (None, 4)                 20        \n",
      "_________________________________________________________________\n",
      "dense_11 (Dense)             (None, 4)                 20        \n",
      "_________________________________________________________________\n",
      "dense_12 (Dense)             (None, 4)                 20        \n",
      "_________________________________________________________________\n",
      "dense_13 (Dense)             (None, 4)                 20        \n",
      "_________________________________________________________________\n",
      "dense_14 (Dense)             (None, 4)                 20        \n",
      "_________________________________________________________________\n",
      "dense_15 (Dense)             (None, 4)                 20        \n",
      "_________________________________________________________________\n",
      "dense_16 (Dense)             (None, 4)                 20        \n",
      "_________________________________________________________________\n",
      "dense_17 (Dense)             (None, 4)                 20        \n",
      "_________________________________________________________________\n",
      "dense_18 (Dense)             (None, 4)                 20        \n",
      "_________________________________________________________________\n",
      "dense_19 (Dense)             (None, 4)                 20        \n",
      "_________________________________________________________________\n",
      "dense_20 (Dense)             (None, 4)                 20        \n",
      "_________________________________________________________________\n",
      "dense_21 (Dense)             (None, 4)                 20        \n",
      "_________________________________________________________________\n",
      "dense_22 (Dense)             (None, 4)                 20        \n",
      "_________________________________________________________________\n",
      "dense_23 (Dense)             (None, 4)                 20        \n",
      "_________________________________________________________________\n",
      "dense_24 (Dense)             (None, 4)                 20        \n",
      "_________________________________________________________________\n",
      "dense_25 (Dense)             (None, 4)                 20        \n",
      "_________________________________________________________________\n",
      "dense_26 (Dense)             (None, 4)                 20        \n",
      "_________________________________________________________________\n",
      "dense_27 (Dense)             (None, 4)                 20        \n",
      "_________________________________________________________________\n",
      "dense_28 (Dense)             (None, 4)                 20        \n",
      "_________________________________________________________________\n",
      "dense_29 (Dense)             (None, 4)                 20        \n",
      "_________________________________________________________________\n",
      "dense_30 (Dense)             (None, 4)                 20        \n",
      "_________________________________________________________________\n",
      "dense_31 (Dense)             (None, 4)                 20        \n",
      "_________________________________________________________________\n",
      "dense_32 (Dense)             (None, 4)                 20        \n",
      "_________________________________________________________________\n",
      "dense_33 (Dense)             (None, 4)                 20        \n",
      "_________________________________________________________________\n",
      "dense_34 (Dense)             (None, 4)                 20        \n",
      "_________________________________________________________________\n",
      "dense_35 (Dense)             (None, 10)                50        \n",
      "=================================================================\n",
      "Total params: 3,750\n",
      "Trainable params: 3,750\n",
      "Non-trainable params: 0\n",
      "_________________________________________________________________\n"
     ]
    }
   ],
   "source": [
    "model7.summary()"
   ]
  },
  {
   "cell_type": "code",
   "execution_count": 51,
   "metadata": {},
   "outputs": [
    {
     "name": "stdout",
     "output_type": "stream",
     "text": [
      "Epoch 1/30\n",
      "1719/1719 [==============================] - 3s 2ms/step - loss: 2.3129 - accuracy: 0.1098 - val_loss: 2.3011 - val_accuracy: 0.1126\n",
      "Epoch 2/30\n",
      "1719/1719 [==============================] - 3s 2ms/step - loss: 2.3015 - accuracy: 0.1123 - val_loss: 2.3006 - val_accuracy: 0.1126\n",
      "Epoch 3/30\n",
      "1719/1719 [==============================] - 3s 2ms/step - loss: 2.3015 - accuracy: 0.1123 - val_loss: 2.3011 - val_accuracy: 0.1126\n",
      "Epoch 4/30\n",
      "1719/1719 [==============================] - 3s 2ms/step - loss: 2.3014 - accuracy: 0.1123 - val_loss: 2.3011 - val_accuracy: 0.1126\n",
      "Epoch 5/30\n",
      "1719/1719 [==============================] - 3s 2ms/step - loss: 2.3015 - accuracy: 0.1123 - val_loss: 2.3011 - val_accuracy: 0.1126\n",
      "Epoch 6/30\n",
      "1719/1719 [==============================] - 3s 2ms/step - loss: 2.3014 - accuracy: 0.1123 - val_loss: 2.3011 - val_accuracy: 0.1126\n",
      "Epoch 7/30\n",
      "1719/1719 [==============================] - 3s 2ms/step - loss: 2.3014 - accuracy: 0.1123 - val_loss: 2.3010 - val_accuracy: 0.1126\n",
      "Epoch 8/30\n",
      "1719/1719 [==============================] - 3s 2ms/step - loss: 2.3014 - accuracy: 0.1123 - val_loss: 2.3009 - val_accuracy: 0.1126\n",
      "Epoch 9/30\n",
      "1719/1719 [==============================] - 3s 2ms/step - loss: 2.3014 - accuracy: 0.1121 - val_loss: 2.3010 - val_accuracy: 0.1126\n",
      "Epoch 10/30\n",
      "1719/1719 [==============================] - 3s 2ms/step - loss: 2.3015 - accuracy: 0.1123 - val_loss: 2.3014 - val_accuracy: 0.1126\n",
      "Epoch 11/30\n",
      "1719/1719 [==============================] - 3s 2ms/step - loss: 2.3015 - accuracy: 0.1123 - val_loss: 2.3009 - val_accuracy: 0.1126\n",
      "Epoch 12/30\n",
      "1719/1719 [==============================] - 3s 2ms/step - loss: 2.3014 - accuracy: 0.1123 - val_loss: 2.3008 - val_accuracy: 0.1126\n",
      "Epoch 13/30\n",
      "1719/1719 [==============================] - 3s 2ms/step - loss: 2.3014 - accuracy: 0.1123 - val_loss: 2.3012 - val_accuracy: 0.1126\n",
      "Epoch 14/30\n",
      "1719/1719 [==============================] - 3s 2ms/step - loss: 2.3014 - accuracy: 0.1123 - val_loss: 2.3011 - val_accuracy: 0.1126\n",
      "Epoch 15/30\n",
      "1719/1719 [==============================] - 3s 2ms/step - loss: 2.3014 - accuracy: 0.1123 - val_loss: 2.3009 - val_accuracy: 0.1126\n",
      "Epoch 16/30\n",
      "1719/1719 [==============================] - 3s 2ms/step - loss: 2.3015 - accuracy: 0.1123 - val_loss: 2.3011 - val_accuracy: 0.1126\n",
      "Epoch 17/30\n",
      "1719/1719 [==============================] - 3s 2ms/step - loss: 2.3015 - accuracy: 0.1123 - val_loss: 2.3012 - val_accuracy: 0.1126\n",
      "Epoch 18/30\n",
      "1719/1719 [==============================] - 3s 2ms/step - loss: 2.3014 - accuracy: 0.1123 - val_loss: 2.3005 - val_accuracy: 0.1126\n",
      "Epoch 19/30\n",
      "1719/1719 [==============================] - 3s 2ms/step - loss: 2.3014 - accuracy: 0.1121 - val_loss: 2.3007 - val_accuracy: 0.1126\n",
      "Epoch 20/30\n",
      "1719/1719 [==============================] - 3s 2ms/step - loss: 2.3015 - accuracy: 0.1123 - val_loss: 2.3013 - val_accuracy: 0.1126\n",
      "Epoch 21/30\n",
      "1719/1719 [==============================] - 3s 2ms/step - loss: 2.3014 - accuracy: 0.1123 - val_loss: 2.3007 - val_accuracy: 0.1126\n",
      "Epoch 22/30\n",
      "1719/1719 [==============================] - 3s 2ms/step - loss: 2.3015 - accuracy: 0.1123 - val_loss: 2.3011 - val_accuracy: 0.1126\n",
      "Epoch 23/30\n",
      "1719/1719 [==============================] - 3s 2ms/step - loss: 2.3014 - accuracy: 0.1123 - val_loss: 2.3006 - val_accuracy: 0.1126\n",
      "Epoch 24/30\n",
      "1719/1719 [==============================] - 3s 2ms/step - loss: 2.3015 - accuracy: 0.1123 - val_loss: 2.3009 - val_accuracy: 0.1126\n",
      "Epoch 25/30\n",
      "1719/1719 [==============================] - 3s 2ms/step - loss: 2.3014 - accuracy: 0.1123 - val_loss: 2.3009 - val_accuracy: 0.1126\n",
      "Epoch 26/30\n",
      "1719/1719 [==============================] - 3s 2ms/step - loss: 2.3014 - accuracy: 0.1123 - val_loss: 2.3010 - val_accuracy: 0.1126\n",
      "Epoch 27/30\n",
      "1719/1719 [==============================] - 3s 2ms/step - loss: 2.3015 - accuracy: 0.1123 - val_loss: 2.3010 - val_accuracy: 0.1126\n",
      "Epoch 28/30\n",
      "1719/1719 [==============================] - 3s 2ms/step - loss: 2.3014 - accuracy: 0.1123 - val_loss: 2.3007 - val_accuracy: 0.1126\n",
      "Epoch 29/30\n",
      "1719/1719 [==============================] - 3s 2ms/step - loss: 2.3015 - accuracy: 0.1123 - val_loss: 2.3011 - val_accuracy: 0.1126\n",
      "Epoch 30/30\n",
      "1719/1719 [==============================] - 3s 2ms/step - loss: 2.3014 - accuracy: 0.1123 - val_loss: 2.3007 - val_accuracy: 0.1126\n"
     ]
    }
   ],
   "source": [
    "model7.compile(loss=\"sparse_categorical_crossentropy\",\n",
    "              optimizer=\"sgd\",\n",
    "              metrics=[\"accuracy\"])\n",
    "history7 = model7.fit(tf_X_train, tf_y_train, epochs=30,\n",
    "                     validation_data=(tf_X_valid, tf_y_valid))"
   ]
  },
  {
   "cell_type": "code",
   "execution_count": 52,
   "metadata": {},
   "outputs": [
    {
     "name": "stdout",
     "output_type": "stream",
     "text": [
      "approximate completion time :  Sat Oct 24 14:18:30 2020\n",
      "time of execution in seconds :  91\n",
      "time of execution in minutes :  1.5\n"
     ]
    }
   ],
   "source": [
    "stop7 = time.perf_counter()\n",
    "tm7 = round(stop7 - start7)\n",
    "print(\"approximate completion time : \", time.asctime())\n",
    "print(\"time of execution in seconds : \", tm7)\n",
    "print(\"time of execution in minutes : \", round(tm7/60, 1))"
   ]
  },
  {
   "cell_type": "code",
   "execution_count": 53,
   "metadata": {},
   "outputs": [
    {
     "name": "stdout",
     "output_type": "stream",
     "text": [
      "313/313 [==============================] - 0s 1ms/step - loss: 2.3012 - accuracy: 0.1135\n",
      "1719/1719 [==============================] - 2s 1ms/step - loss: 2.3013 - accuracy: 0.1123\n"
     ]
    }
   ],
   "source": [
    "table[\"model 7\"][\"nbr_layers\"] = \"30\"\n",
    "table[\"model 7\"][\"nodes_p_layer\"] = \"4\"\n",
    "table[\"model 7\"][\"processing_time\"] = tm7\n",
    "table[\"model 7\"][\"testset_acc\"] = model7.evaluate(tf_X_test, tf_y_test)[1]\n",
    "table[\"model 7\"][\"trainset_acc\"] = model7.evaluate(tf_X_train, tf_y_train)[1]"
   ]
  },
  {
   "cell_type": "markdown",
   "metadata": {},
   "source": [
    "<div style=\"text-align: right\"><b>model 8 : 4x30. 4 layers w 30 neurons each</b></div>"
   ]
  },
  {
   "cell_type": "code",
   "execution_count": 54,
   "metadata": {},
   "outputs": [
    {
     "name": "stdout",
     "output_type": "stream",
     "text": [
      "approximate start time :  Sat Oct 24 14:18:32 2020\n"
     ]
    }
   ],
   "source": [
    "print(\"approximate start time : \", time.asctime())\n",
    "start8 = time.perf_counter()"
   ]
  },
  {
   "cell_type": "code",
   "execution_count": 55,
   "metadata": {},
   "outputs": [],
   "source": [
    "#classification MLP with two hidden layers\n",
    "model8 = Sequential()\n",
    "model8.add(Flatten(input_shape=[28, 28]))\n",
    "model8.add(Dense(30, activation=tf_act_fun))\n",
    "model8.add(Dense(30, activation=tf_act_fun))\n",
    "model8.add(Dense(30, activation=tf_act_fun))\n",
    "model8.add(Dense(30, activation=tf_act_fun))\n",
    "model8.add(Dense(10, activation=\"softmax\"))"
   ]
  },
  {
   "cell_type": "code",
   "execution_count": 56,
   "metadata": {},
   "outputs": [
    {
     "name": "stdout",
     "output_type": "stream",
     "text": [
      "Model: \"sequential_3\"\n",
      "_________________________________________________________________\n",
      "Layer (type)                 Output Shape              Param #   \n",
      "=================================================================\n",
      "flatten_3 (Flatten)          (None, 784)               0         \n",
      "_________________________________________________________________\n",
      "dense_36 (Dense)             (None, 30)                23550     \n",
      "_________________________________________________________________\n",
      "dense_37 (Dense)             (None, 30)                930       \n",
      "_________________________________________________________________\n",
      "dense_38 (Dense)             (None, 30)                930       \n",
      "_________________________________________________________________\n",
      "dense_39 (Dense)             (None, 30)                930       \n",
      "_________________________________________________________________\n",
      "dense_40 (Dense)             (None, 10)                310       \n",
      "=================================================================\n",
      "Total params: 26,650\n",
      "Trainable params: 26,650\n",
      "Non-trainable params: 0\n",
      "_________________________________________________________________\n"
     ]
    }
   ],
   "source": [
    "model8.summary()"
   ]
  },
  {
   "cell_type": "code",
   "execution_count": 57,
   "metadata": {},
   "outputs": [
    {
     "name": "stdout",
     "output_type": "stream",
     "text": [
      "Epoch 1/12\n",
      "1719/1719 [==============================] - 3s 2ms/step - loss: 2.3015 - accuracy: 0.1123 - val_loss: 2.3006 - val_accuracy: 0.1126\n",
      "Epoch 2/12\n",
      "1719/1719 [==============================] - 3s 2ms/step - loss: 2.3015 - accuracy: 0.1123 - val_loss: 2.3007 - val_accuracy: 0.1126\n",
      "Epoch 3/12\n",
      "1719/1719 [==============================] - 3s 2ms/step - loss: 2.3014 - accuracy: 0.1123 - val_loss: 2.3011 - val_accuracy: 0.1126\n",
      "Epoch 4/12\n",
      "1719/1719 [==============================] - 3s 2ms/step - loss: 2.3014 - accuracy: 0.1123 - val_loss: 2.3010 - val_accuracy: 0.1126\n",
      "Epoch 5/12\n",
      "1719/1719 [==============================] - 3s 2ms/step - loss: 2.3015 - accuracy: 0.1123 - val_loss: 2.3007 - val_accuracy: 0.1126\n",
      "Epoch 6/12\n",
      "1719/1719 [==============================] - 3s 2ms/step - loss: 2.3014 - accuracy: 0.1123 - val_loss: 2.3007 - val_accuracy: 0.1126\n",
      "Epoch 7/12\n",
      "1719/1719 [==============================] - 3s 2ms/step - loss: 2.3014 - accuracy: 0.1123 - val_loss: 2.3009 - val_accuracy: 0.1126\n",
      "Epoch 8/12\n",
      "1719/1719 [==============================] - 3s 2ms/step - loss: 2.3014 - accuracy: 0.1123 - val_loss: 2.3007 - val_accuracy: 0.1126\n",
      "Epoch 9/12\n",
      "1719/1719 [==============================] - 3s 2ms/step - loss: 2.3015 - accuracy: 0.1123 - val_loss: 2.3010 - val_accuracy: 0.1126\n",
      "Epoch 10/12\n",
      "1719/1719 [==============================] - 3s 2ms/step - loss: 2.3015 - accuracy: 0.1123 - val_loss: 2.3011 - val_accuracy: 0.1126\n",
      "Epoch 11/12\n",
      "1719/1719 [==============================] - 3s 2ms/step - loss: 2.3014 - accuracy: 0.1123 - val_loss: 2.3014 - val_accuracy: 0.1126\n",
      "Epoch 12/12\n",
      "1719/1719 [==============================] - 3s 2ms/step - loss: 2.3015 - accuracy: 0.1123 - val_loss: 2.3011 - val_accuracy: 0.1126\n"
     ]
    }
   ],
   "source": [
    "model8.compile(loss=\"sparse_categorical_crossentropy\",\n",
    "              optimizer=\"sgd\",\n",
    "              metrics=[\"accuracy\"])\n",
    "history8 = model7.fit(tf_X_train, tf_y_train, epochs=12,\n",
    "                     validation_data=(tf_X_valid, tf_y_valid))"
   ]
  },
  {
   "cell_type": "code",
   "execution_count": 58,
   "metadata": {},
   "outputs": [
    {
     "name": "stdout",
     "output_type": "stream",
     "text": [
      "approximate completion time :  Sat Oct 24 14:19:07 2020\n",
      "time of execution in seconds :  35\n",
      "time of execution in minutes :  0.6\n"
     ]
    }
   ],
   "source": [
    "stop8 = time.perf_counter()\n",
    "tm8 = round(stop8 - start8)\n",
    "print(\"approximate completion time : \", time.asctime())\n",
    "print(\"time of execution in seconds : \", tm8)\n",
    "print(\"time of execution in minutes : \", round(tm8/60, 1))"
   ]
  },
  {
   "cell_type": "code",
   "execution_count": 59,
   "metadata": {},
   "outputs": [
    {
     "name": "stdout",
     "output_type": "stream",
     "text": [
      "313/313 [==============================] - 0s 882us/step - loss: 2.6105 - accuracy: 0.0892\n",
      "1719/1719 [==============================] - 1s 872us/step - loss: 2.6079 - accuracy: 0.0907\n"
     ]
    }
   ],
   "source": [
    "table[\"model 8\"][\"nbr_layers\"] = \"4\"\n",
    "table[\"model 8\"][\"nodes_p_layer\"] = \"30\"\n",
    "table[\"model 8\"][\"processing_time\"] = tm7\n",
    "table[\"model 8\"][\"testset_acc\"] = model8.evaluate(tf_X_test, tf_y_test)[1]\n",
    "table[\"model 8\"][\"trainset_acc\"] = model8.evaluate(tf_X_train, tf_y_train)[1]"
   ]
  },
  {
   "cell_type": "code",
   "execution_count": 60,
   "metadata": {},
   "outputs": [
    {
     "name": "stdout",
     "output_type": "stream",
     "text": [
      "processing time in seconds : \n"
     ]
    },
    {
     "data": {
      "text/html": [
       "<div>\n",
       "<style scoped>\n",
       "    .dataframe tbody tr th:only-of-type {\n",
       "        vertical-align: middle;\n",
       "    }\n",
       "\n",
       "    .dataframe tbody tr th {\n",
       "        vertical-align: top;\n",
       "    }\n",
       "\n",
       "    .dataframe thead th {\n",
       "        text-align: right;\n",
       "    }\n",
       "</style>\n",
       "<table border=\"1\" class=\"dataframe\">\n",
       "  <thead>\n",
       "    <tr style=\"text-align: right;\">\n",
       "      <th></th>\n",
       "      <th>pkg</th>\n",
       "      <th>act'n fn</th>\n",
       "      <th>nbr_layers</th>\n",
       "      <th>nodes_p_layer</th>\n",
       "      <th>processing_time</th>\n",
       "      <th>trainset_acc</th>\n",
       "      <th>testset_acc</th>\n",
       "    </tr>\n",
       "  </thead>\n",
       "  <tbody>\n",
       "    <tr>\n",
       "      <th>model 1</th>\n",
       "      <td>sci-kit</td>\n",
       "      <td>logistic</td>\n",
       "      <td>1</td>\n",
       "      <td>2</td>\n",
       "      <td>63</td>\n",
       "      <td>0.3212</td>\n",
       "      <td>0.3190</td>\n",
       "    </tr>\n",
       "    <tr>\n",
       "      <th>model 2</th>\n",
       "      <td>sci-kit</td>\n",
       "      <td>logistic</td>\n",
       "      <td>2</td>\n",
       "      <td>2</td>\n",
       "      <td>63</td>\n",
       "      <td>0.5879</td>\n",
       "      <td>0.5687</td>\n",
       "    </tr>\n",
       "    <tr>\n",
       "      <th>model 3</th>\n",
       "      <td>sci-kit</td>\n",
       "      <td>logistic</td>\n",
       "      <td>30</td>\n",
       "      <td>4</td>\n",
       "      <td>97</td>\n",
       "      <td>0.9965</td>\n",
       "      <td>0.9017</td>\n",
       "    </tr>\n",
       "    <tr>\n",
       "      <th>model 4</th>\n",
       "      <td>sci-kit</td>\n",
       "      <td>logistic</td>\n",
       "      <td>4</td>\n",
       "      <td>30</td>\n",
       "      <td>65</td>\n",
       "      <td>0.8682</td>\n",
       "      <td>0.8262</td>\n",
       "    </tr>\n",
       "    <tr>\n",
       "      <th>model 5</th>\n",
       "      <td>tf/keras</td>\n",
       "      <td>sigmoid</td>\n",
       "      <td>2</td>\n",
       "      <td>1</td>\n",
       "      <td>9</td>\n",
       "      <td>0.1123</td>\n",
       "      <td>0.1135</td>\n",
       "    </tr>\n",
       "    <tr>\n",
       "      <th>model 6</th>\n",
       "      <td>tf/keras</td>\n",
       "      <td>sigmoid</td>\n",
       "      <td>2</td>\n",
       "      <td>2</td>\n",
       "      <td>10</td>\n",
       "      <td>0.2063</td>\n",
       "      <td>0.2043</td>\n",
       "    </tr>\n",
       "    <tr>\n",
       "      <th>model 7</th>\n",
       "      <td>tf/keras</td>\n",
       "      <td>sigmoid</td>\n",
       "      <td>30</td>\n",
       "      <td>4</td>\n",
       "      <td>91</td>\n",
       "      <td>0.1123</td>\n",
       "      <td>0.1135</td>\n",
       "    </tr>\n",
       "    <tr>\n",
       "      <th>model 8</th>\n",
       "      <td>tf/keras</td>\n",
       "      <td>sigmoid</td>\n",
       "      <td>4</td>\n",
       "      <td>30</td>\n",
       "      <td>91</td>\n",
       "      <td>0.0907</td>\n",
       "      <td>0.0892</td>\n",
       "    </tr>\n",
       "  </tbody>\n",
       "</table>\n",
       "</div>"
      ],
      "text/plain": [
       "              pkg  act'n fn nbr_layers nodes_p_layer processing_time  \\\n",
       "model 1   sci-kit  logistic          1             2              63   \n",
       "model 2   sci-kit  logistic          2             2              63   \n",
       "model 3   sci-kit  logistic         30             4              97   \n",
       "model 4   sci-kit  logistic          4            30              65   \n",
       "model 5  tf/keras   sigmoid          2             1               9   \n",
       "model 6  tf/keras   sigmoid          2             2              10   \n",
       "model 7  tf/keras   sigmoid         30             4              91   \n",
       "model 8  tf/keras   sigmoid          4            30              91   \n",
       "\n",
       "        trainset_acc testset_acc  \n",
       "model 1       0.3212      0.3190  \n",
       "model 2       0.5879      0.5687  \n",
       "model 3       0.9965      0.9017  \n",
       "model 4       0.8682      0.8262  \n",
       "model 5       0.1123      0.1135  \n",
       "model 6       0.2063      0.2043  \n",
       "model 7       0.1123      0.1135  \n",
       "model 8       0.0907      0.0892  "
      ]
     },
     "execution_count": 60,
     "metadata": {},
     "output_type": "execute_result"
    }
   ],
   "source": [
    "print(\"processing time in seconds : \")\n",
    "pd.DataFrame(table).transpose()"
   ]
  }
 ],
 "metadata": {
  "kernelspec": {
   "display_name": "Python 3",
   "language": "python",
   "name": "python3"
  },
  "language_info": {
   "codemirror_mode": {
    "name": "ipython",
    "version": 3
   },
   "file_extension": ".py",
   "mimetype": "text/x-python",
   "name": "python",
   "nbconvert_exporter": "python",
   "pygments_lexer": "ipython3",
   "version": "3.7.4"
  }
 },
 "nbformat": 4,
 "nbformat_minor": 2
}
