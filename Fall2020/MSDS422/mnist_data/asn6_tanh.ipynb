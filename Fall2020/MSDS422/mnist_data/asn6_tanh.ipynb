{
 "cells": [
  {
   "cell_type": "code",
   "execution_count": 1,
   "metadata": {},
   "outputs": [],
   "source": [
    "# assignment 6\n",
    "# MSDS 422\n",
    "# Professor Anil Chaturvedi\n",
    "\n",
    "# https://github.com/ageron/handson-ml/blob/master/10_introduction_to_artificial_neural_networks.ipynb\n",
    "# https://github.com/ageron/handson-ml/blob/master/11_deep_learning.ipynb\n",
    "# https://github.com/ageron/handson-ml/blob/master/12_distributed_tensorflow.ipynb\n",
    "\n",
    "# more info\n",
    "# https://www.datacamp.com/community/tutorials/cnn-tensorflow-python\n",
    "# https://scikit-learn.org/stable/modules/generated/sklearn.neural_network.MLPClassifier.html\n",
    "\n",
    "# really wonderful resource for noobs\n",
    "# https://machinelearningmastery.com/rectified-linear-activation-function-for-deep-learning-neural-networks/"
   ]
  },
  {
   "cell_type": "markdown",
   "metadata": {},
   "source": [
    "<div style=\"text-align: right\"><b>pkg imports</b></div>"
   ]
  },
  {
   "cell_type": "code",
   "execution_count": 2,
   "metadata": {},
   "outputs": [
    {
     "name": "stderr",
     "output_type": "stream",
     "text": [
      "/opt/anaconda3/lib/python3.7/site-packages/statsmodels/tools/_testing.py:19: FutureWarning: pandas.util.testing is deprecated. Use the functions in the public API at pandas.testing instead.\n",
      "  import pandas.util.testing as tm\n"
     ]
    }
   ],
   "source": [
    "# basix\n",
    "import numpy as np\n",
    "import pandas as pd\n",
    "import seaborn as sns\n",
    "import math\n",
    "import random\n",
    "import time\n",
    "\n",
    "# prep\n",
    "from sklearn.model_selection import train_test_split\n",
    "from sklearn.model_selection import KFold\n",
    "from sklearn.model_selection import GridSearchCV\n",
    "from sklearn.preprocessing import StandardScaler\n",
    "\n",
    "#modeling\n",
    "from sklearn.linear_model import Perceptron\n",
    "from sklearn.neural_network import MLPClassifier\n",
    "import tensorflow as tf\n",
    "from keras.models import Sequential\n",
    "from keras.layers import Flatten\n",
    "from keras.layers import Dense\n",
    "\n",
    "# other\n",
    "\n",
    "%matplotlib inline   \n",
    "import matplotlib.pyplot as plt"
   ]
  },
  {
   "cell_type": "markdown",
   "metadata": {},
   "source": [
    "<div style=\"text-align: right\"><b>configs, table setup</b></div>"
   ]
  },
  {
   "cell_type": "code",
   "execution_count": 3,
   "metadata": {},
   "outputs": [],
   "source": [
    "\"\"\"\n",
    "for sci-kit:\n",
    "‘identity’, no-op activation, useful to implement linear bottleneck, returns f(x) = x\n",
    "‘logistic’, the logistic sigmoid function, returns f(x) = 1 / (1 + exp(-x)).\n",
    "‘tanh’, the hyperbolic tan function, returns f(x) = tanh(x).\n",
    "‘relu’, the rectified linear unit function, returns f(x) = max(0, x)\n",
    "\n",
    "for tf/keras, the same, respectively:\n",
    "linear\n",
    "sigmoid\n",
    "tanh\n",
    "relu\n",
    "\n",
    "also (with tf):\n",
    "selu\n",
    "\"\"\"\n",
    "\n",
    "#sk_act_fun = \"identity\"\n",
    "#sk_act_fun = \"logistic\"\n",
    "sk_act_fun = \"tanh\"\n",
    "#sk_act_fun = \"relu\"\n",
    "\n",
    "tf_act_fun = \"tanh\""
   ]
  },
  {
   "cell_type": "code",
   "execution_count": 4,
   "metadata": {},
   "outputs": [],
   "source": [
    "pd.options.display.float_format = \"{:,.4f}\".format\n",
    "RANDOM_SEED = 8675309\n",
    "responseVar = \"label\""
   ]
  },
  {
   "cell_type": "code",
   "execution_count": 5,
   "metadata": {},
   "outputs": [
    {
     "data": {
      "text/html": [
       "<div>\n",
       "<style scoped>\n",
       "    .dataframe tbody tr th:only-of-type {\n",
       "        vertical-align: middle;\n",
       "    }\n",
       "\n",
       "    .dataframe tbody tr th {\n",
       "        vertical-align: top;\n",
       "    }\n",
       "\n",
       "    .dataframe thead th {\n",
       "        text-align: right;\n",
       "    }\n",
       "</style>\n",
       "<table border=\"1\" class=\"dataframe\">\n",
       "  <thead>\n",
       "    <tr style=\"text-align: right;\">\n",
       "      <th></th>\n",
       "      <th>pkg</th>\n",
       "      <th>act'n fn</th>\n",
       "      <th>nbr_layers</th>\n",
       "      <th>nodes_p_layer</th>\n",
       "      <th>processing_time</th>\n",
       "      <th>trainset_acc</th>\n",
       "      <th>testset_acc</th>\n",
       "    </tr>\n",
       "  </thead>\n",
       "  <tbody>\n",
       "    <tr>\n",
       "      <th>model 1</th>\n",
       "      <td>sci-kit</td>\n",
       "      <td>tanh</td>\n",
       "      <td>None</td>\n",
       "      <td>None</td>\n",
       "      <td>None</td>\n",
       "      <td>None</td>\n",
       "      <td>None</td>\n",
       "    </tr>\n",
       "    <tr>\n",
       "      <th>model 2</th>\n",
       "      <td>sci-kit</td>\n",
       "      <td>tanh</td>\n",
       "      <td>None</td>\n",
       "      <td>None</td>\n",
       "      <td>None</td>\n",
       "      <td>None</td>\n",
       "      <td>None</td>\n",
       "    </tr>\n",
       "  </tbody>\n",
       "</table>\n",
       "</div>"
      ],
      "text/plain": [
       "             pkg act'n fn nbr_layers nodes_p_layer processing_time  \\\n",
       "model 1  sci-kit     tanh       None          None            None   \n",
       "model 2  sci-kit     tanh       None          None            None   \n",
       "\n",
       "        trainset_acc testset_acc  \n",
       "model 1         None        None  \n",
       "model 2         None        None  "
      ]
     },
     "execution_count": 5,
     "metadata": {},
     "output_type": "execute_result"
    }
   ],
   "source": [
    "# setup for consolidated table, later\n",
    "\n",
    "table = {\"model 1\":{\"pkg\":\"sci-kit\",\"act'n fn\":\"tanh\",\"nbr_layers\":None,\"nodes_p_layer\":None,\"processing_time\":None,\"trainset_acc\":None,\"testset_acc\":None},\n",
    "         \"model 2\":{\"pkg\":\"sci-kit\",\"act'n fn\":\"tanh\",\"nbr_layers\":None,\"nodes_p_layer\":None,\"processing_time\":None,\"trainset_acc\":None,\"testset_acc\":None},\n",
    "         \"model 3\":{\"pkg\":\"sci-kit\",\"act'n fn\":\"tanh\",\"nbr_layers\":None,\"nodes_p_layer\":None,\"processing_time\":None,\"trainset_acc\":None,\"testset_acc\":None},\n",
    "         \"model 4\":{\"pkg\":\"sci-kit\",\"act'n fn\":\"tanh\",\"nbr_layers\":None,\"nodes_p_layer\":None,\"processing_time\":None,\"trainset_acc\":None,\"testset_acc\":None},\n",
    "         \"model 5\":{\"pkg\":\"tf/keras\",\"act'n fn\":\"tanh\",\"nbr_layers\":None,\"nodes_p_layer\":None,\"processing_time\":None,\"trainset_acc\":None,\"testset_acc\":None},\n",
    "         \"model 6\":{\"pkg\":\"tf/keras\",\"act'n fn\":\"tanh\",\"nbr_layers\":None,\"nodes_p_layer\":None,\"processing_time\":None,\"trainset_acc\":None,\"testset_acc\":None},\n",
    "         \"model 7\":{\"pkg\":\"tf/keras\",\"act'n fn\":\"tanh\",\"nbr_layers\":None,\"nodes_p_layer\":None,\"processing_time\":None,\"trainset_acc\":None,\"testset_acc\":None},\n",
    "         \"model 8\":{\"pkg\":\"tf/keras\",\"act'n fn\":\"tanh\",\"nbr_layers\":None,\"nodes_p_layer\":None,\"processing_time\":None,\"trainset_acc\":None,\"testset_acc\":None}\n",
    "        }\n",
    "\n",
    "pd.DataFrame(table).transpose().head(2)"
   ]
  },
  {
   "cell_type": "markdown",
   "metadata": {},
   "source": [
    "<div style=\"text-align: right\"><b>defining things for model</b></div>"
   ]
  },
  {
   "cell_type": "code",
   "execution_count": 6,
   "metadata": {},
   "outputs": [],
   "source": [
    "# activation function\n",
    "def sigmoid(z):\n",
    "    return 1 / (1 + np.exp(-z))\n",
    "\n",
    "# lambda x: 1 / (1 + np.exp(-x))"
   ]
  },
  {
   "cell_type": "code",
   "execution_count": 7,
   "metadata": {},
   "outputs": [],
   "source": [
    "training_iters = 10\n",
    "learning_rate = 0.01\n",
    "b_size = 128\n",
    "\n",
    "# MNIST data input (img shape: 28*28)\n",
    "n_input = 28\n",
    "\n",
    "# MNIST total classes (0-9 digits)\n",
    "n_classes = 10"
   ]
  },
  {
   "cell_type": "markdown",
   "metadata": {},
   "source": [
    "<div style=\"text-align: right\"><b>data setup for scikit</b></div>"
   ]
  },
  {
   "cell_type": "code",
   "execution_count": 8,
   "metadata": {},
   "outputs": [],
   "source": [
    "sk_mnist_train = pd.read_csv('train.csv')\n",
    "sk_mnist_test = pd.read_csv('test.csv')\n",
    "#sk_mnist = pd.concat([mnist_test, mnist_train.drop(columns = \"label\")]) # combines the rows of 2 datasets"
   ]
  },
  {
   "cell_type": "code",
   "execution_count": 9,
   "metadata": {},
   "outputs": [
    {
     "name": "stdout",
     "output_type": "stream",
     "text": [
      "le shape of le train is le :  (42000, 785)\n",
      "le shape of le test        :  (28000, 784)\n"
     ]
    }
   ],
   "source": [
    "print(\"le shape of le train is le : \", sk_mnist_train.shape)\n",
    "print(\"le shape of le test        : \", sk_mnist_test.shape)"
   ]
  },
  {
   "cell_type": "code",
   "execution_count": 10,
   "metadata": {},
   "outputs": [],
   "source": [
    "# 'test' data is our future data\n",
    "sk_future_data = sk_mnist_test\n",
    "sk_mnist = sk_mnist_train\n",
    "del(sk_mnist_test)\n",
    "del(sk_mnist_train)"
   ]
  },
  {
   "cell_type": "code",
   "execution_count": 11,
   "metadata": {},
   "outputs": [
    {
     "name": "stdout",
     "output_type": "stream",
     "text": [
      "name 'sk_mnist_test' is not defined\n",
      "name 'sk_mnist_train' is not defined\n"
     ]
    }
   ],
   "source": [
    "try:\n",
    "    sk_mnist_test\n",
    "except NameError as e:\n",
    "    print(e) # meow\n",
    "    \n",
    "try:\n",
    "    sk_mnist_train\n",
    "except NameError as e:\n",
    "    print(e) # meow"
   ]
  },
  {
   "cell_type": "code",
   "execution_count": 12,
   "metadata": {},
   "outputs": [],
   "source": [
    "#X = mnist_scaled.loc[:, mnist_scaled.columns != responseVar]\n",
    "#y = mnist_scaled[responseVar]\n",
    "sk_X = sk_mnist.loc[:, sk_mnist.columns != responseVar]\n",
    "sk_y = sk_mnist[responseVar]"
   ]
  },
  {
   "cell_type": "code",
   "execution_count": 13,
   "metadata": {},
   "outputs": [],
   "source": [
    "pixel744 = pd.DataFrame(sk_mnist.describe()[\"pixel774\"]).loc[[\"count\",\"mean\",\"std\",\"min\",\"max\"],]"
   ]
  },
  {
   "cell_type": "code",
   "execution_count": 14,
   "metadata": {},
   "outputs": [],
   "source": [
    "scaler = StandardScaler()\n",
    "sk_np_mnist_x = scaler.fit_transform(sk_X)\n",
    "sk_X_scaled = pd.DataFrame(sk_np_mnist_x, index=sk_X.index, columns=sk_X.columns)"
   ]
  },
  {
   "cell_type": "code",
   "execution_count": 15,
   "metadata": {},
   "outputs": [
    {
     "data": {
      "text/html": [
       "<div>\n",
       "<style scoped>\n",
       "    .dataframe tbody tr th:only-of-type {\n",
       "        vertical-align: middle;\n",
       "    }\n",
       "\n",
       "    .dataframe tbody tr th {\n",
       "        vertical-align: top;\n",
       "    }\n",
       "\n",
       "    .dataframe thead th {\n",
       "        text-align: right;\n",
       "    }\n",
       "</style>\n",
       "<table border=\"1\" class=\"dataframe\">\n",
       "  <thead>\n",
       "    <tr style=\"text-align: right;\">\n",
       "      <th></th>\n",
       "      <th>pixel774</th>\n",
       "    </tr>\n",
       "  </thead>\n",
       "  <tbody>\n",
       "    <tr>\n",
       "      <th>count</th>\n",
       "      <td>42,000.0000</td>\n",
       "    </tr>\n",
       "    <tr>\n",
       "      <th>mean</th>\n",
       "      <td>0.0000</td>\n",
       "    </tr>\n",
       "    <tr>\n",
       "      <th>std</th>\n",
       "      <td>1.0000</td>\n",
       "    </tr>\n",
       "    <tr>\n",
       "      <th>min</th>\n",
       "      <td>-0.0347</td>\n",
       "    </tr>\n",
       "    <tr>\n",
       "      <th>max</th>\n",
       "      <td>40.2009</td>\n",
       "    </tr>\n",
       "  </tbody>\n",
       "</table>\n",
       "</div>"
      ],
      "text/plain": [
       "         pixel774\n",
       "count 42,000.0000\n",
       "mean       0.0000\n",
       "std        1.0000\n",
       "min       -0.0347\n",
       "max       40.2009"
      ]
     },
     "execution_count": 15,
     "metadata": {},
     "output_type": "execute_result"
    }
   ],
   "source": [
    "pd.DataFrame(sk_X_scaled.describe()[\"pixel774\"]).loc[[\"count\",\"mean\",\"std\",\"min\",\"max\"],]"
   ]
  },
  {
   "cell_type": "code",
   "execution_count": 16,
   "metadata": {},
   "outputs": [],
   "source": [
    "sk_X_train, sk_X_test, sk_y_train, sk_y_test = train_test_split(sk_X_scaled, sk_y,\n",
    "                                                    train_size=0.7,\n",
    "                                                    test_size=0.3,\n",
    "                                                    shuffle=True,\n",
    "                                                    random_state=RANDOM_SEED)"
   ]
  },
  {
   "cell_type": "markdown",
   "metadata": {},
   "source": [
    "<div style=\"text-align: right\"><b>data setup for tensorflow</b></div>"
   ]
  },
  {
   "cell_type": "code",
   "execution_count": 17,
   "metadata": {},
   "outputs": [],
   "source": [
    "from keras.datasets import mnist\n",
    "(tf_X_train, tf_y_train), (tf_X_test, tf_y_test) = mnist.load_data()"
   ]
  },
  {
   "cell_type": "code",
   "execution_count": 18,
   "metadata": {},
   "outputs": [],
   "source": [
    "tf_X_valid, tf_X_train = tf_X_train[:5000] / 255.0, tf_X_train[5000:] / 255.0\n",
    "tf_y_valid, tf_y_train = tf_y_train[:5000], tf_y_train[5000:]\n",
    "tf_X_test = tf_X_test / 255.0"
   ]
  },
  {
   "cell_type": "markdown",
   "metadata": {},
   "source": [
    "<div style=\"text-align: right\"><b>model 1 : 2x1. 2 layers w 1 neuron each. sci-kit</b></div>"
   ]
  },
  {
   "cell_type": "code",
   "execution_count": 19,
   "metadata": {},
   "outputs": [
    {
     "name": "stdout",
     "output_type": "stream",
     "text": [
      "approximate start time :  Sat Oct 24 14:25:37 2020\n"
     ]
    }
   ],
   "source": [
    "print(\"approximate start time : \", time.asctime())\n",
    "start1 = time.perf_counter()"
   ]
  },
  {
   "cell_type": "code",
   "execution_count": 20,
   "metadata": {},
   "outputs": [
    {
     "name": "stderr",
     "output_type": "stream",
     "text": [
      "/opt/anaconda3/lib/python3.7/site-packages/sklearn/neural_network/multilayer_perceptron.py:566: ConvergenceWarning: Stochastic Optimizer: Maximum iterations (200) reached and the optimization hasn't converged yet.\n",
      "  % self.max_iter, ConvergenceWarning)\n"
     ]
    }
   ],
   "source": [
    "twox1 = MLPClassifier(hidden_layer_sizes = (2, 1), # neurons comma layers\n",
    "                      activation = sk_act_fun, \n",
    "                      alpha = learning_rate,\n",
    "                      batch_size = b_size).fit(sk_X_train,\n",
    "                                               sk_y_train)"
   ]
  },
  {
   "cell_type": "code",
   "execution_count": 21,
   "metadata": {},
   "outputs": [
    {
     "name": "stdout",
     "output_type": "stream",
     "text": [
      "approximate completion time :  Sat Oct 24 14:26:30 2020\n",
      "time of execution in seconds :  53\n",
      "time of execution in minutes :  0.9\n"
     ]
    }
   ],
   "source": [
    "stop1 = time.perf_counter()\n",
    "tm1 = round(stop1 - start1)\n",
    "print(\"approximate completion time : \", time.asctime())\n",
    "print(\"time of execution in seconds : \", tm1)\n",
    "print(\"time of execution in minutes : \", round(tm1/60, 1))"
   ]
  },
  {
   "cell_type": "code",
   "execution_count": 22,
   "metadata": {},
   "outputs": [],
   "source": [
    "table[\"model 1\"][\"nbr_layers\"] = \"1\"\n",
    "table[\"model 1\"][\"nodes_p_layer\"] = \"2\"\n",
    "table[\"model 1\"][\"processing_time\"] = tm1\n",
    "table[\"model 1\"][\"testset_acc\"] = twox1.score(sk_X_test, sk_y_test)\n",
    "table[\"model 1\"][\"trainset_acc\"] = twox1.score(sk_X_train, sk_y_train)"
   ]
  },
  {
   "cell_type": "markdown",
   "metadata": {},
   "source": [
    "<div style=\"text-align: right\"><b>model 2 : 2x2. 2 layers w 2 neurons each. I think. sci-kit</b></div>"
   ]
  },
  {
   "cell_type": "code",
   "execution_count": 23,
   "metadata": {},
   "outputs": [
    {
     "name": "stdout",
     "output_type": "stream",
     "text": [
      "approximate start time :  Sat Oct 24 14:26:30 2020\n"
     ]
    }
   ],
   "source": [
    "print(\"approximate start time : \", time.asctime())\n",
    "start2 = time.perf_counter()"
   ]
  },
  {
   "cell_type": "code",
   "execution_count": 24,
   "metadata": {},
   "outputs": [
    {
     "name": "stderr",
     "output_type": "stream",
     "text": [
      "/opt/anaconda3/lib/python3.7/site-packages/sklearn/neural_network/multilayer_perceptron.py:566: ConvergenceWarning: Stochastic Optimizer: Maximum iterations (200) reached and the optimization hasn't converged yet.\n",
      "  % self.max_iter, ConvergenceWarning)\n"
     ]
    }
   ],
   "source": [
    "twox2 = MLPClassifier(hidden_layer_sizes = (2, 2), \n",
    "                      activation = sk_act_fun, \n",
    "                      alpha = learning_rate,\n",
    "                      batch_size = b_size).fit(sk_X_train,\n",
    "                                               sk_y_train)"
   ]
  },
  {
   "cell_type": "code",
   "execution_count": 25,
   "metadata": {},
   "outputs": [
    {
     "name": "stdout",
     "output_type": "stream",
     "text": [
      "approximate completion time :  Sat Oct 24 14:27:21 2020\n",
      "time of execution in seconds :  51\n",
      "time of execution in minutes :  0.8\n"
     ]
    }
   ],
   "source": [
    "stop2 = time.perf_counter()\n",
    "tm2 = round(stop2 - start2)\n",
    "print(\"approximate completion time : \", time.asctime())\n",
    "print(\"time of execution in seconds : \", tm2)\n",
    "print(\"time of execution in minutes : \", round(tm2/60, 1))"
   ]
  },
  {
   "cell_type": "code",
   "execution_count": 26,
   "metadata": {},
   "outputs": [],
   "source": [
    "table[\"model 2\"][\"nbr_layers\"] = \"2\"\n",
    "table[\"model 2\"][\"nodes_p_layer\"] = \"2\"\n",
    "table[\"model 2\"][\"processing_time\"] = tm2\n",
    "table[\"model 2\"][\"testset_acc\"] = twox2.score(sk_X_test, sk_y_test)\n",
    "table[\"model 2\"][\"trainset_acc\"] = twox2.score(sk_X_train, sk_y_train)"
   ]
  },
  {
   "cell_type": "markdown",
   "metadata": {},
   "source": [
    "<div style=\"text-align: right\"><b>model 3 : x1. 30 layers w 4 neurons each. sci-kit</b></div>"
   ]
  },
  {
   "cell_type": "code",
   "execution_count": 27,
   "metadata": {},
   "outputs": [
    {
     "name": "stdout",
     "output_type": "stream",
     "text": [
      "approximate start time :  Sat Oct 24 14:27:21 2020\n"
     ]
    }
   ],
   "source": [
    "print(\"approximate start time : \", time.asctime())\n",
    "start3 = time.perf_counter()"
   ]
  },
  {
   "cell_type": "code",
   "execution_count": 28,
   "metadata": {},
   "outputs": [],
   "source": [
    "thirtyx4 = MLPClassifier(hidden_layer_sizes = (30, 4), \n",
    "                      activation = sk_act_fun, \n",
    "                      alpha = learning_rate,\n",
    "                      batch_size = b_size).fit(sk_X_train,\n",
    "                                               sk_y_train)"
   ]
  },
  {
   "cell_type": "code",
   "execution_count": 29,
   "metadata": {},
   "outputs": [
    {
     "name": "stdout",
     "output_type": "stream",
     "text": [
      "approximate completion time :  Sat Oct 24 14:28:12 2020\n",
      "time of execution in seconds :  51\n",
      "time of execution in minutes :  0.8\n"
     ]
    }
   ],
   "source": [
    "stop3 = time.perf_counter()\n",
    "tm3 = round(stop3 - start3)\n",
    "print(\"approximate completion time : \", time.asctime())\n",
    "print(\"time of execution in seconds : \", tm3)\n",
    "print(\"time of execution in minutes : \", round(tm3/60, 1))"
   ]
  },
  {
   "cell_type": "code",
   "execution_count": 30,
   "metadata": {},
   "outputs": [],
   "source": [
    "table[\"model 3\"][\"nbr_layers\"] = \"30\"\n",
    "table[\"model 3\"][\"nodes_p_layer\"] = \"4\"\n",
    "table[\"model 3\"][\"processing_time\"] = tm3\n",
    "table[\"model 3\"][\"testset_acc\"] = thirtyx4.score(sk_X_test, sk_y_test)\n",
    "table[\"model 3\"][\"trainset_acc\"] = thirtyx4.score(sk_X_train, sk_y_train)"
   ]
  },
  {
   "cell_type": "markdown",
   "metadata": {},
   "source": [
    "<div style=\"text-align: right\"><b>model 4 : x1. 4 layers, each w 30 neurons. sci-kit</b></div>"
   ]
  },
  {
   "cell_type": "code",
   "execution_count": 31,
   "metadata": {},
   "outputs": [
    {
     "name": "stdout",
     "output_type": "stream",
     "text": [
      "approximate start time :  Sat Oct 24 14:28:12 2020\n"
     ]
    }
   ],
   "source": [
    "print(\"approximate start time : \", time.asctime())\n",
    "start4 = time.perf_counter()"
   ]
  },
  {
   "cell_type": "code",
   "execution_count": 32,
   "metadata": {},
   "outputs": [],
   "source": [
    "fourx30 = MLPClassifier(hidden_layer_sizes = (4, 30), \n",
    "                      activation = sk_act_fun, \n",
    "                      alpha = learning_rate,\n",
    "                      batch_size = b_size).fit(sk_X_train,\n",
    "                                               sk_y_train)"
   ]
  },
  {
   "cell_type": "code",
   "execution_count": 33,
   "metadata": {},
   "outputs": [
    {
     "name": "stdout",
     "output_type": "stream",
     "text": [
      "approximate completion time :  Sat Oct 24 14:29:00 2020\n",
      "time of execution in seconds :  47\n",
      "time of execution in minutes :  0.8\n"
     ]
    }
   ],
   "source": [
    "stop4 = time.perf_counter()\n",
    "tm4 = round(stop4 - start4)\n",
    "print(\"approximate completion time : \", time.asctime())\n",
    "print(\"time of execution in seconds : \", tm4)\n",
    "print(\"time of execution in minutes : \", round(tm4/60, 1))"
   ]
  },
  {
   "cell_type": "code",
   "execution_count": 34,
   "metadata": {},
   "outputs": [],
   "source": [
    "table[\"model 4\"][\"nbr_layers\"] = \"4\"\n",
    "table[\"model 4\"][\"nodes_p_layer\"] = \"30\"\n",
    "table[\"model 4\"][\"processing_time\"] = tm4\n",
    "table[\"model 4\"][\"testset_acc\"] = fourx30.score(sk_X_test, sk_y_test)\n",
    "table[\"model 4\"][\"trainset_acc\"] = fourx30.score(sk_X_train, sk_y_train)"
   ]
  },
  {
   "cell_type": "markdown",
   "metadata": {},
   "source": [
    "<div style=\"text-align: right\"><b>model 5 : 2x1. 2 layers w 1 neurons each</b></div>"
   ]
  },
  {
   "cell_type": "code",
   "execution_count": 35,
   "metadata": {},
   "outputs": [
    {
     "name": "stdout",
     "output_type": "stream",
     "text": [
      "approximate start time :  Sat Oct 24 14:29:00 2020\n"
     ]
    }
   ],
   "source": [
    "print(\"approximate start time : \", time.asctime())\n",
    "start5 = time.perf_counter()"
   ]
  },
  {
   "cell_type": "code",
   "execution_count": 36,
   "metadata": {},
   "outputs": [],
   "source": [
    "#classification MLP with two hidden layers\n",
    "model5 = Sequential()\n",
    "model5.add(Flatten(input_shape=[28, 28]))\n",
    "model5.add(Dense(1, activation=tf_act_fun))\n",
    "model5.add(Dense(1, activation=tf_act_fun))\n",
    "model5.add(Dense(10, activation=\"softmax\"))"
   ]
  },
  {
   "cell_type": "code",
   "execution_count": 37,
   "metadata": {},
   "outputs": [
    {
     "name": "stdout",
     "output_type": "stream",
     "text": [
      "Model: \"sequential\"\n",
      "_________________________________________________________________\n",
      "Layer (type)                 Output Shape              Param #   \n",
      "=================================================================\n",
      "flatten (Flatten)            (None, 784)               0         \n",
      "_________________________________________________________________\n",
      "dense (Dense)                (None, 1)                 785       \n",
      "_________________________________________________________________\n",
      "dense_1 (Dense)              (None, 1)                 2         \n",
      "_________________________________________________________________\n",
      "dense_2 (Dense)              (None, 10)                20        \n",
      "=================================================================\n",
      "Total params: 807\n",
      "Trainable params: 807\n",
      "Non-trainable params: 0\n",
      "_________________________________________________________________\n"
     ]
    }
   ],
   "source": [
    "model5.summary()"
   ]
  },
  {
   "cell_type": "code",
   "execution_count": 38,
   "metadata": {},
   "outputs": [],
   "source": [
    "model5.compile(loss=\"sparse_categorical_crossentropy\",\n",
    "              optimizer=\"sgd\",\n",
    "              metrics=[\"accuracy\"])"
   ]
  },
  {
   "cell_type": "code",
   "execution_count": 39,
   "metadata": {},
   "outputs": [
    {
     "name": "stdout",
     "output_type": "stream",
     "text": [
      "Epoch 1/5\n",
      "1719/1719 [==============================] - 2s 1ms/step - loss: 2.1349 - accuracy: 0.1876 - val_loss: 2.0322 - val_accuracy: 0.2144\n",
      "Epoch 2/5\n",
      "1719/1719 [==============================] - 2s 988us/step - loss: 1.9635 - accuracy: 0.2116 - val_loss: 1.9106 - val_accuracy: 0.2056\n",
      "Epoch 3/5\n",
      "1719/1719 [==============================] - 2s 990us/step - loss: 1.8866 - accuracy: 0.1969 - val_loss: 1.8642 - val_accuracy: 0.1850\n",
      "Epoch 4/5\n",
      "1719/1719 [==============================] - 2s 984us/step - loss: 1.8556 - accuracy: 0.2106 - val_loss: 1.8439 - val_accuracy: 0.2128\n",
      "Epoch 5/5\n",
      "1719/1719 [==============================] - 2s 986us/step - loss: 1.8402 - accuracy: 0.2189 - val_loss: 1.8315 - val_accuracy: 0.2198\n"
     ]
    }
   ],
   "source": [
    "history5 = model5.fit(tf_X_train, tf_y_train, epochs=5,\n",
    "                     validation_data=(tf_X_valid, tf_y_valid))"
   ]
  },
  {
   "cell_type": "code",
   "execution_count": 40,
   "metadata": {},
   "outputs": [
    {
     "name": "stdout",
     "output_type": "stream",
     "text": [
      "approximate completion time :  Sat Oct 24 14:29:09 2020\n",
      "time of execution in seconds :  9\n",
      "time of execution in minutes :  0.1\n"
     ]
    }
   ],
   "source": [
    "stop5 = time.perf_counter()\n",
    "tm5 = round(stop5 - start5)\n",
    "print(\"approximate completion time : \", time.asctime())\n",
    "print(\"time of execution in seconds : \", tm5)\n",
    "print(\"time of execution in minutes : \", round(tm5/60, 1))"
   ]
  },
  {
   "cell_type": "code",
   "execution_count": 41,
   "metadata": {},
   "outputs": [
    {
     "name": "stdout",
     "output_type": "stream",
     "text": [
      "313/313 [==============================] - 0s 828us/step - loss: 1.8135 - accuracy: 0.2229\n",
      "1719/1719 [==============================] - 1s 818us/step - loss: 1.8308 - accuracy: 0.2240\n"
     ]
    }
   ],
   "source": [
    "table[\"model 5\"][\"nbr_layers\"] = \"2\"\n",
    "table[\"model 5\"][\"nodes_p_layer\"] = \"1\"\n",
    "table[\"model 5\"][\"processing_time\"] = tm5\n",
    "table[\"model 5\"][\"testset_acc\"] = model5.evaluate(tf_X_test, tf_y_test)[1]\n",
    "table[\"model 5\"][\"trainset_acc\"] = model5.evaluate(tf_X_train, tf_y_train)[1]"
   ]
  },
  {
   "cell_type": "markdown",
   "metadata": {},
   "source": [
    "<div style=\"text-align: right\"><b>model 6 : 2x2. 2 layers w 2 neurons each</b></div>"
   ]
  },
  {
   "cell_type": "code",
   "execution_count": 42,
   "metadata": {},
   "outputs": [
    {
     "name": "stdout",
     "output_type": "stream",
     "text": [
      "approximate start time :  Sat Oct 24 14:29:11 2020\n"
     ]
    }
   ],
   "source": [
    "print(\"approximate start time : \", time.asctime())\n",
    "start6 = time.perf_counter()"
   ]
  },
  {
   "cell_type": "code",
   "execution_count": 43,
   "metadata": {},
   "outputs": [],
   "source": [
    "#classification MLP with two hidden layers\n",
    "model6 = Sequential()\n",
    "model6.add(Flatten(input_shape=[28, 28]))\n",
    "model6.add(Dense(2, activation=tf_act_fun))\n",
    "model6.add(Dense(2, activation=tf_act_fun))\n",
    "model6.add(Dense(10, activation=\"softmax\"))"
   ]
  },
  {
   "cell_type": "code",
   "execution_count": 44,
   "metadata": {},
   "outputs": [
    {
     "name": "stdout",
     "output_type": "stream",
     "text": [
      "Model: \"sequential_1\"\n",
      "_________________________________________________________________\n",
      "Layer (type)                 Output Shape              Param #   \n",
      "=================================================================\n",
      "flatten_1 (Flatten)          (None, 784)               0         \n",
      "_________________________________________________________________\n",
      "dense_3 (Dense)              (None, 2)                 1570      \n",
      "_________________________________________________________________\n",
      "dense_4 (Dense)              (None, 2)                 6         \n",
      "_________________________________________________________________\n",
      "dense_5 (Dense)              (None, 10)                30        \n",
      "=================================================================\n",
      "Total params: 1,606\n",
      "Trainable params: 1,606\n",
      "Non-trainable params: 0\n",
      "_________________________________________________________________\n"
     ]
    }
   ],
   "source": [
    "model6.summary()"
   ]
  },
  {
   "cell_type": "code",
   "execution_count": 45,
   "metadata": {},
   "outputs": [
    {
     "name": "stdout",
     "output_type": "stream",
     "text": [
      "Epoch 1/5\n",
      "1719/1719 [==============================] - 2s 1ms/step - loss: 2.0115 - accuracy: 0.2944 - val_loss: 1.7844 - val_accuracy: 0.4446\n",
      "Epoch 2/5\n",
      "1719/1719 [==============================] - 2s 1ms/step - loss: 1.6570 - accuracy: 0.4724 - val_loss: 1.5179 - val_accuracy: 0.5068\n",
      "Epoch 3/5\n",
      "1719/1719 [==============================] - 2s 1ms/step - loss: 1.4667 - accuracy: 0.4930 - val_loss: 1.3901 - val_accuracy: 0.5158\n",
      "Epoch 4/5\n",
      "1719/1719 [==============================] - 2s 1ms/step - loss: 1.3762 - accuracy: 0.5002 - val_loss: 1.3348 - val_accuracy: 0.5286\n",
      "Epoch 5/5\n",
      "1719/1719 [==============================] - 2s 1ms/step - loss: 1.3286 - accuracy: 0.5167 - val_loss: 1.2933 - val_accuracy: 0.5304\n"
     ]
    }
   ],
   "source": [
    "model6.compile(loss=\"sparse_categorical_crossentropy\",\n",
    "              optimizer=\"sgd\",\n",
    "              metrics=[\"accuracy\"])\n",
    "history6 = model6.fit(tf_X_train, tf_y_train, epochs=5,\n",
    "                     validation_data=(tf_X_valid, tf_y_valid))"
   ]
  },
  {
   "cell_type": "code",
   "execution_count": 46,
   "metadata": {
    "scrolled": true
   },
   "outputs": [
    {
     "name": "stdout",
     "output_type": "stream",
     "text": [
      "approximate completion time :  Sat Oct 24 14:29:20 2020\n",
      "time of execution in seconds :  9\n",
      "time of execution in minutes :  0.1\n"
     ]
    }
   ],
   "source": [
    "stop6 = time.perf_counter()\n",
    "tm6 = round(stop6 - start6)\n",
    "print(\"approximate completion time : \", time.asctime())\n",
    "print(\"time of execution in seconds : \", tm6)\n",
    "print(\"time of execution in minutes : \", round(tm6/60, 1))"
   ]
  },
  {
   "cell_type": "code",
   "execution_count": 47,
   "metadata": {},
   "outputs": [
    {
     "name": "stdout",
     "output_type": "stream",
     "text": [
      "313/313 [==============================] - 0s 809us/step - loss: 1.2993 - accuracy: 0.5206\n",
      "1719/1719 [==============================] - 1s 809us/step - loss: 1.3054 - accuracy: 0.5232\n"
     ]
    }
   ],
   "source": [
    "table[\"model 6\"][\"nbr_layers\"] = \"2\"\n",
    "table[\"model 6\"][\"nodes_p_layer\"] = \"2\"\n",
    "table[\"model 6\"][\"processing_time\"] = tm6\n",
    "table[\"model 6\"][\"testset_acc\"] = model6.evaluate(tf_X_test, tf_y_test)[1]\n",
    "table[\"model 6\"][\"trainset_acc\"] = model6.evaluate(tf_X_train, tf_y_train)[1]"
   ]
  },
  {
   "cell_type": "markdown",
   "metadata": {},
   "source": [
    "<div style=\"text-align: right\"><b>model 7 : 30x4. 30 layers w 4 neurons each</b></div>"
   ]
  },
  {
   "cell_type": "code",
   "execution_count": 48,
   "metadata": {},
   "outputs": [
    {
     "name": "stdout",
     "output_type": "stream",
     "text": [
      "approximate start time :  Sat Oct 24 14:29:22 2020\n"
     ]
    }
   ],
   "source": [
    "print(\"approximate start time : \", time.asctime())\n",
    "start7 = time.perf_counter()"
   ]
  },
  {
   "cell_type": "code",
   "execution_count": 49,
   "metadata": {},
   "outputs": [],
   "source": [
    "#classification MLP with two hidden layers\n",
    "model7 = Sequential()\n",
    "model7.add(Flatten(input_shape=[28, 28]))\n",
    "model7.add(Dense(4, activation=tf_act_fun))\n",
    "model7.add(Dense(4, activation=tf_act_fun))\n",
    "model7.add(Dense(4, activation=tf_act_fun))\n",
    "model7.add(Dense(4, activation=tf_act_fun))\n",
    "model7.add(Dense(4, activation=tf_act_fun))\n",
    "model7.add(Dense(4, activation=tf_act_fun))\n",
    "model7.add(Dense(4, activation=tf_act_fun))\n",
    "model7.add(Dense(4, activation=tf_act_fun))\n",
    "model7.add(Dense(4, activation=tf_act_fun))\n",
    "model7.add(Dense(4, activation=tf_act_fun))\n",
    "model7.add(Dense(4, activation=tf_act_fun))\n",
    "model7.add(Dense(4, activation=tf_act_fun))\n",
    "model7.add(Dense(4, activation=tf_act_fun))\n",
    "model7.add(Dense(4, activation=tf_act_fun))\n",
    "model7.add(Dense(4, activation=tf_act_fun))\n",
    "model7.add(Dense(4, activation=tf_act_fun))\n",
    "model7.add(Dense(4, activation=tf_act_fun))\n",
    "model7.add(Dense(4, activation=tf_act_fun))\n",
    "model7.add(Dense(4, activation=tf_act_fun))\n",
    "model7.add(Dense(4, activation=tf_act_fun))\n",
    "model7.add(Dense(4, activation=tf_act_fun))\n",
    "model7.add(Dense(4, activation=tf_act_fun))\n",
    "model7.add(Dense(4, activation=tf_act_fun))\n",
    "model7.add(Dense(4, activation=tf_act_fun))\n",
    "model7.add(Dense(4, activation=tf_act_fun))\n",
    "model7.add(Dense(4, activation=tf_act_fun))\n",
    "model7.add(Dense(4, activation=tf_act_fun))\n",
    "model7.add(Dense(4, activation=tf_act_fun))\n",
    "model7.add(Dense(4, activation=tf_act_fun))\n",
    "model7.add(Dense(10, activation=\"softmax\"))"
   ]
  },
  {
   "cell_type": "code",
   "execution_count": 50,
   "metadata": {},
   "outputs": [
    {
     "name": "stdout",
     "output_type": "stream",
     "text": [
      "Model: \"sequential_2\"\n",
      "_________________________________________________________________\n",
      "Layer (type)                 Output Shape              Param #   \n",
      "=================================================================\n",
      "flatten_2 (Flatten)          (None, 784)               0         \n",
      "_________________________________________________________________\n",
      "dense_6 (Dense)              (None, 4)                 3140      \n",
      "_________________________________________________________________\n",
      "dense_7 (Dense)              (None, 4)                 20        \n",
      "_________________________________________________________________\n",
      "dense_8 (Dense)              (None, 4)                 20        \n",
      "_________________________________________________________________\n",
      "dense_9 (Dense)              (None, 4)                 20        \n",
      "_________________________________________________________________\n",
      "dense_10 (Dense)             (None, 4)                 20        \n",
      "_________________________________________________________________\n",
      "dense_11 (Dense)             (None, 4)                 20        \n",
      "_________________________________________________________________\n",
      "dense_12 (Dense)             (None, 4)                 20        \n",
      "_________________________________________________________________\n",
      "dense_13 (Dense)             (None, 4)                 20        \n",
      "_________________________________________________________________\n",
      "dense_14 (Dense)             (None, 4)                 20        \n",
      "_________________________________________________________________\n",
      "dense_15 (Dense)             (None, 4)                 20        \n",
      "_________________________________________________________________\n",
      "dense_16 (Dense)             (None, 4)                 20        \n",
      "_________________________________________________________________\n",
      "dense_17 (Dense)             (None, 4)                 20        \n",
      "_________________________________________________________________\n",
      "dense_18 (Dense)             (None, 4)                 20        \n",
      "_________________________________________________________________\n",
      "dense_19 (Dense)             (None, 4)                 20        \n",
      "_________________________________________________________________\n",
      "dense_20 (Dense)             (None, 4)                 20        \n",
      "_________________________________________________________________\n",
      "dense_21 (Dense)             (None, 4)                 20        \n",
      "_________________________________________________________________\n",
      "dense_22 (Dense)             (None, 4)                 20        \n",
      "_________________________________________________________________\n",
      "dense_23 (Dense)             (None, 4)                 20        \n",
      "_________________________________________________________________\n",
      "dense_24 (Dense)             (None, 4)                 20        \n",
      "_________________________________________________________________\n",
      "dense_25 (Dense)             (None, 4)                 20        \n",
      "_________________________________________________________________\n",
      "dense_26 (Dense)             (None, 4)                 20        \n",
      "_________________________________________________________________\n",
      "dense_27 (Dense)             (None, 4)                 20        \n",
      "_________________________________________________________________\n",
      "dense_28 (Dense)             (None, 4)                 20        \n",
      "_________________________________________________________________\n",
      "dense_29 (Dense)             (None, 4)                 20        \n",
      "_________________________________________________________________\n",
      "dense_30 (Dense)             (None, 4)                 20        \n",
      "_________________________________________________________________\n",
      "dense_31 (Dense)             (None, 4)                 20        \n",
      "_________________________________________________________________\n",
      "dense_32 (Dense)             (None, 4)                 20        \n",
      "_________________________________________________________________\n",
      "dense_33 (Dense)             (None, 4)                 20        \n",
      "_________________________________________________________________\n",
      "dense_34 (Dense)             (None, 4)                 20        \n",
      "_________________________________________________________________\n",
      "dense_35 (Dense)             (None, 10)                50        \n",
      "=================================================================\n",
      "Total params: 3,750\n",
      "Trainable params: 3,750\n",
      "Non-trainable params: 0\n",
      "_________________________________________________________________\n"
     ]
    }
   ],
   "source": [
    "model7.summary()"
   ]
  },
  {
   "cell_type": "code",
   "execution_count": 51,
   "metadata": {},
   "outputs": [
    {
     "name": "stdout",
     "output_type": "stream",
     "text": [
      "Epoch 1/30\n",
      "1719/1719 [==============================] - 3s 2ms/step - loss: 2.2528 - accuracy: 0.1275 - val_loss: 2.0071 - val_accuracy: 0.1866\n",
      "Epoch 2/30\n",
      "1719/1719 [==============================] - 3s 2ms/step - loss: 1.9423 - accuracy: 0.2024 - val_loss: 1.8940 - val_accuracy: 0.2094\n",
      "Epoch 3/30\n",
      "1719/1719 [==============================] - 3s 2ms/step - loss: 1.8806 - accuracy: 0.2083 - val_loss: 1.8484 - val_accuracy: 0.2026\n",
      "Epoch 4/30\n",
      "1719/1719 [==============================] - 3s 2ms/step - loss: 1.8405 - accuracy: 0.2088 - val_loss: 1.8212 - val_accuracy: 0.2110\n",
      "Epoch 5/30\n",
      "1719/1719 [==============================] - 3s 2ms/step - loss: 1.8152 - accuracy: 0.2131 - val_loss: 1.7994 - val_accuracy: 0.2178\n",
      "Epoch 6/30\n",
      "1719/1719 [==============================] - 3s 2ms/step - loss: 1.7939 - accuracy: 0.2256 - val_loss: 1.7644 - val_accuracy: 0.2660\n",
      "Epoch 7/30\n",
      "1719/1719 [==============================] - 3s 2ms/step - loss: 1.7434 - accuracy: 0.2747 - val_loss: 1.6704 - val_accuracy: 0.3508\n",
      "Epoch 8/30\n",
      "1719/1719 [==============================] - 3s 2ms/step - loss: 1.6347 - accuracy: 0.3175 - val_loss: 1.5660 - val_accuracy: 0.3342\n",
      "Epoch 9/30\n",
      "1719/1719 [==============================] - 3s 2ms/step - loss: 1.5261 - accuracy: 0.3681 - val_loss: 1.4086 - val_accuracy: 0.4546\n",
      "Epoch 10/30\n",
      "1719/1719 [==============================] - 3s 2ms/step - loss: 1.3777 - accuracy: 0.4456 - val_loss: 1.2906 - val_accuracy: 0.5076\n",
      "Epoch 11/30\n",
      "1719/1719 [==============================] - 3s 2ms/step - loss: 1.2945 - accuracy: 0.4736 - val_loss: 1.3018 - val_accuracy: 0.3862\n",
      "Epoch 12/30\n",
      "1719/1719 [==============================] - 3s 2ms/step - loss: 1.2534 - accuracy: 0.4917 - val_loss: 1.1704 - val_accuracy: 0.5526\n",
      "Epoch 13/30\n",
      "1719/1719 [==============================] - 3s 2ms/step - loss: 1.2084 - accuracy: 0.5194 - val_loss: 1.1396 - val_accuracy: 0.5084\n",
      "Epoch 14/30\n",
      "1719/1719 [==============================] - 3s 2ms/step - loss: 1.1969 - accuracy: 0.5245 - val_loss: 1.1776 - val_accuracy: 0.5458\n",
      "Epoch 15/30\n",
      "1719/1719 [==============================] - 3s 2ms/step - loss: 1.1739 - accuracy: 0.5352 - val_loss: 1.1156 - val_accuracy: 0.5532\n",
      "Epoch 16/30\n",
      "1719/1719 [==============================] - 3s 2ms/step - loss: 1.1573 - accuracy: 0.5403 - val_loss: 1.1077 - val_accuracy: 0.5634\n",
      "Epoch 17/30\n",
      "1719/1719 [==============================] - 3s 2ms/step - loss: 1.1503 - accuracy: 0.5404 - val_loss: 1.2676 - val_accuracy: 0.5116\n",
      "Epoch 18/30\n",
      "1719/1719 [==============================] - 3s 2ms/step - loss: 1.1389 - accuracy: 0.5455 - val_loss: 1.3143 - val_accuracy: 0.5132\n",
      "Epoch 19/30\n",
      "1719/1719 [==============================] - 3s 2ms/step - loss: 1.1655 - accuracy: 0.5455 - val_loss: 1.1248 - val_accuracy: 0.5662\n",
      "Epoch 20/30\n",
      "1719/1719 [==============================] - 3s 2ms/step - loss: 1.1244 - accuracy: 0.5544 - val_loss: 1.0522 - val_accuracy: 0.5612\n",
      "Epoch 21/30\n",
      "1719/1719 [==============================] - 3s 2ms/step - loss: 1.2782 - accuracy: 0.5060 - val_loss: 1.3533 - val_accuracy: 0.4648\n",
      "Epoch 22/30\n",
      "1719/1719 [==============================] - 3s 2ms/step - loss: 1.3603 - accuracy: 0.4673 - val_loss: 1.2745 - val_accuracy: 0.4808\n",
      "Epoch 23/30\n",
      "1719/1719 [==============================] - 3s 2ms/step - loss: 1.2724 - accuracy: 0.4779 - val_loss: 1.2200 - val_accuracy: 0.4792\n",
      "Epoch 24/30\n",
      "1719/1719 [==============================] - 3s 2ms/step - loss: 1.2022 - accuracy: 0.4820 - val_loss: 1.1627 - val_accuracy: 0.4918\n",
      "Epoch 25/30\n",
      "1719/1719 [==============================] - 3s 2ms/step - loss: 1.1855 - accuracy: 0.4862 - val_loss: 1.1379 - val_accuracy: 0.4834\n",
      "Epoch 26/30\n",
      "1719/1719 [==============================] - 3s 2ms/step - loss: 1.1772 - accuracy: 0.4863 - val_loss: 1.1773 - val_accuracy: 0.4930\n",
      "Epoch 27/30\n",
      "1719/1719 [==============================] - 3s 2ms/step - loss: 1.1832 - accuracy: 0.4842 - val_loss: 1.4192 - val_accuracy: 0.4436\n",
      "Epoch 28/30\n",
      "1719/1719 [==============================] - 3s 2ms/step - loss: 1.2517 - accuracy: 0.4720 - val_loss: 1.1287 - val_accuracy: 0.5014\n",
      "Epoch 29/30\n",
      "1719/1719 [==============================] - 3s 2ms/step - loss: 1.4096 - accuracy: 0.4196 - val_loss: 1.2443 - val_accuracy: 0.4848\n",
      "Epoch 30/30\n",
      "1719/1719 [==============================] - 3s 2ms/step - loss: 1.2065 - accuracy: 0.4714 - val_loss: 1.1730 - val_accuracy: 0.4846\n"
     ]
    }
   ],
   "source": [
    "model7.compile(loss=\"sparse_categorical_crossentropy\",\n",
    "              optimizer=\"sgd\",\n",
    "              metrics=[\"accuracy\"])\n",
    "history7 = model7.fit(tf_X_train, tf_y_train, epochs=30,\n",
    "                     validation_data=(tf_X_valid, tf_y_valid))"
   ]
  },
  {
   "cell_type": "code",
   "execution_count": 52,
   "metadata": {},
   "outputs": [
    {
     "name": "stdout",
     "output_type": "stream",
     "text": [
      "approximate completion time :  Sat Oct 24 14:30:51 2020\n",
      "time of execution in seconds :  89\n",
      "time of execution in minutes :  1.5\n"
     ]
    }
   ],
   "source": [
    "stop7 = time.perf_counter()\n",
    "tm7 = round(stop7 - start7)\n",
    "print(\"approximate completion time : \", time.asctime())\n",
    "print(\"time of execution in seconds : \", tm7)\n",
    "print(\"time of execution in minutes : \", round(tm7/60, 1))"
   ]
  },
  {
   "cell_type": "code",
   "execution_count": 53,
   "metadata": {},
   "outputs": [
    {
     "name": "stdout",
     "output_type": "stream",
     "text": [
      "313/313 [==============================] - 0s 1ms/step - loss: 1.1765 - accuracy: 0.4735\n",
      "1719/1719 [==============================] - 2s 1ms/step - loss: 1.1736 - accuracy: 0.4798: 0s - loss: 1.1765 - accuracy: 0.\n"
     ]
    }
   ],
   "source": [
    "table[\"model 7\"][\"nbr_layers\"] = \"30\"\n",
    "table[\"model 7\"][\"nodes_p_layer\"] = \"4\"\n",
    "table[\"model 7\"][\"processing_time\"] = tm7\n",
    "table[\"model 7\"][\"testset_acc\"] = model7.evaluate(tf_X_test, tf_y_test)[1]\n",
    "table[\"model 7\"][\"trainset_acc\"] = model7.evaluate(tf_X_train, tf_y_train)[1]"
   ]
  },
  {
   "cell_type": "markdown",
   "metadata": {},
   "source": [
    "<div style=\"text-align: right\"><b>model 8 : 4x30. 4 layers w 30 neurons each</b></div>"
   ]
  },
  {
   "cell_type": "code",
   "execution_count": 54,
   "metadata": {},
   "outputs": [
    {
     "name": "stdout",
     "output_type": "stream",
     "text": [
      "approximate start time :  Sat Oct 24 14:30:53 2020\n"
     ]
    }
   ],
   "source": [
    "print(\"approximate start time : \", time.asctime())\n",
    "start8 = time.perf_counter()"
   ]
  },
  {
   "cell_type": "code",
   "execution_count": 55,
   "metadata": {},
   "outputs": [],
   "source": [
    "#classification MLP with two hidden layers\n",
    "model8 = Sequential()\n",
    "model8.add(Flatten(input_shape=[28, 28]))\n",
    "model8.add(Dense(30, activation=tf_act_fun))\n",
    "model8.add(Dense(30, activation=tf_act_fun))\n",
    "model8.add(Dense(30, activation=tf_act_fun))\n",
    "model8.add(Dense(30, activation=tf_act_fun))\n",
    "model8.add(Dense(10, activation=\"softmax\"))"
   ]
  },
  {
   "cell_type": "code",
   "execution_count": 56,
   "metadata": {},
   "outputs": [
    {
     "name": "stdout",
     "output_type": "stream",
     "text": [
      "Model: \"sequential_3\"\n",
      "_________________________________________________________________\n",
      "Layer (type)                 Output Shape              Param #   \n",
      "=================================================================\n",
      "flatten_3 (Flatten)          (None, 784)               0         \n",
      "_________________________________________________________________\n",
      "dense_36 (Dense)             (None, 30)                23550     \n",
      "_________________________________________________________________\n",
      "dense_37 (Dense)             (None, 30)                930       \n",
      "_________________________________________________________________\n",
      "dense_38 (Dense)             (None, 30)                930       \n",
      "_________________________________________________________________\n",
      "dense_39 (Dense)             (None, 30)                930       \n",
      "_________________________________________________________________\n",
      "dense_40 (Dense)             (None, 10)                310       \n",
      "=================================================================\n",
      "Total params: 26,650\n",
      "Trainable params: 26,650\n",
      "Non-trainable params: 0\n",
      "_________________________________________________________________\n"
     ]
    }
   ],
   "source": [
    "model8.summary()"
   ]
  },
  {
   "cell_type": "code",
   "execution_count": 57,
   "metadata": {},
   "outputs": [
    {
     "name": "stdout",
     "output_type": "stream",
     "text": [
      "Epoch 1/12\n",
      "1719/1719 [==============================] - 3s 2ms/step - loss: 1.3357 - accuracy: 0.4394 - val_loss: 1.6664 - val_accuracy: 0.3456\n",
      "Epoch 2/12\n",
      "1719/1719 [==============================] - 3s 2ms/step - loss: 1.2448 - accuracy: 0.4612 - val_loss: 1.1446 - val_accuracy: 0.4898\n",
      "Epoch 3/12\n",
      "1719/1719 [==============================] - 3s 2ms/step - loss: 1.3701 - accuracy: 0.4372 - val_loss: 1.1680 - val_accuracy: 0.4852\n",
      "Epoch 4/12\n",
      "1719/1719 [==============================] - 3s 2ms/step - loss: 1.1726 - accuracy: 0.4795 - val_loss: 1.1423 - val_accuracy: 0.4870\n",
      "Epoch 5/12\n",
      "1719/1719 [==============================] - 3s 2ms/step - loss: 1.1588 - accuracy: 0.4815 - val_loss: 1.1254 - val_accuracy: 0.4922\n",
      "Epoch 6/12\n",
      "1719/1719 [==============================] - 3s 2ms/step - loss: 1.1827 - accuracy: 0.4808 - val_loss: 1.1675 - val_accuracy: 0.4754\n",
      "Epoch 7/12\n",
      "1719/1719 [==============================] - 3s 2ms/step - loss: 1.3739 - accuracy: 0.4441 - val_loss: 1.3959 - val_accuracy: 0.4476\n",
      "Epoch 8/12\n",
      "1719/1719 [==============================] - 3s 2ms/step - loss: 1.2355 - accuracy: 0.4739 - val_loss: 1.1723 - val_accuracy: 0.4748\n",
      "Epoch 9/12\n",
      "1719/1719 [==============================] - 3s 2ms/step - loss: 1.2837 - accuracy: 0.4415 - val_loss: 1.3875 - val_accuracy: 0.3824\n",
      "Epoch 10/12\n",
      "1719/1719 [==============================] - 3s 2ms/step - loss: 1.3763 - accuracy: 0.3983 - val_loss: 1.2934 - val_accuracy: 0.4598\n",
      "Epoch 11/12\n",
      "1719/1719 [==============================] - 3s 2ms/step - loss: 1.6604 - accuracy: 0.3450 - val_loss: 1.5883 - val_accuracy: 0.3514\n",
      "Epoch 12/12\n",
      "1719/1719 [==============================] - 3s 2ms/step - loss: 1.4323 - accuracy: 0.3748 - val_loss: 1.4037 - val_accuracy: 0.3836\n"
     ]
    }
   ],
   "source": [
    "model8.compile(loss=\"sparse_categorical_crossentropy\",\n",
    "              optimizer=\"sgd\",\n",
    "              metrics=[\"accuracy\"])\n",
    "history8 = model7.fit(tf_X_train, tf_y_train, epochs=12,\n",
    "                     validation_data=(tf_X_valid, tf_y_valid))"
   ]
  },
  {
   "cell_type": "code",
   "execution_count": 58,
   "metadata": {},
   "outputs": [
    {
     "name": "stdout",
     "output_type": "stream",
     "text": [
      "approximate completion time :  Sat Oct 24 14:31:28 2020\n",
      "time of execution in seconds :  35\n",
      "time of execution in minutes :  0.6\n"
     ]
    }
   ],
   "source": [
    "stop8 = time.perf_counter()\n",
    "tm8 = round(stop8 - start8)\n",
    "print(\"approximate completion time : \", time.asctime())\n",
    "print(\"time of execution in seconds : \", tm8)\n",
    "print(\"time of execution in minutes : \", round(tm8/60, 1))"
   ]
  },
  {
   "cell_type": "code",
   "execution_count": 59,
   "metadata": {},
   "outputs": [
    {
     "name": "stdout",
     "output_type": "stream",
     "text": [
      "313/313 [==============================] - 0s 878us/step - loss: 2.3878 - accuracy: 0.1001\n",
      "1719/1719 [==============================] - 1s 860us/step - loss: 2.3854 - accuracy: 0.10060s\n"
     ]
    }
   ],
   "source": [
    "table[\"model 8\"][\"nbr_layers\"] = \"4\"\n",
    "table[\"model 8\"][\"nodes_p_layer\"] = \"30\"\n",
    "table[\"model 8\"][\"processing_time\"] = tm7\n",
    "table[\"model 8\"][\"testset_acc\"] = model8.evaluate(tf_X_test, tf_y_test)[1]\n",
    "table[\"model 8\"][\"trainset_acc\"] = model8.evaluate(tf_X_train, tf_y_train)[1]"
   ]
  },
  {
   "cell_type": "code",
   "execution_count": 60,
   "metadata": {},
   "outputs": [
    {
     "name": "stdout",
     "output_type": "stream",
     "text": [
      "processing time in seconds : \n"
     ]
    },
    {
     "data": {
      "text/html": [
       "<div>\n",
       "<style scoped>\n",
       "    .dataframe tbody tr th:only-of-type {\n",
       "        vertical-align: middle;\n",
       "    }\n",
       "\n",
       "    .dataframe tbody tr th {\n",
       "        vertical-align: top;\n",
       "    }\n",
       "\n",
       "    .dataframe thead th {\n",
       "        text-align: right;\n",
       "    }\n",
       "</style>\n",
       "<table border=\"1\" class=\"dataframe\">\n",
       "  <thead>\n",
       "    <tr style=\"text-align: right;\">\n",
       "      <th></th>\n",
       "      <th>pkg</th>\n",
       "      <th>act'n fn</th>\n",
       "      <th>nbr_layers</th>\n",
       "      <th>nodes_p_layer</th>\n",
       "      <th>processing_time</th>\n",
       "      <th>trainset_acc</th>\n",
       "      <th>testset_acc</th>\n",
       "    </tr>\n",
       "  </thead>\n",
       "  <tbody>\n",
       "    <tr>\n",
       "      <th>model 1</th>\n",
       "      <td>sci-kit</td>\n",
       "      <td>tanh</td>\n",
       "      <td>1</td>\n",
       "      <td>2</td>\n",
       "      <td>53</td>\n",
       "      <td>0.3876</td>\n",
       "      <td>0.3801</td>\n",
       "    </tr>\n",
       "    <tr>\n",
       "      <th>model 2</th>\n",
       "      <td>sci-kit</td>\n",
       "      <td>tanh</td>\n",
       "      <td>2</td>\n",
       "      <td>2</td>\n",
       "      <td>51</td>\n",
       "      <td>0.5874</td>\n",
       "      <td>0.5689</td>\n",
       "    </tr>\n",
       "    <tr>\n",
       "      <th>model 3</th>\n",
       "      <td>sci-kit</td>\n",
       "      <td>tanh</td>\n",
       "      <td>30</td>\n",
       "      <td>4</td>\n",
       "      <td>51</td>\n",
       "      <td>0.9919</td>\n",
       "      <td>0.8949</td>\n",
       "    </tr>\n",
       "    <tr>\n",
       "      <th>model 4</th>\n",
       "      <td>sci-kit</td>\n",
       "      <td>tanh</td>\n",
       "      <td>4</td>\n",
       "      <td>30</td>\n",
       "      <td>47</td>\n",
       "      <td>0.8855</td>\n",
       "      <td>0.8497</td>\n",
       "    </tr>\n",
       "    <tr>\n",
       "      <th>model 5</th>\n",
       "      <td>tf/keras</td>\n",
       "      <td>tanh</td>\n",
       "      <td>2</td>\n",
       "      <td>1</td>\n",
       "      <td>9</td>\n",
       "      <td>0.2240</td>\n",
       "      <td>0.2229</td>\n",
       "    </tr>\n",
       "    <tr>\n",
       "      <th>model 6</th>\n",
       "      <td>tf/keras</td>\n",
       "      <td>tanh</td>\n",
       "      <td>2</td>\n",
       "      <td>2</td>\n",
       "      <td>9</td>\n",
       "      <td>0.5232</td>\n",
       "      <td>0.5206</td>\n",
       "    </tr>\n",
       "    <tr>\n",
       "      <th>model 7</th>\n",
       "      <td>tf/keras</td>\n",
       "      <td>tanh</td>\n",
       "      <td>30</td>\n",
       "      <td>4</td>\n",
       "      <td>89</td>\n",
       "      <td>0.4798</td>\n",
       "      <td>0.4735</td>\n",
       "    </tr>\n",
       "    <tr>\n",
       "      <th>model 8</th>\n",
       "      <td>tf/keras</td>\n",
       "      <td>tanh</td>\n",
       "      <td>4</td>\n",
       "      <td>30</td>\n",
       "      <td>89</td>\n",
       "      <td>0.1006</td>\n",
       "      <td>0.1001</td>\n",
       "    </tr>\n",
       "  </tbody>\n",
       "</table>\n",
       "</div>"
      ],
      "text/plain": [
       "              pkg act'n fn nbr_layers nodes_p_layer processing_time  \\\n",
       "model 1   sci-kit     tanh          1             2              53   \n",
       "model 2   sci-kit     tanh          2             2              51   \n",
       "model 3   sci-kit     tanh         30             4              51   \n",
       "model 4   sci-kit     tanh          4            30              47   \n",
       "model 5  tf/keras     tanh          2             1               9   \n",
       "model 6  tf/keras     tanh          2             2               9   \n",
       "model 7  tf/keras     tanh         30             4              89   \n",
       "model 8  tf/keras     tanh          4            30              89   \n",
       "\n",
       "        trainset_acc testset_acc  \n",
       "model 1       0.3876      0.3801  \n",
       "model 2       0.5874      0.5689  \n",
       "model 3       0.9919      0.8949  \n",
       "model 4       0.8855      0.8497  \n",
       "model 5       0.2240      0.2229  \n",
       "model 6       0.5232      0.5206  \n",
       "model 7       0.4798      0.4735  \n",
       "model 8       0.1006      0.1001  "
      ]
     },
     "execution_count": 60,
     "metadata": {},
     "output_type": "execute_result"
    }
   ],
   "source": [
    "print(\"processing time in seconds : \")\n",
    "pd.DataFrame(table).transpose()"
   ]
  }
 ],
 "metadata": {
  "kernelspec": {
   "display_name": "Python 3",
   "language": "python",
   "name": "python3"
  },
  "language_info": {
   "codemirror_mode": {
    "name": "ipython",
    "version": 3
   },
   "file_extension": ".py",
   "mimetype": "text/x-python",
   "name": "python",
   "nbconvert_exporter": "python",
   "pygments_lexer": "ipython3",
   "version": "3.7.4"
  }
 },
 "nbformat": 4,
 "nbformat_minor": 2
}
