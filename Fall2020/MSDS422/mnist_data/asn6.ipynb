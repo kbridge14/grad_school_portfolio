{
 "cells": [
  {
   "cell_type": "code",
   "execution_count": 1,
   "metadata": {},
   "outputs": [],
   "source": [
    "# assignment 6\n",
    "# MSDS 422\n",
    "# Professor Anil Chaturvedi\n",
    "\n",
    "# https://github.com/ageron/handson-ml/blob/master/10_introduction_to_artificial_neural_networks.ipynb\n",
    "# https://github.com/ageron/handson-ml/blob/master/11_deep_learning.ipynb\n",
    "# https://github.com/ageron/handson-ml/blob/master/12_distributed_tensorflow.ipynb\n",
    "\n",
    "# more info\n",
    "# https://www.datacamp.com/community/tutorials/cnn-tensorflow-python\n",
    "# https://scikit-learn.org/stable/modules/generated/sklearn.neural_network.MLPClassifier.html\n",
    "\n",
    "# really wonderful resource for noobs\n",
    "# https://machinelearningmastery.com/rectified-linear-activation-function-for-deep-learning-neural-networks/"
   ]
  },
  {
   "cell_type": "markdown",
   "metadata": {},
   "source": [
    "<div style=\"text-align: right\"><b>pkg imports</b></div>"
   ]
  },
  {
   "cell_type": "code",
   "execution_count": 2,
   "metadata": {},
   "outputs": [
    {
     "name": "stderr",
     "output_type": "stream",
     "text": [
      "/opt/anaconda3/lib/python3.7/site-packages/statsmodels/tools/_testing.py:19: FutureWarning: pandas.util.testing is deprecated. Use the functions in the public API at pandas.testing instead.\n",
      "  import pandas.util.testing as tm\n"
     ]
    }
   ],
   "source": [
    "# basix\n",
    "import numpy as np\n",
    "import pandas as pd\n",
    "import seaborn as sns\n",
    "import math\n",
    "import random\n",
    "import time\n",
    "\n",
    "# prep\n",
    "from sklearn.model_selection import train_test_split\n",
    "from sklearn.model_selection import KFold\n",
    "from sklearn.model_selection import GridSearchCV\n",
    "from sklearn.preprocessing import StandardScaler\n",
    "\n",
    "#modeling\n",
    "from sklearn.linear_model import Perceptron\n",
    "from sklearn.neural_network import MLPClassifier\n",
    "import tensorflow as tf\n",
    "\n",
    "# other\n",
    "\n",
    "%matplotlib inline   \n",
    "import matplotlib.pyplot as plt"
   ]
  },
  {
   "cell_type": "markdown",
   "metadata": {},
   "source": [
    "<div style=\"text-align: right\"><b>configs, table setup</b></div>"
   ]
  },
  {
   "cell_type": "code",
   "execution_count": 3,
   "metadata": {},
   "outputs": [],
   "source": [
    "\"\"\"\n",
    "for sci-kit:\n",
    "‘identity’, no-op activation, useful to implement linear bottleneck, returns f(x) = x\n",
    "‘logistic’, the logistic sigmoid function, returns f(x) = 1 / (1 + exp(-x)).\n",
    "‘tanh’, the hyperbolic tan function, returns f(x) = tanh(x).\n",
    "‘relu’, the rectified linear unit function, returns f(x) = max(0, x)\n",
    "\n",
    "for tf:\n",
    "idk\n",
    "\"\"\"\n",
    "\n",
    "#act_fun = \"identity\"\n",
    "act_fun = \"logistic\"\n",
    "#act_fun = \"tanh\"\n",
    "#act_fun = \"relu\""
   ]
  },
  {
   "cell_type": "code",
   "execution_count": 4,
   "metadata": {},
   "outputs": [],
   "source": [
    "pd.options.display.float_format = \"{:,.4f}\".format\n",
    "RANDOM_SEED = 8675309\n",
    "responseVar = \"label\""
   ]
  },
  {
   "cell_type": "code",
   "execution_count": 5,
   "metadata": {},
   "outputs": [
    {
     "data": {
      "text/html": [
       "<div>\n",
       "<style scoped>\n",
       "    .dataframe tbody tr th:only-of-type {\n",
       "        vertical-align: middle;\n",
       "    }\n",
       "\n",
       "    .dataframe tbody tr th {\n",
       "        vertical-align: top;\n",
       "    }\n",
       "\n",
       "    .dataframe thead th {\n",
       "        text-align: right;\n",
       "    }\n",
       "</style>\n",
       "<table border=\"1\" class=\"dataframe\">\n",
       "  <thead>\n",
       "    <tr style=\"text-align: right;\">\n",
       "      <th></th>\n",
       "      <th>nbr_layers</th>\n",
       "      <th>nodes_p_layer</th>\n",
       "      <th>processing_time</th>\n",
       "      <th>trainset_acc</th>\n",
       "      <th>testset_acc</th>\n",
       "    </tr>\n",
       "  </thead>\n",
       "  <tbody>\n",
       "    <tr>\n",
       "      <th>model 1</th>\n",
       "      <td>None</td>\n",
       "      <td>None</td>\n",
       "      <td>None</td>\n",
       "      <td>None</td>\n",
       "      <td>None</td>\n",
       "    </tr>\n",
       "    <tr>\n",
       "      <th>model 2</th>\n",
       "      <td>None</td>\n",
       "      <td>None</td>\n",
       "      <td>None</td>\n",
       "      <td>None</td>\n",
       "      <td>None</td>\n",
       "    </tr>\n",
       "  </tbody>\n",
       "</table>\n",
       "</div>"
      ],
      "text/plain": [
       "        nbr_layers nodes_p_layer processing_time trainset_acc testset_acc\n",
       "model 1       None          None            None         None        None\n",
       "model 2       None          None            None         None        None"
      ]
     },
     "execution_count": 5,
     "metadata": {},
     "output_type": "execute_result"
    }
   ],
   "source": [
    "# setup for consolidated table, later\n",
    "\n",
    "table = {\"model 1\":{\"nbr_layers\":None,\"nodes_p_layer\":None,\"processing_time\":None,\"trainset_acc\":None,\"testset_acc\":None},\n",
    "         \"model 2\":{\"nbr_layers\":None,\"nodes_p_layer\":None,\"processing_time\":None,\"trainset_acc\":None,\"testset_acc\":None},\n",
    "         \"model 3\":{\"nbr_layers\":None,\"nodes_p_layer\":None,\"processing_time\":None,\"trainset_acc\":None,\"testset_acc\":None},\n",
    "         \"model 4\":{\"nbr_layers\":None,\"nodes_p_layer\":None,\"processing_time\":None,\"trainset_acc\":None,\"testset_acc\":None},\n",
    "         \"model 5\":{\"nbr_layers\":None,\"nodes_p_layer\":None,\"processing_time\":None,\"trainset_acc\":None,\"testset_acc\":None},\n",
    "         \"model 6\":{\"nbr_layers\":None,\"nodes_p_layer\":None,\"processing_time\":None,\"trainset_acc\":None,\"testset_acc\":None},\n",
    "         \"model 7\":{\"nbr_layers\":None,\"nodes_p_layer\":None,\"processing_time\":None,\"trainset_acc\":None,\"testset_acc\":None},\n",
    "         \"model 8\":{\"nbr_layers\":None,\"nodes_p_layer\":None,\"processing_time\":None,\"trainset_acc\":None,\"testset_acc\":None}\n",
    "        }\n",
    "\n",
    "pd.DataFrame(table).transpose().head(2)"
   ]
  },
  {
   "cell_type": "markdown",
   "metadata": {},
   "source": [
    "<div style=\"text-align: right\"><b>defining things for model</b></div>"
   ]
  },
  {
   "cell_type": "code",
   "execution_count": 6,
   "metadata": {},
   "outputs": [],
   "source": [
    "# activation function\n",
    "def sigmoid(z):\n",
    "    return 1 / (1 + np.exp(-z))\n",
    "\n",
    "# lambda x: 1 / (1 + np.exp(-x))"
   ]
  },
  {
   "cell_type": "code",
   "execution_count": 7,
   "metadata": {},
   "outputs": [],
   "source": [
    "training_iters = 10\n",
    "learning_rate = 0.01\n",
    "b_size = 128\n",
    "\n",
    "# MNIST data input (img shape: 28*28)\n",
    "n_input = 28\n",
    "\n",
    "# MNIST total classes (0-9 digits)\n",
    "n_classes = 10"
   ]
  },
  {
   "cell_type": "markdown",
   "metadata": {},
   "source": [
    "<div style=\"text-align: right\"><b>data setup for scikit</b></div>"
   ]
  },
  {
   "cell_type": "code",
   "execution_count": 8,
   "metadata": {},
   "outputs": [],
   "source": [
    "mnist_train = pd.read_csv('train.csv')\n",
    "mnist_test = pd.read_csv('test.csv')\n",
    "#mnist = pd.concat([mnist_test, mnist_train.drop(columns = \"label\")]) # combines the rows of 2 datasets"
   ]
  },
  {
   "cell_type": "code",
   "execution_count": 9,
   "metadata": {},
   "outputs": [
    {
     "name": "stdout",
     "output_type": "stream",
     "text": [
      "le shape of le train is le :  (42000, 785)\n",
      "le shape of le test        :  (28000, 784)\n"
     ]
    }
   ],
   "source": [
    "print(\"le shape of le train is le : \", mnist_train.shape)\n",
    "print(\"le shape of le test        : \", mnist_test.shape)"
   ]
  },
  {
   "cell_type": "code",
   "execution_count": 10,
   "metadata": {},
   "outputs": [],
   "source": [
    "# 'test' data is our future data\n",
    "future_data = mnist_test\n",
    "mnist = mnist_train\n",
    "del(mnist_test)\n",
    "del(mnist_train)"
   ]
  },
  {
   "cell_type": "code",
   "execution_count": 11,
   "metadata": {},
   "outputs": [
    {
     "name": "stdout",
     "output_type": "stream",
     "text": [
      "name 'mnist_test' is not defined\n",
      "name 'mnist_train' is not defined\n"
     ]
    }
   ],
   "source": [
    "try:\n",
    "    mnist_test\n",
    "except NameError as e:\n",
    "    print(e) # meow\n",
    "    \n",
    "try:\n",
    "    mnist_train\n",
    "except NameError as e:\n",
    "    print(e) # meow"
   ]
  },
  {
   "cell_type": "code",
   "execution_count": 12,
   "metadata": {},
   "outputs": [],
   "source": [
    "#X = mnist_scaled.loc[:, mnist_scaled.columns != responseVar]\n",
    "#y = mnist_scaled[responseVar]\n",
    "X = mnist.loc[:, mnist.columns != responseVar]\n",
    "y = mnist[responseVar]"
   ]
  },
  {
   "cell_type": "code",
   "execution_count": 13,
   "metadata": {},
   "outputs": [],
   "source": [
    "pixel744 = pd.DataFrame(mnist.describe()[\"pixel774\"]).loc[[\"count\",\"mean\",\"std\",\"min\",\"max\"],]"
   ]
  },
  {
   "cell_type": "code",
   "execution_count": 14,
   "metadata": {},
   "outputs": [],
   "source": [
    "scaler = StandardScaler()\n",
    "np_mnist_x = scaler.fit_transform(X)\n",
    "X_scaled = pd.DataFrame(np_mnist_x, index=X.index, columns=X.columns)"
   ]
  },
  {
   "cell_type": "code",
   "execution_count": 15,
   "metadata": {},
   "outputs": [
    {
     "data": {
      "text/html": [
       "<div>\n",
       "<style scoped>\n",
       "    .dataframe tbody tr th:only-of-type {\n",
       "        vertical-align: middle;\n",
       "    }\n",
       "\n",
       "    .dataframe tbody tr th {\n",
       "        vertical-align: top;\n",
       "    }\n",
       "\n",
       "    .dataframe thead th {\n",
       "        text-align: right;\n",
       "    }\n",
       "</style>\n",
       "<table border=\"1\" class=\"dataframe\">\n",
       "  <thead>\n",
       "    <tr style=\"text-align: right;\">\n",
       "      <th></th>\n",
       "      <th>pixel774</th>\n",
       "    </tr>\n",
       "  </thead>\n",
       "  <tbody>\n",
       "    <tr>\n",
       "      <th>count</th>\n",
       "      <td>42,000.0000</td>\n",
       "    </tr>\n",
       "    <tr>\n",
       "      <th>mean</th>\n",
       "      <td>0.0000</td>\n",
       "    </tr>\n",
       "    <tr>\n",
       "      <th>std</th>\n",
       "      <td>1.0000</td>\n",
       "    </tr>\n",
       "    <tr>\n",
       "      <th>min</th>\n",
       "      <td>-0.0347</td>\n",
       "    </tr>\n",
       "    <tr>\n",
       "      <th>max</th>\n",
       "      <td>40.2009</td>\n",
       "    </tr>\n",
       "  </tbody>\n",
       "</table>\n",
       "</div>"
      ],
      "text/plain": [
       "         pixel774\n",
       "count 42,000.0000\n",
       "mean       0.0000\n",
       "std        1.0000\n",
       "min       -0.0347\n",
       "max       40.2009"
      ]
     },
     "execution_count": 15,
     "metadata": {},
     "output_type": "execute_result"
    }
   ],
   "source": [
    "pd.DataFrame(X_scaled.describe()[\"pixel774\"]).loc[[\"count\",\"mean\",\"std\",\"min\",\"max\"],]"
   ]
  },
  {
   "cell_type": "code",
   "execution_count": 16,
   "metadata": {},
   "outputs": [],
   "source": [
    "X_train, X_test, y_train, y_test = train_test_split(X_scaled, y,\n",
    "                                                    train_size=0.7,\n",
    "                                                    test_size=0.3,\n",
    "                                                    shuffle=True,\n",
    "                                                    random_state=RANDOM_SEED)"
   ]
  },
  {
   "cell_type": "markdown",
   "metadata": {},
   "source": [
    "<div style=\"text-align: right\"><b>data setup for tensorflow</b></div>"
   ]
  },
  {
   "cell_type": "code",
   "execution_count": 17,
   "metadata": {},
   "outputs": [],
   "source": [
    "from keras.datasets import mnist\n",
    "(tf_X_train, tf_y_train), (tf_X_test, tf_y_test) = mnist.load_data()"
   ]
  },
  {
   "cell_type": "code",
   "execution_count": 18,
   "metadata": {},
   "outputs": [],
   "source": [
    "# scale ?"
   ]
  },
  {
   "cell_type": "markdown",
   "metadata": {},
   "source": [
    "<div style=\"text-align: right\"><b>model 1 : 2x1. 2 layers w 1 neuron each. sci-kit</b></div>"
   ]
  },
  {
   "cell_type": "code",
   "execution_count": 19,
   "metadata": {},
   "outputs": [
    {
     "name": "stdout",
     "output_type": "stream",
     "text": [
      "approximate start time :  Wed Oct 21 23:40:33 2020\n"
     ]
    }
   ],
   "source": [
    "print(\"approximate start time : \", time.asctime())\n",
    "start1 = time.perf_counter()"
   ]
  },
  {
   "cell_type": "code",
   "execution_count": 20,
   "metadata": {},
   "outputs": [
    {
     "name": "stderr",
     "output_type": "stream",
     "text": [
      "/opt/anaconda3/lib/python3.7/site-packages/sklearn/neural_network/multilayer_perceptron.py:566: ConvergenceWarning: Stochastic Optimizer: Maximum iterations (200) reached and the optimization hasn't converged yet.\n",
      "  % self.max_iter, ConvergenceWarning)\n"
     ]
    }
   ],
   "source": [
    "twox1 = MLPClassifier(hidden_layer_sizes = (2, 1), # neurons comma layers\n",
    "                      activation = act_fun, \n",
    "                      alpha = learning_rate,\n",
    "                      batch_size = b_size).fit(X_train,\n",
    "                                               y_train)"
   ]
  },
  {
   "cell_type": "code",
   "execution_count": 21,
   "metadata": {},
   "outputs": [
    {
     "name": "stdout",
     "output_type": "stream",
     "text": [
      "approximate completion time :  Wed Oct 21 23:41:20 2020\n",
      "time of execution in seconds :  47\n",
      "time of execution in minutes :  0.8\n"
     ]
    }
   ],
   "source": [
    "stop1 = time.perf_counter()\n",
    "tm1 = round(stop1 - start1)\n",
    "print(\"approximate completion time : \", time.asctime())\n",
    "print(\"time of execution in seconds : \", tm1)\n",
    "print(\"time of execution in minutes : \", round(tm1/60, 1))"
   ]
  },
  {
   "cell_type": "code",
   "execution_count": 47,
   "metadata": {},
   "outputs": [],
   "source": [
    "table[\"model 1\"][\"nbr_layers\"] = \"1\"\n",
    "table[\"model 1\"][\"nodes_p_layer\"] = \"2\"\n",
    "table[\"model 1\"][\"processing_time\"] = tm1\n",
    "table[\"model 1\"][\"testset_acc\"] = twox1.score(X_test, y_test)\n",
    "table[\"model 1\"][\"trainset_acc\"] = twox1.score(X_train, y_train)"
   ]
  },
  {
   "cell_type": "markdown",
   "metadata": {},
   "source": [
    "<div style=\"text-align: right\"><b>model 2 : 2x2. 2 layers w 2 neurons each. I think. sci-kit</b></div>"
   ]
  },
  {
   "cell_type": "code",
   "execution_count": 23,
   "metadata": {},
   "outputs": [
    {
     "name": "stdout",
     "output_type": "stream",
     "text": [
      "approximate start time :  Wed Oct 21 23:41:20 2020\n"
     ]
    }
   ],
   "source": [
    "print(\"approximate start time : \", time.asctime())\n",
    "start2 = time.perf_counter()"
   ]
  },
  {
   "cell_type": "code",
   "execution_count": 24,
   "metadata": {},
   "outputs": [
    {
     "name": "stderr",
     "output_type": "stream",
     "text": [
      "/opt/anaconda3/lib/python3.7/site-packages/sklearn/neural_network/multilayer_perceptron.py:566: ConvergenceWarning: Stochastic Optimizer: Maximum iterations (200) reached and the optimization hasn't converged yet.\n",
      "  % self.max_iter, ConvergenceWarning)\n"
     ]
    }
   ],
   "source": [
    "twox2 = MLPClassifier(hidden_layer_sizes = (2, 2), \n",
    "                      activation = act_fun, \n",
    "                      alpha = learning_rate,\n",
    "                      batch_size = b_size).fit(X_train,\n",
    "                                               y_train)"
   ]
  },
  {
   "cell_type": "code",
   "execution_count": 25,
   "metadata": {},
   "outputs": [
    {
     "name": "stdout",
     "output_type": "stream",
     "text": [
      "approximate completion time :  Wed Oct 21 23:42:07 2020\n",
      "time of execution in seconds :  47\n",
      "time of execution in minutes :  0.8\n"
     ]
    }
   ],
   "source": [
    "stop2 = time.perf_counter()\n",
    "tm2 = round(stop2 - start2)\n",
    "print(\"approximate completion time : \", time.asctime())\n",
    "print(\"time of execution in seconds : \", tm2)\n",
    "print(\"time of execution in minutes : \", round(tm2/60, 1))"
   ]
  },
  {
   "cell_type": "code",
   "execution_count": 26,
   "metadata": {},
   "outputs": [],
   "source": [
    "table[\"model 2\"][\"nbr_layers\"] = \"2\"\n",
    "table[\"model 2\"][\"nodes_p_layer\"] = \"2\"\n",
    "table[\"model 2\"][\"processing_time\"] = tm2\n",
    "table[\"model 2\"][\"testset_acc\"] = twox2.score(X_test, y_test)\n",
    "table[\"model 2\"][\"trainset_acc\"] = twox2.score(X_train, y_train)"
   ]
  },
  {
   "cell_type": "markdown",
   "metadata": {},
   "source": [
    "<div style=\"text-align: right\"><b>model 3 : x1. 30 layers w 4 neurons each. sci-kit</b></div>"
   ]
  },
  {
   "cell_type": "code",
   "execution_count": 27,
   "metadata": {},
   "outputs": [
    {
     "name": "stdout",
     "output_type": "stream",
     "text": [
      "approximate start time :  Wed Oct 21 23:42:07 2020\n"
     ]
    }
   ],
   "source": [
    "print(\"approximate start time : \", time.asctime())\n",
    "start3 = time.perf_counter()"
   ]
  },
  {
   "cell_type": "code",
   "execution_count": 43,
   "metadata": {},
   "outputs": [
    {
     "name": "stderr",
     "output_type": "stream",
     "text": [
      "/opt/anaconda3/lib/python3.7/site-packages/sklearn/neural_network/multilayer_perceptron.py:566: ConvergenceWarning: Stochastic Optimizer: Maximum iterations (200) reached and the optimization hasn't converged yet.\n",
      "  % self.max_iter, ConvergenceWarning)\n"
     ]
    }
   ],
   "source": [
    "thirtyx4 = MLPClassifier(hidden_layer_sizes = (30, 4), \n",
    "                      activation = act_fun, \n",
    "                      alpha = learning_rate,\n",
    "                      batch_size = b_size).fit(X_train,\n",
    "                                               y_train)"
   ]
  },
  {
   "cell_type": "code",
   "execution_count": 29,
   "metadata": {},
   "outputs": [
    {
     "name": "stdout",
     "output_type": "stream",
     "text": [
      "approximate completion time :  Wed Oct 21 23:43:44 2020\n",
      "time of execution in seconds :  96\n",
      "time of execution in minutes :  1.6\n"
     ]
    }
   ],
   "source": [
    "stop3 = time.perf_counter()\n",
    "tm3 = round(stop3 - start3)\n",
    "print(\"approximate completion time : \", time.asctime())\n",
    "print(\"time of execution in seconds : \", tm3)\n",
    "print(\"time of execution in minutes : \", round(tm3/60, 1))"
   ]
  },
  {
   "cell_type": "code",
   "execution_count": 44,
   "metadata": {},
   "outputs": [],
   "source": [
    "table[\"model 3\"][\"nbr_layers\"] = \"30\"\n",
    "table[\"model 3\"][\"nodes_p_layer\"] = \"4\"\n",
    "table[\"model 3\"][\"processing_time\"] = tm3\n",
    "table[\"model 3\"][\"testset_acc\"] = thirtyx4.score(X_test, y_test)\n",
    "table[\"model 3\"][\"trainset_acc\"] = thirtyx4.score(X_train, y_train)"
   ]
  },
  {
   "cell_type": "markdown",
   "metadata": {},
   "source": [
    "<div style=\"text-align: right\"><b>model 4 : x1. 4 layers, each w 30 neurons. sci-kit</b></div>"
   ]
  },
  {
   "cell_type": "code",
   "execution_count": 31,
   "metadata": {},
   "outputs": [
    {
     "name": "stdout",
     "output_type": "stream",
     "text": [
      "approximate start time :  Wed Oct 21 23:43:44 2020\n"
     ]
    }
   ],
   "source": [
    "print(\"approximate start time : \", time.asctime())\n",
    "start4 = time.perf_counter()"
   ]
  },
  {
   "cell_type": "code",
   "execution_count": 32,
   "metadata": {},
   "outputs": [
    {
     "name": "stderr",
     "output_type": "stream",
     "text": [
      "/opt/anaconda3/lib/python3.7/site-packages/sklearn/neural_network/multilayer_perceptron.py:566: ConvergenceWarning: Stochastic Optimizer: Maximum iterations (200) reached and the optimization hasn't converged yet.\n",
      "  % self.max_iter, ConvergenceWarning)\n"
     ]
    }
   ],
   "source": [
    "fourx30 = MLPClassifier(hidden_layer_sizes = (4, 30), \n",
    "                      activation = act_fun, \n",
    "                      alpha = learning_rate,\n",
    "                      batch_size = b_size).fit(X_train,\n",
    "                                               y_train)"
   ]
  },
  {
   "cell_type": "code",
   "execution_count": 33,
   "metadata": {},
   "outputs": [
    {
     "name": "stdout",
     "output_type": "stream",
     "text": [
      "approximate completion time :  Wed Oct 21 23:44:50 2020\n",
      "time of execution in seconds :  66\n",
      "time of execution in minutes :  1.1\n"
     ]
    }
   ],
   "source": [
    "stop4 = time.perf_counter()\n",
    "tm4 = round(stop4 - start4)\n",
    "print(\"approximate completion time : \", time.asctime())\n",
    "print(\"time of execution in seconds : \", tm4)\n",
    "print(\"time of execution in minutes : \", round(tm4/60, 1))"
   ]
  },
  {
   "cell_type": "code",
   "execution_count": 45,
   "metadata": {},
   "outputs": [],
   "source": [
    "table[\"model 4\"][\"nbr_layers\"] = \"4\"\n",
    "table[\"model 4\"][\"nodes_p_layer\"] = \"30\"\n",
    "table[\"model 4\"][\"processing_time\"] = tm4\n",
    "table[\"model 4\"][\"testset_acc\"] = fourx30.score(X_test, y_test)\n",
    "table[\"model 4\"][\"trainset_acc\"] = fourx30.score(X_train, y_train)"
   ]
  },
  {
   "cell_type": "markdown",
   "metadata": {},
   "source": [
    "<div style=\"text-align: right\"><b>model 5 : 2x1. 2 layers w 1 neurons each</b></div>"
   ]
  },
  {
   "cell_type": "code",
   "execution_count": 35,
   "metadata": {},
   "outputs": [
    {
     "name": "stdout",
     "output_type": "stream",
     "text": [
      "approximate start time :  Wed Oct 21 23:44:50 2020\n"
     ]
    }
   ],
   "source": [
    "print(\"approximate start time : \", time.asctime())\n",
    "start5 = time.perf_counter()"
   ]
  },
  {
   "cell_type": "code",
   "execution_count": 36,
   "metadata": {},
   "outputs": [],
   "source": [
    "# tf model"
   ]
  },
  {
   "cell_type": "code",
   "execution_count": 37,
   "metadata": {},
   "outputs": [
    {
     "name": "stdout",
     "output_type": "stream",
     "text": [
      "approximate completion time :  Wed Oct 21 23:44:50 2020\n",
      "time of execution in seconds :  0\n",
      "time of execution in minutes :  0.0\n"
     ]
    }
   ],
   "source": [
    "stop5 = time.perf_counter()\n",
    "tm5 = round(stop5 - start5)\n",
    "print(\"approximate completion time : \", time.asctime())\n",
    "print(\"time of execution in seconds : \", tm5)\n",
    "print(\"time of execution in minutes : \", round(tm5/60, 1))"
   ]
  },
  {
   "cell_type": "code",
   "execution_count": 38,
   "metadata": {},
   "outputs": [],
   "source": [
    "table[\"model 5\"][\"nbr_layers\"] = \"2\"\n",
    "table[\"model 5\"][\"nodes_p_layer\"] = \"1\"\n",
    "table[\"model 5\"][\"processing_time\"] = tm5\n",
    "#table[\"model 5\"][\"testset_acc\"] = #tf test score\n",
    "#table[\"model 5\"][\"trainset_acc\"] = #tf train score"
   ]
  },
  {
   "cell_type": "markdown",
   "metadata": {},
   "source": [
    "<div style=\"text-align: right\"><b>model 6 : 2x2. 2 layers w 2 neurons each</b></div>"
   ]
  },
  {
   "cell_type": "code",
   "execution_count": 39,
   "metadata": {},
   "outputs": [
    {
     "name": "stdout",
     "output_type": "stream",
     "text": [
      "approximate start time :  Wed Oct 21 23:44:50 2020\n"
     ]
    }
   ],
   "source": [
    "print(\"approximate start time : \", time.asctime())\n",
    "start6 = time.perf_counter()"
   ]
  },
  {
   "cell_type": "markdown",
   "metadata": {},
   "source": [
    "<div style=\"text-align: right\"><b>model 7 : 30x4. 30 layers w 4 neurons each</b></div>"
   ]
  },
  {
   "cell_type": "code",
   "execution_count": 40,
   "metadata": {},
   "outputs": [
    {
     "name": "stdout",
     "output_type": "stream",
     "text": [
      "approximate start time :  Wed Oct 21 23:44:50 2020\n"
     ]
    }
   ],
   "source": [
    "print(\"approximate start time : \", time.asctime())\n",
    "start7 = time.perf_counter()"
   ]
  },
  {
   "cell_type": "markdown",
   "metadata": {},
   "source": [
    "<div style=\"text-align: right\"><b>model 8 : 4x30. 4 layers w 30 neurons each</b></div>"
   ]
  },
  {
   "cell_type": "code",
   "execution_count": 41,
   "metadata": {},
   "outputs": [
    {
     "name": "stdout",
     "output_type": "stream",
     "text": [
      "approximate start time :  Wed Oct 21 23:44:50 2020\n"
     ]
    }
   ],
   "source": [
    "print(\"approximate start time : \", time.asctime())\n",
    "start8 = time.perf_counter()"
   ]
  },
  {
   "cell_type": "code",
   "execution_count": null,
   "metadata": {},
   "outputs": [],
   "source": []
  },
  {
   "cell_type": "code",
   "execution_count": 48,
   "metadata": {},
   "outputs": [
    {
     "name": "stdout",
     "output_type": "stream",
     "text": [
      "processing time in seconds : \n"
     ]
    },
    {
     "data": {
      "text/html": [
       "<div>\n",
       "<style scoped>\n",
       "    .dataframe tbody tr th:only-of-type {\n",
       "        vertical-align: middle;\n",
       "    }\n",
       "\n",
       "    .dataframe tbody tr th {\n",
       "        vertical-align: top;\n",
       "    }\n",
       "\n",
       "    .dataframe thead th {\n",
       "        text-align: right;\n",
       "    }\n",
       "</style>\n",
       "<table border=\"1\" class=\"dataframe\">\n",
       "  <thead>\n",
       "    <tr style=\"text-align: right;\">\n",
       "      <th></th>\n",
       "      <th>nbr_layers</th>\n",
       "      <th>nodes_p_layer</th>\n",
       "      <th>processing_time</th>\n",
       "      <th>trainset_acc</th>\n",
       "      <th>testset_acc</th>\n",
       "    </tr>\n",
       "  </thead>\n",
       "  <tbody>\n",
       "    <tr>\n",
       "      <th>model 1</th>\n",
       "      <td>1</td>\n",
       "      <td>2</td>\n",
       "      <td>47</td>\n",
       "      <td>0.3324</td>\n",
       "      <td>0.3213</td>\n",
       "    </tr>\n",
       "    <tr>\n",
       "      <th>model 2</th>\n",
       "      <td>2</td>\n",
       "      <td>2</td>\n",
       "      <td>47</td>\n",
       "      <td>0.5489</td>\n",
       "      <td>0.5337</td>\n",
       "    </tr>\n",
       "    <tr>\n",
       "      <th>model 3</th>\n",
       "      <td>30</td>\n",
       "      <td>4</td>\n",
       "      <td>96</td>\n",
       "      <td>0.9973</td>\n",
       "      <td>0.8948</td>\n",
       "    </tr>\n",
       "    <tr>\n",
       "      <th>model 4</th>\n",
       "      <td>4</td>\n",
       "      <td>30</td>\n",
       "      <td>66</td>\n",
       "      <td>0.8926</td>\n",
       "      <td>0.8607</td>\n",
       "    </tr>\n",
       "    <tr>\n",
       "      <th>model 5</th>\n",
       "      <td>2</td>\n",
       "      <td>1</td>\n",
       "      <td>0</td>\n",
       "      <td>None</td>\n",
       "      <td>None</td>\n",
       "    </tr>\n",
       "    <tr>\n",
       "      <th>model 6</th>\n",
       "      <td>None</td>\n",
       "      <td>None</td>\n",
       "      <td>None</td>\n",
       "      <td>None</td>\n",
       "      <td>None</td>\n",
       "    </tr>\n",
       "    <tr>\n",
       "      <th>model 7</th>\n",
       "      <td>None</td>\n",
       "      <td>None</td>\n",
       "      <td>None</td>\n",
       "      <td>None</td>\n",
       "      <td>None</td>\n",
       "    </tr>\n",
       "    <tr>\n",
       "      <th>model 8</th>\n",
       "      <td>None</td>\n",
       "      <td>None</td>\n",
       "      <td>None</td>\n",
       "      <td>None</td>\n",
       "      <td>None</td>\n",
       "    </tr>\n",
       "  </tbody>\n",
       "</table>\n",
       "</div>"
      ],
      "text/plain": [
       "        nbr_layers nodes_p_layer processing_time trainset_acc testset_acc\n",
       "model 1          1             2              47       0.3324      0.3213\n",
       "model 2          2             2              47       0.5489      0.5337\n",
       "model 3         30             4              96       0.9973      0.8948\n",
       "model 4          4            30              66       0.8926      0.8607\n",
       "model 5          2             1               0         None        None\n",
       "model 6       None          None            None         None        None\n",
       "model 7       None          None            None         None        None\n",
       "model 8       None          None            None         None        None"
      ]
     },
     "execution_count": 48,
     "metadata": {},
     "output_type": "execute_result"
    }
   ],
   "source": [
    "print(\"processing time in seconds : \")\n",
    "pd.DataFrame(table).transpose()"
   ]
  }
 ],
 "metadata": {
  "kernelspec": {
   "display_name": "Python 3",
   "language": "python",
   "name": "python3"
  },
  "language_info": {
   "codemirror_mode": {
    "name": "ipython",
    "version": 3
   },
   "file_extension": ".py",
   "mimetype": "text/x-python",
   "name": "python",
   "nbconvert_exporter": "python",
   "pygments_lexer": "ipython3",
   "version": "3.7.4"
  }
 },
 "nbformat": 4,
 "nbformat_minor": 2
}
