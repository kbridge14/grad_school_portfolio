{
 "cells": [
  {
   "cell_type": "code",
   "execution_count": 1,
   "metadata": {},
   "outputs": [
    {
     "name": "stderr",
     "output_type": "stream",
     "text": [
      "/opt/anaconda3/lib/python3.7/site-packages/statsmodels/tools/_testing.py:19: FutureWarning: pandas.util.testing is deprecated. Use the functions in the public API at pandas.testing instead.\n",
      "  import pandas.util.testing as tm\n"
     ]
    }
   ],
   "source": [
    "# Import libraries needed for the analysis\n",
    "import os\n",
    "import pandas as pd\n",
    "import numpy as np\n",
    "\n",
    "from datetime import datetime\n",
    "import random\n",
    "import string\n",
    "\n",
    "import tensorflow as tf\n",
    "from tensorflow import keras\n",
    "from keras.optimizers import Adam\n",
    "import keras.backend as K\n",
    "\n",
    "import matplotlib.pyplot as plt\n",
    "import seaborn as sns\n",
    "\n",
    "import re\n",
    "import nltk"
   ]
  },
  {
   "cell_type": "code",
   "execution_count": 2,
   "metadata": {},
   "outputs": [],
   "source": [
    "def recall_m(y_true, y_pred):\n",
    "    \"\"\"\n",
    "    Recall is the number of relevant documents retrieved by a search\n",
    "    divided by\n",
    "    the total number of existing relevant documents;\n",
    "    \n",
    "    True & predicted positives divided by Total True positives\n",
    "                                (regardless of what was predicted);\n",
    "    \n",
    "    The True Positive Rate.\n",
    "    \"\"\"\n",
    "    true_positives = K.sum(K.round(K.clip(y_true * y_pred, 0, 1)))\n",
    "    possible_positives = K.sum(K.round(K.clip(y_true, 0, 1)))\n",
    "    recall = true_positives / (possible_positives + K.epsilon())\n",
    "    return recall\n",
    "\n",
    "def precision_m(y_true, y_pred):\n",
    "    \"\"\"\n",
    "    Precision is number of relevant documents retrieved by a search\n",
    "    divided by\n",
    "    the total number of documents retrieved by that search.\n",
    "    \n",
    "    True Positives / Predicted Positives\n",
    "    \"\"\"\n",
    "    true_positives = K.sum(K.round(K.clip(y_true * y_pred, 0, 1)))\n",
    "    predicted_positives = K.sum(K.round(K.clip(y_pred, 0, 1)))\n",
    "    precision = true_positives / (predicted_positives + K.epsilon())\n",
    "    return precision\n",
    "\n",
    "def f1_m(y_true, y_pred):\n",
    "    precision = precision_m(y_true, y_pred)\n",
    "    recall = recall_m(y_true, y_pred)\n",
    "    return 2*((precision*recall)/(precision+recall+K.epsilon()))"
   ]
  },
  {
   "cell_type": "code",
   "execution_count": 3,
   "metadata": {},
   "outputs": [],
   "source": [
    "# seed value for random number generators to obtain reproducible results\n",
    "RANDOM_SEED = 5\n",
    "from numpy.random import seed\n",
    "seed(RANDOM_SEED)\n",
    "tf.random.set_seed(RANDOM_SEED)\n",
    "dims = 200"
   ]
  },
  {
   "cell_type": "code",
   "execution_count": 4,
   "metadata": {},
   "outputs": [],
   "source": [
    "# Read the training and test datasets\n",
    "train_tweets = pd.read_csv(\"/Users/kerry//Projects/grad_school_portfolio/Fall2020/MSDS422/rnn/data/train.csv\")\n",
    "test_tweets = pd.read_csv(\"/Users/kerry//Projects/grad_school_portfolio/Fall2020/MSDS422/rnn/data/test.csv\")\n",
    "#train_tweets= pd.read_csv('/Users/harini-mac/Desktop/Northwestern University/MSDS-422/Week8/project1/nlp-getting-started/train.csv')\n",
    "#test_tweets=pd.read_csv('/Users/harini-mac/Desktop/Northwestern University/MSDS-422/Week8/project1/nlp-getting-started/test.csv')"
   ]
  },
  {
   "cell_type": "code",
   "execution_count": 5,
   "metadata": {},
   "outputs": [
    {
     "data": {
      "text/plain": [
       "(7613, 5)"
      ]
     },
     "execution_count": 5,
     "metadata": {},
     "output_type": "execute_result"
    }
   ],
   "source": [
    "train_tweets.shape"
   ]
  },
  {
   "cell_type": "code",
   "execution_count": 6,
   "metadata": {},
   "outputs": [
    {
     "data": {
      "text/plain": [
       "(3263, 4)"
      ]
     },
     "execution_count": 6,
     "metadata": {},
     "output_type": "execute_result"
    }
   ],
   "source": [
    "test_tweets.shape"
   ]
  },
  {
   "cell_type": "code",
   "execution_count": 7,
   "metadata": {},
   "outputs": [
    {
     "name": "stdout",
     "output_type": "stream",
     "text": [
      "<class 'pandas.core.frame.DataFrame'>\n",
      "RangeIndex: 7613 entries, 0 to 7612\n",
      "Data columns (total 5 columns):\n",
      " #   Column    Non-Null Count  Dtype \n",
      "---  ------    --------------  ----- \n",
      " 0   id        7613 non-null   int64 \n",
      " 1   keyword   7552 non-null   object\n",
      " 2   location  5080 non-null   object\n",
      " 3   text      7613 non-null   object\n",
      " 4   target    7613 non-null   int64 \n",
      "dtypes: int64(2), object(3)\n",
      "memory usage: 297.5+ KB\n"
     ]
    }
   ],
   "source": [
    "train_tweets.info()"
   ]
  },
  {
   "cell_type": "code",
   "execution_count": 8,
   "metadata": {},
   "outputs": [
    {
     "name": "stdout",
     "output_type": "stream",
     "text": [
      "<class 'pandas.core.frame.DataFrame'>\n",
      "RangeIndex: 3263 entries, 0 to 3262\n",
      "Data columns (total 4 columns):\n",
      " #   Column    Non-Null Count  Dtype \n",
      "---  ------    --------------  ----- \n",
      " 0   id        3263 non-null   int64 \n",
      " 1   keyword   3237 non-null   object\n",
      " 2   location  2158 non-null   object\n",
      " 3   text      3263 non-null   object\n",
      "dtypes: int64(1), object(3)\n",
      "memory usage: 102.1+ KB\n"
     ]
    }
   ],
   "source": [
    "test_tweets.info()"
   ]
  },
  {
   "cell_type": "code",
   "execution_count": 9,
   "metadata": {},
   "outputs": [
    {
     "data": {
      "text/html": [
       "<div>\n",
       "<style scoped>\n",
       "    .dataframe tbody tr th:only-of-type {\n",
       "        vertical-align: middle;\n",
       "    }\n",
       "\n",
       "    .dataframe tbody tr th {\n",
       "        vertical-align: top;\n",
       "    }\n",
       "\n",
       "    .dataframe thead th {\n",
       "        text-align: right;\n",
       "    }\n",
       "</style>\n",
       "<table border=\"1\" class=\"dataframe\">\n",
       "  <thead>\n",
       "    <tr style=\"text-align: right;\">\n",
       "      <th></th>\n",
       "      <th>id</th>\n",
       "      <th>keyword</th>\n",
       "      <th>location</th>\n",
       "      <th>text</th>\n",
       "      <th>target</th>\n",
       "    </tr>\n",
       "  </thead>\n",
       "  <tbody>\n",
       "    <tr>\n",
       "      <th>0</th>\n",
       "      <td>1</td>\n",
       "      <td>NaN</td>\n",
       "      <td>NaN</td>\n",
       "      <td>Our Deeds are the Reason of this #earthquake M...</td>\n",
       "      <td>1</td>\n",
       "    </tr>\n",
       "    <tr>\n",
       "      <th>1</th>\n",
       "      <td>4</td>\n",
       "      <td>NaN</td>\n",
       "      <td>NaN</td>\n",
       "      <td>Forest fire near La Ronge Sask. Canada</td>\n",
       "      <td>1</td>\n",
       "    </tr>\n",
       "    <tr>\n",
       "      <th>2</th>\n",
       "      <td>5</td>\n",
       "      <td>NaN</td>\n",
       "      <td>NaN</td>\n",
       "      <td>All residents asked to 'shelter in place' are ...</td>\n",
       "      <td>1</td>\n",
       "    </tr>\n",
       "    <tr>\n",
       "      <th>3</th>\n",
       "      <td>6</td>\n",
       "      <td>NaN</td>\n",
       "      <td>NaN</td>\n",
       "      <td>13,000 people receive #wildfires evacuation or...</td>\n",
       "      <td>1</td>\n",
       "    </tr>\n",
       "    <tr>\n",
       "      <th>4</th>\n",
       "      <td>7</td>\n",
       "      <td>NaN</td>\n",
       "      <td>NaN</td>\n",
       "      <td>Just got sent this photo from Ruby #Alaska as ...</td>\n",
       "      <td>1</td>\n",
       "    </tr>\n",
       "  </tbody>\n",
       "</table>\n",
       "</div>"
      ],
      "text/plain": [
       "   id keyword location                                               text  \\\n",
       "0   1     NaN      NaN  Our Deeds are the Reason of this #earthquake M...   \n",
       "1   4     NaN      NaN             Forest fire near La Ronge Sask. Canada   \n",
       "2   5     NaN      NaN  All residents asked to 'shelter in place' are ...   \n",
       "3   6     NaN      NaN  13,000 people receive #wildfires evacuation or...   \n",
       "4   7     NaN      NaN  Just got sent this photo from Ruby #Alaska as ...   \n",
       "\n",
       "   target  \n",
       "0       1  \n",
       "1       1  \n",
       "2       1  \n",
       "3       1  \n",
       "4       1  "
      ]
     },
     "execution_count": 9,
     "metadata": {},
     "output_type": "execute_result"
    }
   ],
   "source": [
    "train_tweets.head()"
   ]
  },
  {
   "cell_type": "code",
   "execution_count": 10,
   "metadata": {},
   "outputs": [
    {
     "data": {
      "text/html": [
       "<div>\n",
       "<style scoped>\n",
       "    .dataframe tbody tr th:only-of-type {\n",
       "        vertical-align: middle;\n",
       "    }\n",
       "\n",
       "    .dataframe tbody tr th {\n",
       "        vertical-align: top;\n",
       "    }\n",
       "\n",
       "    .dataframe thead th {\n",
       "        text-align: right;\n",
       "    }\n",
       "</style>\n",
       "<table border=\"1\" class=\"dataframe\">\n",
       "  <thead>\n",
       "    <tr style=\"text-align: right;\">\n",
       "      <th></th>\n",
       "      <th>id</th>\n",
       "      <th>keyword</th>\n",
       "      <th>location</th>\n",
       "      <th>text</th>\n",
       "      <th>target</th>\n",
       "    </tr>\n",
       "  </thead>\n",
       "  <tbody>\n",
       "    <tr>\n",
       "      <th>0</th>\n",
       "      <td>1</td>\n",
       "      <td>NaN</td>\n",
       "      <td>NaN</td>\n",
       "      <td>Our Deeds are the Reason of this #earthquake M...</td>\n",
       "      <td>1</td>\n",
       "    </tr>\n",
       "    <tr>\n",
       "      <th>1</th>\n",
       "      <td>4</td>\n",
       "      <td>NaN</td>\n",
       "      <td>NaN</td>\n",
       "      <td>Forest fire near La Ronge Sask. Canada</td>\n",
       "      <td>1</td>\n",
       "    </tr>\n",
       "    <tr>\n",
       "      <th>2</th>\n",
       "      <td>5</td>\n",
       "      <td>NaN</td>\n",
       "      <td>NaN</td>\n",
       "      <td>All residents asked to 'shelter in place' are ...</td>\n",
       "      <td>1</td>\n",
       "    </tr>\n",
       "    <tr>\n",
       "      <th>3</th>\n",
       "      <td>6</td>\n",
       "      <td>NaN</td>\n",
       "      <td>NaN</td>\n",
       "      <td>13,000 people receive #wildfires evacuation or...</td>\n",
       "      <td>1</td>\n",
       "    </tr>\n",
       "    <tr>\n",
       "      <th>4</th>\n",
       "      <td>7</td>\n",
       "      <td>NaN</td>\n",
       "      <td>NaN</td>\n",
       "      <td>Just got sent this photo from Ruby #Alaska as ...</td>\n",
       "      <td>1</td>\n",
       "    </tr>\n",
       "    <tr>\n",
       "      <th>...</th>\n",
       "      <td>...</td>\n",
       "      <td>...</td>\n",
       "      <td>...</td>\n",
       "      <td>...</td>\n",
       "      <td>...</td>\n",
       "    </tr>\n",
       "    <tr>\n",
       "      <th>7604</th>\n",
       "      <td>10863</td>\n",
       "      <td>NaN</td>\n",
       "      <td>NaN</td>\n",
       "      <td>#WorldNews Fallen powerlines on G:link tram: U...</td>\n",
       "      <td>1</td>\n",
       "    </tr>\n",
       "    <tr>\n",
       "      <th>7605</th>\n",
       "      <td>10864</td>\n",
       "      <td>NaN</td>\n",
       "      <td>NaN</td>\n",
       "      <td>on the flip side I'm at Walmart and there is a...</td>\n",
       "      <td>1</td>\n",
       "    </tr>\n",
       "    <tr>\n",
       "      <th>7606</th>\n",
       "      <td>10866</td>\n",
       "      <td>NaN</td>\n",
       "      <td>NaN</td>\n",
       "      <td>Suicide bomber kills 15 in Saudi security site...</td>\n",
       "      <td>1</td>\n",
       "    </tr>\n",
       "    <tr>\n",
       "      <th>7608</th>\n",
       "      <td>10869</td>\n",
       "      <td>NaN</td>\n",
       "      <td>NaN</td>\n",
       "      <td>Two giant cranes holding a bridge collapse int...</td>\n",
       "      <td>1</td>\n",
       "    </tr>\n",
       "    <tr>\n",
       "      <th>7612</th>\n",
       "      <td>10873</td>\n",
       "      <td>NaN</td>\n",
       "      <td>NaN</td>\n",
       "      <td>The Latest: More Homes Razed by Northern Calif...</td>\n",
       "      <td>1</td>\n",
       "    </tr>\n",
       "  </tbody>\n",
       "</table>\n",
       "<p>7503 rows × 5 columns</p>\n",
       "</div>"
      ],
      "text/plain": [
       "         id keyword location  \\\n",
       "0         1     NaN      NaN   \n",
       "1         4     NaN      NaN   \n",
       "2         5     NaN      NaN   \n",
       "3         6     NaN      NaN   \n",
       "4         7     NaN      NaN   \n",
       "...     ...     ...      ...   \n",
       "7604  10863     NaN      NaN   \n",
       "7605  10864     NaN      NaN   \n",
       "7606  10866     NaN      NaN   \n",
       "7608  10869     NaN      NaN   \n",
       "7612  10873     NaN      NaN   \n",
       "\n",
       "                                                   text  target  \n",
       "0     Our Deeds are the Reason of this #earthquake M...       1  \n",
       "1                Forest fire near La Ronge Sask. Canada       1  \n",
       "2     All residents asked to 'shelter in place' are ...       1  \n",
       "3     13,000 people receive #wildfires evacuation or...       1  \n",
       "4     Just got sent this photo from Ruby #Alaska as ...       1  \n",
       "...                                                 ...     ...  \n",
       "7604  #WorldNews Fallen powerlines on G:link tram: U...       1  \n",
       "7605  on the flip side I'm at Walmart and there is a...       1  \n",
       "7606  Suicide bomber kills 15 in Saudi security site...       1  \n",
       "7608  Two giant cranes holding a bridge collapse int...       1  \n",
       "7612  The Latest: More Homes Razed by Northern Calif...       1  \n",
       "\n",
       "[7503 rows x 5 columns]"
      ]
     },
     "execution_count": 10,
     "metadata": {},
     "output_type": "execute_result"
    }
   ],
   "source": [
    "# drops dups (retweets)\n",
    "train_tweets[train_tweets.duplicated(subset=\"text\", keep='first')==False]"
   ]
  },
  {
   "cell_type": "code",
   "execution_count": 11,
   "metadata": {},
   "outputs": [
    {
     "data": {
      "text/html": [
       "<div>\n",
       "<style scoped>\n",
       "    .dataframe tbody tr th:only-of-type {\n",
       "        vertical-align: middle;\n",
       "    }\n",
       "\n",
       "    .dataframe tbody tr th {\n",
       "        vertical-align: top;\n",
       "    }\n",
       "\n",
       "    .dataframe thead th {\n",
       "        text-align: right;\n",
       "    }\n",
       "</style>\n",
       "<table border=\"1\" class=\"dataframe\">\n",
       "  <thead>\n",
       "    <tr style=\"text-align: right;\">\n",
       "      <th></th>\n",
       "      <th>id</th>\n",
       "      <th>keyword</th>\n",
       "      <th>location</th>\n",
       "      <th>text</th>\n",
       "      <th>target</th>\n",
       "    </tr>\n",
       "  </thead>\n",
       "  <tbody>\n",
       "    <tr>\n",
       "      <th>647</th>\n",
       "      <td>938</td>\n",
       "      <td>blaze</td>\n",
       "      <td>Temecula, CA</td>\n",
       "      <td>Pendleton media office said only fire on base ...</td>\n",
       "      <td>1</td>\n",
       "    </tr>\n",
       "    <tr>\n",
       "      <th>649</th>\n",
       "      <td>940</td>\n",
       "      <td>blaze</td>\n",
       "      <td>Fresno, CA</td>\n",
       "      <td>Love living on my own. I can blaze inside my a...</td>\n",
       "      <td>1</td>\n",
       "    </tr>\n",
       "    <tr>\n",
       "      <th>653</th>\n",
       "      <td>945</td>\n",
       "      <td>blaze</td>\n",
       "      <td>Australia</td>\n",
       "      <td>Property losses from California wildfire nearl...</td>\n",
       "      <td>1</td>\n",
       "    </tr>\n",
       "    <tr>\n",
       "      <th>654</th>\n",
       "      <td>946</td>\n",
       "      <td>blaze</td>\n",
       "      <td>Raleigh Durham, NC</td>\n",
       "      <td>#breaking Firefighters battling blaze at east ...</td>\n",
       "      <td>1</td>\n",
       "    </tr>\n",
       "    <tr>\n",
       "      <th>669</th>\n",
       "      <td>964</td>\n",
       "      <td>blaze</td>\n",
       "      <td>Karachi</td>\n",
       "      <td>Property losses from #California wildfire near...</td>\n",
       "      <td>1</td>\n",
       "    </tr>\n",
       "  </tbody>\n",
       "</table>\n",
       "</div>"
      ],
      "text/plain": [
       "      id keyword            location  \\\n",
       "647  938   blaze        Temecula, CA   \n",
       "649  940   blaze          Fresno, CA   \n",
       "653  945   blaze           Australia   \n",
       "654  946   blaze  Raleigh Durham, NC   \n",
       "669  964   blaze            Karachi    \n",
       "\n",
       "                                                  text  target  \n",
       "647  Pendleton media office said only fire on base ...       1  \n",
       "649  Love living on my own. I can blaze inside my a...       1  \n",
       "653  Property losses from California wildfire nearl...       1  \n",
       "654  #breaking Firefighters battling blaze at east ...       1  \n",
       "669  Property losses from #California wildfire near...       1  "
      ]
     },
     "execution_count": 11,
     "metadata": {},
     "output_type": "execute_result"
    }
   ],
   "source": [
    "# drops ~ 5-10 records most of which I find misclassified\n",
    "train_tweets[(train_tweets.keyword==\"blaze\") & (train_tweets.target==1)]"
   ]
  },
  {
   "cell_type": "code",
   "execution_count": 12,
   "metadata": {},
   "outputs": [
    {
     "name": "stdout",
     "output_type": "stream",
     "text": [
      "<class 'pandas.core.frame.DataFrame'>\n",
      "Index: 0 entries\n",
      "Data columns (total 11 columns):\n",
      " #   Column                                      Non-Null Count  Dtype \n",
      "---  ------                                      --------------  ----- \n",
      " 0   Model_name                                  0 non-null      object\n",
      " 1   vocabulary size (factor1)                   0 non-null      object\n",
      " 2   pre-trained vector (factor2)                0 non-null      object\n",
      " 3   RNN structure (factor3)                     0 non-null      object\n",
      " 4   hyperparameter recurrent_dropout (factor4)  0 non-null      object\n",
      " 5   Processing Time                             0 non-null      object\n",
      " 6   Training Set Accuracy                       0 non-null      object\n",
      " 7   Validation Set Accuracy                     0 non-null      object\n",
      " 8   train f1                                    0 non-null      object\n",
      " 9   validation f1                               0 non-null      object\n",
      " 10  Test Set F1-score (Kaggle score)            0 non-null      object\n",
      "dtypes: object(11)\n",
      "memory usage: 0.0+ bytes\n"
     ]
    }
   ],
   "source": [
    "#Create a dataframe to store the model accuracy and scores\n",
    "results_tbl = pd.DataFrame(columns=['Model_name','vocabulary size (factor1)', 'pre-trained vector (factor2)','RNN structure (factor3)','hyperparameter recurrent_dropout (factor4)','Processing Time','Training Set Accuracy','Validation Set Accuracy','train f1','validation f1','Test Set F1-score (Kaggle score)'])\n",
    "results_tbl.info()"
   ]
  },
  {
   "cell_type": "markdown",
   "metadata": {},
   "source": [
    "# Exploratory Data Analysis & Data Preparation"
   ]
  },
  {
   "cell_type": "code",
   "execution_count": 13,
   "metadata": {},
   "outputs": [
    {
     "data": {
      "text/plain": [
       "Text(0.5, 1.0, 'target count plot in the training data (0 - not a real disaster, 1 - a real disaster)')"
      ]
     },
     "execution_count": 13,
     "metadata": {},
     "output_type": "execute_result"
    },
    {
     "data": {
      "image/png": "[encoded data removed]",
      "text/plain": [
       "<Figure size 432x288 with 1 Axes>"
      ]
     },
     "metadata": {
      "needs_background": "light"
     },
     "output_type": "display_data"
    }
   ],
   "source": [
    "# Count plot of the targets in training data \n",
    "sns.countplot(train_tweets['target'], palette=\"husl\")\n",
    "plt.title('target count plot in the training data (0 - not a real disaster, 1 - a real disaster)')"
   ]
  },
  {
   "cell_type": "code",
   "execution_count": 14,
   "metadata": {},
   "outputs": [
    {
     "data": {
      "text/plain": [
       "id             0\n",
       "keyword       61\n",
       "location    2533\n",
       "text           0\n",
       "target         0\n",
       "dtype: int64"
      ]
     },
     "execution_count": 14,
     "metadata": {},
     "output_type": "execute_result"
    }
   ],
   "source": [
    "# check for any null values \n",
    "# the variable of interest in the data is text.\n",
    "train_tweets.isna().sum() "
   ]
  },
  {
   "cell_type": "code",
   "execution_count": 49,
   "metadata": {
    "scrolled": true
   },
   "outputs": [
    {
     "data": {
      "image/png": "[encoded data removed]",
      "text/plain": [
       "<Figure size 720x360 with 2 Axes>"
      ]
     },
     "metadata": {
      "needs_background": "light"
     },
     "output_type": "display_data"
    }
   ],
   "source": [
    "# Distribution of the length of the tweets in the training data\n",
    "fig,(ax1,ax2) = plt.subplots(1,2,figsize=(10,5))\n",
    "disaster_tweets_len = train_tweets[train_tweets['target']==1]['text'].str.len()\n",
    "nondisaster_tweets_len = train_tweets[train_tweets['target']==0]['text'].str.len()\n",
    "ax1.hist(disaster_tweets_len, color=\"magenta\")\n",
    "ax1.set_title('char length disaster tweets - train')\n",
    "ax2.hist(nondisaster_tweets_len, color=\"purple\")\n",
    "ax2.set_title('char length non-disaster tweets - train')\n",
    "plt.show()"
   ]
  },
  {
   "cell_type": "code",
   "execution_count": 16,
   "metadata": {},
   "outputs": [
    {
     "data": {
      "image/png": "[encoded data removed]",
      "text/plain": [
       "<Figure size 720x360 with 2 Axes>"
      ]
     },
     "metadata": {
      "needs_background": "light"
     },
     "output_type": "display_data"
    }
   ],
   "source": [
    "# Distribution of the word lengths of the tweets in the  training data\n",
    "fig,(ax1,ax2)=plt.subplots(1,2,figsize=(10,5))\n",
    "diaster_tweet_lengths=train_tweets[train_tweets['target']==1]['text'].str.split().map(lambda x: len(x))\n",
    "ax1.hist(diaster_tweet_lengths,color='blue')\n",
    "ax1.set_title('word length distribution of \\n disaster tweets in training data')\n",
    "nondisaster_tweet_lengths=train_tweets[train_tweets['target']==0]['text'].str.split().map(lambda x: len(x))\n",
    "ax2.hist(nondisaster_tweet_lengths,color='yellow')\n",
    "ax2.set_title('word length distribution of \\n non-disaster tweets in training data')\n",
    "plt.show()"
   ]
  },
  {
   "cell_type": "markdown",
   "metadata": {},
   "source": [
    "# Read function for the  GloVe (global vectors) "
   ]
  },
  {
   "cell_type": "code",
   "execution_count": 17,
   "metadata": {},
   "outputs": [],
   "source": [
    "#reading from the file to turn the words to word embedding vector\n",
    "def read_glove_vecs(glove_file):\n",
    "    with open(glove_file, 'r') as f:\n",
    "        words = set()\n",
    "        word_to_vec_map = {}\n",
    "        for line in f:\n",
    "            line = line.strip().split()\n",
    "            curr_word = line[0]\n",
    "            words.add(curr_word)\n",
    "            word_to_vec_map[curr_word] = np.array(line[1:], dtype=np.float64)\n",
    "        \n",
    "        i = 1\n",
    "        words_to_index = {}\n",
    "        index_to_words = {}\n",
    "        for w in sorted(words):\n",
    "            words_to_index[w] = i\n",
    "            index_to_words[i] = w\n",
    "            i = i + 1\n",
    "    return words_to_index, index_to_words, word_to_vec_map"
   ]
  },
  {
   "cell_type": "markdown",
   "metadata": {},
   "source": [
    "## Read the Glove file - glove.6B.200d.txt"
   ]
  },
  {
   "cell_type": "code",
   "execution_count": 18,
   "metadata": {},
   "outputs": [],
   "source": [
    "#reading from the file to learn the word embedding into the list word_to_vec_map\n",
    "#word_to_index, index_to_word, word_to_vec_map = read_glove_vecs('/Users/harini-mac/Desktop/Northwestern University/MSDS-422/Week8/project1/nlp-getting-started/embeddings/gloVe.6B/glove.6B.50d.txt')\n",
    "#word_to_index, index_to_word, word_to_vec_map = read_glove_vecs('/Users/kerry/Downloads/embeddings/gloVe.6B/glove.6B.50d.txt')"
   ]
  },
  {
   "cell_type": "code",
   "execution_count": 19,
   "metadata": {},
   "outputs": [],
   "source": [
    "#reading from the file to learn the word embedding into the list word_to_vec_map\n",
    "word_to_index, index_to_word, word_to_vec_map = read_glove_vecs('/Users/kerry/Downloads/embeddings/gloVe.6B/glove.6B.200d.txt')"
   ]
  },
  {
   "cell_type": "code",
   "execution_count": 20,
   "metadata": {},
   "outputs": [
    {
     "data": {
      "text/plain": [
       "400000"
      ]
     },
     "execution_count": 20,
     "metadata": {},
     "output_type": "execute_result"
    }
   ],
   "source": [
    "len(word_to_index)"
   ]
  },
  {
   "cell_type": "code",
   "execution_count": 21,
   "metadata": {},
   "outputs": [
    {
     "data": {
      "text/plain": [
       "400000"
      ]
     },
     "execution_count": 21,
     "metadata": {},
     "output_type": "execute_result"
    }
   ],
   "source": [
    "len(word_to_vec_map)"
   ]
  },
  {
   "cell_type": "code",
   "execution_count": 22,
   "metadata": {},
   "outputs": [
    {
     "data": {
      "text/plain": [
       "400000"
      ]
     },
     "execution_count": 22,
     "metadata": {},
     "output_type": "execute_result"
    }
   ],
   "source": [
    "len(index_to_word)"
   ]
  },
  {
   "cell_type": "markdown",
   "metadata": {},
   "source": [
    "## Cleanse the training and test data \n",
    "## Use the word_to_vec_map from glove.6B.50d"
   ]
  },
  {
   "cell_type": "code",
   "execution_count": 23,
   "metadata": {},
   "outputs": [],
   "source": [
    "def clean(text):\n",
    "#    rgx_fix_caps = \"(?<=[\\.!?]\\s)([A-Z])\" # fixes like Hello into hello???\n",
    "#    subst = r\"\\\\\"\n",
    "#    pre_sentence = re.sub(rgx_fix_caps, subst, text)\n",
    "    \n",
    "    rgx_rmv_punc = re.compile('([^\\s\\w]|_)+') # removes punctuation\n",
    "    sentence = rgx_rmv_punc.sub(\"\", text).lower()\n",
    "    \n",
    "    sentence = sentence.split(\" \")\n",
    "    \n",
    "    for word in list(sentence):\n",
    "        if word not in word_to_vec_map: # removes word if it's not in the 'dictionary' (txt file). case-sensitive.\n",
    "            sentence.remove(word)\n",
    "            \n",
    "    sentence = \" \".join(sentence)\n",
    "    return sentence"
   ]
  },
  {
   "cell_type": "code",
   "execution_count": 24,
   "metadata": {},
   "outputs": [
    {
     "data": {
      "text/plain": [
       "'all residents asked to shelter in place are being notified by officers no other evacuation or shelter in place orders are expected'"
      ]
     },
     "execution_count": 24,
     "metadata": {},
     "output_type": "execute_result"
    }
   ],
   "source": [
    "clean(train_tweets.loc[2,'text'])"
   ]
  },
  {
   "cell_type": "code",
   "execution_count": 25,
   "metadata": {},
   "outputs": [],
   "source": [
    "for i in range (train_tweets.shape[0]):\n",
    "    train_tweets.at[i,'text']=clean(train_tweets.loc[i,'text'])\n",
    "    \n",
    "for i in range(test_tweets.shape[0]):\n",
    "    test_tweets.at[i,'text']=clean(test_tweets.loc[i,'text'])"
   ]
  },
  {
   "cell_type": "code",
   "execution_count": 26,
   "metadata": {},
   "outputs": [],
   "source": [
    "train_text = train_tweets['text']\n",
    "test_text = test_tweets['text']"
   ]
  },
  {
   "cell_type": "markdown",
   "metadata": {},
   "source": [
    "# Encode the text in the training data\n",
    "# Pad the resultant sequences"
   ]
  },
  {
   "cell_type": "code",
   "execution_count": 27,
   "metadata": {},
   "outputs": [],
   "source": [
    "# https://stackoverflow.com/questions/57693333/processing-before-or-after-train-test-split\n",
    "# https://www.kdnuggets.com/2020/03/tensorflow-keras-tokenization-text-data-prep.html\n",
    "tokenizer = keras.preprocessing.text.Tokenizer()\n",
    "tokenizer.fit_on_texts(train_text)"
   ]
  },
  {
   "cell_type": "code",
   "execution_count": 28,
   "metadata": {},
   "outputs": [],
   "source": [
    "train_sequences = tokenizer.texts_to_sequences(train_text)"
   ]
  },
  {
   "cell_type": "code",
   "execution_count": 29,
   "metadata": {},
   "outputs": [
    {
     "data": {
      "text/plain": [
       "[[178, 42, 214, 664, 6037, 6038, 1319]]"
      ]
     },
     "execution_count": 29,
     "metadata": {},
     "output_type": "execute_result"
    }
   ],
   "source": [
    "tokenizer.texts_to_sequences([\"Forest fire near La Ronge Sask. Canada\"])"
   ]
  },
  {
   "cell_type": "code",
   "execution_count": 30,
   "metadata": {},
   "outputs": [
    {
     "data": {
      "text/plain": [
       "['forest fire near la ronge sask canada']"
      ]
     },
     "execution_count": 30,
     "metadata": {},
     "output_type": "execute_result"
    }
   ],
   "source": [
    "tokenizer.sequences_to_texts([[178, 42, 214, 664, 6037, 6038, 1319]])"
   ]
  },
  {
   "cell_type": "code",
   "execution_count": 31,
   "metadata": {},
   "outputs": [
    {
     "name": "stdout",
     "output_type": "stream",
     "text": [
      "Number of unique tokens :  12256\n"
     ]
    }
   ],
   "source": [
    "word2index = tokenizer.word_index\n",
    "print(\"Number of unique tokens : \",len(word2index))"
   ]
  },
  {
   "cell_type": "code",
   "execution_count": 32,
   "metadata": {},
   "outputs": [
    {
     "data": {
      "text/plain": [
       "7613"
      ]
     },
     "execution_count": 32,
     "metadata": {},
     "output_type": "execute_result"
    }
   ],
   "source": [
    "dataset_size = tokenizer.document_count\n",
    "dataset_size"
   ]
  },
  {
   "cell_type": "code",
   "execution_count": 33,
   "metadata": {},
   "outputs": [
    {
     "data": {
      "text/plain": [
       "31"
      ]
     },
     "execution_count": 33,
     "metadata": {},
     "output_type": "execute_result"
    }
   ],
   "source": [
    "# Get max training sequence length\n",
    "maxlen = max([len(x) for x in train_sequences])\n",
    "maxlen"
   ]
  },
  {
   "cell_type": "code",
   "execution_count": 34,
   "metadata": {},
   "outputs": [
    {
     "data": {
      "text/plain": [
       "(7613, 31)"
      ]
     },
     "execution_count": 34,
     "metadata": {},
     "output_type": "execute_result"
    }
   ],
   "source": [
    "padded_seq = keras.preprocessing.sequence.pad_sequences(train_sequences,maxlen)\n",
    "X_train = padded_seq\n",
    "Y_train = train_tweets['target']\n",
    "X_train.shape"
   ]
  },
  {
   "cell_type": "markdown",
   "metadata": {},
   "source": [
    "# Generate embedding matrix for tokens in the training data - 200 Dimensions"
   ]
  },
  {
   "cell_type": "code",
   "execution_count": 35,
   "metadata": {},
   "outputs": [],
   "source": [
    "embedding_matrix = np.zeros((len(word2index)+1, dims))\n",
    "\n",
    "embedding_vec=[]\n",
    "for word, i in word2index.items():\n",
    "    embedding_vec = word_to_vec_map.get(word)\n",
    "    if embedding_vec is not None:\n",
    "        embedding_matrix[i] = embedding_vec"
   ]
  },
  {
   "cell_type": "code",
   "execution_count": 36,
   "metadata": {},
   "outputs": [
    {
     "name": "stdout",
     "output_type": "stream",
     "text": [
      "[-7.1549e-02  9.3459e-02  2.3738e-02 -9.0339e-02  5.6123e-02  3.2547e-01\n",
      " -3.9796e-01 -9.2139e-02  6.1181e-02 -1.8950e-01  1.3061e-01  1.4349e-01\n",
      "  1.1479e-02  3.8158e-01  5.4030e-01 -1.4088e-01  2.4315e-01  2.3036e-01\n",
      " -5.5339e-01  4.8154e-02  4.5662e-01  3.2338e+00  2.0199e-02  4.9019e-02\n",
      " -1.4132e-02  7.6017e-02 -1.1527e-01  2.0060e-01 -7.7657e-02  2.4328e-01\n",
      "  1.6368e-01 -3.4118e-01 -6.6070e-02  1.0152e-01  3.8232e-02 -1.7668e-01\n",
      " -8.8153e-01 -3.3895e-01 -3.5481e-02 -5.5095e-01 -1.6899e-02 -4.3982e-01\n",
      "  3.9004e-02  4.0447e-01 -2.5880e-01  6.4594e-01  2.6641e-01  2.8009e-01\n",
      " -2.4625e-02  6.3302e-01 -3.1700e-01  1.0271e-01  3.0886e-01  9.7792e-02\n",
      " -3.8227e-01  8.6552e-02  4.7075e-02  2.3511e-01 -3.2127e-01 -2.8538e-01\n",
      "  1.6670e-01 -4.9707e-03 -6.2714e-01 -2.4904e-01  2.9713e-01  1.4379e-01\n",
      " -1.2325e-01 -5.8178e-02 -1.0290e-03 -8.2126e-02  3.6935e-01 -5.8442e-04\n",
      "  3.4286e-01  2.8426e-01 -6.8599e-02  6.5747e-01 -2.9087e-02  1.6184e-01\n",
      "  7.3672e-02 -3.0343e-01  9.5733e-02 -5.2860e-01 -2.2898e-01  6.4079e-02\n",
      "  1.5218e-02  3.4921e-01 -4.3960e-01 -4.3983e-01  7.7515e-01 -8.7767e-01\n",
      " -8.7504e-02  3.9598e-01  6.2362e-01 -2.6211e-01 -3.0539e-01 -2.2964e-02\n",
      "  3.0567e-01  6.7660e-02  1.5383e-01 -1.1211e-01 -9.1540e-02  8.2562e-02\n",
      "  1.6897e-01 -3.2952e-02 -2.8775e-01 -2.2320e-01 -9.0426e-02  1.2407e+00\n",
      " -1.8244e-01 -7.5219e-03 -4.1388e-02 -1.1083e-02  7.8186e-02  3.8511e-01\n",
      "  2.3334e-01  1.4414e-01 -9.1070e-04 -2.6388e-01 -2.0481e-01  1.0099e-01\n",
      "  1.4076e-01  2.8834e-01 -4.5429e-02  3.7247e-01  1.3645e-01 -6.7457e-01\n",
      "  2.2786e-01  1.2599e-01  2.9091e-02  3.0428e-02 -1.3028e-01  1.9408e-01\n",
      "  4.9014e-01 -3.9121e-01 -7.5952e-02  7.4731e-02  1.8902e-01 -1.6922e-01\n",
      " -2.6019e-01 -3.9771e-02 -2.4153e-01  1.0875e-01  3.0434e-01  3.6009e-02\n",
      "  1.4264e+00  1.2759e-01 -7.3811e-02 -2.0418e-01  8.0016e-03  1.5381e-01\n",
      "  2.0223e-01  2.8274e-01  9.6206e-02 -3.3634e-01  5.0983e-01  3.2625e-01\n",
      " -2.6535e-01  3.7400e-01 -3.0388e-01 -4.0033e-01 -4.2910e-02 -6.7897e-02\n",
      " -2.9332e-01  1.0978e-01 -4.5365e-02  2.3222e-01 -3.1134e-01 -2.8983e-01\n",
      " -6.6687e-01  5.3097e-01  1.9461e-01  3.6670e-01  2.6185e-01 -6.5187e-01\n",
      "  1.0266e-01  1.1363e-01 -1.2953e-01 -6.8246e-01 -1.8751e-01  1.4760e-01\n",
      "  1.0765e+00 -2.2908e-01 -9.3435e-03 -2.0651e-01 -3.5225e-01 -2.6720e-01\n",
      " -3.4307e-03  2.5906e-01  2.1759e-01  6.6158e-01  1.2180e-01  1.9957e-01\n",
      " -2.0303e-01  3.4474e-01 -2.4328e-01  1.3139e-01 -8.8767e-03  3.3617e-01\n",
      "  3.0591e-02  2.5577e-01]\n"
     ]
    }
   ],
   "source": [
    "print(embedding_matrix[1])"
   ]
  },
  {
   "cell_type": "code",
   "execution_count": 37,
   "metadata": {},
   "outputs": [
    {
     "name": "stdout",
     "output_type": "stream",
     "text": [
      "(12257, 200)\n"
     ]
    }
   ],
   "source": [
    "print(embedding_matrix.shape)"
   ]
  },
  {
   "cell_type": "markdown",
   "metadata": {},
   "source": [
    "# Prepare the test data"
   ]
  },
  {
   "cell_type": "code",
   "execution_count": 61,
   "metadata": {},
   "outputs": [
    {
     "data": {
      "text/plain": [
       "(3263, 31)"
      ]
     },
     "execution_count": 61,
     "metadata": {},
     "output_type": "execute_result"
    }
   ],
   "source": [
    "test_sequences = tokenizer.texts_to_sequences(test_text)\n",
    "padded_seq = keras.preprocessing.sequence.pad_sequences(test_sequences,maxlen)\n",
    "X_test = padded_seq\n",
    "X_test.shape"
   ]
  },
  {
   "cell_type": "markdown",
   "metadata": {},
   "source": [
    "# Fit RNN 1\n",
    "# vocabulary size (factor 1): 400K\n",
    "# pre-trained vector (factor 2): GloVe.6B.50d\n",
    "# rnn structure (factor 3): LSTM layer based structure\n",
    "# recurrent dropout (factor 4): 0.1"
   ]
  },
  {
   "cell_type": "code",
   "execution_count": 50,
   "metadata": {},
   "outputs": [],
   "source": [
    "model1 = keras.models.Sequential([\n",
    "    keras.layers.Embedding(len(word2index)+1,\n",
    "                           dims,\n",
    "                           weights=[embedding_matrix],\n",
    "                           input_length=maxlen,\n",
    "                           trainable=True),\n",
    "    keras.layers.LSTM(units=128, return_sequences = True, recurrent_dropout = 0.25, dropout = 0.25),\n",
    "    keras.layers.LSTM(units=64, recurrent_dropout = 0.25, dropout = 0.25),\n",
    "    keras.layers.Dense(32, activation='tanh'),\n",
    "    keras.layers.Dense(4, activation='tanh')\n",
    "])"
   ]
  },
  {
   "cell_type": "code",
   "execution_count": 51,
   "metadata": {},
   "outputs": [
    {
     "name": "stdout",
     "output_type": "stream",
     "text": [
      "Model: \"sequential_3\"\n",
      "_________________________________________________________________\n",
      "Layer (type)                 Output Shape              Param #   \n",
      "=================================================================\n",
      "embedding_3 (Embedding)      (None, 31, 200)           2451400   \n",
      "_________________________________________________________________\n",
      "lstm_6 (LSTM)                (None, 31, 128)           168448    \n",
      "_________________________________________________________________\n",
      "lstm_7 (LSTM)                (None, 64)                49408     \n",
      "_________________________________________________________________\n",
      "dense_6 (Dense)              (None, 32)                2080      \n",
      "_________________________________________________________________\n",
      "dense_7 (Dense)              (None, 4)                 132       \n",
      "=================================================================\n",
      "Total params: 2,671,468\n",
      "Trainable params: 2,671,468\n",
      "Non-trainable params: 0\n",
      "_________________________________________________________________\n"
     ]
    }
   ],
   "source": [
    "model1.summary()"
   ]
  },
  {
   "cell_type": "code",
   "execution_count": 52,
   "metadata": {},
   "outputs": [],
   "source": [
    "opt=Adam(learning_rate=1e-5)\n",
    "model1.compile(\n",
    "  loss='binary_crossentropy',\n",
    "  optimizer=opt,\n",
    "  metrics=['accuracy', f1_m],\n",
    ")"
   ]
  },
  {
   "cell_type": "code",
   "execution_count": 53,
   "metadata": {},
   "outputs": [
    {
     "name": "stdout",
     "output_type": "stream",
     "text": [
      "Epoch 1/30\n",
      "167/167 [==============================] - 31s 186ms/step - loss: 2.6741 - accuracy: 0.0779 - f1_m: 0.0012 - val_loss: 2.3991 - val_accuracy: 0.0915 - val_f1_m: 0.0025\n",
      "Epoch 2/30\n",
      "167/167 [==============================] - 31s 188ms/step - loss: 2.2469 - accuracy: 0.0959 - f1_m: 0.0247 - val_loss: 2.1913 - val_accuracy: 0.1073 - val_f1_m: 0.0298\n",
      "Epoch 3/30\n",
      "167/167 [==============================] - 30s 178ms/step - loss: 1.6461 - accuracy: 0.1137 - f1_m: 0.0818 - val_loss: 1.0301 - val_accuracy: 0.1546 - val_f1_m: 0.0449\n",
      "Epoch 4/30\n",
      "167/167 [==============================] - 34s 201ms/step - loss: 0.9686 - accuracy: 0.2102 - f1_m: 0.0558 - val_loss: 0.8815 - val_accuracy: 0.2623 - val_f1_m: 0.0240\n",
      "Epoch 5/30\n",
      "167/167 [==============================] - 30s 179ms/step - loss: 0.8964 - accuracy: 0.2447 - f1_m: 0.0520 - val_loss: 0.8643 - val_accuracy: 0.2688 - val_f1_m: 0.0263\n",
      "Epoch 6/30\n",
      "167/167 [==============================] - 33s 199ms/step - loss: 0.8985 - accuracy: 0.2441 - f1_m: 0.0628 - val_loss: 0.8520 - val_accuracy: 0.2758 - val_f1_m: 0.0382\n",
      "Epoch 7/30\n",
      "167/167 [==============================] - 27s 162ms/step - loss: 0.8702 - accuracy: 0.2411 - f1_m: 0.0735 - val_loss: 0.8388 - val_accuracy: 0.2754 - val_f1_m: 0.0517\n",
      "Epoch 8/30\n",
      "167/167 [==============================] - 27s 163ms/step - loss: 0.8414 - accuracy: 0.2565 - f1_m: 0.0796 - val_loss: 0.8295 - val_accuracy: 0.2798 - val_f1_m: 0.0648\n",
      "Epoch 9/30\n",
      "167/167 [==============================] - 27s 162ms/step - loss: 0.8346 - accuracy: 0.2417 - f1_m: 0.0974 - val_loss: 0.8160 - val_accuracy: 0.2815 - val_f1_m: 0.0803\n",
      "Epoch 10/30\n",
      "167/167 [==============================] - 27s 159ms/step - loss: 0.8262 - accuracy: 0.2513 - f1_m: 0.1168 - val_loss: 0.8063 - val_accuracy: 0.2872 - val_f1_m: 0.0968\n",
      "Epoch 11/30\n",
      "167/167 [==============================] - 26s 158ms/step - loss: 0.8101 - accuracy: 0.2665 - f1_m: 0.1585 - val_loss: 0.7932 - val_accuracy: 0.2894 - val_f1_m: 0.1422\n",
      "Epoch 12/30\n",
      "167/167 [==============================] - 26s 157ms/step - loss: 0.7933 - accuracy: 0.2687 - f1_m: 0.1725 - val_loss: 0.7801 - val_accuracy: 0.2947 - val_f1_m: 0.1618\n",
      "Epoch 13/30\n",
      "167/167 [==============================] - 26s 157ms/step - loss: 0.7790 - accuracy: 0.2678 - f1_m: 0.1972 - val_loss: 0.7726 - val_accuracy: 0.2933 - val_f1_m: 0.1907\n",
      "Epoch 14/30\n",
      "167/167 [==============================] - 26s 156ms/step - loss: 0.7761 - accuracy: 0.2614 - f1_m: 0.2137 - val_loss: 0.7667 - val_accuracy: 0.2973 - val_f1_m: 0.2342\n",
      "Epoch 15/30\n",
      "167/167 [==============================] - 27s 159ms/step - loss: 0.7605 - accuracy: 0.2575 - f1_m: 0.2604 - val_loss: 0.7598 - val_accuracy: 0.2999 - val_f1_m: 0.2818\n",
      "Epoch 16/30\n",
      "167/167 [==============================] - 30s 179ms/step - loss: 0.7517 - accuracy: 0.2717 - f1_m: 0.3110 - val_loss: 0.7468 - val_accuracy: 0.2973 - val_f1_m: 0.3295\n",
      "Epoch 17/30\n",
      "167/167 [==============================] - 30s 181ms/step - loss: 0.7485 - accuracy: 0.2620 - f1_m: 0.3408 - val_loss: 0.7385 - val_accuracy: 0.3017 - val_f1_m: 0.3601\n",
      "Epoch 18/30\n",
      "167/167 [==============================] - 29s 177ms/step - loss: 0.7294 - accuracy: 0.2691 - f1_m: 0.3796 - val_loss: 0.7303 - val_accuracy: 0.3135 - val_f1_m: 0.3972\n",
      "Epoch 19/30\n",
      "167/167 [==============================] - 33s 199ms/step - loss: 0.7319 - accuracy: 0.2768 - f1_m: 0.4072 - val_loss: 0.7217 - val_accuracy: 0.3056 - val_f1_m: 0.4147\n",
      "Epoch 20/30\n",
      "167/167 [==============================] - 29s 174ms/step - loss: 0.7243 - accuracy: 0.2815 - f1_m: 0.4622 - val_loss: 0.7171 - val_accuracy: 0.3109 - val_f1_m: 0.4379\n",
      "Epoch 21/30\n",
      "167/167 [==============================] - 26s 158ms/step - loss: 0.7176 - accuracy: 0.2738 - f1_m: 0.4725 - val_loss: 0.7126 - val_accuracy: 0.3165 - val_f1_m: 0.4639\n",
      "Epoch 22/30\n",
      "167/167 [==============================] - 26s 156ms/step - loss: 0.7116 - accuracy: 0.2869 - f1_m: 0.5032 - val_loss: 0.7084 - val_accuracy: 0.3214 - val_f1_m: 0.5083\n",
      "Epoch 23/30\n",
      "167/167 [==============================] - 26s 156ms/step - loss: 0.7058 - accuracy: 0.2850 - f1_m: 0.5618 - val_loss: 0.7013 - val_accuracy: 0.3297 - val_f1_m: 0.5327\n",
      "Epoch 24/30\n",
      "167/167 [==============================] - 26s 157ms/step - loss: 0.7025 - accuracy: 0.2971 - f1_m: 0.5801 - val_loss: 0.6968 - val_accuracy: 0.3345 - val_f1_m: 0.5542\n",
      "Epoch 25/30\n",
      "167/167 [==============================] - 27s 160ms/step - loss: 0.6960 - accuracy: 0.2815 - f1_m: 0.6006 - val_loss: 0.6929 - val_accuracy: 0.3398 - val_f1_m: 0.5698\n",
      "Epoch 26/30\n",
      "167/167 [==============================] - 26s 157ms/step - loss: 0.6910 - accuracy: 0.2972 - f1_m: 0.6464 - val_loss: 0.6889 - val_accuracy: 0.3424 - val_f1_m: 0.5946\n",
      "Epoch 27/30\n",
      "167/167 [==============================] - 26s 157ms/step - loss: 0.6869 - accuracy: 0.3029 - f1_m: 0.6685 - val_loss: 0.6851 - val_accuracy: 0.3468 - val_f1_m: 0.6133\n",
      "Epoch 28/30\n",
      "167/167 [==============================] - 26s 157ms/step - loss: 0.6822 - accuracy: 0.3051 - f1_m: 0.6855 - val_loss: 0.6802 - val_accuracy: 0.3520 - val_f1_m: 0.6324\n",
      "Epoch 29/30\n",
      "167/167 [==============================] - 26s 157ms/step - loss: 0.6762 - accuracy: 0.2965 - f1_m: 0.7093 - val_loss: 0.6762 - val_accuracy: 0.3595 - val_f1_m: 0.6620\n",
      "Epoch 30/30\n",
      "167/167 [==============================] - 26s 158ms/step - loss: 0.6748 - accuracy: 0.3019 - f1_m: 0.7372 - val_loss: 0.6719 - val_accuracy: 0.3586 - val_f1_m: 0.6869\n",
      "0:14:13.500154\n"
     ]
    }
   ],
   "source": [
    "# Fit the model; obtain the model fit time\n",
    "start=datetime.now()\n",
    "history1 = model1.fit(X_train,Y_train,\n",
    "                    batch_size=32,\n",
    "                    epochs=30,\n",
    "                    validation_split=0.3\n",
    ")\n",
    "end=datetime.now()\n",
    "print(end-start)"
   ]
  },
  {
   "cell_type": "code",
   "execution_count": 54,
   "metadata": {},
   "outputs": [
    {
     "name": "stdout",
     "output_type": "stream",
     "text": [
      "Best Train Accuracy: \n"
     ]
    },
    {
     "data": {
      "text/plain": [
       "0.3019"
      ]
     },
     "execution_count": 54,
     "metadata": {},
     "output_type": "execute_result"
    }
   ],
   "source": [
    "print ('Best Train Accuracy: ')\n",
    "best_model_train_accuracy = np.round(history1.history['accuracy'][np.argmin(history1.history['loss'])],4)\n",
    "best_model_train_accuracy"
   ]
  },
  {
   "cell_type": "code",
   "execution_count": 55,
   "metadata": {},
   "outputs": [
    {
     "name": "stdout",
     "output_type": "stream",
     "text": [
      "Best Validation Accuracy: \n"
     ]
    },
    {
     "data": {
      "text/plain": [
       "0.3586"
      ]
     },
     "execution_count": 55,
     "metadata": {},
     "output_type": "execute_result"
    }
   ],
   "source": [
    "print ('Best Validation Accuracy: ')\n",
    "best_model_val_accuracy = np.round(history1.history['val_accuracy'][np.argmin(history1.history['val_loss'])],4)\n",
    "best_model_val_accuracy"
   ]
  },
  {
   "cell_type": "code",
   "execution_count": 56,
   "metadata": {},
   "outputs": [
    {
     "name": "stdout",
     "output_type": "stream",
     "text": [
      "Best Train f1: 0.7372\n",
      "Best val f1: 0.6869\n"
     ]
    }
   ],
   "source": [
    "best_model_train_f1 = max(np.round(history1.history['f1_m'],4))\n",
    "print ('Best Train f1: {}'.format(best_model_train_f1))\n",
    "\n",
    "best_model_val_f1 = max(np.round(history1.history['val_f1_m'],4))\n",
    "print ('Best val f1: {}'.format(best_model_val_f1))"
   ]
  },
  {
   "cell_type": "code",
   "execution_count": 57,
   "metadata": {},
   "outputs": [
    {
     "data": {
      "image/png": "[encoded data removed]",
      "text/plain": [
       "<Figure size 720x576 with 1 Axes>"
      ]
     },
     "metadata": {
      "needs_background": "light"
     },
     "output_type": "display_data"
    }
   ],
   "source": [
    "# Plot the learning curve\n",
    "pd.DataFrame(history1.history).plot(figsize=(10, 8))\n",
    "plt.grid(True)\n",
    "plt.gca().set_ylim(0, 1) # set the vertical range to [0-1]\n",
    "plt.title('Learning curve -  factor1: 400K, factor2: GloVe.6B.50d, factor3: LSTM, factor4: 0.1')\n",
    "plt.show()"
   ]
  },
  {
   "cell_type": "markdown",
   "metadata": {},
   "source": [
    "# model 1 predictions (1=distaster tweet)"
   ]
  },
  {
   "cell_type": "code",
   "execution_count": 62,
   "metadata": {},
   "outputs": [
    {
     "name": "stdout",
     "output_type": "stream",
     "text": [
      "WARNING:tensorflow:From <ipython-input-62-d5cc07e15a29>:1: Sequential.predict_classes (from tensorflow.python.keras.engine.sequential) is deprecated and will be removed after 2021-01-01.\n",
      "Instructions for updating:\n",
      "Please use instead:* `np.argmax(model.predict(x), axis=-1)`,   if your model does multi-class classification   (e.g. if it uses a `softmax` last-layer activation).* `(model.predict(x) > 0.5).astype(\"int32\")`,   if your model does binary classification   (e.g. if it uses a `sigmoid` last-layer activation).\n"
     ]
    },
    {
     "data": {
      "text/plain": [
       "array([0, 2, 2, ..., 0, 2, 2])"
      ]
     },
     "execution_count": 62,
     "metadata": {},
     "output_type": "execute_result"
    }
   ],
   "source": [
    "predict1 = model1.predict_classes(X_test)\n",
    "predict1"
   ]
  },
  {
   "cell_type": "code",
   "execution_count": 63,
   "metadata": {},
   "outputs": [
    {
     "data": {
      "text/plain": [
       "3263"
      ]
     },
     "execution_count": 63,
     "metadata": {},
     "output_type": "execute_result"
    }
   ],
   "source": [
    "len(predict1)"
   ]
  },
  {
   "cell_type": "code",
   "execution_count": 64,
   "metadata": {},
   "outputs": [],
   "source": [
    "# save the results to a csv\n",
    "submission_df = pd.DataFrame({'id':test_tweets['id'],'target':np.squeeze(predict1)})\n",
    "submission_df.to_csv('submission_rnn_1.csv',index=False)"
   ]
  },
  {
   "cell_type": "code",
   "execution_count": 65,
   "metadata": {},
   "outputs": [
    {
     "data": {
      "text/html": [
       "<div>\n",
       "<style scoped>\n",
       "    .dataframe tbody tr th:only-of-type {\n",
       "        vertical-align: middle;\n",
       "    }\n",
       "\n",
       "    .dataframe tbody tr th {\n",
       "        vertical-align: top;\n",
       "    }\n",
       "\n",
       "    .dataframe thead th {\n",
       "        text-align: right;\n",
       "    }\n",
       "</style>\n",
       "<table border=\"1\" class=\"dataframe\">\n",
       "  <thead>\n",
       "    <tr style=\"text-align: right;\">\n",
       "      <th></th>\n",
       "      <th>Model_name</th>\n",
       "      <th>vocabulary size (factor1)</th>\n",
       "      <th>pre-trained vector (factor2)</th>\n",
       "      <th>RNN structure (factor3)</th>\n",
       "      <th>hyperparameter recurrent_dropout (factor4)</th>\n",
       "      <th>Processing Time</th>\n",
       "      <th>Training Set Accuracy</th>\n",
       "      <th>Validation Set Accuracy</th>\n",
       "      <th>train f1</th>\n",
       "      <th>validation f1</th>\n",
       "      <th>Test Set F1-score (Kaggle score)</th>\n",
       "    </tr>\n",
       "  </thead>\n",
       "  <tbody>\n",
       "    <tr>\n",
       "      <th>0</th>\n",
       "      <td>RNN #1</td>\n",
       "      <td>400K</td>\n",
       "      <td>GloVe.6B.50d</td>\n",
       "      <td>LSTM layer based</td>\n",
       "      <td>0.1</td>\n",
       "      <td>00:14:13.500154</td>\n",
       "      <td>0.3019</td>\n",
       "      <td>0.3586</td>\n",
       "      <td>0.7372</td>\n",
       "      <td>0.6869</td>\n",
       "      <td>0.78087</td>\n",
       "    </tr>\n",
       "  </tbody>\n",
       "</table>\n",
       "</div>"
      ],
      "text/plain": [
       "  Model_name vocabulary size (factor1) pre-trained vector (factor2)  \\\n",
       "0     RNN #1                      400K                 GloVe.6B.50d   \n",
       "\n",
       "  RNN structure (factor3) hyperparameter recurrent_dropout (factor4)  \\\n",
       "0        LSTM layer based                                        0.1   \n",
       "\n",
       "  Processing Time  Training Set Accuracy  Validation Set Accuracy  train f1  \\\n",
       "0 00:14:13.500154                 0.3019                   0.3586    0.7372   \n",
       "\n",
       "   validation f1 Test Set F1-score (Kaggle score)  \n",
       "0         0.6869                          0.78087  "
      ]
     },
     "execution_count": 65,
     "metadata": {},
     "output_type": "execute_result"
    }
   ],
   "source": [
    "#Store the accuracy and kaggle score for this model \n",
    "results_tbl = results_tbl.append({'Model_name':'RNN #1', \n",
    "                                   'vocabulary size (factor1)':'400K',\n",
    "                                   'pre-trained vector (factor2)':'GloVe.6B.200d',\n",
    "                                   'RNN structure (factor3)':'LSTM layer based',\n",
    "                                   'hyperparameter recurrent_dropout (factor4)': '0.25',\n",
    "                                   'Processing Time':(end-start),\n",
    "                                   'Training Set Accuracy':best_model_train_accuracy,\n",
    "                                   'Validation Set Accuracy':best_model_val_accuracy,\n",
    "                                   'train f1':best_model_train_f1,\n",
    "                                   'validation f1':best_model_val_f1,\n",
    "                                   'Test Set F1-score (Kaggle score)': ''\n",
    "                                   },ignore_index=True)\n",
    "results_tbl\n"
   ]
  },
  {
   "cell_type": "markdown",
   "metadata": {},
   "source": [
    "# Fit RNN 2\n",
    "# vocabulary size (factor 1): 400K\n",
    "# pre-trained vector (factor 2): GloVe.6B.200d\n",
    "# rnn structure (factor 3): LSTM layer based structure\n",
    "# recurrent dropout (factor 4): 0.3"
   ]
  },
  {
   "cell_type": "code",
   "execution_count": 67,
   "metadata": {},
   "outputs": [],
   "source": [
    "model2 = keras.models.Sequential([\n",
    "    keras.layers.Embedding(len(word2index)+1,\n",
    "                           dims,\n",
    "                           weights=[embedding_matrix],\n",
    "                           input_length=maxlen,\n",
    "                           trainable=False),\n",
    "    keras.layers.LSTM(units=128 , return_sequences = True , recurrent_dropout = 0.3 , dropout = 0.3),\n",
    "    keras.layers.LSTM(units=64 , recurrent_dropout = 0.3 , dropout = 0.3),\n",
    "    keras.layers.Dense(32, activation='tanh'),\n",
    "    keras.layers.Dense(1, activation='tanh')\n",
    "])"
   ]
  },
  {
   "cell_type": "code",
   "execution_count": 68,
   "metadata": {},
   "outputs": [
    {
     "name": "stdout",
     "output_type": "stream",
     "text": [
      "Model: \"sequential_5\"\n",
      "_________________________________________________________________\n",
      "Layer (type)                 Output Shape              Param #   \n",
      "=================================================================\n",
      "embedding_5 (Embedding)      (None, 31, 200)           2451400   \n",
      "_________________________________________________________________\n",
      "lstm_10 (LSTM)               (None, 31, 128)           168448    \n",
      "_________________________________________________________________\n",
      "lstm_11 (LSTM)               (None, 64)                49408     \n",
      "_________________________________________________________________\n",
      "dense_10 (Dense)             (None, 32)                2080      \n",
      "_________________________________________________________________\n",
      "dense_11 (Dense)             (None, 1)                 33        \n",
      "=================================================================\n",
      "Total params: 2,671,369\n",
      "Trainable params: 219,969\n",
      "Non-trainable params: 2,451,400\n",
      "_________________________________________________________________\n"
     ]
    }
   ],
   "source": [
    "model2.summary()"
   ]
  },
  {
   "cell_type": "code",
   "execution_count": 69,
   "metadata": {},
   "outputs": [],
   "source": [
    "opt=Adam(learning_rate=1e-5)\n",
    "model2.compile(\n",
    "  loss='binary_crossentropy',\n",
    "  optimizer=opt,\n",
    "  metrics=['accuracy', f1_m],\n",
    ")"
   ]
  },
  {
   "cell_type": "code",
   "execution_count": 70,
   "metadata": {},
   "outputs": [
    {
     "name": "stdout",
     "output_type": "stream",
     "text": [
      "Epoch 1/40\n",
      "167/167 [==============================] - 19s 112ms/step - loss: 1.0962 - accuracy: 0.5757 - f1_m: 0.0348 - val_loss: 0.7957 - val_accuracy: 0.5512 - val_f1_m: 0.0837\n",
      "Epoch 2/40\n",
      "167/167 [==============================] - 18s 110ms/step - loss: 0.7681 - accuracy: 0.5729 - f1_m: 0.2133 - val_loss: 0.7318 - val_accuracy: 0.5670 - val_f1_m: 0.2922\n",
      "Epoch 3/40\n",
      "167/167 [==============================] - 19s 115ms/step - loss: 0.7337 - accuracy: 0.5759 - f1_m: 0.3368 - val_loss: 0.7020 - val_accuracy: 0.5827 - val_f1_m: 0.3858\n",
      "Epoch 4/40\n",
      "167/167 [==============================] - 20s 119ms/step - loss: 0.6999 - accuracy: 0.5894 - f1_m: 0.3850 - val_loss: 0.6863 - val_accuracy: 0.5928 - val_f1_m: 0.4103\n",
      "Epoch 5/40\n",
      "167/167 [==============================] - 20s 122ms/step - loss: 0.6821 - accuracy: 0.6042 - f1_m: 0.4357 - val_loss: 0.6736 - val_accuracy: 0.6151 - val_f1_m: 0.4461\n",
      "Epoch 6/40\n",
      "167/167 [==============================] - 21s 123ms/step - loss: 0.6649 - accuracy: 0.6223 - f1_m: 0.4488 - val_loss: 0.6529 - val_accuracy: 0.6401 - val_f1_m: 0.4505\n",
      "Epoch 7/40\n",
      "167/167 [==============================] - 21s 126ms/step - loss: 0.6617 - accuracy: 0.6365 - f1_m: 0.4760 - val_loss: 0.6414 - val_accuracy: 0.6681 - val_f1_m: 0.4650\n",
      "Epoch 8/40\n",
      "167/167 [==============================] - 21s 127ms/step - loss: 0.6405 - accuracy: 0.6540 - f1_m: 0.4974 - val_loss: 0.6248 - val_accuracy: 0.6891 - val_f1_m: 0.4821\n",
      "Epoch 9/40\n",
      "167/167 [==============================] - 21s 127ms/step - loss: 0.6165 - accuracy: 0.6686 - f1_m: 0.5104 - val_loss: 0.6107 - val_accuracy: 0.7075 - val_f1_m: 0.5141\n",
      "Epoch 10/40\n",
      "167/167 [==============================] - 22s 129ms/step - loss: 0.6040 - accuracy: 0.6898 - f1_m: 0.5549 - val_loss: 0.5995 - val_accuracy: 0.7233 - val_f1_m: 0.5302\n",
      "Epoch 11/40\n",
      "167/167 [==============================] - 21s 125ms/step - loss: 0.5997 - accuracy: 0.7001 - f1_m: 0.5804 - val_loss: 0.5871 - val_accuracy: 0.7320 - val_f1_m: 0.5406\n",
      "Epoch 12/40\n",
      "167/167 [==============================] - 21s 125ms/step - loss: 0.6022 - accuracy: 0.7166 - f1_m: 0.6147 - val_loss: 0.5787 - val_accuracy: 0.7391 - val_f1_m: 0.5537\n",
      "Epoch 13/40\n",
      "167/167 [==============================] - 21s 126ms/step - loss: 0.5944 - accuracy: 0.7195 - f1_m: 0.6150 - val_loss: 0.5733 - val_accuracy: 0.7395 - val_f1_m: 0.5771\n",
      "Epoch 14/40\n",
      "167/167 [==============================] - 21s 126ms/step - loss: 0.5855 - accuracy: 0.7228 - f1_m: 0.6604 - val_loss: 0.5733 - val_accuracy: 0.7391 - val_f1_m: 0.5828\n",
      "Epoch 15/40\n",
      "167/167 [==============================] - 21s 126ms/step - loss: 0.5747 - accuracy: 0.7303 - f1_m: 0.6511 - val_loss: 0.5708 - val_accuracy: 0.7456 - val_f1_m: 0.5806\n",
      "Epoch 16/40\n",
      "167/167 [==============================] - 21s 126ms/step - loss: 0.5686 - accuracy: 0.7324 - f1_m: 0.6534 - val_loss: 0.5718 - val_accuracy: 0.7509 - val_f1_m: 0.5723\n",
      "Epoch 17/40\n",
      "167/167 [==============================] - 23s 135ms/step - loss: 0.5637 - accuracy: 0.7326 - f1_m: 0.6577 - val_loss: 0.5677 - val_accuracy: 0.7539 - val_f1_m: 0.5801\n",
      "Epoch 18/40\n",
      "167/167 [==============================] - 21s 125ms/step - loss: 0.5808 - accuracy: 0.7174 - f1_m: 0.6667 - val_loss: 0.5687 - val_accuracy: 0.7312 - val_f1_m: 0.5962\n",
      "Epoch 19/40\n",
      "167/167 [==============================] - 21s 124ms/step - loss: 0.5668 - accuracy: 0.7352 - f1_m: 0.6734 - val_loss: 0.5620 - val_accuracy: 0.7509 - val_f1_m: 0.5988\n",
      "Epoch 20/40\n",
      "167/167 [==============================] - 21s 126ms/step - loss: 0.5538 - accuracy: 0.7409 - f1_m: 0.6703 - val_loss: 0.5645 - val_accuracy: 0.7618 - val_f1_m: 0.5941\n",
      "Epoch 21/40\n",
      "167/167 [==============================] - 21s 123ms/step - loss: 0.5662 - accuracy: 0.7497 - f1_m: 0.6777 - val_loss: 0.5614 - val_accuracy: 0.7636 - val_f1_m: 0.5964\n",
      "Epoch 22/40\n",
      "167/167 [==============================] - 21s 123ms/step - loss: 0.5670 - accuracy: 0.7380 - f1_m: 0.6795 - val_loss: 0.5571 - val_accuracy: 0.7601 - val_f1_m: 0.6049\n",
      "Epoch 23/40\n",
      "167/167 [==============================] - 21s 123ms/step - loss: 0.5526 - accuracy: 0.7358 - f1_m: 0.6818 - val_loss: 0.5569 - val_accuracy: 0.7452 - val_f1_m: 0.6086\n",
      "Epoch 24/40\n",
      "167/167 [==============================] - 20s 122ms/step - loss: 0.5603 - accuracy: 0.7320 - f1_m: 0.6845 - val_loss: 0.5579 - val_accuracy: 0.7443 - val_f1_m: 0.6047\n",
      "Epoch 25/40\n",
      "167/167 [==============================] - 20s 122ms/step - loss: 0.5540 - accuracy: 0.7424 - f1_m: 0.6818 - val_loss: 0.5531 - val_accuracy: 0.7636 - val_f1_m: 0.6073\n",
      "Epoch 26/40\n",
      "167/167 [==============================] - 21s 124ms/step - loss: 0.5509 - accuracy: 0.7499 - f1_m: 0.6800 - val_loss: 0.5516 - val_accuracy: 0.7649 - val_f1_m: 0.6092\n",
      "Epoch 27/40\n",
      "167/167 [==============================] - 20s 121ms/step - loss: 0.5505 - accuracy: 0.7487 - f1_m: 0.6824 - val_loss: 0.5543 - val_accuracy: 0.7671 - val_f1_m: 0.5996\n",
      "Epoch 28/40\n",
      "167/167 [==============================] - 20s 121ms/step - loss: 0.5451 - accuracy: 0.7604 - f1_m: 0.6872 - val_loss: 0.5507 - val_accuracy: 0.7684 - val_f1_m: 0.6000\n",
      "Epoch 29/40\n",
      "167/167 [==============================] - 20s 122ms/step - loss: 0.5451 - accuracy: 0.7564 - f1_m: 0.6843 - val_loss: 0.5522 - val_accuracy: 0.7697 - val_f1_m: 0.6004\n",
      "Epoch 30/40\n",
      "167/167 [==============================] - 20s 123ms/step - loss: 0.5430 - accuracy: 0.7572 - f1_m: 0.6819 - val_loss: 0.5504 - val_accuracy: 0.7723 - val_f1_m: 0.6084\n",
      "Epoch 31/40\n",
      "167/167 [==============================] - 20s 122ms/step - loss: 0.5453 - accuracy: 0.7574 - f1_m: 0.6966 - val_loss: 0.5455 - val_accuracy: 0.7728 - val_f1_m: 0.6148\n",
      "Epoch 32/40\n",
      "167/167 [==============================] - 21s 123ms/step - loss: 0.5465 - accuracy: 0.7583 - f1_m: 0.6932 - val_loss: 0.5443 - val_accuracy: 0.7732 - val_f1_m: 0.6126\n",
      "Epoch 33/40\n",
      "167/167 [==============================] - 21s 123ms/step - loss: 0.5421 - accuracy: 0.7624 - f1_m: 0.6987 - val_loss: 0.5494 - val_accuracy: 0.7592 - val_f1_m: 0.6206\n",
      "Epoch 34/40\n",
      "167/167 [==============================] - 20s 122ms/step - loss: 0.5459 - accuracy: 0.7559 - f1_m: 0.6965 - val_loss: 0.5389 - val_accuracy: 0.7750 - val_f1_m: 0.6211\n",
      "Epoch 35/40\n",
      "167/167 [==============================] - 20s 122ms/step - loss: 0.5537 - accuracy: 0.7645 - f1_m: 0.7028 - val_loss: 0.5445 - val_accuracy: 0.7793 - val_f1_m: 0.6180\n",
      "Epoch 36/40\n",
      "167/167 [==============================] - 21s 123ms/step - loss: 0.5374 - accuracy: 0.7604 - f1_m: 0.7072 - val_loss: 0.5377 - val_accuracy: 0.7719 - val_f1_m: 0.6213\n",
      "Epoch 37/40\n",
      "167/167 [==============================] - 21s 124ms/step - loss: 0.5415 - accuracy: 0.7671 - f1_m: 0.7045 - val_loss: 0.5380 - val_accuracy: 0.7798 - val_f1_m: 0.6180\n",
      "Epoch 38/40\n",
      "167/167 [==============================] - 21s 124ms/step - loss: 0.5431 - accuracy: 0.7645 - f1_m: 0.7035 - val_loss: 0.5330 - val_accuracy: 0.7763 - val_f1_m: 0.6204\n",
      "Epoch 39/40\n",
      "167/167 [==============================] - 20s 122ms/step - loss: 0.5276 - accuracy: 0.7703 - f1_m: 0.7116 - val_loss: 0.5322 - val_accuracy: 0.7754 - val_f1_m: 0.6210\n",
      "Epoch 40/40\n",
      "167/167 [==============================] - 21s 123ms/step - loss: 0.5392 - accuracy: 0.7669 - f1_m: 0.7048 - val_loss: 0.5345 - val_accuracy: 0.7811 - val_f1_m: 0.6222\n",
      "0:13:52.784631\n"
     ]
    }
   ],
   "source": [
    "# Fit the model; obtain the model fit time\n",
    "start=datetime.now()\n",
    "history2 = model2.fit(X_train,Y_train,\n",
    "                    batch_size=32,\n",
    "                    epochs=40,\n",
    "                    validation_split=0.3\n",
    ")\n",
    "end=datetime.now()\n",
    "print(end-start)"
   ]
  },
  {
   "cell_type": "code",
   "execution_count": 71,
   "metadata": {},
   "outputs": [
    {
     "name": "stdout",
     "output_type": "stream",
     "text": [
      "Best Train Accuracy: \n"
     ]
    },
    {
     "data": {
      "text/plain": [
       "0.7703"
      ]
     },
     "execution_count": 71,
     "metadata": {},
     "output_type": "execute_result"
    }
   ],
   "source": [
    "print ('Best Train Accuracy: ')\n",
    "best_model_train_accuracy = np.round(history2.history['accuracy'][np.argmin(history2.history['loss'])],4)\n",
    "best_model_train_accuracy"
   ]
  },
  {
   "cell_type": "code",
   "execution_count": 72,
   "metadata": {},
   "outputs": [
    {
     "name": "stdout",
     "output_type": "stream",
     "text": [
      "Best Validation Accuracy: \n"
     ]
    },
    {
     "data": {
      "text/plain": [
       "0.7754"
      ]
     },
     "execution_count": 72,
     "metadata": {},
     "output_type": "execute_result"
    }
   ],
   "source": [
    "print ('Best Validation Accuracy: ')\n",
    "best_model_val_accuracy = np.round(history2.history['val_accuracy'][np.argmin(history2.history['val_loss'])],4)\n",
    "best_model_val_accuracy"
   ]
  },
  {
   "cell_type": "code",
   "execution_count": 73,
   "metadata": {},
   "outputs": [
    {
     "name": "stdout",
     "output_type": "stream",
     "text": [
      "Best Train f1: 0.7116\n",
      "Best val f1: 0.6222\n"
     ]
    }
   ],
   "source": [
    "best_model_train_f1 = max(np.round(history2.history['f1_m'],4))\n",
    "print ('Best Train f1: {}'.format(best_model_train_f1))\n",
    "\n",
    "best_model_val_f1 = max(np.round(history2.history['val_f1_m'],4))\n",
    "print ('Best val f1: {}'.format(best_model_val_f1))"
   ]
  },
  {
   "cell_type": "code",
   "execution_count": 74,
   "metadata": {},
   "outputs": [
    {
     "data": {
      "image/png": "[encoded data removed]",
      "text/plain": [
       "<Figure size 720x576 with 1 Axes>"
      ]
     },
     "metadata": {
      "needs_background": "light"
     },
     "output_type": "display_data"
    }
   ],
   "source": [
    "# Plot the learning curve\n",
    "pd.DataFrame(history2.history).plot(figsize=(10, 8))\n",
    "plt.grid(True)\n",
    "plt.gca().set_ylim(0, 1) # set the vertical range to [0-1]\n",
    "plt.title('Learning curve -  factor1: 400K, factor2: GloVe.6B.50d, factor3: LSTM, factor4: 0.3')\n",
    "plt.show()"
   ]
  },
  {
   "cell_type": "markdown",
   "metadata": {},
   "source": [
    "# model 2 predictions (1=disaster tweet)"
   ]
  },
  {
   "cell_type": "code",
   "execution_count": 75,
   "metadata": {},
   "outputs": [
    {
     "data": {
      "text/plain": [
       "array([[1],\n",
       "       [1],\n",
       "       [1],\n",
       "       ...,\n",
       "       [0],\n",
       "       [0],\n",
       "       [1]], dtype=int32)"
      ]
     },
     "execution_count": 75,
     "metadata": {},
     "output_type": "execute_result"
    }
   ],
   "source": [
    "predict2 = model2.predict_classes(X_test)\n",
    "predict2"
   ]
  },
  {
   "cell_type": "code",
   "execution_count": 76,
   "metadata": {},
   "outputs": [
    {
     "data": {
      "text/plain": [
       "3263"
      ]
     },
     "execution_count": 76,
     "metadata": {},
     "output_type": "execute_result"
    }
   ],
   "source": [
    "len(predict2)"
   ]
  },
  {
   "cell_type": "code",
   "execution_count": 77,
   "metadata": {},
   "outputs": [],
   "source": [
    "# save the results to a csv\n",
    "submission_df = pd.DataFrame({'id':test_tweets['id'],'target':np.squeeze(predict2)})\n",
    "submission_df.to_csv('submission_rnn_2.csv',index=False)"
   ]
  },
  {
   "cell_type": "code",
   "execution_count": 78,
   "metadata": {},
   "outputs": [
    {
     "data": {
      "text/html": [
       "<div>\n",
       "<style scoped>\n",
       "    .dataframe tbody tr th:only-of-type {\n",
       "        vertical-align: middle;\n",
       "    }\n",
       "\n",
       "    .dataframe tbody tr th {\n",
       "        vertical-align: top;\n",
       "    }\n",
       "\n",
       "    .dataframe thead th {\n",
       "        text-align: right;\n",
       "    }\n",
       "</style>\n",
       "<table border=\"1\" class=\"dataframe\">\n",
       "  <thead>\n",
       "    <tr style=\"text-align: right;\">\n",
       "      <th></th>\n",
       "      <th>Model_name</th>\n",
       "      <th>vocabulary size (factor1)</th>\n",
       "      <th>pre-trained vector (factor2)</th>\n",
       "      <th>RNN structure (factor3)</th>\n",
       "      <th>hyperparameter recurrent_dropout (factor4)</th>\n",
       "      <th>Processing Time</th>\n",
       "      <th>Training Set Accuracy</th>\n",
       "      <th>Validation Set Accuracy</th>\n",
       "      <th>train f1</th>\n",
       "      <th>validation f1</th>\n",
       "      <th>Test Set F1-score (Kaggle score)</th>\n",
       "    </tr>\n",
       "  </thead>\n",
       "  <tbody>\n",
       "    <tr>\n",
       "      <th>0</th>\n",
       "      <td>RNN #1</td>\n",
       "      <td>400K</td>\n",
       "      <td>GloVe.6B.50d</td>\n",
       "      <td>LSTM layer based</td>\n",
       "      <td>0.1</td>\n",
       "      <td>00:14:13.500154</td>\n",
       "      <td>0.3019</td>\n",
       "      <td>0.3586</td>\n",
       "      <td>0.7372</td>\n",
       "      <td>0.6869</td>\n",
       "      <td>0.78087</td>\n",
       "    </tr>\n",
       "    <tr>\n",
       "      <th>1</th>\n",
       "      <td>RNN #2</td>\n",
       "      <td>400K</td>\n",
       "      <td>GloVe.6B.50d</td>\n",
       "      <td>LSTM layer based</td>\n",
       "      <td>0.3</td>\n",
       "      <td>00:13:52.784631</td>\n",
       "      <td>0.7703</td>\n",
       "      <td>0.7754</td>\n",
       "      <td>0.7116</td>\n",
       "      <td>0.6222</td>\n",
       "      <td>0.78026</td>\n",
       "    </tr>\n",
       "  </tbody>\n",
       "</table>\n",
       "</div>"
      ],
      "text/plain": [
       "  Model_name vocabulary size (factor1) pre-trained vector (factor2)  \\\n",
       "0     RNN #1                      400K                 GloVe.6B.50d   \n",
       "1     RNN #2                      400K                 GloVe.6B.50d   \n",
       "\n",
       "  RNN structure (factor3) hyperparameter recurrent_dropout (factor4)  \\\n",
       "0        LSTM layer based                                        0.1   \n",
       "1        LSTM layer based                                        0.3   \n",
       "\n",
       "  Processing Time  Training Set Accuracy  Validation Set Accuracy  train f1  \\\n",
       "0 00:14:13.500154                 0.3019                   0.3586    0.7372   \n",
       "1 00:13:52.784631                 0.7703                   0.7754    0.7116   \n",
       "\n",
       "   validation f1 Test Set F1-score (Kaggle score)  \n",
       "0         0.6869                          0.78087  \n",
       "1         0.6222                          0.78026  "
      ]
     },
     "execution_count": 78,
     "metadata": {},
     "output_type": "execute_result"
    }
   ],
   "source": [
    "#Store the accuracy and kaggle score for this model \n",
    "results_tbl = results_tbl.append({'Model_name':'RNN #2', \n",
    "                                   'vocabulary size (factor1)':'400K',\n",
    "                                   'pre-trained vector (factor2)':'GloVe.6B.200d',\n",
    "                                   'RNN structure (factor3)':'LSTM layer based',\n",
    "                                   'hyperparameter recurrent_dropout (factor4)': '0.3',\n",
    "                                   'Processing Time':(end-start),\n",
    "                                   'Training Set Accuracy':best_model_train_accuracy,\n",
    "                                   'Validation Set Accuracy':best_model_val_accuracy,\n",
    "                                   'train f1':best_model_train_f1,\n",
    "                                   'validation f1':best_model_val_f1,\n",
    "                                   'Test Set F1-score (Kaggle score)': ''\n",
    "                                   },ignore_index=True)\n",
    "results_tbl\n"
   ]
  },
  {
   "cell_type": "markdown",
   "metadata": {},
   "source": [
    "# Fit RNN 3\n",
    "# vocabulary size (factor 1): 400K\n",
    "# pre-trained vector (factor 2): GloVe.6B.200d\n",
    "# rnn structure (factor 3): GRU layer based structure\n",
    "# recurrent dropout (factor 4): 0.1"
   ]
  },
  {
   "cell_type": "code",
   "execution_count": 79,
   "metadata": {},
   "outputs": [],
   "source": [
    "model3 = keras.models.Sequential([\n",
    "    keras.layers.Embedding(len(word2index)+1,\n",
    "                           dims,\n",
    "                           weights=[embedding_matrix],\n",
    "                           input_length=maxlen,\n",
    "                           trainable=True),\n",
    "    keras.layers.GRU(units=128 , return_sequences = True , recurrent_dropout = 0.1, dropout = 0.1),\n",
    "    keras.layers.GRU(units=64 , recurrent_dropout = 0.1 , dropout = 0.1),\n",
    "    keras.layers.Dense(22, activation='tanh'),\n",
    "    keras.layers.Dense(4, activation='tanh')\n",
    "])"
   ]
  },
  {
   "cell_type": "code",
   "execution_count": 80,
   "metadata": {},
   "outputs": [
    {
     "name": "stdout",
     "output_type": "stream",
     "text": [
      "Model: \"sequential_6\"\n",
      "_________________________________________________________________\n",
      "Layer (type)                 Output Shape              Param #   \n",
      "=================================================================\n",
      "embedding_6 (Embedding)      (None, 31, 200)           2451400   \n",
      "_________________________________________________________________\n",
      "gru (GRU)                    (None, 31, 128)           126720    \n",
      "_________________________________________________________________\n",
      "gru_1 (GRU)                  (None, 64)                37248     \n",
      "_________________________________________________________________\n",
      "dense_12 (Dense)             (None, 22)                1430      \n",
      "_________________________________________________________________\n",
      "dense_13 (Dense)             (None, 4)                 92        \n",
      "=================================================================\n",
      "Total params: 2,616,890\n",
      "Trainable params: 2,616,890\n",
      "Non-trainable params: 0\n",
      "_________________________________________________________________\n"
     ]
    }
   ],
   "source": [
    "model3.summary()"
   ]
  },
  {
   "cell_type": "code",
   "execution_count": 81,
   "metadata": {},
   "outputs": [],
   "source": [
    "opt=Adam(learning_rate=1e-5)\n",
    "model3.compile(\n",
    "  loss='binary_crossentropy',\n",
    "  optimizer=opt,\n",
    "  metrics=['accuracy', f1_m],\n",
    ")"
   ]
  },
  {
   "cell_type": "code",
   "execution_count": 82,
   "metadata": {},
   "outputs": [
    {
     "name": "stdout",
     "output_type": "stream",
     "text": [
      "Epoch 1/40\n",
      "167/167 [==============================] - 24s 142ms/step - loss: 2.2422 - accuracy: 0.2886 - f1_m: 0.1878 - val_loss: 2.0917 - val_accuracy: 0.2640 - val_f1_m: 0.1625\n",
      "Epoch 2/40\n",
      "167/167 [==============================] - 23s 140ms/step - loss: 1.9013 - accuracy: 0.2454 - f1_m: 0.2024 - val_loss: 1.8071 - val_accuracy: 0.2128 - val_f1_m: 0.1582\n",
      "Epoch 3/40\n",
      "167/167 [==============================] - 23s 139ms/step - loss: 1.7340 - accuracy: 0.2154 - f1_m: 0.2483 - val_loss: 1.6435 - val_accuracy: 0.1979 - val_f1_m: 0.1759\n",
      "Epoch 4/40\n",
      "167/167 [==============================] - 23s 139ms/step - loss: 1.5789 - accuracy: 0.2333 - f1_m: 0.2722 - val_loss: 1.5065 - val_accuracy: 0.2570 - val_f1_m: 0.2829\n",
      "Epoch 5/40\n",
      "167/167 [==============================] - 23s 140ms/step - loss: 1.4595 - accuracy: 0.2500 - f1_m: 0.3414 - val_loss: 1.3846 - val_accuracy: 0.2325 - val_f1_m: 0.2947\n",
      "Epoch 6/40\n",
      "167/167 [==============================] - 23s 140ms/step - loss: 1.3716 - accuracy: 0.1985 - f1_m: 0.3801 - val_loss: 1.2732 - val_accuracy: 0.1738 - val_f1_m: 0.3534\n",
      "Epoch 7/40\n",
      "167/167 [==============================] - 63s 378ms/step - loss: 1.2836 - accuracy: 0.1998 - f1_m: 0.4120 - val_loss: 1.2029 - val_accuracy: 0.1576 - val_f1_m: 0.3793\n",
      "Epoch 8/40\n",
      "167/167 [==============================] - 24s 144ms/step - loss: 1.2455 - accuracy: 0.1905 - f1_m: 0.4162 - val_loss: 1.1688 - val_accuracy: 0.1576 - val_f1_m: 0.3721\n",
      "Epoch 9/40\n",
      "167/167 [==============================] - 24s 147ms/step - loss: 1.2032 - accuracy: 0.1903 - f1_m: 0.4299 - val_loss: 1.1287 - val_accuracy: 0.1502 - val_f1_m: 0.3906\n",
      "Epoch 10/40\n",
      "167/167 [==============================] - 24s 144ms/step - loss: 1.1609 - accuracy: 0.1901 - f1_m: 0.4609 - val_loss: 1.0826 - val_accuracy: 0.1559 - val_f1_m: 0.4037\n",
      "Epoch 11/40\n",
      "167/167 [==============================] - 25s 148ms/step - loss: 1.0953 - accuracy: 0.1888 - f1_m: 0.4626 - val_loss: 1.0659 - val_accuracy: 0.1554 - val_f1_m: 0.4135\n",
      "Epoch 12/40\n",
      "167/167 [==============================] - 25s 149ms/step - loss: 1.0739 - accuracy: 0.1907 - f1_m: 0.4771 - val_loss: 1.0409 - val_accuracy: 0.1633 - val_f1_m: 0.4329\n",
      "Epoch 13/40\n",
      "167/167 [==============================] - 25s 150ms/step - loss: 1.0678 - accuracy: 0.1950 - f1_m: 0.4941 - val_loss: 1.0183 - val_accuracy: 0.1594 - val_f1_m: 0.4468\n",
      "Epoch 14/40\n",
      "167/167 [==============================] - 25s 149ms/step - loss: 1.0434 - accuracy: 0.1976 - f1_m: 0.5192 - val_loss: 0.9674 - val_accuracy: 0.1874 - val_f1_m: 0.4615\n",
      "Epoch 15/40\n",
      "167/167 [==============================] - 25s 149ms/step - loss: 0.9917 - accuracy: 0.2015 - f1_m: 0.5284 - val_loss: 0.9463 - val_accuracy: 0.1743 - val_f1_m: 0.4804\n",
      "Epoch 16/40\n",
      "167/167 [==============================] - 25s 149ms/step - loss: 0.9713 - accuracy: 0.2074 - f1_m: 0.5362 - val_loss: 0.9260 - val_accuracy: 0.1764 - val_f1_m: 0.4906\n",
      "Epoch 17/40\n",
      "167/167 [==============================] - 25s 148ms/step - loss: 0.9482 - accuracy: 0.2068 - f1_m: 0.5606 - val_loss: 0.9044 - val_accuracy: 0.1677 - val_f1_m: 0.5247\n",
      "Epoch 18/40\n",
      "167/167 [==============================] - 25s 148ms/step - loss: 0.9291 - accuracy: 0.1983 - f1_m: 0.5888 - val_loss: 0.8892 - val_accuracy: 0.1690 - val_f1_m: 0.5300\n",
      "Epoch 19/40\n",
      "167/167 [==============================] - 25s 148ms/step - loss: 0.9037 - accuracy: 0.1918 - f1_m: 0.5856 - val_loss: 0.8783 - val_accuracy: 0.1686 - val_f1_m: 0.5389\n",
      "Epoch 20/40\n",
      "167/167 [==============================] - 25s 148ms/step - loss: 0.9015 - accuracy: 0.1878 - f1_m: 0.6150 - val_loss: 0.8689 - val_accuracy: 0.1423 - val_f1_m: 0.5567\n",
      "Epoch 21/40\n",
      "167/167 [==============================] - 24s 146ms/step - loss: 0.8811 - accuracy: 0.1728 - f1_m: 0.6402 - val_loss: 0.8600 - val_accuracy: 0.1471 - val_f1_m: 0.5594\n",
      "Epoch 22/40\n",
      "167/167 [==============================] - 25s 147ms/step - loss: 0.8652 - accuracy: 0.1717 - f1_m: 0.6422 - val_loss: 0.8478 - val_accuracy: 0.1532 - val_f1_m: 0.5713\n",
      "Epoch 23/40\n",
      "167/167 [==============================] - 24s 145ms/step - loss: 0.8524 - accuracy: 0.1877 - f1_m: 0.6507 - val_loss: 0.8307 - val_accuracy: 0.1782 - val_f1_m: 0.5717\n",
      "Epoch 24/40\n",
      "167/167 [==============================] - 24s 145ms/step - loss: 0.8287 - accuracy: 0.2154 - f1_m: 0.6508 - val_loss: 0.8210 - val_accuracy: 0.1957 - val_f1_m: 0.5826\n",
      "Epoch 25/40\n",
      "167/167 [==============================] - 24s 144ms/step - loss: 0.8161 - accuracy: 0.2164 - f1_m: 0.6779 - val_loss: 0.8126 - val_accuracy: 0.1944 - val_f1_m: 0.5890\n",
      "Epoch 26/40\n",
      "167/167 [==============================] - 24s 144ms/step - loss: 0.8137 - accuracy: 0.2231 - f1_m: 0.6760 - val_loss: 0.8038 - val_accuracy: 0.1944 - val_f1_m: 0.5993\n",
      "Epoch 27/40\n",
      "167/167 [==============================] - 24s 145ms/step - loss: 0.8049 - accuracy: 0.2158 - f1_m: 0.6769 - val_loss: 0.7966 - val_accuracy: 0.1905 - val_f1_m: 0.6051\n",
      "Epoch 28/40\n",
      "167/167 [==============================] - 24s 143ms/step - loss: 0.7957 - accuracy: 0.1925 - f1_m: 0.6954 - val_loss: 0.7856 - val_accuracy: 0.1773 - val_f1_m: 0.6246\n",
      "Epoch 29/40\n",
      "167/167 [==============================] - 24s 142ms/step - loss: 0.7890 - accuracy: 0.2053 - f1_m: 0.7006 - val_loss: 0.7808 - val_accuracy: 0.1865 - val_f1_m: 0.6425\n",
      "Epoch 30/40\n",
      "167/167 [==============================] - 24s 142ms/step - loss: 0.7845 - accuracy: 0.2134 - f1_m: 0.7145 - val_loss: 0.7755 - val_accuracy: 0.1883 - val_f1_m: 0.6466\n",
      "Epoch 31/40\n",
      "167/167 [==============================] - 24s 142ms/step - loss: 0.7769 - accuracy: 0.2122 - f1_m: 0.7143 - val_loss: 0.7714 - val_accuracy: 0.1918 - val_f1_m: 0.6519\n",
      "Epoch 32/40\n",
      "167/167 [==============================] - 24s 143ms/step - loss: 0.7659 - accuracy: 0.2227 - f1_m: 0.7314 - val_loss: 0.7655 - val_accuracy: 0.2080 - val_f1_m: 0.6537\n",
      "Epoch 33/40\n",
      "167/167 [==============================] - 24s 142ms/step - loss: 0.7543 - accuracy: 0.2224 - f1_m: 0.7301 - val_loss: 0.7609 - val_accuracy: 0.2062 - val_f1_m: 0.6577\n",
      "Epoch 34/40\n",
      "167/167 [==============================] - 24s 143ms/step - loss: 0.7549 - accuracy: 0.2227 - f1_m: 0.7338 - val_loss: 0.7569 - val_accuracy: 0.1983 - val_f1_m: 0.6704\n",
      "Epoch 35/40\n",
      "167/167 [==============================] - 104s 623ms/step - loss: 0.7554 - accuracy: 0.2175 - f1_m: 0.7439 - val_loss: 0.7519 - val_accuracy: 0.2040 - val_f1_m: 0.6768\n",
      "Epoch 36/40\n",
      "167/167 [==============================] - 1549s 9s/step - loss: 0.7455 - accuracy: 0.2286 - f1_m: 0.7457 - val_loss: 0.7493 - val_accuracy: 0.2023 - val_f1_m: 0.6871\n",
      "Epoch 37/40\n",
      "167/167 [==============================] - 27s 160ms/step - loss: 0.7372 - accuracy: 0.2318 - f1_m: 0.7583 - val_loss: 0.7440 - val_accuracy: 0.2329 - val_f1_m: 0.6904\n",
      "Epoch 38/40\n",
      "167/167 [==============================] - 23s 135ms/step - loss: 0.7313 - accuracy: 0.3096 - f1_m: 0.7566 - val_loss: 0.7445 - val_accuracy: 0.3310 - val_f1_m: 0.6971\n",
      "Epoch 39/40\n",
      "167/167 [==============================] - 23s 137ms/step - loss: 0.7284 - accuracy: 0.3166 - f1_m: 0.7654 - val_loss: 0.7425 - val_accuracy: 0.3520 - val_f1_m: 0.7006\n",
      "Epoch 40/40\n",
      "167/167 [==============================] - 23s 137ms/step - loss: 0.7280 - accuracy: 0.3447 - f1_m: 0.7747 - val_loss: 0.7402 - val_accuracy: 0.3533 - val_f1_m: 0.7016\n",
      "0:43:38.681270\n"
     ]
    }
   ],
   "source": [
    "# Fit the model; obtain the model fit time\n",
    "start=datetime.now()\n",
    "history3 = model3.fit(X_train,Y_train,\n",
    "                    batch_size=32,\n",
    "                    epochs=40,\n",
    "                    validation_split=0.3\n",
    ")\n",
    "end=datetime.now()\n",
    "print(end-start)"
   ]
  },
  {
   "cell_type": "code",
   "execution_count": 83,
   "metadata": {},
   "outputs": [
    {
     "name": "stdout",
     "output_type": "stream",
     "text": [
      "Best Train Accuracy: \n"
     ]
    },
    {
     "data": {
      "text/plain": [
       "0.3447"
      ]
     },
     "execution_count": 83,
     "metadata": {},
     "output_type": "execute_result"
    }
   ],
   "source": [
    "print ('Best Train Accuracy: ')\n",
    "best_model_train_accuracy = np.round(history3.history['accuracy'][np.argmin(history3.history['loss'])],4)\n",
    "best_model_train_accuracy"
   ]
  },
  {
   "cell_type": "code",
   "execution_count": 84,
   "metadata": {},
   "outputs": [
    {
     "name": "stdout",
     "output_type": "stream",
     "text": [
      "Best Validation Accuracy: \n"
     ]
    },
    {
     "data": {
      "text/plain": [
       "0.3533"
      ]
     },
     "execution_count": 84,
     "metadata": {},
     "output_type": "execute_result"
    }
   ],
   "source": [
    "print ('Best Validation Accuracy: ')\n",
    "best_model_val_accuracy = np.round(history3.history['val_accuracy'][np.argmin(history3.history['val_loss'])],4)\n",
    "best_model_val_accuracy"
   ]
  },
  {
   "cell_type": "code",
   "execution_count": 85,
   "metadata": {},
   "outputs": [
    {
     "name": "stdout",
     "output_type": "stream",
     "text": [
      "Best Train f1: 0.7747\n",
      "Best val f1: 0.7016\n"
     ]
    }
   ],
   "source": [
    "best_model_train_f1 = max(np.round(history3.history['f1_m'],4))\n",
    "print ('Best Train f1: {}'.format(best_model_train_f1))\n",
    "\n",
    "best_model_val_f1 = max(np.round(history3.history['val_f1_m'],4))\n",
    "print ('Best val f1: {}'.format(best_model_val_f1))"
   ]
  },
  {
   "cell_type": "code",
   "execution_count": 86,
   "metadata": {},
   "outputs": [
    {
     "data": {
      "image/png": "[encoded data removed]",
      "text/plain": [
       "<Figure size 720x576 with 1 Axes>"
      ]
     },
     "metadata": {
      "needs_background": "light"
     },
     "output_type": "display_data"
    }
   ],
   "source": [
    "# Plot the learning curve\n",
    "pd.DataFrame(history3.history).plot(figsize=(10, 8))\n",
    "plt.grid(True)\n",
    "plt.gca().set_ylim(0, 1) # set the vertical range to [0-1]\n",
    "plt.title('Learning curve - factor1: 400K, factor2: GloVe.6B.50d, factor3: GRU, factor4: 0.1')\n",
    "plt.show()"
   ]
  },
  {
   "cell_type": "markdown",
   "metadata": {},
   "source": [
    "# model 3 predictions (1=disaster tweet)"
   ]
  },
  {
   "cell_type": "code",
   "execution_count": 87,
   "metadata": {},
   "outputs": [
    {
     "data": {
      "text/plain": [
       "array([2, 0, 0, ..., 0, 3, 2])"
      ]
     },
     "execution_count": 87,
     "metadata": {},
     "output_type": "execute_result"
    }
   ],
   "source": [
    "predict3 = model3.predict_classes(X_test)\n",
    "predict3"
   ]
  },
  {
   "cell_type": "code",
   "execution_count": 88,
   "metadata": {},
   "outputs": [
    {
     "data": {
      "text/plain": [
       "3263"
      ]
     },
     "execution_count": 88,
     "metadata": {},
     "output_type": "execute_result"
    }
   ],
   "source": [
    "len(predict3)"
   ]
  },
  {
   "cell_type": "code",
   "execution_count": 89,
   "metadata": {},
   "outputs": [],
   "source": [
    "# save the results to a csv\n",
    "submission_df = pd.DataFrame({'id':test_tweets['id'],'target':np.squeeze(predict3)})\n",
    "submission_df.to_csv('submission_rnn_3.csv',index=False)"
   ]
  },
  {
   "cell_type": "code",
   "execution_count": 90,
   "metadata": {},
   "outputs": [
    {
     "data": {
      "text/html": [
       "<div>\n",
       "<style scoped>\n",
       "    .dataframe tbody tr th:only-of-type {\n",
       "        vertical-align: middle;\n",
       "    }\n",
       "\n",
       "    .dataframe tbody tr th {\n",
       "        vertical-align: top;\n",
       "    }\n",
       "\n",
       "    .dataframe thead th {\n",
       "        text-align: right;\n",
       "    }\n",
       "</style>\n",
       "<table border=\"1\" class=\"dataframe\">\n",
       "  <thead>\n",
       "    <tr style=\"text-align: right;\">\n",
       "      <th></th>\n",
       "      <th>Model_name</th>\n",
       "      <th>vocabulary size (factor1)</th>\n",
       "      <th>pre-trained vector (factor2)</th>\n",
       "      <th>RNN structure (factor3)</th>\n",
       "      <th>hyperparameter recurrent_dropout (factor4)</th>\n",
       "      <th>Processing Time</th>\n",
       "      <th>Training Set Accuracy</th>\n",
       "      <th>Validation Set Accuracy</th>\n",
       "      <th>train f1</th>\n",
       "      <th>validation f1</th>\n",
       "      <th>Test Set F1-score (Kaggle score)</th>\n",
       "    </tr>\n",
       "  </thead>\n",
       "  <tbody>\n",
       "    <tr>\n",
       "      <th>0</th>\n",
       "      <td>RNN #1</td>\n",
       "      <td>400K</td>\n",
       "      <td>GloVe.6B.50d</td>\n",
       "      <td>LSTM layer based</td>\n",
       "      <td>0.1</td>\n",
       "      <td>00:14:13.500154</td>\n",
       "      <td>0.3019</td>\n",
       "      <td>0.3586</td>\n",
       "      <td>0.7372</td>\n",
       "      <td>0.6869</td>\n",
       "      <td>0.78087</td>\n",
       "    </tr>\n",
       "    <tr>\n",
       "      <th>1</th>\n",
       "      <td>RNN #2</td>\n",
       "      <td>400K</td>\n",
       "      <td>GloVe.6B.50d</td>\n",
       "      <td>LSTM layer based</td>\n",
       "      <td>0.3</td>\n",
       "      <td>00:13:52.784631</td>\n",
       "      <td>0.7703</td>\n",
       "      <td>0.7754</td>\n",
       "      <td>0.7116</td>\n",
       "      <td>0.6222</td>\n",
       "      <td>0.78026</td>\n",
       "    </tr>\n",
       "    <tr>\n",
       "      <th>2</th>\n",
       "      <td>RNN #3</td>\n",
       "      <td>400K</td>\n",
       "      <td>GloVe.6B.50d</td>\n",
       "      <td>GRU layer based</td>\n",
       "      <td>0.1</td>\n",
       "      <td>00:43:38.681270</td>\n",
       "      <td>0.3447</td>\n",
       "      <td>0.3533</td>\n",
       "      <td>0.7747</td>\n",
       "      <td>0.7016</td>\n",
       "      <td>0.78302</td>\n",
       "    </tr>\n",
       "  </tbody>\n",
       "</table>\n",
       "</div>"
      ],
      "text/plain": [
       "  Model_name vocabulary size (factor1) pre-trained vector (factor2)  \\\n",
       "0     RNN #1                      400K                 GloVe.6B.50d   \n",
       "1     RNN #2                      400K                 GloVe.6B.50d   \n",
       "2     RNN #3                      400K                 GloVe.6B.50d   \n",
       "\n",
       "  RNN structure (factor3) hyperparameter recurrent_dropout (factor4)  \\\n",
       "0        LSTM layer based                                        0.1   \n",
       "1        LSTM layer based                                        0.3   \n",
       "2         GRU layer based                                        0.1   \n",
       "\n",
       "  Processing Time  Training Set Accuracy  Validation Set Accuracy  train f1  \\\n",
       "0 00:14:13.500154                 0.3019                   0.3586    0.7372   \n",
       "1 00:13:52.784631                 0.7703                   0.7754    0.7116   \n",
       "2 00:43:38.681270                 0.3447                   0.3533    0.7747   \n",
       "\n",
       "   validation f1 Test Set F1-score (Kaggle score)  \n",
       "0         0.6869                          0.78087  \n",
       "1         0.6222                          0.78026  \n",
       "2         0.7016                          0.78302  "
      ]
     },
     "execution_count": 90,
     "metadata": {},
     "output_type": "execute_result"
    }
   ],
   "source": [
    "#Store the accuracy and kaggle score for this model \n",
    "results_tbl = results_tbl.append({'Model_name':'RNN #3', \n",
    "                                   'vocabulary size (factor1)':'400K',\n",
    "                                   'pre-trained vector (factor2)':'GloVe.6B.200d',\n",
    "                                   'RNN structure (factor3)':'GRU layer based',\n",
    "                                   'hyperparameter recurrent_dropout (factor4)': '0.1',\n",
    "                                   'Processing Time':(end-start),\n",
    "                                   'Training Set Accuracy':best_model_train_accuracy,\n",
    "                                   'Validation Set Accuracy':best_model_val_accuracy,\n",
    "                                   'train f1':best_model_train_f1,\n",
    "                                   'validation f1':best_model_val_f1,\n",
    "                                   'Test Set F1-score (Kaggle score)': ''\n",
    "                                   },ignore_index=True)\n",
    "results_tbl\n"
   ]
  },
  {
   "cell_type": "markdown",
   "metadata": {},
   "source": [
    "# Fit RNN 4\n",
    "# vocabulary size (factor 1): 400K\n",
    "# pre-trained vector (factor 2): GloVe.6B.200d\n",
    "# rnn structure (factor 3): GRU based structure\n",
    "# recurrent dropout (factor 4): 0.1"
   ]
  },
  {
   "cell_type": "code",
   "execution_count": 91,
   "metadata": {},
   "outputs": [],
   "source": [
    "model4 = keras.models.Sequential([\n",
    "    keras.layers.Embedding(len(word2index)+1, \n",
    "                           dims, \n",
    "                           weights=[embedding_matrix],\n",
    "                           input_length=maxlen,\n",
    "                           trainable=False),\n",
    "    keras.layers.GRU(units=128 , return_sequences = True),\n",
    "    keras.layers.GRU(units=64 , recurrent_dropout = 0.1),\n",
    "    keras.layers.Dense(22, activation='tanh'),\n",
    "    keras.layers.Dense(4, activation='tanh')\n",
    "])"
   ]
  },
  {
   "cell_type": "code",
   "execution_count": 92,
   "metadata": {},
   "outputs": [
    {
     "name": "stdout",
     "output_type": "stream",
     "text": [
      "Model: \"sequential_7\"\n",
      "_________________________________________________________________\n",
      "Layer (type)                 Output Shape              Param #   \n",
      "=================================================================\n",
      "embedding_7 (Embedding)      (None, 31, 200)           2451400   \n",
      "_________________________________________________________________\n",
      "gru_2 (GRU)                  (None, 31, 128)           126720    \n",
      "_________________________________________________________________\n",
      "gru_3 (GRU)                  (None, 64)                37248     \n",
      "_________________________________________________________________\n",
      "dense_14 (Dense)             (None, 22)                1430      \n",
      "_________________________________________________________________\n",
      "dense_15 (Dense)             (None, 4)                 92        \n",
      "=================================================================\n",
      "Total params: 2,616,890\n",
      "Trainable params: 165,490\n",
      "Non-trainable params: 2,451,400\n",
      "_________________________________________________________________\n"
     ]
    }
   ],
   "source": [
    "model4.summary()"
   ]
  },
  {
   "cell_type": "code",
   "execution_count": 93,
   "metadata": {},
   "outputs": [],
   "source": [
    "opt=Adam(learning_rate=1e-5)\n",
    "model4.compile(\n",
    "  loss='binary_crossentropy',\n",
    "  optimizer=opt,\n",
    "  metrics=['accuracy', f1_m],\n",
    ")"
   ]
  },
  {
   "cell_type": "code",
   "execution_count": 94,
   "metadata": {},
   "outputs": [
    {
     "name": "stdout",
     "output_type": "stream",
     "text": [
      "Epoch 1/40\n",
      "167/167 [==============================] - 12s 75ms/step - loss: 1.7254 - accuracy: 0.3218 - f1_m: 0.4054 - val_loss: 1.2994 - val_accuracy: 0.3227 - val_f1_m: 0.4045\n",
      "Epoch 2/40\n",
      "167/167 [==============================] - 12s 73ms/step - loss: 1.2865 - accuracy: 0.3443 - f1_m: 0.5196 - val_loss: 1.1123 - val_accuracy: 0.3870 - val_f1_m: 0.5420\n",
      "Epoch 3/40\n",
      "167/167 [==============================] - 12s 73ms/step - loss: 1.1078 - accuracy: 0.3755 - f1_m: 0.5977 - val_loss: 1.0096 - val_accuracy: 0.3616 - val_f1_m: 0.5609\n",
      "Epoch 4/40\n",
      "167/167 [==============================] - 12s 73ms/step - loss: 1.0210 - accuracy: 0.3466 - f1_m: 0.6151 - val_loss: 0.9376 - val_accuracy: 0.3323 - val_f1_m: 0.5879\n",
      "Epoch 5/40\n",
      "167/167 [==============================] - 12s 72ms/step - loss: 0.9469 - accuracy: 0.3323 - f1_m: 0.6444 - val_loss: 0.8866 - val_accuracy: 0.3021 - val_f1_m: 0.6106\n",
      "Epoch 6/40\n",
      "167/167 [==============================] - 12s 73ms/step - loss: 0.9010 - accuracy: 0.3179 - f1_m: 0.6607 - val_loss: 0.8467 - val_accuracy: 0.3231 - val_f1_m: 0.6353\n",
      "Epoch 7/40\n",
      "167/167 [==============================] - 13s 76ms/step - loss: 0.8606 - accuracy: 0.3265 - f1_m: 0.6913 - val_loss: 0.8237 - val_accuracy: 0.3139 - val_f1_m: 0.6540\n",
      "Epoch 8/40\n",
      "167/167 [==============================] - 13s 75ms/step - loss: 0.8389 - accuracy: 0.3136 - f1_m: 0.7038 - val_loss: 0.8066 - val_accuracy: 0.3113 - val_f1_m: 0.6726\n",
      "Epoch 9/40\n",
      "167/167 [==============================] - 12s 75ms/step - loss: 0.8170 - accuracy: 0.3109 - f1_m: 0.7248 - val_loss: 0.7975 - val_accuracy: 0.3065 - val_f1_m: 0.6959\n",
      "Epoch 10/40\n",
      "167/167 [==============================] - 12s 75ms/step - loss: 0.8010 - accuracy: 0.3229 - f1_m: 0.7365 - val_loss: 0.7892 - val_accuracy: 0.3069 - val_f1_m: 0.7051\n",
      "Epoch 11/40\n",
      "167/167 [==============================] - 12s 74ms/step - loss: 0.7910 - accuracy: 0.2775 - f1_m: 0.7501 - val_loss: 0.7718 - val_accuracy: 0.2487 - val_f1_m: 0.7200\n",
      "Epoch 12/40\n",
      "167/167 [==============================] - 12s 73ms/step - loss: 0.7850 - accuracy: 0.2556 - f1_m: 0.7565 - val_loss: 0.7684 - val_accuracy: 0.2491 - val_f1_m: 0.7227\n",
      "Epoch 13/40\n",
      "167/167 [==============================] - 12s 74ms/step - loss: 0.7816 - accuracy: 0.2582 - f1_m: 0.7687 - val_loss: 0.7637 - val_accuracy: 0.2487 - val_f1_m: 0.7244\n",
      "Epoch 14/40\n",
      "167/167 [==============================] - 12s 74ms/step - loss: 0.7694 - accuracy: 0.2560 - f1_m: 0.7736 - val_loss: 0.7535 - val_accuracy: 0.2491 - val_f1_m: 0.7373\n",
      "Epoch 15/40\n",
      "167/167 [==============================] - 12s 74ms/step - loss: 0.7666 - accuracy: 0.2623 - f1_m: 0.7812 - val_loss: 0.7505 - val_accuracy: 0.2509 - val_f1_m: 0.7397\n",
      "Epoch 16/40\n",
      "167/167 [==============================] - 12s 74ms/step - loss: 0.7628 - accuracy: 0.2605 - f1_m: 0.7855 - val_loss: 0.7487 - val_accuracy: 0.2434 - val_f1_m: 0.7432\n",
      "Epoch 17/40\n",
      "167/167 [==============================] - 12s 74ms/step - loss: 0.7588 - accuracy: 0.2552 - f1_m: 0.7895 - val_loss: 0.7466 - val_accuracy: 0.2408 - val_f1_m: 0.7477\n",
      "Epoch 18/40\n",
      "167/167 [==============================] - 12s 74ms/step - loss: 0.7565 - accuracy: 0.2477 - f1_m: 0.7892 - val_loss: 0.7398 - val_accuracy: 0.2391 - val_f1_m: 0.7537\n",
      "Epoch 19/40\n",
      "167/167 [==============================] - 12s 73ms/step - loss: 0.7554 - accuracy: 0.2265 - f1_m: 0.7972 - val_loss: 0.7366 - val_accuracy: 0.2067 - val_f1_m: 0.7498\n",
      "Epoch 20/40\n",
      "167/167 [==============================] - 12s 74ms/step - loss: 0.7511 - accuracy: 0.2282 - f1_m: 0.8009 - val_loss: 0.7313 - val_accuracy: 0.2404 - val_f1_m: 0.7552\n",
      "Epoch 21/40\n",
      "167/167 [==============================] - 12s 74ms/step - loss: 0.7465 - accuracy: 0.2535 - f1_m: 0.8000 - val_loss: 0.7271 - val_accuracy: 0.2360 - val_f1_m: 0.7607\n",
      "Epoch 22/40\n",
      "167/167 [==============================] - 12s 73ms/step - loss: 0.7444 - accuracy: 0.2486 - f1_m: 0.8063 - val_loss: 0.7244 - val_accuracy: 0.2307 - val_f1_m: 0.7625\n",
      "Epoch 23/40\n",
      "167/167 [==============================] - 12s 73ms/step - loss: 0.7406 - accuracy: 0.2460 - f1_m: 0.8147 - val_loss: 0.7222 - val_accuracy: 0.2465 - val_f1_m: 0.7635\n",
      "Epoch 24/40\n",
      "167/167 [==============================] - 12s 72ms/step - loss: 0.7378 - accuracy: 0.2468 - f1_m: 0.8176 - val_loss: 0.7195 - val_accuracy: 0.2303 - val_f1_m: 0.7671\n",
      "Epoch 25/40\n",
      "167/167 [==============================] - 12s 74ms/step - loss: 0.7288 - accuracy: 0.2522 - f1_m: 0.8215 - val_loss: 0.7125 - val_accuracy: 0.2553 - val_f1_m: 0.7819\n",
      "Epoch 26/40\n",
      "167/167 [==============================] - 12s 74ms/step - loss: 0.7201 - accuracy: 0.2837 - f1_m: 0.8246 - val_loss: 0.7089 - val_accuracy: 0.2732 - val_f1_m: 0.7830\n",
      "Epoch 27/40\n",
      "167/167 [==============================] - 12s 73ms/step - loss: 0.7153 - accuracy: 0.2824 - f1_m: 0.8295 - val_loss: 0.6989 - val_accuracy: 0.2999 - val_f1_m: 0.7884\n",
      "Epoch 28/40\n",
      "167/167 [==============================] - 12s 73ms/step - loss: 0.7114 - accuracy: 0.3087 - f1_m: 0.8369 - val_loss: 0.6953 - val_accuracy: 0.2907 - val_f1_m: 0.7915\n",
      "Epoch 29/40\n",
      "167/167 [==============================] - 12s 73ms/step - loss: 0.7089 - accuracy: 0.2794 - f1_m: 0.8500 - val_loss: 0.6935 - val_accuracy: 0.2666 - val_f1_m: 0.7903\n",
      "Epoch 30/40\n",
      "167/167 [==============================] - 14s 82ms/step - loss: 0.7058 - accuracy: 0.2698 - f1_m: 0.8492 - val_loss: 0.6917 - val_accuracy: 0.2579 - val_f1_m: 0.7961\n",
      "Epoch 31/40\n",
      "167/167 [==============================] - 13s 80ms/step - loss: 0.7032 - accuracy: 0.2640 - f1_m: 0.8568 - val_loss: 0.6918 - val_accuracy: 0.2325 - val_f1_m: 0.7982\n",
      "Epoch 32/40\n",
      "167/167 [==============================] - 12s 75ms/step - loss: 0.6993 - accuracy: 0.2530 - f1_m: 0.8632 - val_loss: 0.6831 - val_accuracy: 0.2408 - val_f1_m: 0.7998\n",
      "Epoch 33/40\n",
      "167/167 [==============================] - 12s 75ms/step - loss: 0.6957 - accuracy: 0.2511 - f1_m: 0.8718 - val_loss: 0.6806 - val_accuracy: 0.2351 - val_f1_m: 0.8062\n",
      "Epoch 34/40\n",
      "167/167 [==============================] - 12s 74ms/step - loss: 0.6916 - accuracy: 0.2509 - f1_m: 0.8751 - val_loss: 0.6762 - val_accuracy: 0.2408 - val_f1_m: 0.8129\n",
      "Epoch 35/40\n",
      "167/167 [==============================] - 12s 74ms/step - loss: 0.6870 - accuracy: 0.2575 - f1_m: 0.8882 - val_loss: 0.6700 - val_accuracy: 0.2623 - val_f1_m: 0.8197\n",
      "Epoch 36/40\n",
      "167/167 [==============================] - 12s 74ms/step - loss: 0.6848 - accuracy: 0.2614 - f1_m: 0.8944 - val_loss: 0.6667 - val_accuracy: 0.2496 - val_f1_m: 0.8255\n",
      "Epoch 37/40\n",
      "167/167 [==============================] - 12s 72ms/step - loss: 0.6782 - accuracy: 0.2558 - f1_m: 0.9009 - val_loss: 0.6614 - val_accuracy: 0.2439 - val_f1_m: 0.8310\n",
      "Epoch 38/40\n",
      "167/167 [==============================] - 12s 72ms/step - loss: 0.6708 - accuracy: 0.2905 - f1_m: 0.9076 - val_loss: 0.6553 - val_accuracy: 0.3135 - val_f1_m: 0.8404\n",
      "Epoch 39/40\n",
      "167/167 [==============================] - 12s 74ms/step - loss: 0.6676 - accuracy: 0.2847 - f1_m: 0.9132 - val_loss: 0.6510 - val_accuracy: 0.2907 - val_f1_m: 0.8444\n",
      "Epoch 40/40\n",
      "167/167 [==============================] - 12s 73ms/step - loss: 0.6624 - accuracy: 0.2804 - f1_m: 0.9279 - val_loss: 0.6458 - val_accuracy: 0.2728 - val_f1_m: 0.8533\n",
      "0:08:21.524334\n"
     ]
    }
   ],
   "source": [
    "# Fit the model; obtain the model fit time\n",
    "start=datetime.now()\n",
    "history4 = model4.fit(X_train,Y_train,\n",
    "                    batch_size=32,\n",
    "                    epochs=40,\n",
    "                    validation_split=0.3\n",
    ")\n",
    "end=datetime.now()\n",
    "print(end-start)"
   ]
  },
  {
   "cell_type": "code",
   "execution_count": 95,
   "metadata": {},
   "outputs": [
    {
     "name": "stdout",
     "output_type": "stream",
     "text": [
      "Best Train Accuracy: \n"
     ]
    },
    {
     "data": {
      "text/plain": [
       "0.2804"
      ]
     },
     "execution_count": 95,
     "metadata": {},
     "output_type": "execute_result"
    }
   ],
   "source": [
    "print ('Best Train Accuracy: ')\n",
    "best_model_train_accuracy = np.round(history4.history['accuracy'][np.argmin(history4.history['loss'])],4)\n",
    "best_model_train_accuracy"
   ]
  },
  {
   "cell_type": "code",
   "execution_count": 96,
   "metadata": {},
   "outputs": [
    {
     "name": "stdout",
     "output_type": "stream",
     "text": [
      "Best Validation Accuracy: \n"
     ]
    },
    {
     "data": {
      "text/plain": [
       "0.2728"
      ]
     },
     "execution_count": 96,
     "metadata": {},
     "output_type": "execute_result"
    }
   ],
   "source": [
    "print ('Best Validation Accuracy: ')\n",
    "best_model_val_accuracy = np.round(history4.history['val_accuracy'][np.argmin(history4.history['val_loss'])],4)\n",
    "best_model_val_accuracy"
   ]
  },
  {
   "cell_type": "code",
   "execution_count": 97,
   "metadata": {},
   "outputs": [
    {
     "name": "stdout",
     "output_type": "stream",
     "text": [
      "Best Train f1: 0.9279\n",
      "Best val f1: 0.8533\n"
     ]
    }
   ],
   "source": [
    "best_model_train_f1 = max(np.round(history4.history['f1_m'],4))\n",
    "print ('Best Train f1: {}'.format(best_model_train_f1))\n",
    "\n",
    "best_model_val_f1 = max(np.round(history4.history['val_f1_m'],4))\n",
    "print ('Best val f1: {}'.format(best_model_val_f1))"
   ]
  },
  {
   "cell_type": "code",
   "execution_count": 98,
   "metadata": {},
   "outputs": [
    {
     "data": {
      "image/png": "[encoded data removed]",
      "text/plain": [
       "<Figure size 720x576 with 1 Axes>"
      ]
     },
     "metadata": {
      "needs_background": "light"
     },
     "output_type": "display_data"
    }
   ],
   "source": [
    "# Plot the learning curve\n",
    "pd.DataFrame(history4.history).plot(figsize=(10, 8))\n",
    "plt.grid(True)\n",
    "plt.gca().set_ylim(0, 1) # set the vertical range to [0-1]\n",
    "plt.title('Learning curve - factor1: 400K, factor2: GloVe.6B.50d, factor3: GRU, factor4: 0.3')\n",
    "plt.show()\n"
   ]
  },
  {
   "cell_type": "markdown",
   "metadata": {},
   "source": [
    "# model 4 predictions (1=disaster tweet)"
   ]
  },
  {
   "cell_type": "code",
   "execution_count": 99,
   "metadata": {},
   "outputs": [
    {
     "data": {
      "text/plain": [
       "array([1, 0, 2, ..., 0, 0, 0])"
      ]
     },
     "execution_count": 99,
     "metadata": {},
     "output_type": "execute_result"
    }
   ],
   "source": [
    "predict4 = model4.predict_classes(X_test)\n",
    "predict4\n"
   ]
  },
  {
   "cell_type": "code",
   "execution_count": 100,
   "metadata": {},
   "outputs": [],
   "source": [
    "# save the results to a csv\n",
    "submission_df = pd.DataFrame({'id':test_tweets['id'],'target':np.squeeze(predict4)})\n",
    "submission_df.to_csv('submission_rnn_4.csv',index=False)\n"
   ]
  },
  {
   "cell_type": "code",
   "execution_count": 101,
   "metadata": {},
   "outputs": [
    {
     "data": {
      "text/html": [
       "<div>\n",
       "<style scoped>\n",
       "    .dataframe tbody tr th:only-of-type {\n",
       "        vertical-align: middle;\n",
       "    }\n",
       "\n",
       "    .dataframe tbody tr th {\n",
       "        vertical-align: top;\n",
       "    }\n",
       "\n",
       "    .dataframe thead th {\n",
       "        text-align: right;\n",
       "    }\n",
       "</style>\n",
       "<table border=\"1\" class=\"dataframe\">\n",
       "  <thead>\n",
       "    <tr style=\"text-align: right;\">\n",
       "      <th></th>\n",
       "      <th>Model_name</th>\n",
       "      <th>vocabulary size (factor1)</th>\n",
       "      <th>pre-trained vector (factor2)</th>\n",
       "      <th>RNN structure (factor3)</th>\n",
       "      <th>hyperparameter recurrent_dropout (factor4)</th>\n",
       "      <th>Processing Time</th>\n",
       "      <th>Training Set Accuracy</th>\n",
       "      <th>Validation Set Accuracy</th>\n",
       "      <th>train f1</th>\n",
       "      <th>validation f1</th>\n",
       "      <th>Test Set F1-score (Kaggle score)</th>\n",
       "    </tr>\n",
       "  </thead>\n",
       "  <tbody>\n",
       "    <tr>\n",
       "      <th>0</th>\n",
       "      <td>RNN #1</td>\n",
       "      <td>400K</td>\n",
       "      <td>GloVe.6B.50d</td>\n",
       "      <td>LSTM layer based</td>\n",
       "      <td>0.1</td>\n",
       "      <td>00:14:13.500154</td>\n",
       "      <td>0.3019</td>\n",
       "      <td>0.3586</td>\n",
       "      <td>0.7372</td>\n",
       "      <td>0.6869</td>\n",
       "      <td>0.78087</td>\n",
       "    </tr>\n",
       "    <tr>\n",
       "      <th>1</th>\n",
       "      <td>RNN #2</td>\n",
       "      <td>400K</td>\n",
       "      <td>GloVe.6B.50d</td>\n",
       "      <td>LSTM layer based</td>\n",
       "      <td>0.3</td>\n",
       "      <td>00:13:52.784631</td>\n",
       "      <td>0.7703</td>\n",
       "      <td>0.7754</td>\n",
       "      <td>0.7116</td>\n",
       "      <td>0.6222</td>\n",
       "      <td>0.78026</td>\n",
       "    </tr>\n",
       "    <tr>\n",
       "      <th>2</th>\n",
       "      <td>RNN #3</td>\n",
       "      <td>400K</td>\n",
       "      <td>GloVe.6B.50d</td>\n",
       "      <td>GRU layer based</td>\n",
       "      <td>0.1</td>\n",
       "      <td>00:43:38.681270</td>\n",
       "      <td>0.3447</td>\n",
       "      <td>0.3533</td>\n",
       "      <td>0.7747</td>\n",
       "      <td>0.7016</td>\n",
       "      <td>0.78302</td>\n",
       "    </tr>\n",
       "    <tr>\n",
       "      <th>3</th>\n",
       "      <td>RNN #4</td>\n",
       "      <td>400K</td>\n",
       "      <td>GloVe.6B.50d</td>\n",
       "      <td>GRU layer based</td>\n",
       "      <td>0.3</td>\n",
       "      <td>00:08:21.524334</td>\n",
       "      <td>0.2804</td>\n",
       "      <td>0.2728</td>\n",
       "      <td>0.9279</td>\n",
       "      <td>0.8533</td>\n",
       "      <td>0.77873</td>\n",
       "    </tr>\n",
       "  </tbody>\n",
       "</table>\n",
       "</div>"
      ],
      "text/plain": [
       "  Model_name vocabulary size (factor1) pre-trained vector (factor2)  \\\n",
       "0     RNN #1                      400K                 GloVe.6B.50d   \n",
       "1     RNN #2                      400K                 GloVe.6B.50d   \n",
       "2     RNN #3                      400K                 GloVe.6B.50d   \n",
       "3     RNN #4                      400K                 GloVe.6B.50d   \n",
       "\n",
       "  RNN structure (factor3) hyperparameter recurrent_dropout (factor4)  \\\n",
       "0        LSTM layer based                                        0.1   \n",
       "1        LSTM layer based                                        0.3   \n",
       "2         GRU layer based                                        0.1   \n",
       "3         GRU layer based                                        0.3   \n",
       "\n",
       "  Processing Time  Training Set Accuracy  Validation Set Accuracy  train f1  \\\n",
       "0 00:14:13.500154                 0.3019                   0.3586    0.7372   \n",
       "1 00:13:52.784631                 0.7703                   0.7754    0.7116   \n",
       "2 00:43:38.681270                 0.3447                   0.3533    0.7747   \n",
       "3 00:08:21.524334                 0.2804                   0.2728    0.9279   \n",
       "\n",
       "   validation f1 Test Set F1-score (Kaggle score)  \n",
       "0         0.6869                          0.78087  \n",
       "1         0.6222                          0.78026  \n",
       "2         0.7016                          0.78302  \n",
       "3         0.8533                          0.77873  "
      ]
     },
     "execution_count": 101,
     "metadata": {},
     "output_type": "execute_result"
    }
   ],
   "source": [
    "\n",
    "#Store the accuracy and kaggle score for this model \n",
    "results_tbl = results_tbl.append({'Model_name':'RNN #4', \n",
    "                                   'vocabulary size (factor1)':'400K',\n",
    "                                   'pre-trained vector (factor2)':'GloVe.6B.50d',\n",
    "                                   'RNN structure (factor3)':'GRU layer based',\n",
    "                                   'hyperparameter recurrent_dropout (factor4)': '0.3',\n",
    "                                   'Processing Time':(end-start),\n",
    "                                   'Training Set Accuracy':best_model_train_accuracy,\n",
    "                                   'Validation Set Accuracy':best_model_val_accuracy,\n",
    "                                   'train f1':best_model_train_f1,\n",
    "                                   'validation f1':best_model_val_f1,\n",
    "                                   'Test Set F1-score (Kaggle score)': '0.24977'\n",
    "                                   },ignore_index=True)\n",
    "results_tbl"
   ]
  },
  {
   "cell_type": "markdown",
   "metadata": {},
   "source": [
    "# Fit RNN 5\n",
    "# vocabulary size (factor 1): 400K\n",
    "# pre-trained vector (factor 2): GloVe.6B.200d\n",
    "# rnn structure (factor 3): LSTM layer based structure\n",
    "# recurrent dropout (factor 4): 0.1"
   ]
  },
  {
   "cell_type": "code",
   "execution_count": 102,
   "metadata": {},
   "outputs": [],
   "source": [
    "model5 = keras.models.Sequential([\n",
    "    keras.layers.Embedding(len(word2index)+1,200,weights=[embedding_matrix],input_length=maxlen,trainable=False),\n",
    "    keras.layers.LSTM(units=128 , return_sequences = True , recurrent_dropout = 0.1 , dropout = 0.1),\n",
    "    keras.layers.LSTM(units=64 , recurrent_dropout = 0.1 , dropout = 0.1),\n",
    "    keras.layers.Dense(32, activation='tanh'),\n",
    "    keras.layers.Dense(1, activation='tanh')\n",
    "])"
   ]
  },
  {
   "cell_type": "code",
   "execution_count": 103,
   "metadata": {},
   "outputs": [
    {
     "name": "stdout",
     "output_type": "stream",
     "text": [
      "Model: \"sequential_8\"\n",
      "_________________________________________________________________\n",
      "Layer (type)                 Output Shape              Param #   \n",
      "=================================================================\n",
      "embedding_8 (Embedding)      (None, 31, 200)           2451400   \n",
      "_________________________________________________________________\n",
      "lstm_12 (LSTM)               (None, 31, 128)           168448    \n",
      "_________________________________________________________________\n",
      "lstm_13 (LSTM)               (None, 64)                49408     \n",
      "_________________________________________________________________\n",
      "dense_16 (Dense)             (None, 32)                2080      \n",
      "_________________________________________________________________\n",
      "dense_17 (Dense)             (None, 1)                 33        \n",
      "=================================================================\n",
      "Total params: 2,671,369\n",
      "Trainable params: 219,969\n",
      "Non-trainable params: 2,451,400\n",
      "_________________________________________________________________\n"
     ]
    }
   ],
   "source": [
    "model5.summary()"
   ]
  },
  {
   "cell_type": "code",
   "execution_count": 104,
   "metadata": {},
   "outputs": [],
   "source": [
    "opt=Adam(learning_rate=1e-5)\n",
    "model5.compile(\n",
    "  loss='binary_crossentropy',\n",
    "  optimizer=opt,\n",
    "  metrics=['accuracy', f1_m],\n",
    ")"
   ]
  },
  {
   "cell_type": "code",
   "execution_count": 105,
   "metadata": {},
   "outputs": [
    {
     "name": "stdout",
     "output_type": "stream",
     "text": [
      "Epoch 1/40\n",
      "215/215 [==============================] - 26s 119ms/step - loss: 1.7666 - accuracy: 0.5744 - f1_m: 0.0000e+00 - val_loss: 1.0577 - val_accuracy: 0.5341 - val_f1_m: 0.0000e+00\n",
      "Epoch 2/40\n",
      "215/215 [==============================] - 25s 115ms/step - loss: 0.8490 - accuracy: 0.5736 - f1_m: 0.0107 - val_loss: 0.8190 - val_accuracy: 0.5354 - val_f1_m: 0.0460\n",
      "Epoch 3/40\n",
      "215/215 [==============================] - 25s 117ms/step - loss: 0.7607 - accuracy: 0.5712 - f1_m: 0.0659 - val_loss: 0.7759 - val_accuracy: 0.5577 - val_f1_m: 0.1601\n",
      "Epoch 4/40\n",
      "215/215 [==============================] - 25s 116ms/step - loss: 0.7399 - accuracy: 0.5712 - f1_m: 0.1512 - val_loss: 0.7535 - val_accuracy: 0.5394 - val_f1_m: 0.2013\n",
      "Epoch 5/40\n",
      "215/215 [==============================] - 25s 115ms/step - loss: 0.7303 - accuracy: 0.5755 - f1_m: 0.2326 - val_loss: 0.7377 - val_accuracy: 0.5381 - val_f1_m: 0.2437\n",
      "Epoch 6/40\n",
      "215/215 [==============================] - 25s 114ms/step - loss: 0.7179 - accuracy: 0.5792 - f1_m: 0.2705 - val_loss: 0.7238 - val_accuracy: 0.5407 - val_f1_m: 0.2731\n",
      "Epoch 7/40\n",
      "215/215 [==============================] - 25s 115ms/step - loss: 0.6984 - accuracy: 0.5942 - f1_m: 0.3125 - val_loss: 0.7104 - val_accuracy: 0.5538 - val_f1_m: 0.3044\n",
      "Epoch 8/40\n",
      "215/215 [==============================] - 25s 115ms/step - loss: 0.6887 - accuracy: 0.6030 - f1_m: 0.3479 - val_loss: 0.6971 - val_accuracy: 0.5669 - val_f1_m: 0.3151\n",
      "Epoch 9/40\n",
      "215/215 [==============================] - 25s 117ms/step - loss: 0.6757 - accuracy: 0.6186 - f1_m: 0.3681 - val_loss: 0.6826 - val_accuracy: 0.5787 - val_f1_m: 0.3361\n",
      "Epoch 10/40\n",
      "215/215 [==============================] - 26s 123ms/step - loss: 0.6605 - accuracy: 0.6344 - f1_m: 0.3951 - val_loss: 0.6681 - val_accuracy: 0.6024 - val_f1_m: 0.3651\n",
      "Epoch 11/40\n",
      "215/215 [==============================] - 25s 115ms/step - loss: 0.6516 - accuracy: 0.6520 - f1_m: 0.4197 - val_loss: 0.6519 - val_accuracy: 0.6181 - val_f1_m: 0.3758\n",
      "Epoch 12/40\n",
      "215/215 [==============================] - 25s 115ms/step - loss: 0.6360 - accuracy: 0.6666 - f1_m: 0.4562 - val_loss: 0.6351 - val_accuracy: 0.6378 - val_f1_m: 0.3876\n",
      "Epoch 13/40\n",
      "215/215 [==============================] - 25s 115ms/step - loss: 0.6195 - accuracy: 0.6852 - f1_m: 0.4871 - val_loss: 0.6171 - val_accuracy: 0.6745 - val_f1_m: 0.4422\n",
      "Epoch 14/40\n",
      "215/215 [==============================] - 25s 116ms/step - loss: 0.6042 - accuracy: 0.6999 - f1_m: 0.5212 - val_loss: 0.5989 - val_accuracy: 0.6929 - val_f1_m: 0.4779\n",
      "Epoch 15/40\n",
      "215/215 [==============================] - 25s 116ms/step - loss: 0.5925 - accuracy: 0.7130 - f1_m: 0.5694 - val_loss: 0.5887 - val_accuracy: 0.7152 - val_f1_m: 0.5453\n",
      "Epoch 16/40\n",
      "215/215 [==============================] - 25s 114ms/step - loss: 0.5809 - accuracy: 0.7222 - f1_m: 0.6021 - val_loss: 0.5747 - val_accuracy: 0.7270 - val_f1_m: 0.5497\n",
      "Epoch 17/40\n",
      "215/215 [==============================] - 25s 115ms/step - loss: 0.5749 - accuracy: 0.7320 - f1_m: 0.6196 - val_loss: 0.5624 - val_accuracy: 0.7402 - val_f1_m: 0.5793\n",
      "Epoch 18/40\n",
      "215/215 [==============================] - 25s 115ms/step - loss: 0.5709 - accuracy: 0.7400 - f1_m: 0.6436 - val_loss: 0.5671 - val_accuracy: 0.7454 - val_f1_m: 0.5877\n",
      "Epoch 19/40\n",
      "215/215 [==============================] - 25s 118ms/step - loss: 0.5670 - accuracy: 0.7453 - f1_m: 0.6539 - val_loss: 0.5481 - val_accuracy: 0.7467 - val_f1_m: 0.6229\n",
      "Epoch 20/40\n",
      "215/215 [==============================] - 25s 116ms/step - loss: 0.5561 - accuracy: 0.7513 - f1_m: 0.6659 - val_loss: 0.5531 - val_accuracy: 0.7559 - val_f1_m: 0.6268\n",
      "Epoch 21/40\n",
      "215/215 [==============================] - 25s 116ms/step - loss: 0.5518 - accuracy: 0.7539 - f1_m: 0.6759 - val_loss: 0.5436 - val_accuracy: 0.7664 - val_f1_m: 0.6269\n",
      "Epoch 22/40\n",
      "215/215 [==============================] - 25s 115ms/step - loss: 0.5733 - accuracy: 0.7193 - f1_m: 0.6853 - val_loss: 0.5476 - val_accuracy: 0.7559 - val_f1_m: 0.6731\n",
      "Epoch 23/40\n",
      "215/215 [==============================] - 25s 117ms/step - loss: 0.5534 - accuracy: 0.7478 - f1_m: 0.6872 - val_loss: 0.5343 - val_accuracy: 0.7690 - val_f1_m: 0.6459\n",
      "Epoch 24/40\n",
      "215/215 [==============================] - 25s 116ms/step - loss: 0.5467 - accuracy: 0.7616 - f1_m: 0.6909 - val_loss: 0.5300 - val_accuracy: 0.7703 - val_f1_m: 0.6420\n",
      "Epoch 25/40\n",
      "215/215 [==============================] - 25s 117ms/step - loss: 0.5413 - accuracy: 0.7602 - f1_m: 0.6791 - val_loss: 0.5395 - val_accuracy: 0.7808 - val_f1_m: 0.6363\n",
      "Epoch 26/40\n",
      "215/215 [==============================] - 25s 116ms/step - loss: 0.5410 - accuracy: 0.7624 - f1_m: 0.6790 - val_loss: 0.5348 - val_accuracy: 0.7835 - val_f1_m: 0.6390\n",
      "Epoch 27/40\n",
      "215/215 [==============================] - 25s 117ms/step - loss: 0.5400 - accuracy: 0.7600 - f1_m: 0.6948 - val_loss: 0.5303 - val_accuracy: 0.7703 - val_f1_m: 0.6760\n",
      "Epoch 28/40\n",
      "215/215 [==============================] - 25s 118ms/step - loss: 0.5394 - accuracy: 0.7584 - f1_m: 0.6952 - val_loss: 0.5198 - val_accuracy: 0.7743 - val_f1_m: 0.6492\n",
      "Epoch 29/40\n",
      "215/215 [==============================] - 25s 117ms/step - loss: 0.5363 - accuracy: 0.7688 - f1_m: 0.6932 - val_loss: 0.5285 - val_accuracy: 0.7874 - val_f1_m: 0.6449\n",
      "Epoch 30/40\n",
      "215/215 [==============================] - 25s 117ms/step - loss: 0.5305 - accuracy: 0.7657 - f1_m: 0.6933 - val_loss: 0.5248 - val_accuracy: 0.7861 - val_f1_m: 0.6570\n",
      "Epoch 31/40\n",
      "215/215 [==============================] - 25s 117ms/step - loss: 0.5298 - accuracy: 0.7638 - f1_m: 0.6904 - val_loss: 0.5105 - val_accuracy: 0.7769 - val_f1_m: 0.6533\n",
      "Epoch 32/40\n",
      "215/215 [==============================] - 25s 115ms/step - loss: 0.5278 - accuracy: 0.7651 - f1_m: 0.6986 - val_loss: 0.5187 - val_accuracy: 0.7874 - val_f1_m: 0.6581\n",
      "Epoch 33/40\n",
      "215/215 [==============================] - 25s 117ms/step - loss: 0.5233 - accuracy: 0.7695 - f1_m: 0.6948 - val_loss: 0.5142 - val_accuracy: 0.7808 - val_f1_m: 0.6519\n",
      "Epoch 34/40\n",
      "215/215 [==============================] - 25s 117ms/step - loss: 0.5251 - accuracy: 0.7714 - f1_m: 0.6978 - val_loss: 0.5110 - val_accuracy: 0.7835 - val_f1_m: 0.6546\n",
      "Epoch 35/40\n",
      "215/215 [==============================] - 25s 118ms/step - loss: 0.5206 - accuracy: 0.7710 - f1_m: 0.7023 - val_loss: 0.5080 - val_accuracy: 0.7756 - val_f1_m: 0.6480\n",
      "Epoch 36/40\n",
      "215/215 [==============================] - 282s 1s/step - loss: 0.5181 - accuracy: 0.7742 - f1_m: 0.7055 - val_loss: 0.5046 - val_accuracy: 0.7795 - val_f1_m: 0.6479\n",
      "Epoch 37/40\n",
      "215/215 [==============================] - 25s 115ms/step - loss: 0.5137 - accuracy: 0.7758 - f1_m: 0.7018 - val_loss: 0.5020 - val_accuracy: 0.7822 - val_f1_m: 0.6592\n",
      "Epoch 38/40\n",
      "215/215 [==============================] - 24s 111ms/step - loss: 0.5083 - accuracy: 0.7742 - f1_m: 0.7051 - val_loss: 0.4978 - val_accuracy: 0.7822 - val_f1_m: 0.6575\n",
      "Epoch 39/40\n",
      "215/215 [==============================] - 25s 116ms/step - loss: 0.5102 - accuracy: 0.7717 - f1_m: 0.7113 - val_loss: 0.4979 - val_accuracy: 0.7835 - val_f1_m: 0.6686\n",
      "Epoch 40/40\n",
      "215/215 [==============================] - 26s 121ms/step - loss: 0.5109 - accuracy: 0.7783 - f1_m: 0.7110 - val_loss: 0.5060 - val_accuracy: 0.7795 - val_f1_m: 0.6380\n",
      "0:21:06.903934\n"
     ]
    }
   ],
   "source": [
    "# Fit the model; obtain the model fit time\n",
    "start=datetime.now()\n",
    "history5 = model5.fit(X_train,Y_train,\n",
    "                    batch_size=32,\n",
    "                    epochs=40,\n",
    "                    validation_split=0.1\n",
    ")\n",
    "end=datetime.now()\n",
    "print(end-start)"
   ]
  },
  {
   "cell_type": "code",
   "execution_count": 106,
   "metadata": {},
   "outputs": [
    {
     "name": "stdout",
     "output_type": "stream",
     "text": [
      "Best Train Accuracy: \n"
     ]
    },
    {
     "data": {
      "text/plain": [
       "0.7742"
      ]
     },
     "execution_count": 106,
     "metadata": {},
     "output_type": "execute_result"
    }
   ],
   "source": [
    "print ('Best Train Accuracy: ')\n",
    "best_model_train_accuracy = np.round(history5.history['accuracy'][np.argmin(history5.history['loss'])],4)\n",
    "best_model_train_accuracy"
   ]
  },
  {
   "cell_type": "code",
   "execution_count": 107,
   "metadata": {},
   "outputs": [
    {
     "name": "stdout",
     "output_type": "stream",
     "text": [
      "Best Validation Accuracy: \n"
     ]
    },
    {
     "data": {
      "text/plain": [
       "0.7822"
      ]
     },
     "execution_count": 107,
     "metadata": {},
     "output_type": "execute_result"
    }
   ],
   "source": [
    "print ('Best Validation Accuracy: ')\n",
    "best_model_val_accuracy = np.round(history5.history['val_accuracy'][np.argmin(history5.history['val_loss'])],4)\n",
    "best_model_val_accuracy"
   ]
  },
  {
   "cell_type": "code",
   "execution_count": 108,
   "metadata": {},
   "outputs": [
    {
     "name": "stdout",
     "output_type": "stream",
     "text": [
      "Best Train f1: 0.7113\n",
      "Best val f1: 0.676\n"
     ]
    }
   ],
   "source": [
    "best_model_train_f1 = max(np.round(history5.history['f1_m'],4))\n",
    "print ('Best Train f1: {}'.format(best_model_train_f1))\n",
    "\n",
    "best_model_val_f1 = max(np.round(history5.history['val_f1_m'],4))\n",
    "print ('Best val f1: {}'.format(best_model_val_f1))"
   ]
  },
  {
   "cell_type": "code",
   "execution_count": 109,
   "metadata": {},
   "outputs": [
    {
     "data": {
      "image/png": "[encoded data removed]",
      "text/plain": [
       "<Figure size 720x576 with 1 Axes>"
      ]
     },
     "metadata": {
      "needs_background": "light"
     },
     "output_type": "display_data"
    }
   ],
   "source": [
    "\n",
    "# Plot the learning curve\n",
    "pd.DataFrame(history5.history).plot(figsize=(10, 8))\n",
    "plt.grid(True)\n",
    "plt.gca().set_ylim(0, 1) # set the vertical range to [0-1]\n",
    "plt.title('Learning curve - factor1: 400K, factor2: GloVe.6B.200d, factor3: LSTM, factor4: 0.1')\n",
    "plt.show()"
   ]
  },
  {
   "cell_type": "markdown",
   "metadata": {},
   "source": [
    "# model 5 predictions (1=disaster tweet)"
   ]
  },
  {
   "cell_type": "code",
   "execution_count": 111,
   "metadata": {},
   "outputs": [
    {
     "data": {
      "text/plain": [
       "array([[1],\n",
       "       [1],\n",
       "       [1],\n",
       "       ...,\n",
       "       [0],\n",
       "       [0],\n",
       "       [0]], dtype=int32)"
      ]
     },
     "execution_count": 111,
     "metadata": {},
     "output_type": "execute_result"
    }
   ],
   "source": [
    "predict5 = model5.predict_classes(X_test)\n",
    "predict5"
   ]
  },
  {
   "cell_type": "code",
   "execution_count": 112,
   "metadata": {},
   "outputs": [
    {
     "data": {
      "text/plain": [
       "3263"
      ]
     },
     "execution_count": 112,
     "metadata": {},
     "output_type": "execute_result"
    }
   ],
   "source": [
    "len(predict5)"
   ]
  },
  {
   "cell_type": "code",
   "execution_count": 113,
   "metadata": {},
   "outputs": [],
   "source": [
    "# save the results to a csv\n",
    "submission_df = pd.DataFrame({'id':test_tweets['id'],'target':np.squeeze(predict5)})\n",
    "submission_df.to_csv('submission_rnn_5.csv',index=False)\n"
   ]
  },
  {
   "cell_type": "code",
   "execution_count": 114,
   "metadata": {},
   "outputs": [
    {
     "data": {
      "text/html": [
       "<div>\n",
       "<style scoped>\n",
       "    .dataframe tbody tr th:only-of-type {\n",
       "        vertical-align: middle;\n",
       "    }\n",
       "\n",
       "    .dataframe tbody tr th {\n",
       "        vertical-align: top;\n",
       "    }\n",
       "\n",
       "    .dataframe thead th {\n",
       "        text-align: right;\n",
       "    }\n",
       "</style>\n",
       "<table border=\"1\" class=\"dataframe\">\n",
       "  <thead>\n",
       "    <tr style=\"text-align: right;\">\n",
       "      <th></th>\n",
       "      <th>Model_name</th>\n",
       "      <th>vocabulary size (factor1)</th>\n",
       "      <th>pre-trained vector (factor2)</th>\n",
       "      <th>RNN structure (factor3)</th>\n",
       "      <th>hyperparameter recurrent_dropout (factor4)</th>\n",
       "      <th>Processing Time</th>\n",
       "      <th>Training Set Accuracy</th>\n",
       "      <th>Validation Set Accuracy</th>\n",
       "      <th>train f1</th>\n",
       "      <th>validation f1</th>\n",
       "      <th>Test Set F1-score (Kaggle score)</th>\n",
       "    </tr>\n",
       "  </thead>\n",
       "  <tbody>\n",
       "    <tr>\n",
       "      <th>0</th>\n",
       "      <td>RNN #1</td>\n",
       "      <td>400K</td>\n",
       "      <td>GloVe.6B.50d</td>\n",
       "      <td>LSTM layer based</td>\n",
       "      <td>0.1</td>\n",
       "      <td>00:14:13.500154</td>\n",
       "      <td>0.3019</td>\n",
       "      <td>0.3586</td>\n",
       "      <td>0.7372</td>\n",
       "      <td>0.6869</td>\n",
       "      <td>0.78087</td>\n",
       "    </tr>\n",
       "    <tr>\n",
       "      <th>1</th>\n",
       "      <td>RNN #2</td>\n",
       "      <td>400K</td>\n",
       "      <td>GloVe.6B.50d</td>\n",
       "      <td>LSTM layer based</td>\n",
       "      <td>0.3</td>\n",
       "      <td>00:13:52.784631</td>\n",
       "      <td>0.7703</td>\n",
       "      <td>0.7754</td>\n",
       "      <td>0.7116</td>\n",
       "      <td>0.6222</td>\n",
       "      <td>0.78026</td>\n",
       "    </tr>\n",
       "    <tr>\n",
       "      <th>2</th>\n",
       "      <td>RNN #3</td>\n",
       "      <td>400K</td>\n",
       "      <td>GloVe.6B.50d</td>\n",
       "      <td>GRU layer based</td>\n",
       "      <td>0.1</td>\n",
       "      <td>00:43:38.681270</td>\n",
       "      <td>0.3447</td>\n",
       "      <td>0.3533</td>\n",
       "      <td>0.7747</td>\n",
       "      <td>0.7016</td>\n",
       "      <td>0.78302</td>\n",
       "    </tr>\n",
       "    <tr>\n",
       "      <th>3</th>\n",
       "      <td>RNN #4</td>\n",
       "      <td>400K</td>\n",
       "      <td>GloVe.6B.50d</td>\n",
       "      <td>GRU layer based</td>\n",
       "      <td>0.3</td>\n",
       "      <td>00:08:21.524334</td>\n",
       "      <td>0.2804</td>\n",
       "      <td>0.2728</td>\n",
       "      <td>0.9279</td>\n",
       "      <td>0.8533</td>\n",
       "      <td>0.77873</td>\n",
       "    </tr>\n",
       "    <tr>\n",
       "      <th>4</th>\n",
       "      <td>RNN #5</td>\n",
       "      <td>400K</td>\n",
       "      <td>GloVe.6B.200d</td>\n",
       "      <td>LSTM layer based</td>\n",
       "      <td>0.1</td>\n",
       "      <td>00:21:06.903934</td>\n",
       "      <td>0.7742</td>\n",
       "      <td>0.7822</td>\n",
       "      <td>0.7113</td>\n",
       "      <td>0.6760</td>\n",
       "      <td>0.79313</td>\n",
       "    </tr>\n",
       "  </tbody>\n",
       "</table>\n",
       "</div>"
      ],
      "text/plain": [
       "  Model_name vocabulary size (factor1) pre-trained vector (factor2)  \\\n",
       "0     RNN #1                      400K                 GloVe.6B.50d   \n",
       "1     RNN #2                      400K                 GloVe.6B.50d   \n",
       "2     RNN #3                      400K                 GloVe.6B.50d   \n",
       "3     RNN #4                      400K                 GloVe.6B.50d   \n",
       "4     RNN #5                      400K                GloVe.6B.200d   \n",
       "\n",
       "  RNN structure (factor3) hyperparameter recurrent_dropout (factor4)  \\\n",
       "0        LSTM layer based                                        0.1   \n",
       "1        LSTM layer based                                        0.3   \n",
       "2         GRU layer based                                        0.1   \n",
       "3         GRU layer based                                        0.3   \n",
       "4        LSTM layer based                                        0.1   \n",
       "\n",
       "  Processing Time  Training Set Accuracy  Validation Set Accuracy  train f1  \\\n",
       "0 00:14:13.500154                 0.3019                   0.3586    0.7372   \n",
       "1 00:13:52.784631                 0.7703                   0.7754    0.7116   \n",
       "2 00:43:38.681270                 0.3447                   0.3533    0.7747   \n",
       "3 00:08:21.524334                 0.2804                   0.2728    0.9279   \n",
       "4 00:21:06.903934                 0.7742                   0.7822    0.7113   \n",
       "\n",
       "   validation f1 Test Set F1-score (Kaggle score)  \n",
       "0         0.6869                          0.78087  \n",
       "1         0.6222                          0.78026  \n",
       "2         0.7016                          0.78302  \n",
       "3         0.8533                          0.77873  \n",
       "4         0.6760                          0.79313  "
      ]
     },
     "execution_count": 114,
     "metadata": {},
     "output_type": "execute_result"
    }
   ],
   "source": [
    "#Store the accuracy and kaggle score for this model \n",
    "results_tbl = results_tbl.append({'Model_name':'RNN #5', \n",
    "                                   'vocabulary size (factor1)':'400K',\n",
    "                                   'pre-trained vector (factor2)':'GloVe.6B.200d',\n",
    "                                   'RNN structure (factor3)':'LSTM layer based',\n",
    "                                   'hyperparameter recurrent_dropout (factor4)': '0.1',\n",
    "                                   'Processing Time':(end-start),\n",
    "                                   'Training Set Accuracy':best_model_train_accuracy,\n",
    "                                   'Validation Set Accuracy':best_model_val_accuracy,\n",
    "                                   'train f1':best_model_train_f1,\n",
    "                                   'validation f1':best_model_val_f1,\n",
    "                                   'Test Set F1-score (Kaggle score)': ''\n",
    "                                   },ignore_index=True)\n",
    "results_tbl"
   ]
  },
  {
   "cell_type": "markdown",
   "metadata": {},
   "source": [
    "# Fit RNN 6\n",
    "# vocabulary size (factor 1): 400K\n",
    "# pre-trained vector (factor 2): GloVe.6B.200d\n",
    "# rnn structure (factor 3): LSTM layer based structure\n",
    "# recurrent dropout (factor 4): 0.3\n"
   ]
  },
  {
   "cell_type": "code",
   "execution_count": 115,
   "metadata": {},
   "outputs": [],
   "source": [
    "model6 = keras.models.Sequential([\n",
    "    keras.layers.Embedding(len(word2index)+1,\n",
    "                           dims,\n",
    "                           weights=[embedding_matrix],\n",
    "                           input_length=maxlen,\n",
    "                           trainable=False),\n",
    "    keras.layers.LSTM(units=128, return_sequences = True, recurrent_dropout = 0.3, dropout = 0.3),\n",
    "    keras.layers.LSTM(units=64, recurrent_dropout = 0.3, dropout = 0.3),\n",
    "    keras.layers.Dense(32, activation='tanh'),\n",
    "    keras.layers.Dense(1, activation='tanh')\n",
    "])"
   ]
  },
  {
   "cell_type": "code",
   "execution_count": 116,
   "metadata": {},
   "outputs": [
    {
     "name": "stdout",
     "output_type": "stream",
     "text": [
      "Model: \"sequential_9\"\n",
      "_________________________________________________________________\n",
      "Layer (type)                 Output Shape              Param #   \n",
      "=================================================================\n",
      "embedding_9 (Embedding)      (None, 31, 200)           2451400   \n",
      "_________________________________________________________________\n",
      "lstm_14 (LSTM)               (None, 31, 128)           168448    \n",
      "_________________________________________________________________\n",
      "lstm_15 (LSTM)               (None, 64)                49408     \n",
      "_________________________________________________________________\n",
      "dense_18 (Dense)             (None, 32)                2080      \n",
      "_________________________________________________________________\n",
      "dense_19 (Dense)             (None, 1)                 33        \n",
      "=================================================================\n",
      "Total params: 2,671,369\n",
      "Trainable params: 219,969\n",
      "Non-trainable params: 2,451,400\n",
      "_________________________________________________________________\n"
     ]
    }
   ],
   "source": [
    "model6.summary()"
   ]
  },
  {
   "cell_type": "code",
   "execution_count": 117,
   "metadata": {},
   "outputs": [],
   "source": [
    "opt=Adam(learning_rate=1e-5)\n",
    "model6.compile(\n",
    "  loss='binary_crossentropy',\n",
    "  optimizer=opt,\n",
    "  metrics=['accuracy', f1_m],\n",
    ")"
   ]
  },
  {
   "cell_type": "code",
   "execution_count": 118,
   "metadata": {},
   "outputs": [
    {
     "name": "stdout",
     "output_type": "stream",
     "text": [
      "Epoch 1/40\n",
      "167/167 [==============================] - 22s 134ms/step - loss: 1.7115 - accuracy: 0.5729 - f1_m: 0.0262 - val_loss: 0.9213 - val_accuracy: 0.5771 - val_f1_m: 0.1110\n",
      "Epoch 2/40\n",
      "167/167 [==============================] - 22s 131ms/step - loss: 0.9829 - accuracy: 0.5605 - f1_m: 0.1663 - val_loss: 0.8157 - val_accuracy: 0.5604 - val_f1_m: 0.3380\n",
      "Epoch 3/40\n",
      "167/167 [==============================] - 22s 131ms/step - loss: 0.8361 - accuracy: 0.5536 - f1_m: 0.2890 - val_loss: 0.7787 - val_accuracy: 0.5525 - val_f1_m: 0.3745\n",
      "Epoch 4/40\n",
      "167/167 [==============================] - 22s 131ms/step - loss: 0.7899 - accuracy: 0.5562 - f1_m: 0.3434 - val_loss: 0.7700 - val_accuracy: 0.5556 - val_f1_m: 0.3899\n",
      "Epoch 5/40\n",
      "167/167 [==============================] - 22s 131ms/step - loss: 0.8016 - accuracy: 0.5577 - f1_m: 0.3618 - val_loss: 0.7612 - val_accuracy: 0.5556 - val_f1_m: 0.4037\n",
      "Epoch 6/40\n",
      "167/167 [==============================] - 22s 130ms/step - loss: 0.7754 - accuracy: 0.5601 - f1_m: 0.3719 - val_loss: 0.7449 - val_accuracy: 0.5569 - val_f1_m: 0.4095\n",
      "Epoch 7/40\n",
      "167/167 [==============================] - 22s 131ms/step - loss: 0.7566 - accuracy: 0.5691 - f1_m: 0.3984 - val_loss: 0.7365 - val_accuracy: 0.5652 - val_f1_m: 0.4207\n",
      "Epoch 8/40\n",
      "167/167 [==============================] - 22s 132ms/step - loss: 0.7296 - accuracy: 0.5596 - f1_m: 0.4589 - val_loss: 0.7135 - val_accuracy: 0.5302 - val_f1_m: 0.4903\n",
      "Epoch 9/40\n",
      "167/167 [==============================] - 22s 131ms/step - loss: 0.7259 - accuracy: 0.5489 - f1_m: 0.5024 - val_loss: 0.7116 - val_accuracy: 0.5302 - val_f1_m: 0.4892\n",
      "Epoch 10/40\n",
      "167/167 [==============================] - 22s 131ms/step - loss: 0.7278 - accuracy: 0.5449 - f1_m: 0.4972 - val_loss: 0.7095 - val_accuracy: 0.5342 - val_f1_m: 0.4905\n",
      "Epoch 11/40\n",
      "167/167 [==============================] - 22s 130ms/step - loss: 0.7245 - accuracy: 0.5453 - f1_m: 0.5008 - val_loss: 0.7072 - val_accuracy: 0.5381 - val_f1_m: 0.4915\n",
      "Epoch 12/40\n",
      "167/167 [==============================] - 22s 131ms/step - loss: 0.7261 - accuracy: 0.5517 - f1_m: 0.4995 - val_loss: 0.7048 - val_accuracy: 0.5394 - val_f1_m: 0.4916\n",
      "Epoch 13/40\n",
      "167/167 [==============================] - 25s 148ms/step - loss: 0.7225 - accuracy: 0.5645 - f1_m: 0.5102 - val_loss: 0.7023 - val_accuracy: 0.5407 - val_f1_m: 0.4874\n",
      "Epoch 14/40\n",
      "167/167 [==============================] - 24s 144ms/step - loss: 0.7165 - accuracy: 0.5534 - f1_m: 0.4932 - val_loss: 0.6996 - val_accuracy: 0.5460 - val_f1_m: 0.4872\n",
      "Epoch 15/40\n",
      "167/167 [==============================] - 24s 143ms/step - loss: 0.7238 - accuracy: 0.5607 - f1_m: 0.5004 - val_loss: 0.6967 - val_accuracy: 0.5486 - val_f1_m: 0.4846\n",
      "Epoch 16/40\n",
      "167/167 [==============================] - 24s 144ms/step - loss: 0.7129 - accuracy: 0.5690 - f1_m: 0.4989 - val_loss: 0.6935 - val_accuracy: 0.5556 - val_f1_m: 0.4864\n",
      "Epoch 17/40\n",
      "167/167 [==============================] - 23s 138ms/step - loss: 0.7177 - accuracy: 0.5652 - f1_m: 0.4891 - val_loss: 0.6904 - val_accuracy: 0.5609 - val_f1_m: 0.4854\n",
      "Epoch 18/40\n",
      "167/167 [==============================] - 21s 124ms/step - loss: 0.7037 - accuracy: 0.5748 - f1_m: 0.4924 - val_loss: 0.6869 - val_accuracy: 0.5644 - val_f1_m: 0.4832\n",
      "Epoch 19/40\n",
      "167/167 [==============================] - 20s 117ms/step - loss: 0.7147 - accuracy: 0.5804 - f1_m: 0.4905 - val_loss: 0.6832 - val_accuracy: 0.5692 - val_f1_m: 0.4813\n",
      "Epoch 20/40\n",
      "167/167 [==============================] - 20s 117ms/step - loss: 0.7026 - accuracy: 0.5806 - f1_m: 0.4871 - val_loss: 0.6794 - val_accuracy: 0.5819 - val_f1_m: 0.4831\n",
      "Epoch 21/40\n",
      "167/167 [==============================] - 19s 116ms/step - loss: 0.7074 - accuracy: 0.5859 - f1_m: 0.4894 - val_loss: 0.6753 - val_accuracy: 0.5893 - val_f1_m: 0.4783\n",
      "Epoch 22/40\n",
      "167/167 [==============================] - 19s 115ms/step - loss: 0.6956 - accuracy: 0.5967 - f1_m: 0.4874 - val_loss: 0.6713 - val_accuracy: 0.5994 - val_f1_m: 0.4786\n",
      "Epoch 23/40\n",
      "167/167 [==============================] - 19s 115ms/step - loss: 0.6962 - accuracy: 0.6046 - f1_m: 0.5015 - val_loss: 0.6669 - val_accuracy: 0.6068 - val_f1_m: 0.4755\n",
      "Epoch 24/40\n",
      "167/167 [==============================] - 24s 144ms/step - loss: 0.6988 - accuracy: 0.6076 - f1_m: 0.4901 - val_loss: 0.6630 - val_accuracy: 0.6151 - val_f1_m: 0.4722\n",
      "Epoch 25/40\n",
      "167/167 [==============================] - 22s 129ms/step - loss: 0.6869 - accuracy: 0.6117 - f1_m: 0.4824 - val_loss: 0.6591 - val_accuracy: 0.6257 - val_f1_m: 0.4721\n",
      "Epoch 26/40\n",
      "167/167 [==============================] - 22s 131ms/step - loss: 0.6708 - accuracy: 0.6219 - f1_m: 0.4967 - val_loss: 0.6546 - val_accuracy: 0.6362 - val_f1_m: 0.4720\n",
      "Epoch 27/40\n",
      "167/167 [==============================] - 21s 128ms/step - loss: 0.6747 - accuracy: 0.6179 - f1_m: 0.4959 - val_loss: 0.6475 - val_accuracy: 0.6370 - val_f1_m: 0.4813\n",
      "Epoch 28/40\n",
      "167/167 [==============================] - 21s 127ms/step - loss: 0.6740 - accuracy: 0.6283 - f1_m: 0.5013 - val_loss: 0.6468 - val_accuracy: 0.6440 - val_f1_m: 0.4787\n",
      "Epoch 29/40\n",
      "167/167 [==============================] - 21s 126ms/step - loss: 0.6710 - accuracy: 0.6303 - f1_m: 0.5023 - val_loss: 0.6417 - val_accuracy: 0.6541 - val_f1_m: 0.4786\n",
      "Epoch 30/40\n",
      "167/167 [==============================] - 22s 129ms/step - loss: 0.6611 - accuracy: 0.6391 - f1_m: 0.5067 - val_loss: 0.6363 - val_accuracy: 0.6620 - val_f1_m: 0.4810\n",
      "Epoch 31/40\n",
      "167/167 [==============================] - 21s 126ms/step - loss: 0.6583 - accuracy: 0.6489 - f1_m: 0.5063 - val_loss: 0.6311 - val_accuracy: 0.6690 - val_f1_m: 0.4802\n",
      "Epoch 32/40\n",
      "167/167 [==============================] - 21s 127ms/step - loss: 0.6579 - accuracy: 0.6468 - f1_m: 0.5002 - val_loss: 0.6260 - val_accuracy: 0.6773 - val_f1_m: 0.4834\n",
      "Epoch 33/40\n",
      "167/167 [==============================] - 21s 128ms/step - loss: 0.6468 - accuracy: 0.6562 - f1_m: 0.5079 - val_loss: 0.6209 - val_accuracy: 0.6804 - val_f1_m: 0.4773\n",
      "Epoch 34/40\n",
      "167/167 [==============================] - 21s 127ms/step - loss: 0.6588 - accuracy: 0.6607 - f1_m: 0.5159 - val_loss: 0.6160 - val_accuracy: 0.6848 - val_f1_m: 0.4790\n",
      "Epoch 35/40\n",
      "167/167 [==============================] - 21s 128ms/step - loss: 0.6510 - accuracy: 0.6679 - f1_m: 0.5175 - val_loss: 0.6106 - val_accuracy: 0.6948 - val_f1_m: 0.4857\n",
      "Epoch 36/40\n",
      "167/167 [==============================] - 21s 128ms/step - loss: 0.6458 - accuracy: 0.6673 - f1_m: 0.5166 - val_loss: 0.6055 - val_accuracy: 0.7014 - val_f1_m: 0.4882\n",
      "Epoch 37/40\n",
      "167/167 [==============================] - 21s 126ms/step - loss: 0.6333 - accuracy: 0.6832 - f1_m: 0.5401 - val_loss: 0.6007 - val_accuracy: 0.7045 - val_f1_m: 0.4877\n",
      "Epoch 38/40\n",
      "167/167 [==============================] - 22s 130ms/step - loss: 0.6427 - accuracy: 0.6877 - f1_m: 0.5453 - val_loss: 0.5954 - val_accuracy: 0.7154 - val_f1_m: 0.5036\n",
      "Epoch 39/40\n",
      "167/167 [==============================] - 21s 124ms/step - loss: 0.6317 - accuracy: 0.6872 - f1_m: 0.5449 - val_loss: 0.5952 - val_accuracy: 0.7158 - val_f1_m: 0.5064\n",
      "Epoch 40/40\n",
      "167/167 [==============================] - 23s 140ms/step - loss: 0.6250 - accuracy: 0.6924 - f1_m: 0.5690 - val_loss: 0.5902 - val_accuracy: 0.7180 - val_f1_m: 0.5129\n",
      "0:14:37.386485\n"
     ]
    }
   ],
   "source": [
    "# Fit the model; obtain the model fit time\n",
    "start=datetime.now()\n",
    "history6 = model6.fit(X_train,Y_train,\n",
    "                    batch_size=32,\n",
    "                    epochs=40,\n",
    "                    validation_split=0.3\n",
    ")\n",
    "end=datetime.now()\n",
    "print(end-start)"
   ]
  },
  {
   "cell_type": "code",
   "execution_count": 119,
   "metadata": {},
   "outputs": [
    {
     "name": "stdout",
     "output_type": "stream",
     "text": [
      "Best Train Accuracy: \n"
     ]
    },
    {
     "data": {
      "text/plain": [
       "0.6924"
      ]
     },
     "execution_count": 119,
     "metadata": {},
     "output_type": "execute_result"
    }
   ],
   "source": [
    "print ('Best Train Accuracy: ')\n",
    "best_model_train_accuracy = np.round(history6.history['accuracy'][np.argmin(history6.history['loss'])],4)\n",
    "best_model_train_accuracy"
   ]
  },
  {
   "cell_type": "code",
   "execution_count": 120,
   "metadata": {},
   "outputs": [
    {
     "name": "stdout",
     "output_type": "stream",
     "text": [
      "Best Validation Accuracy: \n"
     ]
    },
    {
     "data": {
      "text/plain": [
       "0.718"
      ]
     },
     "execution_count": 120,
     "metadata": {},
     "output_type": "execute_result"
    }
   ],
   "source": [
    "print ('Best Validation Accuracy: ')\n",
    "best_model_val_accuracy = np.round(history6.history['val_accuracy'][np.argmin(history6.history['val_loss'])],4)\n",
    "best_model_val_accuracy\n"
   ]
  },
  {
   "cell_type": "code",
   "execution_count": 121,
   "metadata": {},
   "outputs": [
    {
     "name": "stdout",
     "output_type": "stream",
     "text": [
      "Best Train f1: 0.569\n",
      "Best val f1: 0.5129\n"
     ]
    }
   ],
   "source": [
    "best_model_train_f1 = max(np.round(history6.history['f1_m'],4))\n",
    "print ('Best Train f1: {}'.format(best_model_train_f1))\n",
    "\n",
    "best_model_val_f1 = max(np.round(history6.history['val_f1_m'],4))\n",
    "print ('Best val f1: {}'.format(best_model_val_f1))"
   ]
  },
  {
   "cell_type": "code",
   "execution_count": 122,
   "metadata": {},
   "outputs": [
    {
     "data": {
      "image/png": "[encoded data removed]",
      "text/plain": [
       "<Figure size 720x576 with 1 Axes>"
      ]
     },
     "metadata": {
      "needs_background": "light"
     },
     "output_type": "display_data"
    }
   ],
   "source": [
    "\n",
    "# Plot the learning curve\n",
    "pd.DataFrame(history6.history).plot(figsize=(10, 8))\n",
    "plt.grid(True)\n",
    "plt.gca().set_ylim(0, 1) # set the vertical range to [0-1]\n",
    "plt.title('Learning curve - factor1: 400K, factor2: GloVe.6B.200d, factor3: LSTM, factor4: 0.3')\n",
    "plt.show()"
   ]
  },
  {
   "cell_type": "markdown",
   "metadata": {},
   "source": [
    "# model 6 predictions (1=disaster tweet)"
   ]
  },
  {
   "cell_type": "code",
   "execution_count": 123,
   "metadata": {},
   "outputs": [
    {
     "data": {
      "text/plain": [
       "array([[0],\n",
       "       [1],\n",
       "       [1],\n",
       "       ...,\n",
       "       [0],\n",
       "       [0],\n",
       "       [0]], dtype=int32)"
      ]
     },
     "execution_count": 123,
     "metadata": {},
     "output_type": "execute_result"
    }
   ],
   "source": [
    "predict6 = model6.predict_classes(X_test)\n",
    "predict6"
   ]
  },
  {
   "cell_type": "code",
   "execution_count": 124,
   "metadata": {},
   "outputs": [
    {
     "data": {
      "text/plain": [
       "3263"
      ]
     },
     "execution_count": 124,
     "metadata": {},
     "output_type": "execute_result"
    }
   ],
   "source": [
    "len(predict6)"
   ]
  },
  {
   "cell_type": "code",
   "execution_count": 125,
   "metadata": {},
   "outputs": [],
   "source": [
    "# save the results to a csv\n",
    "submission_df = pd.DataFrame({'id':test_tweets['id'],'target':np.squeeze(predict6)})\n",
    "submission_df.to_csv('submission_rnn_6.csv',index=False)\n"
   ]
  },
  {
   "cell_type": "code",
   "execution_count": 126,
   "metadata": {},
   "outputs": [
    {
     "data": {
      "text/html": [
       "<div>\n",
       "<style scoped>\n",
       "    .dataframe tbody tr th:only-of-type {\n",
       "        vertical-align: middle;\n",
       "    }\n",
       "\n",
       "    .dataframe tbody tr th {\n",
       "        vertical-align: top;\n",
       "    }\n",
       "\n",
       "    .dataframe thead th {\n",
       "        text-align: right;\n",
       "    }\n",
       "</style>\n",
       "<table border=\"1\" class=\"dataframe\">\n",
       "  <thead>\n",
       "    <tr style=\"text-align: right;\">\n",
       "      <th></th>\n",
       "      <th>Model_name</th>\n",
       "      <th>vocabulary size (factor1)</th>\n",
       "      <th>pre-trained vector (factor2)</th>\n",
       "      <th>RNN structure (factor3)</th>\n",
       "      <th>hyperparameter recurrent_dropout (factor4)</th>\n",
       "      <th>Processing Time</th>\n",
       "      <th>Training Set Accuracy</th>\n",
       "      <th>Validation Set Accuracy</th>\n",
       "      <th>train f1</th>\n",
       "      <th>validation f1</th>\n",
       "      <th>Test Set F1-score (Kaggle score)</th>\n",
       "    </tr>\n",
       "  </thead>\n",
       "  <tbody>\n",
       "    <tr>\n",
       "      <th>0</th>\n",
       "      <td>RNN #1</td>\n",
       "      <td>400K</td>\n",
       "      <td>GloVe.6B.50d</td>\n",
       "      <td>LSTM layer based</td>\n",
       "      <td>0.1</td>\n",
       "      <td>00:14:13.500154</td>\n",
       "      <td>0.3019</td>\n",
       "      <td>0.3586</td>\n",
       "      <td>0.7372</td>\n",
       "      <td>0.6869</td>\n",
       "      <td>0.78087</td>\n",
       "    </tr>\n",
       "    <tr>\n",
       "      <th>1</th>\n",
       "      <td>RNN #2</td>\n",
       "      <td>400K</td>\n",
       "      <td>GloVe.6B.50d</td>\n",
       "      <td>LSTM layer based</td>\n",
       "      <td>0.3</td>\n",
       "      <td>00:13:52.784631</td>\n",
       "      <td>0.7703</td>\n",
       "      <td>0.7754</td>\n",
       "      <td>0.7116</td>\n",
       "      <td>0.6222</td>\n",
       "      <td>0.78026</td>\n",
       "    </tr>\n",
       "    <tr>\n",
       "      <th>2</th>\n",
       "      <td>RNN #3</td>\n",
       "      <td>400K</td>\n",
       "      <td>GloVe.6B.50d</td>\n",
       "      <td>GRU layer based</td>\n",
       "      <td>0.1</td>\n",
       "      <td>00:43:38.681270</td>\n",
       "      <td>0.3447</td>\n",
       "      <td>0.3533</td>\n",
       "      <td>0.7747</td>\n",
       "      <td>0.7016</td>\n",
       "      <td>0.78302</td>\n",
       "    </tr>\n",
       "    <tr>\n",
       "      <th>3</th>\n",
       "      <td>RNN #4</td>\n",
       "      <td>400K</td>\n",
       "      <td>GloVe.6B.50d</td>\n",
       "      <td>GRU layer based</td>\n",
       "      <td>0.3</td>\n",
       "      <td>00:08:21.524334</td>\n",
       "      <td>0.2804</td>\n",
       "      <td>0.2728</td>\n",
       "      <td>0.9279</td>\n",
       "      <td>0.8533</td>\n",
       "      <td>0.77873</td>\n",
       "    </tr>\n",
       "    <tr>\n",
       "      <th>4</th>\n",
       "      <td>RNN #5</td>\n",
       "      <td>400K</td>\n",
       "      <td>GloVe.6B.200d</td>\n",
       "      <td>LSTM layer based</td>\n",
       "      <td>0.1</td>\n",
       "      <td>00:21:06.903934</td>\n",
       "      <td>0.7742</td>\n",
       "      <td>0.7822</td>\n",
       "      <td>0.7113</td>\n",
       "      <td>0.6760</td>\n",
       "      <td>0.79313</td>\n",
       "    </tr>\n",
       "    <tr>\n",
       "      <th>5</th>\n",
       "      <td>RNN #6</td>\n",
       "      <td>400K</td>\n",
       "      <td>GloVe.6B.200d</td>\n",
       "      <td>LSTM layer based</td>\n",
       "      <td>0.3</td>\n",
       "      <td>00:14:37.386485</td>\n",
       "      <td>0.6924</td>\n",
       "      <td>0.7180</td>\n",
       "      <td>0.5690</td>\n",
       "      <td>0.5129</td>\n",
       "      <td>0.78639</td>\n",
       "    </tr>\n",
       "  </tbody>\n",
       "</table>\n",
       "</div>"
      ],
      "text/plain": [
       "  Model_name vocabulary size (factor1) pre-trained vector (factor2)  \\\n",
       "0     RNN #1                      400K                 GloVe.6B.50d   \n",
       "1     RNN #2                      400K                 GloVe.6B.50d   \n",
       "2     RNN #3                      400K                 GloVe.6B.50d   \n",
       "3     RNN #4                      400K                 GloVe.6B.50d   \n",
       "4     RNN #5                      400K                GloVe.6B.200d   \n",
       "5     RNN #6                      400K                GloVe.6B.200d   \n",
       "\n",
       "  RNN structure (factor3) hyperparameter recurrent_dropout (factor4)  \\\n",
       "0        LSTM layer based                                        0.1   \n",
       "1        LSTM layer based                                        0.3   \n",
       "2         GRU layer based                                        0.1   \n",
       "3         GRU layer based                                        0.3   \n",
       "4        LSTM layer based                                        0.1   \n",
       "5        LSTM layer based                                        0.3   \n",
       "\n",
       "  Processing Time  Training Set Accuracy  Validation Set Accuracy  train f1  \\\n",
       "0 00:14:13.500154                 0.3019                   0.3586    0.7372   \n",
       "1 00:13:52.784631                 0.7703                   0.7754    0.7116   \n",
       "2 00:43:38.681270                 0.3447                   0.3533    0.7747   \n",
       "3 00:08:21.524334                 0.2804                   0.2728    0.9279   \n",
       "4 00:21:06.903934                 0.7742                   0.7822    0.7113   \n",
       "5 00:14:37.386485                 0.6924                   0.7180    0.5690   \n",
       "\n",
       "   validation f1 Test Set F1-score (Kaggle score)  \n",
       "0         0.6869                          0.78087  \n",
       "1         0.6222                          0.78026  \n",
       "2         0.7016                          0.78302  \n",
       "3         0.8533                          0.77873  \n",
       "4         0.6760                          0.79313  \n",
       "5         0.5129                          0.78639  "
      ]
     },
     "execution_count": 126,
     "metadata": {},
     "output_type": "execute_result"
    }
   ],
   "source": [
    "#Store the accuracy and kaggle score for this model \n",
    "results_tbl = results_tbl.append({'Model_name':'RNN #6', \n",
    "                                   'vocabulary size (factor1)':'400K',\n",
    "                                   'pre-trained vector (factor2)':'GloVe.6B.200d',\n",
    "                                   'RNN structure (factor3)':'LSTM layer based',\n",
    "                                   'hyperparameter recurrent_dropout (factor4)': '0.3',\n",
    "                                   'Processing Time':(end-start),\n",
    "                                   'Training Set Accuracy':best_model_train_accuracy,\n",
    "                                   'Validation Set Accuracy':best_model_val_accuracy,\n",
    "                                   'train f1':best_model_train_f1,\n",
    "                                   'validation f1':best_model_val_f1,\n",
    "                                   'Test Set F1-score (Kaggle score)': ''\n",
    "                                   },ignore_index=True)\n",
    "results_tbl"
   ]
  },
  {
   "cell_type": "markdown",
   "metadata": {},
   "source": [
    "# Fit RNN 7\n",
    "# vocabulary size (factor 1): 400K\n",
    "# pre-trained vector (factor 2): GloVe.6B.200d\n",
    "# rnn structure (factor 3): GRU layer based structure\n",
    "# recurrent dropout (factor 4): 0.1\n"
   ]
  },
  {
   "cell_type": "code",
   "execution_count": 127,
   "metadata": {},
   "outputs": [],
   "source": [
    "\n",
    "model7 = keras.models.Sequential([\n",
    "    keras.layers.Embedding(len(word2index)+1,200,weights=[embedding_matrix],input_length=maxlen,trainable=False),\n",
    "    keras.layers.GRU(units=128 , return_sequences = True , recurrent_dropout = 0.1 , dropout = 0.1),\n",
    "    keras.layers.GRU(units=64 , recurrent_dropout = 0.1 , dropout = 0.1),\n",
    "    keras.layers.Dense(32, activation='tanh'),\n",
    "    keras.layers.Dense(1, activation='sigmoid')\n",
    "])"
   ]
  },
  {
   "cell_type": "code",
   "execution_count": 128,
   "metadata": {},
   "outputs": [
    {
     "name": "stdout",
     "output_type": "stream",
     "text": [
      "Model: \"sequential_10\"\n",
      "_________________________________________________________________\n",
      "Layer (type)                 Output Shape              Param #   \n",
      "=================================================================\n",
      "embedding_10 (Embedding)     (None, 31, 200)           2451400   \n",
      "_________________________________________________________________\n",
      "gru_4 (GRU)                  (None, 31, 128)           126720    \n",
      "_________________________________________________________________\n",
      "gru_5 (GRU)                  (None, 64)                37248     \n",
      "_________________________________________________________________\n",
      "dense_20 (Dense)             (None, 32)                2080      \n",
      "_________________________________________________________________\n",
      "dense_21 (Dense)             (None, 1)                 33        \n",
      "=================================================================\n",
      "Total params: 2,617,481\n",
      "Trainable params: 166,081\n",
      "Non-trainable params: 2,451,400\n",
      "_________________________________________________________________\n"
     ]
    }
   ],
   "source": [
    "model7.summary()"
   ]
  },
  {
   "cell_type": "code",
   "execution_count": 129,
   "metadata": {},
   "outputs": [],
   "source": [
    "opt=Adam(learning_rate=1e-5)\n",
    "model7.compile(\n",
    "  loss='binary_crossentropy',\n",
    "  optimizer=opt,\n",
    "  metrics=['accuracy', f1_m],\n",
    ")"
   ]
  },
  {
   "cell_type": "code",
   "execution_count": 130,
   "metadata": {},
   "outputs": [
    {
     "name": "stdout",
     "output_type": "stream",
     "text": [
      "Epoch 1/40\n",
      "167/167 [==============================] - 23s 135ms/step - loss: 0.6606 - accuracy: 0.6320 - f1_m: 0.3954 - val_loss: 0.6459 - val_accuracy: 0.6576 - val_f1_m: 0.3074\n",
      "Epoch 2/40\n",
      "167/167 [==============================] - 22s 132ms/step - loss: 0.6366 - accuracy: 0.6705 - f1_m: 0.4418 - val_loss: 0.6213 - val_accuracy: 0.6996 - val_f1_m: 0.3875\n",
      "Epoch 3/40\n",
      "167/167 [==============================] - 23s 138ms/step - loss: 0.6143 - accuracy: 0.7020 - f1_m: 0.5345 - val_loss: 0.5954 - val_accuracy: 0.7307 - val_f1_m: 0.4636\n",
      "Epoch 4/40\n",
      "167/167 [==============================] - 23s 139ms/step - loss: 0.5904 - accuracy: 0.7326 - f1_m: 0.6150 - val_loss: 0.5699 - val_accuracy: 0.7443 - val_f1_m: 0.5064\n",
      "Epoch 5/40\n",
      "167/167 [==============================] - 24s 141ms/step - loss: 0.5682 - accuracy: 0.7442 - f1_m: 0.6528 - val_loss: 0.5454 - val_accuracy: 0.7592 - val_f1_m: 0.5493\n",
      "Epoch 6/40\n",
      "167/167 [==============================] - 24s 145ms/step - loss: 0.5471 - accuracy: 0.7559 - f1_m: 0.6743 - val_loss: 0.5242 - val_accuracy: 0.7723 - val_f1_m: 0.5727\n",
      "Epoch 7/40\n",
      "167/167 [==============================] - 23s 138ms/step - loss: 0.5296 - accuracy: 0.7562 - f1_m: 0.6846 - val_loss: 0.5076 - val_accuracy: 0.7754 - val_f1_m: 0.5798\n",
      "Epoch 8/40\n",
      "167/167 [==============================] - 23s 140ms/step - loss: 0.5162 - accuracy: 0.7649 - f1_m: 0.6990 - val_loss: 0.4948 - val_accuracy: 0.7898 - val_f1_m: 0.6125\n",
      "Epoch 9/40\n",
      "167/167 [==============================] - 24s 143ms/step - loss: 0.5066 - accuracy: 0.7679 - f1_m: 0.7008 - val_loss: 0.4846 - val_accuracy: 0.7977 - val_f1_m: 0.6272\n",
      "Epoch 10/40\n",
      "167/167 [==============================] - 23s 138ms/step - loss: 0.4975 - accuracy: 0.7731 - f1_m: 0.7087 - val_loss: 0.4766 - val_accuracy: 0.7986 - val_f1_m: 0.6327\n",
      "Epoch 11/40\n",
      "167/167 [==============================] - 21s 123ms/step - loss: 0.4897 - accuracy: 0.7754 - f1_m: 0.7136 - val_loss: 0.4697 - val_accuracy: 0.8004 - val_f1_m: 0.6257\n",
      "Epoch 12/40\n",
      "167/167 [==============================] - 19s 115ms/step - loss: 0.4836 - accuracy: 0.7806 - f1_m: 0.7178 - val_loss: 0.4642 - val_accuracy: 0.7995 - val_f1_m: 0.6233\n",
      "Epoch 13/40\n",
      "167/167 [==============================] - 21s 127ms/step - loss: 0.4795 - accuracy: 0.7821 - f1_m: 0.7212 - val_loss: 0.4590 - val_accuracy: 0.7960 - val_f1_m: 0.6229\n",
      "Epoch 14/40\n",
      "167/167 [==============================] - 21s 125ms/step - loss: 0.4742 - accuracy: 0.7865 - f1_m: 0.7288 - val_loss: 0.4547 - val_accuracy: 0.7960 - val_f1_m: 0.6134\n",
      "Epoch 15/40\n",
      "167/167 [==============================] - 19s 116ms/step - loss: 0.4698 - accuracy: 0.7883 - f1_m: 0.7253 - val_loss: 0.4509 - val_accuracy: 0.7973 - val_f1_m: 0.6123\n",
      "Epoch 16/40\n",
      "167/167 [==============================] - 19s 117ms/step - loss: 0.4640 - accuracy: 0.7943 - f1_m: 0.7370 - val_loss: 0.4474 - val_accuracy: 0.7999 - val_f1_m: 0.6228\n",
      "Epoch 17/40\n",
      "167/167 [==============================] - 19s 117ms/step - loss: 0.4617 - accuracy: 0.7919 - f1_m: 0.7339 - val_loss: 0.4450 - val_accuracy: 0.7964 - val_f1_m: 0.6089\n",
      "Epoch 18/40\n",
      "167/167 [==============================] - 20s 118ms/step - loss: 0.4587 - accuracy: 0.7955 - f1_m: 0.7282 - val_loss: 0.4427 - val_accuracy: 0.7973 - val_f1_m: 0.6142\n",
      "Epoch 19/40\n",
      "167/167 [==============================] - 20s 117ms/step - loss: 0.4539 - accuracy: 0.7970 - f1_m: 0.7345 - val_loss: 0.4402 - val_accuracy: 0.7990 - val_f1_m: 0.6163\n",
      "Epoch 20/40\n",
      "167/167 [==============================] - 19s 116ms/step - loss: 0.4522 - accuracy: 0.8005 - f1_m: 0.7386 - val_loss: 0.4383 - val_accuracy: 0.8017 - val_f1_m: 0.6228\n",
      "Epoch 21/40\n",
      "167/167 [==============================] - 19s 116ms/step - loss: 0.4498 - accuracy: 0.8011 - f1_m: 0.7432 - val_loss: 0.4371 - val_accuracy: 0.8039 - val_f1_m: 0.6292\n",
      "Epoch 22/40\n",
      "167/167 [==============================] - 22s 129ms/step - loss: 0.4497 - accuracy: 0.8022 - f1_m: 0.7454 - val_loss: 0.4360 - val_accuracy: 0.8012 - val_f1_m: 0.6179\n",
      "Epoch 23/40\n",
      "167/167 [==============================] - 23s 140ms/step - loss: 0.4459 - accuracy: 0.8077 - f1_m: 0.7491 - val_loss: 0.4346 - val_accuracy: 0.8025 - val_f1_m: 0.6244\n",
      "Epoch 24/40\n",
      "167/167 [==============================] - 25s 152ms/step - loss: 0.4449 - accuracy: 0.8056 - f1_m: 0.7481 - val_loss: 0.4336 - val_accuracy: 0.8034 - val_f1_m: 0.6239\n",
      "Epoch 25/40\n",
      "167/167 [==============================] - 23s 139ms/step - loss: 0.4432 - accuracy: 0.8041 - f1_m: 0.7416 - val_loss: 0.4329 - val_accuracy: 0.8074 - val_f1_m: 0.6313\n",
      "Epoch 26/40\n",
      "167/167 [==============================] - 24s 144ms/step - loss: 0.4411 - accuracy: 0.8052 - f1_m: 0.7462 - val_loss: 0.4320 - val_accuracy: 0.8069 - val_f1_m: 0.6268\n",
      "Epoch 27/40\n",
      "167/167 [==============================] - 22s 134ms/step - loss: 0.4421 - accuracy: 0.8043 - f1_m: 0.7443 - val_loss: 0.4315 - val_accuracy: 0.8104 - val_f1_m: 0.6341\n",
      "Epoch 28/40\n",
      "167/167 [==============================] - 24s 144ms/step - loss: 0.4404 - accuracy: 0.8052 - f1_m: 0.7462 - val_loss: 0.4309 - val_accuracy: 0.7986 - val_f1_m: 0.6059\n",
      "Epoch 29/40\n",
      "167/167 [==============================] - 22s 134ms/step - loss: 0.4378 - accuracy: 0.8054 - f1_m: 0.7458 - val_loss: 0.4308 - val_accuracy: 0.8004 - val_f1_m: 0.6021\n",
      "Epoch 30/40\n",
      "167/167 [==============================] - 22s 134ms/step - loss: 0.4394 - accuracy: 0.8086 - f1_m: 0.7481 - val_loss: 0.4296 - val_accuracy: 0.7990 - val_f1_m: 0.6105\n",
      "Epoch 31/40\n",
      "167/167 [==============================] - 23s 138ms/step - loss: 0.4382 - accuracy: 0.8048 - f1_m: 0.7452 - val_loss: 0.4292 - val_accuracy: 0.7995 - val_f1_m: 0.6126\n",
      "Epoch 32/40\n",
      "167/167 [==============================] - 22s 134ms/step - loss: 0.4367 - accuracy: 0.8071 - f1_m: 0.7484 - val_loss: 0.4288 - val_accuracy: 0.7990 - val_f1_m: 0.6087\n",
      "Epoch 33/40\n",
      "167/167 [==============================] - 23s 135ms/step - loss: 0.4340 - accuracy: 0.8092 - f1_m: 0.7483 - val_loss: 0.4284 - val_accuracy: 0.8008 - val_f1_m: 0.6055\n",
      "Epoch 34/40\n",
      "167/167 [==============================] - 22s 132ms/step - loss: 0.4305 - accuracy: 0.8099 - f1_m: 0.7507 - val_loss: 0.4278 - val_accuracy: 0.8004 - val_f1_m: 0.6078\n",
      "Epoch 35/40\n",
      "167/167 [==============================] - 21s 127ms/step - loss: 0.4302 - accuracy: 0.8133 - f1_m: 0.7554 - val_loss: 0.4276 - val_accuracy: 0.8025 - val_f1_m: 0.6117\n",
      "Epoch 36/40\n",
      "167/167 [==============================] - 21s 126ms/step - loss: 0.4316 - accuracy: 0.8105 - f1_m: 0.7497 - val_loss: 0.4274 - val_accuracy: 0.8021 - val_f1_m: 0.6065\n",
      "Epoch 37/40\n",
      "167/167 [==============================] - 19s 117ms/step - loss: 0.4302 - accuracy: 0.8135 - f1_m: 0.7564 - val_loss: 0.4277 - val_accuracy: 0.8034 - val_f1_m: 0.6072\n",
      "Epoch 38/40\n",
      "167/167 [==============================] - 19s 112ms/step - loss: 0.4283 - accuracy: 0.8135 - f1_m: 0.7540 - val_loss: 0.4269 - val_accuracy: 0.8034 - val_f1_m: 0.6074\n",
      "Epoch 39/40\n",
      "167/167 [==============================] - 24s 145ms/step - loss: 0.4258 - accuracy: 0.8122 - f1_m: 0.7497 - val_loss: 0.4265 - val_accuracy: 0.8030 - val_f1_m: 0.6114\n",
      "Epoch 40/40\n",
      "167/167 [==============================] - 20s 122ms/step - loss: 0.4269 - accuracy: 0.8125 - f1_m: 0.7565 - val_loss: 0.4263 - val_accuracy: 0.8039 - val_f1_m: 0.6098\n",
      "0:14:44.563094\n"
     ]
    }
   ],
   "source": [
    "# Fit the model; obtain the model fit time\n",
    "start=datetime.now()\n",
    "history7 = model7.fit(X_train,Y_train,\n",
    "                    batch_size=32,\n",
    "                    epochs=40,\n",
    "                    validation_split=0.3\n",
    ")\n",
    "end=datetime.now()\n",
    "print(end-start)\n",
    "\n"
   ]
  },
  {
   "cell_type": "code",
   "execution_count": 131,
   "metadata": {},
   "outputs": [
    {
     "name": "stdout",
     "output_type": "stream",
     "text": [
      "Best Train Accuracy: \n"
     ]
    },
    {
     "data": {
      "text/plain": [
       "0.8122"
      ]
     },
     "execution_count": 131,
     "metadata": {},
     "output_type": "execute_result"
    }
   ],
   "source": [
    "print ('Best Train Accuracy: ')\n",
    "best_model_train_accuracy = np.round(history7.history['accuracy'][np.argmin(history7.history['loss'])],4)\n",
    "best_model_train_accuracy\n"
   ]
  },
  {
   "cell_type": "code",
   "execution_count": 132,
   "metadata": {},
   "outputs": [
    {
     "name": "stdout",
     "output_type": "stream",
     "text": [
      "Best Validation Accuracy: \n"
     ]
    },
    {
     "data": {
      "text/plain": [
       "0.8039"
      ]
     },
     "execution_count": 132,
     "metadata": {},
     "output_type": "execute_result"
    }
   ],
   "source": [
    "print ('Best Validation Accuracy: ')\n",
    "best_model_val_accuracy = np.round(history7.history['val_accuracy'][np.argmin(history7.history['val_loss'])],4)\n",
    "best_model_val_accuracy"
   ]
  },
  {
   "cell_type": "code",
   "execution_count": 133,
   "metadata": {},
   "outputs": [
    {
     "name": "stdout",
     "output_type": "stream",
     "text": [
      "Best Train f1: 0.7565\n",
      "Best val f1: 0.6341\n"
     ]
    }
   ],
   "source": [
    "best_model_train_f1 = max(np.round(history7.history['f1_m'],4))\n",
    "print ('Best Train f1: {}'.format(best_model_train_f1))\n",
    "\n",
    "best_model_val_f1 = max(np.round(history7.history['val_f1_m'],4))\n",
    "print ('Best val f1: {}'.format(best_model_val_f1))"
   ]
  },
  {
   "cell_type": "code",
   "execution_count": 134,
   "metadata": {},
   "outputs": [
    {
     "data": {
      "image/png": "[encoded data removed]",
      "text/plain": [
       "<Figure size 720x576 with 1 Axes>"
      ]
     },
     "metadata": {
      "needs_background": "light"
     },
     "output_type": "display_data"
    }
   ],
   "source": [
    "# Plot the learning curve\n",
    "pd.DataFrame(history7.history).plot(figsize=(10, 8))\n",
    "plt.grid(True)\n",
    "plt.gca().set_ylim(0, 1) # set the vertical range to [0-1]\n",
    "plt.title('Learning curve - factor1: 400K, factor2: GloVe.6B.200d, factor3: GRU, factor4: 0.1')\n",
    "plt.show()\n"
   ]
  },
  {
   "cell_type": "markdown",
   "metadata": {},
   "source": [
    "# model 7 predictions (1=disaster tweet)"
   ]
  },
  {
   "cell_type": "code",
   "execution_count": 135,
   "metadata": {},
   "outputs": [
    {
     "data": {
      "text/plain": [
       "array([[1],\n",
       "       [1],\n",
       "       [1],\n",
       "       ...,\n",
       "       [1],\n",
       "       [1],\n",
       "       [0]], dtype=int32)"
      ]
     },
     "execution_count": 135,
     "metadata": {},
     "output_type": "execute_result"
    }
   ],
   "source": [
    "predict7 = model7.predict_classes(X_test)\n",
    "predict7"
   ]
  },
  {
   "cell_type": "code",
   "execution_count": 136,
   "metadata": {},
   "outputs": [
    {
     "data": {
      "text/plain": [
       "3263"
      ]
     },
     "execution_count": 136,
     "metadata": {},
     "output_type": "execute_result"
    }
   ],
   "source": [
    "len(predict7)"
   ]
  },
  {
   "cell_type": "code",
   "execution_count": 137,
   "metadata": {},
   "outputs": [],
   "source": [
    "# save the results to a csv\n",
    "submission_df = pd.DataFrame({'id':test_tweets['id'],'target':np.squeeze(predict7)})\n",
    "submission_df.to_csv('submission_rnn_7.csv',index=False)"
   ]
  },
  {
   "cell_type": "code",
   "execution_count": 138,
   "metadata": {},
   "outputs": [
    {
     "data": {
      "text/html": [
       "<div>\n",
       "<style scoped>\n",
       "    .dataframe tbody tr th:only-of-type {\n",
       "        vertical-align: middle;\n",
       "    }\n",
       "\n",
       "    .dataframe tbody tr th {\n",
       "        vertical-align: top;\n",
       "    }\n",
       "\n",
       "    .dataframe thead th {\n",
       "        text-align: right;\n",
       "    }\n",
       "</style>\n",
       "<table border=\"1\" class=\"dataframe\">\n",
       "  <thead>\n",
       "    <tr style=\"text-align: right;\">\n",
       "      <th></th>\n",
       "      <th>Model_name</th>\n",
       "      <th>vocabulary size (factor1)</th>\n",
       "      <th>pre-trained vector (factor2)</th>\n",
       "      <th>RNN structure (factor3)</th>\n",
       "      <th>hyperparameter recurrent_dropout (factor4)</th>\n",
       "      <th>Processing Time</th>\n",
       "      <th>Training Set Accuracy</th>\n",
       "      <th>Validation Set Accuracy</th>\n",
       "      <th>train f1</th>\n",
       "      <th>validation f1</th>\n",
       "      <th>Test Set F1-score (Kaggle score)</th>\n",
       "    </tr>\n",
       "  </thead>\n",
       "  <tbody>\n",
       "    <tr>\n",
       "      <th>0</th>\n",
       "      <td>RNN #1</td>\n",
       "      <td>400K</td>\n",
       "      <td>GloVe.6B.50d</td>\n",
       "      <td>LSTM layer based</td>\n",
       "      <td>0.1</td>\n",
       "      <td>00:14:13.500154</td>\n",
       "      <td>0.3019</td>\n",
       "      <td>0.3586</td>\n",
       "      <td>0.7372</td>\n",
       "      <td>0.6869</td>\n",
       "      <td>0.78087</td>\n",
       "    </tr>\n",
       "    <tr>\n",
       "      <th>1</th>\n",
       "      <td>RNN #2</td>\n",
       "      <td>400K</td>\n",
       "      <td>GloVe.6B.50d</td>\n",
       "      <td>LSTM layer based</td>\n",
       "      <td>0.3</td>\n",
       "      <td>00:13:52.784631</td>\n",
       "      <td>0.7703</td>\n",
       "      <td>0.7754</td>\n",
       "      <td>0.7116</td>\n",
       "      <td>0.6222</td>\n",
       "      <td>0.78026</td>\n",
       "    </tr>\n",
       "    <tr>\n",
       "      <th>2</th>\n",
       "      <td>RNN #3</td>\n",
       "      <td>400K</td>\n",
       "      <td>GloVe.6B.50d</td>\n",
       "      <td>GRU layer based</td>\n",
       "      <td>0.1</td>\n",
       "      <td>00:43:38.681270</td>\n",
       "      <td>0.3447</td>\n",
       "      <td>0.3533</td>\n",
       "      <td>0.7747</td>\n",
       "      <td>0.7016</td>\n",
       "      <td>0.78302</td>\n",
       "    </tr>\n",
       "    <tr>\n",
       "      <th>3</th>\n",
       "      <td>RNN #4</td>\n",
       "      <td>400K</td>\n",
       "      <td>GloVe.6B.50d</td>\n",
       "      <td>GRU layer based</td>\n",
       "      <td>0.3</td>\n",
       "      <td>00:08:21.524334</td>\n",
       "      <td>0.2804</td>\n",
       "      <td>0.2728</td>\n",
       "      <td>0.9279</td>\n",
       "      <td>0.8533</td>\n",
       "      <td>0.77873</td>\n",
       "    </tr>\n",
       "    <tr>\n",
       "      <th>4</th>\n",
       "      <td>RNN #5</td>\n",
       "      <td>400K</td>\n",
       "      <td>GloVe.6B.200d</td>\n",
       "      <td>LSTM layer based</td>\n",
       "      <td>0.1</td>\n",
       "      <td>00:21:06.903934</td>\n",
       "      <td>0.7742</td>\n",
       "      <td>0.7822</td>\n",
       "      <td>0.7113</td>\n",
       "      <td>0.6760</td>\n",
       "      <td>0.79313</td>\n",
       "    </tr>\n",
       "    <tr>\n",
       "      <th>5</th>\n",
       "      <td>RNN #6</td>\n",
       "      <td>400K</td>\n",
       "      <td>GloVe.6B.200d</td>\n",
       "      <td>LSTM layer based</td>\n",
       "      <td>0.3</td>\n",
       "      <td>00:14:37.386485</td>\n",
       "      <td>0.6924</td>\n",
       "      <td>0.7180</td>\n",
       "      <td>0.5690</td>\n",
       "      <td>0.5129</td>\n",
       "      <td>0.78639</td>\n",
       "    </tr>\n",
       "    <tr>\n",
       "      <th>6</th>\n",
       "      <td>RNN #7</td>\n",
       "      <td>400K</td>\n",
       "      <td>GloVe.6B.200d</td>\n",
       "      <td>GRU layer based</td>\n",
       "      <td>0.1</td>\n",
       "      <td>00:14:44.563094</td>\n",
       "      <td>0.8122</td>\n",
       "      <td>0.8039</td>\n",
       "      <td>0.7565</td>\n",
       "      <td>0.6341</td>\n",
       "      <td>0.79068</td>\n",
       "    </tr>\n",
       "  </tbody>\n",
       "</table>\n",
       "</div>"
      ],
      "text/plain": [
       "  Model_name vocabulary size (factor1) pre-trained vector (factor2)  \\\n",
       "0     RNN #1                      400K                 GloVe.6B.50d   \n",
       "1     RNN #2                      400K                 GloVe.6B.50d   \n",
       "2     RNN #3                      400K                 GloVe.6B.50d   \n",
       "3     RNN #4                      400K                 GloVe.6B.50d   \n",
       "4     RNN #5                      400K                GloVe.6B.200d   \n",
       "5     RNN #6                      400K                GloVe.6B.200d   \n",
       "6     RNN #7                      400K                GloVe.6B.200d   \n",
       "\n",
       "  RNN structure (factor3) hyperparameter recurrent_dropout (factor4)  \\\n",
       "0        LSTM layer based                                        0.1   \n",
       "1        LSTM layer based                                        0.3   \n",
       "2         GRU layer based                                        0.1   \n",
       "3         GRU layer based                                        0.3   \n",
       "4        LSTM layer based                                        0.1   \n",
       "5        LSTM layer based                                        0.3   \n",
       "6         GRU layer based                                        0.1   \n",
       "\n",
       "  Processing Time  Training Set Accuracy  Validation Set Accuracy  train f1  \\\n",
       "0 00:14:13.500154                 0.3019                   0.3586    0.7372   \n",
       "1 00:13:52.784631                 0.7703                   0.7754    0.7116   \n",
       "2 00:43:38.681270                 0.3447                   0.3533    0.7747   \n",
       "3 00:08:21.524334                 0.2804                   0.2728    0.9279   \n",
       "4 00:21:06.903934                 0.7742                   0.7822    0.7113   \n",
       "5 00:14:37.386485                 0.6924                   0.7180    0.5690   \n",
       "6 00:14:44.563094                 0.8122                   0.8039    0.7565   \n",
       "\n",
       "   validation f1 Test Set F1-score (Kaggle score)  \n",
       "0         0.6869                          0.78087  \n",
       "1         0.6222                          0.78026  \n",
       "2         0.7016                          0.78302  \n",
       "3         0.8533                          0.77873  \n",
       "4         0.6760                          0.79313  \n",
       "5         0.5129                          0.78639  \n",
       "6         0.6341                          0.79068  "
      ]
     },
     "execution_count": 138,
     "metadata": {},
     "output_type": "execute_result"
    }
   ],
   "source": [
    "#Store the accuracy and kaggle score for this model \n",
    "results_tbl = results_tbl.append({'Model_name':'RNN #7', \n",
    "                                   'vocabulary size (factor1)':'400K',\n",
    "                                   'pre-trained vector (factor2)':'GloVe.6B.200d',\n",
    "                                   'RNN structure (factor3)':'GRU layer based',\n",
    "                                   'hyperparameter recurrent_dropout (factor4)': '0.1',\n",
    "                                   'Processing Time':(end-start),\n",
    "                                   'Training Set Accuracy':best_model_train_accuracy,\n",
    "                                   'Validation Set Accuracy':best_model_val_accuracy,\n",
    "                                   'train f1':best_model_train_f1,\n",
    "                                   'validation f1':best_model_val_f1,\n",
    "                                   'Test Set F1-score (Kaggle score)': ''\n",
    "                                   },ignore_index=True)\n",
    "results_tbl\n"
   ]
  },
  {
   "cell_type": "markdown",
   "metadata": {},
   "source": [
    "# Fit RNN 8\n",
    "# vocabulary size (factor 1): 400K\n",
    "# pre-trained vector (factor 2): GloVe.6B.200d\n",
    "# rnn structure (factor 3): GRU based structure\n",
    "# recurrent dropout (factor 4): 0.3"
   ]
  },
  {
   "cell_type": "code",
   "execution_count": 139,
   "metadata": {},
   "outputs": [],
   "source": [
    "model8 = keras.models.Sequential([\n",
    "    keras.layers.Embedding(len(word2index)+1,200,weights=[embedding_matrix],input_length=maxlen,trainable=False),\n",
    "    keras.layers.GRU(units=128 , return_sequences = True , recurrent_dropout = 0.3 , dropout = 0.3),\n",
    "    keras.layers.GRU(units=64 , recurrent_dropout = 0.3 , dropout = 0.3),\n",
    "    keras.layers.Dense(32, activation='relu'),\n",
    "    keras.layers.Dense(1, activation='sigmoid')\n",
    "])\n"
   ]
  },
  {
   "cell_type": "code",
   "execution_count": 140,
   "metadata": {},
   "outputs": [
    {
     "name": "stdout",
     "output_type": "stream",
     "text": [
      "Model: \"sequential_11\"\n",
      "_________________________________________________________________\n",
      "Layer (type)                 Output Shape              Param #   \n",
      "=================================================================\n",
      "embedding_11 (Embedding)     (None, 31, 200)           2451400   \n",
      "_________________________________________________________________\n",
      "gru_6 (GRU)                  (None, 31, 128)           126720    \n",
      "_________________________________________________________________\n",
      "gru_7 (GRU)                  (None, 64)                37248     \n",
      "_________________________________________________________________\n",
      "dense_22 (Dense)             (None, 32)                2080      \n",
      "_________________________________________________________________\n",
      "dense_23 (Dense)             (None, 1)                 33        \n",
      "=================================================================\n",
      "Total params: 2,617,481\n",
      "Trainable params: 166,081\n",
      "Non-trainable params: 2,451,400\n",
      "_________________________________________________________________\n"
     ]
    }
   ],
   "source": [
    "model8.summary()"
   ]
  },
  {
   "cell_type": "code",
   "execution_count": 141,
   "metadata": {},
   "outputs": [],
   "source": [
    "opt=Adam(learning_rate=1e-5)\n",
    "model8.compile(\n",
    "  loss='binary_crossentropy',\n",
    "  optimizer=opt,\n",
    "  metrics=['accuracy', f1_m],\n",
    ")\n"
   ]
  },
  {
   "cell_type": "code",
   "execution_count": 142,
   "metadata": {},
   "outputs": [
    {
     "name": "stdout",
     "output_type": "stream",
     "text": [
      "Epoch 1/40\n",
      "167/167 [==============================] - 22s 129ms/step - loss: 0.7002 - accuracy: 0.5055 - f1_m: 0.3008 - val_loss: 0.6898 - val_accuracy: 0.5504 - val_f1_m: 0.1559\n",
      "Epoch 2/40\n",
      "167/167 [==============================] - 23s 139ms/step - loss: 0.6794 - accuracy: 0.5757 - f1_m: 0.3002 - val_loss: 0.6704 - val_accuracy: 0.5841 - val_f1_m: 0.1847\n",
      "Epoch 3/40\n",
      "167/167 [==============================] - 26s 153ms/step - loss: 0.6638 - accuracy: 0.6080 - f1_m: 0.3408 - val_loss: 0.6506 - val_accuracy: 0.6414 - val_f1_m: 0.2922\n",
      "Epoch 4/40\n",
      "167/167 [==============================] - 25s 148ms/step - loss: 0.6470 - accuracy: 0.6495 - f1_m: 0.4451 - val_loss: 0.6302 - val_accuracy: 0.6791 - val_f1_m: 0.3804\n",
      "Epoch 5/40\n",
      "167/167 [==============================] - 24s 145ms/step - loss: 0.6310 - accuracy: 0.6767 - f1_m: 0.5259 - val_loss: 0.6095 - val_accuracy: 0.7180 - val_f1_m: 0.4581\n",
      "Epoch 6/40\n",
      "167/167 [==============================] - 31s 188ms/step - loss: 0.6146 - accuracy: 0.6986 - f1_m: 0.5675 - val_loss: 0.5896 - val_accuracy: 0.7342 - val_f1_m: 0.5042\n",
      "Epoch 7/40\n",
      "167/167 [==============================] - 31s 188ms/step - loss: 0.5993 - accuracy: 0.7123 - f1_m: 0.6058 - val_loss: 0.5707 - val_accuracy: 0.7447 - val_f1_m: 0.5260\n",
      "Epoch 8/40\n",
      "167/167 [==============================] - 37s 219ms/step - loss: 0.5823 - accuracy: 0.7290 - f1_m: 0.6371 - val_loss: 0.5524 - val_accuracy: 0.7609 - val_f1_m: 0.5565\n",
      "Epoch 9/40\n",
      "167/167 [==============================] - 38s 229ms/step - loss: 0.5685 - accuracy: 0.7363 - f1_m: 0.6492 - val_loss: 0.5364 - val_accuracy: 0.7653 - val_f1_m: 0.5665\n",
      "Epoch 10/40\n",
      "167/167 [==============================] - 39s 232ms/step - loss: 0.5561 - accuracy: 0.7440 - f1_m: 0.6655 - val_loss: 0.5225 - val_accuracy: 0.7596 - val_f1_m: 0.5682\n",
      "Epoch 11/40\n",
      "167/167 [==============================] - 38s 226ms/step - loss: 0.5445 - accuracy: 0.7484 - f1_m: 0.6742 - val_loss: 0.5112 - val_accuracy: 0.7666 - val_f1_m: 0.5747\n",
      "Epoch 12/40\n",
      "167/167 [==============================] - 37s 224ms/step - loss: 0.5334 - accuracy: 0.7506 - f1_m: 0.6824 - val_loss: 0.5016 - val_accuracy: 0.7715 - val_f1_m: 0.5751\n",
      "Epoch 13/40\n",
      "167/167 [==============================] - 39s 234ms/step - loss: 0.5238 - accuracy: 0.7532 - f1_m: 0.6825 - val_loss: 0.4928 - val_accuracy: 0.7750 - val_f1_m: 0.5844\n",
      "Epoch 14/40\n",
      "167/167 [==============================] - 38s 230ms/step - loss: 0.5156 - accuracy: 0.7602 - f1_m: 0.6923 - val_loss: 0.4860 - val_accuracy: 0.7771 - val_f1_m: 0.5926\n",
      "Epoch 15/40\n",
      "167/167 [==============================] - 38s 226ms/step - loss: 0.5137 - accuracy: 0.7562 - f1_m: 0.6884 - val_loss: 0.4803 - val_accuracy: 0.7811 - val_f1_m: 0.5934\n",
      "Epoch 16/40\n",
      "167/167 [==============================] - 39s 233ms/step - loss: 0.5091 - accuracy: 0.7675 - f1_m: 0.7041 - val_loss: 0.4752 - val_accuracy: 0.7802 - val_f1_m: 0.5937\n",
      "Epoch 17/40\n",
      "167/167 [==============================] - 37s 222ms/step - loss: 0.4971 - accuracy: 0.7733 - f1_m: 0.7109 - val_loss: 0.4709 - val_accuracy: 0.7811 - val_f1_m: 0.5860\n",
      "Epoch 18/40\n",
      "167/167 [==============================] - 37s 223ms/step - loss: 0.4985 - accuracy: 0.7681 - f1_m: 0.6991 - val_loss: 0.4671 - val_accuracy: 0.7868 - val_f1_m: 0.5914\n",
      "Epoch 19/40\n",
      "167/167 [==============================] - 41s 244ms/step - loss: 0.4922 - accuracy: 0.7694 - f1_m: 0.6996 - val_loss: 0.4632 - val_accuracy: 0.7868 - val_f1_m: 0.5963\n",
      "Epoch 20/40\n",
      "167/167 [==============================] - 38s 228ms/step - loss: 0.4868 - accuracy: 0.7799 - f1_m: 0.7140 - val_loss: 0.4598 - val_accuracy: 0.7881 - val_f1_m: 0.5988\n",
      "Epoch 21/40\n",
      "167/167 [==============================] - 38s 228ms/step - loss: 0.4851 - accuracy: 0.7810 - f1_m: 0.7200 - val_loss: 0.4575 - val_accuracy: 0.7938 - val_f1_m: 0.6173\n",
      "Epoch 22/40\n",
      "167/167 [==============================] - 31s 186ms/step - loss: 0.4821 - accuracy: 0.7833 - f1_m: 0.7227 - val_loss: 0.4543 - val_accuracy: 0.7912 - val_f1_m: 0.6008\n",
      "Epoch 23/40\n",
      "167/167 [==============================] - 37s 220ms/step - loss: 0.4771 - accuracy: 0.7814 - f1_m: 0.7160 - val_loss: 0.4517 - val_accuracy: 0.7872 - val_f1_m: 0.5995\n",
      "Epoch 24/40\n",
      "167/167 [==============================] - 35s 211ms/step - loss: 0.4781 - accuracy: 0.7833 - f1_m: 0.7205 - val_loss: 0.4497 - val_accuracy: 0.7859 - val_f1_m: 0.5964\n",
      "Epoch 25/40\n",
      "167/167 [==============================] - 22s 134ms/step - loss: 0.4751 - accuracy: 0.7808 - f1_m: 0.7164 - val_loss: 0.4477 - val_accuracy: 0.7951 - val_f1_m: 0.6156\n",
      "Epoch 26/40\n",
      "167/167 [==============================] - 20s 122ms/step - loss: 0.4721 - accuracy: 0.7861 - f1_m: 0.7208 - val_loss: 0.4458 - val_accuracy: 0.7868 - val_f1_m: 0.5946\n",
      "Epoch 27/40\n",
      "167/167 [==============================] - 20s 120ms/step - loss: 0.4703 - accuracy: 0.7904 - f1_m: 0.7259 - val_loss: 0.4443 - val_accuracy: 0.7960 - val_f1_m: 0.6200\n",
      "Epoch 28/40\n",
      "167/167 [==============================] - 20s 123ms/step - loss: 0.4670 - accuracy: 0.7887 - f1_m: 0.7246 - val_loss: 0.4427 - val_accuracy: 0.7890 - val_f1_m: 0.5917\n",
      "Epoch 29/40\n",
      "167/167 [==============================] - 20s 121ms/step - loss: 0.4702 - accuracy: 0.7863 - f1_m: 0.7232 - val_loss: 0.4417 - val_accuracy: 0.7916 - val_f1_m: 0.5940\n",
      "Epoch 30/40\n",
      "167/167 [==============================] - 20s 121ms/step - loss: 0.4668 - accuracy: 0.7885 - f1_m: 0.7221 - val_loss: 0.4400 - val_accuracy: 0.7885 - val_f1_m: 0.5940\n",
      "Epoch 31/40\n",
      "167/167 [==============================] - 20s 120ms/step - loss: 0.4642 - accuracy: 0.7850 - f1_m: 0.7196 - val_loss: 0.4387 - val_accuracy: 0.7855 - val_f1_m: 0.5934\n",
      "Epoch 32/40\n",
      "167/167 [==============================] - 20s 121ms/step - loss: 0.4643 - accuracy: 0.7913 - f1_m: 0.7286 - val_loss: 0.4378 - val_accuracy: 0.7881 - val_f1_m: 0.5961\n",
      "Epoch 33/40\n",
      "167/167 [==============================] - 20s 121ms/step - loss: 0.4579 - accuracy: 0.7941 - f1_m: 0.7298 - val_loss: 0.4372 - val_accuracy: 0.7877 - val_f1_m: 0.5939\n",
      "Epoch 34/40\n",
      "167/167 [==============================] - 20s 122ms/step - loss: 0.4610 - accuracy: 0.7951 - f1_m: 0.7326 - val_loss: 0.4360 - val_accuracy: 0.7890 - val_f1_m: 0.5953\n",
      "Epoch 35/40\n",
      "167/167 [==============================] - 20s 120ms/step - loss: 0.4563 - accuracy: 0.7979 - f1_m: 0.7380 - val_loss: 0.4354 - val_accuracy: 0.7890 - val_f1_m: 0.5953\n",
      "Epoch 36/40\n",
      "167/167 [==============================] - 20s 122ms/step - loss: 0.4605 - accuracy: 0.7904 - f1_m: 0.7232 - val_loss: 0.4350 - val_accuracy: 0.7907 - val_f1_m: 0.5927\n",
      "Epoch 37/40\n",
      "167/167 [==============================] - 20s 121ms/step - loss: 0.4564 - accuracy: 0.7958 - f1_m: 0.7330 - val_loss: 0.4341 - val_accuracy: 0.7907 - val_f1_m: 0.5930\n",
      "Epoch 38/40\n",
      "167/167 [==============================] - 20s 120ms/step - loss: 0.4578 - accuracy: 0.7913 - f1_m: 0.7281 - val_loss: 0.4336 - val_accuracy: 0.7920 - val_f1_m: 0.5939\n",
      "Epoch 39/40\n",
      "167/167 [==============================] - 20s 120ms/step - loss: 0.4573 - accuracy: 0.7979 - f1_m: 0.7326 - val_loss: 0.4322 - val_accuracy: 0.7916 - val_f1_m: 0.6040\n",
      "Epoch 40/40\n",
      "167/167 [==============================] - 21s 126ms/step - loss: 0.4539 - accuracy: 0.7962 - f1_m: 0.7326 - val_loss: 0.4315 - val_accuracy: 0.7920 - val_f1_m: 0.5982\n",
      "0:19:17.637735\n"
     ]
    }
   ],
   "source": [
    "# Fit the model; obtain the model fit time\n",
    "start=datetime.now()\n",
    "history8 = model8.fit(X_train,Y_train,\n",
    "                    batch_size=32,\n",
    "                    epochs=40,\n",
    "                    validation_split=0.3\n",
    ")\n",
    "end=datetime.now()\n",
    "print(end-start)"
   ]
  },
  {
   "cell_type": "code",
   "execution_count": 143,
   "metadata": {},
   "outputs": [
    {
     "name": "stdout",
     "output_type": "stream",
     "text": [
      "Best Train Accuracy: \n"
     ]
    },
    {
     "data": {
      "text/plain": [
       "0.7962"
      ]
     },
     "execution_count": 143,
     "metadata": {},
     "output_type": "execute_result"
    }
   ],
   "source": [
    "print ('Best Train Accuracy: ')\n",
    "best_model_train_accuracy = np.round(history8.history['accuracy'][np.argmin(history8.history['loss'])],4)\n",
    "best_model_train_accuracy"
   ]
  },
  {
   "cell_type": "code",
   "execution_count": 144,
   "metadata": {},
   "outputs": [
    {
     "name": "stdout",
     "output_type": "stream",
     "text": [
      "Best Validation Accuracy: \n"
     ]
    },
    {
     "data": {
      "text/plain": [
       "0.792"
      ]
     },
     "execution_count": 144,
     "metadata": {},
     "output_type": "execute_result"
    }
   ],
   "source": [
    "print ('Best Validation Accuracy: ')\n",
    "best_model_val_accuracy = np.round(history8.history['val_accuracy'][np.argmin(history8.history['val_loss'])],4)\n",
    "best_model_val_accuracy"
   ]
  },
  {
   "cell_type": "code",
   "execution_count": 145,
   "metadata": {},
   "outputs": [
    {
     "name": "stdout",
     "output_type": "stream",
     "text": [
      "Best Train f1: 0.738\n",
      "Best val f1: 0.62\n"
     ]
    }
   ],
   "source": [
    "best_model_train_f1 = max(np.round(history8.history['f1_m'],4))\n",
    "print ('Best Train f1: {}'.format(best_model_train_f1))\n",
    "\n",
    "best_model_val_f1 = max(np.round(history8.history['val_f1_m'],4))\n",
    "print ('Best val f1: {}'.format(best_model_val_f1))"
   ]
  },
  {
   "cell_type": "code",
   "execution_count": 146,
   "metadata": {},
   "outputs": [
    {
     "data": {
      "image/png": "[encoded data removed]",
      "text/plain": [
       "<Figure size 720x576 with 1 Axes>"
      ]
     },
     "metadata": {
      "needs_background": "light"
     },
     "output_type": "display_data"
    }
   ],
   "source": [
    "# Plot the learning curve\n",
    "pd.DataFrame(history8.history).plot(figsize=(10, 8))\n",
    "plt.grid(True)\n",
    "plt.gca().set_ylim(0, 1) # set the vertical range to [0-1]\n",
    "plt.title('Learning curve - factor1: 400K, factor2: GloVe.6B.200d, factor3: GRU, factor4: 0.3')\n",
    "plt.show()"
   ]
  },
  {
   "cell_type": "markdown",
   "metadata": {},
   "source": [
    "# model 8 predictions (1=disaster tweet)"
   ]
  },
  {
   "cell_type": "code",
   "execution_count": 147,
   "metadata": {},
   "outputs": [
    {
     "data": {
      "text/plain": [
       "array([[1],\n",
       "       [1],\n",
       "       [1],\n",
       "       ...,\n",
       "       [1],\n",
       "       [1],\n",
       "       [0]], dtype=int32)"
      ]
     },
     "execution_count": 147,
     "metadata": {},
     "output_type": "execute_result"
    }
   ],
   "source": [
    "predict8 = model8.predict_classes(X_test)\n",
    "predict8\n"
   ]
  },
  {
   "cell_type": "code",
   "execution_count": 148,
   "metadata": {},
   "outputs": [],
   "source": [
    "# save the results to a csv\n",
    "submission_df = pd.DataFrame({'id':test_tweets['id'],'target':np.squeeze(predict8)})\n",
    "submission_df.to_csv('submission_rnn_8.csv',index=False)\n"
   ]
  },
  {
   "cell_type": "code",
   "execution_count": 149,
   "metadata": {},
   "outputs": [
    {
     "data": {
      "text/html": [
       "<div>\n",
       "<style scoped>\n",
       "    .dataframe tbody tr th:only-of-type {\n",
       "        vertical-align: middle;\n",
       "    }\n",
       "\n",
       "    .dataframe tbody tr th {\n",
       "        vertical-align: top;\n",
       "    }\n",
       "\n",
       "    .dataframe thead th {\n",
       "        text-align: right;\n",
       "    }\n",
       "</style>\n",
       "<table border=\"1\" class=\"dataframe\">\n",
       "  <thead>\n",
       "    <tr style=\"text-align: right;\">\n",
       "      <th></th>\n",
       "      <th>Model_name</th>\n",
       "      <th>vocabulary size (factor1)</th>\n",
       "      <th>pre-trained vector (factor2)</th>\n",
       "      <th>RNN structure (factor3)</th>\n",
       "      <th>hyperparameter recurrent_dropout (factor4)</th>\n",
       "      <th>Processing Time</th>\n",
       "      <th>Training Set Accuracy</th>\n",
       "      <th>Validation Set Accuracy</th>\n",
       "      <th>train f1</th>\n",
       "      <th>validation f1</th>\n",
       "      <th>Test Set F1-score (Kaggle score)</th>\n",
       "    </tr>\n",
       "  </thead>\n",
       "  <tbody>\n",
       "    <tr>\n",
       "      <th>0</th>\n",
       "      <td>RNN #1</td>\n",
       "      <td>400K</td>\n",
       "      <td>GloVe.6B.50d</td>\n",
       "      <td>LSTM layer based</td>\n",
       "      <td>0.1</td>\n",
       "      <td>00:14:13.500154</td>\n",
       "      <td>0.3019</td>\n",
       "      <td>0.3586</td>\n",
       "      <td>0.7372</td>\n",
       "      <td>0.6869</td>\n",
       "      <td>0.78087</td>\n",
       "    </tr>\n",
       "    <tr>\n",
       "      <th>1</th>\n",
       "      <td>RNN #2</td>\n",
       "      <td>400K</td>\n",
       "      <td>GloVe.6B.50d</td>\n",
       "      <td>LSTM layer based</td>\n",
       "      <td>0.3</td>\n",
       "      <td>00:13:52.784631</td>\n",
       "      <td>0.7703</td>\n",
       "      <td>0.7754</td>\n",
       "      <td>0.7116</td>\n",
       "      <td>0.6222</td>\n",
       "      <td>0.78026</td>\n",
       "    </tr>\n",
       "    <tr>\n",
       "      <th>2</th>\n",
       "      <td>RNN #3</td>\n",
       "      <td>400K</td>\n",
       "      <td>GloVe.6B.50d</td>\n",
       "      <td>GRU layer based</td>\n",
       "      <td>0.1</td>\n",
       "      <td>00:43:38.681270</td>\n",
       "      <td>0.3447</td>\n",
       "      <td>0.3533</td>\n",
       "      <td>0.7747</td>\n",
       "      <td>0.7016</td>\n",
       "      <td>0.78302</td>\n",
       "    </tr>\n",
       "    <tr>\n",
       "      <th>3</th>\n",
       "      <td>RNN #4</td>\n",
       "      <td>400K</td>\n",
       "      <td>GloVe.6B.50d</td>\n",
       "      <td>GRU layer based</td>\n",
       "      <td>0.3</td>\n",
       "      <td>00:08:21.524334</td>\n",
       "      <td>0.2804</td>\n",
       "      <td>0.2728</td>\n",
       "      <td>0.9279</td>\n",
       "      <td>0.8533</td>\n",
       "      <td>0.77873</td>\n",
       "    </tr>\n",
       "    <tr>\n",
       "      <th>4</th>\n",
       "      <td>RNN #5</td>\n",
       "      <td>400K</td>\n",
       "      <td>GloVe.6B.200d</td>\n",
       "      <td>LSTM layer based</td>\n",
       "      <td>0.1</td>\n",
       "      <td>00:21:06.903934</td>\n",
       "      <td>0.7742</td>\n",
       "      <td>0.7822</td>\n",
       "      <td>0.7113</td>\n",
       "      <td>0.6760</td>\n",
       "      <td>0.79313</td>\n",
       "    </tr>\n",
       "    <tr>\n",
       "      <th>5</th>\n",
       "      <td>RNN #6</td>\n",
       "      <td>400K</td>\n",
       "      <td>GloVe.6B.200d</td>\n",
       "      <td>LSTM layer based</td>\n",
       "      <td>0.3</td>\n",
       "      <td>00:14:37.386485</td>\n",
       "      <td>0.6924</td>\n",
       "      <td>0.7180</td>\n",
       "      <td>0.5690</td>\n",
       "      <td>0.5129</td>\n",
       "      <td>0.78639</td>\n",
       "    </tr>\n",
       "    <tr>\n",
       "      <th>6</th>\n",
       "      <td>RNN #7</td>\n",
       "      <td>400K</td>\n",
       "      <td>GloVe.6B.200d</td>\n",
       "      <td>GRU layer based</td>\n",
       "      <td>0.1</td>\n",
       "      <td>00:14:44.563094</td>\n",
       "      <td>0.8122</td>\n",
       "      <td>0.8039</td>\n",
       "      <td>0.7565</td>\n",
       "      <td>0.6341</td>\n",
       "      <td>0.79068</td>\n",
       "    </tr>\n",
       "    <tr>\n",
       "      <th>7</th>\n",
       "      <td>RNN #8</td>\n",
       "      <td>400K</td>\n",
       "      <td>GloVe.6B.200d</td>\n",
       "      <td>GRU layer based</td>\n",
       "      <td>0.3</td>\n",
       "      <td>00:19:17.637735</td>\n",
       "      <td>0.7962</td>\n",
       "      <td>0.7920</td>\n",
       "      <td>0.7380</td>\n",
       "      <td>0.6200</td>\n",
       "      <td>0.78608</td>\n",
       "    </tr>\n",
       "  </tbody>\n",
       "</table>\n",
       "</div>"
      ],
      "text/plain": [
       "  Model_name vocabulary size (factor1) pre-trained vector (factor2)  \\\n",
       "0     RNN #1                      400K                 GloVe.6B.50d   \n",
       "1     RNN #2                      400K                 GloVe.6B.50d   \n",
       "2     RNN #3                      400K                 GloVe.6B.50d   \n",
       "3     RNN #4                      400K                 GloVe.6B.50d   \n",
       "4     RNN #5                      400K                GloVe.6B.200d   \n",
       "5     RNN #6                      400K                GloVe.6B.200d   \n",
       "6     RNN #7                      400K                GloVe.6B.200d   \n",
       "7     RNN #8                      400K                GloVe.6B.200d   \n",
       "\n",
       "  RNN structure (factor3) hyperparameter recurrent_dropout (factor4)  \\\n",
       "0        LSTM layer based                                        0.1   \n",
       "1        LSTM layer based                                        0.3   \n",
       "2         GRU layer based                                        0.1   \n",
       "3         GRU layer based                                        0.3   \n",
       "4        LSTM layer based                                        0.1   \n",
       "5        LSTM layer based                                        0.3   \n",
       "6         GRU layer based                                        0.1   \n",
       "7         GRU layer based                                        0.3   \n",
       "\n",
       "  Processing Time  Training Set Accuracy  Validation Set Accuracy  train f1  \\\n",
       "0 00:14:13.500154                 0.3019                   0.3586    0.7372   \n",
       "1 00:13:52.784631                 0.7703                   0.7754    0.7116   \n",
       "2 00:43:38.681270                 0.3447                   0.3533    0.7747   \n",
       "3 00:08:21.524334                 0.2804                   0.2728    0.9279   \n",
       "4 00:21:06.903934                 0.7742                   0.7822    0.7113   \n",
       "5 00:14:37.386485                 0.6924                   0.7180    0.5690   \n",
       "6 00:14:44.563094                 0.8122                   0.8039    0.7565   \n",
       "7 00:19:17.637735                 0.7962                   0.7920    0.7380   \n",
       "\n",
       "   validation f1 Test Set F1-score (Kaggle score)  \n",
       "0         0.6869                          0.78087  \n",
       "1         0.6222                          0.78026  \n",
       "2         0.7016                          0.78302  \n",
       "3         0.8533                          0.77873  \n",
       "4         0.6760                          0.79313  \n",
       "5         0.5129                          0.78639  \n",
       "6         0.6341                          0.79068  \n",
       "7         0.6200                          0.78608  "
      ]
     },
     "execution_count": 149,
     "metadata": {},
     "output_type": "execute_result"
    }
   ],
   "source": [
    "#Store the accuracy and kaggle score for this model \n",
    "results_tbl = results_tbl.append({'Model_name':'RNN #8', \n",
    "                                   'vocabulary size (factor1)':'400K',\n",
    "                                   'pre-trained vector (factor2)':'GloVe.6B.200d',\n",
    "                                   'RNN structure (factor3)':'GRU layer based',\n",
    "                                   'hyperparameter recurrent_dropout (factor4)': '0.3',\n",
    "                                   'Processing Time':(end-start),\n",
    "                                   'Training Set Accuracy':best_model_train_accuracy,\n",
    "                                   'Validation Set Accuracy':best_model_val_accuracy,\n",
    "                                   'train f1':best_model_train_f1,\n",
    "                                   'validation f1':best_model_val_f1,\n",
    "                                   'Test Set F1-score (Kaggle score)': ''\n",
    "                                   },ignore_index=True)\n",
    "results_tbl"
   ]
  },
  {
   "cell_type": "markdown",
   "metadata": {},
   "source": [
    "# Fit RNN 9\n",
    "# vocabulary size (factor 1): 400K\n",
    "# pre-trained vector (factor 2): GloVe.6B.200d\n",
    "# rnn structure (factor 3): GRU based structure\n",
    "# recurrent dropout (factor 4): 0.3"
   ]
  },
  {
   "cell_type": "code",
   "execution_count": 150,
   "metadata": {},
   "outputs": [],
   "source": [
    "model9 = keras.models.Sequential([\n",
    "    keras.layers.Embedding(len(word2index)+1,\n",
    "                           dims,\n",
    "                           weights=[embedding_matrix],\n",
    "                           input_length=maxlen,\n",
    "                           trainable=False),\n",
    "    keras.layers.GRU(units=128, return_sequences = True, recurrent_dropout = 0.3, dropout = 0.3),\n",
    "    keras.layers.GRU(units=64, recurrent_dropout = 0.3, dropout = 0.3),\n",
    "    keras.layers.Dense(32, activation='tanh'),\n",
    "    keras.layers.Dense(1, activation='sigmoid')\n",
    "])"
   ]
  },
  {
   "cell_type": "code",
   "execution_count": 151,
   "metadata": {},
   "outputs": [
    {
     "name": "stdout",
     "output_type": "stream",
     "text": [
      "Model: \"sequential_12\"\n",
      "_________________________________________________________________\n",
      "Layer (type)                 Output Shape              Param #   \n",
      "=================================================================\n",
      "embedding_12 (Embedding)     (None, 31, 200)           2451400   \n",
      "_________________________________________________________________\n",
      "gru_8 (GRU)                  (None, 31, 128)           126720    \n",
      "_________________________________________________________________\n",
      "gru_9 (GRU)                  (None, 64)                37248     \n",
      "_________________________________________________________________\n",
      "dense_24 (Dense)             (None, 32)                2080      \n",
      "_________________________________________________________________\n",
      "dense_25 (Dense)             (None, 1)                 33        \n",
      "=================================================================\n",
      "Total params: 2,617,481\n",
      "Trainable params: 166,081\n",
      "Non-trainable params: 2,451,400\n",
      "_________________________________________________________________\n"
     ]
    }
   ],
   "source": [
    "model9.summary()"
   ]
  },
  {
   "cell_type": "code",
   "execution_count": 152,
   "metadata": {},
   "outputs": [],
   "source": [
    "opt=Adam(learning_rate=1e-5)\n",
    "model9.compile(\n",
    "  loss='binary_crossentropy',\n",
    "  optimizer=opt,\n",
    "  metrics=['accuracy', f1_m],\n",
    ")"
   ]
  },
  {
   "cell_type": "code",
   "execution_count": 153,
   "metadata": {},
   "outputs": [
    {
     "name": "stdout",
     "output_type": "stream",
     "text": [
      "Epoch 1/40\n",
      "167/167 [==============================] - 21s 124ms/step - loss: 0.6873 - accuracy: 0.5491 - f1_m: 0.4258 - val_loss: 0.6650 - val_accuracy: 0.6322 - val_f1_m: 0.2998\n",
      "Epoch 2/40\n",
      "167/167 [==============================] - 20s 119ms/step - loss: 0.6603 - accuracy: 0.6239 - f1_m: 0.3938 - val_loss: 0.6447 - val_accuracy: 0.6537 - val_f1_m: 0.3116\n",
      "Epoch 3/40\n",
      "167/167 [==============================] - 22s 129ms/step - loss: 0.6447 - accuracy: 0.6470 - f1_m: 0.4281 - val_loss: 0.6239 - val_accuracy: 0.6970 - val_f1_m: 0.4044\n",
      "Epoch 4/40\n",
      "167/167 [==============================] - 21s 123ms/step - loss: 0.6275 - accuracy: 0.6791 - f1_m: 0.5170 - val_loss: 0.6036 - val_accuracy: 0.7189 - val_f1_m: 0.4660\n",
      "Epoch 5/40\n",
      "167/167 [==============================] - 24s 143ms/step - loss: 0.6095 - accuracy: 0.6988 - f1_m: 0.5648 - val_loss: 0.5828 - val_accuracy: 0.7452 - val_f1_m: 0.5202\n",
      "Epoch 6/40\n",
      "167/167 [==============================] - 21s 124ms/step - loss: 0.5927 - accuracy: 0.7095 - f1_m: 0.5919 - val_loss: 0.5630 - val_accuracy: 0.7518 - val_f1_m: 0.5467\n",
      "Epoch 7/40\n",
      "167/167 [==============================] - 20s 123ms/step - loss: 0.5781 - accuracy: 0.7238 - f1_m: 0.6270 - val_loss: 0.5454 - val_accuracy: 0.7605 - val_f1_m: 0.5625\n",
      "Epoch 8/40\n",
      "167/167 [==============================] - 20s 121ms/step - loss: 0.5624 - accuracy: 0.7287 - f1_m: 0.6398 - val_loss: 0.5301 - val_accuracy: 0.7636 - val_f1_m: 0.5680\n",
      "Epoch 9/40\n",
      "167/167 [==============================] - 22s 134ms/step - loss: 0.5534 - accuracy: 0.7358 - f1_m: 0.6525 - val_loss: 0.5173 - val_accuracy: 0.7658 - val_f1_m: 0.5720\n",
      "Epoch 10/40\n",
      "167/167 [==============================] - 27s 161ms/step - loss: 0.5447 - accuracy: 0.7392 - f1_m: 0.6627 - val_loss: 0.5073 - val_accuracy: 0.7723 - val_f1_m: 0.5891\n",
      "Epoch 11/40\n",
      "167/167 [==============================] - 23s 136ms/step - loss: 0.5349 - accuracy: 0.7476 - f1_m: 0.6751 - val_loss: 0.4992 - val_accuracy: 0.7750 - val_f1_m: 0.5955\n",
      "Epoch 12/40\n",
      "167/167 [==============================] - 22s 130ms/step - loss: 0.5257 - accuracy: 0.7480 - f1_m: 0.6774 - val_loss: 0.4927 - val_accuracy: 0.7793 - val_f1_m: 0.5963\n",
      "Epoch 13/40\n",
      "167/167 [==============================] - 21s 126ms/step - loss: 0.5205 - accuracy: 0.7538 - f1_m: 0.6853 - val_loss: 0.4866 - val_accuracy: 0.7802 - val_f1_m: 0.5982\n",
      "Epoch 14/40\n",
      "167/167 [==============================] - 21s 125ms/step - loss: 0.5158 - accuracy: 0.7523 - f1_m: 0.6849 - val_loss: 0.4819 - val_accuracy: 0.7806 - val_f1_m: 0.5911\n",
      "Epoch 15/40\n",
      "167/167 [==============================] - 24s 146ms/step - loss: 0.5083 - accuracy: 0.7664 - f1_m: 0.6976 - val_loss: 0.4781 - val_accuracy: 0.7842 - val_f1_m: 0.5923\n",
      "Epoch 16/40\n",
      "167/167 [==============================] - 22s 129ms/step - loss: 0.5073 - accuracy: 0.7639 - f1_m: 0.6976 - val_loss: 0.4737 - val_accuracy: 0.7789 - val_f1_m: 0.5907\n",
      "Epoch 17/40\n",
      "167/167 [==============================] - 23s 135ms/step - loss: 0.5005 - accuracy: 0.7709 - f1_m: 0.7086 - val_loss: 0.4708 - val_accuracy: 0.7859 - val_f1_m: 0.5923\n",
      "Epoch 18/40\n",
      "167/167 [==============================] - 21s 127ms/step - loss: 0.4954 - accuracy: 0.7703 - f1_m: 0.7015 - val_loss: 0.4675 - val_accuracy: 0.7855 - val_f1_m: 0.5920\n",
      "Epoch 19/40\n",
      "167/167 [==============================] - 23s 138ms/step - loss: 0.4907 - accuracy: 0.7722 - f1_m: 0.7061 - val_loss: 0.4645 - val_accuracy: 0.7855 - val_f1_m: 0.5899\n",
      "Epoch 20/40\n",
      "167/167 [==============================] - 23s 139ms/step - loss: 0.4935 - accuracy: 0.7769 - f1_m: 0.7122 - val_loss: 0.4614 - val_accuracy: 0.7846 - val_f1_m: 0.5917\n",
      "Epoch 21/40\n",
      "167/167 [==============================] - 25s 148ms/step - loss: 0.4854 - accuracy: 0.7825 - f1_m: 0.7211 - val_loss: 0.4587 - val_accuracy: 0.7877 - val_f1_m: 0.5997\n",
      "Epoch 22/40\n",
      "167/167 [==============================] - 22s 132ms/step - loss: 0.4829 - accuracy: 0.7786 - f1_m: 0.7164 - val_loss: 0.4563 - val_accuracy: 0.7868 - val_f1_m: 0.5936\n",
      "Epoch 23/40\n",
      "167/167 [==============================] - 22s 130ms/step - loss: 0.4826 - accuracy: 0.7801 - f1_m: 0.7150 - val_loss: 0.4543 - val_accuracy: 0.7903 - val_f1_m: 0.5974\n",
      "Epoch 24/40\n",
      "167/167 [==============================] - 24s 145ms/step - loss: 0.4780 - accuracy: 0.7825 - f1_m: 0.7187 - val_loss: 0.4521 - val_accuracy: 0.7916 - val_f1_m: 0.5986\n",
      "Epoch 25/40\n",
      "167/167 [==============================] - 24s 144ms/step - loss: 0.4778 - accuracy: 0.7818 - f1_m: 0.7178 - val_loss: 0.4504 - val_accuracy: 0.7898 - val_f1_m: 0.5956\n",
      "Epoch 26/40\n",
      "167/167 [==============================] - 23s 138ms/step - loss: 0.4758 - accuracy: 0.7853 - f1_m: 0.7193 - val_loss: 0.4489 - val_accuracy: 0.7912 - val_f1_m: 0.5963\n",
      "Epoch 27/40\n",
      "167/167 [==============================] - 23s 139ms/step - loss: 0.4705 - accuracy: 0.7836 - f1_m: 0.7195 - val_loss: 0.4469 - val_accuracy: 0.7898 - val_f1_m: 0.6006\n",
      "Epoch 28/40\n",
      "167/167 [==============================] - 24s 141ms/step - loss: 0.4708 - accuracy: 0.7868 - f1_m: 0.7223 - val_loss: 0.4462 - val_accuracy: 0.7894 - val_f1_m: 0.5910\n",
      "Epoch 29/40\n",
      "167/167 [==============================] - 22s 134ms/step - loss: 0.4698 - accuracy: 0.7866 - f1_m: 0.7222 - val_loss: 0.4449 - val_accuracy: 0.7920 - val_f1_m: 0.5968\n",
      "Epoch 30/40\n",
      "167/167 [==============================] - 22s 133ms/step - loss: 0.4685 - accuracy: 0.7881 - f1_m: 0.7219 - val_loss: 0.4436 - val_accuracy: 0.7947 - val_f1_m: 0.5993\n",
      "Epoch 31/40\n",
      "167/167 [==============================] - 24s 144ms/step - loss: 0.4698 - accuracy: 0.7910 - f1_m: 0.7300 - val_loss: 0.4420 - val_accuracy: 0.7916 - val_f1_m: 0.5982\n",
      "Epoch 32/40\n",
      "167/167 [==============================] - 21s 128ms/step - loss: 0.4672 - accuracy: 0.7904 - f1_m: 0.7247 - val_loss: 0.4409 - val_accuracy: 0.7929 - val_f1_m: 0.5989\n",
      "Epoch 33/40\n",
      "167/167 [==============================] - 21s 125ms/step - loss: 0.4615 - accuracy: 0.7947 - f1_m: 0.7312 - val_loss: 0.4405 - val_accuracy: 0.7955 - val_f1_m: 0.5998\n",
      "Epoch 34/40\n",
      "167/167 [==============================] - 21s 125ms/step - loss: 0.4626 - accuracy: 0.7951 - f1_m: 0.7351 - val_loss: 0.4395 - val_accuracy: 0.7947 - val_f1_m: 0.5999\n",
      "Epoch 35/40\n",
      "167/167 [==============================] - 22s 130ms/step - loss: 0.4616 - accuracy: 0.7904 - f1_m: 0.7276 - val_loss: 0.4385 - val_accuracy: 0.7938 - val_f1_m: 0.5995\n",
      "Epoch 36/40\n",
      "167/167 [==============================] - 21s 123ms/step - loss: 0.4599 - accuracy: 0.7947 - f1_m: 0.7312 - val_loss: 0.4382 - val_accuracy: 0.7951 - val_f1_m: 0.5992\n",
      "Epoch 37/40\n",
      "167/167 [==============================] - 23s 139ms/step - loss: 0.4615 - accuracy: 0.7904 - f1_m: 0.7237 - val_loss: 0.4379 - val_accuracy: 0.7947 - val_f1_m: 0.5983\n",
      "Epoch 38/40\n",
      "167/167 [==============================] - 20s 121ms/step - loss: 0.4601 - accuracy: 0.7945 - f1_m: 0.7310 - val_loss: 0.4373 - val_accuracy: 0.7960 - val_f1_m: 0.5972\n",
      "Epoch 39/40\n",
      "167/167 [==============================] - 20s 120ms/step - loss: 0.4587 - accuracy: 0.7958 - f1_m: 0.7278 - val_loss: 0.4359 - val_accuracy: 0.7942 - val_f1_m: 0.6030\n",
      "Epoch 40/40\n",
      "167/167 [==============================] - 20s 122ms/step - loss: 0.4578 - accuracy: 0.7919 - f1_m: 0.7288 - val_loss: 0.4360 - val_accuracy: 0.7951 - val_f1_m: 0.5969\n",
      "0:14:53.940924\n"
     ]
    }
   ],
   "source": [
    "# Fit the model; obtain the model fit time\n",
    "start=datetime.now()\n",
    "history9 = model9.fit(X_train,Y_train,\n",
    "                    batch_size=32,\n",
    "                    epochs=40,\n",
    "                    validation_split=0.3\n",
    ")\n",
    "end=datetime.now()\n",
    "print(end-start)"
   ]
  },
  {
   "cell_type": "code",
   "execution_count": 154,
   "metadata": {},
   "outputs": [
    {
     "name": "stdout",
     "output_type": "stream",
     "text": [
      "Best Train Accuracy: \n"
     ]
    },
    {
     "data": {
      "text/plain": [
       "0.7919"
      ]
     },
     "execution_count": 154,
     "metadata": {},
     "output_type": "execute_result"
    }
   ],
   "source": [
    "print ('Best Train Accuracy: ')\n",
    "best_model_train_accuracy = np.round(history9.history['accuracy'][np.argmin(history9.history['loss'])],4)\n",
    "best_model_train_accuracy"
   ]
  },
  {
   "cell_type": "code",
   "execution_count": 155,
   "metadata": {},
   "outputs": [
    {
     "name": "stdout",
     "output_type": "stream",
     "text": [
      "Best Validation Accuracy: \n"
     ]
    },
    {
     "data": {
      "text/plain": [
       "0.7942"
      ]
     },
     "execution_count": 155,
     "metadata": {},
     "output_type": "execute_result"
    }
   ],
   "source": [
    "print ('Best Validation Accuracy: ')\n",
    "best_model_val_accuracy = np.round(history9.history['val_accuracy'][np.argmin(history9.history['val_loss'])],4)\n",
    "best_model_val_accuracy"
   ]
  },
  {
   "cell_type": "code",
   "execution_count": 156,
   "metadata": {},
   "outputs": [
    {
     "name": "stdout",
     "output_type": "stream",
     "text": [
      "Best Train f1: 0.7351\n"
     ]
    }
   ],
   "source": [
    "best_model_train_f1 = max(np.round(history9.history['f1_m'],4))\n",
    "print ('Best Train f1: {}'.format(best_model_train_f1))"
   ]
  },
  {
   "cell_type": "code",
   "execution_count": 157,
   "metadata": {},
   "outputs": [
    {
     "name": "stdout",
     "output_type": "stream",
     "text": [
      "Best val f1: 0.603\n"
     ]
    }
   ],
   "source": [
    "best_model_val_f1 = max(np.round(history9.history['val_f1_m'],4))\n",
    "print ('Best val f1: {}'.format(best_model_val_f1))"
   ]
  },
  {
   "cell_type": "code",
   "execution_count": 158,
   "metadata": {},
   "outputs": [
    {
     "data": {
      "image/png": "[encoded data removed]",
      "text/plain": [
       "<Figure size 720x576 with 1 Axes>"
      ]
     },
     "metadata": {
      "needs_background": "light"
     },
     "output_type": "display_data"
    }
   ],
   "source": [
    "# Plot the learning curve\n",
    "pd.DataFrame(history9.history).plot(figsize=(10, 8))\n",
    "plt.grid(True)\n",
    "plt.gca().set_ylim(0, 1) # set the vertical range to [0-1]\n",
    "plt.title('Learning curve - factor1: 400K, factor2: GloVe.6B.200d, factor3: GRU, factor4: 0.3')\n",
    "plt.show()"
   ]
  },
  {
   "cell_type": "markdown",
   "metadata": {},
   "source": [
    "# model 9 predictions (1=disaster tweet)"
   ]
  },
  {
   "cell_type": "code",
   "execution_count": 159,
   "metadata": {},
   "outputs": [
    {
     "data": {
      "text/plain": [
       "array([[1],\n",
       "       [1],\n",
       "       [1],\n",
       "       ...,\n",
       "       [1],\n",
       "       [0],\n",
       "       [0]], dtype=int32)"
      ]
     },
     "execution_count": 159,
     "metadata": {},
     "output_type": "execute_result"
    }
   ],
   "source": [
    "predict9 = model9.predict_classes(X_test)\n",
    "predict9"
   ]
  },
  {
   "cell_type": "code",
   "execution_count": 160,
   "metadata": {},
   "outputs": [],
   "source": [
    "# save the results to a csv\n",
    "submission_df = pd.DataFrame({'id':test_tweets['id'],'target':np.squeeze(predict9)})\n",
    "submission_df.to_csv('submission_rnn_9.csv',index=False)"
   ]
  },
  {
   "cell_type": "code",
   "execution_count": 161,
   "metadata": {},
   "outputs": [
    {
     "data": {
      "text/html": [
       "<div>\n",
       "<style scoped>\n",
       "    .dataframe tbody tr th:only-of-type {\n",
       "        vertical-align: middle;\n",
       "    }\n",
       "\n",
       "    .dataframe tbody tr th {\n",
       "        vertical-align: top;\n",
       "    }\n",
       "\n",
       "    .dataframe thead th {\n",
       "        text-align: right;\n",
       "    }\n",
       "</style>\n",
       "<table border=\"1\" class=\"dataframe\">\n",
       "  <thead>\n",
       "    <tr style=\"text-align: right;\">\n",
       "      <th></th>\n",
       "      <th>Model_name</th>\n",
       "      <th>vocabulary size (factor1)</th>\n",
       "      <th>pre-trained vector (factor2)</th>\n",
       "      <th>RNN structure (factor3)</th>\n",
       "      <th>hyperparameter recurrent_dropout (factor4)</th>\n",
       "      <th>Processing Time</th>\n",
       "      <th>Training Set Accuracy</th>\n",
       "      <th>Validation Set Accuracy</th>\n",
       "      <th>train f1</th>\n",
       "      <th>validation f1</th>\n",
       "      <th>Test Set F1-score (Kaggle score)</th>\n",
       "    </tr>\n",
       "  </thead>\n",
       "  <tbody>\n",
       "    <tr>\n",
       "      <th>0</th>\n",
       "      <td>RNN #1</td>\n",
       "      <td>400K</td>\n",
       "      <td>GloVe.6B.50d</td>\n",
       "      <td>LSTM layer based</td>\n",
       "      <td>0.1</td>\n",
       "      <td>00:14:13.500154</td>\n",
       "      <td>0.3019</td>\n",
       "      <td>0.3586</td>\n",
       "      <td>0.7372</td>\n",
       "      <td>0.6869</td>\n",
       "      <td>0.78087</td>\n",
       "    </tr>\n",
       "    <tr>\n",
       "      <th>1</th>\n",
       "      <td>RNN #2</td>\n",
       "      <td>400K</td>\n",
       "      <td>GloVe.6B.50d</td>\n",
       "      <td>LSTM layer based</td>\n",
       "      <td>0.3</td>\n",
       "      <td>00:13:52.784631</td>\n",
       "      <td>0.7703</td>\n",
       "      <td>0.7754</td>\n",
       "      <td>0.7116</td>\n",
       "      <td>0.6222</td>\n",
       "      <td>0.78026</td>\n",
       "    </tr>\n",
       "    <tr>\n",
       "      <th>2</th>\n",
       "      <td>RNN #3</td>\n",
       "      <td>400K</td>\n",
       "      <td>GloVe.6B.50d</td>\n",
       "      <td>GRU layer based</td>\n",
       "      <td>0.1</td>\n",
       "      <td>00:43:38.681270</td>\n",
       "      <td>0.3447</td>\n",
       "      <td>0.3533</td>\n",
       "      <td>0.7747</td>\n",
       "      <td>0.7016</td>\n",
       "      <td>0.78302</td>\n",
       "    </tr>\n",
       "    <tr>\n",
       "      <th>3</th>\n",
       "      <td>RNN #4</td>\n",
       "      <td>400K</td>\n",
       "      <td>GloVe.6B.50d</td>\n",
       "      <td>GRU layer based</td>\n",
       "      <td>0.3</td>\n",
       "      <td>00:08:21.524334</td>\n",
       "      <td>0.2804</td>\n",
       "      <td>0.2728</td>\n",
       "      <td>0.9279</td>\n",
       "      <td>0.8533</td>\n",
       "      <td>0.77873</td>\n",
       "    </tr>\n",
       "    <tr>\n",
       "      <th>4</th>\n",
       "      <td>RNN #5</td>\n",
       "      <td>400K</td>\n",
       "      <td>GloVe.6B.200d</td>\n",
       "      <td>LSTM layer based</td>\n",
       "      <td>0.1</td>\n",
       "      <td>00:21:06.903934</td>\n",
       "      <td>0.7742</td>\n",
       "      <td>0.7822</td>\n",
       "      <td>0.7113</td>\n",
       "      <td>0.6760</td>\n",
       "      <td>0.79313</td>\n",
       "    </tr>\n",
       "    <tr>\n",
       "      <th>5</th>\n",
       "      <td>RNN #6</td>\n",
       "      <td>400K</td>\n",
       "      <td>GloVe.6B.200d</td>\n",
       "      <td>LSTM layer based</td>\n",
       "      <td>0.3</td>\n",
       "      <td>00:14:37.386485</td>\n",
       "      <td>0.6924</td>\n",
       "      <td>0.7180</td>\n",
       "      <td>0.5690</td>\n",
       "      <td>0.5129</td>\n",
       "      <td>0.78639</td>\n",
       "    </tr>\n",
       "    <tr>\n",
       "      <th>6</th>\n",
       "      <td>RNN #7</td>\n",
       "      <td>400K</td>\n",
       "      <td>GloVe.6B.200d</td>\n",
       "      <td>GRU layer based</td>\n",
       "      <td>0.1</td>\n",
       "      <td>00:14:44.563094</td>\n",
       "      <td>0.8122</td>\n",
       "      <td>0.8039</td>\n",
       "      <td>0.7565</td>\n",
       "      <td>0.6341</td>\n",
       "      <td>0.79068</td>\n",
       "    </tr>\n",
       "    <tr>\n",
       "      <th>7</th>\n",
       "      <td>RNN #8</td>\n",
       "      <td>400K</td>\n",
       "      <td>GloVe.6B.200d</td>\n",
       "      <td>GRU layer based</td>\n",
       "      <td>0.3</td>\n",
       "      <td>00:19:17.637735</td>\n",
       "      <td>0.7962</td>\n",
       "      <td>0.7920</td>\n",
       "      <td>0.7380</td>\n",
       "      <td>0.6200</td>\n",
       "      <td>0.78608</td>\n",
       "    </tr>\n",
       "    <tr>\n",
       "      <th>8</th>\n",
       "      <td>RNN #9</td>\n",
       "      <td>400K</td>\n",
       "      <td>GloVe.6B.200d</td>\n",
       "      <td>GRU layer based</td>\n",
       "      <td>0.3</td>\n",
       "      <td>00:14:53.940924</td>\n",
       "      <td>0.7919</td>\n",
       "      <td>0.7942</td>\n",
       "      <td>0.7351</td>\n",
       "      <td>0.6030</td>\n",
       "      <td></td>\n",
       "    </tr>\n",
       "  </tbody>\n",
       "</table>\n",
       "</div>"
      ],
      "text/plain": [
       "  Model_name vocabulary size (factor1) pre-trained vector (factor2)  \\\n",
       "0     RNN #1                      400K                 GloVe.6B.50d   \n",
       "1     RNN #2                      400K                 GloVe.6B.50d   \n",
       "2     RNN #3                      400K                 GloVe.6B.50d   \n",
       "3     RNN #4                      400K                 GloVe.6B.50d   \n",
       "4     RNN #5                      400K                GloVe.6B.200d   \n",
       "5     RNN #6                      400K                GloVe.6B.200d   \n",
       "6     RNN #7                      400K                GloVe.6B.200d   \n",
       "7     RNN #8                      400K                GloVe.6B.200d   \n",
       "8     RNN #9                      400K                GloVe.6B.200d   \n",
       "\n",
       "  RNN structure (factor3) hyperparameter recurrent_dropout (factor4)  \\\n",
       "0        LSTM layer based                                        0.1   \n",
       "1        LSTM layer based                                        0.3   \n",
       "2         GRU layer based                                        0.1   \n",
       "3         GRU layer based                                        0.3   \n",
       "4        LSTM layer based                                        0.1   \n",
       "5        LSTM layer based                                        0.3   \n",
       "6         GRU layer based                                        0.1   \n",
       "7         GRU layer based                                        0.3   \n",
       "8         GRU layer based                                        0.3   \n",
       "\n",
       "  Processing Time  Training Set Accuracy  Validation Set Accuracy  train f1  \\\n",
       "0 00:14:13.500154                 0.3019                   0.3586    0.7372   \n",
       "1 00:13:52.784631                 0.7703                   0.7754    0.7116   \n",
       "2 00:43:38.681270                 0.3447                   0.3533    0.7747   \n",
       "3 00:08:21.524334                 0.2804                   0.2728    0.9279   \n",
       "4 00:21:06.903934                 0.7742                   0.7822    0.7113   \n",
       "5 00:14:37.386485                 0.6924                   0.7180    0.5690   \n",
       "6 00:14:44.563094                 0.8122                   0.8039    0.7565   \n",
       "7 00:19:17.637735                 0.7962                   0.7920    0.7380   \n",
       "8 00:14:53.940924                 0.7919                   0.7942    0.7351   \n",
       "\n",
       "   validation f1 Test Set F1-score (Kaggle score)  \n",
       "0         0.6869                          0.78087  \n",
       "1         0.6222                          0.78026  \n",
       "2         0.7016                          0.78302  \n",
       "3         0.8533                          0.77873  \n",
       "4         0.6760                          0.79313  \n",
       "5         0.5129                          0.78639  \n",
       "6         0.6341                          0.79068  \n",
       "7         0.6200                          0.78608  \n",
       "8         0.6030                                   "
      ]
     },
     "execution_count": 161,
     "metadata": {},
     "output_type": "execute_result"
    }
   ],
   "source": [
    "#Store the accuracy and kaggle score for this model \n",
    "results_tbl = results_tbl.append({'Model_name':'RNN #9', \n",
    "                                   'vocabulary size (factor1)':'400K',\n",
    "                                   'pre-trained vector (factor2)':'GloVe.6B.200d',\n",
    "                                   'RNN structure (factor3)':'GRU layer based',\n",
    "                                   'hyperparameter recurrent_dropout (factor4)': '0.3',\n",
    "                                   'Processing Time':(end-start),\n",
    "                                   'Training Set Accuracy':best_model_train_accuracy,\n",
    "                                   'Validation Set Accuracy':best_model_val_accuracy,\n",
    "                                   'train f1':best_model_train_f1,\n",
    "                                   'validation f1':best_model_val_f1,\n",
    "                                   'Test Set F1-score (Kaggle score)': ''\n",
    "                                   },ignore_index=True)\n",
    "results_tbl"
   ]
  },
  {
   "cell_type": "code",
   "execution_count": 162,
   "metadata": {},
   "outputs": [],
   "source": [
    "# cleaning table bc I changed stuff and this takes way too long to run\n",
    "results_tbl.loc[:,['Test Set F1-score (Kaggle score)']] = np.nan\n",
    "results_tbl.loc[:,['pre-trained vector (factor2)']] = \"GloVe.6B.200d\""
   ]
  },
  {
   "cell_type": "code",
   "execution_count": 163,
   "metadata": {},
   "outputs": [
    {
     "data": {
      "text/html": [
       "<div>\n",
       "<style scoped>\n",
       "    .dataframe tbody tr th:only-of-type {\n",
       "        vertical-align: middle;\n",
       "    }\n",
       "\n",
       "    .dataframe tbody tr th {\n",
       "        vertical-align: top;\n",
       "    }\n",
       "\n",
       "    .dataframe thead th {\n",
       "        text-align: right;\n",
       "    }\n",
       "</style>\n",
       "<table border=\"1\" class=\"dataframe\">\n",
       "  <thead>\n",
       "    <tr style=\"text-align: right;\">\n",
       "      <th></th>\n",
       "      <th>Model_name</th>\n",
       "      <th>vocabulary size (factor1)</th>\n",
       "      <th>pre-trained vector (factor2)</th>\n",
       "      <th>RNN structure (factor3)</th>\n",
       "      <th>hyperparameter recurrent_dropout (factor4)</th>\n",
       "      <th>Processing Time</th>\n",
       "      <th>Training Set Accuracy</th>\n",
       "      <th>Validation Set Accuracy</th>\n",
       "      <th>train f1</th>\n",
       "      <th>validation f1</th>\n",
       "      <th>Test Set F1-score (Kaggle score)</th>\n",
       "    </tr>\n",
       "  </thead>\n",
       "  <tbody>\n",
       "    <tr>\n",
       "      <th>0</th>\n",
       "      <td>RNN #1</td>\n",
       "      <td>400K</td>\n",
       "      <td>GloVe.6B.200d</td>\n",
       "      <td>LSTM layer based</td>\n",
       "      <td>0.1</td>\n",
       "      <td>00:14:13.500154</td>\n",
       "      <td>0.3019</td>\n",
       "      <td>0.3586</td>\n",
       "      <td>0.7372</td>\n",
       "      <td>0.6869</td>\n",
       "      <td>NaN</td>\n",
       "    </tr>\n",
       "    <tr>\n",
       "      <th>1</th>\n",
       "      <td>RNN #2</td>\n",
       "      <td>400K</td>\n",
       "      <td>GloVe.6B.200d</td>\n",
       "      <td>LSTM layer based</td>\n",
       "      <td>0.3</td>\n",
       "      <td>00:13:52.784631</td>\n",
       "      <td>0.7703</td>\n",
       "      <td>0.7754</td>\n",
       "      <td>0.7116</td>\n",
       "      <td>0.6222</td>\n",
       "      <td>NaN</td>\n",
       "    </tr>\n",
       "    <tr>\n",
       "      <th>2</th>\n",
       "      <td>RNN #3</td>\n",
       "      <td>400K</td>\n",
       "      <td>GloVe.6B.200d</td>\n",
       "      <td>GRU layer based</td>\n",
       "      <td>0.1</td>\n",
       "      <td>00:43:38.681270</td>\n",
       "      <td>0.3447</td>\n",
       "      <td>0.3533</td>\n",
       "      <td>0.7747</td>\n",
       "      <td>0.7016</td>\n",
       "      <td>NaN</td>\n",
       "    </tr>\n",
       "    <tr>\n",
       "      <th>3</th>\n",
       "      <td>RNN #4</td>\n",
       "      <td>400K</td>\n",
       "      <td>GloVe.6B.200d</td>\n",
       "      <td>GRU layer based</td>\n",
       "      <td>0.3</td>\n",
       "      <td>00:08:21.524334</td>\n",
       "      <td>0.2804</td>\n",
       "      <td>0.2728</td>\n",
       "      <td>0.9279</td>\n",
       "      <td>0.8533</td>\n",
       "      <td>NaN</td>\n",
       "    </tr>\n",
       "    <tr>\n",
       "      <th>4</th>\n",
       "      <td>RNN #5</td>\n",
       "      <td>400K</td>\n",
       "      <td>GloVe.6B.200d</td>\n",
       "      <td>LSTM layer based</td>\n",
       "      <td>0.1</td>\n",
       "      <td>00:21:06.903934</td>\n",
       "      <td>0.7742</td>\n",
       "      <td>0.7822</td>\n",
       "      <td>0.7113</td>\n",
       "      <td>0.6760</td>\n",
       "      <td>NaN</td>\n",
       "    </tr>\n",
       "    <tr>\n",
       "      <th>5</th>\n",
       "      <td>RNN #6</td>\n",
       "      <td>400K</td>\n",
       "      <td>GloVe.6B.200d</td>\n",
       "      <td>LSTM layer based</td>\n",
       "      <td>0.3</td>\n",
       "      <td>00:14:37.386485</td>\n",
       "      <td>0.6924</td>\n",
       "      <td>0.7180</td>\n",
       "      <td>0.5690</td>\n",
       "      <td>0.5129</td>\n",
       "      <td>NaN</td>\n",
       "    </tr>\n",
       "    <tr>\n",
       "      <th>6</th>\n",
       "      <td>RNN #7</td>\n",
       "      <td>400K</td>\n",
       "      <td>GloVe.6B.200d</td>\n",
       "      <td>GRU layer based</td>\n",
       "      <td>0.1</td>\n",
       "      <td>00:14:44.563094</td>\n",
       "      <td>0.8122</td>\n",
       "      <td>0.8039</td>\n",
       "      <td>0.7565</td>\n",
       "      <td>0.6341</td>\n",
       "      <td>NaN</td>\n",
       "    </tr>\n",
       "    <tr>\n",
       "      <th>7</th>\n",
       "      <td>RNN #8</td>\n",
       "      <td>400K</td>\n",
       "      <td>GloVe.6B.200d</td>\n",
       "      <td>GRU layer based</td>\n",
       "      <td>0.3</td>\n",
       "      <td>00:19:17.637735</td>\n",
       "      <td>0.7962</td>\n",
       "      <td>0.7920</td>\n",
       "      <td>0.7380</td>\n",
       "      <td>0.6200</td>\n",
       "      <td>NaN</td>\n",
       "    </tr>\n",
       "    <tr>\n",
       "      <th>8</th>\n",
       "      <td>RNN #9</td>\n",
       "      <td>400K</td>\n",
       "      <td>GloVe.6B.200d</td>\n",
       "      <td>GRU layer based</td>\n",
       "      <td>0.3</td>\n",
       "      <td>00:14:53.940924</td>\n",
       "      <td>0.7919</td>\n",
       "      <td>0.7942</td>\n",
       "      <td>0.7351</td>\n",
       "      <td>0.6030</td>\n",
       "      <td>NaN</td>\n",
       "    </tr>\n",
       "  </tbody>\n",
       "</table>\n",
       "</div>"
      ],
      "text/plain": [
       "  Model_name vocabulary size (factor1) pre-trained vector (factor2)  \\\n",
       "0     RNN #1                      400K                GloVe.6B.200d   \n",
       "1     RNN #2                      400K                GloVe.6B.200d   \n",
       "2     RNN #3                      400K                GloVe.6B.200d   \n",
       "3     RNN #4                      400K                GloVe.6B.200d   \n",
       "4     RNN #5                      400K                GloVe.6B.200d   \n",
       "5     RNN #6                      400K                GloVe.6B.200d   \n",
       "6     RNN #7                      400K                GloVe.6B.200d   \n",
       "7     RNN #8                      400K                GloVe.6B.200d   \n",
       "8     RNN #9                      400K                GloVe.6B.200d   \n",
       "\n",
       "  RNN structure (factor3) hyperparameter recurrent_dropout (factor4)  \\\n",
       "0        LSTM layer based                                        0.1   \n",
       "1        LSTM layer based                                        0.3   \n",
       "2         GRU layer based                                        0.1   \n",
       "3         GRU layer based                                        0.3   \n",
       "4        LSTM layer based                                        0.1   \n",
       "5        LSTM layer based                                        0.3   \n",
       "6         GRU layer based                                        0.1   \n",
       "7         GRU layer based                                        0.3   \n",
       "8         GRU layer based                                        0.3   \n",
       "\n",
       "  Processing Time  Training Set Accuracy  Validation Set Accuracy  train f1  \\\n",
       "0 00:14:13.500154                 0.3019                   0.3586    0.7372   \n",
       "1 00:13:52.784631                 0.7703                   0.7754    0.7116   \n",
       "2 00:43:38.681270                 0.3447                   0.3533    0.7747   \n",
       "3 00:08:21.524334                 0.2804                   0.2728    0.9279   \n",
       "4 00:21:06.903934                 0.7742                   0.7822    0.7113   \n",
       "5 00:14:37.386485                 0.6924                   0.7180    0.5690   \n",
       "6 00:14:44.563094                 0.8122                   0.8039    0.7565   \n",
       "7 00:19:17.637735                 0.7962                   0.7920    0.7380   \n",
       "8 00:14:53.940924                 0.7919                   0.7942    0.7351   \n",
       "\n",
       "   validation f1  Test Set F1-score (Kaggle score)  \n",
       "0         0.6869                               NaN  \n",
       "1         0.6222                               NaN  \n",
       "2         0.7016                               NaN  \n",
       "3         0.8533                               NaN  \n",
       "4         0.6760                               NaN  \n",
       "5         0.5129                               NaN  \n",
       "6         0.6341                               NaN  \n",
       "7         0.6200                               NaN  \n",
       "8         0.6030                               NaN  "
      ]
     },
     "execution_count": 163,
     "metadata": {},
     "output_type": "execute_result"
    }
   ],
   "source": [
    "results_tbl"
   ]
  },
  {
   "cell_type": "code",
   "execution_count": 164,
   "metadata": {},
   "outputs": [],
   "source": [
    "# things I submitted to Kaggle.. https://www.kaggle.com/c/nlp-getting-started/ w/ kbridge14\n",
    "results_tbl.loc[results_tbl['Model_name']==\"RNN #4\",['Test Set F1-score (Kaggle score)']] = \"0.24977\"\n",
    "results_tbl.loc[results_tbl['Model_name']==\"RNN #7\",['Test Set F1-score (Kaggle score)']] = \"0.79007\""
   ]
  },
  {
   "cell_type": "code",
   "execution_count": 165,
   "metadata": {},
   "outputs": [
    {
     "data": {
      "text/html": [
       "<div>\n",
       "<style scoped>\n",
       "    .dataframe tbody tr th:only-of-type {\n",
       "        vertical-align: middle;\n",
       "    }\n",
       "\n",
       "    .dataframe tbody tr th {\n",
       "        vertical-align: top;\n",
       "    }\n",
       "\n",
       "    .dataframe thead th {\n",
       "        text-align: right;\n",
       "    }\n",
       "</style>\n",
       "<table border=\"1\" class=\"dataframe\">\n",
       "  <thead>\n",
       "    <tr style=\"text-align: right;\">\n",
       "      <th></th>\n",
       "      <th>Model_name</th>\n",
       "      <th>vocabulary size (factor1)</th>\n",
       "      <th>pre-trained vector (factor2)</th>\n",
       "      <th>RNN structure (factor3)</th>\n",
       "      <th>hyperparameter recurrent_dropout (factor4)</th>\n",
       "      <th>Processing Time</th>\n",
       "      <th>Training Set Accuracy</th>\n",
       "      <th>Validation Set Accuracy</th>\n",
       "      <th>train f1</th>\n",
       "      <th>validation f1</th>\n",
       "      <th>Test Set F1-score (Kaggle score)</th>\n",
       "    </tr>\n",
       "  </thead>\n",
       "  <tbody>\n",
       "    <tr>\n",
       "      <th>0</th>\n",
       "      <td>RNN #1</td>\n",
       "      <td>400K</td>\n",
       "      <td>GloVe.6B.200d</td>\n",
       "      <td>LSTM layer based</td>\n",
       "      <td>0.1</td>\n",
       "      <td>00:14:13.500154</td>\n",
       "      <td>0.3019</td>\n",
       "      <td>0.3586</td>\n",
       "      <td>0.7372</td>\n",
       "      <td>0.6869</td>\n",
       "      <td>NaN</td>\n",
       "    </tr>\n",
       "    <tr>\n",
       "      <th>1</th>\n",
       "      <td>RNN #2</td>\n",
       "      <td>400K</td>\n",
       "      <td>GloVe.6B.200d</td>\n",
       "      <td>LSTM layer based</td>\n",
       "      <td>0.3</td>\n",
       "      <td>00:13:52.784631</td>\n",
       "      <td>0.7703</td>\n",
       "      <td>0.7754</td>\n",
       "      <td>0.7116</td>\n",
       "      <td>0.6222</td>\n",
       "      <td>NaN</td>\n",
       "    </tr>\n",
       "    <tr>\n",
       "      <th>2</th>\n",
       "      <td>RNN #3</td>\n",
       "      <td>400K</td>\n",
       "      <td>GloVe.6B.200d</td>\n",
       "      <td>GRU layer based</td>\n",
       "      <td>0.1</td>\n",
       "      <td>00:43:38.681270</td>\n",
       "      <td>0.3447</td>\n",
       "      <td>0.3533</td>\n",
       "      <td>0.7747</td>\n",
       "      <td>0.7016</td>\n",
       "      <td>NaN</td>\n",
       "    </tr>\n",
       "    <tr>\n",
       "      <th>3</th>\n",
       "      <td>RNN #4</td>\n",
       "      <td>400K</td>\n",
       "      <td>GloVe.6B.200d</td>\n",
       "      <td>GRU layer based</td>\n",
       "      <td>0.3</td>\n",
       "      <td>00:08:21.524334</td>\n",
       "      <td>0.2804</td>\n",
       "      <td>0.2728</td>\n",
       "      <td>0.9279</td>\n",
       "      <td>0.8533</td>\n",
       "      <td>0.24977</td>\n",
       "    </tr>\n",
       "    <tr>\n",
       "      <th>4</th>\n",
       "      <td>RNN #5</td>\n",
       "      <td>400K</td>\n",
       "      <td>GloVe.6B.200d</td>\n",
       "      <td>LSTM layer based</td>\n",
       "      <td>0.1</td>\n",
       "      <td>00:21:06.903934</td>\n",
       "      <td>0.7742</td>\n",
       "      <td>0.7822</td>\n",
       "      <td>0.7113</td>\n",
       "      <td>0.6760</td>\n",
       "      <td>NaN</td>\n",
       "    </tr>\n",
       "    <tr>\n",
       "      <th>5</th>\n",
       "      <td>RNN #6</td>\n",
       "      <td>400K</td>\n",
       "      <td>GloVe.6B.200d</td>\n",
       "      <td>LSTM layer based</td>\n",
       "      <td>0.3</td>\n",
       "      <td>00:14:37.386485</td>\n",
       "      <td>0.6924</td>\n",
       "      <td>0.7180</td>\n",
       "      <td>0.5690</td>\n",
       "      <td>0.5129</td>\n",
       "      <td>NaN</td>\n",
       "    </tr>\n",
       "    <tr>\n",
       "      <th>6</th>\n",
       "      <td>RNN #7</td>\n",
       "      <td>400K</td>\n",
       "      <td>GloVe.6B.200d</td>\n",
       "      <td>GRU layer based</td>\n",
       "      <td>0.1</td>\n",
       "      <td>00:14:44.563094</td>\n",
       "      <td>0.8122</td>\n",
       "      <td>0.8039</td>\n",
       "      <td>0.7565</td>\n",
       "      <td>0.6341</td>\n",
       "      <td>0.79007</td>\n",
       "    </tr>\n",
       "    <tr>\n",
       "      <th>7</th>\n",
       "      <td>RNN #8</td>\n",
       "      <td>400K</td>\n",
       "      <td>GloVe.6B.200d</td>\n",
       "      <td>GRU layer based</td>\n",
       "      <td>0.3</td>\n",
       "      <td>00:19:17.637735</td>\n",
       "      <td>0.7962</td>\n",
       "      <td>0.7920</td>\n",
       "      <td>0.7380</td>\n",
       "      <td>0.6200</td>\n",
       "      <td>NaN</td>\n",
       "    </tr>\n",
       "    <tr>\n",
       "      <th>8</th>\n",
       "      <td>RNN #9</td>\n",
       "      <td>400K</td>\n",
       "      <td>GloVe.6B.200d</td>\n",
       "      <td>GRU layer based</td>\n",
       "      <td>0.3</td>\n",
       "      <td>00:14:53.940924</td>\n",
       "      <td>0.7919</td>\n",
       "      <td>0.7942</td>\n",
       "      <td>0.7351</td>\n",
       "      <td>0.6030</td>\n",
       "      <td>NaN</td>\n",
       "    </tr>\n",
       "  </tbody>\n",
       "</table>\n",
       "</div>"
      ],
      "text/plain": [
       "  Model_name vocabulary size (factor1) pre-trained vector (factor2)  \\\n",
       "0     RNN #1                      400K                GloVe.6B.200d   \n",
       "1     RNN #2                      400K                GloVe.6B.200d   \n",
       "2     RNN #3                      400K                GloVe.6B.200d   \n",
       "3     RNN #4                      400K                GloVe.6B.200d   \n",
       "4     RNN #5                      400K                GloVe.6B.200d   \n",
       "5     RNN #6                      400K                GloVe.6B.200d   \n",
       "6     RNN #7                      400K                GloVe.6B.200d   \n",
       "7     RNN #8                      400K                GloVe.6B.200d   \n",
       "8     RNN #9                      400K                GloVe.6B.200d   \n",
       "\n",
       "  RNN structure (factor3) hyperparameter recurrent_dropout (factor4)  \\\n",
       "0        LSTM layer based                                        0.1   \n",
       "1        LSTM layer based                                        0.3   \n",
       "2         GRU layer based                                        0.1   \n",
       "3         GRU layer based                                        0.3   \n",
       "4        LSTM layer based                                        0.1   \n",
       "5        LSTM layer based                                        0.3   \n",
       "6         GRU layer based                                        0.1   \n",
       "7         GRU layer based                                        0.3   \n",
       "8         GRU layer based                                        0.3   \n",
       "\n",
       "  Processing Time  Training Set Accuracy  Validation Set Accuracy  train f1  \\\n",
       "0 00:14:13.500154                 0.3019                   0.3586    0.7372   \n",
       "1 00:13:52.784631                 0.7703                   0.7754    0.7116   \n",
       "2 00:43:38.681270                 0.3447                   0.3533    0.7747   \n",
       "3 00:08:21.524334                 0.2804                   0.2728    0.9279   \n",
       "4 00:21:06.903934                 0.7742                   0.7822    0.7113   \n",
       "5 00:14:37.386485                 0.6924                   0.7180    0.5690   \n",
       "6 00:14:44.563094                 0.8122                   0.8039    0.7565   \n",
       "7 00:19:17.637735                 0.7962                   0.7920    0.7380   \n",
       "8 00:14:53.940924                 0.7919                   0.7942    0.7351   \n",
       "\n",
       "   validation f1 Test Set F1-score (Kaggle score)  \n",
       "0         0.6869                              NaN  \n",
       "1         0.6222                              NaN  \n",
       "2         0.7016                              NaN  \n",
       "3         0.8533                          0.24977  \n",
       "4         0.6760                              NaN  \n",
       "5         0.5129                              NaN  \n",
       "6         0.6341                          0.79007  \n",
       "7         0.6200                              NaN  \n",
       "8         0.6030                              NaN  "
      ]
     },
     "execution_count": 165,
     "metadata": {},
     "output_type": "execute_result"
    }
   ],
   "source": [
    "results_tbl"
   ]
  },
  {
   "cell_type": "code",
   "execution_count": 166,
   "metadata": {},
   "outputs": [],
   "source": [
    "# model 9 was a huge disappointment but it's ok\n",
    "results_tbl.loc[results_tbl['Model_name']==\"RNN #3\",['Test Set F1-score (Kaggle score)']] = \"0.36040\" #sad\n",
    "results_tbl.loc[results_tbl['Model_name']==\"RNN #8\",['Test Set F1-score (Kaggle score)']] = \"0.78516\""
   ]
  },
  {
   "cell_type": "code",
   "execution_count": 167,
   "metadata": {},
   "outputs": [
    {
     "data": {
      "text/html": [
       "<div>\n",
       "<style scoped>\n",
       "    .dataframe tbody tr th:only-of-type {\n",
       "        vertical-align: middle;\n",
       "    }\n",
       "\n",
       "    .dataframe tbody tr th {\n",
       "        vertical-align: top;\n",
       "    }\n",
       "\n",
       "    .dataframe thead th {\n",
       "        text-align: right;\n",
       "    }\n",
       "</style>\n",
       "<table border=\"1\" class=\"dataframe\">\n",
       "  <thead>\n",
       "    <tr style=\"text-align: right;\">\n",
       "      <th></th>\n",
       "      <th>Model_name</th>\n",
       "      <th>vocabulary size (factor1)</th>\n",
       "      <th>pre-trained vector (factor2)</th>\n",
       "      <th>RNN structure (factor3)</th>\n",
       "      <th>hyperparameter recurrent_dropout (factor4)</th>\n",
       "      <th>Processing Time</th>\n",
       "      <th>Training Set Accuracy</th>\n",
       "      <th>Validation Set Accuracy</th>\n",
       "      <th>train f1</th>\n",
       "      <th>validation f1</th>\n",
       "      <th>Test Set F1-score (Kaggle score)</th>\n",
       "    </tr>\n",
       "  </thead>\n",
       "  <tbody>\n",
       "    <tr>\n",
       "      <th>0</th>\n",
       "      <td>RNN #1</td>\n",
       "      <td>400K</td>\n",
       "      <td>GloVe.6B.200d</td>\n",
       "      <td>LSTM layer based</td>\n",
       "      <td>0.1</td>\n",
       "      <td>00:14:13.500154</td>\n",
       "      <td>0.3019</td>\n",
       "      <td>0.3586</td>\n",
       "      <td>0.7372</td>\n",
       "      <td>0.6869</td>\n",
       "      <td>NaN</td>\n",
       "    </tr>\n",
       "    <tr>\n",
       "      <th>1</th>\n",
       "      <td>RNN #2</td>\n",
       "      <td>400K</td>\n",
       "      <td>GloVe.6B.200d</td>\n",
       "      <td>LSTM layer based</td>\n",
       "      <td>0.3</td>\n",
       "      <td>00:13:52.784631</td>\n",
       "      <td>0.7703</td>\n",
       "      <td>0.7754</td>\n",
       "      <td>0.7116</td>\n",
       "      <td>0.6222</td>\n",
       "      <td>NaN</td>\n",
       "    </tr>\n",
       "    <tr>\n",
       "      <th>2</th>\n",
       "      <td>RNN #3</td>\n",
       "      <td>400K</td>\n",
       "      <td>GloVe.6B.200d</td>\n",
       "      <td>GRU layer based</td>\n",
       "      <td>0.1</td>\n",
       "      <td>00:43:38.681270</td>\n",
       "      <td>0.3447</td>\n",
       "      <td>0.3533</td>\n",
       "      <td>0.7747</td>\n",
       "      <td>0.7016</td>\n",
       "      <td>0.36040</td>\n",
       "    </tr>\n",
       "    <tr>\n",
       "      <th>3</th>\n",
       "      <td>RNN #4</td>\n",
       "      <td>400K</td>\n",
       "      <td>GloVe.6B.200d</td>\n",
       "      <td>GRU layer based</td>\n",
       "      <td>0.3</td>\n",
       "      <td>00:08:21.524334</td>\n",
       "      <td>0.2804</td>\n",
       "      <td>0.2728</td>\n",
       "      <td>0.9279</td>\n",
       "      <td>0.8533</td>\n",
       "      <td>0.24977</td>\n",
       "    </tr>\n",
       "    <tr>\n",
       "      <th>4</th>\n",
       "      <td>RNN #5</td>\n",
       "      <td>400K</td>\n",
       "      <td>GloVe.6B.200d</td>\n",
       "      <td>LSTM layer based</td>\n",
       "      <td>0.1</td>\n",
       "      <td>00:21:06.903934</td>\n",
       "      <td>0.7742</td>\n",
       "      <td>0.7822</td>\n",
       "      <td>0.7113</td>\n",
       "      <td>0.6760</td>\n",
       "      <td>NaN</td>\n",
       "    </tr>\n",
       "    <tr>\n",
       "      <th>5</th>\n",
       "      <td>RNN #6</td>\n",
       "      <td>400K</td>\n",
       "      <td>GloVe.6B.200d</td>\n",
       "      <td>LSTM layer based</td>\n",
       "      <td>0.3</td>\n",
       "      <td>00:14:37.386485</td>\n",
       "      <td>0.6924</td>\n",
       "      <td>0.7180</td>\n",
       "      <td>0.5690</td>\n",
       "      <td>0.5129</td>\n",
       "      <td>NaN</td>\n",
       "    </tr>\n",
       "    <tr>\n",
       "      <th>6</th>\n",
       "      <td>RNN #7</td>\n",
       "      <td>400K</td>\n",
       "      <td>GloVe.6B.200d</td>\n",
       "      <td>GRU layer based</td>\n",
       "      <td>0.1</td>\n",
       "      <td>00:14:44.563094</td>\n",
       "      <td>0.8122</td>\n",
       "      <td>0.8039</td>\n",
       "      <td>0.7565</td>\n",
       "      <td>0.6341</td>\n",
       "      <td>0.79007</td>\n",
       "    </tr>\n",
       "    <tr>\n",
       "      <th>7</th>\n",
       "      <td>RNN #8</td>\n",
       "      <td>400K</td>\n",
       "      <td>GloVe.6B.200d</td>\n",
       "      <td>GRU layer based</td>\n",
       "      <td>0.3</td>\n",
       "      <td>00:19:17.637735</td>\n",
       "      <td>0.7962</td>\n",
       "      <td>0.7920</td>\n",
       "      <td>0.7380</td>\n",
       "      <td>0.6200</td>\n",
       "      <td>0.78516</td>\n",
       "    </tr>\n",
       "    <tr>\n",
       "      <th>8</th>\n",
       "      <td>RNN #9</td>\n",
       "      <td>400K</td>\n",
       "      <td>GloVe.6B.200d</td>\n",
       "      <td>GRU layer based</td>\n",
       "      <td>0.3</td>\n",
       "      <td>00:14:53.940924</td>\n",
       "      <td>0.7919</td>\n",
       "      <td>0.7942</td>\n",
       "      <td>0.7351</td>\n",
       "      <td>0.6030</td>\n",
       "      <td>NaN</td>\n",
       "    </tr>\n",
       "  </tbody>\n",
       "</table>\n",
       "</div>"
      ],
      "text/plain": [
       "  Model_name vocabulary size (factor1) pre-trained vector (factor2)  \\\n",
       "0     RNN #1                      400K                GloVe.6B.200d   \n",
       "1     RNN #2                      400K                GloVe.6B.200d   \n",
       "2     RNN #3                      400K                GloVe.6B.200d   \n",
       "3     RNN #4                      400K                GloVe.6B.200d   \n",
       "4     RNN #5                      400K                GloVe.6B.200d   \n",
       "5     RNN #6                      400K                GloVe.6B.200d   \n",
       "6     RNN #7                      400K                GloVe.6B.200d   \n",
       "7     RNN #8                      400K                GloVe.6B.200d   \n",
       "8     RNN #9                      400K                GloVe.6B.200d   \n",
       "\n",
       "  RNN structure (factor3) hyperparameter recurrent_dropout (factor4)  \\\n",
       "0        LSTM layer based                                        0.1   \n",
       "1        LSTM layer based                                        0.3   \n",
       "2         GRU layer based                                        0.1   \n",
       "3         GRU layer based                                        0.3   \n",
       "4        LSTM layer based                                        0.1   \n",
       "5        LSTM layer based                                        0.3   \n",
       "6         GRU layer based                                        0.1   \n",
       "7         GRU layer based                                        0.3   \n",
       "8         GRU layer based                                        0.3   \n",
       "\n",
       "  Processing Time  Training Set Accuracy  Validation Set Accuracy  train f1  \\\n",
       "0 00:14:13.500154                 0.3019                   0.3586    0.7372   \n",
       "1 00:13:52.784631                 0.7703                   0.7754    0.7116   \n",
       "2 00:43:38.681270                 0.3447                   0.3533    0.7747   \n",
       "3 00:08:21.524334                 0.2804                   0.2728    0.9279   \n",
       "4 00:21:06.903934                 0.7742                   0.7822    0.7113   \n",
       "5 00:14:37.386485                 0.6924                   0.7180    0.5690   \n",
       "6 00:14:44.563094                 0.8122                   0.8039    0.7565   \n",
       "7 00:19:17.637735                 0.7962                   0.7920    0.7380   \n",
       "8 00:14:53.940924                 0.7919                   0.7942    0.7351   \n",
       "\n",
       "   validation f1 Test Set F1-score (Kaggle score)  \n",
       "0         0.6869                              NaN  \n",
       "1         0.6222                              NaN  \n",
       "2         0.7016                          0.36040  \n",
       "3         0.8533                          0.24977  \n",
       "4         0.6760                              NaN  \n",
       "5         0.5129                              NaN  \n",
       "6         0.6341                          0.79007  \n",
       "7         0.6200                          0.78516  \n",
       "8         0.6030                              NaN  "
      ]
     },
     "execution_count": 167,
     "metadata": {},
     "output_type": "execute_result"
    }
   ],
   "source": [
    "results_tbl"
   ]
  }
 ],
 "metadata": {
  "kernelspec": {
   "display_name": "Python 3",
   "language": "python",
   "name": "python3"
  },
  "language_info": {
   "codemirror_mode": {
    "name": "ipython",
    "version": 3
   },
   "file_extension": ".py",
   "mimetype": "text/x-python",
   "name": "python",
   "nbconvert_exporter": "python",
   "pygments_lexer": "ipython3",
   "version": "3.7.4"
  }
 },
 "nbformat": 4,
 "nbformat_minor": 4
}
