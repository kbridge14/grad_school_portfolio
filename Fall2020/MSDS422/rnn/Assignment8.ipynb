{
 "cells": [
  {
   "cell_type": "code",
   "execution_count": 1,
   "metadata": {},
   "outputs": [
    {
     "name": "stderr",
     "output_type": "stream",
     "text": [
      "/opt/anaconda3/lib/python3.7/site-packages/statsmodels/tools/_testing.py:19: FutureWarning: pandas.util.testing is deprecated. Use the functions in the public API at pandas.testing instead.\n",
      "  import pandas.util.testing as tm\n"
     ]
    }
   ],
   "source": [
    "# Import libraries needed for the analysis\n",
    "import os\n",
    "import pandas as pd\n",
    "import numpy as np\n",
    "\n",
    "from datetime import datetime\n",
    "import random\n",
    "import string\n",
    "\n",
    "import tensorflow as tf\n",
    "from tensorflow import keras\n",
    "from keras.optimizers import Adam\n",
    "import keras.backend as K\n",
    "\n",
    "import matplotlib.pyplot as plt\n",
    "import seaborn as sns\n",
    "\n",
    "import re\n",
    "import nltk"
   ]
  },
  {
   "cell_type": "code",
   "execution_count": 2,
   "metadata": {},
   "outputs": [],
   "source": [
    "def recall_m(y_true, y_pred):\n",
    "    \"\"\"\n",
    "    Recall is the number of relevant documents retrieved by a search\n",
    "    divided by\n",
    "    the total number of existing relevant documents;\n",
    "    \n",
    "    True & predicted positives divided by Total True positives\n",
    "                                (regardless of what was predicted);\n",
    "    \n",
    "    The True Positive Rate.\n",
    "    \"\"\"\n",
    "    true_positives = K.sum(K.round(K.clip(y_true * y_pred, 0, 1)))\n",
    "    possible_positives = K.sum(K.round(K.clip(y_true, 0, 1)))\n",
    "    recall = true_positives / (possible_positives + K.epsilon())\n",
    "    return recall\n",
    "\n",
    "def precision_m(y_true, y_pred):\n",
    "    \"\"\"\n",
    "    Precision is number of relevant documents retrieved by a search\n",
    "    divided by\n",
    "    the total number of documents retrieved by that search.\n",
    "    \n",
    "    True Positives / Predicted Positives\n",
    "    \"\"\"\n",
    "    true_positives = K.sum(K.round(K.clip(y_true * y_pred, 0, 1)))\n",
    "    predicted_positives = K.sum(K.round(K.clip(y_pred, 0, 1)))\n",
    "    precision = true_positives / (predicted_positives + K.epsilon())\n",
    "    return precision\n",
    "\n",
    "def f1_m(y_true, y_pred):\n",
    "    precision = precision_m(y_true, y_pred)\n",
    "    recall = recall_m(y_true, y_pred)\n",
    "    return 2*((precision*recall)/(precision+recall+K.epsilon()))"
   ]
  },
  {
   "cell_type": "code",
   "execution_count": 3,
   "metadata": {},
   "outputs": [],
   "source": [
    "# seed value for random number generators to obtain reproducible results\n",
    "RANDOM_SEED = 5\n",
    "from numpy.random import seed\n",
    "seed(RANDOM_SEED)\n",
    "tf.random.set_seed(RANDOM_SEED)\n",
    "dims = 200"
   ]
  },
  {
   "cell_type": "code",
   "execution_count": 4,
   "metadata": {},
   "outputs": [],
   "source": [
    "# Read the training and test datasets\n",
    "train_tweets = pd.read_csv(\"/Users/kerry//Projects/grad_school_portfolio/Fall2020/MSDS422/rnn/data/train.csv\")\n",
    "test_tweets = pd.read_csv(\"/Users/kerry//Projects/grad_school_portfolio/Fall2020/MSDS422/rnn/data/test.csv\")\n",
    "#train_tweets= pd.read_csv('/Users/harini-mac/Desktop/Northwestern University/MSDS-422/Week8/project1/nlp-getting-started/train.csv')\n",
    "#test_tweets=pd.read_csv('/Users/harini-mac/Desktop/Northwestern University/MSDS-422/Week8/project1/nlp-getting-started/test.csv')"
   ]
  },
  {
   "cell_type": "code",
   "execution_count": 5,
   "metadata": {},
   "outputs": [
    {
     "data": {
      "text/plain": [
       "(7613, 5)"
      ]
     },
     "execution_count": 5,
     "metadata": {},
     "output_type": "execute_result"
    }
   ],
   "source": [
    "train_tweets.shape"
   ]
  },
  {
   "cell_type": "code",
   "execution_count": 6,
   "metadata": {},
   "outputs": [
    {
     "data": {
      "text/plain": [
       "(3263, 4)"
      ]
     },
     "execution_count": 6,
     "metadata": {},
     "output_type": "execute_result"
    }
   ],
   "source": [
    "test_tweets.shape"
   ]
  },
  {
   "cell_type": "code",
   "execution_count": 7,
   "metadata": {},
   "outputs": [
    {
     "name": "stdout",
     "output_type": "stream",
     "text": [
      "<class 'pandas.core.frame.DataFrame'>\n",
      "RangeIndex: 7613 entries, 0 to 7612\n",
      "Data columns (total 5 columns):\n",
      " #   Column    Non-Null Count  Dtype \n",
      "---  ------    --------------  ----- \n",
      " 0   id        7613 non-null   int64 \n",
      " 1   keyword   7552 non-null   object\n",
      " 2   location  5080 non-null   object\n",
      " 3   text      7613 non-null   object\n",
      " 4   target    7613 non-null   int64 \n",
      "dtypes: int64(2), object(3)\n",
      "memory usage: 297.5+ KB\n"
     ]
    }
   ],
   "source": [
    "train_tweets.info()"
   ]
  },
  {
   "cell_type": "code",
   "execution_count": 8,
   "metadata": {},
   "outputs": [
    {
     "name": "stdout",
     "output_type": "stream",
     "text": [
      "<class 'pandas.core.frame.DataFrame'>\n",
      "RangeIndex: 3263 entries, 0 to 3262\n",
      "Data columns (total 4 columns):\n",
      " #   Column    Non-Null Count  Dtype \n",
      "---  ------    --------------  ----- \n",
      " 0   id        3263 non-null   int64 \n",
      " 1   keyword   3237 non-null   object\n",
      " 2   location  2158 non-null   object\n",
      " 3   text      3263 non-null   object\n",
      "dtypes: int64(1), object(3)\n",
      "memory usage: 102.1+ KB\n"
     ]
    }
   ],
   "source": [
    "test_tweets.info()"
   ]
  },
  {
   "cell_type": "code",
   "execution_count": 9,
   "metadata": {},
   "outputs": [
    {
     "data": {
      "text/html": [
       "<div>\n",
       "<style scoped>\n",
       "    .dataframe tbody tr th:only-of-type {\n",
       "        vertical-align: middle;\n",
       "    }\n",
       "\n",
       "    .dataframe tbody tr th {\n",
       "        vertical-align: top;\n",
       "    }\n",
       "\n",
       "    .dataframe thead th {\n",
       "        text-align: right;\n",
       "    }\n",
       "</style>\n",
       "<table border=\"1\" class=\"dataframe\">\n",
       "  <thead>\n",
       "    <tr style=\"text-align: right;\">\n",
       "      <th></th>\n",
       "      <th>id</th>\n",
       "      <th>keyword</th>\n",
       "      <th>location</th>\n",
       "      <th>text</th>\n",
       "      <th>target</th>\n",
       "    </tr>\n",
       "  </thead>\n",
       "  <tbody>\n",
       "    <tr>\n",
       "      <th>0</th>\n",
       "      <td>1</td>\n",
       "      <td>NaN</td>\n",
       "      <td>NaN</td>\n",
       "      <td>Our Deeds are the Reason of this #earthquake M...</td>\n",
       "      <td>1</td>\n",
       "    </tr>\n",
       "    <tr>\n",
       "      <th>1</th>\n",
       "      <td>4</td>\n",
       "      <td>NaN</td>\n",
       "      <td>NaN</td>\n",
       "      <td>Forest fire near La Ronge Sask. Canada</td>\n",
       "      <td>1</td>\n",
       "    </tr>\n",
       "    <tr>\n",
       "      <th>2</th>\n",
       "      <td>5</td>\n",
       "      <td>NaN</td>\n",
       "      <td>NaN</td>\n",
       "      <td>All residents asked to 'shelter in place' are ...</td>\n",
       "      <td>1</td>\n",
       "    </tr>\n",
       "    <tr>\n",
       "      <th>3</th>\n",
       "      <td>6</td>\n",
       "      <td>NaN</td>\n",
       "      <td>NaN</td>\n",
       "      <td>13,000 people receive #wildfires evacuation or...</td>\n",
       "      <td>1</td>\n",
       "    </tr>\n",
       "    <tr>\n",
       "      <th>4</th>\n",
       "      <td>7</td>\n",
       "      <td>NaN</td>\n",
       "      <td>NaN</td>\n",
       "      <td>Just got sent this photo from Ruby #Alaska as ...</td>\n",
       "      <td>1</td>\n",
       "    </tr>\n",
       "  </tbody>\n",
       "</table>\n",
       "</div>"
      ],
      "text/plain": [
       "   id keyword location                                               text  \\\n",
       "0   1     NaN      NaN  Our Deeds are the Reason of this #earthquake M...   \n",
       "1   4     NaN      NaN             Forest fire near La Ronge Sask. Canada   \n",
       "2   5     NaN      NaN  All residents asked to 'shelter in place' are ...   \n",
       "3   6     NaN      NaN  13,000 people receive #wildfires evacuation or...   \n",
       "4   7     NaN      NaN  Just got sent this photo from Ruby #Alaska as ...   \n",
       "\n",
       "   target  \n",
       "0       1  \n",
       "1       1  \n",
       "2       1  \n",
       "3       1  \n",
       "4       1  "
      ]
     },
     "execution_count": 9,
     "metadata": {},
     "output_type": "execute_result"
    }
   ],
   "source": [
    "train_tweets.head()"
   ]
  },
  {
   "cell_type": "code",
   "execution_count": 10,
   "metadata": {},
   "outputs": [
    {
     "data": {
      "text/html": [
       "<div>\n",
       "<style scoped>\n",
       "    .dataframe tbody tr th:only-of-type {\n",
       "        vertical-align: middle;\n",
       "    }\n",
       "\n",
       "    .dataframe tbody tr th {\n",
       "        vertical-align: top;\n",
       "    }\n",
       "\n",
       "    .dataframe thead th {\n",
       "        text-align: right;\n",
       "    }\n",
       "</style>\n",
       "<table border=\"1\" class=\"dataframe\">\n",
       "  <thead>\n",
       "    <tr style=\"text-align: right;\">\n",
       "      <th></th>\n",
       "      <th>id</th>\n",
       "      <th>keyword</th>\n",
       "      <th>location</th>\n",
       "      <th>text</th>\n",
       "      <th>target</th>\n",
       "    </tr>\n",
       "  </thead>\n",
       "  <tbody>\n",
       "    <tr>\n",
       "      <th>0</th>\n",
       "      <td>1</td>\n",
       "      <td>NaN</td>\n",
       "      <td>NaN</td>\n",
       "      <td>Our Deeds are the Reason of this #earthquake M...</td>\n",
       "      <td>1</td>\n",
       "    </tr>\n",
       "    <tr>\n",
       "      <th>1</th>\n",
       "      <td>4</td>\n",
       "      <td>NaN</td>\n",
       "      <td>NaN</td>\n",
       "      <td>Forest fire near La Ronge Sask. Canada</td>\n",
       "      <td>1</td>\n",
       "    </tr>\n",
       "    <tr>\n",
       "      <th>2</th>\n",
       "      <td>5</td>\n",
       "      <td>NaN</td>\n",
       "      <td>NaN</td>\n",
       "      <td>All residents asked to 'shelter in place' are ...</td>\n",
       "      <td>1</td>\n",
       "    </tr>\n",
       "    <tr>\n",
       "      <th>3</th>\n",
       "      <td>6</td>\n",
       "      <td>NaN</td>\n",
       "      <td>NaN</td>\n",
       "      <td>13,000 people receive #wildfires evacuation or...</td>\n",
       "      <td>1</td>\n",
       "    </tr>\n",
       "    <tr>\n",
       "      <th>4</th>\n",
       "      <td>7</td>\n",
       "      <td>NaN</td>\n",
       "      <td>NaN</td>\n",
       "      <td>Just got sent this photo from Ruby #Alaska as ...</td>\n",
       "      <td>1</td>\n",
       "    </tr>\n",
       "    <tr>\n",
       "      <th>...</th>\n",
       "      <td>...</td>\n",
       "      <td>...</td>\n",
       "      <td>...</td>\n",
       "      <td>...</td>\n",
       "      <td>...</td>\n",
       "    </tr>\n",
       "    <tr>\n",
       "      <th>7604</th>\n",
       "      <td>10863</td>\n",
       "      <td>NaN</td>\n",
       "      <td>NaN</td>\n",
       "      <td>#WorldNews Fallen powerlines on G:link tram: U...</td>\n",
       "      <td>1</td>\n",
       "    </tr>\n",
       "    <tr>\n",
       "      <th>7605</th>\n",
       "      <td>10864</td>\n",
       "      <td>NaN</td>\n",
       "      <td>NaN</td>\n",
       "      <td>on the flip side I'm at Walmart and there is a...</td>\n",
       "      <td>1</td>\n",
       "    </tr>\n",
       "    <tr>\n",
       "      <th>7606</th>\n",
       "      <td>10866</td>\n",
       "      <td>NaN</td>\n",
       "      <td>NaN</td>\n",
       "      <td>Suicide bomber kills 15 in Saudi security site...</td>\n",
       "      <td>1</td>\n",
       "    </tr>\n",
       "    <tr>\n",
       "      <th>7608</th>\n",
       "      <td>10869</td>\n",
       "      <td>NaN</td>\n",
       "      <td>NaN</td>\n",
       "      <td>Two giant cranes holding a bridge collapse int...</td>\n",
       "      <td>1</td>\n",
       "    </tr>\n",
       "    <tr>\n",
       "      <th>7612</th>\n",
       "      <td>10873</td>\n",
       "      <td>NaN</td>\n",
       "      <td>NaN</td>\n",
       "      <td>The Latest: More Homes Razed by Northern Calif...</td>\n",
       "      <td>1</td>\n",
       "    </tr>\n",
       "  </tbody>\n",
       "</table>\n",
       "<p>7503 rows × 5 columns</p>\n",
       "</div>"
      ],
      "text/plain": [
       "         id keyword location  \\\n",
       "0         1     NaN      NaN   \n",
       "1         4     NaN      NaN   \n",
       "2         5     NaN      NaN   \n",
       "3         6     NaN      NaN   \n",
       "4         7     NaN      NaN   \n",
       "...     ...     ...      ...   \n",
       "7604  10863     NaN      NaN   \n",
       "7605  10864     NaN      NaN   \n",
       "7606  10866     NaN      NaN   \n",
       "7608  10869     NaN      NaN   \n",
       "7612  10873     NaN      NaN   \n",
       "\n",
       "                                                   text  target  \n",
       "0     Our Deeds are the Reason of this #earthquake M...       1  \n",
       "1                Forest fire near La Ronge Sask. Canada       1  \n",
       "2     All residents asked to 'shelter in place' are ...       1  \n",
       "3     13,000 people receive #wildfires evacuation or...       1  \n",
       "4     Just got sent this photo from Ruby #Alaska as ...       1  \n",
       "...                                                 ...     ...  \n",
       "7604  #WorldNews Fallen powerlines on G:link tram: U...       1  \n",
       "7605  on the flip side I'm at Walmart and there is a...       1  \n",
       "7606  Suicide bomber kills 15 in Saudi security site...       1  \n",
       "7608  Two giant cranes holding a bridge collapse int...       1  \n",
       "7612  The Latest: More Homes Razed by Northern Calif...       1  \n",
       "\n",
       "[7503 rows x 5 columns]"
      ]
     },
     "execution_count": 10,
     "metadata": {},
     "output_type": "execute_result"
    }
   ],
   "source": [
    "# drops dups (retweets)\n",
    "train_tweets[train_tweets.duplicated(subset=\"text\", keep='first')==False]"
   ]
  },
  {
   "cell_type": "code",
   "execution_count": 11,
   "metadata": {},
   "outputs": [
    {
     "data": {
      "text/html": [
       "<div>\n",
       "<style scoped>\n",
       "    .dataframe tbody tr th:only-of-type {\n",
       "        vertical-align: middle;\n",
       "    }\n",
       "\n",
       "    .dataframe tbody tr th {\n",
       "        vertical-align: top;\n",
       "    }\n",
       "\n",
       "    .dataframe thead th {\n",
       "        text-align: right;\n",
       "    }\n",
       "</style>\n",
       "<table border=\"1\" class=\"dataframe\">\n",
       "  <thead>\n",
       "    <tr style=\"text-align: right;\">\n",
       "      <th></th>\n",
       "      <th>id</th>\n",
       "      <th>keyword</th>\n",
       "      <th>location</th>\n",
       "      <th>text</th>\n",
       "      <th>target</th>\n",
       "    </tr>\n",
       "  </thead>\n",
       "  <tbody>\n",
       "    <tr>\n",
       "      <th>647</th>\n",
       "      <td>938</td>\n",
       "      <td>blaze</td>\n",
       "      <td>Temecula, CA</td>\n",
       "      <td>Pendleton media office said only fire on base ...</td>\n",
       "      <td>1</td>\n",
       "    </tr>\n",
       "    <tr>\n",
       "      <th>649</th>\n",
       "      <td>940</td>\n",
       "      <td>blaze</td>\n",
       "      <td>Fresno, CA</td>\n",
       "      <td>Love living on my own. I can blaze inside my a...</td>\n",
       "      <td>1</td>\n",
       "    </tr>\n",
       "    <tr>\n",
       "      <th>653</th>\n",
       "      <td>945</td>\n",
       "      <td>blaze</td>\n",
       "      <td>Australia</td>\n",
       "      <td>Property losses from California wildfire nearl...</td>\n",
       "      <td>1</td>\n",
       "    </tr>\n",
       "    <tr>\n",
       "      <th>654</th>\n",
       "      <td>946</td>\n",
       "      <td>blaze</td>\n",
       "      <td>Raleigh Durham, NC</td>\n",
       "      <td>#breaking Firefighters battling blaze at east ...</td>\n",
       "      <td>1</td>\n",
       "    </tr>\n",
       "    <tr>\n",
       "      <th>669</th>\n",
       "      <td>964</td>\n",
       "      <td>blaze</td>\n",
       "      <td>Karachi</td>\n",
       "      <td>Property losses from #California wildfire near...</td>\n",
       "      <td>1</td>\n",
       "    </tr>\n",
       "  </tbody>\n",
       "</table>\n",
       "</div>"
      ],
      "text/plain": [
       "      id keyword            location  \\\n",
       "647  938   blaze        Temecula, CA   \n",
       "649  940   blaze          Fresno, CA   \n",
       "653  945   blaze           Australia   \n",
       "654  946   blaze  Raleigh Durham, NC   \n",
       "669  964   blaze            Karachi    \n",
       "\n",
       "                                                  text  target  \n",
       "647  Pendleton media office said only fire on base ...       1  \n",
       "649  Love living on my own. I can blaze inside my a...       1  \n",
       "653  Property losses from California wildfire nearl...       1  \n",
       "654  #breaking Firefighters battling blaze at east ...       1  \n",
       "669  Property losses from #California wildfire near...       1  "
      ]
     },
     "execution_count": 11,
     "metadata": {},
     "output_type": "execute_result"
    }
   ],
   "source": [
    "# drops ~ 5-10 records most of which I find misclassified\n",
    "train_tweets[(train_tweets.keyword==\"blaze\") & (train_tweets.target==1)]"
   ]
  },
  {
   "cell_type": "code",
   "execution_count": 12,
   "metadata": {},
   "outputs": [
    {
     "name": "stdout",
     "output_type": "stream",
     "text": [
      "<class 'pandas.core.frame.DataFrame'>\n",
      "Index: 0 entries\n",
      "Data columns (total 11 columns):\n",
      " #   Column                                      Non-Null Count  Dtype \n",
      "---  ------                                      --------------  ----- \n",
      " 0   Model_name                                  0 non-null      object\n",
      " 1   vocabulary size (factor1)                   0 non-null      object\n",
      " 2   pre-trained vector (factor2)                0 non-null      object\n",
      " 3   RNN structure (factor3)                     0 non-null      object\n",
      " 4   hyperparameter recurrent_dropout (factor4)  0 non-null      object\n",
      " 5   Processing Time                             0 non-null      object\n",
      " 6   Training Set Accuracy                       0 non-null      object\n",
      " 7   Validation Set Accuracy                     0 non-null      object\n",
      " 8   train f1                                    0 non-null      object\n",
      " 9   validation f1                               0 non-null      object\n",
      " 10  Test Set F1-score (Kaggle score)            0 non-null      object\n",
      "dtypes: object(11)\n",
      "memory usage: 0.0+ bytes\n"
     ]
    }
   ],
   "source": [
    "#Create a dataframe to store the model accuracy and scores\n",
    "results_tbl = pd.DataFrame(columns=['Model_name','vocabulary size (factor1)', 'pre-trained vector (factor2)','RNN structure (factor3)','hyperparameter recurrent_dropout (factor4)','Processing Time','Training Set Accuracy','Validation Set Accuracy','train f1','validation f1','Test Set F1-score (Kaggle score)'])\n",
    "results_tbl.info()"
   ]
  },
  {
   "cell_type": "markdown",
   "metadata": {},
   "source": [
    "# Exploratory Data Analysis & Data Preparation"
   ]
  },
  {
   "cell_type": "code",
   "execution_count": 13,
   "metadata": {},
   "outputs": [
    {
     "data": {
      "text/plain": [
       "Text(0.5, 1.0, 'target count plot in the training data (0 - not a real disaster, 1 - a real disaster)')"
      ]
     },
     "execution_count": 13,
     "metadata": {},
     "output_type": "execute_result"
    },
    {
     "data": {
      "image/png": "[encoded data removed]",
      "text/plain": [
       "<Figure size 432x288 with 1 Axes>"
      ]
     },
     "metadata": {
      "needs_background": "light"
     },
     "output_type": "display_data"
    }
   ],
   "source": [
    "# Count plot of the targets in training data \n",
    "sns.countplot(train_tweets['target'], palette=\"husl\")\n",
    "plt.title('target count plot in the training data (0 - not a real disaster, 1 - a real disaster)')"
   ]
  },
  {
   "cell_type": "code",
   "execution_count": 14,
   "metadata": {},
   "outputs": [
    {
     "data": {
      "text/plain": [
       "id             0\n",
       "keyword       61\n",
       "location    2533\n",
       "text           0\n",
       "target         0\n",
       "dtype: int64"
      ]
     },
     "execution_count": 14,
     "metadata": {},
     "output_type": "execute_result"
    }
   ],
   "source": [
    "# check for any null values \n",
    "# the variable of interest in the data is text.\n",
    "train_tweets.isna().sum() "
   ]
  },
  {
   "cell_type": "code",
   "execution_count": 15,
   "metadata": {
    "scrolled": true
   },
   "outputs": [
    {
     "data": {
      "image/png": "[encoded data removed]",
      "text/plain": [
       "<Figure size 720x360 with 2 Axes>"
      ]
     },
     "metadata": {
      "needs_background": "light"
     },
     "output_type": "display_data"
    }
   ],
   "source": [
    "# Distribution of the length of the tweets in the training data\n",
    "fig,(ax1,ax2) = plt.subplots(1,2,figsize=(10,5))\n",
    "disaster_tweets_len = train_tweets[train_tweets['target']==1]['text'].str.len()\n",
    "nondisaster_tweets_len = train_tweets[train_tweets['target']==0]['text'].str.len()\n",
    "ax1.hist(disaster_tweets_len, color=\"magenta\")\n",
    "ax1.set_title('char length disaster tweets - train')\n",
    "ax2.hist(nondisaster_tweets_len, color=\"purple\")\n",
    "ax2.set_title('char length non-disaster tweets - train')\n",
    "plt.show()"
   ]
  },
  {
   "cell_type": "code",
   "execution_count": 16,
   "metadata": {},
   "outputs": [
    {
     "data": {
      "image/png": "[encoded data removed]",
      "text/plain": [
       "<Figure size 720x360 with 2 Axes>"
      ]
     },
     "metadata": {
      "needs_background": "light"
     },
     "output_type": "display_data"
    }
   ],
   "source": [
    "# Distribution of the word lengths of the tweets in the  training data\n",
    "fig,(ax1,ax2)=plt.subplots(1,2,figsize=(10,5))\n",
    "diaster_tweet_lengths=train_tweets[train_tweets['target']==1]['text'].str.split().map(lambda x: len(x))\n",
    "ax1.hist(diaster_tweet_lengths,color='blue')\n",
    "ax1.set_title('word length distribution of \\n disaster tweets in training data')\n",
    "nondisaster_tweet_lengths=train_tweets[train_tweets['target']==0]['text'].str.split().map(lambda x: len(x))\n",
    "ax2.hist(nondisaster_tweet_lengths,color='yellow')\n",
    "ax2.set_title('word length distribution of \\n non-disaster tweets in training data')\n",
    "plt.show()"
   ]
  },
  {
   "cell_type": "markdown",
   "metadata": {},
   "source": [
    "# Read function for the  GloVe (global vectors) "
   ]
  },
  {
   "cell_type": "code",
   "execution_count": 17,
   "metadata": {},
   "outputs": [],
   "source": [
    "#reading from the file to turn the words to word embedding vector\n",
    "def read_glove_vecs(glove_file):\n",
    "    with open(glove_file, 'r') as f:\n",
    "        words = set()\n",
    "        word_to_vec_map = {}\n",
    "        for line in f:\n",
    "            line = line.strip().split()\n",
    "            curr_word = line[0]\n",
    "            words.add(curr_word)\n",
    "            word_to_vec_map[curr_word] = np.array(line[1:], dtype=np.float64)\n",
    "        \n",
    "        i = 1\n",
    "        words_to_index = {}\n",
    "        index_to_words = {}\n",
    "        for w in sorted(words):\n",
    "            words_to_index[w] = i\n",
    "            index_to_words[i] = w\n",
    "            i = i + 1\n",
    "    return words_to_index, index_to_words, word_to_vec_map"
   ]
  },
  {
   "cell_type": "markdown",
   "metadata": {},
   "source": [
    "## Read the Glove file - glove.6B.200d.txt"
   ]
  },
  {
   "cell_type": "code",
   "execution_count": 18,
   "metadata": {},
   "outputs": [],
   "source": [
    "#reading from the file to learn the word embedding into the list word_to_vec_map\n",
    "#word_to_index, index_to_word, word_to_vec_map = read_glove_vecs('/Users/harini-mac/Desktop/Northwestern University/MSDS-422/Week8/project1/nlp-getting-started/embeddings/gloVe.6B/glove.6B.50d.txt')\n",
    "#word_to_index, index_to_word, word_to_vec_map = read_glove_vecs('/Users/kerry/Downloads/embeddings/gloVe.6B/glove.6B.50d.txt')"
   ]
  },
  {
   "cell_type": "code",
   "execution_count": 19,
   "metadata": {},
   "outputs": [],
   "source": [
    "#reading from the file to learn the word embedding into the list word_to_vec_map\n",
    "word_to_index, index_to_word, word_to_vec_map = read_glove_vecs('/Users/kerry/Downloads/embeddings/gloVe.6B/glove.6B.200d.txt')"
   ]
  },
  {
   "cell_type": "code",
   "execution_count": 20,
   "metadata": {},
   "outputs": [
    {
     "data": {
      "text/plain": [
       "400000"
      ]
     },
     "execution_count": 20,
     "metadata": {},
     "output_type": "execute_result"
    }
   ],
   "source": [
    "len(word_to_index)"
   ]
  },
  {
   "cell_type": "code",
   "execution_count": 21,
   "metadata": {},
   "outputs": [
    {
     "data": {
      "text/plain": [
       "400000"
      ]
     },
     "execution_count": 21,
     "metadata": {},
     "output_type": "execute_result"
    }
   ],
   "source": [
    "len(word_to_vec_map)"
   ]
  },
  {
   "cell_type": "code",
   "execution_count": 22,
   "metadata": {},
   "outputs": [
    {
     "data": {
      "text/plain": [
       "400000"
      ]
     },
     "execution_count": 22,
     "metadata": {},
     "output_type": "execute_result"
    }
   ],
   "source": [
    "len(index_to_word)"
   ]
  },
  {
   "cell_type": "markdown",
   "metadata": {},
   "source": [
    "## Cleanse the training and test data \n",
    "## Use the word_to_vec_map from glove.6B.50d"
   ]
  },
  {
   "cell_type": "code",
   "execution_count": 23,
   "metadata": {},
   "outputs": [],
   "source": [
    "def clean(text):\n",
    "#    rgx_fix_caps = \"(?<=[\\.!?]\\s)([A-Z])\" # fixes like Hello into hello???\n",
    "#    subst = r\"\\\\\"\n",
    "#    pre_sentence = re.sub(rgx_fix_caps, subst, text)\n",
    "    \n",
    "    rgx_rmv_punc = re.compile('([^\\s\\w]|_)+') # removes punctuation\n",
    "    sentence = rgx_rmv_punc.sub(\"\", text).lower()\n",
    "    \n",
    "    sentence = sentence.split(\" \")\n",
    "    \n",
    "    for word in list(sentence):\n",
    "        if word not in word_to_vec_map: # removes word if it's not in the 'dictionary' (txt file). case-sensitive.\n",
    "            sentence.remove(word)\n",
    "            \n",
    "    sentence = \" \".join(sentence)\n",
    "    return sentence"
   ]
  },
  {
   "cell_type": "code",
   "execution_count": 24,
   "metadata": {},
   "outputs": [
    {
     "data": {
      "text/plain": [
       "'all residents asked to shelter in place are being notified by officers no other evacuation or shelter in place orders are expected'"
      ]
     },
     "execution_count": 24,
     "metadata": {},
     "output_type": "execute_result"
    }
   ],
   "source": [
    "clean(train_tweets.loc[2,'text'])"
   ]
  },
  {
   "cell_type": "code",
   "execution_count": 25,
   "metadata": {},
   "outputs": [],
   "source": [
    "for i in range (train_tweets.shape[0]):\n",
    "    train_tweets.at[i,'text']=clean(train_tweets.loc[i,'text'])\n",
    "    \n",
    "for i in range(test_tweets.shape[0]):\n",
    "    test_tweets.at[i,'text']=clean(test_tweets.loc[i,'text'])"
   ]
  },
  {
   "cell_type": "code",
   "execution_count": 26,
   "metadata": {},
   "outputs": [],
   "source": [
    "train_text = train_tweets['text']\n",
    "test_text = test_tweets['text']"
   ]
  },
  {
   "cell_type": "markdown",
   "metadata": {},
   "source": [
    "# Encode the text in the training data\n",
    "# Pad the resultant sequences"
   ]
  },
  {
   "cell_type": "code",
   "execution_count": 27,
   "metadata": {},
   "outputs": [],
   "source": [
    "# https://stackoverflow.com/questions/57693333/processing-before-or-after-train-test-split\n",
    "# https://www.kdnuggets.com/2020/03/tensorflow-keras-tokenization-text-data-prep.html\n",
    "tokenizer = keras.preprocessing.text.Tokenizer()\n",
    "tokenizer.fit_on_texts(train_text)"
   ]
  },
  {
   "cell_type": "code",
   "execution_count": 28,
   "metadata": {},
   "outputs": [],
   "source": [
    "train_sequences = tokenizer.texts_to_sequences(train_text)"
   ]
  },
  {
   "cell_type": "code",
   "execution_count": 29,
   "metadata": {},
   "outputs": [
    {
     "data": {
      "text/plain": [
       "[[178, 42, 214, 664, 6037, 6038, 1319]]"
      ]
     },
     "execution_count": 29,
     "metadata": {},
     "output_type": "execute_result"
    }
   ],
   "source": [
    "tokenizer.texts_to_sequences([\"Forest fire near La Ronge Sask. Canada\"])"
   ]
  },
  {
   "cell_type": "code",
   "execution_count": 30,
   "metadata": {},
   "outputs": [
    {
     "data": {
      "text/plain": [
       "['forest fire near la ronge sask canada']"
      ]
     },
     "execution_count": 30,
     "metadata": {},
     "output_type": "execute_result"
    }
   ],
   "source": [
    "tokenizer.sequences_to_texts([[178, 42, 214, 664, 6037, 6038, 1319]])"
   ]
  },
  {
   "cell_type": "code",
   "execution_count": 31,
   "metadata": {},
   "outputs": [
    {
     "name": "stdout",
     "output_type": "stream",
     "text": [
      "Number of unique tokens :  12256\n"
     ]
    }
   ],
   "source": [
    "word2index = tokenizer.word_index\n",
    "print(\"Number of unique tokens : \",len(word2index))"
   ]
  },
  {
   "cell_type": "code",
   "execution_count": 32,
   "metadata": {},
   "outputs": [
    {
     "data": {
      "text/plain": [
       "7613"
      ]
     },
     "execution_count": 32,
     "metadata": {},
     "output_type": "execute_result"
    }
   ],
   "source": [
    "dataset_size = tokenizer.document_count\n",
    "dataset_size"
   ]
  },
  {
   "cell_type": "code",
   "execution_count": 33,
   "metadata": {},
   "outputs": [
    {
     "data": {
      "text/plain": [
       "31"
      ]
     },
     "execution_count": 33,
     "metadata": {},
     "output_type": "execute_result"
    }
   ],
   "source": [
    "# Get max training sequence length\n",
    "maxlen = max([len(x) for x in train_sequences])\n",
    "maxlen"
   ]
  },
  {
   "cell_type": "code",
   "execution_count": 34,
   "metadata": {},
   "outputs": [
    {
     "data": {
      "text/plain": [
       "(7613, 31)"
      ]
     },
     "execution_count": 34,
     "metadata": {},
     "output_type": "execute_result"
    }
   ],
   "source": [
    "padded_seq = keras.preprocessing.sequence.pad_sequences(train_sequences,maxlen)\n",
    "X_train = padded_seq\n",
    "Y_train = train_tweets['target']\n",
    "X_train.shape"
   ]
  },
  {
   "cell_type": "markdown",
   "metadata": {},
   "source": [
    "# Generate embedding matrix for tokens in the training data - 200 Dimensions"
   ]
  },
  {
   "cell_type": "code",
   "execution_count": 35,
   "metadata": {},
   "outputs": [],
   "source": [
    "embedding_matrix = np.zeros((len(word2index)+1, dims))\n",
    "\n",
    "embedding_vec=[]\n",
    "for word, i in word2index.items():\n",
    "    embedding_vec = word_to_vec_map.get(word)\n",
    "    if embedding_vec is not None:\n",
    "        embedding_matrix[i] = embedding_vec"
   ]
  },
  {
   "cell_type": "code",
   "execution_count": 36,
   "metadata": {},
   "outputs": [
    {
     "name": "stdout",
     "output_type": "stream",
     "text": [
      "[-7.1549e-02  9.3459e-02  2.3738e-02 -9.0339e-02  5.6123e-02  3.2547e-01\n",
      " -3.9796e-01 -9.2139e-02  6.1181e-02 -1.8950e-01  1.3061e-01  1.4349e-01\n",
      "  1.1479e-02  3.8158e-01  5.4030e-01 -1.4088e-01  2.4315e-01  2.3036e-01\n",
      " -5.5339e-01  4.8154e-02  4.5662e-01  3.2338e+00  2.0199e-02  4.9019e-02\n",
      " -1.4132e-02  7.6017e-02 -1.1527e-01  2.0060e-01 -7.7657e-02  2.4328e-01\n",
      "  1.6368e-01 -3.4118e-01 -6.6070e-02  1.0152e-01  3.8232e-02 -1.7668e-01\n",
      " -8.8153e-01 -3.3895e-01 -3.5481e-02 -5.5095e-01 -1.6899e-02 -4.3982e-01\n",
      "  3.9004e-02  4.0447e-01 -2.5880e-01  6.4594e-01  2.6641e-01  2.8009e-01\n",
      " -2.4625e-02  6.3302e-01 -3.1700e-01  1.0271e-01  3.0886e-01  9.7792e-02\n",
      " -3.8227e-01  8.6552e-02  4.7075e-02  2.3511e-01 -3.2127e-01 -2.8538e-01\n",
      "  1.6670e-01 -4.9707e-03 -6.2714e-01 -2.4904e-01  2.9713e-01  1.4379e-01\n",
      " -1.2325e-01 -5.8178e-02 -1.0290e-03 -8.2126e-02  3.6935e-01 -5.8442e-04\n",
      "  3.4286e-01  2.8426e-01 -6.8599e-02  6.5747e-01 -2.9087e-02  1.6184e-01\n",
      "  7.3672e-02 -3.0343e-01  9.5733e-02 -5.2860e-01 -2.2898e-01  6.4079e-02\n",
      "  1.5218e-02  3.4921e-01 -4.3960e-01 -4.3983e-01  7.7515e-01 -8.7767e-01\n",
      " -8.7504e-02  3.9598e-01  6.2362e-01 -2.6211e-01 -3.0539e-01 -2.2964e-02\n",
      "  3.0567e-01  6.7660e-02  1.5383e-01 -1.1211e-01 -9.1540e-02  8.2562e-02\n",
      "  1.6897e-01 -3.2952e-02 -2.8775e-01 -2.2320e-01 -9.0426e-02  1.2407e+00\n",
      " -1.8244e-01 -7.5219e-03 -4.1388e-02 -1.1083e-02  7.8186e-02  3.8511e-01\n",
      "  2.3334e-01  1.4414e-01 -9.1070e-04 -2.6388e-01 -2.0481e-01  1.0099e-01\n",
      "  1.4076e-01  2.8834e-01 -4.5429e-02  3.7247e-01  1.3645e-01 -6.7457e-01\n",
      "  2.2786e-01  1.2599e-01  2.9091e-02  3.0428e-02 -1.3028e-01  1.9408e-01\n",
      "  4.9014e-01 -3.9121e-01 -7.5952e-02  7.4731e-02  1.8902e-01 -1.6922e-01\n",
      " -2.6019e-01 -3.9771e-02 -2.4153e-01  1.0875e-01  3.0434e-01  3.6009e-02\n",
      "  1.4264e+00  1.2759e-01 -7.3811e-02 -2.0418e-01  8.0016e-03  1.5381e-01\n",
      "  2.0223e-01  2.8274e-01  9.6206e-02 -3.3634e-01  5.0983e-01  3.2625e-01\n",
      " -2.6535e-01  3.7400e-01 -3.0388e-01 -4.0033e-01 -4.2910e-02 -6.7897e-02\n",
      " -2.9332e-01  1.0978e-01 -4.5365e-02  2.3222e-01 -3.1134e-01 -2.8983e-01\n",
      " -6.6687e-01  5.3097e-01  1.9461e-01  3.6670e-01  2.6185e-01 -6.5187e-01\n",
      "  1.0266e-01  1.1363e-01 -1.2953e-01 -6.8246e-01 -1.8751e-01  1.4760e-01\n",
      "  1.0765e+00 -2.2908e-01 -9.3435e-03 -2.0651e-01 -3.5225e-01 -2.6720e-01\n",
      " -3.4307e-03  2.5906e-01  2.1759e-01  6.6158e-01  1.2180e-01  1.9957e-01\n",
      " -2.0303e-01  3.4474e-01 -2.4328e-01  1.3139e-01 -8.8767e-03  3.3617e-01\n",
      "  3.0591e-02  2.5577e-01]\n"
     ]
    }
   ],
   "source": [
    "print(embedding_matrix[1])"
   ]
  },
  {
   "cell_type": "code",
   "execution_count": 37,
   "metadata": {},
   "outputs": [
    {
     "name": "stdout",
     "output_type": "stream",
     "text": [
      "(12257, 200)\n"
     ]
    }
   ],
   "source": [
    "print(embedding_matrix.shape)"
   ]
  },
  {
   "cell_type": "markdown",
   "metadata": {},
   "source": [
    "# Fit RNN 1\n",
    "# vocabulary size (factor 1): 400K\n",
    "# pre-trained vector (factor 2): GloVe.6B.50d\n",
    "# rnn structure (factor 3): LSTM layer based structure\n",
    "# recurrent dropout (factor 4): 0.1"
   ]
  },
  {
   "cell_type": "code",
   "execution_count": 45,
   "metadata": {},
   "outputs": [],
   "source": [
    "model1 = keras.models.Sequential([\n",
    "    keras.layers.Embedding(len(word2index)+1,\n",
    "                           dims,\n",
    "                           weights=[embedding_matrix],\n",
    "                           input_length=maxlen,\n",
    "                           trainable=True),\n",
    "    keras.layers.LSTM(units=128 , return_sequences = True , recurrent_dropout = 0.1 , dropout = 0.1),\n",
    "    keras.layers.LSTM(units=64 , recurrent_dropout = 0.1 , dropout = 0.1),\n",
    "    keras.layers.Dense(32, activation='tanh'),\n",
    "    keras.layers.Dense(4, activation='tanh')\n",
    "])"
   ]
  },
  {
   "cell_type": "code",
   "execution_count": 46,
   "metadata": {},
   "outputs": [
    {
     "name": "stdout",
     "output_type": "stream",
     "text": [
      "Model: \"sequential_2\"\n",
      "_________________________________________________________________\n",
      "Layer (type)                 Output Shape              Param #   \n",
      "=================================================================\n",
      "embedding_2 (Embedding)      (None, 31, 200)           2451400   \n",
      "_________________________________________________________________\n",
      "lstm_4 (LSTM)                (None, 31, 128)           168448    \n",
      "_________________________________________________________________\n",
      "lstm_5 (LSTM)                (None, 64)                49408     \n",
      "_________________________________________________________________\n",
      "dense_4 (Dense)              (None, 32)                2080      \n",
      "_________________________________________________________________\n",
      "dense_5 (Dense)              (None, 4)                 132       \n",
      "=================================================================\n",
      "Total params: 2,671,468\n",
      "Trainable params: 2,671,468\n",
      "Non-trainable params: 0\n",
      "_________________________________________________________________\n"
     ]
    }
   ],
   "source": [
    "model1.summary()"
   ]
  },
  {
   "cell_type": "code",
   "execution_count": 47,
   "metadata": {},
   "outputs": [],
   "source": [
    "opt=Adam(learning_rate=1e-5)\n",
    "model1.compile(\n",
    "  loss='binary_crossentropy',\n",
    "  optimizer=opt,\n",
    "  metrics=['accuracy', f1_m],\n",
    ")"
   ]
  },
  {
   "cell_type": "code",
   "execution_count": null,
   "metadata": {},
   "outputs": [
    {
     "name": "stdout",
     "output_type": "stream",
     "text": [
      "Epoch 1/30\n",
      "167/167 [==============================] - 32s 191ms/step - loss: 1.4010 - accuracy: 0.2034 - f1_m: 8.5543e-04 - val_loss: 0.9089 - val_accuracy: 0.1896 - val_f1_m: 0.0019\n",
      "Epoch 2/30\n",
      "167/167 [==============================] - 33s 195ms/step - loss: 0.8484 - accuracy: 0.1610 - f1_m: 0.0426 - val_loss: 0.7652 - val_accuracy: 0.1642 - val_f1_m: 0.1022\n",
      "Epoch 3/30\n",
      "167/167 [==============================] - 32s 192ms/step - loss: 0.7568 - accuracy: 0.1409 - f1_m: 0.2205 - val_loss: 0.7147 - val_accuracy: 0.1458 - val_f1_m: 0.3519\n",
      "Epoch 4/30\n",
      "167/167 [==============================] - 32s 193ms/step - loss: 0.7203 - accuracy: 0.1368 - f1_m: 0.4633 - val_loss: 0.6910 - val_accuracy: 0.1554 - val_f1_m: 0.5181\n",
      "Epoch 5/30\n",
      "167/167 [==============================] - 35s 211ms/step - loss: 0.6949 - accuracy: 0.1509 - f1_m: 0.6195 - val_loss: 0.6712 - val_accuracy: 0.1664 - val_f1_m: 0.6275\n",
      "Epoch 6/30\n",
      "133/167 [======================>.......] - ETA: 6s - loss: 0.6769 - accuracy: 0.1572 - f1_m: 0.7170"
     ]
    }
   ],
   "source": [
    "# Fit the model; obtain the model fit time\n",
    "start=datetime.now()\n",
    "history1 = model1.fit(X_train,Y_train,\n",
    "                    batch_size=32,\n",
    "                    epochs=30,\n",
    "                    validation_split=0.3\n",
    ")\n",
    "end=datetime.now()\n",
    "print(end-start)"
   ]
  },
  {
   "cell_type": "code",
   "execution_count": null,
   "metadata": {},
   "outputs": [],
   "source": [
    "print ('Best Train Accuracy: ')\n",
    "best_model_train_accuracy = np.round(history1.history['accuracy'][np.argmin(history1.history['loss'])],4)\n",
    "best_model_train_accuracy"
   ]
  },
  {
   "cell_type": "code",
   "execution_count": null,
   "metadata": {},
   "outputs": [],
   "source": [
    "print ('Best Validation Accuracy: ')\n",
    "best_model_val_accuracy = np.round(history1.history['val_accuracy'][np.argmin(history1.history['val_loss'])],4)\n",
    "best_model_val_accuracy"
   ]
  },
  {
   "cell_type": "code",
   "execution_count": null,
   "metadata": {},
   "outputs": [],
   "source": [
    "best_model_train_f1 = max(np.round(history1.history['f1_m'],4))\n",
    "print ('Best Train f1: {}'.format(best_model_train_f1))\n",
    "\n",
    "best_model_val_f1 = max(np.round(history1.history['val_f1_m'],4))\n",
    "print ('Best val f1: {}'.format(best_model_val_f1))"
   ]
  },
  {
   "cell_type": "code",
   "execution_count": null,
   "metadata": {},
   "outputs": [],
   "source": [
    "# Plot the learning curve\n",
    "pd.DataFrame(history1.history).plot(figsize=(10, 8))\n",
    "plt.grid(True)\n",
    "plt.gca().set_ylim(0, 1) # set the vertical range to [0-1]\n",
    "plt.title('Learning curve -  factor1: 400K, factor2: GloVe.6B.50d, factor3: LSTM, factor4: 0.1')\n",
    "plt.show()"
   ]
  },
  {
   "cell_type": "markdown",
   "metadata": {},
   "source": [
    "# Prepare the test data"
   ]
  },
  {
   "cell_type": "code",
   "execution_count": null,
   "metadata": {},
   "outputs": [],
   "source": [
    "test_sequences = tokenizer.texts_to_sequences(test_text)\n",
    "padded_seq = keras.preprocessing.sequence.pad_sequences(test_sequences,maxlen)\n",
    "X_test = padded_seq\n",
    "X_test.shape"
   ]
  },
  {
   "cell_type": "markdown",
   "metadata": {},
   "source": [
    "# Make the prediction on the test data\n",
    "# 1 - disaster tweet , 0 - non-disaster tweet"
   ]
  },
  {
   "cell_type": "code",
   "execution_count": null,
   "metadata": {},
   "outputs": [],
   "source": [
    "predict1 = model1.predict_classes(X_test)\n",
    "predict1"
   ]
  },
  {
   "cell_type": "code",
   "execution_count": null,
   "metadata": {},
   "outputs": [],
   "source": [
    "len(predict1)"
   ]
  },
  {
   "cell_type": "code",
   "execution_count": null,
   "metadata": {},
   "outputs": [],
   "source": [
    "# save the results to a csv\n",
    "submission_df = pd.DataFrame({'id':test_tweets['id'],'target':np.squeeze(predict1)})\n",
    "submission_df.to_csv('submission_rnn_1.csv',index=False)"
   ]
  },
  {
   "cell_type": "code",
   "execution_count": null,
   "metadata": {},
   "outputs": [],
   "source": [
    "#Store the accuracy and kaggle score for this model \n",
    "results_tbl = results_tbl.append({'Model_name':'RNN #1', \n",
    "                                   'vocabulary size (factor1)':'400K',\n",
    "                                   'pre-trained vector (factor2)':'GloVe.6B.50d',\n",
    "                                   'RNN structure (factor3)':'LSTM layer based',\n",
    "                                   'hyperparameter recurrent_dropout (factor4)': '0.1',\n",
    "                                   'Processing Time':(end-start),\n",
    "                                   'Training Set Accuracy':best_model_train_accuracy,\n",
    "                                   'Validation Set Accuracy':best_model_val_accuracy,\n",
    "                                   'train f1':best_model_train_f1,\n",
    "                                   'validation f1':best_model_val_f1,\n",
    "                                   'Test Set F1-score (Kaggle score)': '0.78087'\n",
    "                                   },ignore_index=True)\n",
    "results_tbl\n"
   ]
  },
  {
   "cell_type": "markdown",
   "metadata": {},
   "source": [
    "# Fit RNN 2\n",
    "# vocabulary size (factor 1): 400K\n",
    "# pre-trained vector (factor 2): GloVe.6B.200d\n",
    "# rnn structure (factor 3): LSTM layer based structure\n",
    "# recurrent dropout (factor 4): 0.3"
   ]
  },
  {
   "cell_type": "code",
   "execution_count": null,
   "metadata": {},
   "outputs": [],
   "source": [
    "model2 = keras.models.Sequential([\n",
    "    keras.layers.Embedding(len(word2index)+1,50,weights=[embedding_matrix],input_length=maxlen,trainable=False),\n",
    "    keras.layers.LSTM(units=128 , return_sequences = True , recurrent_dropout = 0.3 , dropout = 0.3),\n",
    "    keras.layers.LSTM(units=64 , recurrent_dropout = 0.3 , dropout = 0.3),\n",
    "    keras.layers.Dense(32, activation='tanh'),\n",
    "    keras.layers.Dense(1,activation='tanh')\n",
    "])"
   ]
  },
  {
   "cell_type": "code",
   "execution_count": null,
   "metadata": {},
   "outputs": [],
   "source": [
    "model2.summary()"
   ]
  },
  {
   "cell_type": "code",
   "execution_count": null,
   "metadata": {},
   "outputs": [],
   "source": [
    "opt=Adam(learning_rate=1e-5)\n",
    "model2.compile(\n",
    "  loss='binary_crossentropy',\n",
    "  optimizer=opt,\n",
    "  metrics=['accuracy', f1_m],\n",
    ")"
   ]
  },
  {
   "cell_type": "code",
   "execution_count": null,
   "metadata": {},
   "outputs": [],
   "source": [
    "# Fit the model; obtain the model fit time\n",
    "start=datetime.now()\n",
    "history2 = model2.fit(X_train,Y_train,\n",
    "                    batch_size=32,\n",
    "                    epochs=40,\n",
    "                    validation_split=0.3\n",
    ")\n",
    "end=datetime.now()\n",
    "print(end-start)"
   ]
  },
  {
   "cell_type": "code",
   "execution_count": null,
   "metadata": {},
   "outputs": [],
   "source": [
    "print ('Best Train Accuracy: ')\n",
    "best_model_train_accuracy = np.round(history2.history['accuracy'][np.argmin(history2.history['loss'])],4)\n",
    "best_model_train_accuracy"
   ]
  },
  {
   "cell_type": "code",
   "execution_count": null,
   "metadata": {},
   "outputs": [],
   "source": [
    "print ('Best Validation Accuracy: ')\n",
    "best_model_val_accuracy = np.round(history2.history['val_accuracy'][np.argmin(history2.history['val_loss'])],4)\n",
    "best_model_val_accuracy"
   ]
  },
  {
   "cell_type": "code",
   "execution_count": null,
   "metadata": {},
   "outputs": [],
   "source": [
    "best_model_train_f1 = max(np.round(history2.history['f1_m'],4))\n",
    "print ('Best Train f1: {}'.format(best_model_train_f1))\n",
    "\n",
    "best_model_val_f1 = max(np.round(history2.history['val_f1_m'],4))\n",
    "print ('Best val f1: {}'.format(best_model_val_f1))"
   ]
  },
  {
   "cell_type": "code",
   "execution_count": null,
   "metadata": {},
   "outputs": [],
   "source": [
    "# Plot the learning curve\n",
    "pd.DataFrame(history2.history).plot(figsize=(10, 8))\n",
    "plt.grid(True)\n",
    "plt.gca().set_ylim(0, 1) # set the vertical range to [0-1]\n",
    "plt.title('Learning curve -  factor1: 400K, factor2: GloVe.6B.50d, factor3: LSTM, factor4: 0.3')\n",
    "plt.show()"
   ]
  },
  {
   "cell_type": "markdown",
   "metadata": {},
   "source": [
    "# Make the prediction on the test data\n",
    "# 1 - disaster tweet , 0 - non-disaster tweet"
   ]
  },
  {
   "cell_type": "code",
   "execution_count": null,
   "metadata": {},
   "outputs": [],
   "source": [
    "predict2 = model2.predict_classes(X_test)\n",
    "predict2"
   ]
  },
  {
   "cell_type": "code",
   "execution_count": null,
   "metadata": {},
   "outputs": [],
   "source": [
    "len(predict2)"
   ]
  },
  {
   "cell_type": "code",
   "execution_count": null,
   "metadata": {},
   "outputs": [],
   "source": [
    "# save the results to a csv\n",
    "submission_df = pd.DataFrame({'id':test_tweets['id'],'target':np.squeeze(predict2)})\n",
    "submission_df.to_csv('submission_rnn_2.csv',index=False)"
   ]
  },
  {
   "cell_type": "code",
   "execution_count": null,
   "metadata": {},
   "outputs": [],
   "source": [
    "#Store the accuracy and kaggle score for this model \n",
    "results_tbl = results_tbl.append({'Model_name':'RNN #2', \n",
    "                                   'vocabulary size (factor1)':'400K',\n",
    "                                   'pre-trained vector (factor2)':'GloVe.6B.50d',\n",
    "                                   'RNN structure (factor3)':'LSTM layer based',\n",
    "                                   'hyperparameter recurrent_dropout (factor4)': '0.3',\n",
    "                                   'Processing Time':(end-start),\n",
    "                                   'Training Set Accuracy':best_model_train_accuracy,\n",
    "                                   'Validation Set Accuracy':best_model_val_accuracy,\n",
    "                                   'train f1':best_model_train_f1,\n",
    "                                   'validation f1':best_model_val_f1,\n",
    "                                   'Test Set F1-score (Kaggle score)': '0.78026'\n",
    "                                   },ignore_index=True)\n",
    "results_tbl\n"
   ]
  },
  {
   "cell_type": "markdown",
   "metadata": {},
   "source": [
    "# Fit RNN 3\n",
    "# vocabulary size (factor 1): 400K\n",
    "# pre-trained vector (factor 2): GloVe.6B.200d\n",
    "# rnn structure (factor 3): GRU layer based structure\n",
    "# recurrent dropout (factor 4): 0.1"
   ]
  },
  {
   "cell_type": "code",
   "execution_count": null,
   "metadata": {},
   "outputs": [],
   "source": [
    "model3 = keras.models.Sequential([\n",
    "    keras.layers.Embedding(len(word2index)+1,\n",
    "                           50,\n",
    "                           weights=[embedding_matrix],\n",
    "                           input_length=maxlen,\n",
    "                           trainable=True),\n",
    "    keras.layers.GRU(units=128 , return_sequences = True , recurrent_dropout = 0.1, dropout = 0.1),\n",
    "    keras.layers.GRU(units=64 , recurrent_dropout = 0.1 , dropout = 0.1),\n",
    "    keras.layers.Dense(22, activation='tanh'),\n",
    "    keras.layers.Dense(4, activation='tanh')\n",
    "])"
   ]
  },
  {
   "cell_type": "code",
   "execution_count": null,
   "metadata": {},
   "outputs": [],
   "source": [
    "model3.summary()"
   ]
  },
  {
   "cell_type": "code",
   "execution_count": null,
   "metadata": {},
   "outputs": [],
   "source": [
    "opt=Adam(learning_rate=1e-5)\n",
    "model3.compile(\n",
    "  loss='binary_crossentropy',\n",
    "  optimizer=opt,\n",
    "  metrics=['accuracy', f1_m],\n",
    ")"
   ]
  },
  {
   "cell_type": "code",
   "execution_count": null,
   "metadata": {},
   "outputs": [],
   "source": [
    "# Fit the model; obtain the model fit time\n",
    "start=datetime.now()\n",
    "history3 = model3.fit(X_train,Y_train,\n",
    "                    batch_size=32,\n",
    "                    epochs=40,\n",
    "                    validation_split=0.3\n",
    ")\n",
    "end=datetime.now()\n",
    "print(end-start)"
   ]
  },
  {
   "cell_type": "code",
   "execution_count": null,
   "metadata": {},
   "outputs": [],
   "source": [
    "print ('Best Train Accuracy: ')\n",
    "best_model_train_accuracy = np.round(history3.history['accuracy'][np.argmin(history3.history['loss'])],4)\n",
    "best_model_train_accuracy"
   ]
  },
  {
   "cell_type": "code",
   "execution_count": null,
   "metadata": {},
   "outputs": [],
   "source": [
    "print ('Best Validation Accuracy: ')\n",
    "best_model_val_accuracy = np.round(history3.history['val_accuracy'][np.argmin(history3.history['val_loss'])],4)\n",
    "best_model_val_accuracy"
   ]
  },
  {
   "cell_type": "code",
   "execution_count": null,
   "metadata": {},
   "outputs": [],
   "source": [
    "best_model_train_f1 = max(np.round(history3.history['f1_m'],4))\n",
    "print ('Best Train f1: {}'.format(best_model_train_f1))\n",
    "\n",
    "best_model_val_f1 = max(np.round(history3.history['val_f1_m'],4))\n",
    "print ('Best val f1: {}'.format(best_model_val_f1))"
   ]
  },
  {
   "cell_type": "code",
   "execution_count": null,
   "metadata": {},
   "outputs": [],
   "source": [
    "# Plot the learning curve\n",
    "pd.DataFrame(history3.history).plot(figsize=(10, 8))\n",
    "plt.grid(True)\n",
    "plt.gca().set_ylim(0, 1) # set the vertical range to [0-1]\n",
    "plt.title('Learning curve - factor1: 400K, factor2: GloVe.6B.50d, factor3: GRU, factor4: 0.1')\n",
    "plt.show()"
   ]
  },
  {
   "cell_type": "markdown",
   "metadata": {},
   "source": [
    "# Make the prediction on the test data\n",
    "# 1 - disaster tweet , 0 - non-disaster tweet"
   ]
  },
  {
   "cell_type": "code",
   "execution_count": null,
   "metadata": {},
   "outputs": [],
   "source": [
    "predict3 = model3.predict_classes(X_test)\n",
    "predict3"
   ]
  },
  {
   "cell_type": "code",
   "execution_count": null,
   "metadata": {},
   "outputs": [],
   "source": [
    "len(predict3)"
   ]
  },
  {
   "cell_type": "code",
   "execution_count": null,
   "metadata": {},
   "outputs": [],
   "source": [
    "# save the results to a csv\n",
    "submission_df = pd.DataFrame({'id':test_tweets['id'],'target':np.squeeze(predict3)})\n",
    "submission_df.to_csv('submission_rnn_3.csv',index=False)"
   ]
  },
  {
   "cell_type": "code",
   "execution_count": null,
   "metadata": {},
   "outputs": [],
   "source": [
    "#Store the accuracy and kaggle score for this model \n",
    "results_tbl = results_tbl.append({'Model_name':'RNN #3', \n",
    "                                   'vocabulary size (factor1)':'400K',\n",
    "                                   'pre-trained vector (factor2)':'GloVe.6B.50d',\n",
    "                                   'RNN structure (factor3)':'GRU layer based',\n",
    "                                   'hyperparameter recurrent_dropout (factor4)': '0.1',\n",
    "                                   'Processing Time':(end-start),\n",
    "                                   'Training Set Accuracy':best_model_train_accuracy,\n",
    "                                   'Validation Set Accuracy':best_model_val_accuracy,\n",
    "                                   'train f1':best_model_train_f1,\n",
    "                                   'validation f1':best_model_val_f1,\n",
    "                                   'Test Set F1-score (Kaggle score)': '0.78302'\n",
    "                                   },ignore_index=True)\n",
    "results_tbl\n"
   ]
  },
  {
   "cell_type": "markdown",
   "metadata": {},
   "source": [
    "# Fit RNN 4\n",
    "# vocabulary size (factor 1): 400K\n",
    "# pre-trained vector (factor 2): GloVe.6B.200d\n",
    "# rnn structure (factor 3): GRU based structure\n",
    "# recurrent dropout (factor 4): 0.1"
   ]
  },
  {
   "cell_type": "code",
   "execution_count": null,
   "metadata": {},
   "outputs": [],
   "source": [
    "model4 = keras.models.Sequential([\n",
    "    keras.layers.Embedding(len(word2index)+1, 50, weights=[embedding_matrix],\n",
    "                           input_length=maxlen,\n",
    "                           trainable=True),\n",
    "    keras.layers.GRU(units=128 , return_sequences = True),\n",
    "    keras.layers.GRU(units=64 , recurrent_dropout = 0.1),\n",
    "    keras.layers.Dense(22, activation='tanh'),\n",
    "    keras.layers.Dense(4, activation='tanh')\n",
    "])"
   ]
  },
  {
   "cell_type": "code",
   "execution_count": null,
   "metadata": {},
   "outputs": [],
   "source": [
    "model4.summary()"
   ]
  },
  {
   "cell_type": "code",
   "execution_count": null,
   "metadata": {},
   "outputs": [],
   "source": [
    "opt=Adam(learning_rate=1e-5)\n",
    "model4.compile(\n",
    "  loss='binary_crossentropy',\n",
    "  optimizer=opt,\n",
    "  metrics=['accuracy', f1_m],\n",
    ")"
   ]
  },
  {
   "cell_type": "code",
   "execution_count": null,
   "metadata": {},
   "outputs": [],
   "source": [
    "# Fit the model; obtain the model fit time\n",
    "start=datetime.now()\n",
    "history4 = model4.fit(X_train,Y_train,\n",
    "                    batch_size=32,\n",
    "                    epochs=25,\n",
    "                    validation_split=0.3\n",
    ")\n",
    "end=datetime.now()\n",
    "print(end-start)"
   ]
  },
  {
   "cell_type": "code",
   "execution_count": null,
   "metadata": {},
   "outputs": [],
   "source": [
    "print ('Best Train Accuracy: ')\n",
    "best_model_train_accuracy = np.round(history4.history['accuracy'][np.argmin(history4.history['loss'])],4)\n",
    "best_model_train_accuracy"
   ]
  },
  {
   "cell_type": "code",
   "execution_count": null,
   "metadata": {},
   "outputs": [],
   "source": [
    "print ('Best Validation Accuracy: ')\n",
    "best_model_val_accuracy = np.round(history4.history['val_accuracy'][np.argmin(history4.history['val_loss'])],4)\n",
    "best_model_val_accuracy"
   ]
  },
  {
   "cell_type": "code",
   "execution_count": null,
   "metadata": {},
   "outputs": [],
   "source": [
    "best_model_train_f1 = max(np.round(history4.history['f1_m'],4))\n",
    "print ('Best Train f1: {}'.format(best_model_train_f1))\n",
    "\n",
    "best_model_val_f1 = max(np.round(history4.history['val_f1_m'],4))\n",
    "print ('Best val f1: {}'.format(best_model_val_f1))"
   ]
  },
  {
   "cell_type": "code",
   "execution_count": null,
   "metadata": {},
   "outputs": [],
   "source": [
    "# Plot the learning curve\n",
    "pd.DataFrame(history4.history).plot(figsize=(10, 8))\n",
    "plt.grid(True)\n",
    "plt.gca().set_ylim(0, 1) # set the vertical range to [0-1]\n",
    "plt.title('Learning curve - factor1: 400K, factor2: GloVe.6B.50d, factor3: GRU, factor4: 0.3')\n",
    "plt.show()\n"
   ]
  },
  {
   "cell_type": "markdown",
   "metadata": {},
   "source": [
    "# Make the prediction on the test data\n",
    "# 1 - disaster tweet , 0 - non-disaster tweet"
   ]
  },
  {
   "cell_type": "code",
   "execution_count": null,
   "metadata": {},
   "outputs": [],
   "source": [
    "predict4 = model4.predict_classes(X_test)\n",
    "predict4\n"
   ]
  },
  {
   "cell_type": "code",
   "execution_count": null,
   "metadata": {},
   "outputs": [],
   "source": [
    "# save the results to a csv\n",
    "submission_df = pd.DataFrame({'id':test_tweets['id'],'target':np.squeeze(predict4)})\n",
    "submission_df.to_csv('submission_rnn_4.csv',index=False)\n"
   ]
  },
  {
   "cell_type": "code",
   "execution_count": null,
   "metadata": {},
   "outputs": [],
   "source": [
    "\n",
    "#Store the accuracy and kaggle score for this model \n",
    "results_tbl = results_tbl.append({'Model_name':'RNN #4', \n",
    "                                   'vocabulary size (factor1)':'400K',\n",
    "                                   'pre-trained vector (factor2)':'GloVe.6B.50d',\n",
    "                                   'RNN structure (factor3)':'GRU layer based',\n",
    "                                   'hyperparameter recurrent_dropout (factor4)': '0.3',\n",
    "                                   'Processing Time':(end-start),\n",
    "                                   'Training Set Accuracy':best_model_train_accuracy,\n",
    "                                   'Validation Set Accuracy':best_model_val_accuracy,\n",
    "                                   'train f1':best_model_train_f1,\n",
    "                                   'validation f1':best_model_val_f1,\n",
    "                                   'Test Set F1-score (Kaggle score)': '0.77873'\n",
    "                                   },ignore_index=True)\n",
    "results_tbl"
   ]
  },
  {
   "cell_type": "markdown",
   "metadata": {},
   "source": [
    "# Fit RNN 5\n",
    "# vocabulary size (factor 1): 400K\n",
    "# pre-trained vector (factor 2): GloVe.6B.200d\n",
    "# rnn structure (factor 3): LSTM layer based structure\n",
    "# recurrent dropout (factor 4): 0.1"
   ]
  },
  {
   "cell_type": "code",
   "execution_count": null,
   "metadata": {},
   "outputs": [],
   "source": [
    "model5 = keras.models.Sequential([\n",
    "    keras.layers.Embedding(len(word2index)+1,200,weights=[embedding_matrix],input_length=maxlen,trainable=False),\n",
    "    keras.layers.LSTM(units=128 , return_sequences = True , recurrent_dropout = 0.1 , dropout = 0.1),\n",
    "    keras.layers.LSTM(units=64 , recurrent_dropout = 0.1 , dropout = 0.1),\n",
    "    keras.layers.Dense(32, activation='tanh'),\n",
    "    keras.layers.Dense(1,activation='tanh')\n",
    "])"
   ]
  },
  {
   "cell_type": "code",
   "execution_count": null,
   "metadata": {},
   "outputs": [],
   "source": [
    "model5.summary()"
   ]
  },
  {
   "cell_type": "code",
   "execution_count": null,
   "metadata": {},
   "outputs": [],
   "source": [
    "opt=Adam(learning_rate=1e-5)\n",
    "model5.compile(\n",
    "  loss='binary_crossentropy',\n",
    "  optimizer=opt,\n",
    "  metrics=['accuracy', f1_m],\n",
    ")"
   ]
  },
  {
   "cell_type": "code",
   "execution_count": null,
   "metadata": {},
   "outputs": [],
   "source": [
    "# Fit the model; obtain the model fit time\n",
    "start=datetime.now()\n",
    "history5 = model5.fit(X_train,Y_train,\n",
    "                    batch_size=32,\n",
    "                    epochs=40,\n",
    "                    validation_split=0.1\n",
    ")\n",
    "end=datetime.now()\n",
    "print(end-start)"
   ]
  },
  {
   "cell_type": "code",
   "execution_count": null,
   "metadata": {},
   "outputs": [],
   "source": [
    "print ('Best Train Accuracy: ')\n",
    "best_model_train_accuracy = np.round(history5.history['accuracy'][np.argmin(history5.history['loss'])],4)\n",
    "best_model_train_accuracy"
   ]
  },
  {
   "cell_type": "code",
   "execution_count": null,
   "metadata": {},
   "outputs": [],
   "source": [
    "print ('Best Validation Accuracy: ')\n",
    "best_model_val_accuracy = np.round(history5.history['val_accuracy'][np.argmin(history5.history['val_loss'])],4)\n",
    "best_model_val_accuracy"
   ]
  },
  {
   "cell_type": "code",
   "execution_count": null,
   "metadata": {},
   "outputs": [],
   "source": [
    "best_model_train_f1 = max(np.round(history5.history['f1_m'],4))\n",
    "print ('Best Train f1: {}'.format(best_model_train_f1))\n",
    "\n",
    "best_model_val_f1 = max(np.round(history5.history['val_f1_m'],4))\n",
    "print ('Best val f1: {}'.format(best_model_val_f1))"
   ]
  },
  {
   "cell_type": "code",
   "execution_count": null,
   "metadata": {},
   "outputs": [],
   "source": [
    "\n",
    "# Plot the learning curve\n",
    "pd.DataFrame(history5.history).plot(figsize=(10, 8))\n",
    "plt.grid(True)\n",
    "plt.gca().set_ylim(0, 1) # set the vertical range to [0-1]\n",
    "plt.title('Learning curve - factor1: 400K, factor2: GloVe.6B.200d, factor3: LSTM, factor4: 0.1')\n",
    "plt.show()"
   ]
  },
  {
   "cell_type": "markdown",
   "metadata": {},
   "source": [
    "# Prepare the test data"
   ]
  },
  {
   "cell_type": "code",
   "execution_count": null,
   "metadata": {},
   "outputs": [],
   "source": [
    "test_sequences = tokenizer.texts_to_sequences(test_text)\n",
    "padded_seq = keras.preprocessing.sequence.pad_sequences(test_sequences,maxlen)\n",
    "X_test = padded_seq\n",
    "X_test.shape"
   ]
  },
  {
   "cell_type": "code",
   "execution_count": null,
   "metadata": {},
   "outputs": [],
   "source": [
    "\n",
    "predict5 = model5.predict_classes(X_test)\n",
    "predict5"
   ]
  },
  {
   "cell_type": "code",
   "execution_count": null,
   "metadata": {},
   "outputs": [],
   "source": [
    "len(predict5)"
   ]
  },
  {
   "cell_type": "code",
   "execution_count": null,
   "metadata": {},
   "outputs": [],
   "source": [
    "# save the results to a csv\n",
    "submission_df = pd.DataFrame({'id':test_tweets['id'],'target':np.squeeze(predict5)})\n",
    "submission_df.to_csv('submission_rnn_5.csv',index=False)\n"
   ]
  },
  {
   "cell_type": "code",
   "execution_count": null,
   "metadata": {},
   "outputs": [],
   "source": [
    "#Store the accuracy and kaggle score for this model \n",
    "results_tbl = results_tbl.append({'Model_name':'RNN #5', \n",
    "                                   'vocabulary size (factor1)':'400K',\n",
    "                                   'pre-trained vector (factor2)':'GloVe.6B.200d',\n",
    "                                   'RNN structure (factor3)':'LSTM layer based',\n",
    "                                   'hyperparameter recurrent_dropout (factor4)': '0.1',\n",
    "                                   'Processing Time':(end-start),\n",
    "                                   'Training Set Accuracy':best_model_train_accuracy,\n",
    "                                   'Validation Set Accuracy':best_model_val_accuracy,\n",
    "                                   'train f1':best_model_train_f1,\n",
    "                                   'validation f1':best_model_val_f1,\n",
    "                                   'Test Set F1-score (Kaggle score)': '0.79313'\n",
    "                                   },ignore_index=True)\n",
    "results_tbl"
   ]
  },
  {
   "cell_type": "markdown",
   "metadata": {},
   "source": [
    "# Fit RNN 6\n",
    "# vocabulary size (factor 1): 400K\n",
    "# pre-trained vector (factor 2): GloVe.6B.200d\n",
    "# rnn structure (factor 3): LSTM layer based structure\n",
    "# recurrent dropout (factor 4): 0.3\n"
   ]
  },
  {
   "cell_type": "code",
   "execution_count": null,
   "metadata": {},
   "outputs": [],
   "source": [
    "model6 = keras.models.Sequential([\n",
    "    keras.layers.Embedding(len(word2index)+1,200,weights=[embedding_matrix],input_length=maxlen,trainable=False),\n",
    "    keras.layers.LSTM(units=128 , return_sequences = True , recurrent_dropout = 0.3 , dropout = 0.3),\n",
    "    keras.layers.LSTM(units=64 , recurrent_dropout = 0.3 , dropout = 0.3),\n",
    "    keras.layers.Dense(32, activation='tanh'),\n",
    "    keras.layers.Dense(1,activation='tanh')\n",
    "])"
   ]
  },
  {
   "cell_type": "code",
   "execution_count": null,
   "metadata": {},
   "outputs": [],
   "source": [
    "model6.summary()"
   ]
  },
  {
   "cell_type": "code",
   "execution_count": null,
   "metadata": {},
   "outputs": [],
   "source": [
    "opt=Adam(learning_rate=1e-5)\n",
    "model6.compile(\n",
    "  loss='binary_crossentropy',\n",
    "  optimizer=opt,\n",
    "  metrics=['accuracy', f1_m],\n",
    ")"
   ]
  },
  {
   "cell_type": "code",
   "execution_count": null,
   "metadata": {},
   "outputs": [],
   "source": [
    "# Fit the model; obtain the model fit time\n",
    "start=datetime.now()\n",
    "history6 = model6.fit(X_train,Y_train,\n",
    "                    batch_size=32,\n",
    "                    epochs=40,\n",
    "                    validation_split=0.3\n",
    ")\n",
    "end=datetime.now()\n",
    "print(end-start)"
   ]
  },
  {
   "cell_type": "code",
   "execution_count": null,
   "metadata": {},
   "outputs": [],
   "source": [
    "print ('Best Train Accuracy: ')\n",
    "best_model_train_accuracy = np.round(history6.history['accuracy'][np.argmin(history6.history['loss'])],4)\n",
    "best_model_train_accuracy"
   ]
  },
  {
   "cell_type": "code",
   "execution_count": null,
   "metadata": {},
   "outputs": [],
   "source": [
    "print ('Best Validation Accuracy: ')\n",
    "best_model_val_accuracy = np.round(history6.history['val_accuracy'][np.argmin(history6.history['val_loss'])],4)\n",
    "best_model_val_accuracy\n"
   ]
  },
  {
   "cell_type": "code",
   "execution_count": null,
   "metadata": {},
   "outputs": [],
   "source": [
    "best_model_train_f1 = max(np.round(history6.history['f1_m'],4))\n",
    "print ('Best Train f1: {}'.format(best_model_train_f1))\n",
    "\n",
    "best_model_val_f1 = max(np.round(history6.history['val_f1_m'],4))\n",
    "print ('Best val f1: {}'.format(best_model_val_f1))"
   ]
  },
  {
   "cell_type": "code",
   "execution_count": null,
   "metadata": {},
   "outputs": [],
   "source": [
    "\n",
    "# Plot the learning curve\n",
    "pd.DataFrame(history6.history).plot(figsize=(10, 8))\n",
    "plt.grid(True)\n",
    "plt.gca().set_ylim(0, 1) # set the vertical range to [0-1]\n",
    "plt.title('Learning curve - factor1: 400K, factor2: GloVe.6B.200d, factor3: LSTM, factor4: 0.3')\n",
    "plt.show()"
   ]
  },
  {
   "cell_type": "markdown",
   "metadata": {},
   "source": [
    "# Make the prediction on the test data\n",
    "# 1 - disaster tweet , 0 - non-disaster tweet"
   ]
  },
  {
   "cell_type": "code",
   "execution_count": null,
   "metadata": {},
   "outputs": [],
   "source": [
    "predict6 = model6.predict_classes(X_test)\n",
    "predict6"
   ]
  },
  {
   "cell_type": "code",
   "execution_count": null,
   "metadata": {},
   "outputs": [],
   "source": [
    "len(predict6)"
   ]
  },
  {
   "cell_type": "code",
   "execution_count": null,
   "metadata": {},
   "outputs": [],
   "source": [
    "# save the results to a csv\n",
    "submission_df = pd.DataFrame({'id':test_tweets['id'],'target':np.squeeze(predict6)})\n",
    "submission_df.to_csv('submission_rnn_6.csv',index=False)\n"
   ]
  },
  {
   "cell_type": "code",
   "execution_count": null,
   "metadata": {},
   "outputs": [],
   "source": [
    "#Store the accuracy and kaggle score for this model \n",
    "results_tbl = results_tbl.append({'Model_name':'RNN #6', \n",
    "                                   'vocabulary size (factor1)':'400K',\n",
    "                                   'pre-trained vector (factor2)':'GloVe.6B.200d',\n",
    "                                   'RNN structure (factor3)':'LSTM layer based',\n",
    "                                   'hyperparameter recurrent_dropout (factor4)': '0.3',\n",
    "                                   'Processing Time':(end-start),\n",
    "                                   'Training Set Accuracy':best_model_train_accuracy,\n",
    "                                   'Validation Set Accuracy':best_model_val_accuracy,\n",
    "                                   'train f1':best_model_train_f1,\n",
    "                                   'validation f1':best_model_val_f1,\n",
    "                                   'Test Set F1-score (Kaggle score)': '0.78639'\n",
    "                                   },ignore_index=True)\n",
    "results_tbl"
   ]
  },
  {
   "cell_type": "markdown",
   "metadata": {},
   "source": [
    "# Fit RNN 7\n",
    "# vocabulary size (factor 1): 400K\n",
    "# pre-trained vector (factor 2): GloVe.6B.200d\n",
    "# rnn structure (factor 3): GRU layer based structure\n",
    "# recurrent dropout (factor 4): 0.1\n"
   ]
  },
  {
   "cell_type": "code",
   "execution_count": null,
   "metadata": {},
   "outputs": [],
   "source": [
    "\n",
    "model7 = keras.models.Sequential([\n",
    "    keras.layers.Embedding(len(word2index)+1,200,weights=[embedding_matrix],input_length=maxlen,trainable=False),\n",
    "    keras.layers.GRU(units=128 , return_sequences = True , recurrent_dropout = 0.1 , dropout = 0.1),\n",
    "    keras.layers.GRU(units=64 , recurrent_dropout = 0.1 , dropout = 0.1),\n",
    "    keras.layers.Dense(32, activation='tanh'),\n",
    "    keras.layers.Dense(1,activation='tanh')\n",
    "])"
   ]
  },
  {
   "cell_type": "code",
   "execution_count": null,
   "metadata": {},
   "outputs": [],
   "source": [
    "model7.summary()"
   ]
  },
  {
   "cell_type": "code",
   "execution_count": null,
   "metadata": {},
   "outputs": [],
   "source": [
    "opt=Adam(learning_rate=1e-5)\n",
    "model7.compile(\n",
    "  loss='binary_crossentropy',\n",
    "  optimizer=opt,\n",
    "  metrics=['accuracy', f1_m],\n",
    ")"
   ]
  },
  {
   "cell_type": "code",
   "execution_count": null,
   "metadata": {},
   "outputs": [],
   "source": [
    "# Fit the model; obtain the model fit time\n",
    "start=datetime.now()\n",
    "history7 = model7.fit(X_train,Y_train,\n",
    "                    batch_size=32,\n",
    "                    epochs=40,\n",
    "                    validation_split=0.3\n",
    ")\n",
    "end=datetime.now()\n",
    "print(end-start)\n",
    "\n"
   ]
  },
  {
   "cell_type": "code",
   "execution_count": null,
   "metadata": {},
   "outputs": [],
   "source": [
    "\n",
    "print ('Best Train Accuracy: ')\n",
    "best_model_train_accuracy = np.round(history7.history['accuracy'][np.argmin(history7.history['loss'])],4)\n",
    "best_model_train_accuracy\n"
   ]
  },
  {
   "cell_type": "code",
   "execution_count": null,
   "metadata": {},
   "outputs": [],
   "source": [
    "print ('Best Validation Accuracy: ')\n",
    "best_model_val_accuracy = np.round(history7.history['val_accuracy'][np.argmin(history7.history['val_loss'])],4)\n",
    "best_model_val_accuracy"
   ]
  },
  {
   "cell_type": "code",
   "execution_count": null,
   "metadata": {},
   "outputs": [],
   "source": [
    "best_model_train_f1 = max(np.round(history7.history['f1_m'],4))\n",
    "print ('Best Train f1: {}'.format(best_model_train_f1))\n",
    "\n",
    "best_model_val_f1 = max(np.round(history7.history['val_f1_m'],4))\n",
    "print ('Best val f1: {}'.format(best_model_val_f1))"
   ]
  },
  {
   "cell_type": "code",
   "execution_count": null,
   "metadata": {},
   "outputs": [],
   "source": [
    "# Plot the learning curve\n",
    "pd.DataFrame(history7.history).plot(figsize=(10, 8))\n",
    "plt.grid(True)\n",
    "plt.gca().set_ylim(0, 1) # set the vertical range to [0-1]\n",
    "plt.title('Learning curve - factor1: 400K, factor2: GloVe.6B.200d, factor3: GRU, factor4: 0.1')\n",
    "plt.show()\n"
   ]
  },
  {
   "cell_type": "markdown",
   "metadata": {},
   "source": [
    "# Make the prediction on the test data\n",
    "\n",
    "# 1 - disaster tweet , 0 - non-disaster tweet\n"
   ]
  },
  {
   "cell_type": "code",
   "execution_count": null,
   "metadata": {},
   "outputs": [],
   "source": [
    "\n",
    "predict7 = model7.predict_classes(X_test)\n",
    "predict7"
   ]
  },
  {
   "cell_type": "code",
   "execution_count": null,
   "metadata": {},
   "outputs": [],
   "source": [
    "len(predict7)"
   ]
  },
  {
   "cell_type": "code",
   "execution_count": null,
   "metadata": {},
   "outputs": [],
   "source": [
    "# save the results to a csv\n",
    "submission_df = pd.DataFrame({'id':test_tweets['id'],'target':np.squeeze(predict7)})\n",
    "submission_df.to_csv('submission_rnn_7.csv',index=False)"
   ]
  },
  {
   "cell_type": "code",
   "execution_count": null,
   "metadata": {},
   "outputs": [],
   "source": [
    "#Store the accuracy and kaggle score for this model \n",
    "results_tbl = results_tbl.append({'Model_name':'RNN #7', \n",
    "                                   'vocabulary size (factor1)':'400K',\n",
    "                                   'pre-trained vector (factor2)':'GloVe.6B.200d',\n",
    "                                   'RNN structure (factor3)':'GRU layer based',\n",
    "                                   'hyperparameter recurrent_dropout (factor4)': '0.1',\n",
    "                                   'Processing Time':(end-start),\n",
    "                                   'Training Set Accuracy':best_model_train_accuracy,\n",
    "                                   'Validation Set Accuracy':best_model_val_accuracy,\n",
    "                                   'train f1':best_model_train_f1,\n",
    "                                   'validation f1':best_model_val_f1,\n",
    "                                   'Test Set F1-score (Kaggle score)': '0.79068'\n",
    "                                   },ignore_index=True)\n",
    "results_tbl\n"
   ]
  },
  {
   "cell_type": "markdown",
   "metadata": {},
   "source": [
    "# Fit RNN 8\n",
    "# vocabulary size (factor 1): 400K\n",
    "# pre-trained vector (factor 2): GloVe.6B.200d\n",
    "# rnn structure (factor 3): GRU based structure\n",
    "# recurrent dropout (factor 4): 0.3"
   ]
  },
  {
   "cell_type": "code",
   "execution_count": null,
   "metadata": {},
   "outputs": [],
   "source": [
    "model8 = keras.models.Sequential([\n",
    "    keras.layers.Embedding(len(word2index)+1,200,weights=[embedding_matrix],input_length=maxlen,trainable=False),\n",
    "    keras.layers.GRU(units=128 , return_sequences = True , recurrent_dropout = 0.3 , dropout = 0.3),\n",
    "    keras.layers.GRU(units=64 , recurrent_dropout = 0.3 , dropout = 0.3),\n",
    "    keras.layers.Dense(32, activation='tanh'),\n",
    "    keras.layers.Dense(1,activation='tanh')\n",
    "])\n"
   ]
  },
  {
   "cell_type": "code",
   "execution_count": null,
   "metadata": {},
   "outputs": [],
   "source": [
    "model8.summary()"
   ]
  },
  {
   "cell_type": "code",
   "execution_count": null,
   "metadata": {},
   "outputs": [],
   "source": [
    "opt=Adam(learning_rate=1e-5)\n",
    "model8.compile(\n",
    "  loss='binary_crossentropy',\n",
    "  optimizer=opt,\n",
    "  metrics=['accuracy', f1_m],\n",
    ")\n"
   ]
  },
  {
   "cell_type": "code",
   "execution_count": null,
   "metadata": {},
   "outputs": [],
   "source": [
    "\n",
    "# Fit the model; obtain the model fit time\n",
    "start=datetime.now()\n",
    "history8 = model8.fit(X_train,Y_train,\n",
    "                    batch_size=32,\n",
    "                    epochs=40,\n",
    "                    validation_split=0.3\n",
    ")\n",
    "end=datetime.now()\n",
    "print(end-start)"
   ]
  },
  {
   "cell_type": "code",
   "execution_count": null,
   "metadata": {},
   "outputs": [],
   "source": [
    "print ('Best Train Accuracy: ')\n",
    "best_model_train_accuracy = np.round(history8.history['accuracy'][np.argmin(history8.history['loss'])],4)\n",
    "best_model_train_accuracy"
   ]
  },
  {
   "cell_type": "code",
   "execution_count": null,
   "metadata": {},
   "outputs": [],
   "source": [
    "print ('Best Validation Accuracy: ')\n",
    "best_model_val_accuracy = np.round(history8.history['val_accuracy'][np.argmin(history8.history['val_loss'])],4)\n",
    "best_model_val_accuracy"
   ]
  },
  {
   "cell_type": "code",
   "execution_count": null,
   "metadata": {},
   "outputs": [],
   "source": [
    "best_model_train_f1 = max(np.round(history8.history['f1_m'],4))\n",
    "print ('Best Train f1: {}'.format(best_model_train_f1))\n",
    "\n",
    "best_model_val_f1 = max(np.round(history8.history['val_f1_m'],4))\n",
    "print ('Best val f1: {}'.format(best_model_val_f1))"
   ]
  },
  {
   "cell_type": "code",
   "execution_count": null,
   "metadata": {},
   "outputs": [],
   "source": [
    "# Plot the learning curve\n",
    "pd.DataFrame(history8.history).plot(figsize=(10, 8))\n",
    "plt.grid(True)\n",
    "plt.gca().set_ylim(0, 1) # set the vertical range to [0-1]\n",
    "plt.title('Learning curve - factor1: 400K, factor2: GloVe.6B.200d, factor3: GRU, factor4: 0.3')\n",
    "plt.show()"
   ]
  },
  {
   "cell_type": "markdown",
   "metadata": {},
   "source": [
    "# Make the prediction on the test data\n",
    "# 1 - disaster tweet , 0 - non-disaster tweet"
   ]
  },
  {
   "cell_type": "code",
   "execution_count": null,
   "metadata": {},
   "outputs": [],
   "source": [
    "predict8 = model8.predict_classes(X_test)\n",
    "predict8\n"
   ]
  },
  {
   "cell_type": "code",
   "execution_count": null,
   "metadata": {},
   "outputs": [],
   "source": [
    "# save the results to a csv\n",
    "submission_df = pd.DataFrame({'id':test_tweets['id'],'target':np.squeeze(predict8)})\n",
    "submission_df.to_csv('submission_rnn_8.csv',index=False)\n"
   ]
  },
  {
   "cell_type": "code",
   "execution_count": null,
   "metadata": {},
   "outputs": [],
   "source": [
    "#Store the accuracy and kaggle score for this model \n",
    "results_tbl = results_tbl.append({'Model_name':'RNN #8', \n",
    "                                   'vocabulary size (factor1)':'400K',\n",
    "                                   'pre-trained vector (factor2)':'GloVe.6B.200d',\n",
    "                                   'RNN structure (factor3)':'GRU layer based',\n",
    "                                   'hyperparameter recurrent_dropout (factor4)': '0.3',\n",
    "                                   'Processing Time':(end-start),\n",
    "                                   'Training Set Accuracy':best_model_train_accuracy,\n",
    "                                   'Validation Set Accuracy':best_model_val_accuracy,\n",
    "                                   'train f1':best_model_train_f1,\n",
    "                                   'validation f1':best_model_val_f1,\n",
    "                                   'Test Set F1-score (Kaggle score)': '0.78608'\n",
    "                                   },ignore_index=True)\n",
    "results_tbl"
   ]
  }
 ],
 "metadata": {
  "kernelspec": {
   "display_name": "Python 3",
   "language": "python",
   "name": "python3"
  },
  "language_info": {
   "codemirror_mode": {
    "name": "ipython",
    "version": 3
   },
   "file_extension": ".py",
   "mimetype": "text/x-python",
   "name": "python",
   "nbconvert_exporter": "python",
   "pygments_lexer": "ipython3",
   "version": "3.7.4"
  }
 },
 "nbformat": 4,
 "nbformat_minor": 4
}
