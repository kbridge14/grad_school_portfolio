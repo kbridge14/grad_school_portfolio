{
 "cells": [
  {
   "cell_type": "code",
   "execution_count": 43,
   "metadata": {},
   "outputs": [],
   "source": [
    "# Import libraries needed for the analysis\n",
    "import os\n",
    "import pandas as pd\n",
    "import numpy as np\n",
    "\n",
    "from datetime import datetime\n",
    "import random\n",
    "import string\n",
    "\n",
    "import tensorflow as tf\n",
    "from tensorflow import keras\n",
    "from keras.optimizers import Adam\n",
    "import keras.backend as K\n",
    "\n",
    "import matplotlib.pyplot as plt\n",
    "import seaborn as sns\n",
    "\n",
    "import re\n",
    "import nltk"
   ]
  },
  {
   "cell_type": "code",
   "execution_count": 2,
   "metadata": {},
   "outputs": [],
   "source": [
    "def recall_m(y_true, y_pred):\n",
    "    true_positives = K.sum(K.round(K.clip(y_true * y_pred, 0, 1)))\n",
    "    possible_positives = K.sum(K.round(K.clip(y_true, 0, 1)))\n",
    "    recall = true_positives / (possible_positives + K.epsilon())\n",
    "    return recall\n",
    "\n",
    "def precision_m(y_true, y_pred):\n",
    "    true_positives = K.sum(K.round(K.clip(y_true * y_pred, 0, 1)))\n",
    "    predicted_positives = K.sum(K.round(K.clip(y_pred, 0, 1)))\n",
    "    precision = true_positives / (predicted_positives + K.epsilon())\n",
    "    return precision\n",
    "\n",
    "def f1_m(y_true, y_pred):\n",
    "    precision = precision_m(y_true, y_pred)\n",
    "    recall = recall_m(y_true, y_pred)\n",
    "    return 2*((precision*recall)/(precision+recall+K.epsilon()))"
   ]
  },
  {
   "cell_type": "code",
   "execution_count": 3,
   "metadata": {},
   "outputs": [],
   "source": [
    "# seed value for random number generators to obtain reproducible results\n",
    "RANDOM_SEED = 5\n",
    "from numpy.random import seed\n",
    "seed(RANDOM_SEED)\n",
    "tf.random.set_seed(RANDOM_SEED)"
   ]
  },
  {
   "cell_type": "code",
   "execution_count": 4,
   "metadata": {},
   "outputs": [],
   "source": [
    "# Read the training and test datasets\n",
    "train_tweets = pd.read_csv(\"/Users/kerry//Projects/grad_school_portfolio/Fall2020/MSDS422/rnn/data/train.csv\")\n",
    "test_tweets = pd.read_csv(\"/Users/kerry//Projects/grad_school_portfolio/Fall2020/MSDS422/rnn/data/test.csv\")\n",
    "#train_tweets= pd.read_csv('/Users/harini-mac/Desktop/Northwestern University/MSDS-422/Week8/project1/nlp-getting-started/train.csv')\n",
    "#test_tweets=pd.read_csv('/Users/harini-mac/Desktop/Northwestern University/MSDS-422/Week8/project1/nlp-getting-started/test.csv')"
   ]
  },
  {
   "cell_type": "code",
   "execution_count": 5,
   "metadata": {},
   "outputs": [
    {
     "data": {
      "text/plain": [
       "(7613, 5)"
      ]
     },
     "execution_count": 5,
     "metadata": {},
     "output_type": "execute_result"
    }
   ],
   "source": [
    "train_tweets.shape"
   ]
  },
  {
   "cell_type": "code",
   "execution_count": 6,
   "metadata": {},
   "outputs": [
    {
     "data": {
      "text/plain": [
       "(3263, 4)"
      ]
     },
     "execution_count": 6,
     "metadata": {},
     "output_type": "execute_result"
    }
   ],
   "source": [
    "test_tweets.shape"
   ]
  },
  {
   "cell_type": "code",
   "execution_count": 7,
   "metadata": {},
   "outputs": [
    {
     "name": "stdout",
     "output_type": "stream",
     "text": [
      "<class 'pandas.core.frame.DataFrame'>\n",
      "RangeIndex: 7613 entries, 0 to 7612\n",
      "Data columns (total 5 columns):\n",
      " #   Column    Non-Null Count  Dtype \n",
      "---  ------    --------------  ----- \n",
      " 0   id        7613 non-null   int64 \n",
      " 1   keyword   7552 non-null   object\n",
      " 2   location  5080 non-null   object\n",
      " 3   text      7613 non-null   object\n",
      " 4   target    7613 non-null   int64 \n",
      "dtypes: int64(2), object(3)\n",
      "memory usage: 297.5+ KB\n"
     ]
    }
   ],
   "source": [
    "train_tweets.info()"
   ]
  },
  {
   "cell_type": "code",
   "execution_count": 8,
   "metadata": {},
   "outputs": [
    {
     "name": "stdout",
     "output_type": "stream",
     "text": [
      "<class 'pandas.core.frame.DataFrame'>\n",
      "RangeIndex: 3263 entries, 0 to 3262\n",
      "Data columns (total 4 columns):\n",
      " #   Column    Non-Null Count  Dtype \n",
      "---  ------    --------------  ----- \n",
      " 0   id        3263 non-null   int64 \n",
      " 1   keyword   3237 non-null   object\n",
      " 2   location  2158 non-null   object\n",
      " 3   text      3263 non-null   object\n",
      "dtypes: int64(1), object(3)\n",
      "memory usage: 102.1+ KB\n"
     ]
    }
   ],
   "source": [
    "test_tweets.info()"
   ]
  },
  {
   "cell_type": "code",
   "execution_count": 9,
   "metadata": {},
   "outputs": [
    {
     "data": {
      "text/html": [
       "<div>\n",
       "<style scoped>\n",
       "    .dataframe tbody tr th:only-of-type {\n",
       "        vertical-align: middle;\n",
       "    }\n",
       "\n",
       "    .dataframe tbody tr th {\n",
       "        vertical-align: top;\n",
       "    }\n",
       "\n",
       "    .dataframe thead th {\n",
       "        text-align: right;\n",
       "    }\n",
       "</style>\n",
       "<table border=\"1\" class=\"dataframe\">\n",
       "  <thead>\n",
       "    <tr style=\"text-align: right;\">\n",
       "      <th></th>\n",
       "      <th>id</th>\n",
       "      <th>keyword</th>\n",
       "      <th>location</th>\n",
       "      <th>text</th>\n",
       "      <th>target</th>\n",
       "    </tr>\n",
       "  </thead>\n",
       "  <tbody>\n",
       "    <tr>\n",
       "      <th>0</th>\n",
       "      <td>1</td>\n",
       "      <td>NaN</td>\n",
       "      <td>NaN</td>\n",
       "      <td>Our Deeds are the Reason of this #earthquake M...</td>\n",
       "      <td>1</td>\n",
       "    </tr>\n",
       "    <tr>\n",
       "      <th>1</th>\n",
       "      <td>4</td>\n",
       "      <td>NaN</td>\n",
       "      <td>NaN</td>\n",
       "      <td>Forest fire near La Ronge Sask. Canada</td>\n",
       "      <td>1</td>\n",
       "    </tr>\n",
       "    <tr>\n",
       "      <th>2</th>\n",
       "      <td>5</td>\n",
       "      <td>NaN</td>\n",
       "      <td>NaN</td>\n",
       "      <td>All residents asked to 'shelter in place' are ...</td>\n",
       "      <td>1</td>\n",
       "    </tr>\n",
       "    <tr>\n",
       "      <th>3</th>\n",
       "      <td>6</td>\n",
       "      <td>NaN</td>\n",
       "      <td>NaN</td>\n",
       "      <td>13,000 people receive #wildfires evacuation or...</td>\n",
       "      <td>1</td>\n",
       "    </tr>\n",
       "    <tr>\n",
       "      <th>4</th>\n",
       "      <td>7</td>\n",
       "      <td>NaN</td>\n",
       "      <td>NaN</td>\n",
       "      <td>Just got sent this photo from Ruby #Alaska as ...</td>\n",
       "      <td>1</td>\n",
       "    </tr>\n",
       "  </tbody>\n",
       "</table>\n",
       "</div>"
      ],
      "text/plain": [
       "   id keyword location                                               text  \\\n",
       "0   1     NaN      NaN  Our Deeds are the Reason of this #earthquake M...   \n",
       "1   4     NaN      NaN             Forest fire near La Ronge Sask. Canada   \n",
       "2   5     NaN      NaN  All residents asked to 'shelter in place' are ...   \n",
       "3   6     NaN      NaN  13,000 people receive #wildfires evacuation or...   \n",
       "4   7     NaN      NaN  Just got sent this photo from Ruby #Alaska as ...   \n",
       "\n",
       "   target  \n",
       "0       1  \n",
       "1       1  \n",
       "2       1  \n",
       "3       1  \n",
       "4       1  "
      ]
     },
     "execution_count": 9,
     "metadata": {},
     "output_type": "execute_result"
    }
   ],
   "source": [
    "train_tweets.head()"
   ]
  },
  {
   "cell_type": "code",
   "execution_count": 10,
   "metadata": {},
   "outputs": [
    {
     "data": {
      "text/html": [
       "<div>\n",
       "<style scoped>\n",
       "    .dataframe tbody tr th:only-of-type {\n",
       "        vertical-align: middle;\n",
       "    }\n",
       "\n",
       "    .dataframe tbody tr th {\n",
       "        vertical-align: top;\n",
       "    }\n",
       "\n",
       "    .dataframe thead th {\n",
       "        text-align: right;\n",
       "    }\n",
       "</style>\n",
       "<table border=\"1\" class=\"dataframe\">\n",
       "  <thead>\n",
       "    <tr style=\"text-align: right;\">\n",
       "      <th></th>\n",
       "      <th>id</th>\n",
       "      <th>keyword</th>\n",
       "      <th>location</th>\n",
       "      <th>text</th>\n",
       "      <th>target</th>\n",
       "    </tr>\n",
       "  </thead>\n",
       "  <tbody>\n",
       "    <tr>\n",
       "      <th>0</th>\n",
       "      <td>1</td>\n",
       "      <td>NaN</td>\n",
       "      <td>NaN</td>\n",
       "      <td>Our Deeds are the Reason of this #earthquake M...</td>\n",
       "      <td>1</td>\n",
       "    </tr>\n",
       "    <tr>\n",
       "      <th>1</th>\n",
       "      <td>4</td>\n",
       "      <td>NaN</td>\n",
       "      <td>NaN</td>\n",
       "      <td>Forest fire near La Ronge Sask. Canada</td>\n",
       "      <td>1</td>\n",
       "    </tr>\n",
       "    <tr>\n",
       "      <th>2</th>\n",
       "      <td>5</td>\n",
       "      <td>NaN</td>\n",
       "      <td>NaN</td>\n",
       "      <td>All residents asked to 'shelter in place' are ...</td>\n",
       "      <td>1</td>\n",
       "    </tr>\n",
       "    <tr>\n",
       "      <th>3</th>\n",
       "      <td>6</td>\n",
       "      <td>NaN</td>\n",
       "      <td>NaN</td>\n",
       "      <td>13,000 people receive #wildfires evacuation or...</td>\n",
       "      <td>1</td>\n",
       "    </tr>\n",
       "    <tr>\n",
       "      <th>4</th>\n",
       "      <td>7</td>\n",
       "      <td>NaN</td>\n",
       "      <td>NaN</td>\n",
       "      <td>Just got sent this photo from Ruby #Alaska as ...</td>\n",
       "      <td>1</td>\n",
       "    </tr>\n",
       "    <tr>\n",
       "      <th>...</th>\n",
       "      <td>...</td>\n",
       "      <td>...</td>\n",
       "      <td>...</td>\n",
       "      <td>...</td>\n",
       "      <td>...</td>\n",
       "    </tr>\n",
       "    <tr>\n",
       "      <th>7604</th>\n",
       "      <td>10863</td>\n",
       "      <td>NaN</td>\n",
       "      <td>NaN</td>\n",
       "      <td>#WorldNews Fallen powerlines on G:link tram: U...</td>\n",
       "      <td>1</td>\n",
       "    </tr>\n",
       "    <tr>\n",
       "      <th>7605</th>\n",
       "      <td>10864</td>\n",
       "      <td>NaN</td>\n",
       "      <td>NaN</td>\n",
       "      <td>on the flip side I'm at Walmart and there is a...</td>\n",
       "      <td>1</td>\n",
       "    </tr>\n",
       "    <tr>\n",
       "      <th>7606</th>\n",
       "      <td>10866</td>\n",
       "      <td>NaN</td>\n",
       "      <td>NaN</td>\n",
       "      <td>Suicide bomber kills 15 in Saudi security site...</td>\n",
       "      <td>1</td>\n",
       "    </tr>\n",
       "    <tr>\n",
       "      <th>7608</th>\n",
       "      <td>10869</td>\n",
       "      <td>NaN</td>\n",
       "      <td>NaN</td>\n",
       "      <td>Two giant cranes holding a bridge collapse int...</td>\n",
       "      <td>1</td>\n",
       "    </tr>\n",
       "    <tr>\n",
       "      <th>7612</th>\n",
       "      <td>10873</td>\n",
       "      <td>NaN</td>\n",
       "      <td>NaN</td>\n",
       "      <td>The Latest: More Homes Razed by Northern Calif...</td>\n",
       "      <td>1</td>\n",
       "    </tr>\n",
       "  </tbody>\n",
       "</table>\n",
       "<p>7503 rows × 5 columns</p>\n",
       "</div>"
      ],
      "text/plain": [
       "         id keyword location  \\\n",
       "0         1     NaN      NaN   \n",
       "1         4     NaN      NaN   \n",
       "2         5     NaN      NaN   \n",
       "3         6     NaN      NaN   \n",
       "4         7     NaN      NaN   \n",
       "...     ...     ...      ...   \n",
       "7604  10863     NaN      NaN   \n",
       "7605  10864     NaN      NaN   \n",
       "7606  10866     NaN      NaN   \n",
       "7608  10869     NaN      NaN   \n",
       "7612  10873     NaN      NaN   \n",
       "\n",
       "                                                   text  target  \n",
       "0     Our Deeds are the Reason of this #earthquake M...       1  \n",
       "1                Forest fire near La Ronge Sask. Canada       1  \n",
       "2     All residents asked to 'shelter in place' are ...       1  \n",
       "3     13,000 people receive #wildfires evacuation or...       1  \n",
       "4     Just got sent this photo from Ruby #Alaska as ...       1  \n",
       "...                                                 ...     ...  \n",
       "7604  #WorldNews Fallen powerlines on G:link tram: U...       1  \n",
       "7605  on the flip side I'm at Walmart and there is a...       1  \n",
       "7606  Suicide bomber kills 15 in Saudi security site...       1  \n",
       "7608  Two giant cranes holding a bridge collapse int...       1  \n",
       "7612  The Latest: More Homes Razed by Northern Calif...       1  \n",
       "\n",
       "[7503 rows x 5 columns]"
      ]
     },
     "execution_count": 10,
     "metadata": {},
     "output_type": "execute_result"
    }
   ],
   "source": [
    "# drops dups (retweets)\n",
    "train_tweets[train_tweets.duplicated(subset=\"text\", keep='first')==False]"
   ]
  },
  {
   "cell_type": "code",
   "execution_count": 11,
   "metadata": {},
   "outputs": [
    {
     "data": {
      "text/html": [
       "<div>\n",
       "<style scoped>\n",
       "    .dataframe tbody tr th:only-of-type {\n",
       "        vertical-align: middle;\n",
       "    }\n",
       "\n",
       "    .dataframe tbody tr th {\n",
       "        vertical-align: top;\n",
       "    }\n",
       "\n",
       "    .dataframe thead th {\n",
       "        text-align: right;\n",
       "    }\n",
       "</style>\n",
       "<table border=\"1\" class=\"dataframe\">\n",
       "  <thead>\n",
       "    <tr style=\"text-align: right;\">\n",
       "      <th></th>\n",
       "      <th>id</th>\n",
       "      <th>keyword</th>\n",
       "      <th>location</th>\n",
       "      <th>text</th>\n",
       "      <th>target</th>\n",
       "    </tr>\n",
       "  </thead>\n",
       "  <tbody>\n",
       "    <tr>\n",
       "      <th>647</th>\n",
       "      <td>938</td>\n",
       "      <td>blaze</td>\n",
       "      <td>Temecula, CA</td>\n",
       "      <td>Pendleton media office said only fire on base ...</td>\n",
       "      <td>1</td>\n",
       "    </tr>\n",
       "    <tr>\n",
       "      <th>649</th>\n",
       "      <td>940</td>\n",
       "      <td>blaze</td>\n",
       "      <td>Fresno, CA</td>\n",
       "      <td>Love living on my own. I can blaze inside my a...</td>\n",
       "      <td>1</td>\n",
       "    </tr>\n",
       "    <tr>\n",
       "      <th>653</th>\n",
       "      <td>945</td>\n",
       "      <td>blaze</td>\n",
       "      <td>Australia</td>\n",
       "      <td>Property losses from California wildfire nearl...</td>\n",
       "      <td>1</td>\n",
       "    </tr>\n",
       "    <tr>\n",
       "      <th>654</th>\n",
       "      <td>946</td>\n",
       "      <td>blaze</td>\n",
       "      <td>Raleigh Durham, NC</td>\n",
       "      <td>#breaking Firefighters battling blaze at east ...</td>\n",
       "      <td>1</td>\n",
       "    </tr>\n",
       "    <tr>\n",
       "      <th>669</th>\n",
       "      <td>964</td>\n",
       "      <td>blaze</td>\n",
       "      <td>Karachi</td>\n",
       "      <td>Property losses from #California wildfire near...</td>\n",
       "      <td>1</td>\n",
       "    </tr>\n",
       "  </tbody>\n",
       "</table>\n",
       "</div>"
      ],
      "text/plain": [
       "      id keyword            location  \\\n",
       "647  938   blaze        Temecula, CA   \n",
       "649  940   blaze          Fresno, CA   \n",
       "653  945   blaze           Australia   \n",
       "654  946   blaze  Raleigh Durham, NC   \n",
       "669  964   blaze            Karachi    \n",
       "\n",
       "                                                  text  target  \n",
       "647  Pendleton media office said only fire on base ...       1  \n",
       "649  Love living on my own. I can blaze inside my a...       1  \n",
       "653  Property losses from California wildfire nearl...       1  \n",
       "654  #breaking Firefighters battling blaze at east ...       1  \n",
       "669  Property losses from #California wildfire near...       1  "
      ]
     },
     "execution_count": 11,
     "metadata": {},
     "output_type": "execute_result"
    }
   ],
   "source": [
    "# drops ~ 5-10 records most of which I find misclassified\n",
    "train_tweets[(train_tweets.keyword==\"blaze\") & (train_tweets.target==1)]"
   ]
  },
  {
   "cell_type": "code",
   "execution_count": 60,
   "metadata": {},
   "outputs": [
    {
     "name": "stdout",
     "output_type": "stream",
     "text": [
      "<class 'pandas.core.frame.DataFrame'>\n",
      "Index: 0 entries\n",
      "Data columns (total 11 columns):\n",
      " #   Column                                      Non-Null Count  Dtype \n",
      "---  ------                                      --------------  ----- \n",
      " 0   Model_name                                  0 non-null      object\n",
      " 1   vocabulary size (factor1)                   0 non-null      object\n",
      " 2   pre-trained vector (factor2)                0 non-null      object\n",
      " 3   RNN structure (factor3)                     0 non-null      object\n",
      " 4   hyperparameter recurrent_dropout (factor4)  0 non-null      object\n",
      " 5   Processing Time                             0 non-null      object\n",
      " 6   Training Set Accuracy                       0 non-null      object\n",
      " 7   Validation Set Accuracy                     0 non-null      object\n",
      " 8   train f1                                    0 non-null      object\n",
      " 9   validation f1                               0 non-null      object\n",
      " 10  Test Set F1-score (Kaggle score)            0 non-null      object\n",
      "dtypes: object(11)\n",
      "memory usage: 0.0+ bytes\n"
     ]
    }
   ],
   "source": [
    "#Create a dataframe to store the model accuracy and scores\n",
    "results_tbl = pd.DataFrame(columns=['Model_name','vocabulary size (factor1)', 'pre-trained vector (factor2)','RNN structure (factor3)','hyperparameter recurrent_dropout (factor4)','Processing Time','Training Set Accuracy','Validation Set Accuracy','train f1','validation f1','Test Set F1-score (Kaggle score)'])\n",
    "results_tbl.info()"
   ]
  },
  {
   "cell_type": "markdown",
   "metadata": {},
   "source": [
    "# Exploratory Data Analysis & Data Preparation"
   ]
  },
  {
   "cell_type": "code",
   "execution_count": 13,
   "metadata": {},
   "outputs": [
    {
     "data": {
      "text/plain": [
       "Text(0.5, 1.0, 'target count plot in the training data (0 - not a real disaster, 1 - a real disaster)')"
      ]
     },
     "execution_count": 13,
     "metadata": {},
     "output_type": "execute_result"
    },
    {
     "data": {
      "image/png": "[encoded data removed]",
      "text/plain": [
       "<Figure size 432x288 with 1 Axes>"
      ]
     },
     "metadata": {
      "needs_background": "light"
     },
     "output_type": "display_data"
    }
   ],
   "source": [
    "# Count plot of the targets in training data \n",
    "sns.countplot(train_tweets['target'], palette=\"husl\")\n",
    "plt.title('target count plot in the training data (0 - not a real disaster, 1 - a real disaster)')"
   ]
  },
  {
   "cell_type": "code",
   "execution_count": 14,
   "metadata": {},
   "outputs": [
    {
     "data": {
      "text/plain": [
       "id             0\n",
       "keyword       61\n",
       "location    2533\n",
       "text           0\n",
       "target         0\n",
       "dtype: int64"
      ]
     },
     "execution_count": 14,
     "metadata": {},
     "output_type": "execute_result"
    }
   ],
   "source": [
    "# check for any null values \n",
    "# the variable of interest in the data is text.\n",
    "train_tweets.isna().sum() "
   ]
  },
  {
   "cell_type": "code",
   "execution_count": 15,
   "metadata": {
    "scrolled": true
   },
   "outputs": [],
   "source": [
    "# Distribution of the length of the tweets in the training data\n",
    "#fig,(ax1,ax2)=plt.subplots(1,2,figsize=(10,5))\n",
    "#disaster_tweets_len=train_tweets[train_tweets['target']==1]['text'].str.len()\n",
    "#nondisaster_tweets_len=train_tweets[train_tweets['target']==0]['text'].str.len()\n",
    "#sns.histplot(disaster_tweets_len, ax=ax1, color=\"g\")\n",
    "#ax1.set_title('Length of the disaster tweets in training data')\n",
    "#sns.histplot(nondisaster_tweets_len, ax=ax2, color=\"r\")\n",
    "#ax2.set_title('Length of the non-disaster tweets in training data')\n",
    "#plt.show()"
   ]
  },
  {
   "cell_type": "code",
   "execution_count": 16,
   "metadata": {},
   "outputs": [
    {
     "data": {
      "image/png": "[encoded data removed]",
      "text/plain": [
       "<Figure size 720x360 with 2 Axes>"
      ]
     },
     "metadata": {
      "needs_background": "light"
     },
     "output_type": "display_data"
    }
   ],
   "source": [
    "# Distribution of the word lengths of the tweets in the  training data\n",
    "fig,(ax1,ax2)=plt.subplots(1,2,figsize=(10,5))\n",
    "diaster_tweet_lengths=train_tweets[train_tweets['target']==1]['text'].str.split().map(lambda x: len(x))\n",
    "ax1.hist(diaster_tweet_lengths,color='blue')\n",
    "ax1.set_title('word length distribution of \\n disaster tweets in training data')\n",
    "nondisaster_tweet_lengths=train_tweets[train_tweets['target']==0]['text'].str.split().map(lambda x: len(x))\n",
    "ax2.hist(nondisaster_tweet_lengths,color='yellow')\n",
    "ax2.set_title('word length distribution of \\n non-disaster tweets in training data')\n",
    "plt.show()"
   ]
  },
  {
   "cell_type": "markdown",
   "metadata": {},
   "source": [
    "# Read function for the  GloVe (global vectors) "
   ]
  },
  {
   "cell_type": "code",
   "execution_count": 17,
   "metadata": {},
   "outputs": [],
   "source": [
    "#reading from the file to turn the words to word embedding vector\n",
    "def read_glove_vecs(glove_file):\n",
    "    with open(glove_file, 'r') as f:\n",
    "        words = set()\n",
    "        word_to_vec_map = {}\n",
    "        for line in f:\n",
    "            line = line.strip().split()\n",
    "            curr_word = line[0]\n",
    "            words.add(curr_word)\n",
    "            word_to_vec_map[curr_word] = np.array(line[1:], dtype=np.float64)\n",
    "        \n",
    "        i = 1\n",
    "        words_to_index = {}\n",
    "        index_to_words = {}\n",
    "        for w in sorted(words):\n",
    "            words_to_index[w] = i\n",
    "            index_to_words[i] = w\n",
    "            i = i + 1\n",
    "    return words_to_index, index_to_words, word_to_vec_map"
   ]
  },
  {
   "cell_type": "markdown",
   "metadata": {},
   "source": [
    "## Read the Glove file - glove.6B.50d.txt"
   ]
  },
  {
   "cell_type": "code",
   "execution_count": 18,
   "metadata": {},
   "outputs": [],
   "source": [
    "#reading from the file to learn the word embedding into the list word_to_vec_map\n",
    "#word_to_index, index_to_word, word_to_vec_map = read_glove_vecs('/Users/harini-mac/Desktop/Northwestern University/MSDS-422/Week8/project1/nlp-getting-started/embeddings/gloVe.6B/glove.6B.50d.txt')\n",
    "word_to_index, index_to_word, word_to_vec_map = read_glove_vecs('/Users/kerry/Downloads/embeddings/gloVe.6B/glove.6B.50d.txt')"
   ]
  },
  {
   "cell_type": "code",
   "execution_count": 19,
   "metadata": {},
   "outputs": [
    {
     "data": {
      "text/plain": [
       "400000"
      ]
     },
     "execution_count": 19,
     "metadata": {},
     "output_type": "execute_result"
    }
   ],
   "source": [
    "len(word_to_index)"
   ]
  },
  {
   "cell_type": "code",
   "execution_count": 20,
   "metadata": {},
   "outputs": [
    {
     "data": {
      "text/plain": [
       "400000"
      ]
     },
     "execution_count": 20,
     "metadata": {},
     "output_type": "execute_result"
    }
   ],
   "source": [
    "len(word_to_vec_map)"
   ]
  },
  {
   "cell_type": "code",
   "execution_count": 21,
   "metadata": {},
   "outputs": [
    {
     "data": {
      "text/plain": [
       "400000"
      ]
     },
     "execution_count": 21,
     "metadata": {},
     "output_type": "execute_result"
    }
   ],
   "source": [
    "len(index_to_word)"
   ]
  },
  {
   "cell_type": "markdown",
   "metadata": {},
   "source": [
    "## Cleanse the training and test data \n",
    "## Use the word_to_vec_map from glove.6B.50d"
   ]
  },
  {
   "cell_type": "code",
   "execution_count": 22,
   "metadata": {},
   "outputs": [],
   "source": [
    "def clean(text):\n",
    "#    rgx_fix_caps = \"(?<=[\\.!?]\\s)([A-Z])\" # fixes like Hello into hello???\n",
    "#    subst = r\"\\\\\"\n",
    "#    pre_sentence = re.sub(rgx_fix_caps, subst, text)\n",
    "    \n",
    "    rgx_rmv_punc = re.compile('([^\\s\\w]|_)+') # removes punctuation\n",
    "    sentence = rgx_rmv_punc.sub(\"\", text).lower()\n",
    "    \n",
    "    sentence = sentence.split(\" \")\n",
    "    \n",
    "    for word in list(sentence):\n",
    "        if word not in word_to_vec_map: # removes word if it's not in the 'dictionary' (txt file). case-sensitive.\n",
    "            sentence.remove(word)\n",
    "            \n",
    "    sentence = \" \".join(sentence)\n",
    "    return sentence"
   ]
  },
  {
   "cell_type": "code",
   "execution_count": 23,
   "metadata": {},
   "outputs": [
    {
     "data": {
      "text/plain": [
       "'all residents asked to shelter in place are being notified by officers no other evacuation or shelter in place orders are expected'"
      ]
     },
     "execution_count": 23,
     "metadata": {},
     "output_type": "execute_result"
    }
   ],
   "source": [
    "clean(train_tweets.loc[2,'text'])"
   ]
  },
  {
   "cell_type": "code",
   "execution_count": 24,
   "metadata": {},
   "outputs": [],
   "source": [
    "for i in range (train_tweets.shape[0]):\n",
    "    train_tweets.at[i,'text']=clean(train_tweets.loc[i,'text'])\n",
    "    \n",
    "for i in range(test_tweets.shape[0]):\n",
    "    test_tweets.at[i,'text']=clean(test_tweets.loc[i,'text'])"
   ]
  },
  {
   "cell_type": "code",
   "execution_count": 25,
   "metadata": {},
   "outputs": [],
   "source": [
    "train_text = train_tweets['text']\n",
    "test_text = test_tweets['text']"
   ]
  },
  {
   "cell_type": "markdown",
   "metadata": {},
   "source": [
    "# Encode the text in the training data\n",
    "# Pad the resultant sequences"
   ]
  },
  {
   "cell_type": "code",
   "execution_count": 26,
   "metadata": {},
   "outputs": [],
   "source": [
    "# https://stackoverflow.com/questions/57693333/processing-before-or-after-train-test-split\n",
    "# https://www.kdnuggets.com/2020/03/tensorflow-keras-tokenization-text-data-prep.html\n",
    "tokenizer = keras.preprocessing.text.Tokenizer()\n",
    "tokenizer.fit_on_texts(train_text)"
   ]
  },
  {
   "cell_type": "code",
   "execution_count": 27,
   "metadata": {},
   "outputs": [],
   "source": [
    "train_sequences = tokenizer.texts_to_sequences(train_text)"
   ]
  },
  {
   "cell_type": "code",
   "execution_count": 28,
   "metadata": {},
   "outputs": [
    {
     "data": {
      "text/plain": [
       "[[178, 42, 214, 664, 6037, 6038, 1319]]"
      ]
     },
     "execution_count": 28,
     "metadata": {},
     "output_type": "execute_result"
    }
   ],
   "source": [
    "tokenizer.texts_to_sequences([\"Forest fire near La Ronge Sask. Canada\"])"
   ]
  },
  {
   "cell_type": "code",
   "execution_count": 29,
   "metadata": {},
   "outputs": [
    {
     "data": {
      "text/plain": [
       "['forest fire near la ronge sask canada']"
      ]
     },
     "execution_count": 29,
     "metadata": {},
     "output_type": "execute_result"
    }
   ],
   "source": [
    "tokenizer.sequences_to_texts([[178, 42, 214, 664, 6037, 6038, 1319]])"
   ]
  },
  {
   "cell_type": "code",
   "execution_count": 30,
   "metadata": {},
   "outputs": [
    {
     "name": "stdout",
     "output_type": "stream",
     "text": [
      "Number of unique tokens :  12256\n"
     ]
    }
   ],
   "source": [
    "word2index = tokenizer.word_index\n",
    "print(\"Number of unique tokens : \",len(word2index))"
   ]
  },
  {
   "cell_type": "code",
   "execution_count": 31,
   "metadata": {},
   "outputs": [
    {
     "data": {
      "text/plain": [
       "7613"
      ]
     },
     "execution_count": 31,
     "metadata": {},
     "output_type": "execute_result"
    }
   ],
   "source": [
    "dataset_size = tokenizer.document_count\n",
    "dataset_size"
   ]
  },
  {
   "cell_type": "code",
   "execution_count": 32,
   "metadata": {},
   "outputs": [
    {
     "data": {
      "text/plain": [
       "31"
      ]
     },
     "execution_count": 32,
     "metadata": {},
     "output_type": "execute_result"
    }
   ],
   "source": [
    "# Get max training sequence length\n",
    "maxlen = max([len(x) for x in train_sequences])\n",
    "maxlen"
   ]
  },
  {
   "cell_type": "code",
   "execution_count": 33,
   "metadata": {},
   "outputs": [
    {
     "data": {
      "text/plain": [
       "(7613, 31)"
      ]
     },
     "execution_count": 33,
     "metadata": {},
     "output_type": "execute_result"
    }
   ],
   "source": [
    "padded_seq = keras.preprocessing.sequence.pad_sequences(train_sequences,maxlen)\n",
    "X_train = padded_seq\n",
    "Y_train = train_tweets['target']\n",
    "X_train.shape"
   ]
  },
  {
   "cell_type": "markdown",
   "metadata": {},
   "source": [
    "# Generate embedding matrix for tokens in the training data - 50 Dimensions"
   ]
  },
  {
   "cell_type": "code",
   "execution_count": 34,
   "metadata": {},
   "outputs": [],
   "source": [
    "embedding_matrix = np.zeros((len(word2index)+1,50))\n",
    "\n",
    "embedding_vec=[]\n",
    "for word, i in word2index.items():\n",
    "    embedding_vec = word_to_vec_map.get(word)\n",
    "    if embedding_vec is not None:\n",
    "        embedding_matrix[i] = embedding_vec"
   ]
  },
  {
   "cell_type": "code",
   "execution_count": 35,
   "metadata": {},
   "outputs": [
    {
     "name": "stdout",
     "output_type": "stream",
     "text": [
      "[ 4.1800e-01  2.4968e-01 -4.1242e-01  1.2170e-01  3.4527e-01 -4.4457e-02\n",
      " -4.9688e-01 -1.7862e-01 -6.6023e-04 -6.5660e-01  2.7843e-01 -1.4767e-01\n",
      " -5.5677e-01  1.4658e-01 -9.5095e-03  1.1658e-02  1.0204e-01 -1.2792e-01\n",
      " -8.4430e-01 -1.2181e-01 -1.6801e-02 -3.3279e-01 -1.5520e-01 -2.3131e-01\n",
      " -1.9181e-01 -1.8823e+00 -7.6746e-01  9.9051e-02 -4.2125e-01 -1.9526e-01\n",
      "  4.0071e+00 -1.8594e-01 -5.2287e-01 -3.1681e-01  5.9213e-04  7.4449e-03\n",
      "  1.7778e-01 -1.5897e-01  1.2041e-02 -5.4223e-02 -2.9871e-01 -1.5749e-01\n",
      " -3.4758e-01 -4.5637e-02 -4.4251e-01  1.8785e-01  2.7849e-03 -1.8411e-01\n",
      " -1.1514e-01 -7.8581e-01]\n"
     ]
    }
   ],
   "source": [
    "print(embedding_matrix[1])"
   ]
  },
  {
   "cell_type": "code",
   "execution_count": 36,
   "metadata": {},
   "outputs": [
    {
     "name": "stdout",
     "output_type": "stream",
     "text": [
      "(12257, 50)\n"
     ]
    }
   ],
   "source": [
    "print(embedding_matrix.shape)"
   ]
  },
  {
   "cell_type": "markdown",
   "metadata": {},
   "source": [
    "# Fit RNN 1\n",
    "# vocabulary size (factor 1): 400K\n",
    "# pre-trained vector (factor 2): GloVe.6B.50d\n",
    "# rnn structure (factor 3): LSTM layer based structure\n",
    "# recurrent dropout (factor 4): 0.1"
   ]
  },
  {
   "cell_type": "code",
   "execution_count": 37,
   "metadata": {},
   "outputs": [],
   "source": [
    "model1 = keras.models.Sequential([\n",
    "    keras.layers.Embedding(len(word2index)+1,50,weights=[embedding_matrix],input_length=maxlen,trainable=False),\n",
    "    keras.layers.LSTM(units=128 , return_sequences = True , recurrent_dropout = 0.1 , dropout = 0.1),\n",
    "    keras.layers.LSTM(units=64 , recurrent_dropout = 0.1 , dropout = 0.1),\n",
    "    keras.layers.Dense(32, activation='relu'),\n",
    "    keras.layers.Dense(1,activation='sigmoid')\n",
    "])"
   ]
  },
  {
   "cell_type": "code",
   "execution_count": 38,
   "metadata": {},
   "outputs": [
    {
     "name": "stdout",
     "output_type": "stream",
     "text": [
      "Model: \"sequential\"\n",
      "_________________________________________________________________\n",
      "Layer (type)                 Output Shape              Param #   \n",
      "=================================================================\n",
      "embedding (Embedding)        (None, 31, 50)            612850    \n",
      "_________________________________________________________________\n",
      "lstm (LSTM)                  (None, 31, 128)           91648     \n",
      "_________________________________________________________________\n",
      "lstm_1 (LSTM)                (None, 64)                49408     \n",
      "_________________________________________________________________\n",
      "dense (Dense)                (None, 32)                2080      \n",
      "_________________________________________________________________\n",
      "dense_1 (Dense)              (None, 1)                 33        \n",
      "=================================================================\n",
      "Total params: 756,019\n",
      "Trainable params: 143,169\n",
      "Non-trainable params: 612,850\n",
      "_________________________________________________________________\n"
     ]
    }
   ],
   "source": [
    "model1.summary()"
   ]
  },
  {
   "cell_type": "code",
   "execution_count": 45,
   "metadata": {},
   "outputs": [],
   "source": [
    "opt=Adam(learning_rate=1e-5)\n",
    "model1.compile(\n",
    "  loss='binary_crossentropy',\n",
    "  optimizer=opt,\n",
    "  metrics=['accuracy', f1_m],\n",
    ")"
   ]
  },
  {
   "cell_type": "code",
   "execution_count": 46,
   "metadata": {},
   "outputs": [
    {
     "name": "stdout",
     "output_type": "stream",
     "text": [
      "Epoch 1/40\n",
      "167/167 [==============================] - 18s 111ms/step - loss: 0.6899 - accuracy: 0.5294 - f1_m: 0.3271 - val_loss: 0.6805 - val_accuracy: 0.6038 - val_f1_m: 0.2494\n",
      "Epoch 2/40\n",
      "167/167 [==============================] - 19s 112ms/step - loss: 0.6699 - accuracy: 0.6690 - f1_m: 0.4568 - val_loss: 0.6573 - val_accuracy: 0.7172 - val_f1_m: 0.4316\n",
      "Epoch 3/40\n",
      "167/167 [==============================] - 21s 124ms/step - loss: 0.6480 - accuracy: 0.7247 - f1_m: 0.5869 - val_loss: 0.6306 - val_accuracy: 0.7680 - val_f1_m: 0.5311\n",
      "Epoch 4/40\n",
      "167/167 [==============================] - 23s 140ms/step - loss: 0.6213 - accuracy: 0.7607 - f1_m: 0.6714 - val_loss: 0.5977 - val_accuracy: 0.7728 - val_f1_m: 0.5542\n",
      "Epoch 5/40\n",
      "167/167 [==============================] - 23s 140ms/step - loss: 0.5902 - accuracy: 0.7630 - f1_m: 0.6896 - val_loss: 0.5627 - val_accuracy: 0.7863 - val_f1_m: 0.5835\n",
      "Epoch 6/40\n",
      "167/167 [==============================] - 24s 141ms/step - loss: 0.5589 - accuracy: 0.7664 - f1_m: 0.6967 - val_loss: 0.5315 - val_accuracy: 0.7828 - val_f1_m: 0.5968\n",
      "Epoch 7/40\n",
      "167/167 [==============================] - 24s 145ms/step - loss: 0.5354 - accuracy: 0.7699 - f1_m: 0.7048 - val_loss: 0.5127 - val_accuracy: 0.7815 - val_f1_m: 0.5870\n",
      "Epoch 8/40\n",
      "167/167 [==============================] - 23s 136ms/step - loss: 0.5200 - accuracy: 0.7763 - f1_m: 0.7111 - val_loss: 0.5009 - val_accuracy: 0.7824 - val_f1_m: 0.5855\n",
      "Epoch 9/40\n",
      "167/167 [==============================] - 24s 141ms/step - loss: 0.5095 - accuracy: 0.7761 - f1_m: 0.7067 - val_loss: 0.4914 - val_accuracy: 0.7820 - val_f1_m: 0.5949\n",
      "Epoch 10/40\n",
      "167/167 [==============================] - 24s 146ms/step - loss: 0.5041 - accuracy: 0.7786 - f1_m: 0.7093 - val_loss: 0.4854 - val_accuracy: 0.7824 - val_f1_m: 0.5915\n",
      "Epoch 11/40\n",
      "167/167 [==============================] - 23s 137ms/step - loss: 0.4981 - accuracy: 0.7834 - f1_m: 0.7149 - val_loss: 0.4807 - val_accuracy: 0.7863 - val_f1_m: 0.5852\n",
      "Epoch 12/40\n",
      "167/167 [==============================] - 23s 140ms/step - loss: 0.4927 - accuracy: 0.7818 - f1_m: 0.7105 - val_loss: 0.4755 - val_accuracy: 0.7885 - val_f1_m: 0.5912\n",
      "Epoch 13/40\n",
      "167/167 [==============================] - 33s 200ms/step - loss: 0.4898 - accuracy: 0.7838 - f1_m: 0.7140 - val_loss: 0.4710 - val_accuracy: 0.7916 - val_f1_m: 0.5970\n",
      "Epoch 14/40\n",
      "167/167 [==============================] - 29s 173ms/step - loss: 0.4859 - accuracy: 0.7853 - f1_m: 0.7185 - val_loss: 0.4668 - val_accuracy: 0.7951 - val_f1_m: 0.6126\n",
      "Epoch 15/40\n",
      "167/167 [==============================] - 31s 186ms/step - loss: 0.4832 - accuracy: 0.7895 - f1_m: 0.7182 - val_loss: 0.4640 - val_accuracy: 0.7951 - val_f1_m: 0.6053\n",
      "Epoch 16/40\n",
      "167/167 [==============================] - 24s 142ms/step - loss: 0.4793 - accuracy: 0.7891 - f1_m: 0.7185 - val_loss: 0.4610 - val_accuracy: 0.7968 - val_f1_m: 0.6108\n",
      "Epoch 17/40\n",
      "167/167 [==============================] - 20s 120ms/step - loss: 0.4757 - accuracy: 0.7868 - f1_m: 0.7190 - val_loss: 0.4590 - val_accuracy: 0.7955 - val_f1_m: 0.6064\n",
      "Epoch 18/40\n",
      "167/167 [==============================] - 21s 127ms/step - loss: 0.4741 - accuracy: 0.7896 - f1_m: 0.7144 - val_loss: 0.4572 - val_accuracy: 0.7977 - val_f1_m: 0.6052\n",
      "Epoch 19/40\n",
      "167/167 [==============================] - 22s 131ms/step - loss: 0.4707 - accuracy: 0.7887 - f1_m: 0.7163 - val_loss: 0.4552 - val_accuracy: 0.7990 - val_f1_m: 0.6080\n",
      "Epoch 20/40\n",
      "167/167 [==============================] - 23s 135ms/step - loss: 0.4686 - accuracy: 0.7904 - f1_m: 0.7190 - val_loss: 0.4528 - val_accuracy: 0.7986 - val_f1_m: 0.6121\n",
      "Epoch 21/40\n",
      "167/167 [==============================] - 19s 111ms/step - loss: 0.4664 - accuracy: 0.7940 - f1_m: 0.7249 - val_loss: 0.4532 - val_accuracy: 0.7995 - val_f1_m: 0.6207\n",
      "Epoch 22/40\n",
      "167/167 [==============================] - 18s 109ms/step - loss: 0.4696 - accuracy: 0.7885 - f1_m: 0.7221 - val_loss: 0.4510 - val_accuracy: 0.7973 - val_f1_m: 0.5985\n",
      "Epoch 23/40\n",
      "167/167 [==============================] - 18s 107ms/step - loss: 0.4652 - accuracy: 0.7949 - f1_m: 0.7246 - val_loss: 0.4493 - val_accuracy: 0.7986 - val_f1_m: 0.6128\n",
      "Epoch 24/40\n",
      "167/167 [==============================] - 18s 106ms/step - loss: 0.4665 - accuracy: 0.7865 - f1_m: 0.7131 - val_loss: 0.4484 - val_accuracy: 0.7968 - val_f1_m: 0.6051\n",
      "Epoch 25/40\n",
      "167/167 [==============================] - 18s 108ms/step - loss: 0.4641 - accuracy: 0.7934 - f1_m: 0.7234 - val_loss: 0.4481 - val_accuracy: 0.8004 - val_f1_m: 0.6197\n",
      "Epoch 26/40\n",
      "167/167 [==============================] - 18s 107ms/step - loss: 0.4637 - accuracy: 0.7940 - f1_m: 0.7239 - val_loss: 0.4467 - val_accuracy: 0.7977 - val_f1_m: 0.6088\n",
      "Epoch 27/40\n",
      "167/167 [==============================] - 19s 114ms/step - loss: 0.4604 - accuracy: 0.7936 - f1_m: 0.7259 - val_loss: 0.4472 - val_accuracy: 0.8060 - val_f1_m: 0.6290\n",
      "Epoch 28/40\n",
      "167/167 [==============================] - 21s 128ms/step - loss: 0.4594 - accuracy: 0.7975 - f1_m: 0.7315 - val_loss: 0.4454 - val_accuracy: 0.7982 - val_f1_m: 0.6067\n",
      "Epoch 29/40\n",
      "167/167 [==============================] - 20s 121ms/step - loss: 0.4571 - accuracy: 0.7930 - f1_m: 0.7229 - val_loss: 0.4449 - val_accuracy: 0.7995 - val_f1_m: 0.6062\n",
      "Epoch 30/40\n",
      "167/167 [==============================] - 21s 123ms/step - loss: 0.4601 - accuracy: 0.7951 - f1_m: 0.7251 - val_loss: 0.4442 - val_accuracy: 0.8017 - val_f1_m: 0.6136\n",
      "Epoch 31/40\n",
      "167/167 [==============================] - 22s 133ms/step - loss: 0.4591 - accuracy: 0.7932 - f1_m: 0.7249 - val_loss: 0.4440 - val_accuracy: 0.8039 - val_f1_m: 0.6173\n",
      "Epoch 32/40\n",
      "167/167 [==============================] - 23s 135ms/step - loss: 0.4588 - accuracy: 0.7932 - f1_m: 0.7257 - val_loss: 0.4434 - val_accuracy: 0.8034 - val_f1_m: 0.6172\n",
      "Epoch 33/40\n",
      "167/167 [==============================] - 25s 149ms/step - loss: 0.4561 - accuracy: 0.7943 - f1_m: 0.7243 - val_loss: 0.4428 - val_accuracy: 0.8012 - val_f1_m: 0.6097\n",
      "Epoch 34/40\n",
      "167/167 [==============================] - 21s 123ms/step - loss: 0.4564 - accuracy: 0.7915 - f1_m: 0.7233 - val_loss: 0.4426 - val_accuracy: 0.8047 - val_f1_m: 0.6167\n",
      "Epoch 35/40\n",
      "167/167 [==============================] - 21s 128ms/step - loss: 0.4562 - accuracy: 0.7949 - f1_m: 0.7258 - val_loss: 0.4426 - val_accuracy: 0.8065 - val_f1_m: 0.6226\n",
      "Epoch 36/40\n",
      "167/167 [==============================] - 21s 123ms/step - loss: 0.4556 - accuracy: 0.7930 - f1_m: 0.7223 - val_loss: 0.4419 - val_accuracy: 0.8043 - val_f1_m: 0.6146\n",
      "Epoch 37/40\n",
      "167/167 [==============================] - 21s 124ms/step - loss: 0.4517 - accuracy: 0.7985 - f1_m: 0.7307 - val_loss: 0.4417 - val_accuracy: 0.8034 - val_f1_m: 0.6144\n",
      "Epoch 38/40\n",
      "167/167 [==============================] - 22s 134ms/step - loss: 0.4549 - accuracy: 0.7975 - f1_m: 0.7297 - val_loss: 0.4412 - val_accuracy: 0.8039 - val_f1_m: 0.6140\n",
      "Epoch 39/40\n",
      "167/167 [==============================] - 24s 142ms/step - loss: 0.4508 - accuracy: 0.7956 - f1_m: 0.7235 - val_loss: 0.4411 - val_accuracy: 0.8060 - val_f1_m: 0.6208\n",
      "Epoch 40/40\n",
      "167/167 [==============================] - 26s 156ms/step - loss: 0.4536 - accuracy: 0.7996 - f1_m: 0.7313 - val_loss: 0.4408 - val_accuracy: 0.8078 - val_f1_m: 0.6210\n",
      "0:14:57.115241\n"
     ]
    }
   ],
   "source": [
    "# Fit the model; obtain the model fit time\n",
    "start=datetime.now()\n",
    "history1 = model1.fit(X_train,Y_train,\n",
    "                    batch_size=32,\n",
    "                    epochs=30,\n",
    "                    validation_split=0.3\n",
    ")\n",
    "end=datetime.now()\n",
    "print(end-start)"
   ]
  },
  {
   "cell_type": "code",
   "execution_count": 63,
   "metadata": {},
   "outputs": [
    {
     "name": "stdout",
     "output_type": "stream",
     "text": [
      "Best Train Accuracy: \n"
     ]
    },
    {
     "data": {
      "text/plain": [
       "0.7956"
      ]
     },
     "execution_count": 63,
     "metadata": {},
     "output_type": "execute_result"
    }
   ],
   "source": [
    "print ('Best Train Accuracy: ')\n",
    "best_model_train_accuracy = np.round(history1.history['accuracy'][np.argmin(history1.history['loss'])],4)\n",
    "best_model_train_accuracy"
   ]
  },
  {
   "cell_type": "code",
   "execution_count": 64,
   "metadata": {},
   "outputs": [
    {
     "name": "stdout",
     "output_type": "stream",
     "text": [
      "Best Validation Accuracy: \n"
     ]
    },
    {
     "data": {
      "text/plain": [
       "0.8078"
      ]
     },
     "execution_count": 64,
     "metadata": {},
     "output_type": "execute_result"
    }
   ],
   "source": [
    "print ('Best Validation Accuracy: ')\n",
    "best_model_val_accuracy = np.round(history1.history['val_accuracy'][np.argmin(history1.history['val_loss'])],4)\n",
    "best_model_val_accuracy"
   ]
  },
  {
   "cell_type": "code",
   "execution_count": 65,
   "metadata": {},
   "outputs": [
    {
     "name": "stdout",
     "output_type": "stream",
     "text": [
      "Best Train f1: 0.7315\n",
      "Best val f1: 0.629\n"
     ]
    }
   ],
   "source": [
    "best_model_train_f1 = max(np.round(history1.history['f1_m'],4))\n",
    "print ('Best Train f1: {}'.format(best_model_train_f1))\n",
    "\n",
    "best_model_val_f1 = max(np.round(history1.history['val_f1_m'],4))\n",
    "print ('Best val f1: {}'.format(best_model_val_f1))"
   ]
  },
  {
   "cell_type": "code",
   "execution_count": null,
   "metadata": {},
   "outputs": [],
   "source": [
    "# Plot the learning curve\n",
    "pd.DataFrame(history1.history).plot(figsize=(10, 8))\n",
    "plt.grid(True)\n",
    "plt.gca().set_ylim(0, 1) # set the vertical range to [0-1]\n",
    "plt.title('Learning curve -  factor1: 400K, factor2: GloVe.6B.50d, factor3: LSTM, factor4: 0.1')\n",
    "plt.show()"
   ]
  },
  {
   "cell_type": "markdown",
   "metadata": {},
   "source": [
    "# Prepare the test data"
   ]
  },
  {
   "cell_type": "code",
   "execution_count": 57,
   "metadata": {},
   "outputs": [
    {
     "data": {
      "text/plain": [
       "(3263, 31)"
      ]
     },
     "execution_count": 57,
     "metadata": {},
     "output_type": "execute_result"
    }
   ],
   "source": [
    "test_sequences = tokenizer.texts_to_sequences(test_text)\n",
    "padded_seq = keras.preprocessing.sequence.pad_sequences(test_sequences,maxlen)\n",
    "X_test = padded_seq\n",
    "X_test.shape"
   ]
  },
  {
   "cell_type": "markdown",
   "metadata": {},
   "source": [
    "# Make the prediction on the test data\n",
    "# 1 - disaster tweet , 0 - non-disaster tweet"
   ]
  },
  {
   "cell_type": "code",
   "execution_count": null,
   "metadata": {},
   "outputs": [],
   "source": [
    "predict1 = model1.predict_classes(X_test)\n",
    "predict1"
   ]
  },
  {
   "cell_type": "code",
   "execution_count": null,
   "metadata": {},
   "outputs": [],
   "source": [
    "len(predict1)"
   ]
  },
  {
   "cell_type": "code",
   "execution_count": null,
   "metadata": {},
   "outputs": [],
   "source": [
    "# save the results to a csv\n",
    "submission_df = pd.DataFrame({'id':test_tweets['id'],'target':np.squeeze(predict1)})\n",
    "submission_df.to_csv('submission_rnn_1.csv',index=False)"
   ]
  },
  {
   "cell_type": "code",
   "execution_count": 61,
   "metadata": {},
   "outputs": [
    {
     "data": {
      "text/html": [
       "<div>\n",
       "<style scoped>\n",
       "    .dataframe tbody tr th:only-of-type {\n",
       "        vertical-align: middle;\n",
       "    }\n",
       "\n",
       "    .dataframe tbody tr th {\n",
       "        vertical-align: top;\n",
       "    }\n",
       "\n",
       "    .dataframe thead th {\n",
       "        text-align: right;\n",
       "    }\n",
       "</style>\n",
       "<table border=\"1\" class=\"dataframe\">\n",
       "  <thead>\n",
       "    <tr style=\"text-align: right;\">\n",
       "      <th></th>\n",
       "      <th>Model_name</th>\n",
       "      <th>vocabulary size (factor1)</th>\n",
       "      <th>pre-trained vector (factor2)</th>\n",
       "      <th>RNN structure (factor3)</th>\n",
       "      <th>hyperparameter recurrent_dropout (factor4)</th>\n",
       "      <th>Processing Time</th>\n",
       "      <th>Training Set Accuracy</th>\n",
       "      <th>Validation Set Accuracy</th>\n",
       "      <th>train f1</th>\n",
       "      <th>validation f1</th>\n",
       "      <th>Test Set F1-score (Kaggle score)</th>\n",
       "    </tr>\n",
       "  </thead>\n",
       "  <tbody>\n",
       "    <tr>\n",
       "      <th>0</th>\n",
       "      <td>RNN #1</td>\n",
       "      <td>400K</td>\n",
       "      <td>GloVe.6B.50d</td>\n",
       "      <td>LSTM layer based</td>\n",
       "      <td>0.1</td>\n",
       "      <td>00:14:57.115241</td>\n",
       "      <td>0.7956</td>\n",
       "      <td>0.8078</td>\n",
       "      <td>0.7315</td>\n",
       "      <td>0.629</td>\n",
       "      <td>0.78087</td>\n",
       "    </tr>\n",
       "  </tbody>\n",
       "</table>\n",
       "</div>"
      ],
      "text/plain": [
       "  Model_name vocabulary size (factor1) pre-trained vector (factor2)  \\\n",
       "0     RNN #1                      400K                 GloVe.6B.50d   \n",
       "\n",
       "  RNN structure (factor3) hyperparameter recurrent_dropout (factor4)  \\\n",
       "0        LSTM layer based                                        0.1   \n",
       "\n",
       "  Processing Time  Training Set Accuracy  Validation Set Accuracy  train f1  \\\n",
       "0 00:14:57.115241                 0.7956                   0.8078    0.7315   \n",
       "\n",
       "   validation f1 Test Set F1-score (Kaggle score)  \n",
       "0          0.629                          0.78087  "
      ]
     },
     "execution_count": 61,
     "metadata": {},
     "output_type": "execute_result"
    }
   ],
   "source": [
    "#Store the accuracy and kaggle score for this model \n",
    "results_tbl = results_tbl.append({'Model_name':'RNN #1', \n",
    "                                   'vocabulary size (factor1)':'400K',\n",
    "                                   'pre-trained vector (factor2)':'GloVe.6B.50d',\n",
    "                                   'RNN structure (factor3)':'LSTM layer based',\n",
    "                                   'hyperparameter recurrent_dropout (factor4)': '0.1',\n",
    "                                   'Processing Time':(end-start),\n",
    "                                   'Training Set Accuracy':best_model_train_accuracy,\n",
    "                                   'Validation Set Accuracy':best_model_val_accuracy,\n",
    "                                   'train f1':best_model_train_f1,\n",
    "                                   'validation f1':best_model_val_f1,\n",
    "                                   'Test Set F1-score (Kaggle score)': '0.78087'\n",
    "                                   },ignore_index=True)\n",
    "results_tbl\n"
   ]
  },
  {
   "cell_type": "markdown",
   "metadata": {},
   "source": [
    "# Fit RNN 2\n",
    "# vocabulary size (factor 1): 400K\n",
    "# pre-trained vector (factor 2): GloVe.6B.50d\n",
    "# rnn structure (factor 3): LSTM layer based structure\n",
    "# recurrent dropout (factor 4): 0.3"
   ]
  },
  {
   "cell_type": "code",
   "execution_count": 66,
   "metadata": {},
   "outputs": [],
   "source": [
    "model2 = keras.models.Sequential([\n",
    "    keras.layers.Embedding(len(word2index)+1,50,weights=[embedding_matrix],input_length=maxlen,trainable=False),\n",
    "    keras.layers.LSTM(units=128 , return_sequences = True , recurrent_dropout = 0.3 , dropout = 0.3),\n",
    "    keras.layers.LSTM(units=64 , recurrent_dropout = 0.3 , dropout = 0.3),\n",
    "    keras.layers.Dense(32, activation='tanh'),\n",
    "    keras.layers.Dense(1,activation='tanh')\n",
    "])"
   ]
  },
  {
   "cell_type": "code",
   "execution_count": 67,
   "metadata": {},
   "outputs": [
    {
     "name": "stdout",
     "output_type": "stream",
     "text": [
      "Model: \"sequential_1\"\n",
      "_________________________________________________________________\n",
      "Layer (type)                 Output Shape              Param #   \n",
      "=================================================================\n",
      "embedding_1 (Embedding)      (None, 31, 50)            612850    \n",
      "_________________________________________________________________\n",
      "lstm_2 (LSTM)                (None, 31, 128)           91648     \n",
      "_________________________________________________________________\n",
      "lstm_3 (LSTM)                (None, 64)                49408     \n",
      "_________________________________________________________________\n",
      "dense_2 (Dense)              (None, 32)                2080      \n",
      "_________________________________________________________________\n",
      "dense_3 (Dense)              (None, 1)                 33        \n",
      "=================================================================\n",
      "Total params: 756,019\n",
      "Trainable params: 143,169\n",
      "Non-trainable params: 612,850\n",
      "_________________________________________________________________\n"
     ]
    }
   ],
   "source": [
    "model2.summary()"
   ]
  },
  {
   "cell_type": "code",
   "execution_count": 68,
   "metadata": {},
   "outputs": [],
   "source": [
    "opt=Adam(learning_rate=1e-5)\n",
    "model2.compile(\n",
    "  loss='binary_crossentropy',\n",
    "  optimizer=opt,\n",
    "  metrics=['accuracy', f1_m],\n",
    ")"
   ]
  },
  {
   "cell_type": "code",
   "execution_count": null,
   "metadata": {},
   "outputs": [
    {
     "name": "stdout",
     "output_type": "stream",
     "text": [
      "Epoch 1/40\n",
      "167/167 [==============================] - 24s 142ms/step - loss: 1.2531 - accuracy: 0.5752 - f1_m: 5.7029e-04 - val_loss: 0.9155 - val_accuracy: 0.5582 - val_f1_m: 0.0000e+00\n",
      "Epoch 2/40\n",
      "167/167 [==============================] - 22s 134ms/step - loss: 0.9891 - accuracy: 0.5744 - f1_m: 0.0088 - val_loss: 0.8608 - val_accuracy: 0.5582 - val_f1_m: 0.0012\n",
      "Epoch 3/40\n",
      "167/167 [==============================] - 21s 125ms/step - loss: 0.8963 - accuracy: 0.5648 - f1_m: 0.0207 - val_loss: 0.8180 - val_accuracy: 0.5539 - val_f1_m: 0.0189\n",
      "Epoch 4/40\n",
      "167/167 [==============================] - 21s 125ms/step - loss: 0.8444 - accuracy: 0.5600 - f1_m: 0.0617 - val_loss: 0.7833 - val_accuracy: 0.5429 - val_f1_m: 0.0893\n",
      "Epoch 5/40\n",
      "167/167 [==============================] - 22s 133ms/step - loss: 0.8117 - accuracy: 0.5594 - f1_m: 0.1263 - val_loss: 0.7633 - val_accuracy: 0.5429 - val_f1_m: 0.1761\n",
      "Epoch 6/40\n",
      "167/167 [==============================] - 24s 141ms/step - loss: 0.8063 - accuracy: 0.5558 - f1_m: 0.1751 - val_loss: 0.7516 - val_accuracy: 0.5355 - val_f1_m: 0.2139\n",
      "Epoch 7/40\n",
      "167/167 [==============================] - 24s 143ms/step - loss: 0.7699 - accuracy: 0.5498 - f1_m: 0.2097 - val_loss: 0.7367 - val_accuracy: 0.5468 - val_f1_m: 0.2851\n",
      "Epoch 8/40\n",
      "167/167 [==============================] - 24s 142ms/step - loss: 0.7631 - accuracy: 0.5564 - f1_m: 0.2474 - val_loss: 0.7256 - val_accuracy: 0.5591 - val_f1_m: 0.3265\n",
      "Epoch 9/40\n",
      "167/167 [==============================] - 23s 140ms/step - loss: 0.7491 - accuracy: 0.5577 - f1_m: 0.2804 - val_loss: 0.7166 - val_accuracy: 0.5661 - val_f1_m: 0.3539\n",
      "Epoch 10/40\n",
      "167/167 [==============================] - 23s 138ms/step - loss: 0.7367 - accuracy: 0.5635 - f1_m: 0.3117 - val_loss: 0.7069 - val_accuracy: 0.5683 - val_f1_m: 0.3679\n",
      "Epoch 11/40\n",
      "167/167 [==============================] - 22s 132ms/step - loss: 0.7246 - accuracy: 0.5744 - f1_m: 0.3530 - val_loss: 0.6930 - val_accuracy: 0.5823 - val_f1_m: 0.4026\n",
      "Epoch 12/40\n",
      "167/167 [==============================] - 21s 124ms/step - loss: 0.7100 - accuracy: 0.5731 - f1_m: 0.3594 - val_loss: 0.6835 - val_accuracy: 0.6011 - val_f1_m: 0.4212\n",
      "Epoch 13/40\n",
      "167/167 [==============================] - 23s 136ms/step - loss: 0.6983 - accuracy: 0.5965 - f1_m: 0.3858 - val_loss: 0.6742 - val_accuracy: 0.6187 - val_f1_m: 0.4373\n",
      "Epoch 14/40\n",
      "167/167 [==============================] - 21s 124ms/step - loss: 0.6823 - accuracy: 0.5905 - f1_m: 0.3833 - val_loss: 0.6643 - val_accuracy: 0.6349 - val_f1_m: 0.4481\n",
      "Epoch 15/40\n",
      "167/167 [==============================] - 20s 123ms/step - loss: 0.6902 - accuracy: 0.6168 - f1_m: 0.4283 - val_loss: 0.6537 - val_accuracy: 0.6497 - val_f1_m: 0.4479\n",
      "Epoch 16/40\n",
      "167/167 [==============================] - 21s 123ms/step - loss: 0.6781 - accuracy: 0.6268 - f1_m: 0.4304 - val_loss: 0.6429 - val_accuracy: 0.6725 - val_f1_m: 0.4641\n",
      "Epoch 17/40\n",
      "167/167 [==============================] - 20s 123ms/step - loss: 0.6722 - accuracy: 0.6446 - f1_m: 0.4679 - val_loss: 0.6320 - val_accuracy: 0.6896 - val_f1_m: 0.4803\n",
      "Epoch 18/40\n",
      "167/167 [==============================] - 20s 122ms/step - loss: 0.6561 - accuracy: 0.6583 - f1_m: 0.4734 - val_loss: 0.6198 - val_accuracy: 0.7053 - val_f1_m: 0.4931\n",
      "Epoch 19/40\n",
      "167/167 [==============================] - 20s 121ms/step - loss: 0.6509 - accuracy: 0.6701 - f1_m: 0.4974 - val_loss: 0.6090 - val_accuracy: 0.7172 - val_f1_m: 0.5025\n",
      "Epoch 20/40\n",
      "167/167 [==============================] - 20s 122ms/step - loss: 0.6354 - accuracy: 0.6767 - f1_m: 0.5308 - val_loss: 0.6059 - val_accuracy: 0.7150 - val_f1_m: 0.5384\n",
      "Epoch 21/40\n",
      "167/167 [==============================] - 21s 124ms/step - loss: 0.6317 - accuracy: 0.6763 - f1_m: 0.5431 - val_loss: 0.5967 - val_accuracy: 0.7272 - val_f1_m: 0.5441\n",
      "Epoch 22/40\n",
      "167/167 [==============================] - 20s 120ms/step - loss: 0.6281 - accuracy: 0.6958 - f1_m: 0.5566 - val_loss: 0.5867 - val_accuracy: 0.7377 - val_f1_m: 0.5464\n",
      "Epoch 23/40\n",
      "167/167 [==============================] - 20s 119ms/step - loss: 0.6068 - accuracy: 0.7048 - f1_m: 0.5762 - val_loss: 0.5773 - val_accuracy: 0.7395 - val_f1_m: 0.5373\n",
      "Epoch 24/40\n",
      "167/167 [==============================] - 20s 119ms/step - loss: 0.6064 - accuracy: 0.7095 - f1_m: 0.5824 - val_loss: 0.5725 - val_accuracy: 0.7426 - val_f1_m: 0.5437\n",
      "Epoch 25/40\n",
      "167/167 [==============================] - 20s 119ms/step - loss: 0.5980 - accuracy: 0.7146 - f1_m: 0.5923 - val_loss: 0.5631 - val_accuracy: 0.7434 - val_f1_m: 0.5431\n",
      "Epoch 26/40\n",
      "167/167 [==============================] - 20s 117ms/step - loss: 0.5948 - accuracy: 0.7219 - f1_m: 0.6131 - val_loss: 0.5600 - val_accuracy: 0.7500 - val_f1_m: 0.5665\n",
      "Epoch 27/40\n",
      "167/167 [==============================] - 20s 119ms/step - loss: 0.5920 - accuracy: 0.7311 - f1_m: 0.6265 - val_loss: 0.5531 - val_accuracy: 0.7496 - val_f1_m: 0.5629\n",
      "Epoch 28/40\n",
      "167/167 [==============================] - 20s 118ms/step - loss: 0.5816 - accuracy: 0.7318 - f1_m: 0.6374 - val_loss: 0.5508 - val_accuracy: 0.7509 - val_f1_m: 0.5711\n",
      "Epoch 29/40\n",
      "167/167 [==============================] - 20s 117ms/step - loss: 0.5865 - accuracy: 0.7298 - f1_m: 0.6394 - val_loss: 0.5478 - val_accuracy: 0.7548 - val_f1_m: 0.5698\n",
      "Epoch 30/40\n",
      "167/167 [==============================] - 20s 118ms/step - loss: 0.5735 - accuracy: 0.7403 - f1_m: 0.6530 - val_loss: 0.5470 - val_accuracy: 0.7557 - val_f1_m: 0.5842\n",
      "Epoch 31/40\n",
      "167/167 [==============================] - 20s 117ms/step - loss: 0.5767 - accuracy: 0.7382 - f1_m: 0.6533 - val_loss: 0.5446 - val_accuracy: 0.7566 - val_f1_m: 0.5882\n",
      "Epoch 32/40\n",
      "167/167 [==============================] - 20s 117ms/step - loss: 0.5716 - accuracy: 0.7394 - f1_m: 0.6623 - val_loss: 0.5361 - val_accuracy: 0.7601 - val_f1_m: 0.5851\n",
      "Epoch 33/40\n",
      "167/167 [==============================] - 19s 116ms/step - loss: 0.5564 - accuracy: 0.7452 - f1_m: 0.6624 - val_loss: 0.5324 - val_accuracy: 0.7609 - val_f1_m: 0.5843\n",
      "Epoch 34/40\n",
      "153/167 [==========================>...] - ETA: 1s - loss: 0.5690 - accuracy: 0.7296 - f1_m: 0.6687"
     ]
    }
   ],
   "source": [
    "# Fit the model; obtain the model fit time\n",
    "start=datetime.now()\n",
    "history2 = model2.fit(X_train,Y_train,\n",
    "                    batch_size=32,\n",
    "                    epochs=40,\n",
    "                    validation_split=0.3\n",
    ")\n",
    "end=datetime.now()\n",
    "print(end-start)"
   ]
  },
  {
   "cell_type": "code",
   "execution_count": null,
   "metadata": {},
   "outputs": [],
   "source": [
    "print ('Best Train Accuracy: ')\n",
    "best_model_train_accuracy = np.round(history2.history['accuracy'][np.argmin(history2.history['loss'])],4)\n",
    "best_model_train_accuracy"
   ]
  },
  {
   "cell_type": "code",
   "execution_count": null,
   "metadata": {},
   "outputs": [],
   "source": [
    "print ('Best Validation Accuracy: ')\n",
    "best_model_val_accuracy = np.round(history2.history['val_accuracy'][np.argmin(history2.history['val_loss'])],4)\n",
    "best_model_val_accuracy"
   ]
  },
  {
   "cell_type": "code",
   "execution_count": null,
   "metadata": {},
   "outputs": [],
   "source": [
    "best_model_train_f1 = max(np.round(history2.history['f1_m'],4))\n",
    "print ('Best Train f1: {}'.format(best_model_train_f1))\n",
    "\n",
    "best_model_val_f1 = max(np.round(history2.history['val_f1_m'],4))\n",
    "print ('Best val f1: {}'.format(best_model_val_f1))"
   ]
  },
  {
   "cell_type": "code",
   "execution_count": null,
   "metadata": {},
   "outputs": [],
   "source": [
    "best_model_train_f1 = max(np.round(history2.history['f1_m'],4))\n",
    "print ('Best Train f1: {}'.format(best_model_train_f1))\n",
    "\n",
    "best_model_val_f1 = max(np.round(history2.history['val_f1_m'],4))\n",
    "print ('Best val f1: {}'.format(best_model_val_f1))"
   ]
  },
  {
   "cell_type": "code",
   "execution_count": null,
   "metadata": {},
   "outputs": [],
   "source": [
    "# Plot the learning curve\n",
    "pd.DataFrame(history2.history).plot(figsize=(10, 8))\n",
    "plt.grid(True)\n",
    "plt.gca().set_ylim(0, 1) # set the vertical range to [0-1]\n",
    "plt.title('Learning curve -  factor1: 400K, factor2: GloVe.6B.50d, factor3: LSTM, factor4: 0.3')\n",
    "plt.show()"
   ]
  },
  {
   "cell_type": "markdown",
   "metadata": {},
   "source": [
    "# Re-use the X_test obtained earlier "
   ]
  },
  {
   "cell_type": "code",
   "execution_count": null,
   "metadata": {},
   "outputs": [],
   "source": [
    "X_test.shape"
   ]
  },
  {
   "cell_type": "code",
   "execution_count": null,
   "metadata": {},
   "outputs": [],
   "source": [
    "X_test"
   ]
  },
  {
   "cell_type": "markdown",
   "metadata": {},
   "source": [
    "# Make the prediction on the test data\n",
    "# 1 - disaster tweet , 0 - non-disaster tweet"
   ]
  },
  {
   "cell_type": "code",
   "execution_count": null,
   "metadata": {},
   "outputs": [],
   "source": [
    "predict2 = model2.predict_classes(X_test)\n",
    "predict2"
   ]
  },
  {
   "cell_type": "code",
   "execution_count": null,
   "metadata": {},
   "outputs": [],
   "source": [
    "len(predict2)"
   ]
  },
  {
   "cell_type": "code",
   "execution_count": null,
   "metadata": {},
   "outputs": [],
   "source": [
    "# save the results to a csv\n",
    "submission_df = pd.DataFrame({'id':test_tweets['id'],'target':np.squeeze(predict2)})\n",
    "submission_df.to_csv('submission_rnn_2.csv',index=False)"
   ]
  },
  {
   "cell_type": "code",
   "execution_count": null,
   "metadata": {},
   "outputs": [],
   "source": [
    "#Store the accuracy and kaggle score for this model \n",
    "results_tbl = results_tbl.append({'Model_name':'RNN #2', \n",
    "                                   'vocabulary size (factor1)':'400K',\n",
    "                                   'pre-trained vector (factor2)':'GloVe.6B.50d',\n",
    "                                   'RNN structure (factor3)':'LSTM layer based',\n",
    "                                   'hyperparameter recurrent_dropout (factor4)': '0.3',\n",
    "                                   'Processing Time':(end-start),\n",
    "                                   'Training Set Accuracy':best_model_train_accuracy,\n",
    "                                   'Validation Set Accuracy':best_model_val_accuracy,\n",
    "                                   'train f1':best_model_train_f1,\n",
    "                                   'validation f1':best_model_val_f1,\n",
    "                                   'Test Set F1-score (Kaggle score)': '0.78026'\n",
    "                                   },ignore_index=True)\n",
    "results_tbl\n"
   ]
  },
  {
   "cell_type": "markdown",
   "metadata": {},
   "source": [
    "# Fit RNN 3\n",
    "# vocabulary size (factor 1): 400K\n",
    "# pre-trained vector (factor 2): GloVe.6B.50d\n",
    "# rnn structure (factor 3): GRU layer based structure\n",
    "# recurrent dropout (factor 4): 0.1"
   ]
  },
  {
   "cell_type": "code",
   "execution_count": null,
   "metadata": {},
   "outputs": [],
   "source": [
    "model3 = keras.models.Sequential([\n",
    "    keras.layers.Embedding(len(word2index)+1,50,weights=[embedding_matrix],input_length=maxlen,trainable=False),\n",
    "    keras.layers.GRU(units=128 , return_sequences = True , recurrent_dropout = 0.1 , dropout = 0.1),\n",
    "    keras.layers.GRU(units=64 , recurrent_dropout = 0.1 , dropout = 0.1),\n",
    "    keras.layers.Dense(32, activation='tanh'),\n",
    "    keras.layers.Dense(1,activation='tanh')\n",
    "])"
   ]
  },
  {
   "cell_type": "code",
   "execution_count": null,
   "metadata": {},
   "outputs": [],
   "source": [
    "model3.summary()"
   ]
  },
  {
   "cell_type": "code",
   "execution_count": null,
   "metadata": {},
   "outputs": [],
   "source": [
    "opt=Adam(learning_rate=1e-5)\n",
    "model3.compile(\n",
    "  loss='binary_crossentropy',\n",
    "  optimizer=opt,\n",
    "  metrics=['accuracy', f1_m],\n",
    ")"
   ]
  },
  {
   "cell_type": "code",
   "execution_count": null,
   "metadata": {},
   "outputs": [],
   "source": [
    "# Fit the model; obtain the model fit time\n",
    "start=datetime.now()\n",
    "history3 = model3.fit(X_train,Y_train,\n",
    "                    batch_size=32,\n",
    "                    epochs=40,\n",
    "                    validation_split=0.3\n",
    ")\n",
    "end=datetime.now()\n",
    "print(end-start)"
   ]
  },
  {
   "cell_type": "code",
   "execution_count": null,
   "metadata": {},
   "outputs": [],
   "source": [
    "print ('Best Train Accuracy: ')\n",
    "best_model_train_accuracy = np.round(history3.history['accuracy'][np.argmin(history3.history['loss'])],4)\n",
    "best_model_train_accuracy"
   ]
  },
  {
   "cell_type": "code",
   "execution_count": null,
   "metadata": {},
   "outputs": [],
   "source": [
    "print ('Best Validation Accuracy: ')\n",
    "best_model_val_accuracy = np.round(history3.history['val_accuracy'][np.argmin(history3.history['val_loss'])],4)\n",
    "best_model_val_accuracy"
   ]
  },
  {
   "cell_type": "code",
   "execution_count": null,
   "metadata": {},
   "outputs": [],
   "source": [
    "best_model_train_f1 = max(np.round(history3.history['f1_m'],4))\n",
    "print ('Best Train f1: {}'.format(best_model_train_f1))\n",
    "\n",
    "best_model_val_f1 = max(np.round(history3.history['val_f1_m'],4))\n",
    "print ('Best val f1: {}'.format(best_model_val_f1))"
   ]
  },
  {
   "cell_type": "code",
   "execution_count": null,
   "metadata": {},
   "outputs": [],
   "source": [
    "# Plot the learning curve\n",
    "pd.DataFrame(history3.history).plot(figsize=(10, 8))\n",
    "plt.grid(True)\n",
    "plt.gca().set_ylim(0, 1) # set the vertical range to [0-1]\n",
    "plt.title('Learning curve - factor1: 400K, factor2: GloVe.6B.50d, factor3: GRU, factor4: 0.1')\n",
    "plt.show()"
   ]
  },
  {
   "cell_type": "markdown",
   "metadata": {},
   "source": [
    "# Re-use the X_test obtained earlier"
   ]
  },
  {
   "cell_type": "code",
   "execution_count": null,
   "metadata": {},
   "outputs": [],
   "source": [
    "X_test"
   ]
  },
  {
   "cell_type": "code",
   "execution_count": null,
   "metadata": {},
   "outputs": [],
   "source": [
    "X_test.shape"
   ]
  },
  {
   "cell_type": "markdown",
   "metadata": {},
   "source": [
    "# Make the prediction on the test data\n",
    "# 1 - disaster tweet , 0 - non-disaster tweet"
   ]
  },
  {
   "cell_type": "code",
   "execution_count": null,
   "metadata": {},
   "outputs": [],
   "source": [
    "predict3 = model3.predict_classes(X_test)\n",
    "predict3"
   ]
  },
  {
   "cell_type": "code",
   "execution_count": null,
   "metadata": {},
   "outputs": [],
   "source": [
    "len(predict3)"
   ]
  },
  {
   "cell_type": "code",
   "execution_count": null,
   "metadata": {},
   "outputs": [],
   "source": [
    "# save the results to a csv\n",
    "submission_df = pd.DataFrame({'id':test_tweets['id'],'target':np.squeeze(predict3)})\n",
    "submission_df.to_csv('submission_rnn_3.csv',index=False)"
   ]
  },
  {
   "cell_type": "code",
   "execution_count": null,
   "metadata": {},
   "outputs": [],
   "source": [
    "#Store the accuracy and kaggle score for this model \n",
    "results_tbl = results_tbl.append({'Model_name':'RNN #3', \n",
    "                                   'vocabulary size (factor1)':'400K',\n",
    "                                   'pre-trained vector (factor2)':'GloVe.6B.50d',\n",
    "                                   'RNN structure (factor3)':'GRU layer based',\n",
    "                                   'hyperparameter recurrent_dropout (factor4)': '0.1',\n",
    "                                   'Processing Time':(end-start),\n",
    "                                   'Training Set Accuracy':best_model_train_accuracy,\n",
    "                                   'Validation Set Accuracy':best_model_val_accuracy,\n",
    "                                   'train f1':best_model_train_f1,\n",
    "                                   'validation f1':best_model_val_f1,\n",
    "                                   'Test Set F1-score (Kaggle score)': '0.78302'\n",
    "                                   },ignore_index=True)\n",
    "results_tbl\n"
   ]
  },
  {
   "cell_type": "markdown",
   "metadata": {},
   "source": [
    "# Fit RNN 4\n",
    "# vocabulary size (factor 1): 400K\n",
    "# pre-trained vector (factor 2): GloVe.6B.50d\n",
    "# rnn structure (factor 3): GRU based structure\n",
    "# recurrent dropout (factor 4): 0.3"
   ]
  },
  {
   "cell_type": "code",
   "execution_count": null,
   "metadata": {},
   "outputs": [],
   "source": [
    "model4 = keras.models.Sequential([\n",
    "    keras.layers.Embedding(len(word2index)+1,50,weights=[embedding_matrix],input_length=maxlen,trainable=False),\n",
    "    keras.layers.GRU(units=128 , return_sequences = True , recurrent_dropout = 0.3 , dropout = 0.3),\n",
    "    keras.layers.GRU(units=64 , recurrent_dropout = 0.3 , dropout = 0.3),\n",
    "    keras.layers.Dense(32, activation='tanh'),\n",
    "    keras.layers.Dense(1,activation='tanh')\n",
    "])"
   ]
  },
  {
   "cell_type": "code",
   "execution_count": null,
   "metadata": {},
   "outputs": [],
   "source": [
    "model4.summary()"
   ]
  },
  {
   "cell_type": "code",
   "execution_count": null,
   "metadata": {},
   "outputs": [],
   "source": [
    "opt=Adam(learning_rate=1e-5)\n",
    "model4.compile(\n",
    "  loss='binary_crossentropy',\n",
    "  optimizer=opt,\n",
    "  metrics=['accuracy', f1_m],\n",
    ")"
   ]
  },
  {
   "cell_type": "code",
   "execution_count": null,
   "metadata": {},
   "outputs": [],
   "source": [
    "# Fit the model; obtain the model fit time\n",
    "start=datetime.now()\n",
    "history4 = model4.fit(X_train,Y_train,\n",
    "                    batch_size=32,\n",
    "                    epochs=40,\n",
    "                    validation_split=0.3\n",
    ")\n",
    "end=datetime.now()\n",
    "print(end-start)"
   ]
  },
  {
   "cell_type": "code",
   "execution_count": null,
   "metadata": {},
   "outputs": [],
   "source": [
    "print ('Best Train Accuracy: ')\n",
    "best_model_train_accuracy = np.round(history4.history['accuracy'][np.argmin(history4.history['loss'])],4)\n",
    "best_model_train_accuracy"
   ]
  },
  {
   "cell_type": "code",
   "execution_count": null,
   "metadata": {},
   "outputs": [],
   "source": [
    "print ('Best Validation Accuracy: ')\n",
    "best_model_val_accuracy = np.round(history4.history['val_accuracy'][np.argmin(history4.history['val_loss'])],4)\n",
    "best_model_val_accuracy"
   ]
  },
  {
   "cell_type": "code",
   "execution_count": null,
   "metadata": {},
   "outputs": [],
   "source": [
    "best_model_train_f1 = max(np.round(history4.history['f1_m'],4))\n",
    "print ('Best Train f1: {}'.format(best_model_train_f1))\n",
    "\n",
    "best_model_val_f1 = max(np.round(history4.history['val_f1_m'],4))\n",
    "print ('Best val f1: {}'.format(best_model_val_f1))"
   ]
  },
  {
   "cell_type": "code",
   "execution_count": null,
   "metadata": {},
   "outputs": [],
   "source": [
    "# Plot the learning curve\n",
    "pd.DataFrame(history4.history).plot(figsize=(10, 8))\n",
    "plt.grid(True)\n",
    "plt.gca().set_ylim(0, 1) # set the vertical range to [0-1]\n",
    "plt.title('Learning curve - factor1: 400K, factor2: GloVe.6B.50d, factor3: GRU, factor4: 0.3')\n",
    "plt.show()\n"
   ]
  },
  {
   "cell_type": "markdown",
   "metadata": {},
   "source": [
    "# Re-use the X_test obtained earlier"
   ]
  },
  {
   "cell_type": "code",
   "execution_count": null,
   "metadata": {},
   "outputs": [],
   "source": [
    "X_test"
   ]
  },
  {
   "cell_type": "markdown",
   "metadata": {},
   "source": [
    "# Make the prediction on the test data\n",
    "# 1 - disaster tweet , 0 - non-disaster tweet"
   ]
  },
  {
   "cell_type": "code",
   "execution_count": null,
   "metadata": {},
   "outputs": [],
   "source": [
    "predict4 = model4.predict_classes(X_test)\n",
    "predict4\n"
   ]
  },
  {
   "cell_type": "code",
   "execution_count": null,
   "metadata": {},
   "outputs": [],
   "source": [
    "# save the results to a csv\n",
    "submission_df = pd.DataFrame({'id':test_tweets['id'],'target':np.squeeze(predict4)})\n",
    "submission_df.to_csv('submission_rnn_4.csv',index=False)\n"
   ]
  },
  {
   "cell_type": "code",
   "execution_count": null,
   "metadata": {},
   "outputs": [],
   "source": [
    "\n",
    "#Store the accuracy and kaggle score for this model \n",
    "results_tbl = results_tbl.append({'Model_name':'RNN #4', \n",
    "                                   'vocabulary size (factor1)':'400K',\n",
    "                                   'pre-trained vector (factor2)':'GloVe.6B.50d',\n",
    "                                   'RNN structure (factor3)':'GRU layer based',\n",
    "                                   'hyperparameter recurrent_dropout (factor4)': '0.3',\n",
    "                                   'Processing Time':(end-start),\n",
    "                                   'Training Set Accuracy':best_model_train_accuracy,\n",
    "                                   'Validation Set Accuracy':best_model_val_accuracy,\n",
    "                                   'train f1':best_model_train_f1,\n",
    "                                   'validation f1':best_model_val_f1,\n",
    "                                   'Test Set F1-score (Kaggle score)': '0.77873'\n",
    "                                   },ignore_index=True)\n",
    "results_tbl"
   ]
  },
  {
   "cell_type": "markdown",
   "metadata": {},
   "source": [
    "## Read the Glove file - gloVe.6B.200d.txt"
   ]
  },
  {
   "cell_type": "code",
   "execution_count": null,
   "metadata": {},
   "outputs": [],
   "source": [
    "#reading from the file to learn the word embedding into the list word_to_vec_map\n",
    "word_to_index, index_to_word, word_to_vec_map = read_glove_vecs('/Users/harini-mac/Desktop/Northwestern University/MSDS-422/Week8/project1/nlp-getting-started/embeddings/gloVe.6B/glove.6B.200d.txt')\n"
   ]
  },
  {
   "cell_type": "code",
   "execution_count": null,
   "metadata": {},
   "outputs": [],
   "source": [
    "len(word_to_index)"
   ]
  },
  {
   "cell_type": "code",
   "execution_count": null,
   "metadata": {},
   "outputs": [],
   "source": [
    "len(word_to_vec_map)"
   ]
  },
  {
   "cell_type": "code",
   "execution_count": null,
   "metadata": {},
   "outputs": [],
   "source": [
    "len(index_to_word)"
   ]
  },
  {
   "cell_type": "markdown",
   "metadata": {},
   "source": [
    "## Cleanse the training and test data \n",
    "## Use the word_to_vec_map from glove.6B.200d"
   ]
  },
  {
   "cell_type": "code",
   "execution_count": null,
   "metadata": {},
   "outputs": [],
   "source": [
    "# clean the training and test data using the glove.6B.200d word_to_vec_map\n",
    "for i in range (train_tweets.shape[0]):\n",
    "    train_tweets.at[i,'text']=clean(train_tweets.loc[i,'text'])\n",
    "    \n",
    "for i in range(test_tweets.shape[0]):\n",
    "    test_tweets.at[i,'text']=clean(test_tweets.loc[i,'text'])"
   ]
  },
  {
   "cell_type": "code",
   "execution_count": null,
   "metadata": {},
   "outputs": [],
   "source": [
    "train_text = train_tweets['text']\n",
    "test_text = test_tweets['text']"
   ]
  },
  {
   "cell_type": "markdown",
   "metadata": {},
   "source": [
    "# Encode the text in the training data\n",
    "# Pad the resultant sequences"
   ]
  },
  {
   "cell_type": "code",
   "execution_count": null,
   "metadata": {},
   "outputs": [],
   "source": [
    "tokenizer = keras.preprocessing.text.Tokenizer()\n",
    "tokenizer.fit_on_texts(train_text)"
   ]
  },
  {
   "cell_type": "code",
   "execution_count": null,
   "metadata": {},
   "outputs": [],
   "source": [
    "\n",
    "train_sequences = tokenizer.texts_to_sequences(train_text)"
   ]
  },
  {
   "cell_type": "code",
   "execution_count": null,
   "metadata": {},
   "outputs": [],
   "source": [
    "tokenizer.texts_to_sequences([\"Forest fire near La Ronge Sask. Canada\"])"
   ]
  },
  {
   "cell_type": "code",
   "execution_count": null,
   "metadata": {},
   "outputs": [],
   "source": [
    "tokenizer.sequences_to_texts([[178, 42, 214, 664, 6037, 6038, 1319]])"
   ]
  },
  {
   "cell_type": "code",
   "execution_count": null,
   "metadata": {},
   "outputs": [],
   "source": [
    "word2index = tokenizer.word_index\n",
    "print(\"Number of unique tokens : \",len(word2index))"
   ]
  },
  {
   "cell_type": "code",
   "execution_count": null,
   "metadata": {},
   "outputs": [],
   "source": [
    "\n",
    "dataset_size = tokenizer.document_count\n",
    "dataset_size"
   ]
  },
  {
   "cell_type": "code",
   "execution_count": null,
   "metadata": {},
   "outputs": [],
   "source": [
    "# Get max training sequence length\n",
    "maxlen = max([len(x) for x in train_sequences])\n",
    "maxlen\n"
   ]
  },
  {
   "cell_type": "code",
   "execution_count": null,
   "metadata": {},
   "outputs": [],
   "source": [
    "padded_seq = keras.preprocessing.sequence.pad_sequences(train_sequences,maxlen)\n",
    "X_train = padded_seq\n",
    "Y_train = train_tweets['target']\n",
    "X_train.shape\n"
   ]
  },
  {
   "cell_type": "markdown",
   "metadata": {},
   "source": [
    "# Generate embedding matrix for tokens in the training data - 200 Dimensions"
   ]
  },
  {
   "cell_type": "code",
   "execution_count": null,
   "metadata": {},
   "outputs": [],
   "source": [
    "embedding_matrix = np.zeros((len(word2index)+1,200))\n",
    "\n",
    "embedding_vec=[]\n",
    "for word, i in word2index.items():\n",
    "    embedding_vec = word_to_vec_map.get(word)\n",
    "    if embedding_vec is not None:\n",
    "        embedding_matrix[i] = embedding_vec\n"
   ]
  },
  {
   "cell_type": "code",
   "execution_count": null,
   "metadata": {},
   "outputs": [],
   "source": [
    "print(embedding_matrix[1])"
   ]
  },
  {
   "cell_type": "code",
   "execution_count": null,
   "metadata": {},
   "outputs": [],
   "source": [
    "print(embedding_matrix.shape)"
   ]
  },
  {
   "cell_type": "markdown",
   "metadata": {},
   "source": [
    "# Fit RNN 5\n",
    "# vocabulary size (factor 1): 400K\n",
    "# pre-trained vector (factor 2): GloVe.6B.200d\n",
    "# rnn structure (factor 3): LSTM layer based structure\n",
    "# recurrent dropout (factor 4): 0.1"
   ]
  },
  {
   "cell_type": "code",
   "execution_count": null,
   "metadata": {},
   "outputs": [],
   "source": [
    "model5 = keras.models.Sequential([\n",
    "    keras.layers.Embedding(len(word2index)+1,200,weights=[embedding_matrix],input_length=maxlen,trainable=False),\n",
    "    keras.layers.LSTM(units=128 , return_sequences = True , recurrent_dropout = 0.1 , dropout = 0.1),\n",
    "    keras.layers.LSTM(units=64 , recurrent_dropout = 0.1 , dropout = 0.1),\n",
    "    keras.layers.Dense(32, activation='tanh'),\n",
    "    keras.layers.Dense(1,activation='tanh')\n",
    "])"
   ]
  },
  {
   "cell_type": "code",
   "execution_count": null,
   "metadata": {},
   "outputs": [],
   "source": [
    "model5.summary()"
   ]
  },
  {
   "cell_type": "code",
   "execution_count": null,
   "metadata": {},
   "outputs": [],
   "source": [
    "opt=Adam(learning_rate=1e-5)\n",
    "model5.compile(\n",
    "  loss='binary_crossentropy',\n",
    "  optimizer=opt,\n",
    "  metrics=['accuracy', f1_m],\n",
    ")"
   ]
  },
  {
   "cell_type": "code",
   "execution_count": null,
   "metadata": {},
   "outputs": [],
   "source": [
    "# Fit the model; obtain the model fit time\n",
    "start=datetime.now()\n",
    "history5 = model5.fit(X_train,Y_train,\n",
    "                    batch_size=32,\n",
    "                    epochs=40,\n",
    "                    validation_split=0.1\n",
    ")\n",
    "end=datetime.now()\n",
    "print(end-start)"
   ]
  },
  {
   "cell_type": "code",
   "execution_count": null,
   "metadata": {},
   "outputs": [],
   "source": [
    "print ('Best Train Accuracy: ')\n",
    "best_model_train_accuracy = np.round(history5.history['accuracy'][np.argmin(history5.history['loss'])],4)\n",
    "best_model_train_accuracy"
   ]
  },
  {
   "cell_type": "code",
   "execution_count": null,
   "metadata": {},
   "outputs": [],
   "source": [
    "print ('Best Validation Accuracy: ')\n",
    "best_model_val_accuracy = np.round(history5.history['val_accuracy'][np.argmin(history5.history['val_loss'])],4)\n",
    "best_model_val_accuracy"
   ]
  },
  {
   "cell_type": "code",
   "execution_count": null,
   "metadata": {},
   "outputs": [],
   "source": [
    "best_model_train_f1 = max(np.round(history5.history['f1_m'],4))\n",
    "print ('Best Train f1: {}'.format(best_model_train_f1))\n",
    "\n",
    "best_model_val_f1 = max(np.round(history5.history['val_f1_m'],4))\n",
    "print ('Best val f1: {}'.format(best_model_val_f1))"
   ]
  },
  {
   "cell_type": "code",
   "execution_count": null,
   "metadata": {},
   "outputs": [],
   "source": [
    "\n",
    "# Plot the learning curve\n",
    "pd.DataFrame(history5.history).plot(figsize=(10, 8))\n",
    "plt.grid(True)\n",
    "plt.gca().set_ylim(0, 1) # set the vertical range to [0-1]\n",
    "plt.title('Learning curve - factor1: 400K, factor2: GloVe.6B.200d, factor3: LSTM, factor4: 0.1')\n",
    "plt.show()"
   ]
  },
  {
   "cell_type": "markdown",
   "metadata": {},
   "source": [
    "# Prepare the test data"
   ]
  },
  {
   "cell_type": "code",
   "execution_count": null,
   "metadata": {},
   "outputs": [],
   "source": [
    "test_sequences = tokenizer.texts_to_sequences(test_text)\n",
    "padded_seq = keras.preprocessing.sequence.pad_sequences(test_sequences,maxlen)\n",
    "X_test = padded_seq\n",
    "X_test.shape"
   ]
  },
  {
   "cell_type": "code",
   "execution_count": null,
   "metadata": {},
   "outputs": [],
   "source": [
    "\n",
    "predict5 = model5.predict_classes(X_test)\n",
    "predict5"
   ]
  },
  {
   "cell_type": "code",
   "execution_count": null,
   "metadata": {},
   "outputs": [],
   "source": [
    "len(predict5)"
   ]
  },
  {
   "cell_type": "code",
   "execution_count": null,
   "metadata": {},
   "outputs": [],
   "source": [
    "# save the results to a csv\n",
    "submission_df = pd.DataFrame({'id':test_tweets['id'],'target':np.squeeze(predict5)})\n",
    "submission_df.to_csv('submission_rnn_5.csv',index=False)\n"
   ]
  },
  {
   "cell_type": "code",
   "execution_count": null,
   "metadata": {},
   "outputs": [],
   "source": [
    "#Store the accuracy and kaggle score for this model \n",
    "results_tbl = results_tbl.append({'Model_name':'RNN #5', \n",
    "                                   'vocabulary size (factor1)':'400K',\n",
    "                                   'pre-trained vector (factor2)':'GloVe.6B.200d',\n",
    "                                   'RNN structure (factor3)':'LSTM layer based',\n",
    "                                   'hyperparameter recurrent_dropout (factor4)': '0.1',\n",
    "                                   'Processing Time':(end-start),\n",
    "                                   'Training Set Accuracy':best_model_train_accuracy,\n",
    "                                   'Validation Set Accuracy':best_model_val_accuracy,\n",
    "                                   'train f1':best_model_train_f1,\n",
    "                                   'validation f1':best_model_val_f1,\n",
    "                                   'Test Set F1-score (Kaggle score)': '0.79313'\n",
    "                                   },ignore_index=True)\n",
    "results_tbl"
   ]
  },
  {
   "cell_type": "markdown",
   "metadata": {},
   "source": [
    "# Fit RNN 6\n",
    "# vocabulary size (factor 1): 400K\n",
    "# pre-trained vector (factor 2): GloVe.6B.200d\n",
    "# rnn structure (factor 3): LSTM layer based structure\n",
    "# recurrent dropout (factor 4): 0.3\n"
   ]
  },
  {
   "cell_type": "code",
   "execution_count": null,
   "metadata": {},
   "outputs": [],
   "source": [
    "model6 = keras.models.Sequential([\n",
    "    keras.layers.Embedding(len(word2index)+1,200,weights=[embedding_matrix],input_length=maxlen,trainable=False),\n",
    "    keras.layers.LSTM(units=128 , return_sequences = True , recurrent_dropout = 0.3 , dropout = 0.3),\n",
    "    keras.layers.LSTM(units=64 , recurrent_dropout = 0.3 , dropout = 0.3),\n",
    "    keras.layers.Dense(32, activation='tanh'),\n",
    "    keras.layers.Dense(1,activation='tanh')\n",
    "])"
   ]
  },
  {
   "cell_type": "code",
   "execution_count": null,
   "metadata": {},
   "outputs": [],
   "source": [
    "model6.summary()"
   ]
  },
  {
   "cell_type": "code",
   "execution_count": null,
   "metadata": {},
   "outputs": [],
   "source": [
    "opt=Adam(learning_rate=1e-5)\n",
    "model6.compile(\n",
    "  loss='binary_crossentropy',\n",
    "  optimizer=opt,\n",
    "  metrics=['accuracy', f1_m],\n",
    ")"
   ]
  },
  {
   "cell_type": "code",
   "execution_count": null,
   "metadata": {},
   "outputs": [],
   "source": [
    "# Fit the model; obtain the model fit time\n",
    "start=datetime.now()\n",
    "history6 = model6.fit(X_train,Y_train,\n",
    "                    batch_size=32,\n",
    "                    epochs=40,\n",
    "                    validation_split=0.3\n",
    ")\n",
    "end=datetime.now()\n",
    "print(end-start)"
   ]
  },
  {
   "cell_type": "code",
   "execution_count": null,
   "metadata": {},
   "outputs": [],
   "source": [
    "print ('Best Train Accuracy: ')\n",
    "best_model_train_accuracy = np.round(history6.history['accuracy'][np.argmin(history6.history['loss'])],4)\n",
    "best_model_train_accuracy"
   ]
  },
  {
   "cell_type": "code",
   "execution_count": null,
   "metadata": {},
   "outputs": [],
   "source": [
    "print ('Best Validation Accuracy: ')\n",
    "best_model_val_accuracy = np.round(history6.history['val_accuracy'][np.argmin(history6.history['val_loss'])],4)\n",
    "best_model_val_accuracy\n"
   ]
  },
  {
   "cell_type": "code",
   "execution_count": null,
   "metadata": {},
   "outputs": [],
   "source": [
    "best_model_train_f1 = max(np.round(history6.history['f1_m'],4))\n",
    "print ('Best Train f1: {}'.format(best_model_train_f1))\n",
    "\n",
    "best_model_val_f1 = max(np.round(history6.history['val_f1_m'],4))\n",
    "print ('Best val f1: {}'.format(best_model_val_f1))"
   ]
  },
  {
   "cell_type": "code",
   "execution_count": null,
   "metadata": {},
   "outputs": [],
   "source": [
    "\n",
    "# Plot the learning curve\n",
    "pd.DataFrame(history6.history).plot(figsize=(10, 8))\n",
    "plt.grid(True)\n",
    "plt.gca().set_ylim(0, 1) # set the vertical range to [0-1]\n",
    "plt.title('Learning curve - factor1: 400K, factor2: GloVe.6B.200d, factor3: LSTM, factor4: 0.3')\n",
    "plt.show()"
   ]
  },
  {
   "cell_type": "markdown",
   "metadata": {},
   "source": [
    "# Re-use the X_test obtained earlier "
   ]
  },
  {
   "cell_type": "code",
   "execution_count": null,
   "metadata": {},
   "outputs": [],
   "source": [
    "X_test.shape"
   ]
  },
  {
   "cell_type": "code",
   "execution_count": null,
   "metadata": {},
   "outputs": [],
   "source": [
    "X_test"
   ]
  },
  {
   "cell_type": "code",
   "execution_count": null,
   "metadata": {},
   "outputs": [],
   "source": [
    "# Make the prediction on the test data\n",
    "# 1 - disaster tweet , 0 - non-disaster tweet"
   ]
  },
  {
   "cell_type": "code",
   "execution_count": null,
   "metadata": {},
   "outputs": [],
   "source": [
    "\n",
    "predict6 = model6.predict_classes(X_test)\n",
    "predict6"
   ]
  },
  {
   "cell_type": "code",
   "execution_count": null,
   "metadata": {},
   "outputs": [],
   "source": [
    "len(predict6)"
   ]
  },
  {
   "cell_type": "code",
   "execution_count": null,
   "metadata": {},
   "outputs": [],
   "source": [
    "# save the results to a csv\n",
    "submission_df = pd.DataFrame({'id':test_tweets['id'],'target':np.squeeze(predict6)})\n",
    "submission_df.to_csv('submission_rnn_6.csv',index=False)\n"
   ]
  },
  {
   "cell_type": "code",
   "execution_count": null,
   "metadata": {},
   "outputs": [],
   "source": [
    "#Store the accuracy and kaggle score for this model \n",
    "results_tbl = results_tbl.append({'Model_name':'RNN #6', \n",
    "                                   'vocabulary size (factor1)':'400K',\n",
    "                                   'pre-trained vector (factor2)':'GloVe.6B.200d',\n",
    "                                   'RNN structure (factor3)':'LSTM layer based',\n",
    "                                   'hyperparameter recurrent_dropout (factor4)': '0.3',\n",
    "                                   'Processing Time':(end-start),\n",
    "                                   'Training Set Accuracy':best_model_train_accuracy,\n",
    "                                   'Validation Set Accuracy':best_model_val_accuracy,\n",
    "                                   'train f1':best_model_train_f1,\n",
    "                                   'validation f1':best_model_val_f1,\n",
    "                                   'Test Set F1-score (Kaggle score)': '0.78639'\n",
    "                                   },ignore_index=True)\n",
    "results_tbl"
   ]
  },
  {
   "cell_type": "markdown",
   "metadata": {},
   "source": [
    "# Fit RNN 7\n",
    "# vocabulary size (factor 1): 400K\n",
    "# pre-trained vector (factor 2): GloVe.6B.200d\n",
    "# rnn structure (factor 3): GRU layer based structure\n",
    "# recurrent dropout (factor 4): 0.1\n"
   ]
  },
  {
   "cell_type": "code",
   "execution_count": null,
   "metadata": {},
   "outputs": [],
   "source": [
    "\n",
    "model7 = keras.models.Sequential([\n",
    "    keras.layers.Embedding(len(word2index)+1,200,weights=[embedding_matrix],input_length=maxlen,trainable=False),\n",
    "    keras.layers.GRU(units=128 , return_sequences = True , recurrent_dropout = 0.1 , dropout = 0.1),\n",
    "    keras.layers.GRU(units=64 , recurrent_dropout = 0.1 , dropout = 0.1),\n",
    "    keras.layers.Dense(32, activation='tanh'),\n",
    "    keras.layers.Dense(1,activation='tanh')\n",
    "])"
   ]
  },
  {
   "cell_type": "code",
   "execution_count": null,
   "metadata": {},
   "outputs": [],
   "source": [
    "model7.summary()"
   ]
  },
  {
   "cell_type": "code",
   "execution_count": null,
   "metadata": {},
   "outputs": [],
   "source": [
    "opt=Adam(learning_rate=1e-5)\n",
    "model7.compile(\n",
    "  loss='binary_crossentropy',\n",
    "  optimizer=opt,\n",
    "  metrics=['accuracy', f1_m],\n",
    ")"
   ]
  },
  {
   "cell_type": "code",
   "execution_count": null,
   "metadata": {},
   "outputs": [],
   "source": [
    "# Fit the model; obtain the model fit time\n",
    "start=datetime.now()\n",
    "history7 = model7.fit(X_train,Y_train,\n",
    "                    batch_size=32,\n",
    "                    epochs=40,\n",
    "                    validation_split=0.3\n",
    ")\n",
    "end=datetime.now()\n",
    "print(end-start)\n",
    "\n"
   ]
  },
  {
   "cell_type": "code",
   "execution_count": null,
   "metadata": {},
   "outputs": [],
   "source": [
    "\n",
    "print ('Best Train Accuracy: ')\n",
    "best_model_train_accuracy = np.round(history7.history['accuracy'][np.argmin(history7.history['loss'])],4)\n",
    "best_model_train_accuracy\n"
   ]
  },
  {
   "cell_type": "code",
   "execution_count": null,
   "metadata": {},
   "outputs": [],
   "source": [
    "print ('Best Validation Accuracy: ')\n",
    "best_model_val_accuracy = np.round(history7.history['val_accuracy'][np.argmin(history7.history['val_loss'])],4)\n",
    "best_model_val_accuracy"
   ]
  },
  {
   "cell_type": "code",
   "execution_count": null,
   "metadata": {},
   "outputs": [],
   "source": [
    "best_model_train_f1 = max(np.round(history7.history['f1_m'],4))\n",
    "print ('Best Train f1: {}'.format(best_model_train_f1))\n",
    "\n",
    "best_model_val_f1 = max(np.round(history7.history['val_f1_m'],4))\n",
    "print ('Best val f1: {}'.format(best_model_val_f1))"
   ]
  },
  {
   "cell_type": "code",
   "execution_count": null,
   "metadata": {},
   "outputs": [],
   "source": [
    "# Plot the learning curve\n",
    "pd.DataFrame(history7.history).plot(figsize=(10, 8))\n",
    "plt.grid(True)\n",
    "plt.gca().set_ylim(0, 1) # set the vertical range to [0-1]\n",
    "plt.title('Learning curve - factor1: 400K, factor2: GloVe.6B.200d, factor3: GRU, factor4: 0.1')\n",
    "plt.show()\n"
   ]
  },
  {
   "cell_type": "code",
   "execution_count": null,
   "metadata": {},
   "outputs": [],
   "source": [
    "# Re-use the X_test obtained earlier"
   ]
  },
  {
   "cell_type": "code",
   "execution_count": null,
   "metadata": {},
   "outputs": [],
   "source": [
    "X_test"
   ]
  },
  {
   "cell_type": "code",
   "execution_count": null,
   "metadata": {},
   "outputs": [],
   "source": [
    "X_test.shape"
   ]
  },
  {
   "cell_type": "markdown",
   "metadata": {},
   "source": [
    "# Make the prediction on the test data\n",
    "\n",
    "# 1 - disaster tweet , 0 - non-disaster tweet\n"
   ]
  },
  {
   "cell_type": "code",
   "execution_count": null,
   "metadata": {},
   "outputs": [],
   "source": [
    "\n",
    "predict7 = model7.predict_classes(X_test)\n",
    "predict7"
   ]
  },
  {
   "cell_type": "code",
   "execution_count": null,
   "metadata": {},
   "outputs": [],
   "source": [
    "len(predict7)"
   ]
  },
  {
   "cell_type": "code",
   "execution_count": null,
   "metadata": {},
   "outputs": [],
   "source": [
    "# save the results to a csv\n",
    "submission_df = pd.DataFrame({'id':test_tweets['id'],'target':np.squeeze(predict7)})\n",
    "submission_df.to_csv('submission_rnn_7.csv',index=False)"
   ]
  },
  {
   "cell_type": "code",
   "execution_count": null,
   "metadata": {},
   "outputs": [],
   "source": [
    "#Store the accuracy and kaggle score for this model \n",
    "results_tbl = results_tbl.append({'Model_name':'RNN #7', \n",
    "                                   'vocabulary size (factor1)':'400K',\n",
    "                                   'pre-trained vector (factor2)':'GloVe.6B.200d',\n",
    "                                   'RNN structure (factor3)':'GRU layer based',\n",
    "                                   'hyperparameter recurrent_dropout (factor4)': '0.1',\n",
    "                                   'Processing Time':(end-start),\n",
    "                                   'Training Set Accuracy':best_model_train_accuracy,\n",
    "                                   'Validation Set Accuracy':best_model_val_accuracy,\n",
    "                                   'train f1':best_model_train_f1,\n",
    "                                   'validation f1':best_model_val_f1,\n",
    "                                   'Test Set F1-score (Kaggle score)': '0.79068'\n",
    "                                   },ignore_index=True)\n",
    "results_tbl\n"
   ]
  },
  {
   "cell_type": "markdown",
   "metadata": {},
   "source": [
    "# Fit RNN 8\n",
    "# vocabulary size (factor 1): 400K\n",
    "# pre-trained vector (factor 2): GloVe.6B.200d\n",
    "# rnn structure (factor 3): GRU based structure\n",
    "# recurrent dropout (factor 4): 0.3"
   ]
  },
  {
   "cell_type": "code",
   "execution_count": null,
   "metadata": {},
   "outputs": [],
   "source": [
    "model8 = keras.models.Sequential([\n",
    "    keras.layers.Embedding(len(word2index)+1,200,weights=[embedding_matrix],input_length=maxlen,trainable=False),\n",
    "    keras.layers.GRU(units=128 , return_sequences = True , recurrent_dropout = 0.3 , dropout = 0.3),\n",
    "    keras.layers.GRU(units=64 , recurrent_dropout = 0.3 , dropout = 0.3),\n",
    "    keras.layers.Dense(32, activation='tanh'),\n",
    "    keras.layers.Dense(1,activation='tanh')\n",
    "])\n"
   ]
  },
  {
   "cell_type": "code",
   "execution_count": null,
   "metadata": {},
   "outputs": [],
   "source": [
    "model8.summary()"
   ]
  },
  {
   "cell_type": "code",
   "execution_count": null,
   "metadata": {},
   "outputs": [],
   "source": [
    "opt=Adam(learning_rate=1e-5)\n",
    "model8.compile(\n",
    "  loss='binary_crossentropy',\n",
    "  optimizer=opt,\n",
    "  metrics=['accuracy', f1_m],\n",
    ")\n"
   ]
  },
  {
   "cell_type": "code",
   "execution_count": null,
   "metadata": {},
   "outputs": [],
   "source": [
    "\n",
    "# Fit the model; obtain the model fit time\n",
    "start=datetime.now()\n",
    "history8 = model8.fit(X_train,Y_train,\n",
    "                    batch_size=32,\n",
    "                    epochs=40,\n",
    "                    validation_split=0.3\n",
    ")\n",
    "end=datetime.now()\n",
    "print(end-start)"
   ]
  },
  {
   "cell_type": "code",
   "execution_count": null,
   "metadata": {},
   "outputs": [],
   "source": [
    "print ('Best Train Accuracy: ')\n",
    "best_model_train_accuracy = np.round(history8.history['accuracy'][np.argmin(history8.history['loss'])],4)\n",
    "best_model_train_accuracy"
   ]
  },
  {
   "cell_type": "code",
   "execution_count": null,
   "metadata": {},
   "outputs": [],
   "source": [
    "print ('Best Validation Accuracy: ')\n",
    "best_model_val_accuracy = np.round(history8.history['val_accuracy'][np.argmin(history8.history['val_loss'])],4)\n",
    "best_model_val_accuracy"
   ]
  },
  {
   "cell_type": "code",
   "execution_count": null,
   "metadata": {},
   "outputs": [],
   "source": [
    "best_model_train_f1 = max(np.round(history8.history['f1_m'],4))\n",
    "print ('Best Train f1: {}'.format(best_model_train_f1))\n",
    "\n",
    "best_model_val_f1 = max(np.round(history8.history['val_f1_m'],4))\n",
    "print ('Best val f1: {}'.format(best_model_val_f1))"
   ]
  },
  {
   "cell_type": "code",
   "execution_count": null,
   "metadata": {},
   "outputs": [],
   "source": [
    "# Plot the learning curve\n",
    "pd.DataFrame(history8.history).plot(figsize=(10, 8))\n",
    "plt.grid(True)\n",
    "plt.gca().set_ylim(0, 1) # set the vertical range to [0-1]\n",
    "plt.title('Learning curve - factor1: 400K, factor2: GloVe.6B.200d, factor3: GRU, factor4: 0.3')\n",
    "plt.show()"
   ]
  },
  {
   "cell_type": "markdown",
   "metadata": {},
   "source": [
    "# Re-use the X_test obtained earlier"
   ]
  },
  {
   "cell_type": "code",
   "execution_count": null,
   "metadata": {},
   "outputs": [],
   "source": [
    "X_test"
   ]
  },
  {
   "cell_type": "code",
   "execution_count": null,
   "metadata": {},
   "outputs": [],
   "source": [
    "X_test.shape"
   ]
  },
  {
   "cell_type": "markdown",
   "metadata": {},
   "source": [
    "# Make the prediction on the test data\n",
    "# 1 - disaster tweet , 0 - non-disaster tweet"
   ]
  },
  {
   "cell_type": "code",
   "execution_count": null,
   "metadata": {},
   "outputs": [],
   "source": [
    "predict8 = model8.predict_classes(X_test)\n",
    "predict8\n"
   ]
  },
  {
   "cell_type": "code",
   "execution_count": null,
   "metadata": {},
   "outputs": [],
   "source": [
    "# save the results to a csv\n",
    "submission_df = pd.DataFrame({'id':test_tweets['id'],'target':np.squeeze(predict8)})\n",
    "submission_df.to_csv('submission_rnn_8.csv',index=False)\n"
   ]
  },
  {
   "cell_type": "code",
   "execution_count": null,
   "metadata": {},
   "outputs": [],
   "source": [
    "#Store the accuracy and kaggle score for this model \n",
    "results_tbl = results_tbl.append({'Model_name':'RNN #8', \n",
    "                                   'vocabulary size (factor1)':'400K',\n",
    "                                   'pre-trained vector (factor2)':'GloVe.6B.200d',\n",
    "                                   'RNN structure (factor3)':'GRU layer based',\n",
    "                                   'hyperparameter recurrent_dropout (factor4)': '0.3',\n",
    "                                   'Processing Time':(end-start),\n",
    "                                   'Training Set Accuracy':best_model_train_accuracy,\n",
    "                                   'Validation Set Accuracy':best_model_val_accuracy,\n",
    "                                   'train f1':best_model_train_f1,\n",
    "                                   'validation f1':best_model_val_f1,\n",
    "                                   'Test Set F1-score (Kaggle score)': '0.78608'\n",
    "                                   },ignore_index=True)\n",
    "results_tbl"
   ]
  }
 ],
 "metadata": {
  "kernelspec": {
   "display_name": "Python 3",
   "language": "python",
   "name": "python3"
  },
  "language_info": {
   "codemirror_mode": {
    "name": "ipython",
    "version": 3
   },
   "file_extension": ".py",
   "mimetype": "text/x-python",
   "name": "python",
   "nbconvert_exporter": "python",
   "pygments_lexer": "ipython3",
   "version": "3.7.4"
  }
 },
 "nbformat": 4,
 "nbformat_minor": 4
}
