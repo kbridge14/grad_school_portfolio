{
 "cells": [
  {
   "cell_type": "code",
   "execution_count": 1,
   "metadata": {
    "scrolled": true
   },
   "outputs": [],
   "source": [
    "# MSDS 422\n",
    "# Professor Anil Chaturvedi\n",
    "\n",
    "# Assignment 5 \n",
    "# in conjunction with and data source from Kaggle\n",
    "# # # https://www.kaggle.com/c/digit-recognizer/data\n",
    "\n",
    "# October 2020\n",
    "\n",
    "# max_features : size of the random subsets of features to consider when splitting a node"
   ]
  },
  {
   "cell_type": "markdown",
   "metadata": {},
   "source": [
    "<div style=\"text-align: right\"><b>pkg imports & configuration</b></div>"
   ]
  },
  {
   "cell_type": "code",
   "execution_count": 2,
   "metadata": {
    "scrolled": true
   },
   "outputs": [
    {
     "name": "stderr",
     "output_type": "stream",
     "text": [
      "/opt/anaconda3/lib/python3.7/site-packages/statsmodels/tools/_testing.py:19: FutureWarning: pandas.util.testing is deprecated. Use the functions in the public API at pandas.testing instead.\n",
      "  import pandas.util.testing as tm\n"
     ]
    }
   ],
   "source": [
    "# basix\n",
    "import numpy as np\n",
    "import pandas as pd\n",
    "import seaborn as sns\n",
    "import math\n",
    "import random\n",
    "import time\n",
    "\n",
    "# prep\n",
    "from sklearn.model_selection import train_test_split\n",
    "from sklearn.model_selection import KFold\n",
    "from sklearn.model_selection import GridSearchCV\n",
    "\n",
    "#modeling\n",
    "from sklearn.ensemble import RandomForestClassifier\n",
    "from sklearn.decomposition import PCA\n",
    "from sklearn.cluster import KMeans\n",
    "\n",
    "# other\n",
    "from sklearn.metrics import classification_report\n",
    "from sklearn import tree\n",
    "from sklearn.cluster import MiniBatchKMeans\n",
    "\n",
    "%matplotlib inline   \n",
    "import matplotlib.pyplot as plt"
   ]
  },
  {
   "cell_type": "code",
   "execution_count": 3,
   "metadata": {
    "scrolled": true
   },
   "outputs": [],
   "source": [
    "pd.options.display.float_format = \"{:,.4f}\".format\n",
    "RANDOM_SEED = 8675309\n",
    "responseVar = \"label\""
   ]
  },
  {
   "cell_type": "code",
   "execution_count": 4,
   "metadata": {
    "scrolled": true
   },
   "outputs": [],
   "source": [
    "# setup for consolidated table, later\n",
    "table = {\"rfc\":{\"r2-train\":None},\n",
    "         \"rfc_with_pca\":{\"r2-train\":None},\n",
    "         \"adj_rfc_with_pca\":{\"r2-train\":None},\n",
    "        }"
   ]
  },
  {
   "cell_type": "markdown",
   "metadata": {},
   "source": [
    "<div style=\"text-align: right\"><b>BRING IN THE DATA</b></div>"
   ]
  },
  {
   "cell_type": "code",
   "execution_count": 5,
   "metadata": {
    "scrolled": true
   },
   "outputs": [],
   "source": [
    "mnist_train = pd.read_csv('train.csv')\n",
    "mnist_test = pd.read_csv('test.csv')\n",
    "mnist = pd.concat([mnist_test, mnist_train.drop(columns = \"label\")]) # combined dataset"
   ]
  },
  {
   "cell_type": "markdown",
   "metadata": {},
   "source": [
    "<div style=\"text-align: right\"><b>eda</b></div>"
   ]
  },
  {
   "cell_type": "code",
   "execution_count": 6,
   "metadata": {
    "scrolled": true
   },
   "outputs": [
    {
     "data": {
      "text/plain": [
       "0"
      ]
     },
     "execution_count": 6,
     "metadata": {},
     "output_type": "execute_result"
    }
   ],
   "source": [
    "sum(mnist_train.isna().sum()) # checks for missing data"
   ]
  },
  {
   "cell_type": "code",
   "execution_count": 7,
   "metadata": {
    "scrolled": true
   },
   "outputs": [
    {
     "data": {
      "text/html": [
       "<div>\n",
       "<style scoped>\n",
       "    .dataframe tbody tr th:only-of-type {\n",
       "        vertical-align: middle;\n",
       "    }\n",
       "\n",
       "    .dataframe tbody tr th {\n",
       "        vertical-align: top;\n",
       "    }\n",
       "\n",
       "    .dataframe thead th {\n",
       "        text-align: right;\n",
       "    }\n",
       "</style>\n",
       "<table border=\"1\" class=\"dataframe\">\n",
       "  <thead>\n",
       "    <tr style=\"text-align: right;\">\n",
       "      <th></th>\n",
       "      <th>label</th>\n",
       "    </tr>\n",
       "  </thead>\n",
       "  <tbody>\n",
       "    <tr>\n",
       "      <th>count</th>\n",
       "      <td>42,000.0000</td>\n",
       "    </tr>\n",
       "    <tr>\n",
       "      <th>mean</th>\n",
       "      <td>4.4566</td>\n",
       "    </tr>\n",
       "    <tr>\n",
       "      <th>std</th>\n",
       "      <td>2.8877</td>\n",
       "    </tr>\n",
       "    <tr>\n",
       "      <th>min</th>\n",
       "      <td>0.0000</td>\n",
       "    </tr>\n",
       "    <tr>\n",
       "      <th>25%</th>\n",
       "      <td>2.0000</td>\n",
       "    </tr>\n",
       "    <tr>\n",
       "      <th>50%</th>\n",
       "      <td>4.0000</td>\n",
       "    </tr>\n",
       "    <tr>\n",
       "      <th>75%</th>\n",
       "      <td>7.0000</td>\n",
       "    </tr>\n",
       "    <tr>\n",
       "      <th>max</th>\n",
       "      <td>9.0000</td>\n",
       "    </tr>\n",
       "  </tbody>\n",
       "</table>\n",
       "</div>"
      ],
      "text/plain": [
       "            label\n",
       "count 42,000.0000\n",
       "mean       4.4566\n",
       "std        2.8877\n",
       "min        0.0000\n",
       "25%        2.0000\n",
       "50%        4.0000\n",
       "75%        7.0000\n",
       "max        9.0000"
      ]
     },
     "execution_count": 7,
     "metadata": {},
     "output_type": "execute_result"
    }
   ],
   "source": [
    "pd.DataFrame(mnist_train[\"label\"].describe(include='all')) # AKA mnist_train.label.describe()"
   ]
  },
  {
   "cell_type": "code",
   "execution_count": 8,
   "metadata": {
    "scrolled": true
   },
   "outputs": [
    {
     "name": "stdout",
     "output_type": "stream",
     "text": [
      "most common label (mode) : 1\n"
     ]
    }
   ],
   "source": [
    "print(\"most common label (mode) :\", mnist_train[\"label\"].mode()[0])"
   ]
  },
  {
   "cell_type": "markdown",
   "metadata": {},
   "source": [
    "<div style=\"text-align: right\"><b>splitting train data and folding, model set-up</b></div>"
   ]
  },
  {
   "cell_type": "code",
   "execution_count": 9,
   "metadata": {
    "scrolled": true
   },
   "outputs": [],
   "source": [
    "X = mnist_train.loc[:, mnist_train.columns != responseVar]\n",
    "y = mnist_train[responseVar]"
   ]
  },
  {
   "cell_type": "code",
   "execution_count": 10,
   "metadata": {
    "scrolled": true
   },
   "outputs": [],
   "source": [
    "# splitting og data once for simplicity\n",
    "X_train, X_test, y_train, y_test = train_test_split(X, y,\n",
    "                                                    train_size=0.7,\n",
    "                                                    test_size=0.3,\n",
    "                                                    shuffle=True,\n",
    "                                                    random_state=RANDOM_SEED)\n",
    "\n",
    "folds = KFold(n_splits = 3, shuffle = True, random_state = RANDOM_SEED)\n",
    "\n",
    "\n",
    "param_grid = { \n",
    "    'n_estimators': [100, 200, 500], # nbr of trees in forest\n",
    "    'max_depth' : [3, 4, 5],\n",
    "}\n",
    "\n",
    "model = RandomForestClassifier(bootstrap=True, max_features = 'sqrt', n_estimators = 10)"
   ]
  },
  {
   "cell_type": "markdown",
   "metadata": {},
   "source": [
    "<div style=\"text-align: right\"><b>model 1 : intial, raw random forest classifier</b></div>"
   ]
  },
  {
   "cell_type": "code",
   "execution_count": 11,
   "metadata": {
    "scrolled": true
   },
   "outputs": [
    {
     "name": "stdout",
     "output_type": "stream",
     "text": [
      "approximate start time :  Sat Oct 17 15:49:54 2020\n"
     ]
    }
   ],
   "source": [
    "print(\"approximate start time : \", time.asctime())\n",
    "start1 = time.perf_counter() # CPU time or real time in seconds since process start or since prev call to perf_counter(). v precise."
   ]
  },
  {
   "cell_type": "code",
   "execution_count": 12,
   "metadata": {
    "scrolled": false
   },
   "outputs": [
    {
     "name": "stdout",
     "output_type": "stream",
     "text": [
      "Fitting 3 folds for each of 27 candidates, totalling 81 fits\n"
     ]
    },
    {
     "name": "stderr",
     "output_type": "stream",
     "text": [
      "[Parallel(n_jobs=1)]: Using backend SequentialBackend with 1 concurrent workers.\n",
      "[Parallel(n_jobs=1)]: Done  81 out of  81 | elapsed: 10.3min finished\n"
     ]
    }
   ],
   "source": [
    "rfc = GridSearchCV(estimator = model, \n",
    "                   param_grid = param_grid, \n",
    "                   scoring= 'r2', \n",
    "                   cv = folds, \n",
    "                   verbose = 1,\n",
    "                   return_train_score=True) \n",
    "\n",
    "model_fit_rfc = rfc.fit(X_train, y_train.values.ravel())  "
   ]
  },
  {
   "cell_type": "code",
   "execution_count": 13,
   "metadata": {
    "scrolled": true
   },
   "outputs": [],
   "source": [
    "stop1 = time.perf_counter()"
   ]
  },
  {
   "cell_type": "code",
   "execution_count": 14,
   "metadata": {
    "scrolled": true
   },
   "outputs": [
    {
     "name": "stdout",
     "output_type": "stream",
     "text": [
      "approximate completion time, initial rfc :  Sat Oct 17 16:00:44 2020\n",
      "time of execution in seconds :  650\n",
      "time of execution in minutes :  10.8\n"
     ]
    }
   ],
   "source": [
    "tm1 = round(stop1 - start1)\n",
    "print(\"approximate completion time, initial rfc : \", time.asctime())\n",
    "print(\"time of execution in seconds : \", tm1)\n",
    "print(\"time of execution in minutes : \", round(tm1/60, 1))\n",
    "table[\"rfc\"][\"r2-train\"] = rfc.score(X,y)"
   ]
  },
  {
   "cell_type": "code",
   "execution_count": 15,
   "metadata": {
    "scrolled": true
   },
   "outputs": [
    {
     "name": "stdout",
     "output_type": "stream",
     "text": [
      "model used :  RandomForestClassifier(bootstrap=True, class_weight=None, criterion='gini',\n",
      "                       max_depth=5, max_features='sqrt', max_leaf_nodes=None,\n",
      "                       min_impurity_decrease=0.0, min_impurity_split=None,\n",
      "                       min_samples_leaf=1, min_samples_split=2,\n",
      "                       min_weight_fraction_leaf=0.0, n_estimators=500,\n",
      "                       n_jobs=None, oob_score=False, random_state=None,\n",
      "                       verbose=0, warm_start=False)\n"
     ]
    }
   ],
   "source": [
    "print(\"model used : \", rfc.best_estimator_)\n",
    "#model_fit_rfc.best_estimator_"
   ]
  },
  {
   "cell_type": "code",
   "execution_count": 16,
   "metadata": {
    "scrolled": true
   },
   "outputs": [
    {
     "data": {
      "text/html": [
       "<div>\n",
       "<style scoped>\n",
       "    .dataframe tbody tr th:only-of-type {\n",
       "        vertical-align: middle;\n",
       "    }\n",
       "\n",
       "    .dataframe tbody tr th {\n",
       "        vertical-align: top;\n",
       "    }\n",
       "\n",
       "    .dataframe thead th {\n",
       "        text-align: right;\n",
       "    }\n",
       "</style>\n",
       "<table border=\"1\" class=\"dataframe\">\n",
       "  <thead>\n",
       "    <tr style=\"text-align: right;\">\n",
       "      <th></th>\n",
       "      <th>ImageId</th>\n",
       "      <th>Label</th>\n",
       "    </tr>\n",
       "  </thead>\n",
       "  <tbody>\n",
       "    <tr>\n",
       "      <th>0</th>\n",
       "      <td>1</td>\n",
       "      <td>2</td>\n",
       "    </tr>\n",
       "    <tr>\n",
       "      <th>1</th>\n",
       "      <td>2</td>\n",
       "      <td>0</td>\n",
       "    </tr>\n",
       "    <tr>\n",
       "      <th>2</th>\n",
       "      <td>3</td>\n",
       "      <td>9</td>\n",
       "    </tr>\n",
       "    <tr>\n",
       "      <th>3</th>\n",
       "      <td>4</td>\n",
       "      <td>7</td>\n",
       "    </tr>\n",
       "    <tr>\n",
       "      <th>4</th>\n",
       "      <td>5</td>\n",
       "      <td>2</td>\n",
       "    </tr>\n",
       "  </tbody>\n",
       "</table>\n",
       "</div>"
      ],
      "text/plain": [
       "   ImageId  Label\n",
       "0        1      2\n",
       "1        2      0\n",
       "2        3      9\n",
       "3        4      7\n",
       "4        5      2"
      ]
     },
     "execution_count": 16,
     "metadata": {},
     "output_type": "execute_result"
    }
   ],
   "source": [
    "mnist_test_pred = rfc.predict(mnist_test)\n",
    "rfc_preds = pd.DataFrame({'ImageId':range(1, 28001), 'Label':mnist_test_pred})\n",
    "rfc_preds.to_csv(\"rfc_preds.csv\", index = False)\n",
    "rfc_preds.head() # test predictions"
   ]
  },
  {
   "cell_type": "markdown",
   "metadata": {},
   "source": [
    "<div style=\"text-align: right\"><b>PCA on the combined train/test sets</b></div>"
   ]
  },
  {
   "cell_type": "code",
   "execution_count": 17,
   "metadata": {
    "scrolled": true
   },
   "outputs": [
    {
     "name": "stdout",
     "output_type": "stream",
     "text": [
      "approximate start time :  Sat Oct 17 16:00:49 2020\n"
     ]
    }
   ],
   "source": [
    "print(\"approximate start time : \", time.asctime())\n",
    "start2 = time.perf_counter()"
   ]
  },
  {
   "cell_type": "code",
   "execution_count": 18,
   "metadata": {},
   "outputs": [
    {
     "data": {
      "text/html": [
       "<div>\n",
       "<style scoped>\n",
       "    .dataframe tbody tr th:only-of-type {\n",
       "        vertical-align: middle;\n",
       "    }\n",
       "\n",
       "    .dataframe tbody tr th {\n",
       "        vertical-align: top;\n",
       "    }\n",
       "\n",
       "    .dataframe thead th {\n",
       "        text-align: right;\n",
       "    }\n",
       "</style>\n",
       "<table border=\"1\" class=\"dataframe\">\n",
       "  <thead>\n",
       "    <tr style=\"text-align: right;\">\n",
       "      <th></th>\n",
       "      <th>pixel774</th>\n",
       "      <th>pixel775</th>\n",
       "      <th>pixel4</th>\n",
       "    </tr>\n",
       "  </thead>\n",
       "  <tbody>\n",
       "    <tr>\n",
       "      <th>count</th>\n",
       "      <td>70,000.0000</td>\n",
       "      <td>70,000.0000</td>\n",
       "      <td>70,000.0000</td>\n",
       "    </tr>\n",
       "    <tr>\n",
       "      <th>mean</th>\n",
       "      <td>0.0008</td>\n",
       "      <td>0.0004</td>\n",
       "      <td>0.0000</td>\n",
       "    </tr>\n",
       "    <tr>\n",
       "      <th>std</th>\n",
       "      <td>0.0235</td>\n",
       "      <td>0.0167</td>\n",
       "      <td>0.0000</td>\n",
       "    </tr>\n",
       "    <tr>\n",
       "      <th>min</th>\n",
       "      <td>0.0000</td>\n",
       "      <td>0.0000</td>\n",
       "      <td>0.0000</td>\n",
       "    </tr>\n",
       "    <tr>\n",
       "      <th>25%</th>\n",
       "      <td>0.0000</td>\n",
       "      <td>0.0000</td>\n",
       "      <td>0.0000</td>\n",
       "    </tr>\n",
       "    <tr>\n",
       "      <th>50%</th>\n",
       "      <td>0.0000</td>\n",
       "      <td>0.0000</td>\n",
       "      <td>0.0000</td>\n",
       "    </tr>\n",
       "    <tr>\n",
       "      <th>75%</th>\n",
       "      <td>0.0000</td>\n",
       "      <td>0.0000</td>\n",
       "      <td>0.0000</td>\n",
       "    </tr>\n",
       "    <tr>\n",
       "      <th>max</th>\n",
       "      <td>1.0000</td>\n",
       "      <td>0.9961</td>\n",
       "      <td>0.0000</td>\n",
       "    </tr>\n",
       "  </tbody>\n",
       "</table>\n",
       "</div>"
      ],
      "text/plain": [
       "         pixel774    pixel775      pixel4\n",
       "count 70,000.0000 70,000.0000 70,000.0000\n",
       "mean       0.0008      0.0004      0.0000\n",
       "std        0.0235      0.0167      0.0000\n",
       "min        0.0000      0.0000      0.0000\n",
       "25%        0.0000      0.0000      0.0000\n",
       "50%        0.0000      0.0000      0.0000\n",
       "75%        0.0000      0.0000      0.0000\n",
       "max        1.0000      0.9961      0.0000"
      ]
     },
     "execution_count": 18,
     "metadata": {},
     "output_type": "execute_result"
    }
   ],
   "source": [
    "scaled_mnist = mnist.apply(lambda x: (x - min(x))/(max(x) - min(x)), axis=1)\n",
    "scaled_mnist.describe()[[\"pixel774\", \"pixel775\", \"pixel4\"]] # response and random explanatory summary stats"
   ]
  },
  {
   "cell_type": "code",
   "execution_count": 19,
   "metadata": {
    "scrolled": true
   },
   "outputs": [],
   "source": [
    "pca = PCA(n_components = 0.95) # goal : to explain 95% explanatory variable variance\n",
    "X_train_pca = pca.fit(mnist)\n",
    "X_test_pca = pca.transform(mnist)"
   ]
  },
  {
   "cell_type": "code",
   "execution_count": 29,
   "metadata": {},
   "outputs": [
    {
     "data": {
      "text/plain": [
       "PCA(copy=True, iterated_power='auto', n_components=0.95, random_state=None,\n",
       "    svd_solver='auto', tol=0.0, whiten=False)"
      ]
     },
     "execution_count": 29,
     "metadata": {},
     "output_type": "execute_result"
    }
   ],
   "source": [
    "pca"
   ]
  },
  {
   "cell_type": "code",
   "execution_count": 33,
   "metadata": {},
   "outputs": [
    {
     "data": {
      "text/plain": [
       "-3563.6735519370327"
      ]
     },
     "execution_count": 33,
     "metadata": {},
     "output_type": "execute_result"
    }
   ],
   "source": [
    "pca.score(X_train)"
   ]
  },
  {
   "cell_type": "code",
   "execution_count": 20,
   "metadata": {
    "scrolled": true
   },
   "outputs": [
    {
     "name": "stdout",
     "output_type": "stream",
     "text": [
      "approximate completion time :  Sat Oct 17 16:01:53 2020\n",
      "time of execution in seconds :  64\n",
      "time of execution in minutes :  1.1\n"
     ]
    }
   ],
   "source": [
    "stop2 = time.perf_counter()\n",
    "tm2 = round(stop2 - start2)\n",
    "print(\"approximate completion time : \", time.asctime())\n",
    "print(\"time of execution in seconds : \", tm2)\n",
    "print(\"time of execution in minutes : \", round(tm2/60, 1))"
   ]
  },
  {
   "cell_type": "code",
   "execution_count": 21,
   "metadata": {
    "scrolled": true
   },
   "outputs": [
    {
     "name": "stdout",
     "output_type": "stream",
     "text": [
      "optimized component count :  154\n"
     ]
    }
   ],
   "source": [
    "print(\"optimized component count : \", pca.n_components_)"
   ]
  },
  {
   "cell_type": "markdown",
   "metadata": {},
   "source": [
    "<div style=\"text-align: right\"><b>model 2 : rf classifier using identified PCA's derived from entire dataset</b></div>"
   ]
  },
  {
   "cell_type": "code",
   "execution_count": 22,
   "metadata": {
    "scrolled": true
   },
   "outputs": [
    {
     "name": "stdout",
     "output_type": "stream",
     "text": [
      "approximate start time :  Sat Oct 17 16:01:53 2020\n"
     ]
    }
   ],
   "source": [
    "print(\"approximate start time : \", time.asctime())\n",
    "start3 = time.perf_counter()"
   ]
  },
  {
   "cell_type": "code",
   "execution_count": 25,
   "metadata": {
    "scrolled": true
   },
   "outputs": [],
   "source": [
    "rfc_with_pca = GridSearchCV(estimator = model, \n",
    "                        param_grid = param_grid, \n",
    "                        scoring= 'r2', \n",
    "                        cv = folds, \n",
    "                        verbose = 1,\n",
    "                        return_train_score=True) \n",
    "\n",
    "#model_fit_with_pca = rfc_with_pca.fit(X_train_pca, y_train.values.ravel())  "
   ]
  },
  {
   "cell_type": "code",
   "execution_count": 27,
   "metadata": {},
   "outputs": [
    {
     "ename": "AttributeError",
     "evalue": "'PCA' object has no attribute 'shape'",
     "output_type": "error",
     "traceback": [
      "\u001b[0;31m---------------------------------------------------------------------------\u001b[0m",
      "\u001b[0;31mAttributeError\u001b[0m                            Traceback (most recent call last)",
      "\u001b[0;32m<ipython-input-27-1684b49581ff>\u001b[0m in \u001b[0;36m<module>\u001b[0;34m\u001b[0m\n\u001b[0;32m----> 1\u001b[0;31m \u001b[0mX_train_pca\u001b[0m\u001b[0;34m.\u001b[0m\u001b[0mshape\u001b[0m\u001b[0;34m\u001b[0m\u001b[0;34m\u001b[0m\u001b[0m\n\u001b[0m",
      "\u001b[0;31mAttributeError\u001b[0m: 'PCA' object has no attribute 'shape'"
     ]
    }
   ],
   "source": [
    "X_train_pca."
   ]
  },
  {
   "cell_type": "code",
   "execution_count": 28,
   "metadata": {},
   "outputs": [
    {
     "data": {
      "text/plain": [
       "8271     3\n",
       "36875    7\n",
       "23990    3\n",
       "23455    4\n",
       "23433    5\n",
       "        ..\n",
       "38705    3\n",
       "13544    4\n",
       "24384    9\n",
       "32148    6\n",
       "27276    8\n",
       "Name: label, Length: 29399, dtype: int64"
      ]
     },
     "execution_count": 28,
     "metadata": {},
     "output_type": "execute_result"
    }
   ],
   "source": [
    "y_train"
   ]
  },
  {
   "cell_type": "code",
   "execution_count": 26,
   "metadata": {},
   "outputs": [
    {
     "name": "stdout",
     "output_type": "stream",
     "text": [
      "Help on method fit in module sklearn.model_selection._search:\n",
      "\n",
      "fit(X, y=None, groups=None, **fit_params) method of sklearn.model_selection._search.GridSearchCV instance\n",
      "    Run fit with all sets of parameters.\n",
      "    \n",
      "    Parameters\n",
      "    ----------\n",
      "    \n",
      "    X : array-like, shape = [n_samples, n_features]\n",
      "        Training vector, where n_samples is the number of samples and\n",
      "        n_features is the number of features.\n",
      "    \n",
      "    y : array-like, shape = [n_samples] or [n_samples, n_output], optional\n",
      "        Target relative to X for classification or regression;\n",
      "        None for unsupervised learning.\n",
      "    \n",
      "    groups : array-like, with shape (n_samples,), optional\n",
      "        Group labels for the samples used while splitting the dataset into\n",
      "        train/test set. Only used in conjunction with a \"Group\" `cv`\n",
      "        instance (e.g., `GroupKFold`).\n",
      "    \n",
      "    **fit_params : dict of string -> object\n",
      "        Parameters passed to the ``fit`` method of the estimator\n",
      "\n"
     ]
    }
   ],
   "source": [
    "help(rfc_with_pca.fit)"
   ]
  },
  {
   "cell_type": "code",
   "execution_count": null,
   "metadata": {
    "scrolled": true
   },
   "outputs": [],
   "source": [
    "stop3 = time.perf_counter()\n",
    "tm3 = round(stop3 - start3)\n",
    "print(\"approximate completion time : \", time.asctime())\n",
    "print(\"time of execution in seconds : \", tm3)\n",
    "print(\"time of execution in minutes : \", round(tm3/60, 1))\n",
    "table[\"rfc_with_pca\"][\"r2-train\"] = rfc_with_pca.score(X_pca, y)"
   ]
  },
  {
   "cell_type": "code",
   "execution_count": null,
   "metadata": {
    "scrolled": true
   },
   "outputs": [],
   "source": [
    "print(\"optimized model used : \", rfc_with_pca.best_estimator_)\n",
    "#print(\"optimized model used : \", model_fit_with_pca.best_estimator_)"
   ]
  },
  {
   "cell_type": "code",
   "execution_count": null,
   "metadata": {
    "scrolled": true
   },
   "outputs": [],
   "source": [
    "mnist_test_pred_with_pca = rfc_with_pca.predict(mnist_test)\n",
    "rfc_with_pca_preds = pd.DataFrame({'ImageId':range(1,28001),'Label': mnist_test_pred_with_pca})\n",
    "rfc_with_pcs_preds.to_csv(\"rfc_preds.csv\", index = False)\n",
    "rfc_with_pca_preds.head() # test predictions"
   ]
  },
  {
   "cell_type": "markdown",
   "metadata": {},
   "source": [
    "<div style=\"text-align: right\"><b>PCA on train set only</b></div>"
   ]
  },
  {
   "cell_type": "code",
   "execution_count": null,
   "metadata": {},
   "outputs": [],
   "source": [
    "print(\"approximate start time : \", time.asctime())\n",
    "start4 = time.perf_counter()"
   ]
  },
  {
   "cell_type": "code",
   "execution_count": null,
   "metadata": {},
   "outputs": [],
   "source": [
    "pca_train = PCA(n_components = 0.95) # goal : to explain 95% explanatory variable variance\n",
    "X_train_adj = pca_train.fit(mnist_train)\n",
    "X_test_adj = pca_train.transform(mnist_train)"
   ]
  },
  {
   "cell_type": "code",
   "execution_count": null,
   "metadata": {},
   "outputs": [],
   "source": [
    "stop4 = time.perf_counter()\n",
    "tm4 = round(stop4 - start4)\n",
    "print(\"approximate completion time : \", time.asctime())\n",
    "print(\"time of execution in seconds : \", tm4)\n",
    "print(\"time of execution in minutes : \", round(tm4/60, 1))"
   ]
  },
  {
   "cell_type": "code",
   "execution_count": null,
   "metadata": {
    "scrolled": true
   },
   "outputs": [],
   "source": [
    "print(\"optimized component count : \", pca_train.n_components_)"
   ]
  },
  {
   "cell_type": "markdown",
   "metadata": {},
   "source": [
    "<div style=\"text-align: right\"><b>model 3 : rf classifier using adjusted PCA : without any response variable data</b></div>"
   ]
  },
  {
   "cell_type": "code",
   "execution_count": null,
   "metadata": {
    "scrolled": true
   },
   "outputs": [],
   "source": [
    "print(\"approximate start time : \", time.asctime())\n",
    "start5 = time.perf_counter()"
   ]
  },
  {
   "cell_type": "code",
   "execution_count": null,
   "metadata": {
    "scrolled": true
   },
   "outputs": [],
   "source": [
    "adj_rfc_with_pca = GridSearchCV(estimator = model, \n",
    "                        param_grid = param_grid, \n",
    "                        scoring= 'r2', \n",
    "                        cv = folds, \n",
    "                        verbose = 1,\n",
    "                        return_train_score=True) \n",
    "\n",
    "model_fit_adj = adj_rfc_with_pca.fit(X_train_adj, y_train.values.ravel())  "
   ]
  },
  {
   "cell_type": "code",
   "execution_count": null,
   "metadata": {
    "scrolled": true
   },
   "outputs": [],
   "source": [
    "stop5 = time.perf_counter()\n",
    "tm5 = round(stop5 - start5)\n",
    "print(\"approximate completion time : \", time.asctime())\n",
    "print(\"time of execution in seconds : \", tm5)\n",
    "print(\"time of execution in minutes : \", round(tm5/60, 1))\n",
    "table[\"adj_rfc_with_pca\"][\"r2-train\"] = adj_rfc_with_pca.score(X_train_adj, y_train) #?"
   ]
  },
  {
   "cell_type": "code",
   "execution_count": null,
   "metadata": {
    "scrolled": true
   },
   "outputs": [],
   "source": [
    "print(\"model used : \", adj_rfc_with_pca.best_estimator_)"
   ]
  },
  {
   "cell_type": "code",
   "execution_count": null,
   "metadata": {
    "scrolled": true
   },
   "outputs": [],
   "source": [
    "mnist_test_pred_adj = adj_rfc_with_pca.predict(mnist_test)\n",
    "adj_rfc_preds = pd.DataFrame({'ImageId':range(1, 28001), 'Label':mnist_test_pred_adj})\n",
    "adj_rfc_preds.to_csv(\"rfc_preds.csv\", index = False)\n",
    "adj_rfc_preds.head() # test predictions"
   ]
  },
  {
   "cell_type": "code",
   "execution_count": null,
   "metadata": {
    "scrolled": true
   },
   "outputs": [],
   "source": []
  },
  {
   "cell_type": "code",
   "execution_count": null,
   "metadata": {
    "scrolled": true
   },
   "outputs": [],
   "source": [
    "table"
   ]
  }
 ],
 "metadata": {
  "kernelspec": {
   "display_name": "Python 3",
   "language": "python",
   "name": "python3"
  },
  "language_info": {
   "codemirror_mode": {
    "name": "ipython",
    "version": 3
   },
   "file_extension": ".py",
   "mimetype": "text/x-python",
   "name": "python",
   "nbconvert_exporter": "python",
   "pygments_lexer": "ipython3",
   "version": "3.7.4"
  }
 },
 "nbformat": 4,
 "nbformat_minor": 2
}
