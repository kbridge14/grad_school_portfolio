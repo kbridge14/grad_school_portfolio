{
 "cells": [
  {
   "cell_type": "code",
   "execution_count": 1,
   "metadata": {},
   "outputs": [],
   "source": [
    "class Pet:\n",
    "    \n",
    "    def __init__(self, name, age):\n",
    "        self.name = name\n",
    "        self.age = age\n",
    "        \n",
    "    def __str__(self):\n",
    "        return (self.name + \" is \" + str(self.age) + \" year(s) old.\" )\n",
    "\n",
    "class Dog(Pet):\n",
    "    \n",
    "    def walking(self):\n",
    "        print(self.name, \"is walking.\")\n",
    "\n",
    "    def sitting(self):\n",
    "        print(self.name, \"is sitting.\")"
   ]
  },
  {
   "cell_type": "code",
   "execution_count": 2,
   "metadata": {},
   "outputs": [],
   "source": [
    "class Labrador(Dog):\n",
    "    \n",
    "    def __init__(self, name, age, color):\n",
    "        super().__init__(name, age)\n",
    "        self.color = color\n",
    "    \n",
    "    def __str__(self):\n",
    "        return (self.name + \" is a \" + str(self.color) + \"-colored \" + str(self.age) + \"-year(s) old labrador.\")\n"
   ]
  },
  {
   "cell_type": "code",
   "execution_count": 13,
   "metadata": {},
   "outputs": [
    {
     "name": "stdout",
     "output_type": "stream",
     "text": [
      "name is a chocolate-colored 7-year(s) old labrador.\n"
     ]
    }
   ],
   "source": [
    "l = Labrador(\"name\", 7, \"chocolate\")\n",
    "print(l)"
   ]
  },
  {
   "cell_type": "code",
   "execution_count": 3,
   "metadata": {},
   "outputs": [],
   "source": [
    "p = Pet(\"pet_name\", 1)"
   ]
  },
  {
   "cell_type": "code",
   "execution_count": 4,
   "metadata": {},
   "outputs": [],
   "source": [
    "d = Dog(\"dog_name\", 2)"
   ]
  },
  {
   "cell_type": "code",
   "execution_count": 5,
   "metadata": {},
   "outputs": [],
   "source": [
    "l = Labrador(\"name\", 3, \"chocolate\")"
   ]
  },
  {
   "cell_type": "code",
   "execution_count": 6,
   "metadata": {},
   "outputs": [],
   "source": [
    "class Pet_2:\n",
    "    \n",
    "    def __init__(self, name, age):\n",
    "        self.name = name\n",
    "        self.age = age\n",
    "        \n",
    "    def __str__(self):\n",
    "        return (self.name + \" is \" + str(self.age) + \" year(s) old.\" )\n",
    "\n",
    "class Dog_2(Pet_2):\n",
    "    \n",
    "    def walking(self):\n",
    "        print(self.name, \"is walking.\")\n",
    "\n",
    "    def sitting(self):\n",
    "        print(self.name, \"is sitting.\")"
   ]
  },
  {
   "cell_type": "code",
   "execution_count": 7,
   "metadata": {},
   "outputs": [],
   "source": [
    "class Labrador_2(Dog_2):\n",
    "    \n",
    "    def __init__(self, color):\n",
    "        self.color = color\n",
    "    \n",
    "    def __str__(self):\n",
    "        return (self.name + \" is a \" + str(self.color) + \"-colored \" + str(self.age) + \"-year(s) old labrador.\")\n"
   ]
  },
  {
   "cell_type": "code",
   "execution_count": 8,
   "metadata": {},
   "outputs": [],
   "source": [
    "p_2 = Pet_2(\"pet_2_name\", 4)"
   ]
  },
  {
   "cell_type": "code",
   "execution_count": 9,
   "metadata": {},
   "outputs": [],
   "source": [
    "d_2 = Dog_2(\"dog_2_name\", 5)"
   ]
  },
  {
   "cell_type": "code",
   "execution_count": 10,
   "metadata": {},
   "outputs": [
    {
     "ename": "TypeError",
     "evalue": "__init__() takes 2 positional arguments but 4 were given",
     "output_type": "error",
     "traceback": [
      "\u001b[0;31m---------------------------------------------------------------------------\u001b[0m",
      "\u001b[0;31mTypeError\u001b[0m                                 Traceback (most recent call last)",
      "\u001b[0;32m<ipython-input-10-ffd7bb39c33d>\u001b[0m in \u001b[0;36m<module>\u001b[0;34m\u001b[0m\n\u001b[0;32m----> 1\u001b[0;31m \u001b[0ml_2\u001b[0m \u001b[0;34m=\u001b[0m \u001b[0mLabrador_2\u001b[0m\u001b[0;34m(\u001b[0m\u001b[0;34m\"name_2\"\u001b[0m\u001b[0;34m,\u001b[0m \u001b[0;36m6\u001b[0m\u001b[0;34m,\u001b[0m \u001b[0;34m\"yellow\"\u001b[0m\u001b[0;34m)\u001b[0m\u001b[0;34m\u001b[0m\u001b[0;34m\u001b[0m\u001b[0m\n\u001b[0m",
      "\u001b[0;31mTypeError\u001b[0m: __init__() takes 2 positional arguments but 4 were given"
     ]
    }
   ],
   "source": [
    "l_2 = Labrador_2(\"name_2\", 6, \"yellow\")"
   ]
  },
  {
   "cell_type": "code",
   "execution_count": 11,
   "metadata": {},
   "outputs": [],
   "source": [
    "class Labrador_3(Dog_2):\n",
    "    \n",
    "    def __init__(self, name, age, color):\n",
    "        self.name = name\n",
    "        self.age = age\n",
    "        self.color = color\n",
    "    \n",
    "    def __str__(self):\n",
    "        return (self.name + \" is a \" + str(self.color) + \"-colored \" + str(self.age) + \"-year(s) old labrador.\")\n"
   ]
  },
  {
   "cell_type": "code",
   "execution_count": 12,
   "metadata": {},
   "outputs": [
    {
     "name": "stdout",
     "output_type": "stream",
     "text": [
      "name_3 is a white-colored 7-year(s) old labrador.\n"
     ]
    }
   ],
   "source": [
    "l_3 = Labrador_3(\"name_3\", 7, \"white\")\n",
    "print(l_3)"
   ]
  }
 ],
 "metadata": {
  "kernelspec": {
   "display_name": "Python 3",
   "language": "python",
   "name": "python3"
  },
  "language_info": {
   "codemirror_mode": {
    "name": "ipython",
    "version": 3
   },
   "file_extension": ".py",
   "mimetype": "text/x-python",
   "name": "python",
   "nbconvert_exporter": "python",
   "pygments_lexer": "ipython3",
   "version": "3.7.4"
  }
 },
 "nbformat": 4,
 "nbformat_minor": 2
}
