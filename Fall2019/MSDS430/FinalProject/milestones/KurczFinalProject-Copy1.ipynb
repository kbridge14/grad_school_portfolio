{
 "cells": [
  {
   "cell_type": "markdown",
   "metadata": {},
   "source": [
    "## MSDS 430 Final Project\n",
    "### by Kerry Kurcz\n",
    "### December 8, 2019"
   ]
  },
  {
   "cell_type": "markdown",
   "metadata": {},
   "source": [
    "The following notebook analyzes the behavior of U.S. Wildfires between 1992 and 2015.\n",
    "\n",
    "1. The data is a sqlite file so there's some cleaning up there.\n",
    "2. Then there is some exploratory analysis using pandas, numpy, seaborn, and matplotlib.\n",
    "3. I will also attempt to regionalize the fires and then predict whether one region can predict fires in another region the following year.\n",
    "4. Finally, the conclusions. Where are fires most prevalent? Can fires in one year in one region predict those in another region the next year? Is there some pattern country-wide?"
   ]
  },
  {
   "cell_type": "markdown",
   "metadata": {},
   "source": [
    "## U.S. Wildfires\n",
    "Source: https://www.kaggle.com/rtatman/188-million-us-wildfires/download#FPA_FOD_20170508.sqlite\n",
    "\n",
    "Source info: https://www.kaggle.com/rtatman/188-million-us-wildfires/\n",
    "\n",
    "Dates: 1992 - 2015\n",
    "\n",
    "Region Source: https://www.worldatlas.com/articles/the-regions-of-the-united-states.html"
   ]
  },
  {
   "cell_type": "code",
   "execution_count": 1,
   "metadata": {},
   "outputs": [],
   "source": [
    "import pandas\n",
    "import numpy as np\n",
    "import matplotlib.pyplot as plt\n",
    "import sqlite3\n",
    "import seaborn as sns\n",
    "import pandas_profiling\n",
    "import stats\n",
    "conn = sqlite3.connect(\"../data/FPA_FOD_20170508.sqlite\")\n",
    "cur = conn.cursor()\n",
    "\n",
    "plt.figure.max_open_warning = False"
   ]
  },
  {
   "cell_type": "markdown",
   "metadata": {},
   "source": [
    "## Getting to understand the data\n",
    "While Kaggle's documentation goes into detail about what's inside the SQLite file, I like to see for myself what tables are inside the instance I have in my memory, just to confirm they match. They do."
   ]
  },
  {
   "cell_type": "code",
   "execution_count": 2,
   "metadata": {},
   "outputs": [
    {
     "name": "stdout",
     "output_type": "stream",
     "text": [
      "['ElementaryGeometries', 'Fires', 'KNN', 'NWCG_UnitIDActive_20170109', 'SpatialIndex', 'geometry_columns', 'geometry_columns_auth', 'geometry_columns_field_infos', 'geometry_columns_statistics', 'geometry_columns_time', 'idx_Fires_Shape', 'idx_Fires_Shape_node', 'idx_Fires_Shape_parent', 'idx_Fires_Shape_rowid', 'spatial_ref_sys', 'spatial_ref_sys_aux', 'spatialite_history', 'sql_statements_log', 'sqlite_sequence', 'views_geometry_columns', 'views_geometry_columns_auth', 'views_geometry_columns_field_infos', 'views_geometry_columns_statistics', 'virts_geometry_columns', 'virts_geometry_columns_auth', 'virts_geometry_columns_field_infos', 'virts_geometry_columns_statistics']\n"
     ]
    }
   ],
   "source": [
    "cur.execute(\"SELECT name FROM sqlite_master WHERE type='table';\")\n",
    "output = cur.fetchall()\n",
    "tables = [table[0] for table in output]\n",
    "tables.sort() # sorting alphabetically for readability\n",
    "print(tables)"
   ]
  },
  {
   "cell_type": "markdown",
   "metadata": {},
   "source": [
    "This project will focus only on the Fires table. "
   ]
  },
  {
   "cell_type": "markdown",
   "metadata": {},
   "source": [
    "## Getting column information from sqlite file itself, to later compare to pandas datafrae"
   ]
  },
  {
   "cell_type": "code",
   "execution_count": 3,
   "metadata": {},
   "outputs": [
    {
     "name": "stdout",
     "output_type": "stream",
     "text": [
      "['OBJECTID', 'FOD_ID', 'FPA_ID', 'SOURCE_SYSTEM_TYPE', 'SOURCE_SYSTEM', 'NWCG_REPORTING_AGENCY', 'NWCG_REPORTING_UNIT_ID', 'NWCG_REPORTING_UNIT_NAME', 'SOURCE_REPORTING_UNIT', 'SOURCE_REPORTING_UNIT_NAME', 'LOCAL_FIRE_REPORT_ID', 'LOCAL_INCIDENT_ID', 'FIRE_CODE', 'FIRE_NAME', 'ICS_209_INCIDENT_NUMBER', 'ICS_209_NAME', 'MTBS_ID', 'MTBS_FIRE_NAME', 'COMPLEX_NAME', 'FIRE_YEAR', 'DISCOVERY_DATE', 'DISCOVERY_DOY', 'DISCOVERY_TIME', 'STAT_CAUSE_CODE', 'STAT_CAUSE_DESCR', 'CONT_DATE', 'CONT_DOY', 'CONT_TIME', 'FIRE_SIZE', 'FIRE_SIZE_CLASS', 'LATITUDE', 'LONGITUDE', 'OWNER_CODE', 'OWNER_DESCR', 'STATE', 'COUNTY', 'FIPS_CODE', 'FIPS_NAME', 'Shape'] \n",
      "\n",
      "--> column count sqlite file :  39\n"
     ]
    }
   ],
   "source": [
    "query = cur.execute(\"SELECT * FROM fires;\")\n",
    "# this will point cur.description to the table fires\n",
    "\n",
    "names = [description[0] for description in cur.description]\n",
    "num_cols_fires = len(names)\n",
    "# this I will not sort because the order should coordinate with data\n",
    "\n",
    "print(names, \"\\n\\n--> column count sqlite file : \", num_cols_fires)"
   ]
  },
  {
   "cell_type": "markdown",
   "metadata": {},
   "source": [
    "## SQLite Rowcount\n",
    "Before converting into pandas Dataframe, want to know the number of rows in SQLite file to assert conversion was successful."
   ]
  },
  {
   "cell_type": "code",
   "execution_count": 4,
   "metadata": {},
   "outputs": [
    {
     "name": "stdout",
     "output_type": "stream",
     "text": [
      "row count sqlite file :  1880465\n"
     ]
    }
   ],
   "source": [
    "cur.execute(\"SELECT COUNT(*) FROM fires;\")\n",
    "num_rows_fires = cur.fetchone()[0]\n",
    "print(\"row count sqlite file : \", num_rows_fires)\n",
    "# later we will confirm this is the same as in the dataframe"
   ]
  },
  {
   "cell_type": "code",
   "execution_count": 5,
   "metadata": {},
   "outputs": [],
   "source": [
    "sqlite_dim = (num_rows_fires, num_cols_fires)\n",
    "# storing sqlite dimension information for convenience"
   ]
  },
  {
   "cell_type": "markdown",
   "metadata": {},
   "source": [
    "## Creating the dataframe from SQLite file\n",
    "According to Kaggle's documentation, FOD_ID is the global unique identifier. This will become the pandas index column."
   ]
  },
  {
   "cell_type": "code",
   "execution_count": 6,
   "metadata": {},
   "outputs": [],
   "source": [
    "# the step which stores fires table in pandas dataframe, df (takes a few minutes due to large file size)\n",
    "df = pandas.read_sql(\"SELECT * FROM fires;\", conn, index_col=\"FOD_ID\") "
   ]
  },
  {
   "cell_type": "code",
   "execution_count": 7,
   "metadata": {},
   "outputs": [
    {
     "data": {
      "text/plain": [
       "True"
      ]
     },
     "execution_count": 7,
     "metadata": {},
     "output_type": "execute_result"
    }
   ],
   "source": [
    "# verifying the length of the dataframe loaded is the same as that in the actual table, sqllite file\n",
    "len(df) == num_rows_fires"
   ]
  },
  {
   "cell_type": "markdown",
   "metadata": {},
   "source": [
    "Number of rows in both elements the same. I will now proceed further."
   ]
  },
  {
   "cell_type": "markdown",
   "metadata": {},
   "source": [
    "# First 5 elements"
   ]
  },
  {
   "cell_type": "code",
   "execution_count": 8,
   "metadata": {},
   "outputs": [
    {
     "data": {
      "text/html": [
       "<div>\n",
       "<style scoped>\n",
       "    .dataframe tbody tr th:only-of-type {\n",
       "        vertical-align: middle;\n",
       "    }\n",
       "\n",
       "    .dataframe tbody tr th {\n",
       "        vertical-align: top;\n",
       "    }\n",
       "\n",
       "    .dataframe thead th {\n",
       "        text-align: right;\n",
       "    }\n",
       "</style>\n",
       "<table border=\"1\" class=\"dataframe\">\n",
       "  <thead>\n",
       "    <tr style=\"text-align: right;\">\n",
       "      <th></th>\n",
       "      <th>OBJECTID</th>\n",
       "      <th>FPA_ID</th>\n",
       "      <th>SOURCE_SYSTEM_TYPE</th>\n",
       "      <th>SOURCE_SYSTEM</th>\n",
       "      <th>NWCG_REPORTING_AGENCY</th>\n",
       "      <th>NWCG_REPORTING_UNIT_ID</th>\n",
       "      <th>NWCG_REPORTING_UNIT_NAME</th>\n",
       "      <th>SOURCE_REPORTING_UNIT</th>\n",
       "      <th>SOURCE_REPORTING_UNIT_NAME</th>\n",
       "      <th>LOCAL_FIRE_REPORT_ID</th>\n",
       "      <th>...</th>\n",
       "      <th>FIRE_SIZE_CLASS</th>\n",
       "      <th>LATITUDE</th>\n",
       "      <th>LONGITUDE</th>\n",
       "      <th>OWNER_CODE</th>\n",
       "      <th>OWNER_DESCR</th>\n",
       "      <th>STATE</th>\n",
       "      <th>COUNTY</th>\n",
       "      <th>FIPS_CODE</th>\n",
       "      <th>FIPS_NAME</th>\n",
       "      <th>Shape</th>\n",
       "    </tr>\n",
       "    <tr>\n",
       "      <th>FOD_ID</th>\n",
       "      <th></th>\n",
       "      <th></th>\n",
       "      <th></th>\n",
       "      <th></th>\n",
       "      <th></th>\n",
       "      <th></th>\n",
       "      <th></th>\n",
       "      <th></th>\n",
       "      <th></th>\n",
       "      <th></th>\n",
       "      <th></th>\n",
       "      <th></th>\n",
       "      <th></th>\n",
       "      <th></th>\n",
       "      <th></th>\n",
       "      <th></th>\n",
       "      <th></th>\n",
       "      <th></th>\n",
       "      <th></th>\n",
       "      <th></th>\n",
       "      <th></th>\n",
       "    </tr>\n",
       "  </thead>\n",
       "  <tbody>\n",
       "    <tr>\n",
       "      <td>1</td>\n",
       "      <td>1</td>\n",
       "      <td>FS-1418826</td>\n",
       "      <td>FED</td>\n",
       "      <td>FS-FIRESTAT</td>\n",
       "      <td>FS</td>\n",
       "      <td>USCAPNF</td>\n",
       "      <td>Plumas National Forest</td>\n",
       "      <td>0511</td>\n",
       "      <td>Plumas National Forest</td>\n",
       "      <td>1</td>\n",
       "      <td>...</td>\n",
       "      <td>A</td>\n",
       "      <td>40.036944</td>\n",
       "      <td>-121.005833</td>\n",
       "      <td>5.0</td>\n",
       "      <td>USFS</td>\n",
       "      <td>CA</td>\n",
       "      <td>63</td>\n",
       "      <td>063</td>\n",
       "      <td>Plumas</td>\n",
       "      <td>b'\\x00\\x01\\xad\\x10\\x00\\x00\\xe8d\\xc2\\x92_@^\\xc0...</td>\n",
       "    </tr>\n",
       "    <tr>\n",
       "      <td>2</td>\n",
       "      <td>2</td>\n",
       "      <td>FS-1418827</td>\n",
       "      <td>FED</td>\n",
       "      <td>FS-FIRESTAT</td>\n",
       "      <td>FS</td>\n",
       "      <td>USCAENF</td>\n",
       "      <td>Eldorado National Forest</td>\n",
       "      <td>0503</td>\n",
       "      <td>Eldorado National Forest</td>\n",
       "      <td>13</td>\n",
       "      <td>...</td>\n",
       "      <td>A</td>\n",
       "      <td>38.933056</td>\n",
       "      <td>-120.404444</td>\n",
       "      <td>5.0</td>\n",
       "      <td>USFS</td>\n",
       "      <td>CA</td>\n",
       "      <td>61</td>\n",
       "      <td>061</td>\n",
       "      <td>Placer</td>\n",
       "      <td>b'\\x00\\x01\\xad\\x10\\x00\\x00T\\xb6\\xeej\\xe2\\x19^\\...</td>\n",
       "    </tr>\n",
       "    <tr>\n",
       "      <td>3</td>\n",
       "      <td>3</td>\n",
       "      <td>FS-1418835</td>\n",
       "      <td>FED</td>\n",
       "      <td>FS-FIRESTAT</td>\n",
       "      <td>FS</td>\n",
       "      <td>USCAENF</td>\n",
       "      <td>Eldorado National Forest</td>\n",
       "      <td>0503</td>\n",
       "      <td>Eldorado National Forest</td>\n",
       "      <td>27</td>\n",
       "      <td>...</td>\n",
       "      <td>A</td>\n",
       "      <td>38.984167</td>\n",
       "      <td>-120.735556</td>\n",
       "      <td>13.0</td>\n",
       "      <td>STATE OR PRIVATE</td>\n",
       "      <td>CA</td>\n",
       "      <td>17</td>\n",
       "      <td>017</td>\n",
       "      <td>El Dorado</td>\n",
       "      <td>b'\\x00\\x01\\xad\\x10\\x00\\x00\\xd0\\xa5\\xa0W\\x13/^\\...</td>\n",
       "    </tr>\n",
       "    <tr>\n",
       "      <td>4</td>\n",
       "      <td>4</td>\n",
       "      <td>FS-1418845</td>\n",
       "      <td>FED</td>\n",
       "      <td>FS-FIRESTAT</td>\n",
       "      <td>FS</td>\n",
       "      <td>USCAENF</td>\n",
       "      <td>Eldorado National Forest</td>\n",
       "      <td>0503</td>\n",
       "      <td>Eldorado National Forest</td>\n",
       "      <td>43</td>\n",
       "      <td>...</td>\n",
       "      <td>A</td>\n",
       "      <td>38.559167</td>\n",
       "      <td>-119.913333</td>\n",
       "      <td>5.0</td>\n",
       "      <td>USFS</td>\n",
       "      <td>CA</td>\n",
       "      <td>3</td>\n",
       "      <td>003</td>\n",
       "      <td>Alpine</td>\n",
       "      <td>b'\\x00\\x01\\xad\\x10\\x00\\x00\\x94\\xac\\xa3\\rt\\xfa]...</td>\n",
       "    </tr>\n",
       "    <tr>\n",
       "      <td>5</td>\n",
       "      <td>5</td>\n",
       "      <td>FS-1418847</td>\n",
       "      <td>FED</td>\n",
       "      <td>FS-FIRESTAT</td>\n",
       "      <td>FS</td>\n",
       "      <td>USCAENF</td>\n",
       "      <td>Eldorado National Forest</td>\n",
       "      <td>0503</td>\n",
       "      <td>Eldorado National Forest</td>\n",
       "      <td>44</td>\n",
       "      <td>...</td>\n",
       "      <td>A</td>\n",
       "      <td>38.559167</td>\n",
       "      <td>-119.933056</td>\n",
       "      <td>5.0</td>\n",
       "      <td>USFS</td>\n",
       "      <td>CA</td>\n",
       "      <td>3</td>\n",
       "      <td>003</td>\n",
       "      <td>Alpine</td>\n",
       "      <td>b'\\x00\\x01\\xad\\x10\\x00\\x00@\\xe3\\xaa.\\xb7\\xfb]\\...</td>\n",
       "    </tr>\n",
       "  </tbody>\n",
       "</table>\n",
       "<p>5 rows × 38 columns</p>\n",
       "</div>"
      ],
      "text/plain": [
       "        OBJECTID      FPA_ID SOURCE_SYSTEM_TYPE SOURCE_SYSTEM  \\\n",
       "FOD_ID                                                          \n",
       "1              1  FS-1418826                FED   FS-FIRESTAT   \n",
       "2              2  FS-1418827                FED   FS-FIRESTAT   \n",
       "3              3  FS-1418835                FED   FS-FIRESTAT   \n",
       "4              4  FS-1418845                FED   FS-FIRESTAT   \n",
       "5              5  FS-1418847                FED   FS-FIRESTAT   \n",
       "\n",
       "       NWCG_REPORTING_AGENCY NWCG_REPORTING_UNIT_ID  NWCG_REPORTING_UNIT_NAME  \\\n",
       "FOD_ID                                                                          \n",
       "1                         FS                USCAPNF    Plumas National Forest   \n",
       "2                         FS                USCAENF  Eldorado National Forest   \n",
       "3                         FS                USCAENF  Eldorado National Forest   \n",
       "4                         FS                USCAENF  Eldorado National Forest   \n",
       "5                         FS                USCAENF  Eldorado National Forest   \n",
       "\n",
       "       SOURCE_REPORTING_UNIT SOURCE_REPORTING_UNIT_NAME LOCAL_FIRE_REPORT_ID  \\\n",
       "FOD_ID                                                                         \n",
       "1                       0511     Plumas National Forest                    1   \n",
       "2                       0503   Eldorado National Forest                   13   \n",
       "3                       0503   Eldorado National Forest                   27   \n",
       "4                       0503   Eldorado National Forest                   43   \n",
       "5                       0503   Eldorado National Forest                   44   \n",
       "\n",
       "        ... FIRE_SIZE_CLASS   LATITUDE   LONGITUDE OWNER_CODE  \\\n",
       "FOD_ID  ...                                                     \n",
       "1       ...               A  40.036944 -121.005833        5.0   \n",
       "2       ...               A  38.933056 -120.404444        5.0   \n",
       "3       ...               A  38.984167 -120.735556       13.0   \n",
       "4       ...               A  38.559167 -119.913333        5.0   \n",
       "5       ...               A  38.559167 -119.933056        5.0   \n",
       "\n",
       "             OWNER_DESCR STATE COUNTY FIPS_CODE  FIPS_NAME  \\\n",
       "FOD_ID                                                       \n",
       "1                   USFS    CA     63       063     Plumas   \n",
       "2                   USFS    CA     61       061     Placer   \n",
       "3       STATE OR PRIVATE    CA     17       017  El Dorado   \n",
       "4                   USFS    CA      3       003     Alpine   \n",
       "5                   USFS    CA      3       003     Alpine   \n",
       "\n",
       "                                                    Shape  \n",
       "FOD_ID                                                     \n",
       "1       b'\\x00\\x01\\xad\\x10\\x00\\x00\\xe8d\\xc2\\x92_@^\\xc0...  \n",
       "2       b'\\x00\\x01\\xad\\x10\\x00\\x00T\\xb6\\xeej\\xe2\\x19^\\...  \n",
       "3       b'\\x00\\x01\\xad\\x10\\x00\\x00\\xd0\\xa5\\xa0W\\x13/^\\...  \n",
       "4       b'\\x00\\x01\\xad\\x10\\x00\\x00\\x94\\xac\\xa3\\rt\\xfa]...  \n",
       "5       b'\\x00\\x01\\xad\\x10\\x00\\x00@\\xe3\\xaa.\\xb7\\xfb]\\...  \n",
       "\n",
       "[5 rows x 38 columns]"
      ]
     },
     "execution_count": 8,
     "metadata": {},
     "output_type": "execute_result"
    }
   ],
   "source": [
    "df.head(5)\n",
    "# first 5 elements"
   ]
  },
  {
   "cell_type": "markdown",
   "metadata": {},
   "source": [
    "# Last 5 elements"
   ]
  },
  {
   "cell_type": "code",
   "execution_count": 9,
   "metadata": {},
   "outputs": [
    {
     "data": {
      "text/html": [
       "<div>\n",
       "<style scoped>\n",
       "    .dataframe tbody tr th:only-of-type {\n",
       "        vertical-align: middle;\n",
       "    }\n",
       "\n",
       "    .dataframe tbody tr th {\n",
       "        vertical-align: top;\n",
       "    }\n",
       "\n",
       "    .dataframe thead th {\n",
       "        text-align: right;\n",
       "    }\n",
       "</style>\n",
       "<table border=\"1\" class=\"dataframe\">\n",
       "  <thead>\n",
       "    <tr style=\"text-align: right;\">\n",
       "      <th></th>\n",
       "      <th>OBJECTID</th>\n",
       "      <th>FPA_ID</th>\n",
       "      <th>SOURCE_SYSTEM_TYPE</th>\n",
       "      <th>SOURCE_SYSTEM</th>\n",
       "      <th>NWCG_REPORTING_AGENCY</th>\n",
       "      <th>NWCG_REPORTING_UNIT_ID</th>\n",
       "      <th>NWCG_REPORTING_UNIT_NAME</th>\n",
       "      <th>SOURCE_REPORTING_UNIT</th>\n",
       "      <th>SOURCE_REPORTING_UNIT_NAME</th>\n",
       "      <th>LOCAL_FIRE_REPORT_ID</th>\n",
       "      <th>...</th>\n",
       "      <th>FIRE_SIZE_CLASS</th>\n",
       "      <th>LATITUDE</th>\n",
       "      <th>LONGITUDE</th>\n",
       "      <th>OWNER_CODE</th>\n",
       "      <th>OWNER_DESCR</th>\n",
       "      <th>STATE</th>\n",
       "      <th>COUNTY</th>\n",
       "      <th>FIPS_CODE</th>\n",
       "      <th>FIPS_NAME</th>\n",
       "      <th>Shape</th>\n",
       "    </tr>\n",
       "    <tr>\n",
       "      <th>FOD_ID</th>\n",
       "      <th></th>\n",
       "      <th></th>\n",
       "      <th></th>\n",
       "      <th></th>\n",
       "      <th></th>\n",
       "      <th></th>\n",
       "      <th></th>\n",
       "      <th></th>\n",
       "      <th></th>\n",
       "      <th></th>\n",
       "      <th></th>\n",
       "      <th></th>\n",
       "      <th></th>\n",
       "      <th></th>\n",
       "      <th></th>\n",
       "      <th></th>\n",
       "      <th></th>\n",
       "      <th></th>\n",
       "      <th></th>\n",
       "      <th></th>\n",
       "      <th></th>\n",
       "    </tr>\n",
       "  </thead>\n",
       "  <tbody>\n",
       "    <tr>\n",
       "      <td>300348363</td>\n",
       "      <td>1880461</td>\n",
       "      <td>2015CAIRS29019636</td>\n",
       "      <td>NONFED</td>\n",
       "      <td>ST-CACDF</td>\n",
       "      <td>ST/C&amp;L</td>\n",
       "      <td>USCASHU</td>\n",
       "      <td>Shasta-Trinity Unit</td>\n",
       "      <td>CASHU</td>\n",
       "      <td>Shasta-Trinity Unit</td>\n",
       "      <td>591814</td>\n",
       "      <td>...</td>\n",
       "      <td>A</td>\n",
       "      <td>40.481637</td>\n",
       "      <td>-122.389375</td>\n",
       "      <td>13.0</td>\n",
       "      <td>STATE OR PRIVATE</td>\n",
       "      <td>CA</td>\n",
       "      <td>None</td>\n",
       "      <td>None</td>\n",
       "      <td>None</td>\n",
       "      <td>b'\\x00\\x01\\xad\\x10\\x00\\x00P\\xb8\\x1e\\x85\\xeb\\x9...</td>\n",
       "    </tr>\n",
       "    <tr>\n",
       "      <td>300348373</td>\n",
       "      <td>1880462</td>\n",
       "      <td>2015CAIRS29217935</td>\n",
       "      <td>NONFED</td>\n",
       "      <td>ST-CACDF</td>\n",
       "      <td>ST/C&amp;L</td>\n",
       "      <td>USCATCU</td>\n",
       "      <td>Tuolumne-Calaveras Unit</td>\n",
       "      <td>CATCU</td>\n",
       "      <td>Tuolumne-Calaveras Unit</td>\n",
       "      <td>569419</td>\n",
       "      <td>...</td>\n",
       "      <td>A</td>\n",
       "      <td>37.617619</td>\n",
       "      <td>-120.938570</td>\n",
       "      <td>12.0</td>\n",
       "      <td>MUNICIPAL/LOCAL</td>\n",
       "      <td>CA</td>\n",
       "      <td>None</td>\n",
       "      <td>None</td>\n",
       "      <td>None</td>\n",
       "      <td>b'\\x00\\x01\\xad\\x10\\x00\\x00\\x00\\x80\\xbe\\x88\\x11...</td>\n",
       "    </tr>\n",
       "    <tr>\n",
       "      <td>300348375</td>\n",
       "      <td>1880463</td>\n",
       "      <td>2015CAIRS28364460</td>\n",
       "      <td>NONFED</td>\n",
       "      <td>ST-CACDF</td>\n",
       "      <td>ST/C&amp;L</td>\n",
       "      <td>USCATCU</td>\n",
       "      <td>Tuolumne-Calaveras Unit</td>\n",
       "      <td>CATCU</td>\n",
       "      <td>Tuolumne-Calaveras Unit</td>\n",
       "      <td>574245</td>\n",
       "      <td>...</td>\n",
       "      <td>A</td>\n",
       "      <td>37.617619</td>\n",
       "      <td>-120.938570</td>\n",
       "      <td>12.0</td>\n",
       "      <td>MUNICIPAL/LOCAL</td>\n",
       "      <td>CA</td>\n",
       "      <td>None</td>\n",
       "      <td>None</td>\n",
       "      <td>None</td>\n",
       "      <td>b'\\x00\\x01\\xad\\x10\\x00\\x00\\x00\\x80\\xbe\\x88\\x11...</td>\n",
       "    </tr>\n",
       "    <tr>\n",
       "      <td>300348377</td>\n",
       "      <td>1880464</td>\n",
       "      <td>2015CAIRS29218079</td>\n",
       "      <td>NONFED</td>\n",
       "      <td>ST-CACDF</td>\n",
       "      <td>ST/C&amp;L</td>\n",
       "      <td>USCATCU</td>\n",
       "      <td>Tuolumne-Calaveras Unit</td>\n",
       "      <td>CATCU</td>\n",
       "      <td>Tuolumne-Calaveras Unit</td>\n",
       "      <td>570462</td>\n",
       "      <td>...</td>\n",
       "      <td>B</td>\n",
       "      <td>37.672235</td>\n",
       "      <td>-120.898356</td>\n",
       "      <td>12.0</td>\n",
       "      <td>MUNICIPAL/LOCAL</td>\n",
       "      <td>CA</td>\n",
       "      <td>None</td>\n",
       "      <td>None</td>\n",
       "      <td>None</td>\n",
       "      <td>b'\\x00\\x01\\xad\\x10\\x00\\x00x\\xba_\\xaa~9^\\xc0\\xb...</td>\n",
       "    </tr>\n",
       "    <tr>\n",
       "      <td>300348399</td>\n",
       "      <td>1880465</td>\n",
       "      <td>2015CAIRS26733926</td>\n",
       "      <td>NONFED</td>\n",
       "      <td>ST-CACDF</td>\n",
       "      <td>ST/C&amp;L</td>\n",
       "      <td>USCABDU</td>\n",
       "      <td>San Bernardino Unit</td>\n",
       "      <td>CABDU</td>\n",
       "      <td>CDF - San Bernardino Unit</td>\n",
       "      <td>535436</td>\n",
       "      <td>...</td>\n",
       "      <td>A</td>\n",
       "      <td>34.263217</td>\n",
       "      <td>-116.830950</td>\n",
       "      <td>13.0</td>\n",
       "      <td>STATE OR PRIVATE</td>\n",
       "      <td>CA</td>\n",
       "      <td>None</td>\n",
       "      <td>None</td>\n",
       "      <td>None</td>\n",
       "      <td>b'\\x00\\x01\\xad\\x10\\x00\\x00\\x1c\\xa7\\xe8H.5]\\xc0...</td>\n",
       "    </tr>\n",
       "  </tbody>\n",
       "</table>\n",
       "<p>5 rows × 38 columns</p>\n",
       "</div>"
      ],
      "text/plain": [
       "           OBJECTID             FPA_ID SOURCE_SYSTEM_TYPE SOURCE_SYSTEM  \\\n",
       "FOD_ID                                                                    \n",
       "300348363   1880461  2015CAIRS29019636             NONFED      ST-CACDF   \n",
       "300348373   1880462  2015CAIRS29217935             NONFED      ST-CACDF   \n",
       "300348375   1880463  2015CAIRS28364460             NONFED      ST-CACDF   \n",
       "300348377   1880464  2015CAIRS29218079             NONFED      ST-CACDF   \n",
       "300348399   1880465  2015CAIRS26733926             NONFED      ST-CACDF   \n",
       "\n",
       "          NWCG_REPORTING_AGENCY NWCG_REPORTING_UNIT_ID  \\\n",
       "FOD_ID                                                   \n",
       "300348363                ST/C&L                USCASHU   \n",
       "300348373                ST/C&L                USCATCU   \n",
       "300348375                ST/C&L                USCATCU   \n",
       "300348377                ST/C&L                USCATCU   \n",
       "300348399                ST/C&L                USCABDU   \n",
       "\n",
       "          NWCG_REPORTING_UNIT_NAME SOURCE_REPORTING_UNIT  \\\n",
       "FOD_ID                                                     \n",
       "300348363      Shasta-Trinity Unit                 CASHU   \n",
       "300348373  Tuolumne-Calaveras Unit                 CATCU   \n",
       "300348375  Tuolumne-Calaveras Unit                 CATCU   \n",
       "300348377  Tuolumne-Calaveras Unit                 CATCU   \n",
       "300348399      San Bernardino Unit                 CABDU   \n",
       "\n",
       "          SOURCE_REPORTING_UNIT_NAME LOCAL_FIRE_REPORT_ID  ...  \\\n",
       "FOD_ID                                                     ...   \n",
       "300348363        Shasta-Trinity Unit               591814  ...   \n",
       "300348373    Tuolumne-Calaveras Unit               569419  ...   \n",
       "300348375    Tuolumne-Calaveras Unit               574245  ...   \n",
       "300348377    Tuolumne-Calaveras Unit               570462  ...   \n",
       "300348399  CDF - San Bernardino Unit               535436  ...   \n",
       "\n",
       "          FIRE_SIZE_CLASS   LATITUDE   LONGITUDE OWNER_CODE       OWNER_DESCR  \\\n",
       "FOD_ID                                                                          \n",
       "300348363               A  40.481637 -122.389375       13.0  STATE OR PRIVATE   \n",
       "300348373               A  37.617619 -120.938570       12.0   MUNICIPAL/LOCAL   \n",
       "300348375               A  37.617619 -120.938570       12.0   MUNICIPAL/LOCAL   \n",
       "300348377               B  37.672235 -120.898356       12.0   MUNICIPAL/LOCAL   \n",
       "300348399               A  34.263217 -116.830950       13.0  STATE OR PRIVATE   \n",
       "\n",
       "          STATE COUNTY FIPS_CODE  FIPS_NAME  \\\n",
       "FOD_ID                                        \n",
       "300348363    CA   None      None       None   \n",
       "300348373    CA   None      None       None   \n",
       "300348375    CA   None      None       None   \n",
       "300348377    CA   None      None       None   \n",
       "300348399    CA   None      None       None   \n",
       "\n",
       "                                                       Shape  \n",
       "FOD_ID                                                        \n",
       "300348363  b'\\x00\\x01\\xad\\x10\\x00\\x00P\\xb8\\x1e\\x85\\xeb\\x9...  \n",
       "300348373  b'\\x00\\x01\\xad\\x10\\x00\\x00\\x00\\x80\\xbe\\x88\\x11...  \n",
       "300348375  b'\\x00\\x01\\xad\\x10\\x00\\x00\\x00\\x80\\xbe\\x88\\x11...  \n",
       "300348377  b'\\x00\\x01\\xad\\x10\\x00\\x00x\\xba_\\xaa~9^\\xc0\\xb...  \n",
       "300348399  b'\\x00\\x01\\xad\\x10\\x00\\x00\\x1c\\xa7\\xe8H.5]\\xc0...  \n",
       "\n",
       "[5 rows x 38 columns]"
      ]
     },
     "execution_count": 9,
     "metadata": {},
     "output_type": "execute_result"
    }
   ],
   "source": [
    "df.tail(5)\n",
    "\n",
    "# last 5 elements"
   ]
  },
  {
   "cell_type": "code",
   "execution_count": 10,
   "metadata": {},
   "outputs": [
    {
     "data": {
      "text/html": [
       "<div>\n",
       "<style scoped>\n",
       "    .dataframe tbody tr th:only-of-type {\n",
       "        vertical-align: middle;\n",
       "    }\n",
       "\n",
       "    .dataframe tbody tr th {\n",
       "        vertical-align: top;\n",
       "    }\n",
       "\n",
       "    .dataframe thead th {\n",
       "        text-align: right;\n",
       "    }\n",
       "</style>\n",
       "<table border=\"1\" class=\"dataframe\">\n",
       "  <thead>\n",
       "    <tr style=\"text-align: right;\">\n",
       "      <th></th>\n",
       "      <th>OBJECTID</th>\n",
       "      <th>FPA_ID</th>\n",
       "      <th>SOURCE_SYSTEM_TYPE</th>\n",
       "      <th>SOURCE_SYSTEM</th>\n",
       "      <th>NWCG_REPORTING_AGENCY</th>\n",
       "      <th>NWCG_REPORTING_UNIT_ID</th>\n",
       "      <th>NWCG_REPORTING_UNIT_NAME</th>\n",
       "      <th>SOURCE_REPORTING_UNIT</th>\n",
       "      <th>SOURCE_REPORTING_UNIT_NAME</th>\n",
       "      <th>LOCAL_FIRE_REPORT_ID</th>\n",
       "      <th>...</th>\n",
       "      <th>FIRE_SIZE_CLASS</th>\n",
       "      <th>LATITUDE</th>\n",
       "      <th>LONGITUDE</th>\n",
       "      <th>OWNER_CODE</th>\n",
       "      <th>OWNER_DESCR</th>\n",
       "      <th>STATE</th>\n",
       "      <th>COUNTY</th>\n",
       "      <th>FIPS_CODE</th>\n",
       "      <th>FIPS_NAME</th>\n",
       "      <th>Shape</th>\n",
       "    </tr>\n",
       "    <tr>\n",
       "      <th>FOD_ID</th>\n",
       "      <th></th>\n",
       "      <th></th>\n",
       "      <th></th>\n",
       "      <th></th>\n",
       "      <th></th>\n",
       "      <th></th>\n",
       "      <th></th>\n",
       "      <th></th>\n",
       "      <th></th>\n",
       "      <th></th>\n",
       "      <th></th>\n",
       "      <th></th>\n",
       "      <th></th>\n",
       "      <th></th>\n",
       "      <th></th>\n",
       "      <th></th>\n",
       "      <th></th>\n",
       "      <th></th>\n",
       "      <th></th>\n",
       "      <th></th>\n",
       "      <th></th>\n",
       "    </tr>\n",
       "  </thead>\n",
       "  <tbody>\n",
       "    <tr>\n",
       "      <td>1</td>\n",
       "      <td>1</td>\n",
       "      <td>FS-1418826</td>\n",
       "      <td>FED</td>\n",
       "      <td>FS-FIRESTAT</td>\n",
       "      <td>FS</td>\n",
       "      <td>USCAPNF</td>\n",
       "      <td>Plumas National Forest</td>\n",
       "      <td>0511</td>\n",
       "      <td>Plumas National Forest</td>\n",
       "      <td>1</td>\n",
       "      <td>...</td>\n",
       "      <td>A</td>\n",
       "      <td>40.036944</td>\n",
       "      <td>-121.005833</td>\n",
       "      <td>5.0</td>\n",
       "      <td>USFS</td>\n",
       "      <td>CA</td>\n",
       "      <td>63</td>\n",
       "      <td>063</td>\n",
       "      <td>Plumas</td>\n",
       "      <td>b'\\x00\\x01\\xad\\x10\\x00\\x00\\xe8d\\xc2\\x92_@^\\xc0...</td>\n",
       "    </tr>\n",
       "    <tr>\n",
       "      <td>2</td>\n",
       "      <td>2</td>\n",
       "      <td>FS-1418827</td>\n",
       "      <td>FED</td>\n",
       "      <td>FS-FIRESTAT</td>\n",
       "      <td>FS</td>\n",
       "      <td>USCAENF</td>\n",
       "      <td>Eldorado National Forest</td>\n",
       "      <td>0503</td>\n",
       "      <td>Eldorado National Forest</td>\n",
       "      <td>13</td>\n",
       "      <td>...</td>\n",
       "      <td>A</td>\n",
       "      <td>38.933056</td>\n",
       "      <td>-120.404444</td>\n",
       "      <td>5.0</td>\n",
       "      <td>USFS</td>\n",
       "      <td>CA</td>\n",
       "      <td>61</td>\n",
       "      <td>061</td>\n",
       "      <td>Placer</td>\n",
       "      <td>b'\\x00\\x01\\xad\\x10\\x00\\x00T\\xb6\\xeej\\xe2\\x19^\\...</td>\n",
       "    </tr>\n",
       "    <tr>\n",
       "      <td>3</td>\n",
       "      <td>3</td>\n",
       "      <td>FS-1418835</td>\n",
       "      <td>FED</td>\n",
       "      <td>FS-FIRESTAT</td>\n",
       "      <td>FS</td>\n",
       "      <td>USCAENF</td>\n",
       "      <td>Eldorado National Forest</td>\n",
       "      <td>0503</td>\n",
       "      <td>Eldorado National Forest</td>\n",
       "      <td>27</td>\n",
       "      <td>...</td>\n",
       "      <td>A</td>\n",
       "      <td>38.984167</td>\n",
       "      <td>-120.735556</td>\n",
       "      <td>13.0</td>\n",
       "      <td>STATE OR PRIVATE</td>\n",
       "      <td>CA</td>\n",
       "      <td>17</td>\n",
       "      <td>017</td>\n",
       "      <td>El Dorado</td>\n",
       "      <td>b'\\x00\\x01\\xad\\x10\\x00\\x00\\xd0\\xa5\\xa0W\\x13/^\\...</td>\n",
       "    </tr>\n",
       "    <tr>\n",
       "      <td>4</td>\n",
       "      <td>4</td>\n",
       "      <td>FS-1418845</td>\n",
       "      <td>FED</td>\n",
       "      <td>FS-FIRESTAT</td>\n",
       "      <td>FS</td>\n",
       "      <td>USCAENF</td>\n",
       "      <td>Eldorado National Forest</td>\n",
       "      <td>0503</td>\n",
       "      <td>Eldorado National Forest</td>\n",
       "      <td>43</td>\n",
       "      <td>...</td>\n",
       "      <td>A</td>\n",
       "      <td>38.559167</td>\n",
       "      <td>-119.913333</td>\n",
       "      <td>5.0</td>\n",
       "      <td>USFS</td>\n",
       "      <td>CA</td>\n",
       "      <td>3</td>\n",
       "      <td>003</td>\n",
       "      <td>Alpine</td>\n",
       "      <td>b'\\x00\\x01\\xad\\x10\\x00\\x00\\x94\\xac\\xa3\\rt\\xfa]...</td>\n",
       "    </tr>\n",
       "    <tr>\n",
       "      <td>5</td>\n",
       "      <td>5</td>\n",
       "      <td>FS-1418847</td>\n",
       "      <td>FED</td>\n",
       "      <td>FS-FIRESTAT</td>\n",
       "      <td>FS</td>\n",
       "      <td>USCAENF</td>\n",
       "      <td>Eldorado National Forest</td>\n",
       "      <td>0503</td>\n",
       "      <td>Eldorado National Forest</td>\n",
       "      <td>44</td>\n",
       "      <td>...</td>\n",
       "      <td>A</td>\n",
       "      <td>38.559167</td>\n",
       "      <td>-119.933056</td>\n",
       "      <td>5.0</td>\n",
       "      <td>USFS</td>\n",
       "      <td>CA</td>\n",
       "      <td>3</td>\n",
       "      <td>003</td>\n",
       "      <td>Alpine</td>\n",
       "      <td>b'\\x00\\x01\\xad\\x10\\x00\\x00@\\xe3\\xaa.\\xb7\\xfb]\\...</td>\n",
       "    </tr>\n",
       "  </tbody>\n",
       "</table>\n",
       "<p>5 rows × 38 columns</p>\n",
       "</div>"
      ],
      "text/plain": [
       "        OBJECTID      FPA_ID SOURCE_SYSTEM_TYPE SOURCE_SYSTEM  \\\n",
       "FOD_ID                                                          \n",
       "1              1  FS-1418826                FED   FS-FIRESTAT   \n",
       "2              2  FS-1418827                FED   FS-FIRESTAT   \n",
       "3              3  FS-1418835                FED   FS-FIRESTAT   \n",
       "4              4  FS-1418845                FED   FS-FIRESTAT   \n",
       "5              5  FS-1418847                FED   FS-FIRESTAT   \n",
       "\n",
       "       NWCG_REPORTING_AGENCY NWCG_REPORTING_UNIT_ID  NWCG_REPORTING_UNIT_NAME  \\\n",
       "FOD_ID                                                                          \n",
       "1                         FS                USCAPNF    Plumas National Forest   \n",
       "2                         FS                USCAENF  Eldorado National Forest   \n",
       "3                         FS                USCAENF  Eldorado National Forest   \n",
       "4                         FS                USCAENF  Eldorado National Forest   \n",
       "5                         FS                USCAENF  Eldorado National Forest   \n",
       "\n",
       "       SOURCE_REPORTING_UNIT SOURCE_REPORTING_UNIT_NAME LOCAL_FIRE_REPORT_ID  \\\n",
       "FOD_ID                                                                         \n",
       "1                       0511     Plumas National Forest                    1   \n",
       "2                       0503   Eldorado National Forest                   13   \n",
       "3                       0503   Eldorado National Forest                   27   \n",
       "4                       0503   Eldorado National Forest                   43   \n",
       "5                       0503   Eldorado National Forest                   44   \n",
       "\n",
       "        ... FIRE_SIZE_CLASS   LATITUDE   LONGITUDE OWNER_CODE  \\\n",
       "FOD_ID  ...                                                     \n",
       "1       ...               A  40.036944 -121.005833        5.0   \n",
       "2       ...               A  38.933056 -120.404444        5.0   \n",
       "3       ...               A  38.984167 -120.735556       13.0   \n",
       "4       ...               A  38.559167 -119.913333        5.0   \n",
       "5       ...               A  38.559167 -119.933056        5.0   \n",
       "\n",
       "             OWNER_DESCR STATE COUNTY FIPS_CODE  FIPS_NAME  \\\n",
       "FOD_ID                                                       \n",
       "1                   USFS    CA     63       063     Plumas   \n",
       "2                   USFS    CA     61       061     Placer   \n",
       "3       STATE OR PRIVATE    CA     17       017  El Dorado   \n",
       "4                   USFS    CA      3       003     Alpine   \n",
       "5                   USFS    CA      3       003     Alpine   \n",
       "\n",
       "                                                    Shape  \n",
       "FOD_ID                                                     \n",
       "1       b'\\x00\\x01\\xad\\x10\\x00\\x00\\xe8d\\xc2\\x92_@^\\xc0...  \n",
       "2       b'\\x00\\x01\\xad\\x10\\x00\\x00T\\xb6\\xeej\\xe2\\x19^\\...  \n",
       "3       b'\\x00\\x01\\xad\\x10\\x00\\x00\\xd0\\xa5\\xa0W\\x13/^\\...  \n",
       "4       b'\\x00\\x01\\xad\\x10\\x00\\x00\\x94\\xac\\xa3\\rt\\xfa]...  \n",
       "5       b'\\x00\\x01\\xad\\x10\\x00\\x00@\\xe3\\xaa.\\xb7\\xfb]\\...  \n",
       "\n",
       "[5 rows x 38 columns]"
      ]
     },
     "execution_count": 10,
     "metadata": {},
     "output_type": "execute_result"
    }
   ],
   "source": [
    "# Extracting CA info \n",
    "\n",
    "CA = df[df['STATE']=='CA'] \n",
    "CA.head()"
   ]
  },
  {
   "cell_type": "code",
   "execution_count": 11,
   "metadata": {},
   "outputs": [
    {
     "data": {
      "image/png": "[encoded data removed]",
      "text/plain": [
       "<Figure size 432x288 with 1 Axes>"
      ]
     },
     "metadata": {
      "needs_background": "light"
     },
     "output_type": "display_data"
    }
   ],
   "source": [
    "plt.scatter(CA[\"LONGITUDE\"], CA[\"LATITUDE\"])\n",
    "plt.xlabel(\"latitude\")\n",
    "plt.ylabel(\"longitude\")\n",
    "plt.title(\"CA\")\n",
    "plt.savefig(\"CA.png\")\n",
    "\n",
    "# just thought it would be cool to plot California with Fire coordinates"
   ]
  },
  {
   "cell_type": "code",
   "execution_count": 12,
   "metadata": {},
   "outputs": [
    {
     "data": {
      "image/png": "[encoded data removed]",
      "text/plain": [
       "<Figure size 432x288 with 1 Axes>"
      ]
     },
     "metadata": {
      "needs_background": "light"
     },
     "output_type": "display_data"
    }
   ],
   "source": [
    "# going a step further to plot all the lat, long coordintes in the dataset\n",
    "\n",
    "states = df[\"STATE\"].unique()\n",
    "\n",
    "for state in states:\n",
    "    st = df[df[\"STATE\"]==state]\n",
    "    plt.scatter(st[\"LONGITUDE\"], st[\"LATITUDE\"])\n",
    "\n",
    "plt.xlabel(\"latitude\")\n",
    "plt.ylabel(\"longitude\")\n",
    "plt.title(\"United States as Drawn by Fire Coordinates Btwn 1992 and 2015\")\n",
    "plt.savefig(\"united_states_kid_drawing.png\".format(state))"
   ]
  },
  {
   "cell_type": "code",
   "execution_count": null,
   "metadata": {},
   "outputs": [
    {
     "name": "stderr",
     "output_type": "stream",
     "text": [
      "/opt/anaconda3/lib/python3.7/site-packages/ipykernel_launcher.py:5: RuntimeWarning: More than 20 figures have been opened. Figures created through the pyplot interface (`matplotlib.pyplot.figure`) are retained until explicitly closed and may consume too much memory. (To control this warning, see the rcParam `figure.max_open_warning`).\n",
      "  \"\"\"\n"
     ]
    }
   ],
   "source": [
    "# plotting states individually\n",
    "\n",
    "for state in states:\n",
    "    st = df[df[\"STATE\"]==state]\n",
    "    plt.figure()\n",
    "    plt.xlabel(\"latitude\")\n",
    "    plt.ylabel(\"longitude\")\n",
    "    plt.title(state)\n",
    "    plt.scatter(st[\"LONGITUDE\"], st[\"LATITUDE\"])\n",
    "    if state == \"ND\" or state == \"NY\" or state == \"RI\" or state == \"NC\":\n",
    "        plt.savefig(\"{}.png\".format(state))"
   ]
  },
  {
   "cell_type": "code",
   "execution_count": null,
   "metadata": {},
   "outputs": [],
   "source": [
    "# going a step further from head() by taking a look at the unique values of each attribute\n",
    "unique_things = {}\n",
    "\n",
    "for column in df.columns:\n",
    "    unique_things[column] = df[column].unique()"
   ]
  },
  {
   "cell_type": "code",
   "execution_count": null,
   "metadata": {},
   "outputs": [],
   "source": [
    "# printing unique_things in a somewhat human-friendly way\n",
    "for key, val in unique_things.items():\n",
    "    print(\"key: {}\\nval:{}\\n\".format(key, val))"
   ]
  },
  {
   "cell_type": "markdown",
   "metadata": {},
   "source": [
    "# I think the FIPS_NAME is kinda cool. I wonder if certain areas name their fires certain things?"
   ]
  },
  {
   "cell_type": "code",
   "execution_count": null,
   "metadata": {},
   "outputs": [],
   "source": [
    "print(\"percent of the dataset missing name of fire : {} %\".format(round(100*df[\"FIPS_NAME\"].isna().sum()/len(df))))"
   ]
  },
  {
   "cell_type": "markdown",
   "metadata": {},
   "source": [
    "only 36% of the dataset has the name of the fire missing, so I am not opposed to just removing those."
   ]
  },
  {
   "cell_type": "markdown",
   "metadata": {},
   "source": [
    "Of any of the above columns that has a proportion of missings greater than 0, I need to make some decisions. Anything higher than like, 80% I'm just going to drop without question. Some columns could be interesting though despite having such a high missing rate."
   ]
  },
  {
   "cell_type": "code",
   "execution_count": null,
   "metadata": {},
   "outputs": [],
   "source": [
    "proportions = 100 * (round(df.isnull().sum() / len(df), 4))\n",
    "\n",
    "print(proportions)"
   ]
  },
  {
   "cell_type": "markdown",
   "metadata": {},
   "source": [
    "DISCOVERY_TIME is about 40% missing but could be interesting to explore. So I'll use a legitimate time to represent a missing, to manipulate any program to work on the column but so the data scientist can understand that is what was missing.\n",
    "\n",
    "It's an object, not a date. The above cell goes into seeing what some of the values look like, to replace it with something that hasn't been used, but still conforms to the pattern.\n",
    "\n",
    "Looks like discovery time is entered without the colon using 4 characters in 24-hour format. For example, midnight would be 0000 and 2:15 pm would be 1415.\n",
    "\n",
    "Replacing NaN's with 9999, since it should conform to the rest but it's not a real time so it wouldn't be mistaken for a real data point."
   ]
  },
  {
   "cell_type": "code",
   "execution_count": null,
   "metadata": {},
   "outputs": [],
   "source": [
    "times = list(df[\"DISCOVERY_TIME\"].unique())\n",
    "'9999' in times"
   ]
  },
  {
   "cell_type": "code",
   "execution_count": null,
   "metadata": {},
   "outputs": [],
   "source": [
    "df[\"DISCOVERY_TIME\"].fillna(\"9999\", inplace=True)"
   ]
  },
  {
   "cell_type": "markdown",
   "metadata": {},
   "source": [
    "COUNTY is 70% missing but can really be derived. I'm just curious to see if some Counties are good at reporting themselves. So I'm going to keep it. Replacing missing with something like \"Not Specified\".\n",
    "\n",
    "Same with FIRE_NAME and FIPS_NAME."
   ]
  },
  {
   "cell_type": "code",
   "execution_count": null,
   "metadata": {},
   "outputs": [],
   "source": [
    "df[\"COUNTY\"].fillna(\"Not Specified\", inplace=True)\n",
    "df[\"FIRE_NAME\"].fillna(\"Not Specified\", inplace=True)\n",
    "df[\"FIPS_NAME\"].fillna(\"Not Specified\", inplace=True)"
   ]
  },
  {
   "cell_type": "code",
   "execution_count": null,
   "metadata": {},
   "outputs": [],
   "source": [
    "# dropping columns which have high missing rates and/or just not interested in them\n",
    "\n",
    "df.drop(columns = [\"ICS_209_INCIDENT_NUMBER\", \"ICS_209_NAME\", \"LOCAL_INCIDENT_ID\", \"FIRE_CODE\", \"Shape\",\n",
    "                   \"MTBS_ID\", \"MTBS_FIRE_NAME\", \"COMPLEX_NAME\", \"LOCAL_FIRE_REPORT_ID\", \"NWCG_REPORTING_UNIT_ID\",\n",
    "                  \"OWNER_CODE\", \"CONT_TIME\", \"CONT_DOY\", \"CONT_DATE\", \"FIPS_CODE\"], inplace = True)"
   ]
  },
  {
   "cell_type": "code",
   "execution_count": null,
   "metadata": {},
   "outputs": [],
   "source": [
    "\"ICS_209_INCIDENT_NUMBER\" in df.columns # checking the drop worked correctly"
   ]
  },
  {
   "cell_type": "code",
   "execution_count": null,
   "metadata": {},
   "outputs": [],
   "source": [
    "new_proportions = 100 * (round(df.isnull().sum() / len(df), 4))\n",
    "\n",
    "print(new_proportions)"
   ]
  },
  {
   "cell_type": "markdown",
   "metadata": {},
   "source": [
    "# Using matplotlib to visualize wildfire frequencies over time"
   ]
  },
  {
   "cell_type": "markdown",
   "metadata": {},
   "source": [
    "## first I will add regionalized information"
   ]
  },
  {
   "cell_type": "code",
   "execution_count": null,
   "metadata": {},
   "outputs": [],
   "source": [
    "# region information provided by WorldAtlas at\n",
    "# https://www.worldatlas.com/articles/the-regions-of-the-united-states.html\n",
    "\n",
    "west = [\"WA\", \"OR\", \"ID\", \"MT\", \"CA\", \"NV\", \"UT\", \"AZ\", \"CO\", \"WY\", \"NM\"]\n",
    "midwest = [\"ND\", \"SD\", \"MN\", \"WI\", \"IL\", \"IA\", \"NE\", \"KS\", \"MI\", \"OH\", \"IN\"]\n",
    "south = [\"TX\", \"OK\", \"AR\", \"LA\", \"AL\", \"GA\", \"FL\", \"TN\", \"KY\", \"WV\", \"VA\", \"MD\", \"NC\", \"SC\", \"MS\", \"MO\"]\n",
    "northeast = [\"ME\", \"NH\", \"VT\", \"NY\", \"DE\", \"PA\", \"RI\", \"CT\", \"MA\", \"NJ\"]\n",
    "other = [\"AK\", \"HI\", \"PR\", \"DC\"]\n",
    "\n",
    "regions = {\"west\": west, \"midwest\": midwest, \"south\": south, \"northeast\": northeast, \"other\": other} # I ignore the others region\n",
    "\n",
    "print(len(west)+len(midwest)+len(south)+len(northeast)+len(other)) # want this to be 52, for 50 states plug PR and DC"
   ]
  },
  {
   "cell_type": "code",
   "execution_count": null,
   "metadata": {},
   "outputs": [],
   "source": [
    "df[\"REGION\"] = -1"
   ]
  },
  {
   "cell_type": "code",
   "execution_count": null,
   "metadata": {},
   "outputs": [],
   "source": [
    "import numpy as np\n",
    "\n",
    "for state in west:\n",
    "    df['REGION'] = np.where(df[\"STATE\"]==state,   #Identifies the case to apply to\n",
    "                            \"west\",               #This is the value that is inserted\n",
    "                            df[\"REGION\"])         #This is the column that is affected\n",
    "        \n",
    "for state in midwest:\n",
    "    df['REGION'] = np.where(df[\"STATE\"]==state,\n",
    "                            \"midwest\",\n",
    "                            df[\"REGION\"])\n",
    "    \n",
    "for state in south:\n",
    "    df['REGION'] = np.where(df[\"STATE\"]==state,\n",
    "                            \"south\",\n",
    "                            df[\"REGION\"])\n",
    "\n",
    "for state in northeast:\n",
    "    df['REGION'] = np.where(df[\"STATE\"]==state,\n",
    "                            \"northeast\",\n",
    "                            df[\"REGION\"])\n",
    "\n",
    "for state in other:\n",
    "    df[\"REGION\"] = np.where(df[\"STATE\"]==state,\n",
    "                           \"other\",\n",
    "                           df[\"REGION\"])"
   ]
  },
  {
   "cell_type": "code",
   "execution_count": null,
   "metadata": {},
   "outputs": [],
   "source": [
    "# if -1 is not in this list, all states now have a region\n",
    "df[\"REGION\"].unique()"
   ]
  },
  {
   "cell_type": "markdown",
   "metadata": {},
   "source": [
    "## getting distributions of fires per year"
   ]
  },
  {
   "cell_type": "code",
   "execution_count": null,
   "metadata": {},
   "outputs": [],
   "source": [
    "# This gives a frequency distribution of all the years\n",
    "\n",
    "years = df[\"FIRE_YEAR\"]\n",
    "plt.hist(years, bins=len(df[\"FIRE_YEAR\"].unique()))\n",
    "plt.title(\"Fire Year Frequencies\")\n",
    "plt.xlabel(\"Year\")\n",
    "plt.ylabel(\"Frequency\")\n",
    "plt.savefig(\"fire_frequencies_by_year_total.png\")"
   ]
  },
  {
   "cell_type": "code",
   "execution_count": null,
   "metadata": {},
   "outputs": [],
   "source": [
    "# curious about discovery date, how or if it differs\n",
    "\n",
    "plt.hist(df[\"DISCOVERY_DATE\"], bins=len(df[\"FIRE_YEAR\"].unique()))\n",
    "plt.title(\"Discovery Date Frequencies\")\n",
    "plt.xlabel(\"Year\")\n",
    "plt.ylabel(\"Frequency\")\n",
    "plt.show()"
   ]
  },
  {
   "cell_type": "markdown",
   "metadata": {},
   "source": [
    "Doesn't look like it really does"
   ]
  },
  {
   "cell_type": "markdown",
   "metadata": {},
   "source": [
    "### Distributions of fires per year, by region"
   ]
  },
  {
   "cell_type": "code",
   "execution_count": null,
   "metadata": {},
   "outputs": [],
   "source": [
    "for key, val in regions.items():\n",
    "    plt.figure()\n",
    "    sub_df = df[df[\"REGION\"]==key]\n",
    "    plt.hist(sub_df[\"FIRE_YEAR\"], bins=len(df[\"FIRE_YEAR\"].unique()))\n",
    "    plt.title(\"Frequencies per Year for Region {}\".format(key))\n",
    "    plt.xlabel(\"Year\")\n",
    "    plt.ylabel(\"Frequency\")\n",
    "    plt.savefig(\"{}_distribution\".format(key))"
   ]
  },
  {
   "cell_type": "markdown",
   "metadata": {},
   "source": [
    "Where it is dry in the midwest, there's a pretty consistent high number of fires. Northeast and midwest regions have definitely increased over time. The south had a dip somewhere around 2005, then spiked back up."
   ]
  },
  {
   "cell_type": "code",
   "execution_count": null,
   "metadata": {},
   "outputs": [],
   "source": [
    "df.columns"
   ]
  },
  {
   "cell_type": "code",
   "execution_count": null,
   "metadata": {},
   "outputs": [],
   "source": [
    "df.head()"
   ]
  },
  {
   "cell_type": "code",
   "execution_count": null,
   "metadata": {},
   "outputs": [],
   "source": [
    "df.index = df[\"FPA_ID\"]"
   ]
  },
  {
   "cell_type": "code",
   "execution_count": null,
   "metadata": {},
   "outputs": [],
   "source": [
    "df.head()"
   ]
  },
  {
   "cell_type": "code",
   "execution_count": null,
   "metadata": {},
   "outputs": [],
   "source": [
    "df.drop(columns = [\"OBJECTID\", \"FPA_ID\", \"DISCOVERY_DATE\"], inplace=True)"
   ]
  },
  {
   "cell_type": "code",
   "execution_count": null,
   "metadata": {},
   "outputs": [],
   "source": [
    "df.dtypes"
   ]
  },
  {
   "cell_type": "code",
   "execution_count": null,
   "metadata": {},
   "outputs": [],
   "source": [
    "# filtering for only numeric datatypes in prep for Pearson coefficiant\n",
    "\n",
    "numerics = ['int16', 'int32', 'int64', 'float16', 'float32', 'float64']\n",
    "\n",
    "numerics = df.select_dtypes(include=numerics)\n",
    "numerics.columns"
   ]
  },
  {
   "cell_type": "code",
   "execution_count": null,
   "metadata": {},
   "outputs": [],
   "source": [
    "numerics.head()"
   ]
  },
  {
   "cell_type": "code",
   "execution_count": null,
   "metadata": {},
   "outputs": [],
   "source": [
    "# lat and long are not necessary for numerical analysis\n",
    "\n",
    "numerics.drop(columns=[\"LATITUDE\", \"LONGITUDE\"], inplace=True)"
   ]
  },
  {
   "cell_type": "code",
   "execution_count": null,
   "metadata": {},
   "outputs": [],
   "source": [
    "# SOURCE_REPORTING_UNIT looks like it might be able to behave as numeric\n",
    "\n",
    "try: \n",
    "    df[\"SOURCE_REPORTING_UNIT\"].astype(\"int64\")\n",
    "except:\n",
    "    print(\"no can do\")"
   ]
  },
  {
   "cell_type": "markdown",
   "metadata": {},
   "source": [
    "### okey dokey, nevermind to that. I do want region in there, however"
   ]
  },
  {
   "cell_type": "code",
   "execution_count": null,
   "metadata": {},
   "outputs": [],
   "source": [
    "numerics = numerics.join(df[\"REGION\"].str.get_dummies())"
   ]
  },
  {
   "cell_type": "code",
   "execution_count": null,
   "metadata": {},
   "outputs": [],
   "source": [
    "numerics.dtypes"
   ]
  },
  {
   "cell_type": "code",
   "execution_count": null,
   "metadata": {},
   "outputs": [],
   "source": [
    "numerics.head()"
   ]
  },
  {
   "cell_type": "code",
   "execution_count": null,
   "metadata": {},
   "outputs": [],
   "source": [
    "# box plot of fire year by state\n",
    "sns.boxplot(df[[\"STATE\"]])"
   ]
  },
  {
   "cell_type": "code",
   "execution_count": null,
   "metadata": {},
   "outputs": [],
   "source": [
    "CA_corr.savefig(\"CA_pearson_correlation_coeff.png\")"
   ]
  }
 ],
 "metadata": {
  "kernelspec": {
   "display_name": "Python 3",
   "language": "python",
   "name": "python3"
  },
  "language_info": {
   "codemirror_mode": {
    "name": "ipython",
    "version": 3
   },
   "file_extension": ".py",
   "mimetype": "text/x-python",
   "name": "python",
   "nbconvert_exporter": "python",
   "pygments_lexer": "ipython3",
   "version": "3.7.4"
  }
 },
 "nbformat": 4,
 "nbformat_minor": 2
}
