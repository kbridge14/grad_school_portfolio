{
 "cells": [
  {
   "cell_type": "markdown",
   "metadata": {},
   "source": [
    "# MSDS 430 Module 2 Python Assignment"
   ]
  },
  {
   "cell_type": "markdown",
   "metadata": {},
   "source": [
    "<div class=\"alert alert-block alert-warning\"><b>In this assignment you will read through this notebook then complete the exercises. Once you are satisfied with your results, submit your notebook and html file to Canvas. Your files should include all output, i.e. run each cell and save your files before submitting.</b></div>"
   ]
  },
  {
   "cell_type": "markdown",
   "metadata": {},
   "source": [
    "<div class=\"alert alert-block alert-info\"> This week we are starting to learn how to write short programs in Python beyond basic print statements. We're learning about different data types such as integers, floats, strings, and Boolean types. Each of these data types serves different purposes. In this assignment, we start working with these data types and get our feet wet with conditional statements. Conditionals are quite useful in programming and we will work with them in nearly every assignment from here on out. </div>"
   ]
  },
  {
   "cell_type": "markdown",
   "metadata": {},
   "source": [
    "### Basic Calculations"
   ]
  },
  {
   "cell_type": "markdown",
   "metadata": {},
   "source": [
    "We've seen that Python can easily be used as a calculator. Notice we don't need a `print` command to return the result. We simply need to type in a mathematical expression then run the cell. Also, if all values in the expression are integers, Python will return an `int` value."
   ]
  },
  {
   "cell_type": "code",
   "execution_count": 1,
   "metadata": {},
   "outputs": [
    {
     "data": {
      "text/plain": [
       "64"
      ]
     },
     "execution_count": 1,
     "metadata": {},
     "output_type": "execute_result"
    }
   ],
   "source": [
    "19*5 - 31"
   ]
  },
  {
   "cell_type": "markdown",
   "metadata": {},
   "source": [
    "If at least one value in an expression is a float, Python will return a float value:"
   ]
  },
  {
   "cell_type": "code",
   "execution_count": 2,
   "metadata": {},
   "outputs": [
    {
     "data": {
      "text/plain": [
       "64.0"
      ]
     },
     "execution_count": 2,
     "metadata": {},
     "output_type": "execute_result"
    }
   ],
   "source": [
    "19*5 - 31.0"
   ]
  },
  {
   "cell_type": "markdown",
   "metadata": {},
   "source": [
    "To verify this is a float, we use the `type()` command. When we do this, Python will not return the result of the expression - only the `type` of the end result:"
   ]
  },
  {
   "cell_type": "code",
   "execution_count": 3,
   "metadata": {},
   "outputs": [
    {
     "data": {
      "text/plain": [
       "float"
      ]
     },
     "execution_count": 3,
     "metadata": {},
     "output_type": "execute_result"
    }
   ],
   "source": [
    "type(19*5 - 31.0)"
   ]
  },
  {
   "cell_type": "markdown",
   "metadata": {},
   "source": [
    "In this case we could assign a variable name to the expression, add a print statement to return the result of the calculation, and ask for the type."
   ]
  },
  {
   "cell_type": "code",
   "execution_count": 4,
   "metadata": {},
   "outputs": [
    {
     "name": "stdout",
     "output_type": "stream",
     "text": [
      "64.0\n"
     ]
    },
    {
     "data": {
      "text/plain": [
       "float"
      ]
     },
     "execution_count": 4,
     "metadata": {},
     "output_type": "execute_result"
    }
   ],
   "source": [
    "calc = 19*5 - 31.0\n",
    "print(calc)\n",
    "type(calc)"
   ]
  },
  {
   "cell_type": "markdown",
   "metadata": {},
   "source": [
    "We can also convert the result of the expression to another type. For example, we could convert the integer-valued expression above to a float. It will still return the result of the calculation, but notice the result is a float value:"
   ]
  },
  {
   "cell_type": "code",
   "execution_count": 5,
   "metadata": {},
   "outputs": [
    {
     "data": {
      "text/plain": [
       "64.0"
      ]
     },
     "execution_count": 5,
     "metadata": {},
     "output_type": "execute_result"
    }
   ],
   "source": [
    "float(19*5 - 31)"
   ]
  },
  {
   "cell_type": "markdown",
   "metadata": {},
   "source": [
    "<div class=\"alert alert-block alert-success\"><b>Problem 1 (2 pts.)</b>: In the <b><i>1st cell</i></b> below create a <b><i>single line of code</i></b> that uses Python to find the sum of -6.5 and 1.3 <b><i>and</i></b> converts the result to an integer. Do so without assigning a variable name and without using <font color=black><i>print(&nbsp;)</i></font>. Do the same in the <b><i>2nd cell</i></b> provided, except this time convert the sum to a string.</div>"
   ]
  },
  {
   "cell_type": "code",
   "execution_count": 1,
   "metadata": {},
   "outputs": [
    {
     "data": {
      "text/plain": [
       "-4"
      ]
     },
     "execution_count": 1,
     "metadata": {},
     "output_type": "execute_result"
    }
   ],
   "source": [
    "# TODO\n",
    "#Write a single line of code to find the sum of -6.5 and 1.3 that returns an integer.\n",
    "int(-6.5+2.3)"
   ]
  },
  {
   "cell_type": "code",
   "execution_count": 2,
   "metadata": {},
   "outputs": [
    {
     "data": {
      "text/plain": [
       "'-5.2'"
      ]
     },
     "execution_count": 2,
     "metadata": {},
     "output_type": "execute_result"
    }
   ],
   "source": [
    "# TODO\n",
    "#Write a single line of code to find the sum of -6.5 and 1.3 that returns a string.\n",
    "str(-6.5+1.3)"
   ]
  },
  {
   "cell_type": "markdown",
   "metadata": {},
   "source": [
    "<div class=\"alert alert-block alert-success\"><b>Problem 2 (2 pts.)</b>: Use Python as a calculator again. This time use <b><i>all five</i></b> mathematical operators (<font color=red>+</font>,<font color=red> –</font>,<font color=red> *</font>,<font color=red> /</font>,<font color=red> **</font>) in a <b><i>single expression</i></b> to produce the number 3.</div>"
   ]
  },
  {
   "cell_type": "code",
   "execution_count": 5,
   "metadata": {},
   "outputs": [
    {
     "data": {
      "text/plain": [
       "3"
      ]
     },
     "execution_count": 5,
     "metadata": {},
     "output_type": "execute_result"
    }
   ],
   "source": [
    "int(5*3/15+2**2-2)"
   ]
  },
  {
   "cell_type": "markdown",
   "metadata": {},
   "source": [
    "### The Input Function"
   ]
  },
  {
   "cell_type": "markdown",
   "metadata": {},
   "source": [
    "In this week's readings you also learned about a built-in function in Python called `input`. When this is used in a program it will prompt the user to enter something, say a number or a string. It's helpful when creating a prompt to provide clear instructions for the user, such as `Enter your birthdate in the form MM/DD/YYYY` or `Enter your postal code` instead of a blank entry box."
   ]
  },
  {
   "cell_type": "code",
   "execution_count": 1,
   "metadata": {},
   "outputs": [
    {
     "name": "stdout",
     "output_type": "stream",
     "text": [
      "Enter your name: Jonathon\n",
      "Enter your age: 31\n",
      "Jonathon is 31 years old.\n"
     ]
    }
   ],
   "source": [
    "name = input(\"Enter your name: \")\n",
    "age = input(\"Enter your age: \")\n",
    "print(name, \"is\", age, \"years old.\")"
   ]
  },
  {
   "cell_type": "markdown",
   "metadata": {},
   "source": [
    "Keep in mind that this function will return a string value unless told otherwise. If we try some type of mathematical calculation with `age`, it will treat it like a string:"
   ]
  },
  {
   "cell_type": "code",
   "execution_count": 2,
   "metadata": {},
   "outputs": [
    {
     "data": {
      "text/plain": [
       "'313131'"
      ]
     },
     "execution_count": 2,
     "metadata": {},
     "output_type": "execute_result"
    }
   ],
   "source": [
    "age*3"
   ]
  },
  {
   "cell_type": "markdown",
   "metadata": {},
   "source": [
    "An alternative is to convert `age` to an `int` when it is input:"
   ]
  },
  {
   "cell_type": "code",
   "execution_count": 3,
   "metadata": {},
   "outputs": [
    {
     "name": "stdout",
     "output_type": "stream",
     "text": [
      "Enter your name: Marcy\n",
      "Enter your age: 27\n",
      "Marcy is 27 years old.\n"
     ]
    }
   ],
   "source": [
    "name = input(\"Enter your name: \")\n",
    "age = int(input(\"Enter your age: \")) #We could also use float instead of int depending on preference.\n",
    "print(name, \"is\", age, \"years old.\")"
   ]
  },
  {
   "cell_type": "markdown",
   "metadata": {},
   "source": [
    "Now when we attempt a mathematical calculation with age we get a more meaningful result."
   ]
  },
  {
   "cell_type": "code",
   "execution_count": 4,
   "metadata": {},
   "outputs": [
    {
     "name": "stdout",
     "output_type": "stream",
     "text": [
      "Marcy will be 65 years old in 38 years.\n"
     ]
    }
   ],
   "source": [
    "print(name, \"will be 65 years old in\", 65 - age, \"years.\")"
   ]
  },
  {
   "cell_type": "markdown",
   "metadata": {},
   "source": [
    "<div class=\"alert alert-block alert-success\"><b>Problem 3 (5 pts.)</b>: Write a program that asks a user for two numbers, then prints two sentences displaying the sum and product of those numbers, respectively. More specifically, the program should display the prompt <font color=black><i>Enter any number:</i>&nbsp;</font> and then wait for the user's input. After the user enters his/her input followed by pressing the enter/return key, the program prompts the user to enter a second number in a similar fashion. <br>  <br>Here is a sample of what this should look like to the user when your program is run:</div>\n",
    "\n",
    "`Enter any number: `5<br>\n",
    "`Enter a second number: `123 <br> \n",
    "`The sum of 5 and 123 is 128.`<br>\n",
    "`The product of 5 and 123 is 615.`"
   ]
  },
  {
   "cell_type": "code",
   "execution_count": 11,
   "metadata": {},
   "outputs": [
    {
     "name": "stdout",
     "output_type": "stream",
     "text": [
      "Enter any number: 5\n",
      "Enter a second number: 123\n",
      "The sum of 5 and 123 is 128. \n",
      "The product of 5 and 123 is 615. \n"
     ]
    }
   ],
   "source": [
    "nbr = int(input(\"Enter any number: \"))\n",
    "snd_nbr = int(input(\"Enter a second number: \"))\n",
    "prdct = nbr * snd_nbr\n",
    "print(\"The sum of %s and %s is %s. \" %(str(nbr), str(snd_nbr), str(nbr + snd_nbr)))\n",
    "print(\"The product of {} and {} is {}. \".format(nbr, snd_nbr, prdct))"
   ]
  },
  {
   "cell_type": "markdown",
   "metadata": {},
   "source": [
    "### More Mathematical Operators"
   ]
  },
  {
   "cell_type": "markdown",
   "metadata": {},
   "source": [
    "Above we worked with five mathematical operators, `+`, `-`, `*`, `/`, and `**`. Other basic operators in Python are `%` and `//`. The first is a modulus operator that returns the remainder upon division of the left operand by the right operand. For example `299 % 2` will return the remainder when 299 is divided by 2, i.e. the result would be 1. Below are a few examples. Feel free to try some of your own."
   ]
  },
  {
   "cell_type": "code",
   "execution_count": 5,
   "metadata": {},
   "outputs": [
    {
     "name": "stdout",
     "output_type": "stream",
     "text": [
      "1\n",
      "189\n",
      "2.0\n"
     ]
    }
   ],
   "source": [
    "print(28 % 3)\n",
    "print(400 % 211)\n",
    "print(250 % 4.0)"
   ]
  },
  {
   "cell_type": "markdown",
   "metadata": {},
   "source": [
    "The second operator, `//` is a floor division operator. This is the quotient of two numbers without the decimals. This does not mean it will return an `int` type. That will depend on the expression. For example, `299//2` has a quotient of 149 with a remainder of 1. So, `299//2` will return `149`, which is an int. Whereas, `299.0//2` will return `149.0`, which is a float. "
   ]
  },
  {
   "cell_type": "markdown",
   "metadata": {},
   "source": [
    "<div class=\"alert alert-block alert-success\"><b>Problem 4 (3 pts.)</b>: Write a program that asks a user to enter any number then returns whether the number is a multiple of 5 or not then test it with any integer. Here's a sample of what this should look like to the user:</div>\n",
    "\n",
    "`Enter any number: `319<br>\n",
    "`319 is not a multiple of 5.`"
   ]
  },
  {
   "cell_type": "code",
   "execution_count": 25,
   "metadata": {},
   "outputs": [
    {
     "name": "stdout",
     "output_type": "stream",
     "text": [
      "Enter any number: 4\n",
      "4 is not a multiple of 5.\n"
     ]
    }
   ],
   "source": [
    "nbr = int(input(\"Enter any number: \"))\n",
    "flr = nbr//5\n",
    "reg = nbr/5\n",
    "if flr == reg:\n",
    "    rslt = \"is\"\n",
    "else:\n",
    "    rslt = \"is not\"\n",
    "print(\"{} \".format(nbr) + rslt + \" a multiple of 5.\")"
   ]
  },
  {
   "cell_type": "markdown",
   "metadata": {},
   "source": [
    "### Conditional Statements"
   ]
  },
  {
   "cell_type": "markdown",
   "metadata": {},
   "source": [
    "In `Problem 4` you likely used a simple conditional statement to determine if the input number was a multiple of 5. In that type of conditional there are only two courses of action. We test the value with the `if statement` to see if it is true. If it is, we can have our program print something relevant (or do other things). If it is false, we can have our program print something different."
   ]
  },
  {
   "cell_type": "code",
   "execution_count": 6,
   "metadata": {},
   "outputs": [
    {
     "name": "stdout",
     "output_type": "stream",
     "text": [
      "45 is too large.\n"
     ]
    }
   ],
   "source": [
    "x = 45\n",
    "\n",
    "if x > 10:\n",
    "    print(x, \"is too large.\")\n",
    "\n",
    "else:\n",
    "    print(x, \"is small enough.\")"
   ]
  },
  {
   "cell_type": "markdown",
   "metadata": {},
   "source": [
    "If we want to, say compare two or more numbers, we can use nested conditionals. Suppose we want to know if a number is at least three times as large as another number."
   ]
  },
  {
   "cell_type": "code",
   "execution_count": 7,
   "metadata": {},
   "outputs": [
    {
     "name": "stdout",
     "output_type": "stream",
     "text": [
      "330 is exactly three times 110\n"
     ]
    }
   ],
   "source": [
    "number1 = 110\n",
    "number2 = 330\n",
    "\n",
    "if number2 > 3*number1:\n",
    "    print(number2, \"is at least three times\", number1)\n",
    "\n",
    "else:\n",
    "    if number2 < 3*number1:\n",
    "        print(number2, \"is less than three times\", number1)\n",
    "    \n",
    "    else:\n",
    "        print(number2, \"is exactly three times\", number1)"
   ]
  },
  {
   "cell_type": "markdown",
   "metadata": {},
   "source": [
    "We can accomplish the same thing with what is sometimes called a chained conditional, which is sometimes preferred. This type of conditional uses the `elif` statement."
   ]
  },
  {
   "cell_type": "code",
   "execution_count": 8,
   "metadata": {},
   "outputs": [
    {
     "name": "stdout",
     "output_type": "stream",
     "text": [
      "330 is exactly three times 110\n"
     ]
    }
   ],
   "source": [
    "number1 = 110\n",
    "number2 = 330\n",
    "\n",
    "if number2 > 3*number1:\n",
    "    print(number2, \"is at least three times\", number1)\n",
    "\n",
    "elif number2 < 3*number1:\n",
    "    print(number2, \"is less than three times\", number1)\n",
    "    \n",
    "else:\n",
    "    print(number2, \"is exactly three times\", number1)"
   ]
  },
  {
   "cell_type": "markdown",
   "metadata": {},
   "source": [
    "<div class=\"alert alert-block alert-success\"><b>Problem 5 (6 pts.)</b>: Jake is looking for a job but has some conditions. He would love a job in Hawaii and would accept it if it pays at least 85,000 per year. He does not like New York but would take a job if it pays at least 100,000 per year. He would work anywhere else if it pays at least 60,000. Write a program that prompts the user to enter two input values, <font color=black><i><u>location</u></i></font> and <font color=black><i><u>pay</u></i></font>, and returns \n",
    "\n",
    "(1) \"I'll take it!\" if the user entered Hawaii and at least 85,000, New York and at least 100,000, or anywhere else with pay at least 60,000, for `location` and `pay`, respectively, or  <br> \n",
    "(2) \"No way.\" if the user enters Hawaii and less than 85,000 or New York and less than 100,000, for `location` and `pay`, respectively, or <br> \n",
    "(3) \"No thanks, I can find something better.\" if the `location` is anywhere else and the `pay` is less than 60,000.</div>"
   ]
  },
  {
   "cell_type": "code",
   "execution_count": 33,
   "metadata": {},
   "outputs": [
    {
     "name": "stdout",
     "output_type": "stream",
     "text": [
      "Enter location: ijg\n",
      "Enter pay: 50\n",
      "No thanks, I can find something better.\n"
     ]
    }
   ],
   "source": [
    "#TODO: Create prompts for the user to enter location and pay.\n",
    "location = input(\"Enter location: \")\n",
    "pay = int(input(\"Enter pay: \"))\n",
    "\n",
    "#TODO: Create a nested conditional statement to handle pay related to 'New York.'\n",
    "if location == \"New York\":\n",
    "    if pay < 100000:\n",
    "        print(\"No way.\")\n",
    "    else:\n",
    "        print(\"I'll take it!\")\n",
    "\n",
    "#TODO: Create a nested 'elif' statement to handle pay related to \"Hawaii.\"\n",
    "elif location == \"Hawaii\": \n",
    "    if pay < 85000:\n",
    "        print(\"No way.\")\n",
    "    else:\n",
    "        print(\"I'll take it!\")\n",
    "\n",
    "#TODO: Create another 'elif' statement to handle pay of at least 60,000 for all other locations.\n",
    "elif pay >= 60000:\n",
    "    print(\"I'll take it!\")\n",
    "\n",
    "#TODO: End the conditionals with the appropriate 'else' command for all other scenarios.\n",
    "else:\n",
    "    print(\"No thanks, I can find something better.\")\n"
   ]
  }
 ],
 "metadata": {
  "kernelspec": {
   "display_name": "Python 3",
   "language": "python",
   "name": "python3"
  },
  "language_info": {
   "codemirror_mode": {
    "name": "ipython",
    "version": 3
   },
   "file_extension": ".py",
   "mimetype": "text/x-python",
   "name": "python",
   "nbconvert_exporter": "python",
   "pygments_lexer": "ipython3",
   "version": "3.7.1"
  },
  "varInspector": {
   "cols": {
    "lenName": 16,
    "lenType": 16,
    "lenVar": 40
   },
   "kernels_config": {
    "python": {
     "delete_cmd_postfix": "",
     "delete_cmd_prefix": "del ",
     "library": "var_list.py",
     "varRefreshCmd": "print(var_dic_list())"
    },
    "r": {
     "delete_cmd_postfix": ") ",
     "delete_cmd_prefix": "rm(",
     "library": "var_list.r",
     "varRefreshCmd": "cat(var_dic_list()) "
    }
   },
   "types_to_exclude": [
    "module",
    "function",
    "builtin_function_or_method",
    "instance",
    "_Feature"
   ],
   "window_display": false
  }
 },
 "nbformat": 4,
 "nbformat_minor": 1
}
