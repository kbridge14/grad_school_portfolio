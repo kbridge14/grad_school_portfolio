{
 "cells": [
  {
   "cell_type": "markdown",
   "metadata": {},
   "source": [
    "# MSDS 430 Module 6 Python Assignment"
   ]
  },
  {
   "cell_type": "markdown",
   "metadata": {},
   "source": [
    "<div class=\"alert alert-block alert-warning\"> In this assignment you will complete the following exercises and submit your <b>notebook</b> and <b>html file</b> to Canvas. Your files should include all output, i.e. run each cell and save your file before submitting."
   ]
  },
  {
   "cell_type": "markdown",
   "metadata": {},
   "source": [
    "<div class=\"alert alert-block alert-info\">In this exercise you will work with TripAdvisor customer review data for the <b>Comfort Inn & Suites Seattle</b> hotel in Seattle, Washington. The data is stored in a JSON file. JSON is a popular language-independent data format derived from JavaScript. In fact, JSON stands for JavaScript Object Notation. The load method in the json module in Python can be used to parse a JSON file with result being a Python dictionary. Then by using dictionary methods we can extract the list of reviews for the hotel and then use String methods to get information from within the comments made by the users.</div>"
   ]
  },
  {
   "cell_type": "markdown",
   "metadata": {},
   "source": [
    "### Dictionaries and Dict Methods"
   ]
  },
  {
   "cell_type": "markdown",
   "metadata": {},
   "source": [
    "The hotel data we want to analyze is contained in the (json) file `hotel_reviews.json`. The data includes some information about the hotel, and a number of hotel reviews made by people who (we assume) stayed there. When we read the data into Python we will end up with a \"nested\" dictionary, i.e. a dictionary some of whose values are also (lists of) dictionaries. Before we examine the structure of this nested dictionary we need to talk a bit about dictionaries in general."
   ]
  },
  {
   "cell_type": "markdown",
   "metadata": {},
   "source": [
    "Dictionaries in Python are data structures that store key/value pairs. The keys have to be of an \"immutable\" type (such as numbers or strings) but the values can be various kinds of things, including lists, arrays, and other dictionaries. The keys need also to be unique: there can't be duplicates. Let us look at some examples."
   ]
  },
  {
   "cell_type": "code",
   "execution_count": 17,
   "metadata": {},
   "outputs": [
    {
     "data": {
      "text/plain": [
       "{1: 'one', 'two': 2, (1, 2): 'ordered pair'}"
      ]
     },
     "execution_count": 17,
     "metadata": {},
     "output_type": "execute_result"
    }
   ],
   "source": [
    "# A dictionary with different types of keys: 1, \"two\" and (1,2). \n",
    "# Here (1,2) is an example of a tuple.\n",
    "mixed_keys_dict = {1:\"one\", \"two\":2, (1,2):\"ordered pair\" }\n",
    "mixed_keys_dict"
   ]
  },
  {
   "cell_type": "code",
   "execution_count": 18,
   "metadata": {},
   "outputs": [
    {
     "data": {
      "text/plain": [
       "{'name': 'John Doe', 'age': 32, 'sex': 'M'}"
      ]
     },
     "execution_count": 18,
     "metadata": {},
     "output_type": "execute_result"
    }
   ],
   "source": [
    "#  Let us define a simple dictionary with String keys: \"name\", \"age\" and \"sex\":\n",
    "cust_dict = {\"name\":\"John Doe\",\"age\": 32, \"sex\": \"M\"}\n",
    "cust_dict"
   ]
  },
  {
   "cell_type": "markdown",
   "metadata": {},
   "source": [
    "The list of keys in a dictionary can be obtained by using the dictionary's `keys` method. Also, we can obtain the value of any key in the dictionary by \"bracketing\" the key. We could then use assignment to change the value of the key if we wished. For more on this, see __[Dictionary View Objects](https://docs.python.org/3/library/stdtypes.html#dictionary-view-objects)__"
   ]
  },
  {
   "cell_type": "code",
   "execution_count": 19,
   "metadata": {},
   "outputs": [
    {
     "data": {
      "text/plain": [
       "dict_keys(['name', 'age', 'sex'])"
      ]
     },
     "execution_count": 19,
     "metadata": {},
     "output_type": "execute_result"
    }
   ],
   "source": [
    "# Get the list of keys--actually a dict_keys object (views) in Python 3.x.\n",
    "cust_dict.keys()"
   ]
  },
  {
   "cell_type": "code",
   "execution_count": 20,
   "metadata": {},
   "outputs": [
    {
     "data": {
      "text/plain": [
       "'John Doe'"
      ]
     },
     "execution_count": 20,
     "metadata": {},
     "output_type": "execute_result"
    }
   ],
   "source": [
    "# Get the value associated with the \"name\" key\n",
    "cust_dict[\"name\"]"
   ]
  },
  {
   "cell_type": "code",
   "execution_count": 21,
   "metadata": {},
   "outputs": [],
   "source": [
    "# Change the value of the \"name\" key\n",
    "cust_dict[\"name\"] = \"John Doe Jr.\""
   ]
  },
  {
   "cell_type": "code",
   "execution_count": 22,
   "metadata": {},
   "outputs": [
    {
     "data": {
      "text/plain": [
       "{'name': 'John Doe Jr.', 'age': 32, 'sex': 'M'}"
      ]
     },
     "execution_count": 22,
     "metadata": {},
     "output_type": "execute_result"
    }
   ],
   "source": [
    "cust_dict"
   ]
  },
  {
   "cell_type": "code",
   "execution_count": 23,
   "metadata": {},
   "outputs": [
    {
     "ename": "KeyError",
     "evalue": "'height'",
     "output_type": "error",
     "traceback": [
      "\u001b[0;31m---------------------------------------------------------------------------\u001b[0m",
      "\u001b[0;31mKeyError\u001b[0m                                  Traceback (most recent call last)",
      "\u001b[0;32m<ipython-input-23-05466e7d9c07>\u001b[0m in \u001b[0;36m<module>\u001b[0;34m\u001b[0m\n\u001b[1;32m      1\u001b[0m \u001b[0;31m# What happens when you try to access a key that is not there?\u001b[0m\u001b[0;34m\u001b[0m\u001b[0;34m\u001b[0m\u001b[0;34m\u001b[0m\u001b[0m\n\u001b[0;32m----> 2\u001b[0;31m \u001b[0mcust_dict\u001b[0m\u001b[0;34m[\u001b[0m\u001b[0;34m'height'\u001b[0m\u001b[0;34m]\u001b[0m\u001b[0;34m\u001b[0m\u001b[0;34m\u001b[0m\u001b[0m\n\u001b[0m",
      "\u001b[0;31mKeyError\u001b[0m: 'height'"
     ]
    }
   ],
   "source": [
    "# What happens when you try to access a key that is not there?\n",
    "cust_dict['height']"
   ]
  },
  {
   "cell_type": "code",
   "execution_count": 24,
   "metadata": {},
   "outputs": [
    {
     "data": {
      "text/plain": [
       "'missing'"
      ]
     },
     "execution_count": 24,
     "metadata": {},
     "output_type": "execute_result"
    }
   ],
   "source": [
    "# A better way...\n",
    "cust_dict.get(\"height\", \"missing\")"
   ]
  },
  {
   "cell_type": "code",
   "execution_count": 25,
   "metadata": {},
   "outputs": [
    {
     "data": {
      "text/plain": [
       "'John Doe Jr.'"
      ]
     },
     "execution_count": 25,
     "metadata": {},
     "output_type": "execute_result"
    }
   ],
   "source": [
    "# If the key is there it will return its value...\n",
    "cust_dict.get(\"name\", \"missing\")"
   ]
  },
  {
   "cell_type": "markdown",
   "metadata": {},
   "source": [
    "We can also use assignment to add new key/value pairs to the dictionary. "
   ]
  },
  {
   "cell_type": "code",
   "execution_count": 26,
   "metadata": {},
   "outputs": [
    {
     "data": {
      "text/plain": [
       "{'name': 'John Doe Jr.', 'age': 32, 'sex': 'M', 'height': 6.0, 'weight': 200.5}"
      ]
     },
     "execution_count": 26,
     "metadata": {},
     "output_type": "execute_result"
    }
   ],
   "source": [
    "cust_dict['height'] = 6.0\n",
    "cust_dict['weight'] = 200.5\n",
    "cust_dict"
   ]
  },
  {
   "cell_type": "markdown",
   "metadata": {},
   "source": [
    "Note that we need to add keys to an *existing* dictionary even if the dictionary is empty to begin with..."
   ]
  },
  {
   "cell_type": "code",
   "execution_count": 27,
   "metadata": {},
   "outputs": [
    {
     "data": {
      "text/plain": [
       "{'market_name': 'Foods R Us'}"
      ]
     },
     "execution_count": 27,
     "metadata": {},
     "output_type": "execute_result"
    }
   ],
   "source": [
    "market_dict = {}  # create an empty dictionary\n",
    "market_dict['market_name'] = 'Foods R Us'\n",
    "market_dict"
   ]
  },
  {
   "cell_type": "markdown",
   "metadata": {},
   "source": [
    "Let us add a new key/value pair to `cust_dict`, where the key is `\"location\"` and the value of that key is another dictionary (with keys: `\"city\"`, `\"state\"` and `\"zip code\"`)."
   ]
  },
  {
   "cell_type": "code",
   "execution_count": 28,
   "metadata": {},
   "outputs": [
    {
     "data": {
      "text/plain": [
       "{'name': 'John Doe Jr.',\n",
       " 'age': 32,\n",
       " 'sex': 'M',\n",
       " 'height': 6.0,\n",
       " 'weight': 200.5,\n",
       " 'location': {'city': 'Miami', 'state': 'FL', 'zip code': 33165}}"
      ]
     },
     "execution_count": 28,
     "metadata": {},
     "output_type": "execute_result"
    }
   ],
   "source": [
    "# Example of a nested dictionary...\n",
    "location_dict = {\"city\":\"Miami\",\"state\":\"FL\",\"zip code\":33165}\n",
    "cust_dict[\"location\"]=location_dict\n",
    "cust_dict"
   ]
  },
  {
   "cell_type": "markdown",
   "metadata": {},
   "source": [
    "Note that the value of the `\"location\"` key is itself a dictionary and we can access its value by \"bracketing\" again."
   ]
  },
  {
   "cell_type": "code",
   "execution_count": 29,
   "metadata": {},
   "outputs": [
    {
     "data": {
      "text/plain": [
       "{'city': 'Miami', 'state': 'FL', 'zip code': 33165}"
      ]
     },
     "execution_count": 29,
     "metadata": {},
     "output_type": "execute_result"
    }
   ],
   "source": [
    "cust_dict['location']"
   ]
  },
  {
   "cell_type": "code",
   "execution_count": 30,
   "metadata": {},
   "outputs": [
    {
     "data": {
      "text/plain": [
       "'Miami'"
      ]
     },
     "execution_count": 30,
     "metadata": {},
     "output_type": "execute_result"
    }
   ],
   "source": [
    "cust_dict['location']['city']"
   ]
  },
  {
   "cell_type": "code",
   "execution_count": 31,
   "metadata": {},
   "outputs": [
    {
     "data": {
      "text/plain": [
       "33165"
      ]
     },
     "execution_count": 31,
     "metadata": {},
     "output_type": "execute_result"
    }
   ],
   "source": [
    "cust_dict['location']['zip code']"
   ]
  },
  {
   "cell_type": "markdown",
   "metadata": {},
   "source": [
    "<div class=\"alert alert-block alert-success\"><b>Problem 1 (2 pts.)</b>: Use Python code to add a key/value pair to the <b><i>market_dict</i></b> dictionary defined above. We want the key to be \"<b><i>fruits</i></b>\" and its corresponding value to be an \"inventory\" dictionary. This \"inventory\" dictionary should consist of fruit names as keys (i.e. <b><i>apples</i></b>, <b><i>oranges</i></b> and <b><i>pears</i></b>). The value of each key should be the number of such fruits being sold at the market. Assume that there are 123 apples, 98 oranges and 53 pears on sale. After adding this key/value pair to <b><i>market_dict</i></b>, display <b><i>market_dict[\"fruits\"]</i></b> to verify your work.</div>"
   ]
  },
  {
   "cell_type": "code",
   "execution_count": 0,
   "metadata": {},
   "outputs": [],
   "source": [
    "fruit_dict = {\"apples\":123,\"oranges\":98,\"pears\":53}\n",
    "# TO DO: Add a key/value pair to the dictionary where the key is \"fruits\" and the value fruit_dict\n",
    "\n",
    "\n",
    "# The following should display the three keys: 'apples', 'oranges' and 'pears'.\n",
    "print(market_dict['fruits'].keys())"
   ]
  },
  {
   "cell_type": "markdown",
   "metadata": {},
   "source": [
    "### Examining a JSON File"
   ]
  },
  {
   "cell_type": "markdown",
   "metadata": {},
   "source": [
    "Now it is time to turn our attention to our JSON file. We want to open and read `hotel_reviews.json` and save the data as a Python dictionary to the variable `hotel_data`. This is a two step process:\n",
    "\n",
    " 1. Use the open method to create a file object.\n",
    " 2. Pass the file object to `load` method in the `json` module. This method parses the contents of the file and returns a Python dictionary.\n",
    " \n",
    " But first we need to import the json module."
   ]
  },
  {
   "cell_type": "code",
   "execution_count": 33,
   "metadata": {},
   "outputs": [
    {
     "name": "stderr",
     "output_type": "stream",
     "text": [
      "WARNING: Some output was deleted.\n"
     ]
    }
   ],
   "source": [
    "import json\n",
    "with open('hotel_reviews.json') as json_data:\n",
    "    hotel_data = json.load(json_data,) \n",
    "hotel_data"
   ]
  },
  {
   "cell_type": "markdown",
   "metadata": {},
   "source": [
    "The structure of `hotel_data` is a bit complicated but it is divided into two parts: a **HotelInfo** \"section\" (i.e. the value of the `'HotelInfo'` key) and the **Reviews** \"section\" (the value of the `'Reviews'` key)."
   ]
  },
  {
   "cell_type": "code",
   "execution_count": 34,
   "metadata": {},
   "outputs": [
    {
     "data": {
      "text/plain": [
       "dict_keys(['Reviews', 'HotelInfo'])"
      ]
     },
     "execution_count": 34,
     "metadata": {},
     "output_type": "execute_result"
    }
   ],
   "source": [
    "hotel_data.keys()"
   ]
  },
  {
   "cell_type": "code",
   "execution_count": 35,
   "metadata": {},
   "outputs": [
    {
     "data": {
      "text/plain": [
       "{'Name': 'BEST WESTERN PLUS Pioneer Square Hotel',\n",
       " 'HotelURL': '/ShowUserReviews-g60878-d72572-Reviews-BEST_WESTERN_PLUS_Pioneer_Square_Hotel-Seattle_Washington.html',\n",
       " 'Price': '$117 - $189*',\n",
       " 'Address': '<address class=\"addressReset\"> <span rel=\"v:address\"> <span dir=\"ltr\"><span class=\"street-address\" property=\"v:street-address\">77 Yesler Way</span>, <span class=\"locality\"><span property=\"v:locality\">Seattle</span>, <span property=\"v:region\">WA</span> <span property=\"v:postal-code\">98104-2530</span></span> </span> </span> </address>',\n",
       " 'HotelID': '72572',\n",
       " 'ImgURL': 'http://media-cdn.tripadvisor.com/media/ProviderThumbnails/dirs/51/f5/51f5d5761c9d693626e59f8178be15442large.jpg'}"
      ]
     },
     "execution_count": 35,
     "metadata": {},
     "output_type": "execute_result"
    }
   ],
   "source": [
    "# The hotel information is stored in a dictionary.\n",
    "hotel_data['HotelInfo']"
   ]
  },
  {
   "cell_type": "code",
   "execution_count": 36,
   "metadata": {},
   "outputs": [
    {
     "name": "stderr",
     "output_type": "stream",
     "text": [
      "WARNING: Some output was deleted.\n"
     ]
    }
   ],
   "source": [
    "# The list of reviews with the data for each review also being stored in a dictionary.\n",
    "hotel_data['Reviews']"
   ]
  },
  {
   "cell_type": "markdown",
   "metadata": {},
   "source": [
    "The hotel information is stored in a dictionary (with keys such as `'HotelID'` and `'Address'`), while the reviews are stored in a list--a list of dictionaries, with each dictionary containing information about a particular review. Let us get the list of reviews and save them to the `reviews` variable for further analysis."
   ]
  },
  {
   "cell_type": "code",
   "execution_count": 37,
   "metadata": {},
   "outputs": [
    {
     "data": {
      "text/plain": [
       "list"
      ]
     },
     "execution_count": 37,
     "metadata": {},
     "output_type": "execute_result"
    }
   ],
   "source": [
    "reviews = hotel_data['Reviews'] # list of reviews\n",
    "type(reviews) # check that it is a list"
   ]
  },
  {
   "cell_type": "code",
   "execution_count": 38,
   "metadata": {},
   "outputs": [
    {
     "name": "stdout",
     "output_type": "stream",
     "text": [
      "There are 233 reviews altogether.\n"
     ]
    }
   ],
   "source": [
    "print(\"There are\",len(reviews),\"reviews altogether.\")"
   ]
  },
  {
   "cell_type": "code",
   "execution_count": 39,
   "metadata": {},
   "outputs": [
    {
     "data": {
      "text/plain": [
       "{'Ratings': {'Service': '4',\n",
       "  'Cleanliness': '5',\n",
       "  'Overall': '5.0',\n",
       "  'Value': '4',\n",
       "  'Sleep Quality': '4',\n",
       "  'Rooms': '5',\n",
       "  'Location': '5'},\n",
       " 'AuthorLocation': 'Boston',\n",
       " 'Title': '“Excellent Hotel & Location”',\n",
       " 'Author': 'gowharr32',\n",
       " 'ReviewID': 'UR126946257',\n",
       " 'Content': 'We enjoyed the Best Western Pioneer Square. My husband and I had a room with a king bed and it was clean, quiet, and attractive. Our sons were in a room with twin beds. Their room was in the corner on the main street and they said it was a little noisier and the neon light shone in. But later hotels on the trip made them appreciate this one more. We loved the old wood center staircase. Breakfast was included and everyone was happy with waffles, toast, cereal, and an egg meal. Location was great. We could walk to shops and restaurants as well as transportation. Pike Market was a reasonable walk. We enjoyed the nearby Gold Rush Museum. Very, very happy with our stay. Staff was helpful and knowledgeable.',\n",
       " 'Date': 'March 29, 2012'}"
      ]
     },
     "execution_count": 39,
     "metadata": {},
     "output_type": "execute_result"
    }
   ],
   "source": [
    "# display first review\n",
    "first_review = reviews[0] \n",
    "first_review"
   ]
  },
  {
   "cell_type": "code",
   "execution_count": 40,
   "metadata": {},
   "outputs": [
    {
     "name": "stdout",
     "output_type": "stream",
     "text": [
      "The first review's author is gowharr32\n"
     ]
    }
   ],
   "source": [
    "print(\"The first review's author is\", first_review['Author'])"
   ]
  },
  {
   "cell_type": "code",
   "execution_count": 41,
   "metadata": {},
   "outputs": [
    {
     "name": "stdout",
     "output_type": "stream",
     "text": [
      "gowharr32 made the following comments: \n",
      "\n",
      "We enjoyed the Best Western Pioneer Square. My husband and I had a room with a king bed and it was clean, quiet, and attractive. Our sons were in a room with twin beds. Their room was in the corner on the main street and they said it was a little noisier and the neon light shone in. But later hotels on the trip made them appreciate this one more. We loved the old wood center staircase. Breakfast was included and everyone was happy with waffles, toast, cereal, and an egg meal. Location was great. We could walk to shops and restaurants as well as transportation. Pike Market was a reasonable walk. We enjoyed the nearby Gold Rush Museum. Very, very happy with our stay. Staff was helpful and knowledgeable.\n"
     ]
    }
   ],
   "source": [
    "print(first_review['Author'],\"made the following comments:\",'\\n')\n",
    "print(first_review['Content'])"
   ]
  },
  {
   "cell_type": "markdown",
   "metadata": {},
   "source": [
    "### Creating a List"
   ]
  },
  {
   "cell_type": "markdown",
   "metadata": {},
   "source": [
    "We want to create a list with just the comments (strings). We do this by iterating over the list of reviews..."
   ]
  },
  {
   "cell_type": "code",
   "execution_count": 42,
   "metadata": {},
   "outputs": [],
   "source": [
    "comment_lst = []  # will contain the review strings\n",
    "for review in reviews:\n",
    "    comment_lst.append(review['Content'])"
   ]
  },
  {
   "cell_type": "code",
   "execution_count": 43,
   "metadata": {},
   "outputs": [
    {
     "data": {
      "text/plain": [
       "233"
      ]
     },
     "execution_count": 43,
     "metadata": {},
     "output_type": "execute_result"
    }
   ],
   "source": [
    "len(comment_lst) # contains 233 comments--one for each reviewer"
   ]
  },
  {
   "cell_type": "code",
   "execution_count": 44,
   "metadata": {},
   "outputs": [
    {
     "name": "stdout",
     "output_type": "stream",
     "text": [
      "The first comment in the comment list is: \n",
      "\n",
      "We enjoyed the Best Western Pioneer Square. My husband and I had a room with a king bed and it was clean, quiet, and attractive. Our sons were in a room with twin beds. Their room was in the corner on the main street and they said it was a little noisier and the neon light shone in. But later hotels on the trip made them appreciate this one more. We loved the old wood center staircase. Breakfast was included and everyone was happy with waffles, toast, cereal, and an egg meal. Location was great. We could walk to shops and restaurants as well as transportation. Pike Market was a reasonable walk. We enjoyed the nearby Gold Rush Museum. Very, very happy with our stay. Staff was helpful and knowledgeable.\n"
     ]
    }
   ],
   "source": [
    "first_comment=comment_lst[0]\n",
    "print(\"The first comment in the comment list is:\",'\\n')\n",
    "print(first_comment)"
   ]
  },
  {
   "cell_type": "markdown",
   "metadata": {},
   "source": [
    "### String Methods"
   ]
  },
  {
   "cell_type": "markdown",
   "metadata": {},
   "source": [
    "We we want to iterate over the list of comments and obtain information about the comments made by the reviewers. Since each of the comments is a String object, we are going to need some String methods to extract the information. See, for example, __[String Methods](https://www.w3schools.com/python/python_ref_string.asp)__. Let us illustrate some of the listed methods with the comments from the first reviewer."
   ]
  },
  {
   "cell_type": "code",
   "execution_count": 45,
   "metadata": {},
   "outputs": [
    {
     "data": {
      "text/plain": [
       "'we enjoyed the best western pioneer square. my husband and i had a room with a king bed and it was clean, quiet, and attractive. our sons were in a room with twin beds. their room was in the corner on the main street and they said it was a little noisier and the neon light shone in. but later hotels on the trip made them appreciate this one more. we loved the old wood center staircase. breakfast was included and everyone was happy with waffles, toast, cereal, and an egg meal. location was great. we could walk to shops and restaurants as well as transportation. pike market was a reasonable walk. we enjoyed the nearby gold rush museum. very, very happy with our stay. staff was helpful and knowledgeable.'"
      ]
     },
     "execution_count": 45,
     "metadata": {},
     "output_type": "execute_result"
    }
   ],
   "source": [
    "# Create a new string with all characters made lower case..\n",
    "first_comment.lower()"
   ]
  },
  {
   "cell_type": "code",
   "execution_count": 46,
   "metadata": {},
   "outputs": [
    {
     "data": {
      "text/plain": [
       "2"
      ]
     },
     "execution_count": 46,
     "metadata": {},
     "output_type": "execute_result"
    }
   ],
   "source": [
    "# Find how many times the string \"we\" is mentioned in the comments.\n",
    "first_comment.count(\"we\")"
   ]
  },
  {
   "cell_type": "code",
   "execution_count": 47,
   "metadata": {},
   "outputs": [
    {
     "data": {
      "text/plain": [
       "7"
      ]
     },
     "execution_count": 47,
     "metadata": {},
     "output_type": "execute_result"
    }
   ],
   "source": [
    "# If we wanted a \"case-insensitive\" search of instances of \"we\", we can do this...\n",
    "first_comment.lower().count(\"we\")  # include \"We\" as well"
   ]
  },
  {
   "cell_type": "markdown",
   "metadata": {},
   "source": [
    "<div class=\"alert alert-block alert-success\"><b>Problem 2 (4 pts.)</b>: Complete the loop below to display the number of times \"bathroom\" is contained within the text of the reviews for this hotel. Your output should look like this:</div>\n",
    "\n",
    "`The word 'bathroom' occurs 29 times in the reviews for this hotel.`"
   ]
  },
  {
   "cell_type": "code",
   "execution_count": 0,
   "metadata": {},
   "outputs": [],
   "source": [
    "counter = 0\n",
    "for review in comment_lst:\n",
    "    # To Do: Insert code in the for loop body to determine the number of times \"bathroom\" appears \n",
    "    # in the current review and increment the counter variable accordingly.\n",
    "\n",
    "        \n",
    "# Print using an f-string\n",
    "print(f\"The word 'bathroom' occurs {counter} times in the reviews for this hotel.\")"
   ]
  },
  {
   "cell_type": "markdown",
   "metadata": {},
   "source": [
    "<div class=\"alert alert-block alert-success\"><b>Problem 3 (5 pts.)</b>: Print the number of \"wordy\" comments. A comment is considered \"wordy\" if it contains more than 100 words. For example, \"We stayed here and we liked it\" contains 7 words. Your output should look like this:</div>\n",
    "\n",
    "`There are 128 wordy comments.`"
   ]
  },
  {
   "cell_type": "code",
   "execution_count": 0,
   "metadata": {},
   "outputs": [],
   "source": [
    "counter = 0\n",
    "for review in comment_lst:\n",
    "    # TO DO: Insert code in the for loop body to get the number of \"wordy\" comments.\n",
    " \n",
    "\n",
    "\n",
    "# Print the number of word comments.\n",
    "print(f'There are {counter} wordy comments.')"
   ]
  },
  {
   "cell_type": "markdown",
   "metadata": {},
   "source": [
    "We want to iterate over the `reviews` dictionary again this time saving with name of the reviewer together with the comments (in a dictionary)."
   ]
  },
  {
   "cell_type": "markdown",
   "metadata": {},
   "source": [
    "<div class=\"alert alert-block alert-success\"><b>Problem 4 (5 pts.)</b>: Create a list of dictionaries (<b><i>ar_dict</i></b>), where each dictionary has two keys: \"<b><i>Author</i></b>\" and \"<b><i>Comments</i></b>\", by iterating over the list of reviews and for each review constructing a dictionary containing the author's name and comments and then appending it to the list of dictionaries we are creating.</div>"
   ]
  },
  {
   "cell_type": "code",
   "execution_count": 0,
   "metadata": {},
   "outputs": [],
   "source": [
    "ar_lst = []\n",
    "for review in reviews:\n",
    "    # TO DO: (1) Create an empty dictionary, ar_dict.\n",
    "    #        (2) Add two key/value pairs containing the author and comments, respectively.\n",
    "    #        (3) Append this newly constructed dictionary, ar_dict, to the ar_lst list.\n",
    "\n",
    "    \n",
    "\n",
    "\n",
    "\n",
    "# Let us check that we have 233 elements in the ar_lst list.\n",
    "print(f'There are {len(ar_lst)} elements in the list.')\n"
   ]
  },
  {
   "cell_type": "code",
   "execution_count": 0,
   "metadata": {},
   "outputs": [],
   "source": [
    "# Let us display the data from the first dictionary in the list.\n",
    "\n",
    "first_review = ar_lst[0]\n",
    "print(f\"{first_review['Author']}, said this\",'\\n')\n",
    "#print(first_review['Author'],\"said this:\",'\\n')\n",
    "print(first_review['Comments'])"
   ]
  },
  {
   "cell_type": "raw",
   "metadata": {},
   "source": [
    "gowharr32, said this \n",
    "\n",
    "We enjoyed the Best Western Pioneer Square. My husband and I had a room with a king bed and it was clean, quiet, and attractive. Our sons were in a room with twin beds. Their room was in the corner on the main street and they said it was a little noisier and the neon light shone in. But later hotels on the trip made them appreciate this one more. We loved the old wood center staircase. Breakfast was included and everyone was happy with waffles, toast, cereal, and an egg meal. Location was great. We could walk to shops and restaurants as well as transportation. Pike Market was a reasonable walk. We enjoyed the nearby Gold Rush Museum. Very, very happy with our stay. Staff was helpful and knowledgeable."
   ]
  },
  {
   "cell_type": "markdown",
   "metadata": {},
   "source": [
    "### The Counter Module"
   ]
  },
  {
   "cell_type": "markdown",
   "metadata": {},
   "source": [
    "In the following the following exercise we want to count the number of *unique*, i.e. *unique*, words in each of the comments. We previous learned how to split a string into to create a list of words. We can write code from scratch to count the number of different words in the list. Alternatively, we can convert the list to another container data type that makes it easier to obtain this information. The `counter` module defines the `Counter` class. A `Counter` is basically a \"special type\" of dictionary. Given a list object `my_list` we can turn it into a counter object as follows: `Counter(my_list)`. This assume we already imported the class from the collections module: `from collections import Counter`. See __[Counter Module](http://rahmonov.me/posts/python-collections-counter/)__. "
   ]
  },
  {
   "cell_type": "markdown",
   "metadata": {},
   "source": [
    "For example,\n",
    "\n",
    "```python\n",
    "from collections import Counter\n",
    "my_list = ['a', 'b', 'c', 'c', 'a', 'd', 'b', 'e', 'a']\n",
    "Counter(my_list)\n",
    "```\n",
    "creates the Counter object:\n",
    "\n",
    "```python\n",
    "Counter({'a': 3, 'b': 2, 'c': 2, 'd': 1, 'e': 1})\n",
    "```\n",
    "\n",
    "This tells you that the letter `a` appears `3` times in the list, etc."
   ]
  },
  {
   "cell_type": "markdown",
   "metadata": {},
   "source": [
    "We can get the keys and values just like with dictionaries:\n",
    "\n",
    "```python\n",
    "list(Counter(my_list).keys())\n",
    "```\n",
    "\n",
    "returns\n",
    "\n",
    "```python\n",
    "['a', 'b', 'c', 'd', 'e']\n",
    "```\n",
    "\n",
    "and\n",
    "\n",
    "```python\n",
    "list(Counter(my_list).values())\n",
    "```\n",
    "\n",
    "returns\n",
    "\n",
    "```python\n",
    "[3, 2, 2, 1, 1]\n",
    "```"
   ]
  },
  {
   "cell_type": "markdown",
   "metadata": {},
   "source": [
    "<div class=\"alert alert-block alert-success\"><b>Problem 5 (4 pts.)</b>: Iterate over <b><i>ar_list</i></b> and print the name of each reviewer (author) and the total number of *different*, i.e. *unique*, words in his review. For example, \"We stayed here and we liked it\" contains 6 *unique* words since 'we' is repeated.</div>"
   ]
  },
  {
   "cell_type": "code",
   "execution_count": 0,
   "metadata": {},
   "outputs": [],
   "source": [
    "counter = 0\n",
    "from collections import Counter\n",
    "import re\n",
    "for review in ar_lst:\n",
    "    # TO DO: (1) Get the number of words in the current review variable.\n",
    "    #        (2) Print the author's name and the number of (unique) words in his review\n",
    "    #            the first line printed might look something like this: \n",
    "    #            Below are three approaches listed in increasing \"sophistication\"."
   ]
  },
  {
   "cell_type": "markdown",
   "metadata": {},
   "source": [
    "##### Three possible approaches..."
   ]
  },
  {
   "cell_type": "markdown",
   "metadata": {},
   "source": [
    "1) *Removing spaces between words and then counting uniques.*"
   ]
  },
  {
   "cell_type": "raw",
   "metadata": {},
   "source": [
    "gowharr32 used 91 unique words. \n",
    "Nancy W used 90 unique words. \n",
    "Janet H used 44 unique words. \n",
    "TimothyFlorida used 70 unique words. \n",
    "KarenArmstrong_BC used 111 unique words. \n",
    "Shane33333 used 51 unique words. \n",
    "Bnkruzn used 16 unique words.\n",
    "...."
   ]
  },
  {
   "cell_type": "markdown",
   "metadata": {},
   "source": [
    "2) *Converting to lower case, removing spaces and then counting uniques.*"
   ]
  },
  {
   "cell_type": "raw",
   "metadata": {},
   "source": [
    "gowharr32 used 90 unique words. \n",
    "Nancy W used 88 unique words. \n",
    "Janet H used 43 unique words. \n",
    "TimothyFlorida used 70 unique words. \n",
    "KarenArmstrong_BC used 107 unique words. \n",
    "Shane33333 used 51 unique words. \n",
    "Bnkruzn used 16 unique words.  \n",
    "..."
   ]
  },
  {
   "cell_type": "markdown",
   "metadata": {},
   "source": [
    "3) *Removing punctuation, converting to lower case, removing spaces and counting uniques.*"
   ]
  },
  {
   "cell_type": "raw",
   "metadata": {},
   "source": [
    "gowharr32 used 87 unique words. \n",
    "Nancy W used 84 unique words. \n",
    "Janet H used 44 unique words. \n",
    "TimothyFlorida used 68 unique words. \n",
    "KarenArmstrong_BC used 106 unique words. \n",
    "Shane33333 used 52 unique words. \n",
    "Bnkruzn used 15 unique words. \n",
    "..."
   ]
  },
  {
   "cell_type": "code",
   "execution_count": 0,
   "metadata": {},
   "outputs": [],
   "source": []
  }
 ],
 "metadata": {
  "kernelspec": {
   "display_name": "Python 3",
   "language": "python",
   "name": "python3"
  },
  "language_info": {
   "codemirror_mode": {
    "name": "ipython",
    "version": 3
   },
   "file_extension": ".py",
   "mimetype": "text/x-python",
   "name": "python",
   "nbconvert_exporter": "python",
   "pygments_lexer": "ipython3",
   "version": "3.7.4"
  },
  "varInspector": {
   "cols": {
    "lenName": 16,
    "lenType": 16,
    "lenVar": 40
   },
   "kernels_config": {
    "python": {
     "delete_cmd_postfix": "",
     "delete_cmd_prefix": "del ",
     "library": "var_list.py",
     "varRefreshCmd": "print(var_dic_list())"
    },
    "r": {
     "delete_cmd_postfix": ") ",
     "delete_cmd_prefix": "rm(",
     "library": "var_list.r",
     "varRefreshCmd": "cat(var_dic_list()) "
    }
   },
   "types_to_exclude": [
    "module",
    "function",
    "builtin_function_or_method",
    "instance",
    "_Feature"
   ],
   "window_display": false
  }
 },
 "nbformat": 4,
 "nbformat_minor": 1
}
