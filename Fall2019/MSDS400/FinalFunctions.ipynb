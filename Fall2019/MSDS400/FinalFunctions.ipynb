{
 "cells": [
  {
   "cell_type": "markdown",
   "metadata": {},
   "source": [
    "#### limit rules page 572\n",
    "\n",
    "#### derivatives review page 691\n",
    "\n",
    "#### integral rules page 868\n",
    "\n",
    "###### existance of derivative page 619\n",
    "\n",
    "##### power rule page 644\n",
    "\n",
    "##### product rule page 658\n",
    "\n",
    "##### quotient rule page 660\n",
    "\n",
    "##### chain rule 668-9\n",
    "\n",
    "##### exponential functions 675-6\n",
    "\n",
    "##### logs 684\n",
    "\n",
    "##### ugly ass logs 686##### "
   ]
  },
  {
   "cell_type": "markdown",
   "metadata": {},
   "source": [
    "### costs and revenue function algebra stuff"
   ]
  },
  {
   "cell_type": "markdown",
   "metadata": {},
   "source": [
    "costs = fixed + variable\n",
    "\n",
    "fixed = $2378\n",
    "\n",
    "variable = $1*x, where x is number of units\n",
    "\n",
    "costs = 2378 + 1*x\n",
    "\n",
    "revenues = profits - costs\n",
    "\n",
    "revenues = 0 at BE point\n",
    "\n",
    "profits = $3*x, where x is number of units\n",
    "\n",
    "0 = 3x - (2378 + 1x)"
   ]
  },
  {
   "cell_type": "code",
   "execution_count": 36,
   "metadata": {},
   "outputs": [
    {
     "name": "stdout",
     "output_type": "stream",
     "text": [
      "Breakeven point is 1189.0 number of units\n"
     ]
    }
   ],
   "source": [
    "# 0 = 3x - 2378 - x\n",
    "\n",
    "x = 2378/2\n",
    "print(\"Breakeven point is {} number of units.\".format(x))"
   ]
  },
  {
   "cell_type": "markdown",
   "metadata": {},
   "source": [
    "### correlation coefficient, plotting, slope, y-intercept and predicting y for some value of x"
   ]
  },
  {
   "cell_type": "code",
   "execution_count": 33,
   "metadata": {},
   "outputs": [
    {
     "name": "stdout",
     "output_type": "stream",
     "text": [
      "x: [1, 2, 3, 4, 5, 6, 7, 8, 9, 10]\n",
      "y: [0.3, 1.0, 1.3, 2.3, 3.1, 3.3, 3.3, 4.3, 4.8, 5.3]\n"
     ]
    }
   ],
   "source": [
    "import stats\n",
    "import matplotlib.pyplot as plt\n",
    "\n",
    "x = [i for i in range(1,11)]\n",
    "y = [0.3, 1.0, 1.3, 2.3, 3.1, 3.3, 3.3, 4.3, 4.8, 5.3]\n",
    "\n",
    "print(\"x: {}\\ny: {}\".format(x, y))"
   ]
  },
  {
   "cell_type": "code",
   "execution_count": 17,
   "metadata": {},
   "outputs": [
    {
     "data": {
      "image/png": "[encoded data removed]",
      "text/plain": [
       "<Figure size 432x288 with 1 Axes>"
      ]
     },
     "metadata": {
      "needs_background": "light"
     },
     "output_type": "display_data"
    }
   ],
   "source": [
    "plt.scatter(x, y)\n",
    "plt.xlabel(\"x\")\n",
    "plt.ylabel(\"y\")\n",
    "plt.title(\"x and y scatter\")\n",
    "plt.show()"
   ]
  },
  {
   "cell_type": "code",
   "execution_count": 18,
   "metadata": {},
   "outputs": [
    {
     "data": {
      "text/plain": [
       "0.989061164705913"
      ]
     },
     "execution_count": 18,
     "metadata": {},
     "output_type": "execute_result"
    }
   ],
   "source": [
    "stats.corr(x, y)"
   ]
  },
  {
   "cell_type": "code",
   "execution_count": 22,
   "metadata": {},
   "outputs": [
    {
     "name": "stdout",
     "output_type": "stream",
     "text": [
      "y-intercept: -0.09333333333333194\n",
      "slope: 0.544242424242424\n"
     ]
    }
   ],
   "source": [
    "b, a = stats.linr(x, y)\n",
    "print(\"y-intercept: {}\\nslope: {}\".format(b, a))"
   ]
  },
  {
   "cell_type": "code",
   "execution_count": 31,
   "metadata": {},
   "outputs": [
    {
     "name": "stdout",
     "output_type": "stream",
     "text": [
      "y when x=11: 5.85\n"
     ]
    }
   ],
   "source": [
    "# predict when x = 11\n",
    "slope = 0.54\n",
    "y_int = -0.09\n",
    "X = 11\n",
    "y = X*slope + y_int\n",
    "print(\"y when x=11: {}\".format(round(y, 2))) # assuming rounding to hundredths"
   ]
  },
  {
   "cell_type": "markdown",
   "metadata": {},
   "source": [
    "### Solving Linear Equalities (Gauss-Jordan method)\n",
    "#### Hint: \"is it possible to use all resources completely? If so , how many whatever should dude allot? Indicates ="
   ]
  },
  {
   "cell_type": "code",
   "execution_count": 1,
   "metadata": {
    "scrolled": true
   },
   "outputs": [
    {
     "name": "stdout",
     "output_type": "stream",
     "text": [
      "[  300.83308088 -1312.76582854  1007.88548925]\n"
     ]
    }
   ],
   "source": [
    "import numpy as np\n",
    "\n",
    "\"\"\"\n",
    "for matrix\n",
    "  HD   YO    L\n",
    " 140  150  190 | 36700 Ni\n",
    " 170   70   70 | 29800 Ph'ate\n",
    "4.97 4.45 4.65 | 340   Labor\n",
    "\n",
    "\"\"\"\n",
    "\n",
    "A = np.array([[140,150,190], [170,70,70], [4.97,4.45,4.65]])\n",
    "B = np.array([36700, 29800, 340])\n",
    "X = np.linalg.inv(A).dot(B)\n",
    "print(X)"
   ]
  },
  {
   "cell_type": "code",
   "execution_count": 2,
   "metadata": {},
   "outputs": [
    {
     "name": "stdout",
     "output_type": "stream",
     "text": [
      "[130.  60.  50.]\n"
     ]
    }
   ],
   "source": [
    "# since there is negative value, not Kosher.\n",
    "\n",
    "\"\"\"\n",
    "solution provided is for the following augmented matrix:\n",
    "\n",
    " 140  150  190 | 36700\n",
    " 170   70   70 | 29800\n",
    "4.97 4.45 4.65 | 1145.6\n",
    "\"\"\"\n",
    "\n",
    "A = np.array([[140,150,190], [170,70,70], [4.97,4.45,4.65]])\n",
    "B = np.array([36700, 29800, 1145.6])\n",
    "X = np.linalg.inv(A).dot(B)\n",
    "print(X)"
   ]
  },
  {
   "cell_type": "code",
   "execution_count": 2,
   "metadata": {},
   "outputs": [
    {
     "name": "stdout",
     "output_type": "stream",
     "text": [
      "[10. 13. 26.]\n"
     ]
    }
   ],
   "source": [
    "# final question\n",
    "\n",
    "# since there is negative value, not Kosher.\n",
    "\n",
    "\"\"\"\n",
    "solution provided is for the following augmented matrix:\n",
    "\n",
    " 140  150  190 | 36700\n",
    " 170   70   70 | 29800\n",
    "4.97 4.45 4.65 | 1145.6\n",
    "\"\"\"\n",
    "import numpy as np\n",
    "\n",
    "A = np.array([[119,136,86], [0,-2,1], [1,1,1]])\n",
    "B = np.array([5194,0,49])\n",
    "X = np.linalg.inv(A).dot(B)\n",
    "print(X)"
   ]
  },
  {
   "cell_type": "code",
   "execution_count": 3,
   "metadata": {},
   "outputs": [
    {
     "data": {
      "text/plain": [
       "'\\nFinal matrix:\\n\\n1 0 0 | 130\\n0 1 0 |  60\\n0 0 1 |  50\\n'"
      ]
     },
     "execution_count": 3,
     "metadata": {},
     "output_type": "execute_result"
    }
   ],
   "source": [
    "\"\"\"\n",
    "Final matrix:\n",
    "\n",
    "1 0 0 | 130\n",
    "0 1 0 |  60\n",
    "0 0 1 |  50\n",
    "\"\"\""
   ]
  },
  {
   "cell_type": "markdown",
   "metadata": {},
   "source": [
    "Farmer Kensington should allocate 130 acres for honeydew, 60 for yellow onions, and 50 for lettuce.\n",
    "\n",
    "Note: similar solution for basketball stadium questions"
   ]
  },
  {
   "cell_type": "markdown",
   "metadata": {},
   "source": [
    "### Maximization problem using simplex method"
   ]
  },
  {
   "cell_type": "code",
   "execution_count": 1,
   "metadata": {},
   "outputs": [
    {
     "data": {
      "text/plain": [
       "'\\nwhere x1 is nbr of hours biking, x2 is nbr hours jogging, x3 nbr hours swimming:\\nx1 + x2 + x3 <= 22\\nx3 <= 5\\nx2 <= x1 + x3\\n\\nmove all variables to left of eqn:\\nx1 + x2 + x3 <= 22\\nx3 <= 5\\n-x1 + x2 - x3 <= 0\\n\\nthen introduce 1 slack variable for each constraint... or nbr of eqns (3)\\n x1 + x2 + x3 + s1           = 22\\n-x1 + x2 - x3      + s2      =  0\\n           x3           + s3 =  5\\n\\nx1   x2   x3   s1   s2   s3   z   \\n 1    1    1    1    0    0   0   22\\n-1    1   -1    0    1    0   0    0\\n 0    0    1    0    0    1 \\n\\nobjective function is that which you want to minimize.\\nz = 200x1 + 658x2 + 292x3\\n'"
      ]
     },
     "execution_count": 1,
     "metadata": {},
     "output_type": "execute_result"
    }
   ],
   "source": [
    "\"\"\"\n",
    "objective function is that which you want to minimize (or maximize).\n",
    "z = 200x1 + 658x2 + 292x3\n",
    "\n",
    "where x1 is nbr of hours biking, x2 is nbr hours jogging, x3 nbr hours swimming:\n",
    "x1 + x2 + x3 <= 22\n",
    "x3 <= 5\n",
    "x2 <= x1 + x3\n",
    "\n",
    "move all variables to left of eqn:\n",
    "x1 + x2 + x3 <= 22\n",
    "x3 <= 5\n",
    "-x1 + x2 - x3 <= 0\n",
    "\n",
    "then introduce 1 slack variable for each constraint... or nbr of eqns (3)\n",
    " x1 + x2 + x3 + s1           = 22\n",
    "-x1 + x2 - x3      + s2      =  0\n",
    "           x3           + s3 =  5\n",
    "           \n",
    "written as a simplex tableau:\n",
    "\n",
    "  x1   x2   x3  s1   s2   s3   z   \n",
    "   1    1    1   1    0    0   0 | 22\n",
    "  -1    1   -1   0    1    0   0 |  0\n",
    "   0    0    1   0    0    1   0 |  5\n",
    "____________________________________\n",
    "\n",
    "-200 -658 -292   0    0    0   1 |  0\n",
    "\n",
    "\"\"\""
   ]
  },
  {
   "cell_type": "code",
   "execution_count": 11,
   "metadata": {},
   "outputs": [
    {
     "name": "stdout",
     "output_type": "stream",
     "text": [
      "Scipy Optimize Optimal value: 9897.999999398828 \n",
      "x1, x2, x3 : [ 6. 11.  5.]\n",
      "\n",
      "\n"
     ]
    }
   ],
   "source": [
    "from scipy.optimize import linprog\n",
    "\n",
    "# coefficients of objective function\n",
    "z = [-200, -658, -292] # minimization problems you call it w and they're all positive\n",
    "\n",
    "# coefficients of the left-hand side of the inequalities\n",
    "lhs = [[1, 1, 1], [-1, 1, -1], [0,0,1]]\n",
    "\n",
    "# coefficients of the right-hand side of the inequalities\n",
    "rhs = [22, 0, 5]\n",
    "\n",
    "# set the bounds for the variables (use y's for minimization problems)\n",
    "x1_bounds = (0, None)\n",
    "x2_bounds = (0, None)\n",
    "x3_bounds = (0, None)\n",
    "\n",
    "method='simplex'\n",
    "\n",
    "res = linprog(c=z, A_ub=lhs, b_ub=rhs,  bounds=(x1_bounds, x2_bounds, x3_bounds))\n",
    "\n",
    "# See scipy documentation for additional details about scipy.optimize.OptimizeResult \n",
    "# https://docs.scipy.org/doc/scipy-0.15.1/reference/generated/scipy.optimize.linprog.html\n",
    "\n",
    "# Print optimal values of x1, x2, x3 and x4 \n",
    "print('Scipy Optimize Optimal value:', -1*res.fun, '\\nx1, x2, x3 :', res.x) # don't multiply by -1 for min'z probs\n",
    "print('\\n')"
   ]
  },
  {
   "cell_type": "markdown",
   "metadata": {},
   "source": [
    "### Minimization problem using simplex method"
   ]
  },
  {
   "cell_type": "code",
   "execution_count": 39,
   "metadata": {},
   "outputs": [
    {
     "data": {
      "text/plain": [
       "\"\\nA company's lawn seed mixtures contain three types of seeds: bluegrass, rye, and Bermuda. \\nThe costs per pound of the three types are 9 cents, 11 cents, and 3 cents, respectively. \\nIn each batch there must be at least 25% bluegrass seed and the amount of rye must be at least\\ntwo-thirds the amount of Bermuda. To fill current orders the company must make at least 3000 \\npounds of the mixture. How much of each kind of seed should be used to minimize cost?\\n\\nwhere y1 is bluegrass, r is rye, and y3 is Bermuda:\\n\\nin dollars:\\nw = 0.09y1 + 0.11y2 + 0.03y3\\n\\nand:\\n3y1 - y2 -  y3 >= 0\\n\\n     3y2 - 2y3 >= 0\\n     \\n y1 + y2 +  y3 >= 3000\\n\""
      ]
     },
     "execution_count": 39,
     "metadata": {},
     "output_type": "execute_result"
    }
   ],
   "source": [
    "\"\"\"\n",
    "A company's lawn seed mixtures contain three types of seeds: bluegrass, rye, and Bermuda. \n",
    "The costs per pound of the three types are 9 cents, 11 cents, and 3 cents, respectively. \n",
    "In each batch there must be at least 25% bluegrass seed and the amount of rye must be at least\n",
    "two-thirds the amount of Bermuda. To fill current orders the company must make at least 3000 \n",
    "pounds of the mixture. How much of each kind of seed should be used to minimize cost?\n",
    "\n",
    "where y1 is bluegrass, y2 is rye, and y3 is Bermuda:\n",
    "\n",
    "in dollars:\n",
    "w = 0.09y1 + 0.11y2 + 0.03y3\n",
    "\n",
    "and:\n",
    "3y1 - y2 -  y3 >= 0\n",
    "\n",
    "     3y2 - 2y3 >= 0\n",
    "     \n",
    " y1 + y2 +  y3 >= 3000\n",
    "\"\"\""
   ]
  },
  {
   "cell_type": "code",
   "execution_count": 40,
   "metadata": {},
   "outputs": [
    {
     "name": "stdout",
     "output_type": "stream",
     "text": [
      "Scipy Optimize Optimal value: 207.000001\n",
      "y1, y2, y3: 750.000028, 899.999989, 1349.999983\n",
      "\n",
      "\n"
     ]
    }
   ],
   "source": [
    "from scipy.optimize import linprog\n",
    "\n",
    "w = [0.09, 0.11, 0.03] # leave these alone\n",
    "lhs = [[-3, 1, 1], [0, -3, 2], [-1, -1, -1]] # you like, make all these negative\n",
    "rhs = [0, 0, -3000] # these too\n",
    "y1_bounds = (0, None)\n",
    "y2_bounds = (0, None)\n",
    "y3_bounds = (0, None)\n",
    "\n",
    "res = linprog(c=w, A_ub=lhs, b_ub=rhs, \n",
    "bounds=(y1_bounds,y2_bounds, y3_bounds))\n",
    "y1, y2, y3 = res.x\n",
    "print('Scipy Optimize Optimal value: {:f}\\ny1, y2, y3: {:f}, {:f}, {:f}'.format(res.fun, y1, y2, y3))\n",
    "print('\\n')"
   ]
  },
  {
   "cell_type": "code",
   "execution_count": 3,
   "metadata": {},
   "outputs": [
    {
     "name": "stdout",
     "output_type": "stream",
     "text": [
      "Scipy Optimize Optimal value: 212.500000\n",
      "y1, y2: 2.500000, 2.750000\n",
      "\n",
      "\n"
     ]
    }
   ],
   "source": [
    "# final problem\n",
    "\n",
    "from scipy.optimize import linprog\n",
    "\n",
    "w = [30, 50] # leave these alone\n",
    "lhs = [[0, -3], [-3, -2], [-2, -4]] # you like, make all these negative\n",
    "rhs = [-6, -13, -16] # these too\n",
    "y1_bounds = (0, None)\n",
    "y2_bounds = (0, None)\n",
    "\n",
    "res = linprog(c=w, A_ub=lhs, b_ub=rhs, \n",
    "bounds=(y1_bounds,y2_bounds))\n",
    "y1, y2 = res.x\n",
    "print('Scipy Optimize Optimal value: {:f}\\ny1, y2: {:f}, {:f}'.format(res.fun, y1, y2))\n",
    "print('\\n')"
   ]
  },
  {
   "cell_type": "markdown",
   "metadata": {},
   "source": [
    "### Classic Bayes' Theorem problem\n",
    "\n",
    "#### A blood test indicates the presence of a particular disease 95​% of the time when the disease is actually present. The same test indicates the presence of the disease 0.6​% of the time when the disease is not present. Two percent of the population actually has the disease. Calculate the probability that a person has the​ disease, given that the test indicates the presence of the disease."
   ]
  },
  {
   "cell_type": "markdown",
   "metadata": {},
   "source": [
    "| | |\n",
    "|------------|:---------------------------------------|\n",
    "|P_a_given_b | person has disease, given test positive|\n",
    "|P_a | person has disease|\n",
    "|P_b | person tested positive|\n",
    "|P_b_given_a | person tested positive, given has disease|\n",
    "|P_not_a | person does not have disease|\n",
    "|P_b_given_not_a | person tested positive, given does not have disease|"
   ]
  },
  {
   "cell_type": "code",
   "execution_count": 62,
   "metadata": {},
   "outputs": [
    {
     "name": "stdout",
     "output_type": "stream",
     "text": [
      "0.95 --> person tested positive, given has disease\n",
      "0.006 --> person tested positive, given does not have disease\n",
      "0.02 --> person has disease\n",
      "person has disease, given tested positive ?\n"
     ]
    }
   ],
   "source": [
    "print(\"0.95 --> person tested positive, given has disease\")\n",
    "print(\"0.006 --> person tested positive, given does not have disease\")\n",
    "print(\"0.02 --> person has disease\")\n",
    "print(\"person has disease, given tested positive ?\")"
   ]
  },
  {
   "cell_type": "code",
   "execution_count": 61,
   "metadata": {},
   "outputs": [
    {
     "name": "stdout",
     "output_type": "stream",
     "text": [
      "P(A|B) = [P(A) * P(B|A)] / [P(A) * P(B|A) + P(not A) * P(B|not A)])\n"
     ]
    }
   ],
   "source": [
    "print(\"P(A|B) = [P(A) * P(B|A)] / [P(A) * P(B|A) + P(not A) * P(B|not A)])\")"
   ]
  },
  {
   "cell_type": "code",
   "execution_count": 63,
   "metadata": {},
   "outputs": [],
   "source": [
    "P_a = 0.02\n",
    "P_b_given_a = 0.95\n",
    "P_not_a = 1 - 0.02\n",
    "P_b_given_not_a = 0.006"
   ]
  },
  {
   "cell_type": "code",
   "execution_count": 64,
   "metadata": {},
   "outputs": [
    {
     "name": "stdout",
     "output_type": "stream",
     "text": [
      "0.7637\n"
     ]
    }
   ],
   "source": [
    "num = (P_a * P_b_given_a)\n",
    "denom = (num + P_not_a * P_b_given_not_a)\n",
    "P_a_given_b = num/denom\n",
    "\n",
    "print(round(P_a_given_b, 4))"
   ]
  },
  {
   "cell_type": "code",
   "execution_count": 4,
   "metadata": {},
   "outputs": [],
   "source": [
    "# final problem (1,2)\n",
    "P_B = 0.3\n",
    "P_damaged_given_B = 0.30\n",
    "P_A = 0.7\n",
    "P_damaged_given_A = 0.15"
   ]
  },
  {
   "cell_type": "code",
   "execution_count": 5,
   "metadata": {},
   "outputs": [
    {
     "name": "stdout",
     "output_type": "stream",
     "text": [
      "0.4615\n"
     ]
    }
   ],
   "source": [
    "# final problem (2,2)\n",
    "num = (P_B * P_damaged_given_B)\n",
    "denom = num + P_A * P_damaged_given_A\n",
    "P_B_given_damaged = num / denom\n",
    "\n",
    "print(round(P_B_given_damaged, 4))"
   ]
  },
  {
   "cell_type": "markdown",
   "metadata": {},
   "source": [
    "### here's another !!! but way gnarlier"
   ]
  },
  {
   "cell_type": "markdown",
   "metadata": {},
   "source": [
    "#### Suppose a box contains 5 red and 5 blue balls. A ball is selected at random and​ removed, without observing its color. The box now contains either 5 red and 4 blue balls or 4 red and 5 blue balls. Complete parts​ (a) through​ (c) below."
   ]
  },
  {
   "cell_type": "markdown",
   "metadata": {},
   "source": [
    "##### (a) Nate removes a ball at random from the​ box, observes its​ color, and puts the ball back. He performs this experiment a total of 6 ​times, and each time the ball is blue. What is the probability that a red ball was initially removed from the​ box? (Hint: Use​ Bayes' Theorem.)"
   ]
  },
  {
   "cell_type": "code",
   "execution_count": 74,
   "metadata": {},
   "outputs": [
    {
     "name": "stdout",
     "output_type": "stream",
     "text": [
      "P(A|B) = [P(A) * P(B|A)] / [P(A) * P(B|A) + P(A') * P(B|A')])\n",
      "where A & B are 2 seperate events;\n",
      "A = Red ball initially chosen\n",
      "B = Blue ball chosen 6 times\n"
     ]
    }
   ],
   "source": [
    "print(\"P(A|B) = [P(A) * P(B|A)] / [P(A) * P(B|A) + P(A') * P(B|A')])\")\n",
    "print(\"where A & B are 2 seperate events;\")\n",
    "print(\"A = Red ball initially chosen\")\n",
    "print(\"B = Blue ball chosen 6 times\")"
   ]
  },
  {
   "cell_type": "code",
   "execution_count": null,
   "metadata": {},
   "outputs": [],
   "source": [
    "P_a = 1/2\n",
    "P_a_prime = 1/2 # same as P_not_a "
   ]
  },
  {
   "cell_type": "markdown",
   "metadata": {},
   "source": [
    "P(B|A) is the probability of a blue ball chosen 6 times, given initial ball was red\n",
    "\n",
    "--> P(E) = n(E) / n(S)\n",
    "\n",
    "where n(E) is number ways blue ball can be chosen\n",
    "\n",
    "and n(S) is number of ways any ball can be chosen\n",
    "\n",
    "n(E) = 5\n",
    "\n",
    "n(S) = 9\n",
    "\n",
    "P(B|A) = (5/9)**6"
   ]
  },
  {
   "cell_type": "code",
   "execution_count": 93,
   "metadata": {},
   "outputs": [],
   "source": [
    "Nate_P_b_given_a = (5/9)**6"
   ]
  },
  {
   "cell_type": "markdown",
   "metadata": {},
   "source": [
    "P(B|A') is the probability of a blue ball chosen given initial ball was not red; initial ball was blue\n",
    "\n",
    "--> P(E) = n(E) / n(S)\n",
    "\n",
    "where n(E) is still number of ways blue ball can be chosen\n",
    "\n",
    "and n(S) is still number of ways any ball can be chosen\n",
    "\n",
    "but if the initial ball was blue, n(E) is now 4.\n",
    "\n",
    "P(B|A') = (4/9)**6"
   ]
  },
  {
   "cell_type": "code",
   "execution_count": 94,
   "metadata": {},
   "outputs": [],
   "source": [
    "Nate_P_b_given_a_prime = (4/9)**6"
   ]
  },
  {
   "cell_type": "code",
   "execution_count": 95,
   "metadata": {},
   "outputs": [
    {
     "name": "stdout",
     "output_type": "stream",
     "text": [
      "probability that a red ball was initially chosen from the box given that a blue ball was chosen 6 times is 0.7923\n"
     ]
    }
   ],
   "source": [
    "Nate_num = (P_a * Nate_P_b_given_a)\n",
    "Nate_denom = (num + P_a_prime * Nate_P_b_given_a_prime)\n",
    "Nate_P_a_given_b = Nate_num/Nate_denom\n",
    "\n",
    "print(\"probability that a red ball was initially chosen from the \"\\\n",
    "      \"box given that a blue ball was chosen 6 times is {}\".format(round(Nate_P_a_given_b, 4)))"
   ]
  },
  {
   "cell_type": "markdown",
   "metadata": {},
   "source": [
    "##### ​(b) Ray removes a ball at random from the​ box, observes its​ color, and puts the ball back. He performs this experiment a total 76 times. Out of​ these, the ball was blue 46 times and red 30 times. What is the probability that a red ball was initially removed from the​ box? Use the same method to find this probability."
   ]
  },
  {
   "cell_type": "markdown",
   "metadata": {},
   "source": [
    "it is still true that P(A) = 1/2 and P(A') = 1/2"
   ]
  },
  {
   "cell_type": "markdown",
   "metadata": {},
   "source": [
    "P(B|A) is probability that a blue ball was chosen 46 times and a red ball was chosen 30 times given that a red ball was chosen initially....is the product of the probabilities that a blue ball was chosen 46 times given that a red ball was chosen initially, and a red ball was chosen 30 times given that a red ball was chosen initially.\n",
    "\n",
    "Find the probability that a blue ball was chosen 46 times and a red ball was chosen 30 times given that a red ball was chosen initially. Complete the expression below.\n",
    "\n",
    "Probability that a blue ball was chosen 46 times given that a red ball was chosen initially = (5/9)**46\n",
    "\n",
    "Probability that a red ball was chosen 30 times given that a red ball was chosen initially = (4/9)**30"
   ]
  },
  {
   "cell_type": "code",
   "execution_count": 97,
   "metadata": {},
   "outputs": [],
   "source": [
    "Ray_P_b_given_a = ((5/9)**46) * ((4/9)**30)"
   ]
  },
  {
   "cell_type": "code",
   "execution_count": 98,
   "metadata": {},
   "outputs": [],
   "source": [
    "Ray_P_b_given_a_prime = ((4/9)**46) * ((5/9)**30)"
   ]
  },
  {
   "cell_type": "code",
   "execution_count": 100,
   "metadata": {},
   "outputs": [
    {
     "name": "stdout",
     "output_type": "stream",
     "text": [
      "probability that a red ball was initially chosen from the box given that a blue ball was chosen 46 out of 76 times is 0.9726\n"
     ]
    }
   ],
   "source": [
    "Ray_num = (P_a * Ray_P_b_given_a)\n",
    "Ray_denom = (Ray_num + P_a_prime * Ray_P_b_given_a_prime)\n",
    "Ray_P_a_given_b = Ray_num/Ray_denom\n",
    "\n",
    "print(\"probability that a red ball was initially chosen from the \"\\\n",
    "      \"box given that a blue ball was chosen 46 out of 76 times is {}\".format(round(Ray_P_a_given_b, 4)))"
   ]
  },
  {
   "cell_type": "markdown",
   "metadata": {},
   "source": [
    "Same thing as saying: therefore, the probability that a red ball was initially chosen from the box given that a blue ball was chosen 46 times and a red ball was chosen 30 times is 0.9726."
   ]
  },
  {
   "cell_type": "markdown",
   "metadata": {},
   "source": [
    "##### (C) Many people intuitively think that​ Nate's experiment gives more convincing evidence than​ Ray's experiment that a red ball was removed. Explain why this is wrong.\n",
    "\n",
    "Welp, first compare the experiments. The probability that a red ball was chosen initially was higher in Ray's or Nate's experiment? "
   ]
  },
  {
   "cell_type": "code",
   "execution_count": 101,
   "metadata": {},
   "outputs": [
    {
     "name": "stdout",
     "output_type": "stream",
     "text": [
      "Ray's\n"
     ]
    }
   ],
   "source": [
    "if Nate_P_a_given_b > Ray_P_a_given_b:\n",
    "    print(\"Nate's\")\n",
    "elif Ray_P_a_given_b > Nate_P_a_given_b:\n",
    "    print(\"Ray's\")"
   ]
  },
  {
   "cell_type": "markdown",
   "metadata": {},
   "source": [
    "Note that Ray also performed his experiment more times."
   ]
  },
  {
   "cell_type": "markdown",
   "metadata": {},
   "source": [
    "--> Even though Nate pulled the blue ball every​ time, Ray performed his experiment more​ times, making it more accurate and showing a higher probability that a red ball was chosen initially."
   ]
  },
  {
   "cell_type": "markdown",
   "metadata": {},
   "source": [
    "### The projected population of a certain ethnic​ group(in millions) can be approximated by ​p(t) = 37.85 (1.021)<sup>t</sup> where t=0 corresponds to 2000 and 0 <= t <= 50.\n",
    "##### a. Estimate the population of this group for the year 2010.\n",
    "##### b. What is the instantaneous rate of change of the population when t=10?"
   ]
  },
  {
   "cell_type": "code",
   "execution_count": 106,
   "metadata": {},
   "outputs": [
    {
     "name": "stdout",
     "output_type": "stream",
     "text": [
      "a. population in millions in 2010 est: 46.593\n"
     ]
    }
   ],
   "source": [
    "print(\"a. population in millions in 2010 est: {}\".format(round(37.85*(1.021)**(2010-2000), 3)))"
   ]
  },
  {
   "cell_type": "markdown",
   "metadata": {},
   "source": [
    "d/dx (a<sup>x</sup>) = ln(a)*a<sup>x</sup>\n",
    "\n",
    "d/dx (b*a<sup>x</sup>) = b*ln(a)*a<sup>x</sup>\n",
    "\n",
    "p'(t) = 37.85 * ln(1.021)*1.021a<sup>t</sup>"
   ]
  },
  {
   "cell_type": "code",
   "execution_count": 107,
   "metadata": {},
   "outputs": [
    {
     "name": "stdout",
     "output_type": "stream",
     "text": [
      "b. instantaneous rate of change of population when t = 10 : 0.968\n"
     ]
    }
   ],
   "source": [
    "from math import log\n",
    "from math import exp\n",
    "\n",
    "p_prime_of_10 = 37.85*log(1.021)*1.021**10\n",
    "print(\"b. instantaneous rate of change of population when t = 10 : {}\".format(round(p_prime_of_10, 3)))"
   ]
  },
  {
   "cell_type": "code",
   "execution_count": 109,
   "metadata": {},
   "outputs": [
    {
     "data": {
      "text/plain": [
       "20.99"
      ]
     },
     "execution_count": 109,
     "metadata": {},
     "output_type": "execute_result"
    }
   ],
   "source": [
    "round(30.36 - 5.82*log(5), 2)"
   ]
  },
  {
   "cell_type": "code",
   "execution_count": 114,
   "metadata": {},
   "outputs": [
    {
     "data": {
      "text/plain": [
       "-1.1640000000000001"
      ]
     },
     "execution_count": 114,
     "metadata": {},
     "output_type": "execute_result"
    }
   ],
   "source": [
    "-5.82/5"
   ]
  },
  {
   "cell_type": "code",
   "execution_count": 115,
   "metadata": {},
   "outputs": [
    {
     "data": {
      "text/plain": [
       "11.63"
      ]
     },
     "execution_count": 115,
     "metadata": {},
     "output_type": "execute_result"
    }
   ],
   "source": [
    "round(30.36 - 5.82*log(1990-1965), 2)"
   ]
  },
  {
   "cell_type": "code",
   "execution_count": 116,
   "metadata": {},
   "outputs": [
    {
     "data": {
      "text/plain": [
       "-0.2328"
      ]
     },
     "execution_count": 116,
     "metadata": {},
     "output_type": "execute_result"
    }
   ],
   "source": [
    "-5.82/(1990-1965)"
   ]
  },
  {
   "cell_type": "code",
   "execution_count": 117,
   "metadata": {},
   "outputs": [
    {
     "data": {
      "text/plain": [
       "8.21"
      ]
     },
     "execution_count": 117,
     "metadata": {},
     "output_type": "execute_result"
    }
   ],
   "source": [
    "round(30.36 - 5.82*log(2010-1965), 2)"
   ]
  },
  {
   "cell_type": "code",
   "execution_count": 119,
   "metadata": {},
   "outputs": [
    {
     "data": {
      "text/plain": [
       "-0.12933333333333333"
      ]
     },
     "execution_count": 119,
     "metadata": {},
     "output_type": "execute_result"
    }
   ],
   "source": [
    "-5.82/(2010-1965)"
   ]
  },
  {
   "cell_type": "markdown",
   "metadata": {},
   "source": [
    "#### The percent of concentration of a certain drug in the bloodstream x hours after the drug is administered is given by K(x)equalsStartFraction 4 x Over x squared plus 16 EndFraction\n",
    "\n",
    "##### a. Find the time at which the concentration is a maximum.\n",
    "##### b. Find the maximum concentration."
   ]
  },
  {
   "cell_type": "markdown",
   "metadata": {},
   "source": [
    "a. find the derivative, set = 0. make sense of it (use the higher number or if something cannot be negative then get rid of that guy)"
   ]
  },
  {
   "cell_type": "markdown",
   "metadata": {},
   "source": [
    "b. plug the answer from (a) into original f(x)."
   ]
  },
  {
   "cell_type": "markdown",
   "metadata": {},
   "source": [
    "<b> PAY ATTENTION TO UNITS </b>"
   ]
  },
  {
   "cell_type": "markdown",
   "metadata": {},
   "source": [
    "### Carpets\n",
    "#### A company sells square carpets for $7 per square foot. It has a simplified manufacturing process for which all the carpets each week must be the same​ size, and the length must be a multiple of a half foot. It has found that it can sell 200 carpets in a week when the carpets are 2 ft by 2 ​ft, the minimum size. Beyond​ this, for each additional foot of length and​ width, the number sold goes down by 6. What size carpets should the company sell to maximize its​ revenue? What is the maximum weekly​ revenue?"
   ]
  },
  {
   "cell_type": "markdown",
   "metadata": {},
   "source": [
    "##### $7 per sq ft.\n",
    "\n",
    "##### multiple of 1/2 foot\n",
    "\n",
    "##### 200 a week when size is 2x2 feet\n",
    "\n",
    "##### for each additional sq ft, nbr sold decreases by 6.\n",
    "\n",
    "R(X) = P(X)*N(X)\n",
    "\n",
    "P(X) = 7x<sup>2</sup>\n",
    "\n",
    "N(X) = (200 + 2 [because 2x2] * 6 because would dec. by 6) - 6x\n",
    "\n",
    "R(X) = (212 - 6x) * 7x<sup>2</sup>\n",
    "\n",
    "##### R(X) = 1484x<sup>2</sup> - 42x<sup>3</sup>"
   ]
  },
  {
   "cell_type": "code",
   "execution_count": 131,
   "metadata": {},
   "outputs": [
    {
     "name": "stdout",
     "output_type": "stream",
     "text": [
      "23.555555555555557\n"
     ]
    }
   ],
   "source": [
    "# R'(X) = 2968x - 126x^2\n",
    "# (x)(2968 - 126x) = 0\n",
    "# x = 0\n",
    "x = 2968/126\n",
    "\n",
    "print(x)"
   ]
  },
  {
   "cell_type": "code",
   "execution_count": 132,
   "metadata": {},
   "outputs": [
    {
     "name": "stdout",
     "output_type": "stream",
     "text": [
      "carpet size that maximizes revenue has a length of 23.5 ft\n"
     ]
    }
   ],
   "source": [
    "# we are closer to 23.5 than 24, so we use 23.5\n",
    "x = 23.5\n",
    "print(\"carpet size that maximizes revenue has a length of {} ft\".format(x))"
   ]
  },
  {
   "cell_type": "code",
   "execution_count": 133,
   "metadata": {},
   "outputs": [
    {
     "name": "stdout",
     "output_type": "stream",
     "text": [
      "revenue is 274468.25\n"
     ]
    }
   ],
   "source": [
    "rev = 1484*(x)**2 - 42*x**3\n",
    "print(\"revenue is {}\".format(round(rev, 2)))"
   ]
  },
  {
   "cell_type": "markdown",
   "metadata": {},
   "source": [
    "### cars\n",
    "#### Two cars start from rest at a traffic light and accelerate for several minutes. The graph shows their velocity​ (in feet per​ second) as a function of time​ (in seconds). Car A is the one that initially has greater velocity. Use the graph to answer parts a. through d. below.\n",
    "\n",
    "#### a. How far has car A traveled after 4.5 seconds? (Hint: Use formulas from​ geometry.)\n",
    "##### Hint: when y is the velocity and t is the speed, the distance travelled is the area under the curve.\n",
    "\n",
    "#### b. When is car A farthest ahead of car B?\n",
    "##### Hint: As long as car A has a greater velocity than car B, its lead increases. Once car​ B's velocity is equal to or greater than car​ A, the lead that car A had will no longer increase; it's when the two graphs intersect.\n",
    "\n",
    "#### c. Estimate the farthest that car A gets ahead of car B. For car A, use formulas from geometry. For car​ B, use n=3 and the value of the function at the midpoint of each interval.\n",
    "###### Hint: n is number of subintervals. We know car A has traveled 45 feet after 4.5 seconds. To find how far car B has​ traveled, divide the time between t=0 and t=4.5 into 3 subintervals. Each subinterval will be (4.5 - 0) / 3 = 1.5 seconds wide. Now you have 3 rectangles, each 1.5 units wide. height is...idk, just guess. Then Subtract the distance car B has traveled from the distance car A has traveled to find how far ahead car A is after 4.5 seconds. Say you get 22.8.\n",
    "\n",
    "--> The farthest ahead car A gets is approximately 45 - 22.8 = 22.2 feet ahead of car B.\n",
    "\n",
    "#### d. Make a rough estimate of when car B catches up with car A. To do this, compare the distance car A has traveled with how far car B has traveled after increasing amounts of time.\n",
    "##### Hint: throw some darts."
   ]
  },
  {
   "cell_type": "markdown",
   "metadata": {},
   "source": [
    "## integrals\n",
    "### An oil tanker is leaking oil at a rate given in barrels per hour by the function shown below, where t is the time in hours after the tanker hits a hidden rock (when t=0). Complete parts (a) through (c). <they give you L'(t)>\n",
    "\n",
    "#### (a) Find the total number of barrels that the ship will leak on the first day.\n",
    "##### Hint: take the integral of L'(t). it's not hard. look at the derivative rules. in this case, 24 goes on top of the squigley thing, 0 on the bottom. Then when you solve, it goes like, coeff * [expression with 24 in it - expression with 0 in it], since 24 was on the top.\n",
    "\n",
    "# double. check. your algebra. python is weird. it gets weird. check it like 4 times.\n",
    "\n",
    "#### (b) Find the total number of barrels that the ship will leak on the second day.\n",
    "##### Hint: the integral is the same, but with 24 on the bottom and 48 on top now.\n",
    "\n",
    "#### (c) What is happening over the long run to the amount of oil leaked per day?\n",
    "##### Hint: p obvious"
   ]
  },
  {
   "cell_type": "markdown",
   "metadata": {},
   "source": [
    "## predator and prey meet math\n",
    "\n",
    "### It is found that the time​ (in minutes) required by a predator to find a prey is a random variable that is exponentially distributed with mu=25.\n",
    "#### A.  According to this​ distribution, what is the longest time within which the predator will be 85​% certain of finding a​ prey?\n",
    "##### Hint: if If X is a random variable with probability density function\n",
    "f(x) = ae<sup>-ax</sup> for x in [0,infinity), then mu = 1/a and sigma = 1/a\n",
    "\n",
    "0.85 = integral x at top 0 bottom of (1/25)*e<sup>-t/25</sup>dt\n",
    "\n",
    "then do math, and x ~ 47.4 mins\n",
    "\n",
    "#### B.  What is the probability that the predator will have to spend more than 1 hour looking for a​ prey?\n",
    "\n",
    "P(T>60) = integral infinity at top 60 bottom of (1/25)e<sup>-(1/25)t</sup>dt\n",
    "\n",
    "do math. P(T>60) ~ 0.0907"
   ]
  },
  {
   "cell_type": "markdown",
   "metadata": {},
   "source": [
    "## Spanning trees and Kruskal's Algorithm:\n",
    "\n",
    "### K's alg says:\n",
    "#### 1. cheapest unused edge\n",
    "#### 2. find next cheapest unused edge UNLESS that creates a circuit\n",
    "#### 3. repeat\n",
    "\n",
    "### note: a circuit. like circle. don't overthink it.\n",
    "\n",
    "##### Hint: drawing helps"
   ]
  }
 ],
 "metadata": {
  "kernelspec": {
   "display_name": "Python 3",
   "language": "python",
   "name": "python3"
  },
  "language_info": {
   "codemirror_mode": {
    "name": "ipython",
    "version": 3
   },
   "file_extension": ".py",
   "mimetype": "text/x-python",
   "name": "python",
   "nbconvert_exporter": "python",
   "pygments_lexer": "ipython3",
   "version": "3.7.4"
  }
 },
 "nbformat": 4,
 "nbformat_minor": 2
}
